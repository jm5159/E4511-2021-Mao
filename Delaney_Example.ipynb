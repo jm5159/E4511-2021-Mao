{
  "nbformat": 4,
  "nbformat_minor": 0,
  "metadata": {
    "kernelspec": {
      "display_name": "Python 3",
      "language": "python",
      "name": "python3"
    },
    "language_info": {
      "codemirror_mode": {
        "name": "ipython",
        "version": 3
      },
      "file_extension": ".py",
      "mimetype": "text/x-python",
      "name": "python",
      "nbconvert_exporter": "python",
      "pygments_lexer": "ipython3",
      "version": "3.6.6"
    },
    "colab": {
      "name": "Delaney_Example.ipynb",
      "provenance": [],
      "collapsed_sections": [],
      "machine_shape": "hm",
      "include_colab_link": true
    },
    "accelerator": "GPU"
  },
  "cells": [
    {
      "cell_type": "markdown",
      "metadata": {
        "id": "view-in-github",
        "colab_type": "text"
      },
      "source": [
        "<a href=\"https://colab.research.google.com/github/jm5159/E4511-2021-Mao/blob/master/Delaney_Example.ipynb\" target=\"_parent\"><img src=\"https://colab.research.google.com/assets/colab-badge.svg\" alt=\"Open In Colab\"/></a>"
      ]
    },
    {
      "cell_type": "markdown",
      "metadata": {
        "id": "VQYLwMnVDT8l"
      },
      "source": [
        "<h1>Predicting Solubility Using AMPL</h1>\n",
        "\n",
        "The ATOM Modeling PipeLine (AMPL; https://github.com/ATOMconsortium/AMPL) is an open-source, modular, extensible software pipeline for building and sharing models to advance in silico drug discovery.\n",
        "\n",
        "**Warning: This is an experimental notebook**"
      ]
    },
    {
      "cell_type": "markdown",
      "metadata": {
        "id": "WlGjgLeOVk2w"
      },
      "source": [
        "# Goal: Predict solubility using the ATOM Modeling Pipeline (AMPL) on the public dataset\n",
        "\n",
        "In this notebook, we describe the following steps using AMPL:\n",
        "\n",
        "1.   Read a public dataset containing chemical structures and some properties\n",
        "1.   Curate the dataset \n",
        "2.   Fit a simple model\n",
        "3.   Predict solubility for withheld compounds\n",
        "\n",
        "\n",
        "## Set up\n",
        "We first import the AMPL modules for use in this notebook.\n",
        "\n",
        "The relevant AMPL modules for this example are listed below:\n",
        "\n",
        "|module|Description|\n",
        "|-|-|\n",
        "|`atomsci.ddm.pipeline.model_pipeline`|The model pipeline module is used to fit models and load models for prediction.|\n",
        "|`atomsci.ddm.pipeline.parameter_parser`|The parameter parser reads through pipeline options for the model pipeline.|\n",
        "|`atomsci.ddm.utils.curate_data`|The curate data module is used for data loading and pre-processing.|\n",
        "|`atomsci.ddm.utils.struct_utils`|The structure utilities module is used to process loaded structures.|\n",
        "|`atomsci.ddm.pipeline.perf_plots`|Perf plots contains a variety of plotting functions.|"
      ]
    },
    {
      "cell_type": "markdown",
      "metadata": {
        "id": "Q4ZFqjQVMVXL"
      },
      "source": [
        "## Install AMPL"
      ]
    },
    {
      "cell_type": "code",
      "metadata": {
        "id": "RgPw1t5PO-QC",
        "colab": {
          "base_uri": "https://localhost:8080/"
        },
        "outputId": "85d29d8e-76a7-49b9-c2de-7fa170563313"
      },
      "source": [
        "%tensorflow_version 1.x\n",
        "\n",
        "# get the Anaconda file \n",
        "! wget -c https://repo.anaconda.com/archive/Anaconda3-2019.10-Linux-x86_64.sh\n",
        "! chmod +x Anaconda3-2019.10-Linux-x86_64.sh\n",
        "! bash ./Anaconda3-2019.10-Linux-x86_64.sh -b -f -p /usr/local\n",
        "\n",
        "! time conda install -y -c deepchem -c rdkit -c conda-forge -c omnia deepchem-gpu=2.3.0\n",
        "\n",
        "import sys\n",
        "sys.path.append('/usr/local/lib/python3.7/site-packages/')\n",
        "import deepchem as dc\n",
        "\n",
        "# install mordred, bravado and molvs\n",
        "! time conda install -c conda-forge -y mordred bravado molvs\n",
        "\n",
        "# get the Install AMPL_GPU_test.sh\n",
        "!wget https://raw.githubusercontent.com/ravichas/AMPL-Tutorial/master/config/install_AMPL_GPU_test.sh\n",
        "\n",
        "# run the script to install AMPL\n",
        "! chmod u+x install_AMPL_GPU_test.sh\n",
        "! ./install_AMPL_GPU_test.sh"
      ],
      "execution_count": 2,
      "outputs": [
        {
          "output_type": "stream",
          "text": [
            "TensorFlow 1.x selected.\n",
            "--2021-03-25 17:29:08--  https://repo.anaconda.com/archive/Anaconda3-2019.10-Linux-x86_64.sh\n",
            "Resolving repo.anaconda.com (repo.anaconda.com)... 104.16.130.3, 104.16.131.3, 2606:4700::6810:8303, ...\n",
            "Connecting to repo.anaconda.com (repo.anaconda.com)|104.16.130.3|:443... connected.\n",
            "HTTP request sent, awaiting response... 416 Requested Range Not Satisfiable\n",
            "\n",
            "    The file is already fully retrieved; nothing to do.\n",
            "\n",
            "PREFIX=/usr/local\n",
            "Unpacking payload ...\n",
            "Collecting package metadata (current_repodata.json): - \b\b\\ \b\b| \b\b/ \b\b- \b\b\\ \b\b| \b\b/ \b\b- \b\b\\ \b\b| \b\b/ \b\b- \b\b\\ \b\b| \b\b/ \b\b- \b\b\\ \b\bdone\n",
            "Solving environment: / \b\b- \b\b\\ \b\b| \b\b/ \b\b- \b\b\\ \b\b| \b\b/ \b\b- \b\b\\ \b\b| \b\b/ \b\b- \b\b\\ \b\b| \b\b/ \b\b- \b\b\\ \b\b| \b\b/ \b\b- \b\b\\ \b\b| \b\b/ \b\b- \b\b\\ \b\b| \b\b/ \b\b- \b\b\\ \b\b| \b\b/ \b\b- \b\b\\ \b\b| \b\b/ \b\b- \b\b\\ \b\b| \b\b/ \b\b- \b\b\\ \b\b| \b\b/ \b\b- \b\b\\ \b\b| \b\b/ \b\b- \b\b\\ \b\b| \b\b/ \b\b- \b\b\\ \b\b| \b\b/ \b\b- \b\b\\ \b\b| \b\b/ \b\b- \b\b\\ \b\b| \b\b/ \b\b- \b\b\\ \b\b| \b\b/ \b\b- \b\b\\ \b\b| \b\b/ \b\b- \b\b\\ \b\b| \b\b/ \b\b- \b\b\\ \b\b| \b\b/ \b\b- \b\b\\ \b\b| \b\b/ \b\b- \b\b\\ \b\b| \b\b/ \b\b- \b\b\\ \b\b| \b\b/ \b\b- \b\b\\ \b\b| \b\b/ \b\b- \b\b\\ \b\b| \b\b/ \b\b- \b\b\\ \b\b| \b\b/ \b\b- \b\b\\ \b\b| \b\b/ \b\b- \b\b\\ \b\b| \b\b/ \b\b- \b\b\\ \b\b| \b\b/ \b\b- \b\b\\ \b\b| \b\b/ \b\b- \b\b\\ \b\b| \b\b/ \b\b- \b\b\\ \b\b| \b\b/ \b\b- \b\b\\ \b\b| \b\b/ \b\b- \b\bdone\n",
            "\n",
            "## Package Plan ##\n",
            "\n",
            "  environment location: /usr/local\n",
            "\n",
            "  added / updated specs:\n",
            "    - _ipyw_jlab_nb_ext_conf==0.1.0=py37_0\n",
            "    - _libgcc_mutex==0.1=main\n",
            "    - alabaster==0.7.12=py37_0\n",
            "    - anaconda-client==1.7.2=py37_0\n",
            "    - anaconda-navigator==1.9.7=py37_0\n",
            "    - anaconda-project==0.8.3=py_0\n",
            "    - anaconda==2019.10=py37_0\n",
            "    - asn1crypto==1.0.1=py37_0\n",
            "    - astroid==2.3.1=py37_0\n",
            "    - astropy==3.2.2=py37h7b6447c_0\n",
            "    - atomicwrites==1.3.0=py37_1\n",
            "    - attrs==19.2.0=py_0\n",
            "    - babel==2.7.0=py_0\n",
            "    - backcall==0.1.0=py37_0\n",
            "    - backports.functools_lru_cache==1.5=py_2\n",
            "    - backports.os==0.1.1=py37_0\n",
            "    - backports.shutil_get_terminal_size==1.0.0=py37_2\n",
            "    - backports.tempfile==1.0=py_1\n",
            "    - backports.weakref==1.0.post1=py_1\n",
            "    - backports==1.0=py_2\n",
            "    - beautifulsoup4==4.8.0=py37_0\n",
            "    - bitarray==1.0.1=py37h7b6447c_0\n",
            "    - bkcharts==0.2=py37_0\n",
            "    - blas==1.0=mkl\n",
            "    - bleach==3.1.0=py37_0\n",
            "    - blosc==1.16.3=hd408876_0\n",
            "    - bokeh==1.3.4=py37_0\n",
            "    - boto==2.49.0=py37_0\n",
            "    - bottleneck==1.2.1=py37h035aef0_1\n",
            "    - bzip2==1.0.8=h7b6447c_0\n",
            "    - ca-certificates==2019.8.28=0\n",
            "    - cairo==1.14.12=h8948797_3\n",
            "    - certifi==2019.9.11=py37_0\n",
            "    - cffi==1.12.3=py37h2e261b9_0\n",
            "    - chardet==3.0.4=py37_1003\n",
            "    - click==7.0=py37_0\n",
            "    - cloudpickle==1.2.2=py_0\n",
            "    - clyent==1.2.2=py37_1\n",
            "    - colorama==0.4.1=py37_0\n",
            "    - conda-build==3.18.9=py37_3\n",
            "    - conda-env==2.6.0=1\n",
            "    - conda-package-handling==1.6.0=py37h7b6447c_0\n",
            "    - conda-verify==3.4.2=py_1\n",
            "    - conda==4.7.12=py37_0\n",
            "    - contextlib2==0.6.0=py_0\n",
            "    - cryptography==2.7=py37h1ba5d50_0\n",
            "    - curl==7.65.3=hbc83047_0\n",
            "    - cycler==0.10.0=py37_0\n",
            "    - cython==0.29.13=py37he6710b0_0\n",
            "    - cytoolz==0.10.0=py37h7b6447c_0\n",
            "    - dask-core==2.5.2=py_0\n",
            "    - dask==2.5.2=py_0\n",
            "    - dbus==1.13.6=h746ee38_0\n",
            "    - decorator==4.4.0=py37_1\n",
            "    - defusedxml==0.6.0=py_0\n",
            "    - distributed==2.5.2=py_0\n",
            "    - docutils==0.15.2=py37_0\n",
            "    - entrypoints==0.3=py37_0\n",
            "    - et_xmlfile==1.0.1=py37_0\n",
            "    - expat==2.2.6=he6710b0_0\n",
            "    - fastcache==1.1.0=py37h7b6447c_0\n",
            "    - filelock==3.0.12=py_0\n",
            "    - flask==1.1.1=py_0\n",
            "    - fontconfig==2.13.0=h9420a91_0\n",
            "    - freetype==2.9.1=h8a8886c_1\n",
            "    - fribidi==1.0.5=h7b6447c_0\n",
            "    - fsspec==0.5.2=py_0\n",
            "    - future==0.17.1=py37_0\n",
            "    - get_terminal_size==1.0.0=haa9412d_0\n",
            "    - gevent==1.4.0=py37h7b6447c_0\n",
            "    - glib==2.56.2=hd408876_0\n",
            "    - glob2==0.7=py_0\n",
            "    - gmp==6.1.2=h6c8ec71_1\n",
            "    - gmpy2==2.0.8=py37h10f8cd9_2\n",
            "    - graphite2==1.3.13=h23475e2_0\n",
            "    - greenlet==0.4.15=py37h7b6447c_0\n",
            "    - gst-plugins-base==1.14.0=hbbd80ab_1\n",
            "    - gstreamer==1.14.0=hb453b48_1\n",
            "    - h5py==2.9.0=py37h7918eee_0\n",
            "    - harfbuzz==1.8.8=hffaf4a1_0\n",
            "    - hdf5==1.10.4=hb1b8bf9_0\n",
            "    - heapdict==1.0.1=py_0\n",
            "    - html5lib==1.0.1=py37_0\n",
            "    - icu==58.2=h9c2bf20_1\n",
            "    - idna==2.8=py37_0\n",
            "    - imageio==2.6.0=py37_0\n",
            "    - imagesize==1.1.0=py37_0\n",
            "    - importlib_metadata==0.23=py37_0\n",
            "    - intel-openmp==2019.4=243\n",
            "    - ipykernel==5.1.2=py37h39e3cac_0\n",
            "    - ipython==7.8.0=py37h39e3cac_0\n",
            "    - ipython_genutils==0.2.0=py37_0\n",
            "    - ipywidgets==7.5.1=py_0\n",
            "    - isort==4.3.21=py37_0\n",
            "    - itsdangerous==1.1.0=py37_0\n",
            "    - jbig==2.1=hdba287a_0\n",
            "    - jdcal==1.4.1=py_0\n",
            "    - jedi==0.15.1=py37_0\n",
            "    - jeepney==0.4.1=py_0\n",
            "    - jinja2==2.10.3=py_0\n",
            "    - joblib==0.13.2=py37_0\n",
            "    - jpeg==9b=h024ee3a_2\n",
            "    - json5==0.8.5=py_0\n",
            "    - jsonschema==3.0.2=py37_0\n",
            "    - jupyter==1.0.0=py37_7\n",
            "    - jupyter_client==5.3.3=py37_1\n",
            "    - jupyter_console==6.0.0=py37_0\n",
            "    - jupyter_core==4.5.0=py_0\n",
            "    - jupyterlab==1.1.4=pyhf63ae98_0\n",
            "    - jupyterlab_server==1.0.6=py_0\n",
            "    - keyring==18.0.0=py37_0\n",
            "    - kiwisolver==1.1.0=py37he6710b0_0\n",
            "    - krb5==1.16.1=h173b8e3_7\n",
            "    - lazy-object-proxy==1.4.2=py37h7b6447c_0\n",
            "    - libarchive==3.3.3=h5d8350f_5\n",
            "    - libcurl==7.65.3=h20c2e04_0\n",
            "    - libedit==3.1.20181209=hc058e9b_0\n",
            "    - libffi==3.2.1=hd88cf55_4\n",
            "    - libgcc-ng==9.1.0=hdf63c60_0\n",
            "    - libgfortran-ng==7.3.0=hdf63c60_0\n",
            "    - liblief==0.9.0=h7725739_2\n",
            "    - libpng==1.6.37=hbc83047_0\n",
            "    - libsodium==1.0.16=h1bed415_0\n",
            "    - libssh2==1.8.2=h1ba5d50_0\n",
            "    - libstdcxx-ng==9.1.0=hdf63c60_0\n",
            "    - libtiff==4.0.10=h2733197_2\n",
            "    - libtool==2.4.6=h7b6447c_5\n",
            "    - libuuid==1.0.3=h1bed415_2\n",
            "    - libxcb==1.13=h1bed415_1\n",
            "    - libxml2==2.9.9=hea5a465_1\n",
            "    - libxslt==1.1.33=h7d1a2b0_0\n",
            "    - llvmlite==0.29.0=py37hd408876_0\n",
            "    - locket==0.2.0=py37_1\n",
            "    - lxml==4.4.1=py37hefd8a0e_0\n",
            "    - lz4-c==1.8.1.2=h14c3975_0\n",
            "    - lzo==2.10=h49e0be7_2\n",
            "    - markupsafe==1.1.1=py37h7b6447c_0\n",
            "    - matplotlib==3.1.1=py37h5429711_0\n",
            "    - mccabe==0.6.1=py37_1\n",
            "    - mistune==0.8.4=py37h7b6447c_0\n",
            "    - mkl-service==2.3.0=py37he904b0f_0\n",
            "    - mkl==2019.4=243\n",
            "    - mkl_fft==1.0.14=py37ha843d7b_0\n",
            "    - mkl_random==1.1.0=py37hd6b4f25_0\n",
            "    - mock==3.0.5=py37_0\n",
            "    - more-itertools==7.2.0=py37_0\n",
            "    - mpc==1.1.0=h10f8cd9_1\n",
            "    - mpfr==4.0.1=hdf1c602_3\n",
            "    - mpmath==1.1.0=py37_0\n",
            "    - msgpack-python==0.6.1=py37hfd86e86_1\n",
            "    - multipledispatch==0.6.0=py37_0\n",
            "    - navigator-updater==0.2.1=py37_0\n",
            "    - nbconvert==5.6.0=py37_1\n",
            "    - nbformat==4.4.0=py37_0\n",
            "    - ncurses==6.1=he6710b0_1\n",
            "    - networkx==2.3=py_0\n",
            "    - nltk==3.4.5=py37_0\n",
            "    - nose==1.3.7=py37_2\n",
            "    - notebook==6.0.1=py37_0\n",
            "    - numba==0.45.1=py37h962f231_0\n",
            "    - numexpr==2.7.0=py37h9e4a6bb_0\n",
            "    - numpy-base==1.17.2=py37hde5b4d6_0\n",
            "    - numpy==1.17.2=py37haad9e8e_0\n",
            "    - numpydoc==0.9.1=py_0\n",
            "    - olefile==0.46=py37_0\n",
            "    - openpyxl==3.0.0=py_0\n",
            "    - openssl==1.1.1d=h7b6447c_2\n",
            "    - packaging==19.2=py_0\n",
            "    - pandas==0.25.1=py37he6710b0_0\n",
            "    - pandoc==2.2.3.2=0\n",
            "    - pandocfilters==1.4.2=py37_1\n",
            "    - pango==1.42.4=h049681c_0\n",
            "    - parso==0.5.1=py_0\n",
            "    - partd==1.0.0=py_0\n",
            "    - patchelf==0.9=he6710b0_3\n",
            "    - path.py==12.0.1=py_0\n",
            "    - pathlib2==2.3.5=py37_0\n",
            "    - patsy==0.5.1=py37_0\n",
            "    - pcre==8.43=he6710b0_0\n",
            "    - pep8==1.7.1=py37_0\n",
            "    - pexpect==4.7.0=py37_0\n",
            "    - pickleshare==0.7.5=py37_0\n",
            "    - pillow==6.2.0=py37h34e0f95_0\n",
            "    - pip==19.2.3=py37_0\n",
            "    - pixman==0.38.0=h7b6447c_0\n",
            "    - pkginfo==1.5.0.1=py37_0\n",
            "    - pluggy==0.13.0=py37_0\n",
            "    - ply==3.11=py37_0\n",
            "    - prometheus_client==0.7.1=py_0\n",
            "    - prompt_toolkit==2.0.10=py_0\n",
            "    - psutil==5.6.3=py37h7b6447c_0\n",
            "    - ptyprocess==0.6.0=py37_0\n",
            "    - py-lief==0.9.0=py37h7725739_2\n",
            "    - py==1.8.0=py37_0\n",
            "    - pycodestyle==2.5.0=py37_0\n",
            "    - pycosat==0.6.3=py37h14c3975_0\n",
            "    - pycparser==2.19=py37_0\n",
            "    - pycrypto==2.6.1=py37h14c3975_9\n",
            "    - pycurl==7.43.0.3=py37h1ba5d50_0\n",
            "    - pyflakes==2.1.1=py37_0\n",
            "    - pygments==2.4.2=py_0\n",
            "    - pylint==2.4.2=py37_0\n",
            "    - pyodbc==4.0.27=py37he6710b0_0\n",
            "    - pyopenssl==19.0.0=py37_0\n",
            "    - pyparsing==2.4.2=py_0\n",
            "    - pyqt==5.9.2=py37h05f1152_2\n",
            "    - pyrsistent==0.15.4=py37h7b6447c_0\n",
            "    - pysocks==1.7.1=py37_0\n",
            "    - pytables==3.5.2=py37h71ec239_1\n",
            "    - pytest-arraydiff==0.3=py37h39e3cac_0\n",
            "    - pytest-astropy==0.5.0=py37_0\n",
            "    - pytest-doctestplus==0.4.0=py_0\n",
            "    - pytest-openfiles==0.4.0=py_0\n",
            "    - pytest-remotedata==0.3.2=py37_0\n",
            "    - pytest==5.2.1=py37_0\n",
            "    - python-dateutil==2.8.0=py37_0\n",
            "    - python-libarchive-c==2.8=py37_13\n",
            "    - python==3.7.4=h265db76_1\n",
            "    - pytz==2019.3=py_0\n",
            "    - pywavelets==1.0.3=py37hdd07704_1\n",
            "    - pyyaml==5.1.2=py37h7b6447c_0\n",
            "    - pyzmq==18.1.0=py37he6710b0_0\n",
            "    - qt==5.9.7=h5867ecd_1\n",
            "    - qtawesome==0.6.0=py_0\n",
            "    - qtconsole==4.5.5=py_0\n",
            "    - qtpy==1.9.0=py_0\n",
            "    - readline==7.0=h7b6447c_5\n",
            "    - requests==2.22.0=py37_0\n",
            "    - ripgrep==0.10.0=hc07d326_0\n",
            "    - rope==0.14.0=py_0\n",
            "    - ruamel_yaml==0.15.46=py37h14c3975_0\n",
            "    - scikit-image==0.15.0=py37he6710b0_0\n",
            "    - scikit-learn==0.21.3=py37hd81dba3_0\n",
            "    - scipy==1.3.1=py37h7c811a0_0\n",
            "    - seaborn==0.9.0=py37_0\n",
            "    - secretstorage==3.1.1=py37_0\n",
            "    - send2trash==1.5.0=py37_0\n",
            "    - setuptools==41.4.0=py37_0\n",
            "    - simplegeneric==0.8.1=py37_2\n",
            "    - singledispatch==3.4.0.3=py37_0\n",
            "    - sip==4.19.8=py37hf484d3e_0\n",
            "    - six==1.12.0=py37_0\n",
            "    - snappy==1.1.7=hbae5bb6_3\n",
            "    - snowballstemmer==2.0.0=py_0\n",
            "    - sortedcollections==1.1.2=py37_0\n",
            "    - sortedcontainers==2.1.0=py37_0\n",
            "    - soupsieve==1.9.3=py37_0\n",
            "    - sphinx==2.2.0=py_0\n",
            "    - sphinxcontrib-applehelp==1.0.1=py_0\n",
            "    - sphinxcontrib-devhelp==1.0.1=py_0\n",
            "    - sphinxcontrib-htmlhelp==1.0.2=py_0\n",
            "    - sphinxcontrib-jsmath==1.0.1=py_0\n",
            "    - sphinxcontrib-qthelp==1.0.2=py_0\n",
            "    - sphinxcontrib-serializinghtml==1.1.3=py_0\n",
            "    - sphinxcontrib-websupport==1.1.2=py_0\n",
            "    - sphinxcontrib==1.0=py37_1\n",
            "    - spyder-kernels==0.5.2=py37_0\n",
            "    - spyder==3.3.6=py37_0\n",
            "    - sqlalchemy==1.3.9=py37h7b6447c_0\n",
            "    - sqlite==3.30.0=h7b6447c_0\n",
            "    - statsmodels==0.10.1=py37hdd07704_0\n",
            "    - sympy==1.4=py37_0\n",
            "    - tbb==2019.4=hfd86e86_0\n",
            "    - tblib==1.4.0=py_0\n",
            "    - terminado==0.8.2=py37_0\n",
            "    - testpath==0.4.2=py37_0\n",
            "    - tk==8.6.8=hbc83047_0\n",
            "    - toolz==0.10.0=py_0\n",
            "    - tornado==6.0.3=py37h7b6447c_0\n",
            "    - tqdm==4.36.1=py_0\n",
            "    - traitlets==4.3.3=py37_0\n",
            "    - unicodecsv==0.14.1=py37_0\n",
            "    - unixodbc==2.3.7=h14c3975_0\n",
            "    - urllib3==1.24.2=py37_0\n",
            "    - wcwidth==0.1.7=py37_0\n",
            "    - webencodings==0.5.1=py37_1\n",
            "    - werkzeug==0.16.0=py_0\n",
            "    - wheel==0.33.6=py37_0\n",
            "    - widgetsnbextension==3.5.1=py37_0\n",
            "    - wrapt==1.11.2=py37h7b6447c_0\n",
            "    - wurlitzer==1.0.3=py37_0\n",
            "    - xlrd==1.2.0=py37_0\n",
            "    - xlsxwriter==1.2.1=py_0\n",
            "    - xlwt==1.3.0=py37_0\n",
            "    - xz==5.2.4=h14c3975_4\n",
            "    - yaml==0.1.7=had09818_2\n",
            "    - zeromq==4.3.1=he6710b0_3\n",
            "    - zict==1.0.0=py_0\n",
            "    - zipp==0.6.0=py_0\n",
            "    - zlib==1.2.11=h7b6447c_3\n",
            "    - zstd==1.3.7=h0b5b093_0\n",
            "\n",
            "\n",
            "The following packages will be SUPERSEDED by a higher-priority channel:\n",
            "\n",
            "  certifi                                       conda-forge --> pkgs/main\n",
            "  conda              conda-forge::conda-4.9.2-py37h89c1867~ --> pkgs/main::conda-4.7.12-py37_0\n",
            "\n",
            "\n",
            "Preparing transaction: | \b\bdone\n",
            "Executing transaction: - \b\bdone\n",
            "installation finished.\n",
            "WARNING:\n",
            "    You currently have a PYTHONPATH environment variable set. This may cause\n",
            "    unexpected behavior when running the Python interpreter in Anaconda3.\n",
            "    For best results, please verify that your PYTHONPATH only points to\n",
            "    directories of packages that are compatible with the Python interpreter\n",
            "    in Anaconda3: /usr/local\n",
            "Collecting package metadata (current_repodata.json): - \b\b\\ \b\b| \b\b/ \b\b- \b\b\\ \b\b| \b\b/ \b\b- \b\b\\ \b\b| \b\b/ \b\b- \b\b\\ \b\b| \b\b/ \b\b- \b\b\\ \b\b| \b\b/ \b\b- \b\b\\ \b\b| \b\b/ \b\b- \b\b\\ \b\b| \b\b/ \b\b- \b\b\\ \b\b| \b\b/ \b\b- \b\b\\ \b\b| \b\b/ \b\b- \b\b\\ \b\b| \b\b/ \b\b- \b\b\\ \b\b| \b\b/ \b\b- \b\bdone\n",
            "Solving environment: | \b\b/ \b\b- \b\b\\ \b\b| \b\b/ \b\b- \b\b\\ \b\b| \b\b/ \b\b- \b\b\\ \b\b| \b\b/ \b\b- \b\b\\ \b\b| \b\b/ \b\b- \b\b\\ \b\b| \b\b/ \b\b- \b\b\\ \b\b| \b\b/ \b\b- \b\b\\ \b\b| \b\b/ \b\b- \b\b\\ \b\b| \b\b/ \b\b- \b\b\\ \b\b| \b\b/ \b\b- \b\b\\ \b\b| \b\b/ \b\b- \b\b\\ \b\b| \b\b/ \b\b- \b\b\\ \b\b| \b\b/ \b\b- \b\b\\ \b\b| \b\b/ \b\b- \b\b\\ \b\b| \b\b/ \b\bdone\n",
            "\n",
            "\n",
            "==> WARNING: A newer version of conda exists. <==\n",
            "  current version: 4.7.12\n",
            "  latest version: 4.9.2\n",
            "\n",
            "Please update conda by running\n",
            "\n",
            "    $ conda update -n base -c defaults conda\n",
            "\n",
            "\n",
            "\n",
            "## Package Plan ##\n",
            "\n",
            "  environment location: /usr/local\n",
            "\n",
            "  added / updated specs:\n",
            "    - deepchem-gpu=2.3.0\n",
            "\n",
            "\n",
            "The following packages will be UPDATED:\n",
            "\n",
            "  conda                      pkgs/main::conda-4.7.12-py37_0 --> conda-forge::conda-4.9.2-py37h89c1867_0\n",
            "\n",
            "\n",
            "Preparing transaction: \\ \b\bdone\n",
            "Verifying transaction: / \b\bdone\n",
            "Executing transaction: \\ \b\bdone\n",
            "\n",
            "real\t0m20.056s\n",
            "user\t0m17.927s\n",
            "sys\t0m2.166s\n"
          ],
          "name": "stdout"
        },
        {
          "output_type": "stream",
          "text": [
            "/usr/local/lib/python3.7/dist-packages/sklearn/externals/joblib/__init__.py:15: FutureWarning: sklearn.externals.joblib is deprecated in 0.21 and will be removed in 0.23. Please import this functionality directly from joblib, which can be installed with: pip install joblib. If this warning is raised when loading pickled models, you may need to re-serialize those models with scikit-learn 0.21+.\n",
            "  warnings.warn(msg, category=FutureWarning)\n"
          ],
          "name": "stderr"
        },
        {
          "output_type": "stream",
          "text": [
            "WARNING:tensorflow:\n",
            "The TensorFlow contrib module will not be included in TensorFlow 2.0.\n",
            "For more information, please see:\n",
            "  * https://github.com/tensorflow/community/blob/master/rfcs/20180907-contrib-sunset.md\n",
            "  * https://github.com/tensorflow/addons\n",
            "  * https://github.com/tensorflow/io (for I/O related ops)\n",
            "If you depend on functionality not listed there, please file an issue.\n",
            "\n",
            "Collecting package metadata (current_repodata.json): - \b\b\\ \b\b| \b\b/ \b\b- \b\b\\ \b\b| \b\b/ \b\b- \b\b\\ \b\b| \b\b/ \b\b- \b\b\\ \b\b| \b\b/ \b\b- \b\b\\ \b\b| \b\b/ \b\b- \b\b\\ \b\b| \b\b/ \b\b- \b\b\\ \b\b| \b\b/ \b\b- \b\b\\ \b\b| \b\b/ \b\bdone\n",
            "Solving environment: \\ \b\b| \b\b/ \b\b- \b\b\\ \b\b| \b\b/ \b\b- \b\b\\ \b\b| \b\b/ \b\b- \b\b\\ \b\b| \b\b/ \b\b- \b\b\\ \b\b| \b\b/ \b\b- \b\b\\ \b\b| \b\b/ \b\b- \b\b\\ \b\b| \b\b/ \b\b- \b\b\\ \b\b| \b\b/ \b\b- \b\b\\ \b\b| \b\b/ \b\b- \b\b\\ \b\b| \b\b/ \b\b- \b\b\\ \b\b| \b\b/ \b\b- \b\b\\ \b\b| \b\b/ \b\b- \b\b\\ \b\b| \b\b/ \b\b- \b\bdone\n",
            "\n",
            "# All requested packages already installed.\n",
            "\n",
            "\n",
            "real\t0m16.119s\n",
            "user\t0m14.880s\n",
            "sys\t0m1.268s\n",
            "--2021-03-25 17:31:34--  https://raw.githubusercontent.com/ravichas/AMPL-Tutorial/master/config/install_AMPL_GPU_test.sh\n",
            "Resolving raw.githubusercontent.com (raw.githubusercontent.com)... 185.199.108.133, 185.199.109.133, 185.199.110.133, ...\n",
            "Connecting to raw.githubusercontent.com (raw.githubusercontent.com)|185.199.108.133|:443... connected.\n",
            "HTTP request sent, awaiting response... 200 OK\n",
            "Length: 1100 (1.1K) [text/plain]\n",
            "Saving to: ‘install_AMPL_GPU_test.sh.1’\n",
            "\n",
            "install_AMPL_GPU_te 100%[===================>]   1.07K  --.-KB/s    in 0s      \n",
            "\n",
            "2021-03-25 17:31:35 (76.7 MB/s) - ‘install_AMPL_GPU_test.sh.1’ saved [1100/1100]\n",
            "\n",
            "mkdir: cannot create directory ‘github’: File exists\n",
            "fatal: destination path 'AMPL' already exists and is not an empty directory.\n",
            "M\tatomsci/ddm/__init__.py\n",
            "M\tatomsci/ddm/pipeline/transformations.py\n",
            "Already on 'pkg_upgrade'\n",
            "Your branch is up to date with 'origin/pkg_upgrade'.\n",
            "patching file /content/github/AMPL/atomsci/ddm/pipeline/transformations.py\n",
            "Reversed (or previously applied) patch detected!  Skipping patch.\n",
            "1 out of 1 hunk ignored -- saving rejects to file /content/github/AMPL/atomsci/ddm/pipeline/transformations.py.rej\n",
            "patching file /content/github/AMPL/atomsci/ddm/__init__.py\n",
            "Reversed (or previously applied) patch detected!  Skipping patch.\n",
            "1 out of 1 hunk ignored -- saving rejects to file /content/github/AMPL/atomsci/ddm/__init__.py.rej\n",
            "running build\n",
            "running build_py\n",
            "running egg_info\n",
            "writing /content/github/AMPL.build/ampl/atomsci_ampl.egg-info/PKG-INFO\n",
            "writing dependency_links to /content/github/AMPL.build/ampl/atomsci_ampl.egg-info/dependency_links.txt\n",
            "writing namespace_packages to /content/github/AMPL.build/ampl/atomsci_ampl.egg-info/namespace_packages.txt\n",
            "writing top-level names to /content/github/AMPL.build/ampl/atomsci_ampl.egg-info/top_level.txt\n",
            "reading manifest file '/content/github/AMPL.build/ampl/atomsci_ampl.egg-info/SOURCES.txt'\n",
            "reading manifest template 'MANIFEST.in'\n",
            "warning: no files found matching 'atomsci/*/*.yaml'\n",
            "writing manifest file '/content/github/AMPL.build/ampl/atomsci_ampl.egg-info/SOURCES.txt'\n",
            "running bdist_wheel\n",
            "installing to /content/github/AMPL.build/ampl/bdist.linux-x86_64/wheel\n",
            "running install\n",
            "running install_lib\n",
            "Skipping installation of /content/github/AMPL.build/ampl/bdist.linux-x86_64/wheel/atomsci/__init__.py (namespace package)\n",
            "copying atomsci/ddm/__init__.py -> /content/github/AMPL.build/ampl/bdist.linux-x86_64/wheel/atomsci/ddm\n",
            "copying atomsci/ddm/data/descriptor_sets_sources_by_descr_type.csv -> /content/github/AMPL.build/ampl/bdist.linux-x86_64/wheel/atomsci/ddm/data\n",
            "copying atomsci/ddm/utils/genTestset.py -> /content/github/AMPL.build/ampl/bdist.linux-x86_64/wheel/atomsci/ddm/utils\n",
            "copying atomsci/ddm/utils/__init__.py -> /content/github/AMPL.build/ampl/bdist.linux-x86_64/wheel/atomsci/ddm/utils\n",
            "copying atomsci/ddm/utils/pubchem_utils.py -> /content/github/AMPL.build/ampl/bdist.linux-x86_64/wheel/atomsci/ddm/utils\n",
            "copying atomsci/ddm/utils/data_curation_functions.py -> /content/github/AMPL.build/ampl/bdist.linux-x86_64/wheel/atomsci/ddm/utils\n",
            "copying atomsci/ddm/utils/llnl_utils.py -> /content/github/AMPL.build/ampl/bdist.linux-x86_64/wheel/atomsci/ddm/utils\n",
            "copying atomsci/ddm/utils/curate_data.py -> /content/github/AMPL.build/ampl/bdist.linux-x86_64/wheel/atomsci/ddm/utils\n",
            "copying atomsci/ddm/utils/process_slurm.py -> /content/github/AMPL.build/ampl/bdist.linux-x86_64/wheel/atomsci/ddm/utils\n",
            "copying atomsci/ddm/utils/open-docs.py -> /content/github/AMPL.build/ampl/bdist.linux-x86_64/wheel/atomsci/ddm/utils\n",
            "copying atomsci/ddm/utils/hyperparam_search_wrapper.py -> /content/github/AMPL.build/ampl/bdist.linux-x86_64/wheel/atomsci/ddm/utils\n",
            "copying atomsci/ddm/utils/rdkit_easy.py -> /content/github/AMPL.build/ampl/bdist.linux-x86_64/wheel/atomsci/ddm/utils\n",
            "copying atomsci/ddm/utils/datastore_functions.py -> /content/github/AMPL.build/ampl/bdist.linux-x86_64/wheel/atomsci/ddm/utils\n",
            "copying atomsci/ddm/utils/struct_utils.py -> /content/github/AMPL.build/ampl/bdist.linux-x86_64/wheel/atomsci/ddm/utils\n",
            "copying atomsci/ddm/pipeline/hyper_perf_plots.py -> /content/github/AMPL.build/ampl/bdist.linux-x86_64/wheel/atomsci/ddm/pipeline\n",
            "copying atomsci/ddm/pipeline/splitting.py -> /content/github/AMPL.build/ampl/bdist.linux-x86_64/wheel/atomsci/ddm/pipeline\n",
            "copying atomsci/ddm/pipeline/parameter_parser.py -> /content/github/AMPL.build/ampl/bdist.linux-x86_64/wheel/atomsci/ddm/pipeline\n",
            "copying atomsci/ddm/pipeline/ave_splitter.py -> /content/github/AMPL.build/ampl/bdist.linux-x86_64/wheel/atomsci/ddm/pipeline\n",
            "copying atomsci/ddm/pipeline/perf_plots.py -> /content/github/AMPL.build/ampl/bdist.linux-x86_64/wheel/atomsci/ddm/pipeline\n",
            "copying atomsci/ddm/pipeline/__init__.py -> /content/github/AMPL.build/ampl/bdist.linux-x86_64/wheel/atomsci/ddm/pipeline\n",
            "copying atomsci/ddm/pipeline/perf_data.py -> /content/github/AMPL.build/ampl/bdist.linux-x86_64/wheel/atomsci/ddm/pipeline\n",
            "copying atomsci/ddm/pipeline/model_pipeline.py -> /content/github/AMPL.build/ampl/bdist.linux-x86_64/wheel/atomsci/ddm/pipeline\n",
            "copying atomsci/ddm/pipeline/dist_metrics.py -> /content/github/AMPL.build/ampl/bdist.linux-x86_64/wheel/atomsci/ddm/pipeline\n",
            "copying atomsci/ddm/pipeline/temporal_splitter.py -> /content/github/AMPL.build/ampl/bdist.linux-x86_64/wheel/atomsci/ddm/pipeline\n",
            "copying atomsci/ddm/pipeline/model_tracker.py -> /content/github/AMPL.build/ampl/bdist.linux-x86_64/wheel/atomsci/ddm/pipeline\n",
            "copying atomsci/ddm/pipeline/predict_from_model.py -> /content/github/AMPL.build/ampl/bdist.linux-x86_64/wheel/atomsci/ddm/pipeline\n",
            "copying atomsci/ddm/pipeline/compare_models.py -> /content/github/AMPL.build/ampl/bdist.linux-x86_64/wheel/atomsci/ddm/pipeline\n",
            "copying atomsci/ddm/pipeline/model_datasets.py -> /content/github/AMPL.build/ampl/bdist.linux-x86_64/wheel/atomsci/ddm/pipeline\n",
            "copying atomsci/ddm/pipeline/chem_diversity.py -> /content/github/AMPL.build/ampl/bdist.linux-x86_64/wheel/atomsci/ddm/pipeline\n",
            "copying atomsci/ddm/pipeline/model_wrapper.py -> /content/github/AMPL.build/ampl/bdist.linux-x86_64/wheel/atomsci/ddm/pipeline\n",
            "copying atomsci/ddm/pipeline/diversity_plots.py -> /content/github/AMPL.build/ampl/bdist.linux-x86_64/wheel/atomsci/ddm/pipeline\n",
            "copying atomsci/ddm/pipeline/featurization.py -> /content/github/AMPL.build/ampl/bdist.linux-x86_64/wheel/atomsci/ddm/pipeline\n",
            "copying atomsci/ddm/pipeline/transformations.py -> /content/github/AMPL.build/ampl/bdist.linux-x86_64/wheel/atomsci/ddm/pipeline\n",
            "running install_egg_info\n",
            "Copying /content/github/AMPL.build/ampl/atomsci_ampl.egg-info to /content/github/AMPL.build/ampl/bdist.linux-x86_64/wheel/atomsci_ampl-1.0.0.dev1-py3.7.egg-info\n",
            "Installing /content/github/AMPL.build/ampl/bdist.linux-x86_64/wheel/atomsci_ampl-1.0.0.dev1-py3.7-nspkg.pth\n",
            "running install_scripts\n",
            "adding license file \"LICENSE\" (matched pattern \"LICEN[CS]E*\")\n",
            "adding license file \"NOTICE\" (matched pattern \"NOTICE*\")\n",
            "creating /content/github/AMPL.build/ampl/bdist.linux-x86_64/wheel/atomsci_ampl-1.0.0.dev1.dist-info/WHEEL\n",
            "creating '/content/github/AMPL.dist/atomsci_ampl-1.0.0.dev1-py3-none-any.whl' and adding '/content/github/AMPL.build/ampl/bdist.linux-x86_64/wheel' to it\n",
            "adding 'atomsci_ampl-1.0.0.dev1-py3.7-nspkg.pth'\n",
            "adding 'atomsci/ddm/__init__.py'\n",
            "adding 'atomsci/ddm/data/descriptor_sets_sources_by_descr_type.csv'\n",
            "adding 'atomsci/ddm/pipeline/__init__.py'\n",
            "adding 'atomsci/ddm/pipeline/ave_splitter.py'\n",
            "adding 'atomsci/ddm/pipeline/chem_diversity.py'\n",
            "adding 'atomsci/ddm/pipeline/compare_models.py'\n",
            "adding 'atomsci/ddm/pipeline/dist_metrics.py'\n",
            "adding 'atomsci/ddm/pipeline/diversity_plots.py'\n",
            "adding 'atomsci/ddm/pipeline/featurization.py'\n",
            "adding 'atomsci/ddm/pipeline/hyper_perf_plots.py'\n",
            "adding 'atomsci/ddm/pipeline/model_datasets.py'\n",
            "adding 'atomsci/ddm/pipeline/model_pipeline.py'\n",
            "adding 'atomsci/ddm/pipeline/model_tracker.py'\n",
            "adding 'atomsci/ddm/pipeline/model_wrapper.py'\n",
            "adding 'atomsci/ddm/pipeline/parameter_parser.py'\n",
            "adding 'atomsci/ddm/pipeline/perf_data.py'\n",
            "adding 'atomsci/ddm/pipeline/perf_plots.py'\n",
            "adding 'atomsci/ddm/pipeline/predict_from_model.py'\n",
            "adding 'atomsci/ddm/pipeline/splitting.py'\n",
            "adding 'atomsci/ddm/pipeline/temporal_splitter.py'\n",
            "adding 'atomsci/ddm/pipeline/transformations.py'\n",
            "adding 'atomsci/ddm/utils/__init__.py'\n",
            "adding 'atomsci/ddm/utils/curate_data.py'\n",
            "adding 'atomsci/ddm/utils/data_curation_functions.py'\n",
            "adding 'atomsci/ddm/utils/datastore_functions.py'\n",
            "adding 'atomsci/ddm/utils/genTestset.py'\n",
            "adding 'atomsci/ddm/utils/hyperparam_search_wrapper.py'\n",
            "adding 'atomsci/ddm/utils/llnl_utils.py'\n",
            "adding 'atomsci/ddm/utils/open-docs.py'\n",
            "adding 'atomsci/ddm/utils/process_slurm.py'\n",
            "adding 'atomsci/ddm/utils/pubchem_utils.py'\n",
            "adding 'atomsci/ddm/utils/rdkit_easy.py'\n",
            "adding 'atomsci/ddm/utils/struct_utils.py'\n",
            "adding 'atomsci_ampl-1.0.0.dev1.dist-info/LICENSE'\n",
            "adding 'atomsci_ampl-1.0.0.dev1.dist-info/METADATA'\n",
            "adding 'atomsci_ampl-1.0.0.dev1.dist-info/NOTICE'\n",
            "adding 'atomsci_ampl-1.0.0.dev1.dist-info/WHEEL'\n",
            "adding 'atomsci_ampl-1.0.0.dev1.dist-info/namespace_packages.txt'\n",
            "adding 'atomsci_ampl-1.0.0.dev1.dist-info/top_level.txt'\n",
            "adding 'atomsci_ampl-1.0.0.dev1.dist-info/RECORD'\n",
            "removing /content/github/AMPL.build/ampl/bdist.linux-x86_64/wheel\n",
            "DIR: /content/github/AMPL\n",
            "Ignoring indexes: https://pypi.org/simple\n",
            "Created temporary directory: /tmp/pip-ephem-wheel-cache-9u8u3_pd\n",
            "Created temporary directory: /tmp/pip-req-tracker-3cxjogt9\n",
            "Created requirements tracker '/tmp/pip-req-tracker-3cxjogt9'\n",
            "Created temporary directory: /tmp/pip-install-y6plgc9d\n",
            "Looking in links: /content/github/AMPL.dist\n",
            "Collecting atomsci_ampl\n",
            "  0 location(s) to search for versions of atomsci-ampl:\n",
            "  Skipping link: unsupported archive format: .dist: /content/github/AMPL.dist (from -f)\n",
            "  Found link file:///content/github/AMPL.dist/atomsci_ampl-1.0.0.dev1-py3-none-any.whl, version: 1.0.0.dev1\n",
            "  Local files found: /content/github/AMPL.dist/atomsci_ampl-1.0.0.dev1-py3-none-any.whl\n",
            "  Given no hashes to check 1 links for project 'atomsci-ampl': discarding no candidates\n",
            "  Using version 1.0.0.dev1 (newest of versions: 1.0.0.dev1)\n",
            "  Added atomsci_ampl from file:///content/github/AMPL.dist/atomsci_ampl-1.0.0.dev1-py3-none-any.whl to build tracker '/tmp/pip-req-tracker-3cxjogt9'\n",
            "  Removed atomsci_ampl from file:///content/github/AMPL.dist/atomsci_ampl-1.0.0.dev1-py3-none-any.whl from build tracker '/tmp/pip-req-tracker-3cxjogt9'\n",
            "Installing collected packages: atomsci-ampl\n",
            "\n",
            "Successfully installed atomsci-ampl-1.0.0.dev1\n",
            "Cleaning up...\n",
            "Removed build tracker '/tmp/pip-req-tracker-3cxjogt9'\n"
          ],
          "name": "stdout"
        }
      ]
    },
    {
      "cell_type": "code",
      "metadata": {
        "id": "lfOLp56xQ7FW",
        "colab": {
          "base_uri": "https://localhost:8080/"
        },
        "outputId": "1754d27c-c6d2-49e8-a182-0863c6af0acc"
      },
      "source": [
        "# Load AMPL in this notebook\n",
        "\n",
        "site_packages_path = '/content/AMPL/lib/python3.7/site-packages'\n",
        "if site_packages_path not in sys.path:\n",
        "  sys.path.insert(1, site_packages_path)\n",
        "sys.path"
      ],
      "execution_count": 44,
      "outputs": [
        {
          "output_type": "execute_result",
          "data": {
            "text/plain": [
              "['/tensorflow-1.15.2/python3.7',\n",
              " '/content/AMPL/lib/python3.7/site-packages',\n",
              " '',\n",
              " '/content',\n",
              " '/env/python',\n",
              " '/usr/lib/python37.zip',\n",
              " '/usr/lib/python3.7',\n",
              " '/usr/lib/python3.7/lib-dynload',\n",
              " '/usr/local/lib/python3.7/dist-packages',\n",
              " '/usr/lib/python3/dist-packages',\n",
              " '/usr/local/lib/python3.7/dist-packages/IPython/extensions',\n",
              " '/root/.ipython',\n",
              " '/usr/local/lib/python3.7/site-packages/']"
            ]
          },
          "metadata": {
            "tags": []
          },
          "execution_count": 44
        }
      ]
    },
    {
      "cell_type": "code",
      "metadata": {
        "id": "f0ilUwMkjiw6"
      },
      "source": [
        "# There is a problem with the previously imported cffi, so delete it and \n",
        "# load it with AMPL instead\n",
        "if 'cffi' in sys.modules:\n",
        "  del sys.modules['cffi']"
      ],
      "execution_count": 45,
      "outputs": []
    },
    {
      "cell_type": "code",
      "metadata": {
        "id": "mflA92SEVk2x"
      },
      "source": [
        "# We temporarily disable warnings for demonstration.\n",
        "# FutureWarnings and DeprecationWarnings are present from some of the AMPL \n",
        "# dependency modules.\n",
        "import warnings\n",
        "warnings.filterwarnings('ignore')\n",
        "\n",
        "import json\n",
        "import numpy as np\n",
        "import pandas as pd\n",
        "import os\n",
        "import requests\n",
        "import sys\n",
        "\n",
        "import atomsci.ddm.pipeline.model_pipeline as mp\n",
        "import atomsci.ddm.pipeline.parameter_parser as parse\n",
        "import atomsci.ddm.utils.curate_data as curate_data\n",
        "import atomsci.ddm.utils.struct_utils as struct_utils\n",
        "from atomsci.ddm.pipeline import perf_plots as pp\n"
      ],
      "execution_count": 46,
      "outputs": []
    },
    {
      "cell_type": "markdown",
      "metadata": {
        "id": "oRrd09dCVk22"
      },
      "source": [
        "## Data curation\n",
        "\n",
        "We then download and do very simple curation to the related dataset.\n",
        "\n",
        "We need to set the directory we want to save files to. Next we download the dataset."
      ]
    },
    {
      "cell_type": "code",
      "metadata": {
        "id": "11ccpX-onveT"
      },
      "source": [
        "working_dir = '/content'"
      ],
      "execution_count": 47,
      "outputs": []
    },
    {
      "cell_type": "code",
      "metadata": {
        "id": "REL1w2ULAH8e"
      },
      "source": [
        "import io\n",
        "url = 'https://raw.githubusercontent.com/jm5159/E4511-2021-Mao/master/Dataset/CYP3A4_cur.csv'\n",
        "download = requests.get(url).content"
      ],
      "execution_count": 48,
      "outputs": []
    },
    {
      "cell_type": "code",
      "metadata": {
        "id": "B524IFKtAOdR"
      },
      "source": [
        "# Reading the downloaded content and turning it into a pandas dataframe\n",
        "raw_df = pd.read_csv(io.StringIO(download.decode('utf-8')), sep=',', header=0 )"
      ],
      "execution_count": 49,
      "outputs": []
    },
    {
      "cell_type": "code",
      "metadata": {
        "id": "MVRr-vuanSvq"
      },
      "source": [
        "# copy of processed delaney data from AMPL\n",
        "# r = requests.get('https://raw.githubusercontent.com/ravichas/AMPL-Tutorial/master/datasets/delaney-processed_curated_external.csv', verify=True)"
      ],
      "execution_count": null,
      "outputs": []
    },
    {
      "cell_type": "markdown",
      "metadata": {
        "id": "dCxw6gNmVk29"
      },
      "source": [
        "Next, we load the downloaded dataset, and process the compound structures:"
      ]
    },
    {
      "cell_type": "code",
      "metadata": {
        "id": "Lk83NzbkwfZG"
      },
      "source": [
        "data_orig = raw_df"
      ],
      "execution_count": 50,
      "outputs": []
    },
    {
      "cell_type": "code",
      "metadata": {
        "colab": {
          "base_uri": "https://localhost:8080/"
        },
        "id": "XoZYHbJK_UA7",
        "outputId": "b9d06f4e-22cc-4973-9c38-c32036720f24"
      },
      "source": [
        "raw_df.columns"
      ],
      "execution_count": 51,
      "outputs": [
        {
          "output_type": "execute_result",
          "data": {
            "text/plain": [
              "Index(['Unnamed: 0', 'compound_id', 'base_rdkit_smiles', 'relation', 'pXC50',\n",
              "       'active'],\n",
              "      dtype='object')"
            ]
          },
          "metadata": {
            "tags": []
          },
          "execution_count": 51
        }
      ]
    },
    {
      "cell_type": "code",
      "metadata": {
        "colab": {
          "base_uri": "https://localhost:8080/",
          "height": 204
        },
        "id": "AygEGe71_YSv",
        "outputId": "8ae7e6b3-94a0-4d7c-ac23-c0709442b573"
      },
      "source": [
        "raw_df.head(5)"
      ],
      "execution_count": 52,
      "outputs": [
        {
          "output_type": "execute_result",
          "data": {
            "text/html": [
              "<div>\n",
              "<style scoped>\n",
              "    .dataframe tbody tr th:only-of-type {\n",
              "        vertical-align: middle;\n",
              "    }\n",
              "\n",
              "    .dataframe tbody tr th {\n",
              "        vertical-align: top;\n",
              "    }\n",
              "\n",
              "    .dataframe thead th {\n",
              "        text-align: right;\n",
              "    }\n",
              "</style>\n",
              "<table border=\"1\" class=\"dataframe\">\n",
              "  <thead>\n",
              "    <tr style=\"text-align: right;\">\n",
              "      <th></th>\n",
              "      <th>Unnamed: 0</th>\n",
              "      <th>compound_id</th>\n",
              "      <th>base_rdkit_smiles</th>\n",
              "      <th>relation</th>\n",
              "      <th>pXC50</th>\n",
              "      <th>active</th>\n",
              "    </tr>\n",
              "  </thead>\n",
              "  <tbody>\n",
              "    <tr>\n",
              "      <th>0</th>\n",
              "      <td>0</td>\n",
              "      <td>CHEMBL1537880</td>\n",
              "      <td>Cc1ccc(-c2nnc(C)c(N3CC(C)OC(C)C3)n2)cc1</td>\n",
              "      <td>NaN</td>\n",
              "      <td>5.300000</td>\n",
              "      <td>0</td>\n",
              "    </tr>\n",
              "    <tr>\n",
              "      <th>1</th>\n",
              "      <td>1</td>\n",
              "      <td>CHEMBL1515033</td>\n",
              "      <td>CS(=O)(=O)N1CCC[C@@]2(CCN(c3ccncc3)C2)C1</td>\n",
              "      <td>NaN</td>\n",
              "      <td>5.100000</td>\n",
              "      <td>0</td>\n",
              "    </tr>\n",
              "    <tr>\n",
              "      <th>2</th>\n",
              "      <td>2</td>\n",
              "      <td>CHEMBL3422242</td>\n",
              "      <td>Cc1cc([C@H]2C[C@H]3[C@@H](C)SC(N)=N[C@@]3(c3cc...</td>\n",
              "      <td>&lt;</td>\n",
              "      <td>4.522879</td>\n",
              "      <td>0</td>\n",
              "    </tr>\n",
              "    <tr>\n",
              "      <th>3</th>\n",
              "      <td>3</td>\n",
              "      <td>CHEMBL1526043</td>\n",
              "      <td>N#Cc1cccc(-c2nc3cnc(N4CCOCC4)nc3n(C3CC3)c2=O)c1</td>\n",
              "      <td>NaN</td>\n",
              "      <td>4.400000</td>\n",
              "      <td>0</td>\n",
              "    </tr>\n",
              "    <tr>\n",
              "      <th>4</th>\n",
              "      <td>4</td>\n",
              "      <td>CHEMBL3145019</td>\n",
              "      <td>Cc1nn(C(C)(C)C)c(O)c1Sc1ccc(Cl)cc1</td>\n",
              "      <td>NaN</td>\n",
              "      <td>4.800000</td>\n",
              "      <td>0</td>\n",
              "    </tr>\n",
              "  </tbody>\n",
              "</table>\n",
              "</div>"
            ],
            "text/plain": [
              "   Unnamed: 0    compound_id  ...     pXC50 active\n",
              "0           0  CHEMBL1537880  ...  5.300000      0\n",
              "1           1  CHEMBL1515033  ...  5.100000      0\n",
              "2           2  CHEMBL3422242  ...  4.522879      0\n",
              "3           3  CHEMBL1526043  ...  4.400000      0\n",
              "4           4  CHEMBL3145019  ...  4.800000      0\n",
              "\n",
              "[5 rows x 6 columns]"
            ]
          },
          "metadata": {
            "tags": []
          },
          "execution_count": 52
        }
      ]
    },
    {
      "cell_type": "code",
      "metadata": {
        "id": "0vlfZzbxVk2-"
      },
      "source": [
        "# base_smiles_from_smiles:\n",
        "# Generate a standardized SMILES, InChI keys for dataset with curation and structure modules.\n",
        "# RDkit modules are used to process the SMILES strings\n",
        "\n",
        "# Default Arg options: \n",
        "# useIsomericSmiles = True\n",
        "# removeCharges = False \n",
        "\n",
        "raw_df['rdkit_smiles'] = raw_df['base_rdkit_smiles'].apply(curate_data.base_smiles_from_smiles)"
      ],
      "execution_count": 53,
      "outputs": []
    },
    {
      "cell_type": "code",
      "metadata": {
        "id": "12gPGLadZg52"
      },
      "source": [
        "raw_df['inchi_key'] = raw_df['rdkit_smiles'].apply(struct_utils.smiles_to_inchi_key)"
      ],
      "execution_count": 54,
      "outputs": []
    },
    {
      "cell_type": "code",
      "metadata": {
        "colab": {
          "base_uri": "https://localhost:8080/",
          "height": 210
        },
        "id": "REfdWzPbZqRe",
        "outputId": "856548cf-13b1-470e-cafe-d526b8480f74"
      },
      "source": [
        "raw_df.head(3)"
      ],
      "execution_count": 55,
      "outputs": [
        {
          "output_type": "execute_result",
          "data": {
            "text/html": [
              "<div>\n",
              "<style scoped>\n",
              "    .dataframe tbody tr th:only-of-type {\n",
              "        vertical-align: middle;\n",
              "    }\n",
              "\n",
              "    .dataframe tbody tr th {\n",
              "        vertical-align: top;\n",
              "    }\n",
              "\n",
              "    .dataframe thead th {\n",
              "        text-align: right;\n",
              "    }\n",
              "</style>\n",
              "<table border=\"1\" class=\"dataframe\">\n",
              "  <thead>\n",
              "    <tr style=\"text-align: right;\">\n",
              "      <th></th>\n",
              "      <th>Unnamed: 0</th>\n",
              "      <th>compound_id</th>\n",
              "      <th>base_rdkit_smiles</th>\n",
              "      <th>relation</th>\n",
              "      <th>pXC50</th>\n",
              "      <th>active</th>\n",
              "      <th>rdkit_smiles</th>\n",
              "      <th>inchi_key</th>\n",
              "    </tr>\n",
              "  </thead>\n",
              "  <tbody>\n",
              "    <tr>\n",
              "      <th>0</th>\n",
              "      <td>0</td>\n",
              "      <td>CHEMBL1537880</td>\n",
              "      <td>Cc1ccc(-c2nnc(C)c(N3CC(C)OC(C)C3)n2)cc1</td>\n",
              "      <td>NaN</td>\n",
              "      <td>5.300000</td>\n",
              "      <td>0</td>\n",
              "      <td>Cc1ccc(-c2nnc(C)c(N3CC(C)OC(C)C3)n2)cc1</td>\n",
              "      <td>WNUWUYIZADTROQ-UHFFFAOYSA-N</td>\n",
              "    </tr>\n",
              "    <tr>\n",
              "      <th>1</th>\n",
              "      <td>1</td>\n",
              "      <td>CHEMBL1515033</td>\n",
              "      <td>CS(=O)(=O)N1CCC[C@@]2(CCN(c3ccncc3)C2)C1</td>\n",
              "      <td>NaN</td>\n",
              "      <td>5.100000</td>\n",
              "      <td>0</td>\n",
              "      <td>CS(=O)(=O)N1CCC[C@@]2(CCN(c3ccncc3)C2)C1</td>\n",
              "      <td>LFQJIVPPRFXMAC-AWEZNQCLSA-N</td>\n",
              "    </tr>\n",
              "    <tr>\n",
              "      <th>2</th>\n",
              "      <td>2</td>\n",
              "      <td>CHEMBL3422242</td>\n",
              "      <td>Cc1cc([C@H]2C[C@H]3[C@@H](C)SC(N)=N[C@@]3(c3cc...</td>\n",
              "      <td>&lt;</td>\n",
              "      <td>4.522879</td>\n",
              "      <td>0</td>\n",
              "      <td>Cc1cc([C@H]2C[C@H]3[C@@H](C)SC(N)=N[C@@]3(c3cc...</td>\n",
              "      <td>HVEVDFRWOQHAPJ-CKMNQQOVSA-N</td>\n",
              "    </tr>\n",
              "  </tbody>\n",
              "</table>\n",
              "</div>"
            ],
            "text/plain": [
              "   Unnamed: 0  ...                    inchi_key\n",
              "0           0  ...  WNUWUYIZADTROQ-UHFFFAOYSA-N\n",
              "1           1  ...  LFQJIVPPRFXMAC-AWEZNQCLSA-N\n",
              "2           2  ...  HVEVDFRWOQHAPJ-CKMNQQOVSA-N\n",
              "\n",
              "[3 rows x 8 columns]"
            ]
          },
          "metadata": {
            "tags": []
          },
          "execution_count": 55
        }
      ]
    },
    {
      "cell_type": "code",
      "metadata": {
        "id": "oBqiftr2BITr"
      },
      "source": [
        "data = raw_df\n",
        "data['Compound_ID'] = data['inchi_key']"
      ],
      "execution_count": 56,
      "outputs": []
    },
    {
      "cell_type": "markdown",
      "metadata": {
        "id": "7FTViEdxV0tL"
      },
      "source": [
        "## Let us review the dataset"
      ]
    },
    {
      "cell_type": "code",
      "metadata": {
        "id": "76gx-pYMVqQv",
        "colab": {
          "base_uri": "https://localhost:8080/",
          "height": 230
        },
        "outputId": "02f363fc-eff9-4be6-d289-6a7799ebe6b8"
      },
      "source": [
        "data.head(3)"
      ],
      "execution_count": 57,
      "outputs": [
        {
          "output_type": "execute_result",
          "data": {
            "text/html": [
              "<div>\n",
              "<style scoped>\n",
              "    .dataframe tbody tr th:only-of-type {\n",
              "        vertical-align: middle;\n",
              "    }\n",
              "\n",
              "    .dataframe tbody tr th {\n",
              "        vertical-align: top;\n",
              "    }\n",
              "\n",
              "    .dataframe thead th {\n",
              "        text-align: right;\n",
              "    }\n",
              "</style>\n",
              "<table border=\"1\" class=\"dataframe\">\n",
              "  <thead>\n",
              "    <tr style=\"text-align: right;\">\n",
              "      <th></th>\n",
              "      <th>Unnamed: 0</th>\n",
              "      <th>compound_id</th>\n",
              "      <th>base_rdkit_smiles</th>\n",
              "      <th>relation</th>\n",
              "      <th>pXC50</th>\n",
              "      <th>active</th>\n",
              "      <th>rdkit_smiles</th>\n",
              "      <th>inchi_key</th>\n",
              "      <th>Compound_ID</th>\n",
              "    </tr>\n",
              "  </thead>\n",
              "  <tbody>\n",
              "    <tr>\n",
              "      <th>0</th>\n",
              "      <td>0</td>\n",
              "      <td>CHEMBL1537880</td>\n",
              "      <td>Cc1ccc(-c2nnc(C)c(N3CC(C)OC(C)C3)n2)cc1</td>\n",
              "      <td>NaN</td>\n",
              "      <td>5.300000</td>\n",
              "      <td>0</td>\n",
              "      <td>Cc1ccc(-c2nnc(C)c(N3CC(C)OC(C)C3)n2)cc1</td>\n",
              "      <td>WNUWUYIZADTROQ-UHFFFAOYSA-N</td>\n",
              "      <td>WNUWUYIZADTROQ-UHFFFAOYSA-N</td>\n",
              "    </tr>\n",
              "    <tr>\n",
              "      <th>1</th>\n",
              "      <td>1</td>\n",
              "      <td>CHEMBL1515033</td>\n",
              "      <td>CS(=O)(=O)N1CCC[C@@]2(CCN(c3ccncc3)C2)C1</td>\n",
              "      <td>NaN</td>\n",
              "      <td>5.100000</td>\n",
              "      <td>0</td>\n",
              "      <td>CS(=O)(=O)N1CCC[C@@]2(CCN(c3ccncc3)C2)C1</td>\n",
              "      <td>LFQJIVPPRFXMAC-AWEZNQCLSA-N</td>\n",
              "      <td>LFQJIVPPRFXMAC-AWEZNQCLSA-N</td>\n",
              "    </tr>\n",
              "    <tr>\n",
              "      <th>2</th>\n",
              "      <td>2</td>\n",
              "      <td>CHEMBL3422242</td>\n",
              "      <td>Cc1cc([C@H]2C[C@H]3[C@@H](C)SC(N)=N[C@@]3(c3cc...</td>\n",
              "      <td>&lt;</td>\n",
              "      <td>4.522879</td>\n",
              "      <td>0</td>\n",
              "      <td>Cc1cc([C@H]2C[C@H]3[C@@H](C)SC(N)=N[C@@]3(c3cc...</td>\n",
              "      <td>HVEVDFRWOQHAPJ-CKMNQQOVSA-N</td>\n",
              "      <td>HVEVDFRWOQHAPJ-CKMNQQOVSA-N</td>\n",
              "    </tr>\n",
              "  </tbody>\n",
              "</table>\n",
              "</div>"
            ],
            "text/plain": [
              "   Unnamed: 0  ...                  Compound_ID\n",
              "0           0  ...  WNUWUYIZADTROQ-UHFFFAOYSA-N\n",
              "1           1  ...  LFQJIVPPRFXMAC-AWEZNQCLSA-N\n",
              "2           2  ...  HVEVDFRWOQHAPJ-CKMNQQOVSA-N\n",
              "\n",
              "[3 rows x 9 columns]"
            ]
          },
          "metadata": {
            "tags": []
          },
          "execution_count": 57
        }
      ]
    },
    {
      "cell_type": "markdown",
      "metadata": {
        "id": "woi0jHBPRWF_"
      },
      "source": [
        "## Let us view some molecules"
      ]
    },
    {
      "cell_type": "code",
      "metadata": {
        "id": "e-PXYKNPRc1u",
        "colab": {
          "base_uri": "https://localhost:8080/"
        },
        "outputId": "f668ac6b-c35f-4cf0-dae9-4ba0898fcc60"
      },
      "source": [
        "data['base_rdkit_smiles'][0:10]"
      ],
      "execution_count": 58,
      "outputs": [
        {
          "output_type": "execute_result",
          "data": {
            "text/plain": [
              "0              Cc1ccc(-c2nnc(C)c(N3CC(C)OC(C)C3)n2)cc1\n",
              "1             CS(=O)(=O)N1CCC[C@@]2(CCN(c3ccncc3)C2)C1\n",
              "2    Cc1cc([C@H]2C[C@H]3[C@@H](C)SC(N)=N[C@@]3(c3cc...\n",
              "3      N#Cc1cccc(-c2nc3cnc(N4CCOCC4)nc3n(C3CC3)c2=O)c1\n",
              "4                   Cc1nn(C(C)(C)C)c(O)c1Sc1ccc(Cl)cc1\n",
              "5    COc1cccc(-c2c(C)n(Cc3c(F)cccc3C(F)(F)F)c(=O)n(...\n",
              "6                 CN(C)CCN1CCCc2cc(N=C(N)c3cccs3)ccc21\n",
              "7                  N/C(=N/CCc1ccc(I)cc1)SCCCc1cnc[nH]1\n",
              "8    Cc1ccc(S(=O)(=O)N2CCOCC2)cc1NC(=O)COC(=O)CCC(=...\n",
              "9    COc1cccc(N2C(=O)N(Cc3ccccc3F)C3(CCN(Cc4ccc(-c5...\n",
              "Name: base_rdkit_smiles, dtype: object"
            ]
          },
          "metadata": {
            "tags": []
          },
          "execution_count": 58
        }
      ]
    },
    {
      "cell_type": "code",
      "metadata": {
        "id": "gFVa3jHrTJ6Y",
        "colab": {
          "base_uri": "https://localhost:8080/",
          "height": 617
        },
        "outputId": "98bef324-8413-4a99-8f53-7c5e0268c1af"
      },
      "source": [
        "from rdkit import Chem\n",
        "from rdkit.Chem import Draw\n",
        "from itertools import islice\n",
        "\n",
        "molecules = [Chem.MolFromSmiles(smiles) for smiles in islice(data['base_rdkit_smiles'], 9)]\n",
        "\n",
        "Draw.MolsToGridImage(molecules)"
      ],
      "execution_count": 59,
      "outputs": [
        {
          "output_type": "execute_result",
          "data": {
            "image/png": "[encoded data removed]",
            "text/plain": [
              "<PIL.PngImagePlugin.PngImageFile image mode=RGB size=600x600 at 0x7FCCA65DC410>"
            ]
          },
          "metadata": {
            "tags": []
          },
          "execution_count": 59
        }
      ]
    },
    {
      "cell_type": "markdown",
      "metadata": {
        "id": "Jmqtyr4bVk3B"
      },
      "source": [
        "The next step is to address the case where we have multiple measurements for a single structure (by RDkit canonical SMILEs string). We have a function in the `curate_data()` module to address the processing of compounds. The function parameters are listed below along with an explanation of each parameter:"
      ]
    },
    {
      "cell_type": "code",
      "metadata": {
        "colab": {
          "base_uri": "https://localhost:8080/",
          "height": 626
        },
        "id": "itthUq-QGRfk",
        "outputId": "13e7c648-26c2-4871-cc15-e7da66df3461"
      },
      "source": [
        "data"
      ],
      "execution_count": 60,
      "outputs": [
        {
          "output_type": "execute_result",
          "data": {
            "text/html": [
              "<div>\n",
              "<style scoped>\n",
              "    .dataframe tbody tr th:only-of-type {\n",
              "        vertical-align: middle;\n",
              "    }\n",
              "\n",
              "    .dataframe tbody tr th {\n",
              "        vertical-align: top;\n",
              "    }\n",
              "\n",
              "    .dataframe thead th {\n",
              "        text-align: right;\n",
              "    }\n",
              "</style>\n",
              "<table border=\"1\" class=\"dataframe\">\n",
              "  <thead>\n",
              "    <tr style=\"text-align: right;\">\n",
              "      <th></th>\n",
              "      <th>Unnamed: 0</th>\n",
              "      <th>compound_id</th>\n",
              "      <th>base_rdkit_smiles</th>\n",
              "      <th>relation</th>\n",
              "      <th>pXC50</th>\n",
              "      <th>active</th>\n",
              "      <th>rdkit_smiles</th>\n",
              "      <th>inchi_key</th>\n",
              "      <th>Compound_ID</th>\n",
              "    </tr>\n",
              "  </thead>\n",
              "  <tbody>\n",
              "    <tr>\n",
              "      <th>0</th>\n",
              "      <td>0</td>\n",
              "      <td>CHEMBL1537880</td>\n",
              "      <td>Cc1ccc(-c2nnc(C)c(N3CC(C)OC(C)C3)n2)cc1</td>\n",
              "      <td>NaN</td>\n",
              "      <td>5.300000</td>\n",
              "      <td>0</td>\n",
              "      <td>Cc1ccc(-c2nnc(C)c(N3CC(C)OC(C)C3)n2)cc1</td>\n",
              "      <td>WNUWUYIZADTROQ-UHFFFAOYSA-N</td>\n",
              "      <td>WNUWUYIZADTROQ-UHFFFAOYSA-N</td>\n",
              "    </tr>\n",
              "    <tr>\n",
              "      <th>1</th>\n",
              "      <td>1</td>\n",
              "      <td>CHEMBL1515033</td>\n",
              "      <td>CS(=O)(=O)N1CCC[C@@]2(CCN(c3ccncc3)C2)C1</td>\n",
              "      <td>NaN</td>\n",
              "      <td>5.100000</td>\n",
              "      <td>0</td>\n",
              "      <td>CS(=O)(=O)N1CCC[C@@]2(CCN(c3ccncc3)C2)C1</td>\n",
              "      <td>LFQJIVPPRFXMAC-AWEZNQCLSA-N</td>\n",
              "      <td>LFQJIVPPRFXMAC-AWEZNQCLSA-N</td>\n",
              "    </tr>\n",
              "    <tr>\n",
              "      <th>2</th>\n",
              "      <td>2</td>\n",
              "      <td>CHEMBL3422242</td>\n",
              "      <td>Cc1cc([C@H]2C[C@H]3[C@@H](C)SC(N)=N[C@@]3(c3cc...</td>\n",
              "      <td>&lt;</td>\n",
              "      <td>4.522879</td>\n",
              "      <td>0</td>\n",
              "      <td>Cc1cc([C@H]2C[C@H]3[C@@H](C)SC(N)=N[C@@]3(c3cc...</td>\n",
              "      <td>HVEVDFRWOQHAPJ-CKMNQQOVSA-N</td>\n",
              "      <td>HVEVDFRWOQHAPJ-CKMNQQOVSA-N</td>\n",
              "    </tr>\n",
              "    <tr>\n",
              "      <th>3</th>\n",
              "      <td>3</td>\n",
              "      <td>CHEMBL1526043</td>\n",
              "      <td>N#Cc1cccc(-c2nc3cnc(N4CCOCC4)nc3n(C3CC3)c2=O)c1</td>\n",
              "      <td>NaN</td>\n",
              "      <td>4.400000</td>\n",
              "      <td>0</td>\n",
              "      <td>N#Cc1cccc(-c2nc3cnc(N4CCOCC4)nc3n(C3CC3)c2=O)c1</td>\n",
              "      <td>QIZLBSOCEJVBTG-UHFFFAOYSA-N</td>\n",
              "      <td>QIZLBSOCEJVBTG-UHFFFAOYSA-N</td>\n",
              "    </tr>\n",
              "    <tr>\n",
              "      <th>4</th>\n",
              "      <td>4</td>\n",
              "      <td>CHEMBL3145019</td>\n",
              "      <td>Cc1nn(C(C)(C)C)c(O)c1Sc1ccc(Cl)cc1</td>\n",
              "      <td>NaN</td>\n",
              "      <td>4.800000</td>\n",
              "      <td>0</td>\n",
              "      <td>Cc1nn(C(C)(C)C)c(O)c1Sc1ccc(Cl)cc1</td>\n",
              "      <td>IYIGLQSFYOLXCS-UHFFFAOYSA-N</td>\n",
              "      <td>IYIGLQSFYOLXCS-UHFFFAOYSA-N</td>\n",
              "    </tr>\n",
              "    <tr>\n",
              "      <th>...</th>\n",
              "      <td>...</td>\n",
              "      <td>...</td>\n",
              "      <td>...</td>\n",
              "      <td>...</td>\n",
              "      <td>...</td>\n",
              "      <td>...</td>\n",
              "      <td>...</td>\n",
              "      <td>...</td>\n",
              "      <td>...</td>\n",
              "    </tr>\n",
              "    <tr>\n",
              "      <th>19631</th>\n",
              "      <td>19631</td>\n",
              "      <td>CHEMBL3932169</td>\n",
              "      <td>CC(C)[C@@H]1c2nn(-c3cccc(S(C)(=O)=O)c3)cc2CN1c...</td>\n",
              "      <td>NaN</td>\n",
              "      <td>5.515700</td>\n",
              "      <td>0</td>\n",
              "      <td>CC(C)[C@@H]1c2nn(-c3cccc(S(C)(=O)=O)c3)cc2CN1c...</td>\n",
              "      <td>NCZXBZJVJRJUSC-GOSISDBHSA-N</td>\n",
              "      <td>NCZXBZJVJRJUSC-GOSISDBHSA-N</td>\n",
              "    </tr>\n",
              "    <tr>\n",
              "      <th>19632</th>\n",
              "      <td>19632</td>\n",
              "      <td>CHEMBL4210866</td>\n",
              "      <td>N[C@@H]1CCC=C(c2ccc(F)cc2)[C@H]1CNc1cc(F)c(S(=...</td>\n",
              "      <td>NaN</td>\n",
              "      <td>4.481486</td>\n",
              "      <td>0</td>\n",
              "      <td>N[C@@H]1CCC=C(c2ccc(F)cc2)[C@H]1CNc1cc(F)c(S(=...</td>\n",
              "      <td>BSNVRJYSKXDALK-VQIMIIECSA-N</td>\n",
              "      <td>BSNVRJYSKXDALK-VQIMIIECSA-N</td>\n",
              "    </tr>\n",
              "    <tr>\n",
              "      <th>19633</th>\n",
              "      <td>19633</td>\n",
              "      <td>CHEMBL1465534</td>\n",
              "      <td>O=[N+]([O-])c1cccc(-c2nnn(C34CC5CC(CC(C5)C3)C4...</td>\n",
              "      <td>NaN</td>\n",
              "      <td>5.050000</td>\n",
              "      <td>0</td>\n",
              "      <td>O=[N+]([O-])c1cccc(-c2nnn(C34CC5CC(CC(C5)C3)C4...</td>\n",
              "      <td>ILMKPNZNEYHDGO-UHFFFAOYSA-N</td>\n",
              "      <td>ILMKPNZNEYHDGO-UHFFFAOYSA-N</td>\n",
              "    </tr>\n",
              "    <tr>\n",
              "      <th>19634</th>\n",
              "      <td>19634</td>\n",
              "      <td>CHEMBL3237445</td>\n",
              "      <td>Cc1nccc2c3cnc(Nc4ccc(N5CCNCC5)cn4)nc3n(C3CCCC3...</td>\n",
              "      <td>&lt;</td>\n",
              "      <td>5.000000</td>\n",
              "      <td>0</td>\n",
              "      <td>Cc1nccc2c3cnc(Nc4ccc(N5CCNCC5)cn4)nc3n(C3CCCC3...</td>\n",
              "      <td>FLNHSHVOGZEONH-UHFFFAOYSA-N</td>\n",
              "      <td>FLNHSHVOGZEONH-UHFFFAOYSA-N</td>\n",
              "    </tr>\n",
              "    <tr>\n",
              "      <th>19635</th>\n",
              "      <td>19635</td>\n",
              "      <td>CHEMBL1270335</td>\n",
              "      <td>CN1C(=O)[C@@](c2ccc(OC(F)F)cc2)(c2ccc(F)c(C#CC...</td>\n",
              "      <td>NaN</td>\n",
              "      <td>5.000000</td>\n",
              "      <td>0</td>\n",
              "      <td>CN1C(=O)[C@@](c2ccc(OC(F)F)cc2)(c2ccc(F)c(C#CC...</td>\n",
              "      <td>JZQHTDKITQYMAR-JOCHJYFZSA-N</td>\n",
              "      <td>JZQHTDKITQYMAR-JOCHJYFZSA-N</td>\n",
              "    </tr>\n",
              "  </tbody>\n",
              "</table>\n",
              "<p>19636 rows × 9 columns</p>\n",
              "</div>"
            ],
            "text/plain": [
              "       Unnamed: 0  ...                  Compound_ID\n",
              "0               0  ...  WNUWUYIZADTROQ-UHFFFAOYSA-N\n",
              "1               1  ...  LFQJIVPPRFXMAC-AWEZNQCLSA-N\n",
              "2               2  ...  HVEVDFRWOQHAPJ-CKMNQQOVSA-N\n",
              "3               3  ...  QIZLBSOCEJVBTG-UHFFFAOYSA-N\n",
              "4               4  ...  IYIGLQSFYOLXCS-UHFFFAOYSA-N\n",
              "...           ...  ...                          ...\n",
              "19631       19631  ...  NCZXBZJVJRJUSC-GOSISDBHSA-N\n",
              "19632       19632  ...  BSNVRJYSKXDALK-VQIMIIECSA-N\n",
              "19633       19633  ...  ILMKPNZNEYHDGO-UHFFFAOYSA-N\n",
              "19634       19634  ...  FLNHSHVOGZEONH-UHFFFAOYSA-N\n",
              "19635       19635  ...  JZQHTDKITQYMAR-JOCHJYFZSA-N\n",
              "\n",
              "[19636 rows x 9 columns]"
            ]
          },
          "metadata": {
            "tags": []
          },
          "execution_count": 60
        }
      ]
    },
    {
      "cell_type": "code",
      "metadata": {
        "id": "26UUu-vzTTMs"
      },
      "source": [
        "# del_features = ['VALUE_NUM_mean', 'VALUE_NUM_std', 'Perc_Var', 'Remove_BadDuplicate']\n",
        "# data.drop(labels=del_features, axis=1, inplace=True)"
      ],
      "execution_count": null,
      "outputs": []
    },
    {
      "cell_type": "code",
      "metadata": {
        "colab": {
          "base_uri": "https://localhost:8080/"
        },
        "id": "5ABo-cymSmMJ",
        "outputId": "85cba79c-0e2f-4671-bb92-ba1bf8f2b241"
      },
      "source": [
        "# column: Response values column\n",
        "column = 'pXC50'\n",
        "\n",
        "# tolerance: Percentage of individual respsonse values allowed to be different \n",
        "# from the average to be included in averaging\n",
        "tolerance = 10\n",
        "\n",
        "# list_bad_duplicates: Print structures with bad duplicates\n",
        "list_bad_duplicates = 'Yes'\n",
        "\n",
        "# max_std: Maximum allowed standard deviation for computed average response value\n",
        "# NOTE: In this example, we set this value very high to disable this feature\n",
        "max_std = 100000\n",
        "\n",
        "# compound_id: Compound ID column\n",
        "compound_id = 'Compound_ID'\n",
        "\n",
        "# smiles_col: SMILES column\n",
        "smiles_col = 'rdkit_smiles'\n",
        "\n",
        "# call the method `average_and_remove_duplicates` which changes the data and returns\n",
        "# the new object as curated_df, in this case\n",
        " \n",
        "\n",
        "curated_df = curate_data.average_and_remove_duplicates(column, \n",
        "                                                       tolerance, \n",
        "                                                       list_bad_duplicates, \n",
        "                                                       data, \n",
        "                                                       max_std, \n",
        "                                                       compound_id=compound_id, \n",
        "                                                       smiles_col=smiles_col)"
      ],
      "execution_count": 61,
      "outputs": [
        {
          "output_type": "stream",
          "text": [
            "Bad duplicates removed from dataset\n",
            "Dataframe size (19636, 13)\n",
            "List of 'bad' duplicates removed\n",
            "Empty DataFrame\n",
            "Columns: [Compound_ID, pXC50, VALUE_NUM_mean, Perc_Var, VALUE_NUM_std]\n",
            "Index: []\n",
            "\n",
            "Dataset de-duplicated\n",
            "Dataframe size (19636, 13)\n",
            "New column created with averaged values:  VALUE_NUM_mean\n"
          ],
          "name": "stdout"
        }
      ]
    },
    {
      "cell_type": "code",
      "metadata": {
        "colab": {
          "base_uri": "https://localhost:8080/",
          "height": 230
        },
        "id": "tlV94ETHTZDP",
        "outputId": "8bc3a9d8-e6c7-45f7-ed12-b8534921e139"
      },
      "source": [
        "data.head(3)"
      ],
      "execution_count": 62,
      "outputs": [
        {
          "output_type": "execute_result",
          "data": {
            "text/html": [
              "<div>\n",
              "<style scoped>\n",
              "    .dataframe tbody tr th:only-of-type {\n",
              "        vertical-align: middle;\n",
              "    }\n",
              "\n",
              "    .dataframe tbody tr th {\n",
              "        vertical-align: top;\n",
              "    }\n",
              "\n",
              "    .dataframe thead th {\n",
              "        text-align: right;\n",
              "    }\n",
              "</style>\n",
              "<table border=\"1\" class=\"dataframe\">\n",
              "  <thead>\n",
              "    <tr style=\"text-align: right;\">\n",
              "      <th></th>\n",
              "      <th>Unnamed: 0</th>\n",
              "      <th>compound_id</th>\n",
              "      <th>base_rdkit_smiles</th>\n",
              "      <th>relation</th>\n",
              "      <th>pXC50</th>\n",
              "      <th>active</th>\n",
              "      <th>rdkit_smiles</th>\n",
              "      <th>inchi_key</th>\n",
              "      <th>Compound_ID</th>\n",
              "    </tr>\n",
              "  </thead>\n",
              "  <tbody>\n",
              "    <tr>\n",
              "      <th>0</th>\n",
              "      <td>0</td>\n",
              "      <td>CHEMBL1537880</td>\n",
              "      <td>Cc1ccc(-c2nnc(C)c(N3CC(C)OC(C)C3)n2)cc1</td>\n",
              "      <td>NaN</td>\n",
              "      <td>5.300000</td>\n",
              "      <td>0</td>\n",
              "      <td>Cc1ccc(-c2nnc(C)c(N3CC(C)OC(C)C3)n2)cc1</td>\n",
              "      <td>WNUWUYIZADTROQ-UHFFFAOYSA-N</td>\n",
              "      <td>WNUWUYIZADTROQ-UHFFFAOYSA-N</td>\n",
              "    </tr>\n",
              "    <tr>\n",
              "      <th>1</th>\n",
              "      <td>1</td>\n",
              "      <td>CHEMBL1515033</td>\n",
              "      <td>CS(=O)(=O)N1CCC[C@@]2(CCN(c3ccncc3)C2)C1</td>\n",
              "      <td>NaN</td>\n",
              "      <td>5.100000</td>\n",
              "      <td>0</td>\n",
              "      <td>CS(=O)(=O)N1CCC[C@@]2(CCN(c3ccncc3)C2)C1</td>\n",
              "      <td>LFQJIVPPRFXMAC-AWEZNQCLSA-N</td>\n",
              "      <td>LFQJIVPPRFXMAC-AWEZNQCLSA-N</td>\n",
              "    </tr>\n",
              "    <tr>\n",
              "      <th>2</th>\n",
              "      <td>2</td>\n",
              "      <td>CHEMBL3422242</td>\n",
              "      <td>Cc1cc([C@H]2C[C@H]3[C@@H](C)SC(N)=N[C@@]3(c3cc...</td>\n",
              "      <td>&lt;</td>\n",
              "      <td>4.522879</td>\n",
              "      <td>0</td>\n",
              "      <td>Cc1cc([C@H]2C[C@H]3[C@@H](C)SC(N)=N[C@@]3(c3cc...</td>\n",
              "      <td>HVEVDFRWOQHAPJ-CKMNQQOVSA-N</td>\n",
              "      <td>HVEVDFRWOQHAPJ-CKMNQQOVSA-N</td>\n",
              "    </tr>\n",
              "  </tbody>\n",
              "</table>\n",
              "</div>"
            ],
            "text/plain": [
              "   Unnamed: 0  ...                  Compound_ID\n",
              "0           0  ...  WNUWUYIZADTROQ-UHFFFAOYSA-N\n",
              "1           1  ...  LFQJIVPPRFXMAC-AWEZNQCLSA-N\n",
              "2           2  ...  HVEVDFRWOQHAPJ-CKMNQQOVSA-N\n",
              "\n",
              "[3 rows x 9 columns]"
            ]
          },
          "metadata": {
            "tags": []
          },
          "execution_count": 62
        }
      ]
    },
    {
      "cell_type": "code",
      "metadata": {
        "colab": {
          "base_uri": "https://localhost:8080/",
          "height": 230
        },
        "id": "Yniwt0vbTg4T",
        "outputId": "7d84a571-728f-4abd-d92b-3e894dfbe2a5"
      },
      "source": [
        "curated_df.head(3)"
      ],
      "execution_count": 63,
      "outputs": [
        {
          "output_type": "execute_result",
          "data": {
            "text/html": [
              "<div>\n",
              "<style scoped>\n",
              "    .dataframe tbody tr th:only-of-type {\n",
              "        vertical-align: middle;\n",
              "    }\n",
              "\n",
              "    .dataframe tbody tr th {\n",
              "        vertical-align: top;\n",
              "    }\n",
              "\n",
              "    .dataframe thead th {\n",
              "        text-align: right;\n",
              "    }\n",
              "</style>\n",
              "<table border=\"1\" class=\"dataframe\">\n",
              "  <thead>\n",
              "    <tr style=\"text-align: right;\">\n",
              "      <th></th>\n",
              "      <th>Unnamed: 0</th>\n",
              "      <th>compound_id</th>\n",
              "      <th>base_rdkit_smiles</th>\n",
              "      <th>relation</th>\n",
              "      <th>pXC50</th>\n",
              "      <th>active</th>\n",
              "      <th>rdkit_smiles</th>\n",
              "      <th>inchi_key</th>\n",
              "      <th>Compound_ID</th>\n",
              "      <th>VALUE_NUM_mean</th>\n",
              "      <th>VALUE_NUM_std</th>\n",
              "      <th>Perc_Var</th>\n",
              "      <th>Remove_BadDuplicate</th>\n",
              "    </tr>\n",
              "  </thead>\n",
              "  <tbody>\n",
              "    <tr>\n",
              "      <th>0</th>\n",
              "      <td>0</td>\n",
              "      <td>CHEMBL1537880</td>\n",
              "      <td>Cc1ccc(-c2nnc(C)c(N3CC(C)OC(C)C3)n2)cc1</td>\n",
              "      <td>NaN</td>\n",
              "      <td>5.300000</td>\n",
              "      <td>0</td>\n",
              "      <td>Cc1ccc(-c2nnc(C)c(N3CC(C)OC(C)C3)n2)cc1</td>\n",
              "      <td>WNUWUYIZADTROQ-UHFFFAOYSA-N</td>\n",
              "      <td>WNUWUYIZADTROQ-UHFFFAOYSA-N</td>\n",
              "      <td>5.300000</td>\n",
              "      <td>NaN</td>\n",
              "      <td>0.0</td>\n",
              "      <td>0</td>\n",
              "    </tr>\n",
              "    <tr>\n",
              "      <th>1</th>\n",
              "      <td>1</td>\n",
              "      <td>CHEMBL1515033</td>\n",
              "      <td>CS(=O)(=O)N1CCC[C@@]2(CCN(c3ccncc3)C2)C1</td>\n",
              "      <td>NaN</td>\n",
              "      <td>5.100000</td>\n",
              "      <td>0</td>\n",
              "      <td>CS(=O)(=O)N1CCC[C@@]2(CCN(c3ccncc3)C2)C1</td>\n",
              "      <td>LFQJIVPPRFXMAC-AWEZNQCLSA-N</td>\n",
              "      <td>LFQJIVPPRFXMAC-AWEZNQCLSA-N</td>\n",
              "      <td>5.100000</td>\n",
              "      <td>NaN</td>\n",
              "      <td>0.0</td>\n",
              "      <td>0</td>\n",
              "    </tr>\n",
              "    <tr>\n",
              "      <th>2</th>\n",
              "      <td>2</td>\n",
              "      <td>CHEMBL3422242</td>\n",
              "      <td>Cc1cc([C@H]2C[C@H]3[C@@H](C)SC(N)=N[C@@]3(c3cc...</td>\n",
              "      <td>&lt;</td>\n",
              "      <td>4.522879</td>\n",
              "      <td>0</td>\n",
              "      <td>Cc1cc([C@H]2C[C@H]3[C@@H](C)SC(N)=N[C@@]3(c3cc...</td>\n",
              "      <td>HVEVDFRWOQHAPJ-CKMNQQOVSA-N</td>\n",
              "      <td>HVEVDFRWOQHAPJ-CKMNQQOVSA-N</td>\n",
              "      <td>4.522879</td>\n",
              "      <td>NaN</td>\n",
              "      <td>0.0</td>\n",
              "      <td>0</td>\n",
              "    </tr>\n",
              "  </tbody>\n",
              "</table>\n",
              "</div>"
            ],
            "text/plain": [
              "   Unnamed: 0    compound_id  ... Perc_Var Remove_BadDuplicate\n",
              "0           0  CHEMBL1537880  ...      0.0                   0\n",
              "1           1  CHEMBL1515033  ...      0.0                   0\n",
              "2           2  CHEMBL3422242  ...      0.0                   0\n",
              "\n",
              "[3 rows x 13 columns]"
            ]
          },
          "metadata": {
            "tags": []
          },
          "execution_count": 63
        }
      ]
    },
    {
      "cell_type": "code",
      "metadata": {
        "colab": {
          "base_uri": "https://localhost:8080/"
        },
        "id": "gJYVRzgla2O-",
        "outputId": "2fbf8f5c-bd59-4dc9-abe3-a557a3c1d37d"
      },
      "source": [
        "curated_df.groupby(['rdkit_smiles'])['rdkit_smiles'].count()"
      ],
      "execution_count": 66,
      "outputs": [
        {
          "output_type": "execute_result",
          "data": {
            "text/plain": [
              "rdkit_smiles\n",
              "Br/C(=N\\Nc1nn[nH]n1)c1ccncc1                               1\n",
              "Brc1c(Br)c(Br)c2n[nH]nc2c1Br                               1\n",
              "Brc1c(NC2=NCCN2)ccc2nccnc12                                1\n",
              "Brc1cc2c(cc1/C=N/Nc1nc(N3CCCC3)nc(N3CCOCC3)n1)OCO2         1\n",
              "Brc1ccc(-n2c(SCc3ccccc3)nnc2-c2ccncc2)cc1                  1\n",
              "                                                          ..\n",
              "c1nc(NCCN2CCOCC2)c2cc(-c3ccoc3)ccc2n1                      1\n",
              "c1nc(NCCc2cnc[nH]2)c2[nH]cnc2n1                            1\n",
              "c1nc(N[C@H]2CC[C@H](N3CCOCC3)CC2)c2c(C3CCOCC3)c[nH]c2n1    1\n",
              "c1ncc(-c2ccc3c(c2)OCO3)c(NCCc2cnc[nH]2)n1                  1\n",
              "c1ncc(-c2ccoc2)c(NC2CC2)n1                                 1\n",
              "Name: rdkit_smiles, Length: 18981, dtype: int64"
            ]
          },
          "metadata": {
            "tags": []
          },
          "execution_count": 66
        }
      ]
    },
    {
      "cell_type": "code",
      "metadata": {
        "id": "nFVmWvW2drB2"
      },
      "source": [
        "curated_df = curated_df.drop_duplicates(subset='Compound_ID', keep=\"first\")"
      ],
      "execution_count": 65,
      "outputs": []
    },
    {
      "cell_type": "code",
      "metadata": {
        "id": "RWD0PTp_Vk3C"
      },
      "source": [
        "curated_file = os.path.join(working_dir, 'delaney_curated.csv')\n",
        "curated_df.to_csv(curated_file, index=False)\n",
        "\n",
        "\n",
        "featurizer = 'ecfp'\n",
        "model_type = 'RF'\n",
        "response_cols = ['VALUE_NUM_mean']"
      ],
      "execution_count": 67,
      "outputs": []
    },
    {
      "cell_type": "markdown",
      "metadata": {
        "id": "2o98pQ8JVk3G"
      },
      "source": [
        "Now that we have a curated dataset, we decide what type of featurizer and model we would like. See documentation for all available options. We also set the name of the new averaged response value column."
      ]
    },
    {
      "cell_type": "code",
      "metadata": {
        "id": "YpzrXMrmVk3H"
      },
      "source": [
        "featurizer = 'ecfp'\n",
        "model_type = 'RF'\n",
        "response_cols = ['VALUE_NUM_mean']"
      ],
      "execution_count": 68,
      "outputs": []
    },
    {
      "cell_type": "markdown",
      "metadata": {
        "id": "VJtQSo3UVk3O"
      },
      "source": [
        "Next we set up the parameters for our model. We set datastore and save_results to False to indicate that we are reading the input file and saving the results directly to the file system. There are a wide range of settable parameters; see the documentation for more details."
      ]
    },
    {
      "cell_type": "code",
      "metadata": {
        "id": "TH1aGjcKYOMS",
        "colab": {
          "base_uri": "https://localhost:8080/",
          "height": 35
        },
        "outputId": "fd426569-dd3e-42d5-bcca-c905859249cc"
      },
      "source": [
        "smiles_col"
      ],
      "execution_count": 69,
      "outputs": [
        {
          "output_type": "execute_result",
          "data": {
            "application/vnd.google.colaboratory.intrinsic+json": {
              "type": "string"
            },
            "text/plain": [
              "'rdkit_smiles'"
            ]
          },
          "metadata": {
            "tags": []
          },
          "execution_count": 69
        }
      ]
    },
    {
      "cell_type": "code",
      "metadata": {
        "id": "1AagWRZkVk3P"
      },
      "source": [
        "params={\"datastore\": \"False\",\n",
        "        \"save_results\": \"False\",\n",
        "        \"id_col\": compound_id,\n",
        "        \"smiles_col\": smiles_col,\n",
        "        \"response_cols\": response_cols,\n",
        "        \"featurizer\": featurizer,\n",
        "        \"model_type\": model_type,\n",
        "        \"result_dir\": working_dir,\n",
        "        \"dataset_key\": curated_file}"
      ],
      "execution_count": 70,
      "outputs": []
    },
    {
      "cell_type": "markdown",
      "metadata": {
        "id": "_2i5syhgVk3T"
      },
      "source": [
        "We use parse.wrapper to process our input configuration. We then build the model pipeline, train the model, and plot the predicted versus true values for our train, valid, test sets."
      ]
    },
    {
      "cell_type": "code",
      "metadata": {
        "id": "f8yt7nFjWwKW"
      },
      "source": [
        "pparams = parse.wrapper(params)"
      ],
      "execution_count": 71,
      "outputs": []
    },
    {
      "cell_type": "markdown",
      "metadata": {
        "id": "MNxTSotHicIy"
      },
      "source": [
        "## Details of the following code chunk\n",
        " Here we create instances of the class ModelPipeline, called `MP`. The instance `MP` has access to data attributes and methods of the class. "
      ]
    },
    {
      "cell_type": "code",
      "metadata": {
        "id": "sGD1DmlkW1eA"
      },
      "source": [
        "MP = mp.ModelPipeline(pparams)"
      ],
      "execution_count": 72,
      "outputs": []
    },
    {
      "cell_type": "markdown",
      "metadata": {
        "id": "M3aHIUuyncFo"
      },
      "source": [
        "## Use `dir` function to explore data attributes and functions associated with the class. \n",
        "\n",
        "The output is a list of data object attributes. Note the attributes that are surrounded by double-underscore (ex., `__le__`) are for internal use\n",
        "and you dont have to worry about them. The regular (non underscore attributes) are of your concern. In the example shown below, these attributes start\n",
        "with `'create_model_metadata'`"
      ]
    },
    {
      "cell_type": "code",
      "metadata": {
        "colab": {
          "base_uri": "https://localhost:8080/"
        },
        "id": "B3D4pHf4nXON",
        "outputId": "13b1b980-799d-44ab-948e-77fd65cd975d"
      },
      "source": [
        "dir(MP)"
      ],
      "execution_count": 73,
      "outputs": [
        {
          "output_type": "execute_result",
          "data": {
            "text/plain": [
              "['__class__',\n",
              " '__delattr__',\n",
              " '__dict__',\n",
              " '__dir__',\n",
              " '__doc__',\n",
              " '__eq__',\n",
              " '__format__',\n",
              " '__ge__',\n",
              " '__getattribute__',\n",
              " '__gt__',\n",
              " '__hash__',\n",
              " '__init__',\n",
              " '__init_subclass__',\n",
              " '__le__',\n",
              " '__lt__',\n",
              " '__module__',\n",
              " '__ne__',\n",
              " '__new__',\n",
              " '__reduce__',\n",
              " '__reduce_ex__',\n",
              " '__repr__',\n",
              " '__setattr__',\n",
              " '__sizeof__',\n",
              " '__str__',\n",
              " '__subclasshook__',\n",
              " '__weakref__',\n",
              " 'create_model_metadata',\n",
              " 'create_prediction_metadata',\n",
              " 'ds_client',\n",
              " 'get_metrics',\n",
              " 'load_featurize_data',\n",
              " 'log',\n",
              " 'metric_type',\n",
              " 'output_dir',\n",
              " 'params',\n",
              " 'perf_dict',\n",
              " 'predict_full_dataset',\n",
              " 'predict_on_dataframe',\n",
              " 'predict_on_smiles',\n",
              " 'run_mode',\n",
              " 'run_predictions',\n",
              " 'save_metrics',\n",
              " 'save_model_metadata',\n",
              " 'split_dataset',\n",
              " 'start_time',\n",
              " 'train_model']"
            ]
          },
          "metadata": {
            "tags": []
          },
          "execution_count": 73
        }
      ]
    },
    {
      "cell_type": "markdown",
      "metadata": {
        "id": "9SRAFsWMXwfn"
      },
      "source": [
        "### Train_model:\n",
        "Build model described by self.params on the training dataset described by self.params.Generate predictions for the training, validation, and test datasets, and save the predictions and performance metrics in the model results DB or in a JSON file.\n",
        "\n",
        "## Note `train_model` is a method of class `ModelPipeline`. If you are using COLAB, mouse-over the `MP.train_model()` to view the source code"
      ]
    },
    {
      "cell_type": "code",
      "metadata": {
        "id": "CMb8j-6NVk3T",
        "colab": {
          "base_uri": "https://localhost:8080/",
          "height": 1000
        },
        "outputId": "feb82ebe-65ff-4edb-e3d5-f35d2b9cb604"
      },
      "source": [
        "MP.train_model()\n",
        "\n",
        "pp.plot_pred_vs_actual(MP)"
      ],
      "execution_count": 74,
      "outputs": [
        {
          "output_type": "stream",
          "text": [
            "number of features: 1024\n"
          ],
          "name": "stdout"
        },
        {
          "output_type": "stream",
          "text": [
            "2021-03-25 18:58:22,539 Splitting data by scaffold\n",
            "2021-03-25 18:58:35,804 Dataset split table saved to /content/delaney_curated_train_valid_test_scaffold_de29b8fe-3a8f-46d5-9d65-340cd8789e58.csv\n"
          ],
          "name": "stderr"
        },
        {
          "output_type": "stream",
          "text": [
            "n_cnt [18981.]\n",
            "y_means [5.19079437]\n",
            "y_stds [1.2065302]\n",
            "TIMING: dataset construction took 0.717 s\n",
            "Loading dataset from disk.\n",
            "TIMING: dataset construction took 0.093 s\n",
            "Loading dataset from disk.\n",
            "TIMING: dataset construction took 0.093 s\n",
            "Loading dataset from disk.\n"
          ],
          "name": "stdout"
        },
        {
          "output_type": "stream",
          "text": [
            "2021-03-25 18:59:18,410 Wrote model metadata to file /content/delaney_curated/RF_ecfp_scaffold_regression/b31d00a9-daed-45d4-9716-530f5203658d/model_metadata.json\n",
            "2021-03-25 18:59:23,692 Wrote model metrics to file /content/delaney_curated/RF_ecfp_scaffold_regression/b31d00a9-daed-45d4-9716-530f5203658d/model_metrics.json\n"
          ],
          "name": "stderr"
        },
        {
          "output_type": "stream",
          "text": [
            "Wrote model tarball to /content/delaney_curated_model_b31d00a9-daed-45d4-9716-530f5203658d.tar.gz\n"
          ],
          "name": "stdout"
        },
        {
          "output_type": "display_data",
          "data": {
            "image/png": "[encoded data removed]",
            "text/plain": [
              "<Figure size 864x864 with 1 Axes>"
            ]
          },
          "metadata": {
            "tags": [],
            "needs_background": "light"
          }
        },
        {
          "output_type": "display_data",
          "data": {
            "image/png": "[encoded data removed]",
            "text/plain": [
              "<Figure size 864x864 with 1 Axes>"
            ]
          },
          "metadata": {
            "tags": [],
            "needs_background": "light"
          }
        },
        {
          "output_type": "display_data",
          "data": {
            "image/png": "[encoded data removed]",
            "text/plain": [
              "<Figure size 864x864 with 1 Axes>"
            ]
          },
          "metadata": {
            "tags": [],
            "needs_background": "light"
          }
        }
      ]
    },
    {
      "cell_type": "code",
      "metadata": {
        "id": "7OSh60dtNVbc",
        "colab": {
          "base_uri": "https://localhost:8080/"
        },
        "outputId": "068965f6-2616-49d2-d9fa-70c522b01cc9"
      },
      "source": [
        "pparams\n",
        "# MP.train_model()"
      ],
      "execution_count": 43,
      "outputs": [
        {
          "output_type": "execute_result",
          "data": {
            "text/plain": [
              "Namespace(autoencoder_bucket=None, autoencoder_key=None, autoencoder_type='molvae', base_splitter='scaffold', baseline_epoch=30, batch_size=50, bias_init_consts=None, bucket='public', butina_cutoff=0.18, class_name=None, class_number=2, collection_name='model_tracker', config_file=None, cutoff_date=None, data_owner='gsk', data_owner_group='gsk_craa', dataset_key='/content/delaney_curated.csv', dataset_name='delaney_curated', dataset_oid=None, datastore=False, date_col=None, descriptor_bucket='public', descriptor_key=None, descriptor_oid=None, descriptor_spec_bucket='', descriptor_spec_key='/usr/local/lib/python3.7/site-packages/atomsci/ddm/data/descriptor_sets_sources_by_descr_type.csv', descriptor_type='moe', dp=None, dropout_list=None, dropouts=None, ecfp_radius=2, ecfp_size=1024, feature_transform_type='normalization', featurizer='ecfp', hyperparam=False, hyperparam_uuid=None, id_col='Compound_ID', layer_nums=None, layer_sizes=None, lc_account='baasic', learning_rate=0.0005, lr=None, ls=None, ls_ratio=None, max_epochs=30, max_final_layer_size=32, max_jobs=80, min_compound_number=200, model_bucket='public', model_choice_score_type='r2', model_dataset_oid=None, model_filter=None, model_tarball_path='/content/delaney_curated_model_b76bd9d0-4f60-434a-8ca1-626e72a2cc83.tar.gz', model_type='RF', model_uuid='b76bd9d0-4f60-434a-8ca1-626e72a2cc83', moe_threads=-1, mol_vae_model_file=None, mordred_cpus=None, nn_size_scale_factor=1.0, node_nums=None, num_folds=5, num_model_tasks=1, optimizer_type='adam', output_dir='/content/delaney_curated/RF_ecfp_scaffold_regression/b76bd9d0-4f60-434a-8ca1-626e72a2cc83', prediction_type='regression', previously_featurized=True, previously_split=False, python_path='python', rerun=True, response_cols=['VALUE_NUM_mean'], response_transform_type='normalization', result_dir='/content', rf_estimators=500, rf_max_depth=None, rf_max_features=32, rfd=None, rfe=None, rff=None, save_results=False, script_dir='.', search_type='grid', shortlist_key=None, slurm_account=None, slurm_export='ALL', slurm_nodes=1, slurm_options=None, slurm_partition='pbatch', slurm_time_limit=1440, smiles_col='rdkit_smiles', split_only=False, split_strategy='train_valid_test', split_test_frac=0.1, split_uuid=None, split_valid_frac=0.1, splitter='scaffold', system='twintron-blue', transformer_bucket='public', transformer_key='/content/delaney_curated/RF_ecfp_scaffold_regression/b76bd9d0-4f60-434a-8ca1-626e72a2cc83/transformers.pkl', transformer_oid=None, transformers=True, umap_dim=10, umap_metric='euclidean', umap_min_dist=0.05, umap_neighbors=20, umap_targ_wt=0.0, uncertainty=True, use_shortlist=False, verbose=False, weight_decay_penalty=0.0001, weight_decay_penalty_type='l2', weight_init_stddevs=None, xgb_colsample_bytree=1.0, xgb_gamma=0.0, xgb_learning_rate=0.1, xgb_max_depth=6, xgb_min_child_weight=1.0, xgb_n_estimators=100, xgb_subsample=1.0, xgbg=None, xgbl=None)"
            ]
          },
          "metadata": {
            "tags": []
          },
          "execution_count": 43
        }
      ]
    },
    {
      "cell_type": "code",
      "metadata": {
        "id": "BcUlli2L_TbR",
        "colab": {
          "base_uri": "https://localhost:8080/"
        },
        "outputId": "5f6fd889-4c64-44c2-8720-c86ade3d7929"
      },
      "source": [
        "!date"
      ],
      "execution_count": null,
      "outputs": [
        {
          "output_type": "stream",
          "text": [
            "Tue Mar 16 15:02:06 UTC 2021\n"
          ],
          "name": "stdout"
        }
      ]
    },
    {
      "cell_type": "code",
      "metadata": {
        "id": "X35qLxgVzuN2"
      },
      "source": [
        ""
      ],
      "execution_count": null,
      "outputs": []
    }
  ]
}