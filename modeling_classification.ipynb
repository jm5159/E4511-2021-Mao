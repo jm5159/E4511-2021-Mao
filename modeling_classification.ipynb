{
  "nbformat": 4,
  "nbformat_minor": 0,
  "metadata": {
    "colab": {
      "name": "modeling_classification.ipynb",
      "provenance": [],
      "collapsed_sections": [],
      "machine_shape": "hm",
      "include_colab_link": true
    },
    "kernelspec": {
      "name": "python3",
      "display_name": "Python 3"
    },
    "accelerator": "GPU"
  },
  "cells": [
    {
      "cell_type": "markdown",
      "metadata": {
        "id": "view-in-github",
        "colab_type": "text"
      },
      "source": [
        "<a href=\"https://colab.research.google.com/github/jm5159/E4511-2021-Mao/blob/master/modeling_classification.ipynb\" target=\"_parent\"><img src=\"https://colab.research.google.com/assets/colab-badge.svg\" alt=\"Open In Colab\"/></a>"
      ]
    },
    {
      "cell_type": "markdown",
      "metadata": {
        "id": "SZ70ierx3pq2"
      },
      "source": [
        "### Install AMPL packages"
      ]
    },
    {
      "cell_type": "code",
      "metadata": {
        "id": "dYPEij6rwDmP"
      },
      "source": [
        "%tensorflow_version 1.x"
      ],
      "execution_count": 2,
      "outputs": []
    },
    {
      "cell_type": "code",
      "metadata": {
        "id": "nNuv4Q5KFABw",
        "colab": {
          "base_uri": "https://localhost:8080/"
        },
        "outputId": "205b6752-cd81-4e0b-aea2-2c5e35ddca00"
      },
      "source": [
        "\n",
        "! wget -c https://repo.anaconda.com/archive/Anaconda3-2019.10-Linux-x86_64.sh\n",
        "! chmod +x Anaconda3-2019.10-Linux-x86_64.sh\n",
        "! bash ./Anaconda3-2019.10-Linux-x86_64.sh -b -f -p /usr/local\n",
        "\n",
        "# ! wget -c https://repo.anaconda.com/miniconda/Miniconda3-py37_4.9.2-Linux-x86_64.sh \n",
        "# ! chmod +x Miniconda3-py37_4.9.2-Linux-x86_64.sh\n",
        "# ! time bash Miniconda3-py37_4.9.2-Linux-x86_64.sh -b -f -p /usr/local\n",
        "\n",
        "! time conda install -y -c deepchem -c rdkit -c conda-forge -c omnia deepchem-gpu=2.3.0\n",
        "import sys\n",
        "sys.path.append('/usr/local/lib/python3.7/site-packages/')\n",
        "\n",
        "!pip install mordred\n",
        "!pip install --upgrade bravado\n",
        "!pip install molvs\n",
        "\n",
        "!wget https://raw.githubusercontent.com/ravichas/AMPL-Tutorial/master/config/install_AMPL_GPU_test.sh\n",
        "\n",
        "! chmod u+x install_AMPL_GPU_test.sh\n",
        "! ./install_AMPL_GPU_test.sh"
      ],
      "execution_count": 3,
      "outputs": [
        {
          "output_type": "stream",
          "text": [
            "--2021-04-02 02:31:33--  https://repo.anaconda.com/archive/Anaconda3-2019.10-Linux-x86_64.sh\n",
            "Resolving repo.anaconda.com (repo.anaconda.com)... 104.16.130.3, 104.16.131.3, 2606:4700::6810:8303, ...\n",
            "Connecting to repo.anaconda.com (repo.anaconda.com)|104.16.130.3|:443... connected.\n",
            "HTTP request sent, awaiting response... 200 OK\n",
            "Length: 530308481 (506M) [application/x-sh]\n",
            "Saving to: ‘Anaconda3-2019.10-Linux-x86_64.sh’\n",
            "\n",
            "Anaconda3-2019.10-L 100%[===================>] 505.74M   243MB/s    in 2.1s    \n",
            "\n",
            "2021-04-02 02:31:35 (243 MB/s) - ‘Anaconda3-2019.10-Linux-x86_64.sh’ saved [530308481/530308481]\n",
            "\n",
            "PREFIX=/usr/local\n",
            "Unpacking payload ...\n",
            "Collecting package metadata (current_repodata.json): - \b\b\\ \b\b| \b\b/ \b\b- \b\b\\ \b\b| \b\bdone\n",
            "Solving environment: - \b\b\\ \b\b| \b\b/ \b\b- \b\b\\ \b\b| \b\b/ \b\b- \b\b\\ \b\b| \b\b/ \b\b- \b\b\\ \b\b| \b\bdone\n",
            "\n",
            "## Package Plan ##\n",
            "\n",
            "  environment location: /usr/local\n",
            "\n",
            "  added / updated specs:\n",
            "    - _ipyw_jlab_nb_ext_conf==0.1.0=py37_0\n",
            "    - _libgcc_mutex==0.1=main\n",
            "    - alabaster==0.7.12=py37_0\n",
            "    - anaconda-client==1.7.2=py37_0\n",
            "    - anaconda-navigator==1.9.7=py37_0\n",
            "    - anaconda-project==0.8.3=py_0\n",
            "    - anaconda==2019.10=py37_0\n",
            "    - asn1crypto==1.0.1=py37_0\n",
            "    - astroid==2.3.1=py37_0\n",
            "    - astropy==3.2.2=py37h7b6447c_0\n",
            "    - atomicwrites==1.3.0=py37_1\n",
            "    - attrs==19.2.0=py_0\n",
            "    - babel==2.7.0=py_0\n",
            "    - backcall==0.1.0=py37_0\n",
            "    - backports.functools_lru_cache==1.5=py_2\n",
            "    - backports.os==0.1.1=py37_0\n",
            "    - backports.shutil_get_terminal_size==1.0.0=py37_2\n",
            "    - backports.tempfile==1.0=py_1\n",
            "    - backports.weakref==1.0.post1=py_1\n",
            "    - backports==1.0=py_2\n",
            "    - beautifulsoup4==4.8.0=py37_0\n",
            "    - bitarray==1.0.1=py37h7b6447c_0\n",
            "    - bkcharts==0.2=py37_0\n",
            "    - blas==1.0=mkl\n",
            "    - bleach==3.1.0=py37_0\n",
            "    - blosc==1.16.3=hd408876_0\n",
            "    - bokeh==1.3.4=py37_0\n",
            "    - boto==2.49.0=py37_0\n",
            "    - bottleneck==1.2.1=py37h035aef0_1\n",
            "    - bzip2==1.0.8=h7b6447c_0\n",
            "    - ca-certificates==2019.8.28=0\n",
            "    - cairo==1.14.12=h8948797_3\n",
            "    - certifi==2019.9.11=py37_0\n",
            "    - cffi==1.12.3=py37h2e261b9_0\n",
            "    - chardet==3.0.4=py37_1003\n",
            "    - click==7.0=py37_0\n",
            "    - cloudpickle==1.2.2=py_0\n",
            "    - clyent==1.2.2=py37_1\n",
            "    - colorama==0.4.1=py37_0\n",
            "    - conda-build==3.18.9=py37_3\n",
            "    - conda-env==2.6.0=1\n",
            "    - conda-package-handling==1.6.0=py37h7b6447c_0\n",
            "    - conda-verify==3.4.2=py_1\n",
            "    - conda==4.7.12=py37_0\n",
            "    - contextlib2==0.6.0=py_0\n",
            "    - cryptography==2.7=py37h1ba5d50_0\n",
            "    - curl==7.65.3=hbc83047_0\n",
            "    - cycler==0.10.0=py37_0\n",
            "    - cython==0.29.13=py37he6710b0_0\n",
            "    - cytoolz==0.10.0=py37h7b6447c_0\n",
            "    - dask-core==2.5.2=py_0\n",
            "    - dask==2.5.2=py_0\n",
            "    - dbus==1.13.6=h746ee38_0\n",
            "    - decorator==4.4.0=py37_1\n",
            "    - defusedxml==0.6.0=py_0\n",
            "    - distributed==2.5.2=py_0\n",
            "    - docutils==0.15.2=py37_0\n",
            "    - entrypoints==0.3=py37_0\n",
            "    - et_xmlfile==1.0.1=py37_0\n",
            "    - expat==2.2.6=he6710b0_0\n",
            "    - fastcache==1.1.0=py37h7b6447c_0\n",
            "    - filelock==3.0.12=py_0\n",
            "    - flask==1.1.1=py_0\n",
            "    - fontconfig==2.13.0=h9420a91_0\n",
            "    - freetype==2.9.1=h8a8886c_1\n",
            "    - fribidi==1.0.5=h7b6447c_0\n",
            "    - fsspec==0.5.2=py_0\n",
            "    - future==0.17.1=py37_0\n",
            "    - get_terminal_size==1.0.0=haa9412d_0\n",
            "    - gevent==1.4.0=py37h7b6447c_0\n",
            "    - glib==2.56.2=hd408876_0\n",
            "    - glob2==0.7=py_0\n",
            "    - gmp==6.1.2=h6c8ec71_1\n",
            "    - gmpy2==2.0.8=py37h10f8cd9_2\n",
            "    - graphite2==1.3.13=h23475e2_0\n",
            "    - greenlet==0.4.15=py37h7b6447c_0\n",
            "    - gst-plugins-base==1.14.0=hbbd80ab_1\n",
            "    - gstreamer==1.14.0=hb453b48_1\n",
            "    - h5py==2.9.0=py37h7918eee_0\n",
            "    - harfbuzz==1.8.8=hffaf4a1_0\n",
            "    - hdf5==1.10.4=hb1b8bf9_0\n",
            "    - heapdict==1.0.1=py_0\n",
            "    - html5lib==1.0.1=py37_0\n",
            "    - icu==58.2=h9c2bf20_1\n",
            "    - idna==2.8=py37_0\n",
            "    - imageio==2.6.0=py37_0\n",
            "    - imagesize==1.1.0=py37_0\n",
            "    - importlib_metadata==0.23=py37_0\n",
            "    - intel-openmp==2019.4=243\n",
            "    - ipykernel==5.1.2=py37h39e3cac_0\n",
            "    - ipython==7.8.0=py37h39e3cac_0\n",
            "    - ipython_genutils==0.2.0=py37_0\n",
            "    - ipywidgets==7.5.1=py_0\n",
            "    - isort==4.3.21=py37_0\n",
            "    - itsdangerous==1.1.0=py37_0\n",
            "    - jbig==2.1=hdba287a_0\n",
            "    - jdcal==1.4.1=py_0\n",
            "    - jedi==0.15.1=py37_0\n",
            "    - jeepney==0.4.1=py_0\n",
            "    - jinja2==2.10.3=py_0\n",
            "    - joblib==0.13.2=py37_0\n",
            "    - jpeg==9b=h024ee3a_2\n",
            "    - json5==0.8.5=py_0\n",
            "    - jsonschema==3.0.2=py37_0\n",
            "    - jupyter==1.0.0=py37_7\n",
            "    - jupyter_client==5.3.3=py37_1\n",
            "    - jupyter_console==6.0.0=py37_0\n",
            "    - jupyter_core==4.5.0=py_0\n",
            "    - jupyterlab==1.1.4=pyhf63ae98_0\n",
            "    - jupyterlab_server==1.0.6=py_0\n",
            "    - keyring==18.0.0=py37_0\n",
            "    - kiwisolver==1.1.0=py37he6710b0_0\n",
            "    - krb5==1.16.1=h173b8e3_7\n",
            "    - lazy-object-proxy==1.4.2=py37h7b6447c_0\n",
            "    - libarchive==3.3.3=h5d8350f_5\n",
            "    - libcurl==7.65.3=h20c2e04_0\n",
            "    - libedit==3.1.20181209=hc058e9b_0\n",
            "    - libffi==3.2.1=hd88cf55_4\n",
            "    - libgcc-ng==9.1.0=hdf63c60_0\n",
            "    - libgfortran-ng==7.3.0=hdf63c60_0\n",
            "    - liblief==0.9.0=h7725739_2\n",
            "    - libpng==1.6.37=hbc83047_0\n",
            "    - libsodium==1.0.16=h1bed415_0\n",
            "    - libssh2==1.8.2=h1ba5d50_0\n",
            "    - libstdcxx-ng==9.1.0=hdf63c60_0\n",
            "    - libtiff==4.0.10=h2733197_2\n",
            "    - libtool==2.4.6=h7b6447c_5\n",
            "    - libuuid==1.0.3=h1bed415_2\n",
            "    - libxcb==1.13=h1bed415_1\n",
            "    - libxml2==2.9.9=hea5a465_1\n",
            "    - libxslt==1.1.33=h7d1a2b0_0\n",
            "    - llvmlite==0.29.0=py37hd408876_0\n",
            "    - locket==0.2.0=py37_1\n",
            "    - lxml==4.4.1=py37hefd8a0e_0\n",
            "    - lz4-c==1.8.1.2=h14c3975_0\n",
            "    - lzo==2.10=h49e0be7_2\n",
            "    - markupsafe==1.1.1=py37h7b6447c_0\n",
            "    - matplotlib==3.1.1=py37h5429711_0\n",
            "    - mccabe==0.6.1=py37_1\n",
            "    - mistune==0.8.4=py37h7b6447c_0\n",
            "    - mkl-service==2.3.0=py37he904b0f_0\n",
            "    - mkl==2019.4=243\n",
            "    - mkl_fft==1.0.14=py37ha843d7b_0\n",
            "    - mkl_random==1.1.0=py37hd6b4f25_0\n",
            "    - mock==3.0.5=py37_0\n",
            "    - more-itertools==7.2.0=py37_0\n",
            "    - mpc==1.1.0=h10f8cd9_1\n",
            "    - mpfr==4.0.1=hdf1c602_3\n",
            "    - mpmath==1.1.0=py37_0\n",
            "    - msgpack-python==0.6.1=py37hfd86e86_1\n",
            "    - multipledispatch==0.6.0=py37_0\n",
            "    - navigator-updater==0.2.1=py37_0\n",
            "    - nbconvert==5.6.0=py37_1\n",
            "    - nbformat==4.4.0=py37_0\n",
            "    - ncurses==6.1=he6710b0_1\n",
            "    - networkx==2.3=py_0\n",
            "    - nltk==3.4.5=py37_0\n",
            "    - nose==1.3.7=py37_2\n",
            "    - notebook==6.0.1=py37_0\n",
            "    - numba==0.45.1=py37h962f231_0\n",
            "    - numexpr==2.7.0=py37h9e4a6bb_0\n",
            "    - numpy-base==1.17.2=py37hde5b4d6_0\n",
            "    - numpy==1.17.2=py37haad9e8e_0\n",
            "    - numpydoc==0.9.1=py_0\n",
            "    - olefile==0.46=py37_0\n",
            "    - openpyxl==3.0.0=py_0\n",
            "    - openssl==1.1.1d=h7b6447c_2\n",
            "    - packaging==19.2=py_0\n",
            "    - pandas==0.25.1=py37he6710b0_0\n",
            "    - pandoc==2.2.3.2=0\n",
            "    - pandocfilters==1.4.2=py37_1\n",
            "    - pango==1.42.4=h049681c_0\n",
            "    - parso==0.5.1=py_0\n",
            "    - partd==1.0.0=py_0\n",
            "    - patchelf==0.9=he6710b0_3\n",
            "    - path.py==12.0.1=py_0\n",
            "    - pathlib2==2.3.5=py37_0\n",
            "    - patsy==0.5.1=py37_0\n",
            "    - pcre==8.43=he6710b0_0\n",
            "    - pep8==1.7.1=py37_0\n",
            "    - pexpect==4.7.0=py37_0\n",
            "    - pickleshare==0.7.5=py37_0\n",
            "    - pillow==6.2.0=py37h34e0f95_0\n",
            "    - pip==19.2.3=py37_0\n",
            "    - pixman==0.38.0=h7b6447c_0\n",
            "    - pkginfo==1.5.0.1=py37_0\n",
            "    - pluggy==0.13.0=py37_0\n",
            "    - ply==3.11=py37_0\n",
            "    - prometheus_client==0.7.1=py_0\n",
            "    - prompt_toolkit==2.0.10=py_0\n",
            "    - psutil==5.6.3=py37h7b6447c_0\n",
            "    - ptyprocess==0.6.0=py37_0\n",
            "    - py-lief==0.9.0=py37h7725739_2\n",
            "    - py==1.8.0=py37_0\n",
            "    - pycodestyle==2.5.0=py37_0\n",
            "    - pycosat==0.6.3=py37h14c3975_0\n",
            "    - pycparser==2.19=py37_0\n",
            "    - pycrypto==2.6.1=py37h14c3975_9\n",
            "    - pycurl==7.43.0.3=py37h1ba5d50_0\n",
            "    - pyflakes==2.1.1=py37_0\n",
            "    - pygments==2.4.2=py_0\n",
            "    - pylint==2.4.2=py37_0\n",
            "    - pyodbc==4.0.27=py37he6710b0_0\n",
            "    - pyopenssl==19.0.0=py37_0\n",
            "    - pyparsing==2.4.2=py_0\n",
            "    - pyqt==5.9.2=py37h05f1152_2\n",
            "    - pyrsistent==0.15.4=py37h7b6447c_0\n",
            "    - pysocks==1.7.1=py37_0\n",
            "    - pytables==3.5.2=py37h71ec239_1\n",
            "    - pytest-arraydiff==0.3=py37h39e3cac_0\n",
            "    - pytest-astropy==0.5.0=py37_0\n",
            "    - pytest-doctestplus==0.4.0=py_0\n",
            "    - pytest-openfiles==0.4.0=py_0\n",
            "    - pytest-remotedata==0.3.2=py37_0\n",
            "    - pytest==5.2.1=py37_0\n",
            "    - python-dateutil==2.8.0=py37_0\n",
            "    - python-libarchive-c==2.8=py37_13\n",
            "    - python==3.7.4=h265db76_1\n",
            "    - pytz==2019.3=py_0\n",
            "    - pywavelets==1.0.3=py37hdd07704_1\n",
            "    - pyyaml==5.1.2=py37h7b6447c_0\n",
            "    - pyzmq==18.1.0=py37he6710b0_0\n",
            "    - qt==5.9.7=h5867ecd_1\n",
            "    - qtawesome==0.6.0=py_0\n",
            "    - qtconsole==4.5.5=py_0\n",
            "    - qtpy==1.9.0=py_0\n",
            "    - readline==7.0=h7b6447c_5\n",
            "    - requests==2.22.0=py37_0\n",
            "    - ripgrep==0.10.0=hc07d326_0\n",
            "    - rope==0.14.0=py_0\n",
            "    - ruamel_yaml==0.15.46=py37h14c3975_0\n",
            "    - scikit-image==0.15.0=py37he6710b0_0\n",
            "    - scikit-learn==0.21.3=py37hd81dba3_0\n",
            "    - scipy==1.3.1=py37h7c811a0_0\n",
            "    - seaborn==0.9.0=py37_0\n",
            "    - secretstorage==3.1.1=py37_0\n",
            "    - send2trash==1.5.0=py37_0\n",
            "    - setuptools==41.4.0=py37_0\n",
            "    - simplegeneric==0.8.1=py37_2\n",
            "    - singledispatch==3.4.0.3=py37_0\n",
            "    - sip==4.19.8=py37hf484d3e_0\n",
            "    - six==1.12.0=py37_0\n",
            "    - snappy==1.1.7=hbae5bb6_3\n",
            "    - snowballstemmer==2.0.0=py_0\n",
            "    - sortedcollections==1.1.2=py37_0\n",
            "    - sortedcontainers==2.1.0=py37_0\n",
            "    - soupsieve==1.9.3=py37_0\n",
            "    - sphinx==2.2.0=py_0\n",
            "    - sphinxcontrib-applehelp==1.0.1=py_0\n",
            "    - sphinxcontrib-devhelp==1.0.1=py_0\n",
            "    - sphinxcontrib-htmlhelp==1.0.2=py_0\n",
            "    - sphinxcontrib-jsmath==1.0.1=py_0\n",
            "    - sphinxcontrib-qthelp==1.0.2=py_0\n",
            "    - sphinxcontrib-serializinghtml==1.1.3=py_0\n",
            "    - sphinxcontrib-websupport==1.1.2=py_0\n",
            "    - sphinxcontrib==1.0=py37_1\n",
            "    - spyder-kernels==0.5.2=py37_0\n",
            "    - spyder==3.3.6=py37_0\n",
            "    - sqlalchemy==1.3.9=py37h7b6447c_0\n",
            "    - sqlite==3.30.0=h7b6447c_0\n",
            "    - statsmodels==0.10.1=py37hdd07704_0\n",
            "    - sympy==1.4=py37_0\n",
            "    - tbb==2019.4=hfd86e86_0\n",
            "    - tblib==1.4.0=py_0\n",
            "    - terminado==0.8.2=py37_0\n",
            "    - testpath==0.4.2=py37_0\n",
            "    - tk==8.6.8=hbc83047_0\n",
            "    - toolz==0.10.0=py_0\n",
            "    - tornado==6.0.3=py37h7b6447c_0\n",
            "    - tqdm==4.36.1=py_0\n",
            "    - traitlets==4.3.3=py37_0\n",
            "    - unicodecsv==0.14.1=py37_0\n",
            "    - unixodbc==2.3.7=h14c3975_0\n",
            "    - urllib3==1.24.2=py37_0\n",
            "    - wcwidth==0.1.7=py37_0\n",
            "    - webencodings==0.5.1=py37_1\n",
            "    - werkzeug==0.16.0=py_0\n",
            "    - wheel==0.33.6=py37_0\n",
            "    - widgetsnbextension==3.5.1=py37_0\n",
            "    - wrapt==1.11.2=py37h7b6447c_0\n",
            "    - wurlitzer==1.0.3=py37_0\n",
            "    - xlrd==1.2.0=py37_0\n",
            "    - xlsxwriter==1.2.1=py_0\n",
            "    - xlwt==1.3.0=py37_0\n",
            "    - xz==5.2.4=h14c3975_4\n",
            "    - yaml==0.1.7=had09818_2\n",
            "    - zeromq==4.3.1=he6710b0_3\n",
            "    - zict==1.0.0=py_0\n",
            "    - zipp==0.6.0=py_0\n",
            "    - zlib==1.2.11=h7b6447c_3\n",
            "    - zstd==1.3.7=h0b5b093_0\n",
            "\n",
            "\n",
            "The following NEW packages will be INSTALLED:\n",
            "\n",
            "  _ipyw_jlab_nb_ext~ pkgs/main/linux-64::_ipyw_jlab_nb_ext_conf-0.1.0-py37_0\n",
            "  _libgcc_mutex      pkgs/main/linux-64::_libgcc_mutex-0.1-main\n",
            "  alabaster          pkgs/main/linux-64::alabaster-0.7.12-py37_0\n",
            "  anaconda           pkgs/main/linux-64::anaconda-2019.10-py37_0\n",
            "  anaconda-client    pkgs/main/linux-64::anaconda-client-1.7.2-py37_0\n",
            "  anaconda-navigator pkgs/main/linux-64::anaconda-navigator-1.9.7-py37_0\n",
            "  anaconda-project   pkgs/main/noarch::anaconda-project-0.8.3-py_0\n",
            "  asn1crypto         pkgs/main/linux-64::asn1crypto-1.0.1-py37_0\n",
            "  astroid            pkgs/main/linux-64::astroid-2.3.1-py37_0\n",
            "  astropy            pkgs/main/linux-64::astropy-3.2.2-py37h7b6447c_0\n",
            "  atomicwrites       pkgs/main/linux-64::atomicwrites-1.3.0-py37_1\n",
            "  attrs              pkgs/main/noarch::attrs-19.2.0-py_0\n",
            "  babel              pkgs/main/noarch::babel-2.7.0-py_0\n",
            "  backcall           pkgs/main/linux-64::backcall-0.1.0-py37_0\n",
            "  backports          pkgs/main/noarch::backports-1.0-py_2\n",
            "  backports.functoo~ pkgs/main/noarch::backports.functools_lru_cache-1.5-py_2\n",
            "  backports.os       pkgs/main/linux-64::backports.os-0.1.1-py37_0\n",
            "  backports.shutil_~ pkgs/main/linux-64::backports.shutil_get_terminal_size-1.0.0-py37_2\n",
            "  backports.tempfile pkgs/main/noarch::backports.tempfile-1.0-py_1\n",
            "  backports.weakref  pkgs/main/noarch::backports.weakref-1.0.post1-py_1\n",
            "  beautifulsoup4     pkgs/main/linux-64::beautifulsoup4-4.8.0-py37_0\n",
            "  bitarray           pkgs/main/linux-64::bitarray-1.0.1-py37h7b6447c_0\n",
            "  bkcharts           pkgs/main/linux-64::bkcharts-0.2-py37_0\n",
            "  blas               pkgs/main/linux-64::blas-1.0-mkl\n",
            "  bleach             pkgs/main/linux-64::bleach-3.1.0-py37_0\n",
            "  blosc              pkgs/main/linux-64::blosc-1.16.3-hd408876_0\n",
            "  bokeh              pkgs/main/linux-64::bokeh-1.3.4-py37_0\n",
            "  boto               pkgs/main/linux-64::boto-2.49.0-py37_0\n",
            "  bottleneck         pkgs/main/linux-64::bottleneck-1.2.1-py37h035aef0_1\n",
            "  bzip2              pkgs/main/linux-64::bzip2-1.0.8-h7b6447c_0\n",
            "  ca-certificates    pkgs/main/linux-64::ca-certificates-2019.8.28-0\n",
            "  cairo              pkgs/main/linux-64::cairo-1.14.12-h8948797_3\n",
            "  certifi            pkgs/main/linux-64::certifi-2019.9.11-py37_0\n",
            "  cffi               pkgs/main/linux-64::cffi-1.12.3-py37h2e261b9_0\n",
            "  chardet            pkgs/main/linux-64::chardet-3.0.4-py37_1003\n",
            "  click              pkgs/main/linux-64::click-7.0-py37_0\n",
            "  cloudpickle        pkgs/main/noarch::cloudpickle-1.2.2-py_0\n",
            "  clyent             pkgs/main/linux-64::clyent-1.2.2-py37_1\n",
            "  colorama           pkgs/main/linux-64::colorama-0.4.1-py37_0\n",
            "  conda              pkgs/main/linux-64::conda-4.7.12-py37_0\n",
            "  conda-build        pkgs/main/linux-64::conda-build-3.18.9-py37_3\n",
            "  conda-env          pkgs/main/linux-64::conda-env-2.6.0-1\n",
            "  conda-package-han~ pkgs/main/linux-64::conda-package-handling-1.6.0-py37h7b6447c_0\n",
            "  conda-verify       pkgs/main/noarch::conda-verify-3.4.2-py_1\n",
            "  contextlib2        pkgs/main/noarch::contextlib2-0.6.0-py_0\n",
            "  cryptography       pkgs/main/linux-64::cryptography-2.7-py37h1ba5d50_0\n",
            "  curl               pkgs/main/linux-64::curl-7.65.3-hbc83047_0\n",
            "  cycler             pkgs/main/linux-64::cycler-0.10.0-py37_0\n",
            "  cython             pkgs/main/linux-64::cython-0.29.13-py37he6710b0_0\n",
            "  cytoolz            pkgs/main/linux-64::cytoolz-0.10.0-py37h7b6447c_0\n",
            "  dask               pkgs/main/noarch::dask-2.5.2-py_0\n",
            "  dask-core          pkgs/main/noarch::dask-core-2.5.2-py_0\n",
            "  dbus               pkgs/main/linux-64::dbus-1.13.6-h746ee38_0\n",
            "  decorator          pkgs/main/linux-64::decorator-4.4.0-py37_1\n",
            "  defusedxml         pkgs/main/noarch::defusedxml-0.6.0-py_0\n",
            "  distributed        pkgs/main/noarch::distributed-2.5.2-py_0\n",
            "  docutils           pkgs/main/linux-64::docutils-0.15.2-py37_0\n",
            "  entrypoints        pkgs/main/linux-64::entrypoints-0.3-py37_0\n",
            "  et_xmlfile         pkgs/main/linux-64::et_xmlfile-1.0.1-py37_0\n",
            "  expat              pkgs/main/linux-64::expat-2.2.6-he6710b0_0\n",
            "  fastcache          pkgs/main/linux-64::fastcache-1.1.0-py37h7b6447c_0\n",
            "  filelock           pkgs/main/noarch::filelock-3.0.12-py_0\n",
            "  flask              pkgs/main/noarch::flask-1.1.1-py_0\n",
            "  fontconfig         pkgs/main/linux-64::fontconfig-2.13.0-h9420a91_0\n",
            "  freetype           pkgs/main/linux-64::freetype-2.9.1-h8a8886c_1\n",
            "  fribidi            pkgs/main/linux-64::fribidi-1.0.5-h7b6447c_0\n",
            "  fsspec             pkgs/main/noarch::fsspec-0.5.2-py_0\n",
            "  future             pkgs/main/linux-64::future-0.17.1-py37_0\n",
            "  get_terminal_size  pkgs/main/linux-64::get_terminal_size-1.0.0-haa9412d_0\n",
            "  gevent             pkgs/main/linux-64::gevent-1.4.0-py37h7b6447c_0\n",
            "  glib               pkgs/main/linux-64::glib-2.56.2-hd408876_0\n",
            "  glob2              pkgs/main/noarch::glob2-0.7-py_0\n",
            "  gmp                pkgs/main/linux-64::gmp-6.1.2-h6c8ec71_1\n",
            "  gmpy2              pkgs/main/linux-64::gmpy2-2.0.8-py37h10f8cd9_2\n",
            "  graphite2          pkgs/main/linux-64::graphite2-1.3.13-h23475e2_0\n",
            "  greenlet           pkgs/main/linux-64::greenlet-0.4.15-py37h7b6447c_0\n",
            "  gst-plugins-base   pkgs/main/linux-64::gst-plugins-base-1.14.0-hbbd80ab_1\n",
            "  gstreamer          pkgs/main/linux-64::gstreamer-1.14.0-hb453b48_1\n",
            "  h5py               pkgs/main/linux-64::h5py-2.9.0-py37h7918eee_0\n",
            "  harfbuzz           pkgs/main/linux-64::harfbuzz-1.8.8-hffaf4a1_0\n",
            "  hdf5               pkgs/main/linux-64::hdf5-1.10.4-hb1b8bf9_0\n",
            "  heapdict           pkgs/main/noarch::heapdict-1.0.1-py_0\n",
            "  html5lib           pkgs/main/linux-64::html5lib-1.0.1-py37_0\n",
            "  icu                pkgs/main/linux-64::icu-58.2-h9c2bf20_1\n",
            "  idna               pkgs/main/linux-64::idna-2.8-py37_0\n",
            "  imageio            pkgs/main/linux-64::imageio-2.6.0-py37_0\n",
            "  imagesize          pkgs/main/linux-64::imagesize-1.1.0-py37_0\n",
            "  importlib_metadata pkgs/main/linux-64::importlib_metadata-0.23-py37_0\n",
            "  intel-openmp       pkgs/main/linux-64::intel-openmp-2019.4-243\n",
            "  ipykernel          pkgs/main/linux-64::ipykernel-5.1.2-py37h39e3cac_0\n",
            "  ipython            pkgs/main/linux-64::ipython-7.8.0-py37h39e3cac_0\n",
            "  ipython_genutils   pkgs/main/linux-64::ipython_genutils-0.2.0-py37_0\n",
            "  ipywidgets         pkgs/main/noarch::ipywidgets-7.5.1-py_0\n",
            "  isort              pkgs/main/linux-64::isort-4.3.21-py37_0\n",
            "  itsdangerous       pkgs/main/linux-64::itsdangerous-1.1.0-py37_0\n",
            "  jbig               pkgs/main/linux-64::jbig-2.1-hdba287a_0\n",
            "  jdcal              pkgs/main/noarch::jdcal-1.4.1-py_0\n",
            "  jedi               pkgs/main/linux-64::jedi-0.15.1-py37_0\n",
            "  jeepney            pkgs/main/noarch::jeepney-0.4.1-py_0\n",
            "  jinja2             pkgs/main/noarch::jinja2-2.10.3-py_0\n",
            "  joblib             pkgs/main/linux-64::joblib-0.13.2-py37_0\n",
            "  jpeg               pkgs/main/linux-64::jpeg-9b-h024ee3a_2\n",
            "  json5              pkgs/main/noarch::json5-0.8.5-py_0\n",
            "  jsonschema         pkgs/main/linux-64::jsonschema-3.0.2-py37_0\n",
            "  jupyter            pkgs/main/linux-64::jupyter-1.0.0-py37_7\n",
            "  jupyter_client     pkgs/main/linux-64::jupyter_client-5.3.3-py37_1\n",
            "  jupyter_console    pkgs/main/linux-64::jupyter_console-6.0.0-py37_0\n",
            "  jupyter_core       pkgs/main/noarch::jupyter_core-4.5.0-py_0\n",
            "  jupyterlab         pkgs/main/noarch::jupyterlab-1.1.4-pyhf63ae98_0\n",
            "  jupyterlab_server  pkgs/main/noarch::jupyterlab_server-1.0.6-py_0\n",
            "  keyring            pkgs/main/linux-64::keyring-18.0.0-py37_0\n",
            "  kiwisolver         pkgs/main/linux-64::kiwisolver-1.1.0-py37he6710b0_0\n",
            "  krb5               pkgs/main/linux-64::krb5-1.16.1-h173b8e3_7\n",
            "  lazy-object-proxy  pkgs/main/linux-64::lazy-object-proxy-1.4.2-py37h7b6447c_0\n",
            "  libarchive         pkgs/main/linux-64::libarchive-3.3.3-h5d8350f_5\n",
            "  libcurl            pkgs/main/linux-64::libcurl-7.65.3-h20c2e04_0\n",
            "  libedit            pkgs/main/linux-64::libedit-3.1.20181209-hc058e9b_0\n",
            "  libffi             pkgs/main/linux-64::libffi-3.2.1-hd88cf55_4\n",
            "  libgcc-ng          pkgs/main/linux-64::libgcc-ng-9.1.0-hdf63c60_0\n",
            "  libgfortran-ng     pkgs/main/linux-64::libgfortran-ng-7.3.0-hdf63c60_0\n",
            "  liblief            pkgs/main/linux-64::liblief-0.9.0-h7725739_2\n",
            "  libpng             pkgs/main/linux-64::libpng-1.6.37-hbc83047_0\n",
            "  libsodium          pkgs/main/linux-64::libsodium-1.0.16-h1bed415_0\n",
            "  libssh2            pkgs/main/linux-64::libssh2-1.8.2-h1ba5d50_0\n",
            "  libstdcxx-ng       pkgs/main/linux-64::libstdcxx-ng-9.1.0-hdf63c60_0\n",
            "  libtiff            pkgs/main/linux-64::libtiff-4.0.10-h2733197_2\n",
            "  libtool            pkgs/main/linux-64::libtool-2.4.6-h7b6447c_5\n",
            "  libuuid            pkgs/main/linux-64::libuuid-1.0.3-h1bed415_2\n",
            "  libxcb             pkgs/main/linux-64::libxcb-1.13-h1bed415_1\n",
            "  libxml2            pkgs/main/linux-64::libxml2-2.9.9-hea5a465_1\n",
            "  libxslt            pkgs/main/linux-64::libxslt-1.1.33-h7d1a2b0_0\n",
            "  llvmlite           pkgs/main/linux-64::llvmlite-0.29.0-py37hd408876_0\n",
            "  locket             pkgs/main/linux-64::locket-0.2.0-py37_1\n",
            "  lxml               pkgs/main/linux-64::lxml-4.4.1-py37hefd8a0e_0\n",
            "  lz4-c              pkgs/main/linux-64::lz4-c-1.8.1.2-h14c3975_0\n",
            "  lzo                pkgs/main/linux-64::lzo-2.10-h49e0be7_2\n",
            "  markupsafe         pkgs/main/linux-64::markupsafe-1.1.1-py37h7b6447c_0\n",
            "  matplotlib         pkgs/main/linux-64::matplotlib-3.1.1-py37h5429711_0\n",
            "  mccabe             pkgs/main/linux-64::mccabe-0.6.1-py37_1\n",
            "  mistune            pkgs/main/linux-64::mistune-0.8.4-py37h7b6447c_0\n",
            "  mkl                pkgs/main/linux-64::mkl-2019.4-243\n",
            "  mkl-service        pkgs/main/linux-64::mkl-service-2.3.0-py37he904b0f_0\n",
            "  mkl_fft            pkgs/main/linux-64::mkl_fft-1.0.14-py37ha843d7b_0\n",
            "  mkl_random         pkgs/main/linux-64::mkl_random-1.1.0-py37hd6b4f25_0\n",
            "  mock               pkgs/main/linux-64::mock-3.0.5-py37_0\n",
            "  more-itertools     pkgs/main/linux-64::more-itertools-7.2.0-py37_0\n",
            "  mpc                pkgs/main/linux-64::mpc-1.1.0-h10f8cd9_1\n",
            "  mpfr               pkgs/main/linux-64::mpfr-4.0.1-hdf1c602_3\n",
            "  mpmath             pkgs/main/linux-64::mpmath-1.1.0-py37_0\n",
            "  msgpack-python     pkgs/main/linux-64::msgpack-python-0.6.1-py37hfd86e86_1\n",
            "  multipledispatch   pkgs/main/linux-64::multipledispatch-0.6.0-py37_0\n",
            "  navigator-updater  pkgs/main/linux-64::navigator-updater-0.2.1-py37_0\n",
            "  nbconvert          pkgs/main/linux-64::nbconvert-5.6.0-py37_1\n",
            "  nbformat           pkgs/main/linux-64::nbformat-4.4.0-py37_0\n",
            "  ncurses            pkgs/main/linux-64::ncurses-6.1-he6710b0_1\n",
            "  networkx           pkgs/main/noarch::networkx-2.3-py_0\n",
            "  nltk               pkgs/main/linux-64::nltk-3.4.5-py37_0\n",
            "  nose               pkgs/main/linux-64::nose-1.3.7-py37_2\n",
            "  notebook           pkgs/main/linux-64::notebook-6.0.1-py37_0\n",
            "  numba              pkgs/main/linux-64::numba-0.45.1-py37h962f231_0\n",
            "  numexpr            pkgs/main/linux-64::numexpr-2.7.0-py37h9e4a6bb_0\n",
            "  numpy              pkgs/main/linux-64::numpy-1.17.2-py37haad9e8e_0\n",
            "  numpy-base         pkgs/main/linux-64::numpy-base-1.17.2-py37hde5b4d6_0\n",
            "  numpydoc           pkgs/main/noarch::numpydoc-0.9.1-py_0\n",
            "  olefile            pkgs/main/linux-64::olefile-0.46-py37_0\n",
            "  openpyxl           pkgs/main/noarch::openpyxl-3.0.0-py_0\n",
            "  openssl            pkgs/main/linux-64::openssl-1.1.1d-h7b6447c_2\n",
            "  packaging          pkgs/main/noarch::packaging-19.2-py_0\n",
            "  pandas             pkgs/main/linux-64::pandas-0.25.1-py37he6710b0_0\n",
            "  pandoc             pkgs/main/linux-64::pandoc-2.2.3.2-0\n",
            "  pandocfilters      pkgs/main/linux-64::pandocfilters-1.4.2-py37_1\n",
            "  pango              pkgs/main/linux-64::pango-1.42.4-h049681c_0\n",
            "  parso              pkgs/main/noarch::parso-0.5.1-py_0\n",
            "  partd              pkgs/main/noarch::partd-1.0.0-py_0\n",
            "  patchelf           pkgs/main/linux-64::patchelf-0.9-he6710b0_3\n",
            "  path.py            pkgs/main/noarch::path.py-12.0.1-py_0\n",
            "  pathlib2           pkgs/main/linux-64::pathlib2-2.3.5-py37_0\n",
            "  patsy              pkgs/main/linux-64::patsy-0.5.1-py37_0\n",
            "  pcre               pkgs/main/linux-64::pcre-8.43-he6710b0_0\n",
            "  pep8               pkgs/main/linux-64::pep8-1.7.1-py37_0\n",
            "  pexpect            pkgs/main/linux-64::pexpect-4.7.0-py37_0\n",
            "  pickleshare        pkgs/main/linux-64::pickleshare-0.7.5-py37_0\n",
            "  pillow             pkgs/main/linux-64::pillow-6.2.0-py37h34e0f95_0\n",
            "  pip                pkgs/main/linux-64::pip-19.2.3-py37_0\n",
            "  pixman             pkgs/main/linux-64::pixman-0.38.0-h7b6447c_0\n",
            "  pkginfo            pkgs/main/linux-64::pkginfo-1.5.0.1-py37_0\n",
            "  pluggy             pkgs/main/linux-64::pluggy-0.13.0-py37_0\n",
            "  ply                pkgs/main/linux-64::ply-3.11-py37_0\n",
            "  prometheus_client  pkgs/main/noarch::prometheus_client-0.7.1-py_0\n",
            "  prompt_toolkit     pkgs/main/noarch::prompt_toolkit-2.0.10-py_0\n",
            "  psutil             pkgs/main/linux-64::psutil-5.6.3-py37h7b6447c_0\n",
            "  ptyprocess         pkgs/main/linux-64::ptyprocess-0.6.0-py37_0\n",
            "  py                 pkgs/main/linux-64::py-1.8.0-py37_0\n",
            "  py-lief            pkgs/main/linux-64::py-lief-0.9.0-py37h7725739_2\n",
            "  pycodestyle        pkgs/main/linux-64::pycodestyle-2.5.0-py37_0\n",
            "  pycosat            pkgs/main/linux-64::pycosat-0.6.3-py37h14c3975_0\n",
            "  pycparser          pkgs/main/linux-64::pycparser-2.19-py37_0\n",
            "  pycrypto           pkgs/main/linux-64::pycrypto-2.6.1-py37h14c3975_9\n",
            "  pycurl             pkgs/main/linux-64::pycurl-7.43.0.3-py37h1ba5d50_0\n",
            "  pyflakes           pkgs/main/linux-64::pyflakes-2.1.1-py37_0\n",
            "  pygments           pkgs/main/noarch::pygments-2.4.2-py_0\n",
            "  pylint             pkgs/main/linux-64::pylint-2.4.2-py37_0\n",
            "  pyodbc             pkgs/main/linux-64::pyodbc-4.0.27-py37he6710b0_0\n",
            "  pyopenssl          pkgs/main/linux-64::pyopenssl-19.0.0-py37_0\n",
            "  pyparsing          pkgs/main/noarch::pyparsing-2.4.2-py_0\n",
            "  pyqt               pkgs/main/linux-64::pyqt-5.9.2-py37h05f1152_2\n",
            "  pyrsistent         pkgs/main/linux-64::pyrsistent-0.15.4-py37h7b6447c_0\n",
            "  pysocks            pkgs/main/linux-64::pysocks-1.7.1-py37_0\n",
            "  pytables           pkgs/main/linux-64::pytables-3.5.2-py37h71ec239_1\n",
            "  pytest             pkgs/main/linux-64::pytest-5.2.1-py37_0\n",
            "  pytest-arraydiff   pkgs/main/linux-64::pytest-arraydiff-0.3-py37h39e3cac_0\n",
            "  pytest-astropy     pkgs/main/linux-64::pytest-astropy-0.5.0-py37_0\n",
            "  pytest-doctestplus pkgs/main/noarch::pytest-doctestplus-0.4.0-py_0\n",
            "  pytest-openfiles   pkgs/main/noarch::pytest-openfiles-0.4.0-py_0\n",
            "  pytest-remotedata  pkgs/main/linux-64::pytest-remotedata-0.3.2-py37_0\n",
            "  python             pkgs/main/linux-64::python-3.7.4-h265db76_1\n",
            "  python-dateutil    pkgs/main/linux-64::python-dateutil-2.8.0-py37_0\n",
            "  python-libarchive~ pkgs/main/linux-64::python-libarchive-c-2.8-py37_13\n",
            "  pytz               pkgs/main/noarch::pytz-2019.3-py_0\n",
            "  pywavelets         pkgs/main/linux-64::pywavelets-1.0.3-py37hdd07704_1\n",
            "  pyyaml             pkgs/main/linux-64::pyyaml-5.1.2-py37h7b6447c_0\n",
            "  pyzmq              pkgs/main/linux-64::pyzmq-18.1.0-py37he6710b0_0\n",
            "  qt                 pkgs/main/linux-64::qt-5.9.7-h5867ecd_1\n",
            "  qtawesome          pkgs/main/noarch::qtawesome-0.6.0-py_0\n",
            "  qtconsole          pkgs/main/noarch::qtconsole-4.5.5-py_0\n",
            "  qtpy               pkgs/main/noarch::qtpy-1.9.0-py_0\n",
            "  readline           pkgs/main/linux-64::readline-7.0-h7b6447c_5\n",
            "  requests           pkgs/main/linux-64::requests-2.22.0-py37_0\n",
            "  ripgrep            pkgs/main/linux-64::ripgrep-0.10.0-hc07d326_0\n",
            "  rope               pkgs/main/noarch::rope-0.14.0-py_0\n",
            "  ruamel_yaml        pkgs/main/linux-64::ruamel_yaml-0.15.46-py37h14c3975_0\n",
            "  scikit-image       pkgs/main/linux-64::scikit-image-0.15.0-py37he6710b0_0\n",
            "  scikit-learn       pkgs/main/linux-64::scikit-learn-0.21.3-py37hd81dba3_0\n",
            "  scipy              pkgs/main/linux-64::scipy-1.3.1-py37h7c811a0_0\n",
            "  seaborn            pkgs/main/linux-64::seaborn-0.9.0-py37_0\n",
            "  secretstorage      pkgs/main/linux-64::secretstorage-3.1.1-py37_0\n",
            "  send2trash         pkgs/main/linux-64::send2trash-1.5.0-py37_0\n",
            "  setuptools         pkgs/main/linux-64::setuptools-41.4.0-py37_0\n",
            "  simplegeneric      pkgs/main/linux-64::simplegeneric-0.8.1-py37_2\n",
            "  singledispatch     pkgs/main/linux-64::singledispatch-3.4.0.3-py37_0\n",
            "  sip                pkgs/main/linux-64::sip-4.19.8-py37hf484d3e_0\n",
            "  six                pkgs/main/linux-64::six-1.12.0-py37_0\n",
            "  snappy             pkgs/main/linux-64::snappy-1.1.7-hbae5bb6_3\n",
            "  snowballstemmer    pkgs/main/noarch::snowballstemmer-2.0.0-py_0\n",
            "  sortedcollections  pkgs/main/linux-64::sortedcollections-1.1.2-py37_0\n",
            "  sortedcontainers   pkgs/main/linux-64::sortedcontainers-2.1.0-py37_0\n",
            "  soupsieve          pkgs/main/linux-64::soupsieve-1.9.3-py37_0\n",
            "  sphinx             pkgs/main/noarch::sphinx-2.2.0-py_0\n",
            "  sphinxcontrib      pkgs/main/linux-64::sphinxcontrib-1.0-py37_1\n",
            "  sphinxcontrib-app~ pkgs/main/noarch::sphinxcontrib-applehelp-1.0.1-py_0\n",
            "  sphinxcontrib-dev~ pkgs/main/noarch::sphinxcontrib-devhelp-1.0.1-py_0\n",
            "  sphinxcontrib-htm~ pkgs/main/noarch::sphinxcontrib-htmlhelp-1.0.2-py_0\n",
            "  sphinxcontrib-jsm~ pkgs/main/noarch::sphinxcontrib-jsmath-1.0.1-py_0\n",
            "  sphinxcontrib-qth~ pkgs/main/noarch::sphinxcontrib-qthelp-1.0.2-py_0\n",
            "  sphinxcontrib-ser~ pkgs/main/noarch::sphinxcontrib-serializinghtml-1.1.3-py_0\n",
            "  sphinxcontrib-web~ pkgs/main/noarch::sphinxcontrib-websupport-1.1.2-py_0\n",
            "  spyder             pkgs/main/linux-64::spyder-3.3.6-py37_0\n",
            "  spyder-kernels     pkgs/main/linux-64::spyder-kernels-0.5.2-py37_0\n",
            "  sqlalchemy         pkgs/main/linux-64::sqlalchemy-1.3.9-py37h7b6447c_0\n",
            "  sqlite             pkgs/main/linux-64::sqlite-3.30.0-h7b6447c_0\n",
            "  statsmodels        pkgs/main/linux-64::statsmodels-0.10.1-py37hdd07704_0\n",
            "  sympy              pkgs/main/linux-64::sympy-1.4-py37_0\n",
            "  tbb                pkgs/main/linux-64::tbb-2019.4-hfd86e86_0\n",
            "  tblib              pkgs/main/noarch::tblib-1.4.0-py_0\n",
            "  terminado          pkgs/main/linux-64::terminado-0.8.2-py37_0\n",
            "  testpath           pkgs/main/linux-64::testpath-0.4.2-py37_0\n",
            "  tk                 pkgs/main/linux-64::tk-8.6.8-hbc83047_0\n",
            "  toolz              pkgs/main/noarch::toolz-0.10.0-py_0\n",
            "  tornado            pkgs/main/linux-64::tornado-6.0.3-py37h7b6447c_0\n",
            "  tqdm               pkgs/main/noarch::tqdm-4.36.1-py_0\n",
            "  traitlets          pkgs/main/linux-64::traitlets-4.3.3-py37_0\n",
            "  unicodecsv         pkgs/main/linux-64::unicodecsv-0.14.1-py37_0\n",
            "  unixodbc           pkgs/main/linux-64::unixodbc-2.3.7-h14c3975_0\n",
            "  urllib3            pkgs/main/linux-64::urllib3-1.24.2-py37_0\n",
            "  wcwidth            pkgs/main/linux-64::wcwidth-0.1.7-py37_0\n",
            "  webencodings       pkgs/main/linux-64::webencodings-0.5.1-py37_1\n",
            "  werkzeug           pkgs/main/noarch::werkzeug-0.16.0-py_0\n",
            "  wheel              pkgs/main/linux-64::wheel-0.33.6-py37_0\n",
            "  widgetsnbextension pkgs/main/linux-64::widgetsnbextension-3.5.1-py37_0\n",
            "  wrapt              pkgs/main/linux-64::wrapt-1.11.2-py37h7b6447c_0\n",
            "  wurlitzer          pkgs/main/linux-64::wurlitzer-1.0.3-py37_0\n",
            "  xlrd               pkgs/main/linux-64::xlrd-1.2.0-py37_0\n",
            "  xlsxwriter         pkgs/main/noarch::xlsxwriter-1.2.1-py_0\n",
            "  xlwt               pkgs/main/linux-64::xlwt-1.3.0-py37_0\n",
            "  xz                 pkgs/main/linux-64::xz-5.2.4-h14c3975_4\n",
            "  yaml               pkgs/main/linux-64::yaml-0.1.7-had09818_2\n",
            "  zeromq             pkgs/main/linux-64::zeromq-4.3.1-he6710b0_3\n",
            "  zict               pkgs/main/noarch::zict-1.0.0-py_0\n",
            "  zipp               pkgs/main/noarch::zipp-0.6.0-py_0\n",
            "  zlib               pkgs/main/linux-64::zlib-1.2.11-h7b6447c_3\n",
            "  zstd               pkgs/main/linux-64::zstd-1.3.7-h0b5b093_0\n",
            "\n",
            "\n",
            "Preparing transaction: - \b\b\\ \b\b| \b\b/ \b\b- \b\b\\ \b\b| \b\b/ \b\b- \b\b\\ \b\b| \b\b/ \b\b- \b\b\\ \b\b| \b\b/ \b\b- \b\b\\ \b\b| \b\b/ \b\b- \b\b\\ \b\b| \b\bdone\n",
            "Executing transaction: - \b\b\\ \b\b| \b\b/ \b\b- \b\b\\ \b\b| \b\b/ \b\b- \b\b\\ \b\b| \b\b/ \b\b- \b\b\\ \b\b| \b\b/ \b\b- \b\b\\ \b\b| \b\b/ \b\b- \b\b\\ \b\b| \b\b/ \b\b- \b\b\\ \b\b| \b\b/ \b\b- \b\b\\ \b\b| \b\b/ \b\b- \b\b\\ \b\b| \b\b/ \b\b- \b\b\\ \b\b| \b\b/ \b\b- \b\b\\ \b\b| \b\b/ \b\b- \b\b\\ \b\b| \b\b/ \b\b- \b\b\\ \b\b| \b\b/ \b\b- \b\b\\ \b\b| \b\b/ \b\b- \b\b\\ \b\b| \b\b/ \b\b- \b\b\\ \b\b| \b\b/ \b\b- \b\b\\ \b\b| \b\b/ \b\b- \b\b\\ \b\b| \b\b/ \b\b- \b\b\\ \b\b| \b\b/ \b\b- \b\b\\ \b\b| \b\b/ \b\b- \b\b\\ \b\b| \b\b/ \b\b- \b\b\\ \b\b| \b\b/ \b\b- \b\b\\ \b\b| \b\b/ \b\b- \b\b\\ \b\b| \b\b/ \b\b- \b\b\\ \b\b| \b\b/ \b\b- \b\b\\ \b\b| \b\b/ \b\b- \b\b\\ \b\b| \b\b/ \b\b- \b\b\\ \b\b| \b\b/ \b\b- \b\b\\ \b\b| \b\b/ \b\b- \b\b\\ \b\b| \b\b/ \b\b- \b\b\\ \b\b| \b\b/ \b\b- \b\b\\ \b\b| \b\b/ \b\b- \b\b\\ \b\b| \b\b/ \b\b- \b\b\\ \b\b| \b\b/ \b\b- \b\b\\ \b\b| \b\b/ \b\b- \b\b\\ \b\b| \b\b/ \b\b- \b\b\\ \b\b| \b\b/ \b\b- \b\b\\ \b\b| \b\b/ \b\b- \b\b\\ \b\b| \b\b/ \b\b- \b\b\\ \b\b| \b\b/ \b\b- \b\b\\ \b\b| \b\b/ \b\b- \b\b\\ \b\b| \b\b/ \b\b- \b\b\\ \b\b| \b\b/ \b\b- \b\b\\ \b\b| \b\b/ \b\b- \b\b\\ \b\b| \b\b/ \b\b- \b\b\\ \b\b| \b\b/ \b\b- \b\b\\ \b\b| \b\b/ \b\b- \b\b\\ \b\b| \b\b/ \b\b- \b\b\\ \b\b| \b\b/ \b\b- \b\b\\ \b\b| \b\b/ \b\b- \b\b\\ \b\b| \b\b/ \b\b- \b\b\\ \b\b| \b\b/ \b\b- \b\b\\ \b\b| \b\b/ \b\b- \b\b\\ \b\b| \b\b/ \b\b- \b\b\\ \b\b| \b\b/ \b\b- \b\b\\ \b\b| \b\b/ \b\b- \b\b\\ \b\b| \b\b/ \b\b- \b\b\\ \b\b| \b\b/ \b\b- \b\b\\ \b\b| \b\b/ \b\b- \b\b\\ \b\b| \b\b/ \b\b- \b\b\\ \b\b| \b\b/ \b\b- \b\b\\ \b\b| \b\b/ \b\b- \b\b\\ \b\b| \b\b/ \b\b- \b\b\\ \b\b| \b\b/ \b\b- \b\b\\ \b\b| \b\b/ \b\b- \b\b\\ \b\b| \b\b/ \b\b- \b\b\\ \b\b| \b\b/ \b\b- \b\b\\ \b\b| \b\b/ \b\b- \b\b\\ \b\b| \b\b/ \b\b- \b\b\\ \b\b| \b\b/ \b\b- \b\b\\ \b\b| \b\b/ \b\b- \b\b\\ \b\b| \b\b/ \b\b- \b\b\\ \b\b| \b\b/ \b\b- \b\b\\ \b\bdone\n",
            "installation finished.\n",
            "WARNING:\n",
            "    You currently have a PYTHONPATH environment variable set. This may cause\n",
            "    unexpected behavior when running the Python interpreter in Anaconda3.\n",
            "    For best results, please verify that your PYTHONPATH only points to\n",
            "    directories of packages that are compatible with the Python interpreter\n",
            "    in Anaconda3: /usr/local\n",
            "Collecting package metadata (current_repodata.json): - \b\b\\ \b\b| \b\b/ \b\b- \b\b\\ \b\b| \b\b/ \b\b- \b\b\\ \b\b| \b\b/ \b\b- \b\b\\ \b\b| \b\b/ \b\b- \b\b\\ \b\b| \b\b/ \b\b- \b\b\\ \b\b| \b\b/ \b\b- \b\b\\ \b\b| \b\b/ \b\b- \b\b\\ \b\b| \b\b/ \b\b- \b\b\\ \b\b| \b\b/ \b\b- \b\b\\ \b\b| \b\b/ \b\b- \b\b\\ \b\b| \b\b/ \b\b- \b\b\\ \b\b| \b\b/ \b\b- \b\b\\ \b\b| \b\b/ \b\b- \b\b\\ \b\b| \b\b/ \b\b- \b\b\\ \b\b| \b\b/ \b\b- \b\b\\ \b\b| \b\b/ \b\b- \b\b\\ \b\b| \b\b/ \b\b- \b\b\\ \b\b| \b\b/ \b\b- \b\b\\ \b\b| \b\b/ \b\b- \b\b\\ \b\b| \b\b/ \b\b- \b\b\\ \b\b| \b\b/ \b\b- \b\b\\ \b\b| \b\b/ \b\b- \b\bdone\n",
            "Solving environment: | \b\b/ \b\b- \b\b\\ \b\b| \b\b/ \b\b- \b\b\\ \b\b| \b\b/ \b\b- \b\b\\ \b\b| \b\b/ \b\b- \b\b\\ \b\b| \b\b/ \b\b- \b\b\\ \b\b| \b\b/ \b\b- \b\b\\ \b\b| \b\b/ \b\b- \b\b\\ \b\b| \b\b/ \b\b- \b\b\\ \b\b| \b\b/ \b\b- \b\b\\ \b\b| \b\b/ \b\b- \b\b\\ \b\b| \b\b/ \b\b- \b\b\\ \b\b| \b\b/ \b\b- \b\b\\ \b\b| \b\b/ \b\b- \b\b\\ \b\b| \b\b/ \b\b- \b\b\\ \b\b| \b\b/ \b\b- \b\b\\ \b\b| \b\b/ \b\b- \b\b\\ \b\b| \b\b/ \b\b- \b\b\\ \b\b| \b\b/ \b\b- \b\b\\ \b\b| \b\b/ \b\b- \b\b\\ \b\b| \b\b/ \b\b- \b\b\\ \b\b| \b\b/ \b\b- \b\b\\ \b\b| \b\b/ \b\b- \b\b\\ \b\b| \b\b/ \b\b- \b\b\\ \b\b| \b\b/ \b\b- \b\b\\ \b\b| \b\b/ \b\b- \b\b\\ \b\b| \b\b/ \b\b- \b\b\\ \b\b| \b\b/ \b\b- \b\b\\ \b\b| \b\b/ \b\b- \b\b\\ \b\b| \b\b/ \b\b- \b\b\\ \b\b| \b\b/ \b\b- \b\b\\ \b\b| \b\b/ \b\b- \b\b\\ \b\b| \b\b/ \b\b- \b\b\\ \b\b| \b\b/ \b\b- \b\b\\ \b\b| \b\b/ \b\b- \b\b\\ \b\b| \b\b/ \b\b- \b\b\\ \b\b| \b\b/ \b\b- \b\b\\ \b\b| \b\b/ \b\b- \b\b\\ \b\b| \b\b/ \b\b- \b\b\\ \b\b| \b\b/ \b\b- \b\b\\ \b\b| \b\b/ \b\b- \b\b\\ \b\b| \b\b/ \b\b- \b\b\\ \b\b| \b\b/ \b\b- \b\b\\ \b\b| \b\b/ \b\b- \b\b\\ \b\b| \b\b/ \b\b- \b\b\\ \b\b| \b\b/ \b\b- \b\b\\ \b\b| \b\b/ \b\b- \b\b\\ \b\b| \b\b/ \b\b- \b\b\\ \b\b| \b\b/ \b\b- \b\b\\ \b\b| \b\b/ \b\b- \b\b\\ \b\b| \b\b/ \b\b- \b\b\\ \b\b| \b\b/ \b\b- \b\b\\ \b\b| \b\b/ \b\b- \b\b\\ \b\b| \b\b/ \b\b- \b\b\\ \b\b| \b\b/ \b\b- \b\b\\ \b\b| \b\b/ \b\b- \b\b\\ \b\b| \b\b/ \b\b- \b\b\\ \b\b| \b\b/ \b\b- \b\b\\ \b\b| \b\b/ \b\b- \b\b\\ \b\b| \b\b/ \b\b- \b\b\\ \b\b| \b\b/ \b\b- \b\b\\ \b\b| \b\b/ \b\b- \b\b\\ \b\b| \b\b/ \b\b- \b\b\\ \b\b| \b\b/ \b\b- \b\b\\ \b\b| \b\b/ \b\b- \b\b\\ \b\b| \b\b/ \b\b- \b\b\\ \b\b| \b\b/ \b\b- \b\b\\ \b\b| \b\b/ \b\b- \b\b\\ \b\b| \b\b/ \b\b- \b\b\\ \b\b| \b\b/ \b\b- \b\b\\ \b\b| \b\b/ \b\b- \b\b\\ \b\b| \b\b/ \b\b- \b\b\\ \b\b| \b\b/ \b\b- \b\b\\ \b\b| \b\b/ \b\b- \b\b\\ \b\b| \b\b/ \b\b- \b\b\\ \b\b| \b\b/ \b\b- \b\b\\ \b\b| \b\b/ \b\b- \b\b\\ \b\b| \b\b/ \b\b- \b\b\\ \b\b| \b\b/ \b\b- \b\b\\ \b\b| \b\b/ \b\b- \b\b\\ \b\b| \b\b/ \b\b- \b\b\\ \b\b| \b\b/ \b\b- \b\b\\ \b\b| \b\b/ \b\b- \b\b\\ \b\b| \b\b/ \b\b- \b\b\\ \b\b| \b\b/ \b\b- \b\b\\ \b\b| \b\b/ \b\b- \b\b\\ \b\b| \b\b/ \b\b- \b\b\\ \b\b| \b\b/ \b\b- \b\b\\ \b\b| \b\b/ \b\b- \b\b\\ \b\b| \b\b/ \b\b- \b\b\\ \b\b| \b\b/ \b\b- \b\b\\ \b\b| \b\b/ \b\b- \b\b\\ \b\b| \b\b/ \b\b- \b\b\\ \b\b| \b\b/ \b\b- \b\b\\ \b\b| \b\b/ \b\b- \b\b\\ \b\b| \b\b/ \b\b- \b\b\\ \b\b| \b\b/ \b\b- \b\b\\ \b\b| \b\b/ \b\b- \b\b\\ \b\b| \b\b/ \b\b- \b\b\\ \b\b| \b\b/ \b\b- \b\b\\ \b\b| \b\b/ \b\b- \b\b\\ \b\b| \b\b/ \b\b- \b\b\\ \b\b| \b\b/ \b\b- \b\b\\ \b\b| \b\b/ \b\b- \b\b\\ \b\b| \b\b/ \b\b- \b\b\\ \b\b| \b\b/ \b\b- \b\b\\ \b\b| \b\b/ \b\b- \b\b\\ \b\b| \b\b/ \b\b- \b\b\\ \b\b| \b\b/ \b\b- \b\b\\ \b\b| \b\b/ \b\b- \b\b\\ \b\b| \b\b/ \b\b- \b\b\\ \b\b| \b\b/ \b\b- \b\b\\ \b\b| \b\b/ \b\b- \b\b\\ \b\b| \b\b/ \b\bfailed with initial frozen solve. Retrying with flexible solve.\n",
            "Solving environment: \\ \b\b| \b\b/ \b\b- \b\b\\ \b\b| \b\b/ \b\b- \b\b\\ \b\b| \b\b/ \b\b- \b\b\\ \b\b| \b\b/ \b\b- \b\b\\ \b\b| \b\b/ \b\b- \b\b\\ \b\b| \b\b/ \b\b- \b\b\\ \b\b| \b\b/ \b\b- \b\b\\ \b\b| \b\b/ \b\b- \b\b\\ \b\b| \b\b/ \b\b- \b\b\\ \b\b| \b\b/ \b\b- \b\b\\ \b\b| \b\b/ \b\b- \b\b\\ \b\b| \b\b/ \b\b- \b\b\\ \b\b| \b\b/ \b\b- \b\b\\ \b\b| \b\b/ \b\b- \b\b\\ \b\b| \b\b/ \b\b- \b\b\\ \b\b| \b\b/ \b\b- \b\b\\ \b\b| \b\b/ \b\b- \b\b\\ \b\b| \b\b/ \b\b- \b\b\\ \b\b| \b\b/ \b\b- \b\b\\ \b\b| \b\b/ \b\b- \b\b\\ \b\b| \b\b/ \b\b- \b\b\\ \b\b| \b\b/ \b\b- \b\b\\ \b\b| \b\b/ \b\b- \b\b\\ \b\b| \b\b/ \b\b- \b\b\\ \b\b| \b\b/ \b\b- \b\b\\ \b\b| \b\b/ \b\b- \b\b\\ \b\b| \b\b/ \b\b- \b\b\\ \b\b| \b\b/ \b\b- \b\b\\ \b\b| \b\b/ \b\b- \b\b\\ \b\b| \b\b/ \b\b- \b\b\\ \b\b| \b\b/ \b\b- \b\b\\ \b\b| \b\b/ \b\b- \b\b\\ \b\b| \b\b/ \b\b- \b\b\\ \b\b| \b\b/ \b\b- \b\b\\ \b\b| \b\b/ \b\b- \b\b\\ \b\b| \b\b/ \b\b- \b\b\\ \b\b| \b\b/ \b\b- \b\b\\ \b\b| \b\b/ \b\b- \b\b\\ \b\b| \b\b/ \b\b- \b\b\\ \b\b| \b\b/ \b\b- \b\b\\ \b\b| \b\b/ \b\b- \b\b\\ \b\b| \b\b/ \b\b- \b\b\\ \b\b| \b\b/ \b\b- \b\b\\ \b\b| \b\b/ \b\b- \b\b\\ \b\b| \b\b/ \b\b- \b\b\\ \b\b| \b\b/ \b\b- \b\b\\ \b\b| \b\b/ \b\b- \b\b\\ \b\b| \b\b/ \b\b- \b\b\\ \b\b| \b\b/ \b\b- \b\b\\ \b\b| \b\b/ \b\b- \b\b\\ \b\b| \b\b/ \b\b- \b\b\\ \b\b| \b\b/ \b\b- \b\b\\ \b\b| \b\b/ \b\b- \b\b\\ \b\b| \b\b/ \b\b- \b\b\\ \b\b| \b\b/ \b\b- \b\b\\ \b\b| \b\b/ \b\b- \b\b\\ \b\b| \b\b/ \b\b- \b\b\\ \b\b| \b\b/ \b\b- \b\b\\ \b\b| \b\b/ \b\b- \b\b\\ \b\b| \b\b/ \b\b- \b\b\\ \b\b| \b\b/ \b\b- \b\b\\ \b\b| \b\b/ \b\b- \b\b\\ \b\b| \b\b/ \b\b- \b\b\\ \b\b| \b\b/ \b\b- \b\b\\ \b\b| \b\b/ \b\b- \b\b\\ \b\b| \b\b/ \b\b- \b\b\\ \b\b| \b\b/ \b\b- \b\b\\ \b\b| \b\b/ \b\b- \b\b\\ \b\b| \b\b/ \b\b- \b\b\\ \b\b| \b\b/ \b\b- \b\b\\ \b\b| \b\b/ \b\b- \b\b\\ \b\b| \b\b/ \b\b- \b\b\\ \b\b| \b\b/ \b\b- \b\b\\ \b\b| \b\b/ \b\b- \b\b\\ \b\b| \b\b/ \b\b- \b\b\\ \b\b| \b\b/ \b\b- \b\b\\ \b\b| \b\b/ \b\b- \b\b\\ \b\b| \b\b/ \b\b- \b\b\\ \b\b| \b\b/ \b\b- \b\b\\ \b\b| \b\b/ \b\b- \b\b\\ \b\b| \b\b/ \b\b- \b\b\\ \b\b| \b\b/ \b\b- \b\b\\ \b\b| \b\b/ \b\b- \b\b\\ \b\b| \b\b/ \b\b- \b\b\\ \b\b| \b\b/ \b\b- \b\b\\ \b\b| \b\b/ \b\b- \b\b\\ \b\b| \b\b/ \b\b- \b\b\\ \b\b| \b\b/ \b\b- \b\b\\ \b\b| \b\b/ \b\b- \b\b\\ \b\b| \b\b/ \b\b- \b\b\\ \b\b| \b\b/ \b\b- \b\b\\ \b\b| \b\b/ \b\b- \b\b\\ \b\b| \b\b/ \b\b- \b\b\\ \b\b| \b\b/ \b\b- \b\b\\ \b\b| \b\b/ \b\b- \b\b\\ \b\b| \b\b/ \b\b- \b\b\\ \b\b| \b\b/ \b\b- \b\b\\ \b\b| \b\b/ \b\b- \b\b\\ \b\b| \b\b/ \b\b- \b\b\\ \b\b| \b\b/ \b\b- \b\b\\ \b\b| \b\b/ \b\b- \b\b\\ \b\b| \b\b/ \b\b- \b\b\\ \b\b| \b\b/ \b\b- \b\b\\ \b\b| \b\b/ \b\b- \b\b\\ \b\b| \b\b/ \b\b- \b\b\\ \b\b| \b\b/ \b\b- \b\b\\ \b\b| \b\b/ \b\b- \b\b\\ \b\b| \b\b/ \b\b- \b\b\\ \b\b| \b\b/ \b\b- \b\b\\ \b\b| \b\b/ \b\b- \b\b\\ \b\b| \b\b/ \b\b- \b\b\\ \b\b| \b\b/ \b\b- \b\b\\ \b\b| \b\b/ \b\b- \b\b\\ \b\b| \b\b/ \b\b- \b\b\\ \b\b| \b\b/ \b\b- \b\b\\ \b\b| \b\b/ \b\b- \b\b\\ \b\b| \b\b/ \b\b- \b\bfailed with repodata from current_repodata.json, will retry with next repodata source.\n",
            "Collecting package metadata (repodata.json): | \b\b/ \b\b- \b\b\\ \b\b| \b\b/ \b\b- \b\b\\ \b\b| \b\b/ \b\b- \b\b\\ \b\b| \b\b/ \b\b- \b\b\\ \b\b| \b\b/ \b\b- \b\b\\ \b\b| \b\b/ \b\b- \b\b\\ \b\b| \b\b/ \b\b- \b\b\\ \b\b| \b\b/ \b\b- \b\b\\ \b\b| \b\b/ \b\b- \b\b\\ \b\b| \b\b/ \b\b- \b\b\\ \b\b| \b\b/ \b\b- \b\b\\ \b\b| \b\b/ \b\b- \b\b\\ \b\b| \b\b/ \b\b- \b\b\\ \b\b| \b\b/ \b\b- \b\b\\ \b\b| \b\b/ \b\b- \b\b\\ \b\b| \b\b/ \b\b- \b\b\\ \b\b| \b\b/ \b\b- \b\b\\ \b\b| \b\b/ \b\b- \b\b\\ \b\b| \b\b/ \b\b- \b\b\\ \b\b| \b\b/ \b\b- \b\b\\ \b\b| \b\b/ \b\b- \b\b\\ \b\b| \b\b/ \b\b- \b\b\\ \b\b| \b\b/ \b\b- \b\b\\ \b\b| \b\b/ \b\b- \b\b\\ \b\b| \b\b/ \b\b- \b\b\\ \b\b| \b\b/ \b\b- \b\b\\ \b\b| \b\b/ \b\b- \b\b\\ \b\b| \b\b/ \b\b- \b\b\\ \b\b| \b\b/ \b\b- \b\b\\ \b\b| \b\b/ \b\b- \b\b\\ \b\b| \b\b/ \b\b- \b\b\\ \b\b| \b\b/ \b\b- \b\b\\ \b\b| \b\b/ \b\b- \b\b\\ \b\b| \b\b/ \b\b- \b\b\\ \b\b| \b\b/ \b\b- \b\b\\ \b\b| \b\b/ \b\b- \b\b\\ \b\b| \b\b/ \b\b- \b\b\\ \b\b| \b\b/ \b\b- \b\b\\ \b\b| \b\b/ \b\b- \b\b\\ \b\b| \b\b/ \b\b- \b\b\\ \b\b| \b\b/ \b\b- \b\b\\ \b\b| \b\b/ \b\b- \b\b\\ \b\b| \b\b/ \b\b- \b\b\\ \b\b| \b\b/ \b\b- \b\b\\ \b\b| \b\b/ \b\b- \b\b\\ \b\b| \b\b/ \b\b- \b\b\\ \b\b| \b\b/ \b\b- \b\b\\ \b\b| \b\b/ \b\b- \b\b\\ \b\b| \b\b/ \b\b- \b\b\\ \b\b| \b\b/ \b\b- \b\b\\ \b\b| \b\b/ \b\b- \b\b\\ \b\b| \b\b/ \b\b- \b\b\\ \b\b| \b\b/ \b\b- \b\b\\ \b\b| \b\b/ \b\b- \b\b\\ \b\b| \b\b/ \b\b- \b\b\\ \b\b| \b\b/ \b\b- \b\b\\ \b\b| \b\b/ \b\b- \b\b\\ \b\b| \b\b/ \b\b- \b\b\\ \b\b| \b\b/ \b\b- \b\b\\ \b\b| \b\b/ \b\b- \b\b\\ \b\b| \b\b/ \b\b- \b\b\\ \b\b| \b\b/ \b\b- \b\b\\ \b\b| \b\b/ \b\b- \b\b\\ \b\b| \b\b/ \b\b- \b\b\\ \b\b| \b\b/ \b\b- \b\b\\ \b\b| \b\b/ \b\b- \b\b\\ \b\b| \b\b/ \b\b- \b\b\\ \b\b| \b\b/ \b\b- \b\b\\ \b\b| \b\b/ \b\b- \b\b\\ \b\b| \b\b/ \b\b- \b\b\\ \b\b| \b\b/ \b\b- \b\b\\ \b\b| \b\b/ \b\b- \b\b\\ \b\b| \b\bdone\n",
            "Solving environment: - \b\b\\ \b\b| \b\b/ \b\b- \b\b\\ \b\b| \b\b/ \b\b- \b\b\\ \b\b| \b\b/ \b\b- \b\b\\ \b\b| \b\b/ \b\b- \b\b\\ \b\b| \b\b/ \b\b- \b\b\\ \b\b| \b\b/ \b\b- \b\b\\ \b\b| \b\b/ \b\b- \b\b\\ \b\b| \b\b/ \b\b- \b\b\\ \b\b| \b\b/ \b\b- \b\b\\ \b\b| \b\b/ \b\b- \b\b\\ \b\b| \b\b/ \b\b- \b\b\\ \b\b| \b\b/ \b\b- \b\b\\ \b\b| \b\b/ \b\b- \b\b\\ \b\b| \b\b/ \b\b- \b\b\\ \b\b| \b\b/ \b\b- \b\b\\ \b\b| \b\b/ \b\b- \b\b\\ \b\b| \b\b/ \b\b- \b\b\\ \b\b| \b\b/ \b\b- \b\b\\ \b\b| \b\b/ \b\b- \b\b\\ \b\b| \b\b/ \b\b- \b\b\\ \b\b| \b\b/ \b\b- \b\b\\ \b\b| \b\b/ \b\b- \b\b\\ \b\b| \b\b/ \b\b- \b\b\\ \b\b| \b\b/ \b\b- \b\b\\ \b\b| \b\b/ \b\b- \b\b\\ \b\b| \b\b/ \b\b- \b\b\\ \b\b| \b\b/ \b\b- \b\b\\ \b\b| \b\b/ \b\b- \b\b\\ \b\b| \b\b/ \b\b- \b\b\\ \b\b| \b\b/ \b\b- \b\b\\ \b\b| \b\b/ \b\b- \b\b\\ \b\b| \b\b/ \b\b- \b\b\\ \b\b| \b\b/ \b\b- \b\b\\ \b\b| \b\b/ \b\b- \b\b\\ \b\b| \b\b/ \b\b- \b\b\\ \b\b| \b\b/ \b\b- \b\b\\ \b\b| \b\b/ \b\b- \b\b\\ \b\b| \b\b/ \b\b- \b\b\\ \b\b| \b\b/ \b\b- \b\b\\ \b\b| \b\b/ \b\b- \b\b\\ \b\b| \b\b/ \b\b- \b\b\\ \b\b| \b\b/ \b\b- \b\b\\ \b\b| \b\b/ \b\b- \b\b\\ \b\b| \b\b/ \b\bdone\n",
            "\n",
            "\n",
            "==> WARNING: A newer version of conda exists. <==\n",
            "  current version: 4.7.12\n",
            "  latest version: 4.9.2\n",
            "\n",
            "Please update conda by running\n",
            "\n",
            "    $ conda update -n base -c defaults conda\n",
            "\n",
            "\n",
            "\n",
            "## Package Plan ##\n",
            "\n",
            "  environment location: /usr/local\n",
            "\n",
            "  added / updated specs:\n",
            "    - deepchem-gpu=2.3.0\n",
            "\n",
            "\n",
            "The following packages will be downloaded:\n",
            "\n",
            "    package                    |            build\n",
            "    ---------------------------|-----------------\n",
            "    _py-xgboost-mutex-2.0      |            cpu_0           8 KB  conda-forge\n",
            "    _tflow_select-2.1.0        |              gpu           2 KB\n",
            "    absl-py-0.12.0             |     pyhd8ed1ab_0          96 KB  conda-forge\n",
            "    astor-0.8.1                |     pyh9f0ad1d_0          25 KB  conda-forge\n",
            "    astunparse-1.6.3           |     pyhd8ed1ab_0          15 KB  conda-forge\n",
            "    c-ares-1.17.1              |       h36c2ea0_0         111 KB  conda-forge\n",
            "    certifi-2019.9.11          |           py37_0         147 KB  conda-forge\n",
            "    conda-4.10.0               |   py37h89c1867_0         3.1 MB  conda-forge\n",
            "    cudatoolkit-10.1.243       |       h6bb024c_0       347.4 MB\n",
            "    cudnn-7.6.5.32             |       hc0a50b0_1       250.7 MB  conda-forge\n",
            "    cupti-10.1.168             |                0         1.4 MB\n",
            "    deepchem-gpu-2.3.0         |           py37_0         2.1 MB  deepchem\n",
            "    fftw3f-3.3.4               |                2         1.2 MB  omnia\n",
            "    gast-0.4.0                 |     pyh9f0ad1d_0          12 KB  conda-forge\n",
            "    google-pasta-0.2.0         |     pyh8c360ce_0          42 KB  conda-forge\n",
            "    grpcio-1.23.0              |   py37hb0870dc_1         1.1 MB  conda-forge\n",
            "    importlib-metadata-3.10.0  |   py37h89c1867_0          27 KB  conda-forge\n",
            "    keras-applications-1.0.8   |             py_1          30 KB  conda-forge\n",
            "    keras-preprocessing-1.1.2  |     pyhd8ed1ab_0          34 KB  conda-forge\n",
            "    libboost-1.67.0            |       h46d08c1_4        13.0 MB\n",
            "    libprotobuf-3.13.0.1       |       h8b12597_0         2.3 MB  conda-forge\n",
            "    libxgboost-1.2.0           |       he1b5a44_0         3.1 MB  conda-forge\n",
            "    markdown-3.3.4             |     pyhd8ed1ab_0          67 KB  conda-forge\n",
            "    mdtraj-1.9.5               |   py37h113d463_0         1.7 MB  conda-forge\n",
            "    openmm-7.4.2               |py37_cuda101_rc_1        11.9 MB  omnia\n",
            "    pdbfixer-1.6               |             py_1         167 KB  omnia\n",
            "    protobuf-3.13.0.1          |   py37h745909e_1         704 KB  conda-forge\n",
            "    py-boost-1.67.0            |   py37h04863e7_4         278 KB\n",
            "    py-xgboost-1.2.0           |   py37hc8dfbb8_0         1.7 MB  conda-forge\n",
            "    python_abi-3.7             |          1_cp37m           4 KB  conda-forge\n",
            "    rdkit-2020.03.3.0          |   py37hc20afe1_1        24.8 MB  rdkit\n",
            "    simdna-0.4.2               |             py_0         627 KB  deepchem\n",
            "    tensorboard-1.14.0         |           py37_0         3.2 MB  conda-forge\n",
            "    tensorflow-1.14.0          |gpu_py37h74c33d7_0           4 KB\n",
            "    tensorflow-base-1.14.0     |gpu_py37he45bfe2_0       146.3 MB\n",
            "    tensorflow-estimator-1.14.0|   py37h5ca1d4c_0         645 KB  conda-forge\n",
            "    tensorflow-gpu-1.14.0      |       h0d30ee6_0           3 KB\n",
            "    termcolor-1.1.0            |             py_2           6 KB  conda-forge\n",
            "    typing_extensions-3.7.4.3  |             py_0          25 KB  conda-forge\n",
            "    xgboost-1.2.0              |   py37h3340039_0          11 KB  conda-forge\n",
            "    ------------------------------------------------------------\n",
            "                                           Total:       817.9 MB\n",
            "\n",
            "The following NEW packages will be INSTALLED:\n",
            "\n",
            "  _py-xgboost-mutex  conda-forge/linux-64::_py-xgboost-mutex-2.0-cpu_0\n",
            "  _tflow_select      pkgs/main/linux-64::_tflow_select-2.1.0-gpu\n",
            "  absl-py            conda-forge/noarch::absl-py-0.12.0-pyhd8ed1ab_0\n",
            "  astor              conda-forge/noarch::astor-0.8.1-pyh9f0ad1d_0\n",
            "  astunparse         conda-forge/noarch::astunparse-1.6.3-pyhd8ed1ab_0\n",
            "  c-ares             conda-forge/linux-64::c-ares-1.17.1-h36c2ea0_0\n",
            "  cudatoolkit        pkgs/main/linux-64::cudatoolkit-10.1.243-h6bb024c_0\n",
            "  cudnn              conda-forge/linux-64::cudnn-7.6.5.32-hc0a50b0_1\n",
            "  cupti              pkgs/main/linux-64::cupti-10.1.168-0\n",
            "  deepchem-gpu       deepchem/linux-64::deepchem-gpu-2.3.0-py37_0\n",
            "  fftw3f             omnia/linux-64::fftw3f-3.3.4-2\n",
            "  gast               conda-forge/noarch::gast-0.4.0-pyh9f0ad1d_0\n",
            "  google-pasta       conda-forge/noarch::google-pasta-0.2.0-pyh8c360ce_0\n",
            "  grpcio             conda-forge/linux-64::grpcio-1.23.0-py37hb0870dc_1\n",
            "  importlib-metadata conda-forge/linux-64::importlib-metadata-3.10.0-py37h89c1867_0\n",
            "  keras-applications conda-forge/noarch::keras-applications-1.0.8-py_1\n",
            "  keras-preprocessi~ conda-forge/noarch::keras-preprocessing-1.1.2-pyhd8ed1ab_0\n",
            "  libboost           pkgs/main/linux-64::libboost-1.67.0-h46d08c1_4\n",
            "  libprotobuf        conda-forge/linux-64::libprotobuf-3.13.0.1-h8b12597_0\n",
            "  libxgboost         conda-forge/linux-64::libxgboost-1.2.0-he1b5a44_0\n",
            "  markdown           conda-forge/noarch::markdown-3.3.4-pyhd8ed1ab_0\n",
            "  mdtraj             conda-forge/linux-64::mdtraj-1.9.5-py37h113d463_0\n",
            "  openmm             omnia/linux-64::openmm-7.4.2-py37_cuda101_rc_1\n",
            "  pdbfixer           omnia/noarch::pdbfixer-1.6-py_1\n",
            "  protobuf           conda-forge/linux-64::protobuf-3.13.0.1-py37h745909e_1\n",
            "  py-boost           pkgs/main/linux-64::py-boost-1.67.0-py37h04863e7_4\n",
            "  py-xgboost         conda-forge/linux-64::py-xgboost-1.2.0-py37hc8dfbb8_0\n",
            "  python_abi         conda-forge/linux-64::python_abi-3.7-1_cp37m\n",
            "  rdkit              rdkit/linux-64::rdkit-2020.03.3.0-py37hc20afe1_1\n",
            "  simdna             deepchem/noarch::simdna-0.4.2-py_0\n",
            "  tensorboard        conda-forge/linux-64::tensorboard-1.14.0-py37_0\n",
            "  tensorflow         pkgs/main/linux-64::tensorflow-1.14.0-gpu_py37h74c33d7_0\n",
            "  tensorflow-base    pkgs/main/linux-64::tensorflow-base-1.14.0-gpu_py37he45bfe2_0\n",
            "  tensorflow-estima~ conda-forge/linux-64::tensorflow-estimator-1.14.0-py37h5ca1d4c_0\n",
            "  tensorflow-gpu     pkgs/main/linux-64::tensorflow-gpu-1.14.0-h0d30ee6_0\n",
            "  termcolor          conda-forge/noarch::termcolor-1.1.0-py_2\n",
            "  typing_extensions  conda-forge/noarch::typing_extensions-3.7.4.3-py_0\n",
            "  xgboost            conda-forge/linux-64::xgboost-1.2.0-py37h3340039_0\n",
            "\n",
            "The following packages will be UPDATED:\n",
            "\n",
            "  conda                      pkgs/main::conda-4.7.12-py37_0 --> conda-forge::conda-4.10.0-py37h89c1867_0\n",
            "\n",
            "The following packages will be SUPERSEDED by a higher-priority channel:\n",
            "\n",
            "  certifi                                         pkgs/main --> conda-forge\n",
            "\n",
            "\n",
            "\n",
            "Downloading and Extracting Packages\n",
            "certifi-2019.9.11    | 147 KB    | : 100% 1.0/1 [00:00<00:00,  6.74it/s]\n",
            "libboost-1.67.0      | 13.0 MB   | : 100% 1.0/1 [00:01<00:00,  1.27it/s]                \n",
            "astor-0.8.1          | 25 KB     | : 100% 1.0/1 [00:00<00:00, 22.15it/s]\n",
            "keras-preprocessing- | 34 KB     | : 100% 1.0/1 [00:00<00:00, 20.78it/s]\n",
            "markdown-3.3.4       | 67 KB     | : 100% 1.0/1 [00:00<00:00, 18.23it/s]\n",
            "astunparse-1.6.3     | 15 KB     | : 100% 1.0/1 [00:00<00:00, 26.09it/s]\n",
            "keras-applications-1 | 30 KB     | : 100% 1.0/1 [00:00<00:00, 22.20it/s]\n",
            "termcolor-1.1.0      | 6 KB      | : 100% 1.0/1 [00:00<00:00, 28.78it/s]\n",
            "libprotobuf-3.13.0.1 | 2.3 MB    | : 100% 1.0/1 [00:00<00:00,  2.41it/s]\n",
            "fftw3f-3.3.4         | 1.2 MB    | : 100% 1.0/1 [00:03<00:00,  3.25s/it]\n",
            "rdkit-2020.03.3.0    | 24.8 MB   | : 100% 1.0/1 [00:09<00:00,  9.28s/it]\n",
            "simdna-0.4.2         | 627 KB    | : 100% 1.0/1 [00:08<00:00,  8.14s/it]\n",
            "tensorflow-base-1.14 | 146.3 MB  | : 100% 1.0/1 [00:09<00:00,  9.53s/it]               \n",
            "openmm-7.4.2         | 11.9 MB   | : 100% 1.0/1 [00:06<00:00,  6.31s/it]\n",
            "cudnn-7.6.5.32       | 250.7 MB  | : 100% 1.0/1 [00:28<00:00, 28.52s/it]               \n",
            "importlib-metadata-3 | 27 KB     | : 100% 1.0/1 [00:00<00:00, 11.43it/s]\n",
            "_py-xgboost-mutex-2. | 8 KB      | : 100% 1.0/1 [00:00<00:00, 25.10it/s]\n",
            "deepchem-gpu-2.3.0   | 2.1 MB    | : 100% 1.0/1 [00:03<00:00,  3.51s/it]\n",
            "c-ares-1.17.1        | 111 KB    | : 100% 1.0/1 [00:00<00:00, 18.94it/s]\n",
            "mdtraj-1.9.5         | 1.7 MB    | : 100% 1.0/1 [00:00<00:00,  3.49it/s]\n",
            "pdbfixer-1.6         | 167 KB    | : 100% 1.0/1 [00:02<00:00,  2.38s/it]\n",
            "absl-py-0.12.0       | 96 KB     | : 100% 1.0/1 [00:00<00:00, 16.47it/s]\n",
            "google-pasta-0.2.0   | 42 KB     | : 100% 1.0/1 [00:00<00:00, 23.75it/s]\n",
            "py-boost-1.67.0      | 278 KB    | : 100% 1.0/1 [00:00<00:00,  8.44it/s]\n",
            "python_abi-3.7       | 4 KB      | : 100% 1.0/1 [00:00<00:00, 24.06it/s]\n",
            "conda-4.10.0         | 3.1 MB    | : 100% 1.0/1 [00:00<00:00,  1.83it/s]\n",
            "tensorflow-estimator | 645 KB    | : 100% 1.0/1 [00:00<00:00,  5.05it/s]\n",
            "tensorflow-1.14.0    | 4 KB      | : 100% 1.0/1 [00:00<00:00, 11.22it/s]\n",
            "xgboost-1.2.0        | 11 KB     | : 100% 1.0/1 [00:00<00:00, 20.90it/s]\n",
            "grpcio-1.23.0        | 1.1 MB    | : 100% 1.0/1 [00:00<00:00,  5.27it/s]\n",
            "cupti-10.1.168       | 1.4 MB    | : 100% 1.0/1 [00:00<00:00,  8.33it/s]\n",
            "py-xgboost-1.2.0     | 1.7 MB    | : 100% 1.0/1 [00:00<00:00,  2.59it/s]                \n",
            "tensorflow-gpu-1.14. | 3 KB      | : 100% 1.0/1 [00:00<00:00, 11.37it/s]\n",
            "gast-0.4.0           | 12 KB     | : 100% 1.0/1 [00:00<00:00, 16.93it/s]\n",
            "protobuf-3.13.0.1    | 704 KB    | : 100% 1.0/1 [00:00<00:00,  5.17it/s]\n",
            "typing_extensions-3. | 25 KB     | : 100% 1.0/1 [00:00<00:00, 32.55it/s]\n",
            "cudatoolkit-10.1.243 | 347.4 MB  | : 100% 1.0/1 [00:06<00:00, 29.92s/it]               \n",
            "_tflow_select-2.1.0  | 2 KB      | : 100% 1.0/1 [00:00<00:00, 11.05it/s]\n",
            "tensorboard-1.14.0   | 3.2 MB    | : 100% 1.0/1 [00:00<00:00,  2.31it/s]\n",
            "libxgboost-1.2.0     | 3.1 MB    | : 100% 1.0/1 [00:00<00:00,  2.11it/s]\n",
            "Preparing transaction: \\ \b\b| \b\b/ \b\b- \b\b\\ \b\b| \b\b/ \b\b- \b\bdone\n",
            "Verifying transaction: | \b\b/ \b\b- \b\b\\ \b\b| \b\b/ \b\b- \b\b\\ \b\b| \b\b/ \b\b- \b\b\\ \b\b| \b\b/ \b\b- \b\b\\ \b\b| \b\b/ \b\b- \b\b\\ \b\b| \b\b/ \b\bdone\n",
            "Executing transaction: \\ \b\b| \b\b/ \b\b- \b\b\\ \b\b| \b\b/ \b\b- \b\b\\ \b\b| \b\b/ \b\b- \b\b\\ \b\b| \b\b/ \b\b- \b\b\\ b'By downloading and using the cuDNN conda packages, you accept the terms and conditions of the NVIDIA cuDNN EULA -\\n  https://docs.nvidia.com/deeplearning/cudnn/sla/index.html\\n'\n",
            "\b\b| \b\b/ \b\b- \b\b\\ \b\b| \b\b/ \b\b- \b\b\\ \b\b| \b\b/ \b\b- \b\b\\ \b\b| \b\b/ \b\b- \b\b\\ \b\bdone\n",
            "\n",
            "real\t4m29.271s\n",
            "user\t3m41.395s\n",
            "sys\t0m12.321s\n",
            "Collecting mordred\n",
            "\u001b[?25l  Downloading https://files.pythonhosted.org/packages/93/3d/26c908ece761adafcea06320bf8fe73f4de69979273fb164226dc6038c39/mordred-1.2.0.tar.gz (128kB)\n",
            "\u001b[K     |████████████████████████████████| 133kB 4.1MB/s \n",
            "\u001b[?25hRequirement already satisfied: six==1.* in /usr/local/lib/python3.7/site-packages (from mordred) (1.12.0)\n",
            "Requirement already satisfied: numpy==1.* in /usr/local/lib/python3.7/site-packages (from mordred) (1.17.2)\n",
            "Requirement already satisfied: networkx==2.* in /usr/local/lib/python3.7/site-packages (from mordred) (2.3)\n",
            "Requirement already satisfied: decorator>=4.3.0 in /usr/local/lib/python3.7/site-packages (from networkx==2.*->mordred) (4.4.0)\n",
            "Building wheels for collected packages: mordred\n",
            "  Building wheel for mordred (setup.py) ... \u001b[?25l\u001b[?25hdone\n",
            "  Created wheel for mordred: filename=mordred-1.2.0-cp37-none-any.whl size=176721 sha256=0b5ae05540b600d8b9d0b03bcf419267225b66496ca9df2f01cc534f1a223433\n",
            "  Stored in directory: /root/.cache/pip/wheels/ac/74/3f/2fd81b1187013f2eadb15620434813f1824c4c03b7bd1f94f6\n",
            "Successfully built mordred\n",
            "Installing collected packages: mordred\n",
            "Successfully installed mordred-1.2.0\n",
            "Collecting bravado\n",
            "  Downloading https://files.pythonhosted.org/packages/21/ed/03b0c36b5bcafbe2938ed222f9a164a6c0367ce99a9d2d502e462853571d/bravado-11.0.3-py2.py3-none-any.whl\n",
            "Requirement already satisfied, skipping upgrade: pyyaml in /usr/local/lib/python3.7/site-packages (from bravado) (5.1.2)\n",
            "Requirement already satisfied, skipping upgrade: msgpack in /usr/local/lib/python3.7/site-packages (from bravado) (0.6.1)\n",
            "Requirement already satisfied, skipping upgrade: six in /usr/local/lib/python3.7/site-packages (from bravado) (1.12.0)\n",
            "Collecting simplejson (from bravado)\n",
            "\u001b[?25l  Downloading https://files.pythonhosted.org/packages/a8/04/377418ac1e530ce2a196b54c6552c018fdf1fe776718053efb1f216bffcd/simplejson-3.17.2-cp37-cp37m-manylinux2010_x86_64.whl (128kB)\n",
            "\u001b[K     |████████████████████████████████| 133kB 6.8MB/s \n",
            "\u001b[?25hRequirement already satisfied, skipping upgrade: python-dateutil in /usr/local/lib/python3.7/site-packages (from bravado) (2.8.0)\n",
            "Collecting monotonic (from bravado)\n",
            "  Downloading https://files.pythonhosted.org/packages/ac/aa/063eca6a416f397bd99552c534c6d11d57f58f2e94c14780f3bbf818c4cf/monotonic-1.5-py2.py3-none-any.whl\n",
            "Requirement already satisfied, skipping upgrade: typing-extensions in /usr/local/lib/python3.7/site-packages (from bravado) (3.7.4.3)\n",
            "Requirement already satisfied, skipping upgrade: requests>=2.17 in /usr/local/lib/python3.7/site-packages (from bravado) (2.22.0)\n",
            "Collecting bravado-core>=5.16.1 (from bravado)\n",
            "\u001b[?25l  Downloading https://files.pythonhosted.org/packages/76/11/18e9d28a156c33f2d5f15a5e155dc7130250acb0a569255a2b6b307b596d/bravado_core-5.17.0-py2.py3-none-any.whl (67kB)\n",
            "\u001b[K     |████████████████████████████████| 71kB 26.5MB/s \n",
            "\u001b[?25hRequirement already satisfied, skipping upgrade: urllib3!=1.25.0,!=1.25.1,<1.26,>=1.21.1 in /usr/local/lib/python3.7/site-packages (from requests>=2.17->bravado) (1.24.2)\n",
            "Requirement already satisfied, skipping upgrade: certifi>=2017.4.17 in /usr/local/lib/python3.7/site-packages (from requests>=2.17->bravado) (2019.9.11)\n",
            "Requirement already satisfied, skipping upgrade: idna<2.9,>=2.5 in /usr/local/lib/python3.7/site-packages (from requests>=2.17->bravado) (2.8)\n",
            "Requirement already satisfied, skipping upgrade: chardet<3.1.0,>=3.0.2 in /usr/local/lib/python3.7/site-packages (from requests>=2.17->bravado) (3.0.4)\n",
            "Collecting jsonref (from bravado-core>=5.16.1->bravado)\n",
            "  Downloading https://files.pythonhosted.org/packages/07/92/f8e4ac824b14af77e613984e480fa818397c72d4141fc466decb26752749/jsonref-0.2-py3-none-any.whl\n",
            "Requirement already satisfied, skipping upgrade: pytz in /usr/local/lib/python3.7/site-packages (from bravado-core>=5.16.1->bravado) (2019.3)\n",
            "Requirement already satisfied, skipping upgrade: jsonschema[format]>=2.5.1 in /usr/local/lib/python3.7/site-packages (from bravado-core>=5.16.1->bravado) (3.0.2)\n",
            "Collecting swagger-spec-validator>=2.0.1 (from bravado-core>=5.16.1->bravado)\n",
            "  Downloading https://files.pythonhosted.org/packages/09/de/e78cefbf5838b434b63a789264b79821cb2267f1498fbed23ef8590133e4/swagger_spec_validator-2.7.3-py2.py3-none-any.whl\n",
            "Requirement already satisfied, skipping upgrade: pyrsistent>=0.14.0 in /usr/local/lib/python3.7/site-packages (from jsonschema[format]>=2.5.1->bravado-core>=5.16.1->bravado) (0.15.4)\n",
            "Requirement already satisfied, skipping upgrade: attrs>=17.4.0 in /usr/local/lib/python3.7/site-packages (from jsonschema[format]>=2.5.1->bravado-core>=5.16.1->bravado) (19.2.0)\n",
            "Requirement already satisfied, skipping upgrade: setuptools in /usr/local/lib/python3.7/site-packages (from jsonschema[format]>=2.5.1->bravado-core>=5.16.1->bravado) (41.4.0)\n",
            "Collecting rfc3987; extra == \"format\" (from jsonschema[format]>=2.5.1->bravado-core>=5.16.1->bravado)\n",
            "  Downloading https://files.pythonhosted.org/packages/65/d4/f7407c3d15d5ac779c3dd34fbbc6ea2090f77bd7dd12f207ccf881551208/rfc3987-1.3.8-py2.py3-none-any.whl\n",
            "Collecting jsonpointer>1.13; extra == \"format\" (from jsonschema[format]>=2.5.1->bravado-core>=5.16.1->bravado)\n",
            "  Downloading https://files.pythonhosted.org/packages/23/52/05f67532aa922e494c351344e0d9624a01f74f5dd8402fe0d1b563a6e6fc/jsonpointer-2.1-py2.py3-none-any.whl\n",
            "Collecting strict-rfc3339; extra == \"format\" (from jsonschema[format]>=2.5.1->bravado-core>=5.16.1->bravado)\n",
            "  Downloading https://files.pythonhosted.org/packages/56/e4/879ef1dbd6ddea1c77c0078cd59b503368b0456bcca7d063a870ca2119d3/strict-rfc3339-0.7.tar.gz\n",
            "Collecting webcolors; extra == \"format\" (from jsonschema[format]>=2.5.1->bravado-core>=5.16.1->bravado)\n",
            "  Downloading https://files.pythonhosted.org/packages/12/05/3350559de9714b202e443a9e6312937341bd5f79f4e4f625744295e7dd17/webcolors-1.11.1-py3-none-any.whl\n",
            "Building wheels for collected packages: strict-rfc3339\n",
            "  Building wheel for strict-rfc3339 (setup.py) ... \u001b[?25l\u001b[?25hdone\n",
            "  Created wheel for strict-rfc3339: filename=strict_rfc3339-0.7-cp37-none-any.whl size=18120 sha256=068073a047a585b65c5440118622b60872f3089ad80ce11832bdd0e223e2783d\n",
            "  Stored in directory: /root/.cache/pip/wheels/bb/af/c9/b6e9fb5f9b2470e4ed2a7241c9ab3a8cdd3bc8555ae02ca2e6\n",
            "Successfully built strict-rfc3339\n",
            "Installing collected packages: simplejson, monotonic, jsonref, swagger-spec-validator, bravado-core, bravado, rfc3987, jsonpointer, strict-rfc3339, webcolors\n",
            "Successfully installed bravado-11.0.3 bravado-core-5.17.0 jsonpointer-2.1 jsonref-0.2 monotonic-1.5 rfc3987-1.3.8 simplejson-3.17.2 strict-rfc3339-0.7 swagger-spec-validator-2.7.3 webcolors-1.11.1\n",
            "Collecting molvs\n",
            "\u001b[?25l  Downloading https://files.pythonhosted.org/packages/08/dc/d948e83b97f2c420cb6c7e2143ae349560d3b5b061945f1b2a4eefb0231c/MolVS-0.1.1.tar.gz (61kB)\n",
            "\u001b[K     |████████████████████████████████| 71kB 5.3MB/s \n",
            "\u001b[?25hRequirement already satisfied: six in /usr/local/lib/python3.7/site-packages (from molvs) (1.12.0)\n",
            "Building wheels for collected packages: molvs\n",
            "  Building wheel for molvs (setup.py) ... \u001b[?25l\u001b[?25hdone\n",
            "  Created wheel for molvs: filename=MolVS-0.1.1-cp37-none-any.whl size=32376 sha256=3d9aea632419ed1182faf86d352564981cfb075ea761a68f053c65fb3a16877f\n",
            "  Stored in directory: /root/.cache/pip/wheels/30/37/a8/8ac8147605c9de6b45ffd66d1cc19761d41467db12b34a0de8\n",
            "Successfully built molvs\n",
            "Installing collected packages: molvs\n",
            "Successfully installed molvs-0.1.1\n",
            "--2021-04-02 02:37:36--  https://raw.githubusercontent.com/ravichas/AMPL-Tutorial/master/config/install_AMPL_GPU_test.sh\n",
            "Resolving raw.githubusercontent.com (raw.githubusercontent.com)... 185.199.108.133, 185.199.110.133, 185.199.109.133, ...\n",
            "Connecting to raw.githubusercontent.com (raw.githubusercontent.com)|185.199.108.133|:443... connected.\n",
            "HTTP request sent, awaiting response... 200 OK\n",
            "Length: 1100 (1.1K) [text/plain]\n",
            "Saving to: ‘install_AMPL_GPU_test.sh’\n",
            "\n",
            "install_AMPL_GPU_te 100%[===================>]   1.07K  --.-KB/s    in 0s      \n",
            "\n",
            "2021-04-02 02:37:36 (59.5 MB/s) - ‘install_AMPL_GPU_test.sh’ saved [1100/1100]\n",
            "\n",
            "Cloning into 'AMPL'...\n",
            "remote: Enumerating objects: 389, done.\u001b[K\n",
            "remote: Counting objects: 100% (389/389), done.\u001b[K\n",
            "remote: Compressing objects: 100% (223/223), done.\u001b[K\n",
            "remote: Total 1897 (delta 277), reused 232 (delta 166), pack-reused 1508\u001b[K\n",
            "Receiving objects: 100% (1897/1897), 9.69 MiB | 9.63 MiB/s, done.\n",
            "Resolving deltas: 100% (1089/1089), done.\n",
            "Branch 'pkg_upgrade' set up to track remote branch 'pkg_upgrade' from 'origin'.\n",
            "Switched to a new branch 'pkg_upgrade'\n",
            "patching file /content/github/AMPL/atomsci/ddm/pipeline/transformations.py\n",
            "patching file /content/github/AMPL/atomsci/ddm/__init__.py\n",
            "running build\n",
            "running build_py\n",
            "creating /content/github/AMPL.build/ampl/lib\n",
            "creating /content/github/AMPL.build/ampl/lib/atomsci\n",
            "copying atomsci/__init__.py -> /content/github/AMPL.build/ampl/lib/atomsci\n",
            "creating /content/github/AMPL.build/ampl/lib/atomsci/ddm\n",
            "copying atomsci/ddm/__init__.py -> /content/github/AMPL.build/ampl/lib/atomsci/ddm\n",
            "creating /content/github/AMPL.build/ampl/lib/atomsci/ddm/utils\n",
            "copying atomsci/ddm/utils/datastore_functions.py -> /content/github/AMPL.build/ampl/lib/atomsci/ddm/utils\n",
            "copying atomsci/ddm/utils/genTestset.py -> /content/github/AMPL.build/ampl/lib/atomsci/ddm/utils\n",
            "copying atomsci/ddm/utils/open-docs.py -> /content/github/AMPL.build/ampl/lib/atomsci/ddm/utils\n",
            "copying atomsci/ddm/utils/process_slurm.py -> /content/github/AMPL.build/ampl/lib/atomsci/ddm/utils\n",
            "copying atomsci/ddm/utils/data_curation_functions.py -> /content/github/AMPL.build/ampl/lib/atomsci/ddm/utils\n",
            "copying atomsci/ddm/utils/rdkit_easy.py -> /content/github/AMPL.build/ampl/lib/atomsci/ddm/utils\n",
            "copying atomsci/ddm/utils/curate_data.py -> /content/github/AMPL.build/ampl/lib/atomsci/ddm/utils\n",
            "copying atomsci/ddm/utils/struct_utils.py -> /content/github/AMPL.build/ampl/lib/atomsci/ddm/utils\n",
            "copying atomsci/ddm/utils/llnl_utils.py -> /content/github/AMPL.build/ampl/lib/atomsci/ddm/utils\n",
            "copying atomsci/ddm/utils/hyperparam_search_wrapper.py -> /content/github/AMPL.build/ampl/lib/atomsci/ddm/utils\n",
            "copying atomsci/ddm/utils/__init__.py -> /content/github/AMPL.build/ampl/lib/atomsci/ddm/utils\n",
            "copying atomsci/ddm/utils/pubchem_utils.py -> /content/github/AMPL.build/ampl/lib/atomsci/ddm/utils\n",
            "creating /content/github/AMPL.build/ampl/lib/atomsci/ddm/pipeline\n",
            "copying atomsci/ddm/pipeline/compare_models.py -> /content/github/AMPL.build/ampl/lib/atomsci/ddm/pipeline\n",
            "copying atomsci/ddm/pipeline/predict_from_model.py -> /content/github/AMPL.build/ampl/lib/atomsci/ddm/pipeline\n",
            "copying atomsci/ddm/pipeline/parameter_parser.py -> /content/github/AMPL.build/ampl/lib/atomsci/ddm/pipeline\n",
            "copying atomsci/ddm/pipeline/featurization.py -> /content/github/AMPL.build/ampl/lib/atomsci/ddm/pipeline\n",
            "copying atomsci/ddm/pipeline/temporal_splitter.py -> /content/github/AMPL.build/ampl/lib/atomsci/ddm/pipeline\n",
            "copying atomsci/ddm/pipeline/splitting.py -> /content/github/AMPL.build/ampl/lib/atomsci/ddm/pipeline\n",
            "copying atomsci/ddm/pipeline/chem_diversity.py -> /content/github/AMPL.build/ampl/lib/atomsci/ddm/pipeline\n",
            "copying atomsci/ddm/pipeline/dist_metrics.py -> /content/github/AMPL.build/ampl/lib/atomsci/ddm/pipeline\n",
            "copying atomsci/ddm/pipeline/hyper_perf_plots.py -> /content/github/AMPL.build/ampl/lib/atomsci/ddm/pipeline\n",
            "copying atomsci/ddm/pipeline/model_pipeline.py -> /content/github/AMPL.build/ampl/lib/atomsci/ddm/pipeline\n",
            "copying atomsci/ddm/pipeline/model_tracker.py -> /content/github/AMPL.build/ampl/lib/atomsci/ddm/pipeline\n",
            "copying atomsci/ddm/pipeline/perf_plots.py -> /content/github/AMPL.build/ampl/lib/atomsci/ddm/pipeline\n",
            "copying atomsci/ddm/pipeline/model_datasets.py -> /content/github/AMPL.build/ampl/lib/atomsci/ddm/pipeline\n",
            "copying atomsci/ddm/pipeline/ave_splitter.py -> /content/github/AMPL.build/ampl/lib/atomsci/ddm/pipeline\n",
            "copying atomsci/ddm/pipeline/model_wrapper.py -> /content/github/AMPL.build/ampl/lib/atomsci/ddm/pipeline\n",
            "copying atomsci/ddm/pipeline/__init__.py -> /content/github/AMPL.build/ampl/lib/atomsci/ddm/pipeline\n",
            "copying atomsci/ddm/pipeline/perf_data.py -> /content/github/AMPL.build/ampl/lib/atomsci/ddm/pipeline\n",
            "copying atomsci/ddm/pipeline/diversity_plots.py -> /content/github/AMPL.build/ampl/lib/atomsci/ddm/pipeline\n",
            "copying atomsci/ddm/pipeline/transformations.py -> /content/github/AMPL.build/ampl/lib/atomsci/ddm/pipeline\n",
            "running egg_info\n",
            "creating /content/github/AMPL.build/ampl/atomsci_ampl.egg-info\n",
            "writing /content/github/AMPL.build/ampl/atomsci_ampl.egg-info/PKG-INFO\n",
            "writing dependency_links to /content/github/AMPL.build/ampl/atomsci_ampl.egg-info/dependency_links.txt\n",
            "writing namespace_packages to /content/github/AMPL.build/ampl/atomsci_ampl.egg-info/namespace_packages.txt\n",
            "writing top-level names to /content/github/AMPL.build/ampl/atomsci_ampl.egg-info/top_level.txt\n",
            "writing manifest file '/content/github/AMPL.build/ampl/atomsci_ampl.egg-info/SOURCES.txt'\n",
            "reading manifest file '/content/github/AMPL.build/ampl/atomsci_ampl.egg-info/SOURCES.txt'\n",
            "reading manifest template 'MANIFEST.in'\n",
            "warning: no files found matching 'atomsci/*/*.yaml'\n",
            "writing manifest file '/content/github/AMPL.build/ampl/atomsci_ampl.egg-info/SOURCES.txt'\n",
            "creating /content/github/AMPL.build/ampl/lib/atomsci/ddm/data\n",
            "copying atomsci/ddm/data/descriptor_sets_sources_by_descr_type.csv -> /content/github/AMPL.build/ampl/lib/atomsci/ddm/data\n",
            "running bdist_wheel\n",
            "installing to /content/github/AMPL.build/ampl/bdist.linux-x86_64/wheel\n",
            "running install\n",
            "running install_lib\n",
            "Skipping installation of /content/github/AMPL.build/ampl/bdist.linux-x86_64/wheel/atomsci/__init__.py (namespace package)\n",
            "copying atomsci/ddm/__init__.py -> /content/github/AMPL.build/ampl/bdist.linux-x86_64/wheel/atomsci/ddm\n",
            "copying atomsci/ddm/utils/datastore_functions.py -> /content/github/AMPL.build/ampl/bdist.linux-x86_64/wheel/atomsci/ddm/utils\n",
            "copying atomsci/ddm/utils/genTestset.py -> /content/github/AMPL.build/ampl/bdist.linux-x86_64/wheel/atomsci/ddm/utils\n",
            "copying atomsci/ddm/utils/open-docs.py -> /content/github/AMPL.build/ampl/bdist.linux-x86_64/wheel/atomsci/ddm/utils\n",
            "copying atomsci/ddm/utils/process_slurm.py -> /content/github/AMPL.build/ampl/bdist.linux-x86_64/wheel/atomsci/ddm/utils\n",
            "copying atomsci/ddm/utils/data_curation_functions.py -> /content/github/AMPL.build/ampl/bdist.linux-x86_64/wheel/atomsci/ddm/utils\n",
            "copying atomsci/ddm/utils/rdkit_easy.py -> /content/github/AMPL.build/ampl/bdist.linux-x86_64/wheel/atomsci/ddm/utils\n",
            "copying atomsci/ddm/utils/curate_data.py -> /content/github/AMPL.build/ampl/bdist.linux-x86_64/wheel/atomsci/ddm/utils\n",
            "copying atomsci/ddm/utils/struct_utils.py -> /content/github/AMPL.build/ampl/bdist.linux-x86_64/wheel/atomsci/ddm/utils\n",
            "copying atomsci/ddm/utils/llnl_utils.py -> /content/github/AMPL.build/ampl/bdist.linux-x86_64/wheel/atomsci/ddm/utils\n",
            "copying atomsci/ddm/utils/hyperparam_search_wrapper.py -> /content/github/AMPL.build/ampl/bdist.linux-x86_64/wheel/atomsci/ddm/utils\n",
            "copying atomsci/ddm/utils/__init__.py -> /content/github/AMPL.build/ampl/bdist.linux-x86_64/wheel/atomsci/ddm/utils\n",
            "copying atomsci/ddm/utils/pubchem_utils.py -> /content/github/AMPL.build/ampl/bdist.linux-x86_64/wheel/atomsci/ddm/utils\n",
            "copying atomsci/ddm/data/descriptor_sets_sources_by_descr_type.csv -> /content/github/AMPL.build/ampl/bdist.linux-x86_64/wheel/atomsci/ddm/data\n",
            "copying atomsci/ddm/pipeline/compare_models.py -> /content/github/AMPL.build/ampl/bdist.linux-x86_64/wheel/atomsci/ddm/pipeline\n",
            "copying atomsci/ddm/pipeline/predict_from_model.py -> /content/github/AMPL.build/ampl/bdist.linux-x86_64/wheel/atomsci/ddm/pipeline\n",
            "copying atomsci/ddm/pipeline/parameter_parser.py -> /content/github/AMPL.build/ampl/bdist.linux-x86_64/wheel/atomsci/ddm/pipeline\n",
            "copying atomsci/ddm/pipeline/featurization.py -> /content/github/AMPL.build/ampl/bdist.linux-x86_64/wheel/atomsci/ddm/pipeline\n",
            "copying atomsci/ddm/pipeline/temporal_splitter.py -> /content/github/AMPL.build/ampl/bdist.linux-x86_64/wheel/atomsci/ddm/pipeline\n",
            "copying atomsci/ddm/pipeline/splitting.py -> /content/github/AMPL.build/ampl/bdist.linux-x86_64/wheel/atomsci/ddm/pipeline\n",
            "copying atomsci/ddm/pipeline/chem_diversity.py -> /content/github/AMPL.build/ampl/bdist.linux-x86_64/wheel/atomsci/ddm/pipeline\n",
            "copying atomsci/ddm/pipeline/dist_metrics.py -> /content/github/AMPL.build/ampl/bdist.linux-x86_64/wheel/atomsci/ddm/pipeline\n",
            "copying atomsci/ddm/pipeline/hyper_perf_plots.py -> /content/github/AMPL.build/ampl/bdist.linux-x86_64/wheel/atomsci/ddm/pipeline\n",
            "copying atomsci/ddm/pipeline/model_pipeline.py -> /content/github/AMPL.build/ampl/bdist.linux-x86_64/wheel/atomsci/ddm/pipeline\n",
            "copying atomsci/ddm/pipeline/model_tracker.py -> /content/github/AMPL.build/ampl/bdist.linux-x86_64/wheel/atomsci/ddm/pipeline\n",
            "copying atomsci/ddm/pipeline/perf_plots.py -> /content/github/AMPL.build/ampl/bdist.linux-x86_64/wheel/atomsci/ddm/pipeline\n",
            "copying atomsci/ddm/pipeline/model_datasets.py -> /content/github/AMPL.build/ampl/bdist.linux-x86_64/wheel/atomsci/ddm/pipeline\n",
            "copying atomsci/ddm/pipeline/ave_splitter.py -> /content/github/AMPL.build/ampl/bdist.linux-x86_64/wheel/atomsci/ddm/pipeline\n",
            "copying atomsci/ddm/pipeline/model_wrapper.py -> /content/github/AMPL.build/ampl/bdist.linux-x86_64/wheel/atomsci/ddm/pipeline\n",
            "copying atomsci/ddm/pipeline/__init__.py -> /content/github/AMPL.build/ampl/bdist.linux-x86_64/wheel/atomsci/ddm/pipeline\n",
            "copying atomsci/ddm/pipeline/perf_data.py -> /content/github/AMPL.build/ampl/bdist.linux-x86_64/wheel/atomsci/ddm/pipeline\n",
            "copying atomsci/ddm/pipeline/diversity_plots.py -> /content/github/AMPL.build/ampl/bdist.linux-x86_64/wheel/atomsci/ddm/pipeline\n",
            "copying atomsci/ddm/pipeline/transformations.py -> /content/github/AMPL.build/ampl/bdist.linux-x86_64/wheel/atomsci/ddm/pipeline\n",
            "running install_egg_info\n",
            "Copying /content/github/AMPL.build/ampl/atomsci_ampl.egg-info to /content/github/AMPL.build/ampl/bdist.linux-x86_64/wheel/atomsci_ampl-1.0.0.dev1-py3.7.egg-info\n",
            "Installing /content/github/AMPL.build/ampl/bdist.linux-x86_64/wheel/atomsci_ampl-1.0.0.dev1-py3.7-nspkg.pth\n",
            "running install_scripts\n",
            "adding license file \"LICENSE\" (matched pattern \"LICEN[CS]E*\")\n",
            "adding license file \"NOTICE\" (matched pattern \"NOTICE*\")\n",
            "creating /content/github/AMPL.build/ampl/bdist.linux-x86_64/wheel/atomsci_ampl-1.0.0.dev1.dist-info/WHEEL\n",
            "creating '/content/github/AMPL.dist/atomsci_ampl-1.0.0.dev1-py3-none-any.whl' and adding '/content/github/AMPL.build/ampl/bdist.linux-x86_64/wheel' to it\n",
            "adding 'atomsci_ampl-1.0.0.dev1-py3.7-nspkg.pth'\n",
            "adding 'atomsci/ddm/__init__.py'\n",
            "adding 'atomsci/ddm/data/descriptor_sets_sources_by_descr_type.csv'\n",
            "adding 'atomsci/ddm/pipeline/__init__.py'\n",
            "adding 'atomsci/ddm/pipeline/ave_splitter.py'\n",
            "adding 'atomsci/ddm/pipeline/chem_diversity.py'\n",
            "adding 'atomsci/ddm/pipeline/compare_models.py'\n",
            "adding 'atomsci/ddm/pipeline/dist_metrics.py'\n",
            "adding 'atomsci/ddm/pipeline/diversity_plots.py'\n",
            "adding 'atomsci/ddm/pipeline/featurization.py'\n",
            "adding 'atomsci/ddm/pipeline/hyper_perf_plots.py'\n",
            "adding 'atomsci/ddm/pipeline/model_datasets.py'\n",
            "adding 'atomsci/ddm/pipeline/model_pipeline.py'\n",
            "adding 'atomsci/ddm/pipeline/model_tracker.py'\n",
            "adding 'atomsci/ddm/pipeline/model_wrapper.py'\n",
            "adding 'atomsci/ddm/pipeline/parameter_parser.py'\n",
            "adding 'atomsci/ddm/pipeline/perf_data.py'\n",
            "adding 'atomsci/ddm/pipeline/perf_plots.py'\n",
            "adding 'atomsci/ddm/pipeline/predict_from_model.py'\n",
            "adding 'atomsci/ddm/pipeline/splitting.py'\n",
            "adding 'atomsci/ddm/pipeline/temporal_splitter.py'\n",
            "adding 'atomsci/ddm/pipeline/transformations.py'\n",
            "adding 'atomsci/ddm/utils/__init__.py'\n",
            "adding 'atomsci/ddm/utils/curate_data.py'\n",
            "adding 'atomsci/ddm/utils/data_curation_functions.py'\n",
            "adding 'atomsci/ddm/utils/datastore_functions.py'\n",
            "adding 'atomsci/ddm/utils/genTestset.py'\n",
            "adding 'atomsci/ddm/utils/hyperparam_search_wrapper.py'\n",
            "adding 'atomsci/ddm/utils/llnl_utils.py'\n",
            "adding 'atomsci/ddm/utils/open-docs.py'\n",
            "adding 'atomsci/ddm/utils/process_slurm.py'\n",
            "adding 'atomsci/ddm/utils/pubchem_utils.py'\n",
            "adding 'atomsci/ddm/utils/rdkit_easy.py'\n",
            "adding 'atomsci/ddm/utils/struct_utils.py'\n",
            "adding 'atomsci_ampl-1.0.0.dev1.dist-info/LICENSE'\n",
            "adding 'atomsci_ampl-1.0.0.dev1.dist-info/METADATA'\n",
            "adding 'atomsci_ampl-1.0.0.dev1.dist-info/NOTICE'\n",
            "adding 'atomsci_ampl-1.0.0.dev1.dist-info/WHEEL'\n",
            "adding 'atomsci_ampl-1.0.0.dev1.dist-info/namespace_packages.txt'\n",
            "adding 'atomsci_ampl-1.0.0.dev1.dist-info/top_level.txt'\n",
            "adding 'atomsci_ampl-1.0.0.dev1.dist-info/RECORD'\n",
            "removing /content/github/AMPL.build/ampl/bdist.linux-x86_64/wheel\n",
            "DIR: /content/github/AMPL\n",
            "Ignoring indexes: https://pypi.org/simple\n",
            "Created temporary directory: /tmp/pip-ephem-wheel-cache-q2kk3y5k\n",
            "Created temporary directory: /tmp/pip-req-tracker-qtc9pn55\n",
            "Created requirements tracker '/tmp/pip-req-tracker-qtc9pn55'\n",
            "Created temporary directory: /tmp/pip-install-g0yith1l\n",
            "Looking in links: /content/github/AMPL.dist\n",
            "Collecting atomsci_ampl\n",
            "  0 location(s) to search for versions of atomsci-ampl:\n",
            "  Skipping link: unsupported archive format: .dist: /content/github/AMPL.dist (from -f)\n",
            "  Found link file:///content/github/AMPL.dist/atomsci_ampl-1.0.0.dev1-py3-none-any.whl, version: 1.0.0.dev1\n",
            "  Local files found: /content/github/AMPL.dist/atomsci_ampl-1.0.0.dev1-py3-none-any.whl\n",
            "  Given no hashes to check 1 links for project 'atomsci-ampl': discarding no candidates\n",
            "  Using version 1.0.0.dev1 (newest of versions: 1.0.0.dev1)\n",
            "  Added atomsci_ampl from file:///content/github/AMPL.dist/atomsci_ampl-1.0.0.dev1-py3-none-any.whl to build tracker '/tmp/pip-req-tracker-qtc9pn55'\n",
            "  Removed atomsci_ampl from file:///content/github/AMPL.dist/atomsci_ampl-1.0.0.dev1-py3-none-any.whl from build tracker '/tmp/pip-req-tracker-qtc9pn55'\n",
            "Installing collected packages: atomsci-ampl\n",
            "\n",
            "Successfully installed atomsci-ampl-1.0.0.dev1\n",
            "Cleaning up...\n",
            "Removed build tracker '/tmp/pip-req-tracker-qtc9pn55'\n"
          ],
          "name": "stdout"
        }
      ]
    },
    {
      "cell_type": "code",
      "metadata": {
        "id": "InUQE4II1noi",
        "colab": {
          "base_uri": "https://localhost:8080/"
        },
        "outputId": "22d16ca4-9386-4c6d-af9d-a85e3d01943a"
      },
      "source": [
        "!wget https://raw.githubusercontent.com/jm5159/E4511-2021-Mao/master/Dataset/CYP3A4_cur_final.csv"
      ],
      "execution_count": 30,
      "outputs": [
        {
          "output_type": "stream",
          "text": [
            "--2021-04-02 04:33:39--  https://raw.githubusercontent.com/jm5159/E4511-2021-Mao/master/Dataset/CYP3A4_cur_final.csv\n",
            "Resolving raw.githubusercontent.com (raw.githubusercontent.com)... 185.199.110.133, 185.199.109.133, 185.199.108.133, ...\n",
            "Connecting to raw.githubusercontent.com (raw.githubusercontent.com)|185.199.110.133|:443... connected.\n",
            "HTTP request sent, awaiting response... 200 OK\n",
            "Length: 3924905 (3.7M) [text/plain]\n",
            "Saving to: ‘CYP3A4_cur_final.csv’\n",
            "\n",
            "CYP3A4_cur_final.cs 100%[===================>]   3.74M  22.5MB/s    in 0.2s    \n",
            "\n",
            "2021-04-02 04:33:40 (22.5 MB/s) - ‘CYP3A4_cur_final.csv’ saved [3924905/3924905]\n",
            "\n"
          ],
          "name": "stdout"
        }
      ]
    },
    {
      "cell_type": "code",
      "metadata": {
        "id": "2PO0-2HKvVpn",
        "colab": {
          "base_uri": "https://localhost:8080/"
        },
        "outputId": "5682ef92-c915-4bff-8157-c42901ee53c2"
      },
      "source": [
        "!pip install hyperopt"
      ],
      "execution_count": 5,
      "outputs": [
        {
          "output_type": "stream",
          "text": [
            "Collecting hyperopt\n",
            "\u001b[?25l  Downloading https://files.pythonhosted.org/packages/a6/07/bd524635d218adae139be320eeac87fb4fbbd45c63b0bd58930c9e91f1fc/hyperopt-0.2.5-py2.py3-none-any.whl (965kB)\n",
            "\u001b[K     |████████████████████████████████| 972kB 4.6MB/s \n",
            "\u001b[?25hRequirement already satisfied: six in /usr/local/lib/python3.7/site-packages (from hyperopt) (1.12.0)\n",
            "Requirement already satisfied: networkx>=2.2 in /usr/local/lib/python3.7/site-packages (from hyperopt) (2.3)\n",
            "Requirement already satisfied: numpy in /usr/local/lib/python3.7/site-packages (from hyperopt) (1.17.2)\n",
            "Requirement already satisfied: future in /usr/local/lib/python3.7/site-packages (from hyperopt) (0.17.1)\n",
            "Requirement already satisfied: tqdm in /usr/local/lib/python3.7/site-packages (from hyperopt) (4.36.1)\n",
            "Requirement already satisfied: scipy in /usr/local/lib/python3.7/site-packages (from hyperopt) (1.3.1)\n",
            "Requirement already satisfied: cloudpickle in /usr/local/lib/python3.7/site-packages (from hyperopt) (1.2.2)\n",
            "Requirement already satisfied: decorator>=4.3.0 in /usr/local/lib/python3.7/site-packages (from networkx>=2.2->hyperopt) (4.4.0)\n",
            "Installing collected packages: hyperopt\n",
            "Successfully installed hyperopt-0.2.5\n"
          ],
          "name": "stdout"
        }
      ]
    },
    {
      "cell_type": "markdown",
      "metadata": {
        "id": "mTOwqhvR3xL3"
      },
      "source": [
        "### Load packages and dataset"
      ]
    },
    {
      "cell_type": "code",
      "metadata": {
        "id": "EeN9kEMO2R9Z",
        "colab": {
          "base_uri": "https://localhost:8080/"
        },
        "outputId": "6d14a58b-5036-4a3e-fc77-ad31cf3f208c"
      },
      "source": [
        "import warnings\n",
        "warnings.filterwarnings('ignore')\n",
        "\n",
        "import matplotlib.pyplot as plt\n",
        "import seaborn as sns\n",
        "import numpy as np\n",
        "sns.set_context(\"poster\")\n",
        "sns.set_style(\"whitegrid\")\n",
        "sns.set_palette(\"Set2\")\n",
        "\n",
        "import pandas as pd\n",
        "import os, json, sys, glob, pickle\n",
        "\n",
        "from atomsci.ddm.pipeline import parameter_parser as parse\n",
        "import atomsci.ddm.pipeline.model_pipeline as mp\n",
        "from atomsci.ddm.pipeline import perf_data\n",
        "\n",
        "from hyperopt import fmin, tpe, hp, Trials, STATUS_OK"
      ],
      "execution_count": 6,
      "outputs": [
        {
          "output_type": "stream",
          "text": [
            "WARNING:tensorflow:\n",
            "The TensorFlow contrib module will not be included in TensorFlow 2.0.\n",
            "For more information, please see:\n",
            "  * https://github.com/tensorflow/community/blob/master/rfcs/20180907-contrib-sunset.md\n",
            "  * https://github.com/tensorflow/addons\n",
            "  * https://github.com/tensorflow/io (for I/O related ops)\n",
            "If you depend on functionality not listed there, please file an issue.\n",
            "\n"
          ],
          "name": "stdout"
        }
      ]
    },
    {
      "cell_type": "code",
      "metadata": {
        "id": "C5J-cJNz2V5w"
      },
      "source": [
        "h1 = pd.read_csv(\"CYP3A4_cur_final.csv\")"
      ],
      "execution_count": 31,
      "outputs": []
    },
    {
      "cell_type": "code",
      "metadata": {
        "id": "v_fQuS473N1M"
      },
      "source": [
        "h1=h1.iloc[:,1:]"
      ],
      "execution_count": 32,
      "outputs": []
    },
    {
      "cell_type": "code",
      "metadata": {
        "colab": {
          "base_uri": "https://localhost:8080/",
          "height": 609
        },
        "id": "pkTJXtfodC9t",
        "outputId": "580e383e-1534-426f-ea8c-9fe088e7b8de"
      },
      "source": [
        "h1"
      ],
      "execution_count": 13,
      "outputs": [
        {
          "output_type": "execute_result",
          "data": {
            "text/html": [
              "<div>\n",
              "<style scoped>\n",
              "    .dataframe tbody tr th:only-of-type {\n",
              "        vertical-align: middle;\n",
              "    }\n",
              "\n",
              "    .dataframe tbody tr th {\n",
              "        vertical-align: top;\n",
              "    }\n",
              "\n",
              "    .dataframe thead th {\n",
              "        text-align: right;\n",
              "    }\n",
              "</style>\n",
              "<table border=\"1\" class=\"dataframe\">\n",
              "  <thead>\n",
              "    <tr style=\"text-align: right;\">\n",
              "      <th></th>\n",
              "      <th>compound_id</th>\n",
              "      <th>base_rdkit_smiles</th>\n",
              "      <th>relation</th>\n",
              "      <th>pXC50</th>\n",
              "      <th>active</th>\n",
              "      <th>rdkit_smiles</th>\n",
              "      <th>inchi_key</th>\n",
              "      <th>Compound_ID</th>\n",
              "      <th>VALUE_NUM_mean</th>\n",
              "      <th>VALUE_NUM_std</th>\n",
              "      <th>Perc_Var</th>\n",
              "      <th>Remove_BadDuplicate</th>\n",
              "    </tr>\n",
              "  </thead>\n",
              "  <tbody>\n",
              "    <tr>\n",
              "      <th>0</th>\n",
              "      <td>CHEMBL1537880</td>\n",
              "      <td>Cc1ccc(-c2nnc(C)c(N3CC(C)OC(C)C3)n2)cc1</td>\n",
              "      <td>NaN</td>\n",
              "      <td>5.300000</td>\n",
              "      <td>0</td>\n",
              "      <td>Cc1ccc(-c2nnc(C)c(N3CC(C)OC(C)C3)n2)cc1</td>\n",
              "      <td>WNUWUYIZADTROQ-UHFFFAOYSA-N</td>\n",
              "      <td>WNUWUYIZADTROQ-UHFFFAOYSA-N</td>\n",
              "      <td>5.300000</td>\n",
              "      <td>NaN</td>\n",
              "      <td>0.0</td>\n",
              "      <td>0</td>\n",
              "    </tr>\n",
              "    <tr>\n",
              "      <th>1</th>\n",
              "      <td>CHEMBL1515033</td>\n",
              "      <td>CS(=O)(=O)N1CCC[C@@]2(CCN(c3ccncc3)C2)C1</td>\n",
              "      <td>NaN</td>\n",
              "      <td>5.100000</td>\n",
              "      <td>0</td>\n",
              "      <td>CS(=O)(=O)N1CCC[C@@]2(CCN(c3ccncc3)C2)C1</td>\n",
              "      <td>LFQJIVPPRFXMAC-AWEZNQCLSA-N</td>\n",
              "      <td>LFQJIVPPRFXMAC-AWEZNQCLSA-N</td>\n",
              "      <td>5.100000</td>\n",
              "      <td>NaN</td>\n",
              "      <td>0.0</td>\n",
              "      <td>0</td>\n",
              "    </tr>\n",
              "    <tr>\n",
              "      <th>2</th>\n",
              "      <td>CHEMBL3422242</td>\n",
              "      <td>Cc1cc([C@H]2C[C@H]3[C@@H](C)SC(N)=N[C@@]3(c3cc...</td>\n",
              "      <td>&lt;</td>\n",
              "      <td>4.522879</td>\n",
              "      <td>0</td>\n",
              "      <td>Cc1cc([C@H]2C[C@H]3[C@@H](C)SC(N)=N[C@@]3(c3cc...</td>\n",
              "      <td>HVEVDFRWOQHAPJ-CKMNQQOVSA-N</td>\n",
              "      <td>HVEVDFRWOQHAPJ-CKMNQQOVSA-N</td>\n",
              "      <td>4.522879</td>\n",
              "      <td>NaN</td>\n",
              "      <td>0.0</td>\n",
              "      <td>0</td>\n",
              "    </tr>\n",
              "    <tr>\n",
              "      <th>3</th>\n",
              "      <td>CHEMBL1526043</td>\n",
              "      <td>N#Cc1cccc(-c2nc3cnc(N4CCOCC4)nc3n(C3CC3)c2=O)c1</td>\n",
              "      <td>NaN</td>\n",
              "      <td>4.400000</td>\n",
              "      <td>0</td>\n",
              "      <td>N#Cc1cccc(-c2nc3cnc(N4CCOCC4)nc3n(C3CC3)c2=O)c1</td>\n",
              "      <td>QIZLBSOCEJVBTG-UHFFFAOYSA-N</td>\n",
              "      <td>QIZLBSOCEJVBTG-UHFFFAOYSA-N</td>\n",
              "      <td>4.400000</td>\n",
              "      <td>NaN</td>\n",
              "      <td>0.0</td>\n",
              "      <td>0</td>\n",
              "    </tr>\n",
              "    <tr>\n",
              "      <th>4</th>\n",
              "      <td>CHEMBL3145019</td>\n",
              "      <td>Cc1nn(C(C)(C)C)c(O)c1Sc1ccc(Cl)cc1</td>\n",
              "      <td>NaN</td>\n",
              "      <td>4.800000</td>\n",
              "      <td>0</td>\n",
              "      <td>Cc1nn(C(C)(C)C)c(O)c1Sc1ccc(Cl)cc1</td>\n",
              "      <td>IYIGLQSFYOLXCS-UHFFFAOYSA-N</td>\n",
              "      <td>IYIGLQSFYOLXCS-UHFFFAOYSA-N</td>\n",
              "      <td>4.800000</td>\n",
              "      <td>NaN</td>\n",
              "      <td>0.0</td>\n",
              "      <td>0</td>\n",
              "    </tr>\n",
              "    <tr>\n",
              "      <th>...</th>\n",
              "      <td>...</td>\n",
              "      <td>...</td>\n",
              "      <td>...</td>\n",
              "      <td>...</td>\n",
              "      <td>...</td>\n",
              "      <td>...</td>\n",
              "      <td>...</td>\n",
              "      <td>...</td>\n",
              "      <td>...</td>\n",
              "      <td>...</td>\n",
              "      <td>...</td>\n",
              "      <td>...</td>\n",
              "    </tr>\n",
              "    <tr>\n",
              "      <th>18637</th>\n",
              "      <td>CHEMBL3932169</td>\n",
              "      <td>CC(C)[C@@H]1c2nn(-c3cccc(S(C)(=O)=O)c3)cc2CN1c...</td>\n",
              "      <td>NaN</td>\n",
              "      <td>5.515700</td>\n",
              "      <td>0</td>\n",
              "      <td>CC(C)[C@@H]1c2nn(-c3cccc(S(C)(=O)=O)c3)cc2CN1c...</td>\n",
              "      <td>NCZXBZJVJRJUSC-GOSISDBHSA-N</td>\n",
              "      <td>NCZXBZJVJRJUSC-GOSISDBHSA-N</td>\n",
              "      <td>5.515700</td>\n",
              "      <td>NaN</td>\n",
              "      <td>0.0</td>\n",
              "      <td>0</td>\n",
              "    </tr>\n",
              "    <tr>\n",
              "      <th>18638</th>\n",
              "      <td>CHEMBL4210866</td>\n",
              "      <td>N[C@@H]1CCC=C(c2ccc(F)cc2)[C@H]1CNc1cc(F)c(S(=...</td>\n",
              "      <td>NaN</td>\n",
              "      <td>4.481486</td>\n",
              "      <td>0</td>\n",
              "      <td>N[C@@H]1CCC=C(c2ccc(F)cc2)[C@H]1CNc1cc(F)c(S(=...</td>\n",
              "      <td>BSNVRJYSKXDALK-VQIMIIECSA-N</td>\n",
              "      <td>BSNVRJYSKXDALK-VQIMIIECSA-N</td>\n",
              "      <td>4.481486</td>\n",
              "      <td>NaN</td>\n",
              "      <td>0.0</td>\n",
              "      <td>0</td>\n",
              "    </tr>\n",
              "    <tr>\n",
              "      <th>18639</th>\n",
              "      <td>CHEMBL1465534</td>\n",
              "      <td>O=[N+]([O-])c1cccc(-c2nnn(C34CC5CC(CC(C5)C3)C4...</td>\n",
              "      <td>NaN</td>\n",
              "      <td>5.050000</td>\n",
              "      <td>0</td>\n",
              "      <td>O=[N+]([O-])c1cccc(-c2nnn(C34CC5CC(CC(C5)C3)C4...</td>\n",
              "      <td>ILMKPNZNEYHDGO-UHFFFAOYSA-N</td>\n",
              "      <td>ILMKPNZNEYHDGO-UHFFFAOYSA-N</td>\n",
              "      <td>5.050000</td>\n",
              "      <td>NaN</td>\n",
              "      <td>0.0</td>\n",
              "      <td>0</td>\n",
              "    </tr>\n",
              "    <tr>\n",
              "      <th>18640</th>\n",
              "      <td>CHEMBL3237445</td>\n",
              "      <td>Cc1nccc2c3cnc(Nc4ccc(N5CCNCC5)cn4)nc3n(C3CCCC3...</td>\n",
              "      <td>&lt;</td>\n",
              "      <td>5.000000</td>\n",
              "      <td>0</td>\n",
              "      <td>Cc1nccc2c3cnc(Nc4ccc(N5CCNCC5)cn4)nc3n(C3CCCC3...</td>\n",
              "      <td>FLNHSHVOGZEONH-UHFFFAOYSA-N</td>\n",
              "      <td>FLNHSHVOGZEONH-UHFFFAOYSA-N</td>\n",
              "      <td>5.000000</td>\n",
              "      <td>NaN</td>\n",
              "      <td>0.0</td>\n",
              "      <td>0</td>\n",
              "    </tr>\n",
              "    <tr>\n",
              "      <th>18641</th>\n",
              "      <td>CHEMBL1270335</td>\n",
              "      <td>CN1C(=O)[C@@](c2ccc(OC(F)F)cc2)(c2ccc(F)c(C#CC...</td>\n",
              "      <td>NaN</td>\n",
              "      <td>5.000000</td>\n",
              "      <td>0</td>\n",
              "      <td>CN1C(=O)[C@@](c2ccc(OC(F)F)cc2)(c2ccc(F)c(C#CC...</td>\n",
              "      <td>JZQHTDKITQYMAR-JOCHJYFZSA-N</td>\n",
              "      <td>JZQHTDKITQYMAR-JOCHJYFZSA-N</td>\n",
              "      <td>5.000000</td>\n",
              "      <td>NaN</td>\n",
              "      <td>0.0</td>\n",
              "      <td>0</td>\n",
              "    </tr>\n",
              "  </tbody>\n",
              "</table>\n",
              "<p>18642 rows × 12 columns</p>\n",
              "</div>"
            ],
            "text/plain": [
              "         compound_id  ... Remove_BadDuplicate\n",
              "0      CHEMBL1537880  ...                   0\n",
              "1      CHEMBL1515033  ...                   0\n",
              "2      CHEMBL3422242  ...                   0\n",
              "3      CHEMBL1526043  ...                   0\n",
              "4      CHEMBL3145019  ...                   0\n",
              "...              ...  ...                 ...\n",
              "18637  CHEMBL3932169  ...                   0\n",
              "18638  CHEMBL4210866  ...                   0\n",
              "18639  CHEMBL1465534  ...                   0\n",
              "18640  CHEMBL3237445  ...                   0\n",
              "18641  CHEMBL1270335  ...                   0\n",
              "\n",
              "[18642 rows x 12 columns]"
            ]
          },
          "metadata": {
            "tags": []
          },
          "execution_count": 13
        }
      ]
    },
    {
      "cell_type": "code",
      "metadata": {
        "colab": {
          "base_uri": "https://localhost:8080/"
        },
        "id": "ngTm_YVkphMV",
        "outputId": "6b710ca3-2d25-437a-9487-3a98735ca215"
      },
      "source": [
        "h1.shape"
      ],
      "execution_count": 33,
      "outputs": [
        {
          "output_type": "execute_result",
          "data": {
            "text/plain": [
              "(18642, 12)"
            ]
          },
          "metadata": {
            "tags": []
          },
          "execution_count": 33
        }
      ]
    },
    {
      "cell_type": "markdown",
      "metadata": {
        "id": "XA8ARleo3h53"
      },
      "source": [
        "### Split the dataset"
      ]
    },
    {
      "cell_type": "code",
      "metadata": {
        "id": "1eQC31_fA2wD",
        "colab": {
          "base_uri": "https://localhost:8080/"
        },
        "outputId": "52147fd4-f373-4e63-8533-b3649abc650a"
      },
      "source": [
        "train_file = \"CYP3A4_cur_final.csv\"\n",
        "response_col = \"active\"\n",
        "compound_id = \"compound_id\"\n",
        "smiles_col = \"rdkit_smiles\"\n",
        "\n",
        "params = {\n",
        "        \"system\": \"LC\",\n",
        "        \"lc_account\": 'None',\n",
        "        \"datastore\": \"False\",\n",
        "        \"save_results\": \"False\",\n",
        "        \"data_owner\": \"username\",\n",
        "        \"prediction_type\": \"classification\",\n",
        "        \"dataset_key\": train_file,\n",
        "        \"id_col\": compound_id,\n",
        "        \"smiles_col\": smiles_col,\n",
        "        \"response_cols\": response_col,\n",
        "        \"previously_split\": \"False\",\n",
        "        \"split_only\": \"True\",\n",
        "        \"featurizer\": \"ecfp\",\n",
        "        \"model_type\": \"RF\",\n",
        "        \"verbose\": \"True\",\n",
        "        \"transformers\": \"True\",\n",
        "        'max_epochs': '70',\n",
        "        \"rerun\": \"False\",\n",
        "        \"result_dir\": \"split\"\n",
        "    }\n",
        "\n",
        "ampl_param = parse.wrapper(params)\n",
        "pl = mp.ModelPipeline(ampl_param)\n",
        "pl.train_model()"
      ],
      "execution_count": 34,
      "outputs": [
        {
          "output_type": "stream",
          "text": [
            "number of features: 1024\n"
          ],
          "name": "stdout"
        },
        {
          "output_type": "stream",
          "text": [
            "2021-04-02 04:35:16,768 Splitting data by scaffold\n",
            "2021-04-02 04:35:30,022 Dataset split table saved to /CYP3A4_cur_final_train_valid_test_scaffold_c9efb0c9-617e-402e-a567-f48047f90a72.csv\n"
          ],
          "name": "stderr"
        }
      ]
    },
    {
      "cell_type": "markdown",
      "metadata": {
        "id": "xSdgxZNU43TM"
      },
      "source": [
        "### Train an initial model"
      ]
    },
    {
      "cell_type": "code",
      "metadata": {
        "id": "IjhIVGpJ42eE"
      },
      "source": [
        "listing = glob.glob(os.path.join(\"/\", \"CYP3A4_cur_final_train_valid_test_scaffold_*\"))\n",
        "name = listing[0]\n",
        "split_uuid = name.split(\"_\")[-1].split(\".\")[0]\n",
        "response_col = \"active\"\n",
        "\n",
        "params = {\n",
        "        \"system\": \"LC\",\n",
        "        \"lc_account\": 'None',\n",
        "        \"datastore\": \"False\",\n",
        "        \"save_results\": \"False\",\n",
        "        \"data_owner\": \"username\",\n",
        "        \"prediction_type\": \"classification\",\n",
        "        \"dataset_key\": train_file,\n",
        "        \"id_col\": compound_id,\n",
        "        \"smiles_col\": smiles_col,\n",
        "        \"response_cols\": response_col,\n",
        "        \"split_uuid\": split_uuid,\n",
        "        \"previously_split\": \"True\",\n",
        "        \"featurizer\": \"ecfp\",\n",
        "        \"model_type\": \"RF\",\n",
        "        \"verbose\": \"True\",\n",
        "        \"transformers\": \"True\",\n",
        "        'max_epochs': '70',\n",
        "        \"rerun\": \"False\",\n",
        "        \"result_dir\": \"ampl_output\"\n",
        "    }"
      ],
      "execution_count": 35,
      "outputs": []
    },
    {
      "cell_type": "code",
      "metadata": {
        "id": "qjbLbmri5Rhl",
        "colab": {
          "base_uri": "https://localhost:8080/"
        },
        "outputId": "e4c183ef-28e6-4459-fa42-a4c10e8bf6ab"
      },
      "source": [
        "ampl_param = parse.wrapper(params)\n",
        "pl = mp.ModelPipeline(ampl_param)\n",
        "pl.train_model()"
      ],
      "execution_count": 36,
      "outputs": [
        {
          "output_type": "stream",
          "text": [
            "number of features: 1024\n"
          ],
          "name": "stdout"
        },
        {
          "output_type": "stream",
          "text": [
            "2021-04-02 04:36:58,296 Previous dataset split restored\n",
            "2021-04-02 04:37:19,293 Wrote model metadata to file ampl_output/CYP3A4_cur_final/RF_ecfp_scaffold_classification/f3163659-5bf8-4399-9bc1-f595ced51997/model_metadata.json\n",
            "2021-04-02 04:37:19,559 Wrote model metrics to file ampl_output/CYP3A4_cur_final/RF_ecfp_scaffold_classification/f3163659-5bf8-4399-9bc1-f595ced51997/model_metrics.json\n"
          ],
          "name": "stderr"
        },
        {
          "output_type": "stream",
          "text": [
            "Wrote model tarball to ampl_output/CYP3A4_cur_final_model_f3163659-5bf8-4399-9bc1-f595ced51997.tar.gz\n"
          ],
          "name": "stdout"
        }
      ]
    },
    {
      "cell_type": "code",
      "metadata": {
        "id": "ol3jooPm5Yd0",
        "colab": {
          "base_uri": "https://localhost:8080/"
        },
        "outputId": "a8f6425e-b458-4f10-d0c9-60bf78c8694e"
      },
      "source": [
        "pred_data = pl.model_wrapper.get_perf_data(subset=\"valid\", epoch_label=\"best\")\n",
        "pred_results = pred_data.get_prediction_results()\n",
        "print(f\"AUC score of validation set: {pred_results['roc_auc_score']:.3f}\")\n"
      ],
      "execution_count": 37,
      "outputs": [
        {
          "output_type": "stream",
          "text": [
            "AUC score of validation set: 0.840\n"
          ],
          "name": "stdout"
        }
      ]
    },
    {
      "cell_type": "markdown",
      "metadata": {
        "id": "vJ2mT3kfi_ed"
      },
      "source": [
        "### Train an model with uncertainty prediction"
      ]
    },
    {
      "cell_type": "code",
      "metadata": {
        "id": "WKUZYCUDi_en"
      },
      "source": [
        "listing = glob.glob(os.path.join(\"/\", \"CYP3A4_cur_final_train_valid_test_scaffold_*\"))\n",
        "name = listing[0]\n",
        "split_uuid = name.split(\"_\")[-1].split(\".\")[0]\n",
        "response_col = \"active\"\n",
        "\n",
        "params = {\n",
        "        \"system\": \"LC\",\n",
        "        \"lc_account\": 'None',\n",
        "        \"datastore\": \"False\",\n",
        "        \"save_results\": \"False\",\n",
        "        \"data_owner\": \"username\",\n",
        "        \"prediction_type\": \"classification\",\n",
        "        \"dataset_key\": train_file,\n",
        "        \"id_col\": compound_id,\n",
        "        \"smiles_col\": smiles_col,\n",
        "        \"response_cols\": response_col,\n",
        "        \"split_uuid\": split_uuid,\n",
        "        \"previously_split\": \"True\",\n",
        "        \"featurizer\": \"ecfp\",\n",
        "        \"model_type\": \"RF\",\n",
        "        \"verbose\": \"True\",\n",
        "        \"transformers\": \"True\",\n",
        "        'max_epochs': '70',\n",
        "        \"rerun\": \"False\",\n",
        "        \"result_dir\": \"ampl_output\",\n",
        "        \"uncertainty\": \"True\"\n",
        "    }"
      ],
      "execution_count": 38,
      "outputs": []
    },
    {
      "cell_type": "code",
      "metadata": {
        "id": "zwSTjKBei_eo",
        "colab": {
          "base_uri": "https://localhost:8080/"
        },
        "outputId": "7de18d75-f7b4-465e-e5d6-fb7fb814a2b8"
      },
      "source": [
        "ampl_param = parse.wrapper(params)\n",
        "pl = mp.ModelPipeline(ampl_param)\n",
        "pl.train_model()"
      ],
      "execution_count": 39,
      "outputs": [
        {
          "output_type": "stream",
          "text": [
            "number of features: 1024\n"
          ],
          "name": "stdout"
        },
        {
          "output_type": "stream",
          "text": [
            "2021-04-02 04:38:59,151 Previous dataset split restored\n",
            "2021-04-02 04:39:19,199 Wrote model metadata to file ampl_output/CYP3A4_cur_final/RF_ecfp_scaffold_classification/c6e57955-00d4-47a3-8a3e-247afc239931/model_metadata.json\n",
            "2021-04-02 04:39:19,455 Wrote model metrics to file ampl_output/CYP3A4_cur_final/RF_ecfp_scaffold_classification/c6e57955-00d4-47a3-8a3e-247afc239931/model_metrics.json\n"
          ],
          "name": "stderr"
        },
        {
          "output_type": "stream",
          "text": [
            "Wrote model tarball to ampl_output/CYP3A4_cur_final_model_c6e57955-00d4-47a3-8a3e-247afc239931.tar.gz\n"
          ],
          "name": "stdout"
        }
      ]
    },
    {
      "cell_type": "code",
      "metadata": {
        "id": "wy8fLhm9i_eo",
        "colab": {
          "base_uri": "https://localhost:8080/"
        },
        "outputId": "6c141960-eefa-49f0-94f0-858461a8d307"
      },
      "source": [
        "pred_data = pl.model_wrapper.get_perf_data(subset=\"valid\", epoch_label=\"best\")\n",
        "pred_results = pred_data.get_prediction_results()\n",
        "print(f\"AUC score of validation set: {pred_results['roc_auc_score']:.3f}\")"
      ],
      "execution_count": 40,
      "outputs": [
        {
          "output_type": "stream",
          "text": [
            "AUC score of validation set: 0.816\n"
          ],
          "name": "stdout"
        }
      ]
    },
    {
      "cell_type": "code",
      "metadata": {
        "id": "wnaag-HhjY-X",
        "colab": {
          "base_uri": "https://localhost:8080/"
        },
        "outputId": "de559ad0-2eba-4439-df83-f69a712bf7d1"
      },
      "source": [
        "pred_df = pl.predict_on_dataframe(h1)\n",
        "pred_df = pred_df.merge(h1[[\"rdkit_smiles\", \"active\"]], on=\"rdkit_smiles\")\n",
        "pred_df = pred_df.assign(pred_error=pred_df.active-pred_df.pred)"
      ],
      "execution_count": 41,
      "outputs": [
        {
          "output_type": "stream",
          "text": [
            "2021-04-02 04:40:37,502 Featurizing data...\n",
            "2021-04-02 04:41:47,575 Done\n"
          ],
          "name": "stderr"
        },
        {
          "output_type": "stream",
          "text": [
            "number of features: 1024\n"
          ],
          "name": "stdout"
        }
      ]
    },
    {
      "cell_type": "code",
      "metadata": {
        "colab": {
          "base_uri": "https://localhost:8080/",
          "height": 419
        },
        "id": "SXE0Lo9n5C6Y",
        "outputId": "e71b847b-6269-4bbf-ec2f-20208bf40856"
      },
      "source": [
        "pred_df"
      ],
      "execution_count": 43,
      "outputs": [
        {
          "output_type": "execute_result",
          "data": {
            "text/html": [
              "<div>\n",
              "<style scoped>\n",
              "    .dataframe tbody tr th:only-of-type {\n",
              "        vertical-align: middle;\n",
              "    }\n",
              "\n",
              "    .dataframe tbody tr th {\n",
              "        vertical-align: top;\n",
              "    }\n",
              "\n",
              "    .dataframe thead th {\n",
              "        text-align: right;\n",
              "    }\n",
              "</style>\n",
              "<table border=\"1\" class=\"dataframe\">\n",
              "  <thead>\n",
              "    <tr style=\"text-align: right;\">\n",
              "      <th></th>\n",
              "      <th>rdkit_smiles</th>\n",
              "      <th>pred</th>\n",
              "      <th>active</th>\n",
              "      <th>pred_error</th>\n",
              "    </tr>\n",
              "  </thead>\n",
              "  <tbody>\n",
              "    <tr>\n",
              "      <th>0</th>\n",
              "      <td>Cc1ccc(-c2nnc(C)c(N3CC(C)OC(C)C3)n2)cc1</td>\n",
              "      <td>0</td>\n",
              "      <td>0</td>\n",
              "      <td>0</td>\n",
              "    </tr>\n",
              "    <tr>\n",
              "      <th>1</th>\n",
              "      <td>CS(=O)(=O)N1CCC[C@@]2(CCN(c3ccncc3)C2)C1</td>\n",
              "      <td>0</td>\n",
              "      <td>0</td>\n",
              "      <td>0</td>\n",
              "    </tr>\n",
              "    <tr>\n",
              "      <th>2</th>\n",
              "      <td>Cc1cc([C@H]2C[C@H]3[C@@H](C)SC(N)=N[C@@]3(c3cc...</td>\n",
              "      <td>0</td>\n",
              "      <td>0</td>\n",
              "      <td>0</td>\n",
              "    </tr>\n",
              "    <tr>\n",
              "      <th>3</th>\n",
              "      <td>N#Cc1cccc(-c2nc3cnc(N4CCOCC4)nc3n(C3CC3)c2=O)c1</td>\n",
              "      <td>0</td>\n",
              "      <td>0</td>\n",
              "      <td>0</td>\n",
              "    </tr>\n",
              "    <tr>\n",
              "      <th>4</th>\n",
              "      <td>Cc1nn(C(C)(C)C)c(O)c1Sc1ccc(Cl)cc1</td>\n",
              "      <td>0</td>\n",
              "      <td>0</td>\n",
              "      <td>0</td>\n",
              "    </tr>\n",
              "    <tr>\n",
              "      <th>...</th>\n",
              "      <td>...</td>\n",
              "      <td>...</td>\n",
              "      <td>...</td>\n",
              "      <td>...</td>\n",
              "    </tr>\n",
              "    <tr>\n",
              "      <th>18637</th>\n",
              "      <td>CC(C)[C@@H]1c2nn(-c3cccc(S(C)(=O)=O)c3)cc2CN1c...</td>\n",
              "      <td>0</td>\n",
              "      <td>0</td>\n",
              "      <td>0</td>\n",
              "    </tr>\n",
              "    <tr>\n",
              "      <th>18638</th>\n",
              "      <td>N[C@@H]1CCC=C(c2ccc(F)cc2)[C@H]1CNc1cc(F)c(S(=...</td>\n",
              "      <td>0</td>\n",
              "      <td>0</td>\n",
              "      <td>0</td>\n",
              "    </tr>\n",
              "    <tr>\n",
              "      <th>18639</th>\n",
              "      <td>O=[N+]([O-])c1cccc(-c2nnn(C34CC5CC(CC(C5)C3)C4...</td>\n",
              "      <td>0</td>\n",
              "      <td>0</td>\n",
              "      <td>0</td>\n",
              "    </tr>\n",
              "    <tr>\n",
              "      <th>18640</th>\n",
              "      <td>Cc1nccc2c3cnc(Nc4ccc(N5CCNCC5)cn4)nc3n(C3CCCC3...</td>\n",
              "      <td>0</td>\n",
              "      <td>0</td>\n",
              "      <td>0</td>\n",
              "    </tr>\n",
              "    <tr>\n",
              "      <th>18641</th>\n",
              "      <td>CN1C(=O)[C@@](c2ccc(OC(F)F)cc2)(c2ccc(F)c(C#CC...</td>\n",
              "      <td>0</td>\n",
              "      <td>0</td>\n",
              "      <td>0</td>\n",
              "    </tr>\n",
              "  </tbody>\n",
              "</table>\n",
              "<p>18642 rows × 4 columns</p>\n",
              "</div>"
            ],
            "text/plain": [
              "                                            rdkit_smiles  ...  pred_error\n",
              "0                Cc1ccc(-c2nnc(C)c(N3CC(C)OC(C)C3)n2)cc1  ...           0\n",
              "1               CS(=O)(=O)N1CCC[C@@]2(CCN(c3ccncc3)C2)C1  ...           0\n",
              "2      Cc1cc([C@H]2C[C@H]3[C@@H](C)SC(N)=N[C@@]3(c3cc...  ...           0\n",
              "3        N#Cc1cccc(-c2nc3cnc(N4CCOCC4)nc3n(C3CC3)c2=O)c1  ...           0\n",
              "4                     Cc1nn(C(C)(C)C)c(O)c1Sc1ccc(Cl)cc1  ...           0\n",
              "...                                                  ...  ...         ...\n",
              "18637  CC(C)[C@@H]1c2nn(-c3cccc(S(C)(=O)=O)c3)cc2CN1c...  ...           0\n",
              "18638  N[C@@H]1CCC=C(c2ccc(F)cc2)[C@H]1CNc1cc(F)c(S(=...  ...           0\n",
              "18639  O=[N+]([O-])c1cccc(-c2nnn(C34CC5CC(CC(C5)C3)C4...  ...           0\n",
              "18640  Cc1nccc2c3cnc(Nc4ccc(N5CCNCC5)cn4)nc3n(C3CCCC3...  ...           0\n",
              "18641  CN1C(=O)[C@@](c2ccc(OC(F)F)cc2)(c2ccc(F)c(C#CC...  ...           0\n",
              "\n",
              "[18642 rows x 4 columns]"
            ]
          },
          "metadata": {
            "tags": []
          },
          "execution_count": 43
        }
      ]
    },
    {
      "cell_type": "markdown",
      "metadata": {
        "id": "pKP_mFuB5giz"
      },
      "source": [
        "### Grid search\n",
        "#### Tunable parameters for Random Forest models\n",
        "- rf_estimators: number of estimators to use in random forest models\n",
        "- rf_max_depth: the maximum depth of a decision tree in the random forest\n",
        "- rf_max_features: max number of features to split random forest nodes"
      ]
    },
    {
      "cell_type": "code",
      "metadata": {
        "id": "i6FBeUGh5mGJ",
        "colab": {
          "base_uri": "https://localhost:8080/"
        },
        "outputId": "236f55d7-8d94-4cff-b6db-dc51526f9916"
      },
      "source": [
        "estimators = [16,32,64,128]\n",
        "depth=[16,32,64,128]\n",
        "features=[16,32,64,128]\n",
        "\n",
        "rfe_list = []\n",
        "rfd_list = []\n",
        "rff_list = []\n",
        "valid_auc_list = []\n",
        "for rf_estimator in estimators:\n",
        "    for rf_depth in depth:\n",
        "        for rf_feature in features:\n",
        "            params[\"rf_estimators\"] = rf_estimator\n",
        "            params[\"rf_max_depth\"] = rf_depth\n",
        "            params[\"rf_max_features\"] = rf_feature\n",
        "            rfe_list.append(rf_estimator)\n",
        "            rfd_list.append(rf_depth)\n",
        "            rff_list.append(rf_feature)\n",
        "            tp = parse.wrapper(params)\n",
        "            pl = mp.ModelPipeline(tp)\n",
        "            pl.train_model()\n",
        "            pred_data = pl.model_wrapper.get_perf_data(subset=\"valid\", epoch_label=\"best\")\n",
        "            pred_results = pred_data.get_prediction_results()\n",
        "            valid_auc = pred_results['roc_auc_score']\n",
        "            valid_auc_list.append(valid_auc)\n",
        "            print(f\"rf_estimators: {rf_estimator}, rf_max_depth: {rf_depth}, rf_max_features: {rf_feature}, valid_auc: {valid_auc}\")"
      ],
      "execution_count": 27,
      "outputs": [
        {
          "output_type": "stream",
          "text": [
            "number of features: 1024\n"
          ],
          "name": "stdout"
        },
        {
          "output_type": "stream",
          "text": [
            "2021-04-02 03:05:21,098 Previous dataset split restored\n",
            "2021-04-02 03:05:26,737 Wrote model metadata to file ampl_output/CYP3A4_cur_delaney/RF_ecfp_scaffold_classification/55dee9d4-708c-4d77-824a-424b97bf1dd7/model_metadata.json\n",
            "2021-04-02 03:05:26,748 Wrote model metrics to file ampl_output/CYP3A4_cur_delaney/RF_ecfp_scaffold_classification/55dee9d4-708c-4d77-824a-424b97bf1dd7/model_metrics.json\n"
          ],
          "name": "stderr"
        },
        {
          "output_type": "stream",
          "text": [
            "Wrote model tarball to ampl_output/CYP3A4_cur_delaney_model_55dee9d4-708c-4d77-824a-424b97bf1dd7.tar.gz\n",
            "rf_estimators: 16, rf_max_depth: 16, rf_max_features: 16, valid_auc: 0.8230336762804294\n",
            "number of features: 1024\n"
          ],
          "name": "stdout"
        },
        {
          "output_type": "stream",
          "text": [
            "2021-04-02 03:06:41,279 Previous dataset split restored\n",
            "2021-04-02 03:06:47,079 Wrote model metadata to file ampl_output/CYP3A4_cur_delaney/RF_ecfp_scaffold_classification/84c61750-a585-4779-99fa-ac8819438b4d/model_metadata.json\n",
            "2021-04-02 03:06:47,091 Wrote model metrics to file ampl_output/CYP3A4_cur_delaney/RF_ecfp_scaffold_classification/84c61750-a585-4779-99fa-ac8819438b4d/model_metrics.json\n"
          ],
          "name": "stderr"
        },
        {
          "output_type": "stream",
          "text": [
            "Wrote model tarball to ampl_output/CYP3A4_cur_delaney_model_84c61750-a585-4779-99fa-ac8819438b4d.tar.gz\n",
            "rf_estimators: 16, rf_max_depth: 16, rf_max_features: 32, valid_auc: 0.7802271321751841\n",
            "number of features: 1024\n"
          ],
          "name": "stdout"
        },
        {
          "output_type": "stream",
          "text": [
            "2021-04-02 03:08:01,608 Previous dataset split restored\n",
            "2021-04-02 03:08:07,669 Wrote model metadata to file ampl_output/CYP3A4_cur_delaney/RF_ecfp_scaffold_classification/5c22d317-bc56-48ae-b672-3f63b3773a16/model_metadata.json\n",
            "2021-04-02 03:08:07,678 Wrote model metrics to file ampl_output/CYP3A4_cur_delaney/RF_ecfp_scaffold_classification/5c22d317-bc56-48ae-b672-3f63b3773a16/model_metrics.json\n"
          ],
          "name": "stderr"
        },
        {
          "output_type": "stream",
          "text": [
            "Wrote model tarball to ampl_output/CYP3A4_cur_delaney_model_5c22d317-bc56-48ae-b672-3f63b3773a16.tar.gz\n",
            "rf_estimators: 16, rf_max_depth: 16, rf_max_features: 64, valid_auc: 0.7447124304267162\n",
            "number of features: 1024\n"
          ],
          "name": "stdout"
        },
        {
          "output_type": "stream",
          "text": [
            "2021-04-02 03:09:22,389 Previous dataset split restored\n",
            "2021-04-02 03:09:28,865 Wrote model metadata to file ampl_output/CYP3A4_cur_delaney/RF_ecfp_scaffold_classification/c6ec13a7-455a-4c0f-82a1-775efa9f5b3f/model_metadata.json\n",
            "2021-04-02 03:09:28,874 Wrote model metrics to file ampl_output/CYP3A4_cur_delaney/RF_ecfp_scaffold_classification/c6ec13a7-455a-4c0f-82a1-775efa9f5b3f/model_metrics.json\n"
          ],
          "name": "stderr"
        },
        {
          "output_type": "stream",
          "text": [
            "Wrote model tarball to ampl_output/CYP3A4_cur_delaney_model_c6ec13a7-455a-4c0f-82a1-775efa9f5b3f.tar.gz\n",
            "rf_estimators: 16, rf_max_depth: 16, rf_max_features: 128, valid_auc: 0.7731714173272615\n",
            "number of features: 1024\n"
          ],
          "name": "stdout"
        },
        {
          "output_type": "stream",
          "text": [
            "2021-04-02 03:10:43,430 Previous dataset split restored\n",
            "2021-04-02 03:10:49,223 Wrote model metadata to file ampl_output/CYP3A4_cur_delaney/RF_ecfp_scaffold_classification/95c3d6ce-22bf-41a7-9210-170ce6e14db7/model_metadata.json\n",
            "2021-04-02 03:10:49,238 Wrote model metrics to file ampl_output/CYP3A4_cur_delaney/RF_ecfp_scaffold_classification/95c3d6ce-22bf-41a7-9210-170ce6e14db7/model_metrics.json\n"
          ],
          "name": "stderr"
        },
        {
          "output_type": "stream",
          "text": [
            "Wrote model tarball to ampl_output/CYP3A4_cur_delaney_model_95c3d6ce-22bf-41a7-9210-170ce6e14db7.tar.gz\n",
            "rf_estimators: 16, rf_max_depth: 32, rf_max_features: 16, valid_auc: 0.772738516894361\n",
            "number of features: 1024\n"
          ],
          "name": "stdout"
        },
        {
          "output_type": "stream",
          "text": [
            "2021-04-02 03:12:03,686 Previous dataset split restored\n",
            "2021-04-02 03:12:09,554 Wrote model metadata to file ampl_output/CYP3A4_cur_delaney/RF_ecfp_scaffold_classification/8116dfe6-5673-40d7-b599-313ac441d4e9/model_metadata.json\n",
            "2021-04-02 03:12:09,566 Wrote model metrics to file ampl_output/CYP3A4_cur_delaney/RF_ecfp_scaffold_classification/8116dfe6-5673-40d7-b599-313ac441d4e9/model_metrics.json\n"
          ],
          "name": "stderr"
        },
        {
          "output_type": "stream",
          "text": [
            "Wrote model tarball to ampl_output/CYP3A4_cur_delaney_model_8116dfe6-5673-40d7-b599-313ac441d4e9.tar.gz\n",
            "rf_estimators: 16, rf_max_depth: 32, rf_max_features: 32, valid_auc: 0.7350368246472142\n",
            "number of features: 1024\n"
          ],
          "name": "stdout"
        },
        {
          "output_type": "stream",
          "text": [
            "2021-04-02 03:13:24,394 Previous dataset split restored\n",
            "2021-04-02 03:13:30,673 Wrote model metadata to file ampl_output/CYP3A4_cur_delaney/RF_ecfp_scaffold_classification/8d101745-7319-41ed-910d-cd069d19eda5/model_metadata.json\n",
            "2021-04-02 03:13:30,683 Wrote model metrics to file ampl_output/CYP3A4_cur_delaney/RF_ecfp_scaffold_classification/8d101745-7319-41ed-910d-cd069d19eda5/model_metrics.json\n"
          ],
          "name": "stderr"
        },
        {
          "output_type": "stream",
          "text": [
            "Wrote model tarball to ampl_output/CYP3A4_cur_delaney_model_8d101745-7319-41ed-910d-cd069d19eda5.tar.gz\n",
            "rf_estimators: 16, rf_max_depth: 32, rf_max_features: 64, valid_auc: 0.7457300275482094\n",
            "number of features: 1024\n"
          ],
          "name": "stdout"
        },
        {
          "output_type": "stream",
          "text": [
            "2021-04-02 03:14:45,508 Previous dataset split restored\n",
            "2021-04-02 03:14:52,619 Wrote model metadata to file ampl_output/CYP3A4_cur_delaney/RF_ecfp_scaffold_classification/0eb50e20-7023-423f-8efc-62c285018c4e/model_metadata.json\n",
            "2021-04-02 03:14:52,629 Wrote model metrics to file ampl_output/CYP3A4_cur_delaney/RF_ecfp_scaffold_classification/0eb50e20-7023-423f-8efc-62c285018c4e/model_metrics.json\n"
          ],
          "name": "stderr"
        },
        {
          "output_type": "stream",
          "text": [
            "Wrote model tarball to ampl_output/CYP3A4_cur_delaney_model_0eb50e20-7023-423f-8efc-62c285018c4e.tar.gz\n",
            "rf_estimators: 16, rf_max_depth: 32, rf_max_features: 128, valid_auc: 0.7978298757519537\n",
            "number of features: 1024\n"
          ],
          "name": "stdout"
        },
        {
          "output_type": "stream",
          "text": [
            "2021-04-02 03:16:07,429 Previous dataset split restored\n",
            "2021-04-02 03:16:13,209 Wrote model metadata to file ampl_output/CYP3A4_cur_delaney/RF_ecfp_scaffold_classification/44fe776c-ce7f-47da-be0d-e8d6ee5fccc9/model_metadata.json\n",
            "2021-04-02 03:16:13,225 Wrote model metrics to file ampl_output/CYP3A4_cur_delaney/RF_ecfp_scaffold_classification/44fe776c-ce7f-47da-be0d-e8d6ee5fccc9/model_metrics.json\n"
          ],
          "name": "stderr"
        },
        {
          "output_type": "stream",
          "text": [
            "Wrote model tarball to ampl_output/CYP3A4_cur_delaney_model_44fe776c-ce7f-47da-be0d-e8d6ee5fccc9.tar.gz\n",
            "rf_estimators: 16, rf_max_depth: 64, rf_max_features: 16, valid_auc: 0.8130095013211897\n",
            "number of features: 1024\n"
          ],
          "name": "stdout"
        },
        {
          "output_type": "stream",
          "text": [
            "2021-04-02 03:17:27,573 Previous dataset split restored\n",
            "2021-04-02 03:17:33,497 Wrote model metadata to file ampl_output/CYP3A4_cur_delaney/RF_ecfp_scaffold_classification/d36bbfd3-abc4-4c90-88d3-2ab969f8abf7/model_metadata.json\n",
            "2021-04-02 03:17:33,510 Wrote model metrics to file ampl_output/CYP3A4_cur_delaney/RF_ecfp_scaffold_classification/d36bbfd3-abc4-4c90-88d3-2ab969f8abf7/model_metrics.json\n"
          ],
          "name": "stderr"
        },
        {
          "output_type": "stream",
          "text": [
            "Wrote model tarball to ampl_output/CYP3A4_cur_delaney_model_d36bbfd3-abc4-4c90-88d3-2ab969f8abf7.tar.gz\n",
            "rf_estimators: 16, rf_max_depth: 64, rf_max_features: 32, valid_auc: 0.7971833361443752\n",
            "number of features: 1024\n"
          ],
          "name": "stdout"
        },
        {
          "output_type": "stream",
          "text": [
            "2021-04-02 03:18:48,057 Previous dataset split restored\n",
            "2021-04-02 03:18:54,298 Wrote model metadata to file ampl_output/CYP3A4_cur_delaney/RF_ecfp_scaffold_classification/d8b24221-be8f-4bb8-a4ae-cca58916d7fa/model_metadata.json\n",
            "2021-04-02 03:18:54,309 Wrote model metrics to file ampl_output/CYP3A4_cur_delaney/RF_ecfp_scaffold_classification/d8b24221-be8f-4bb8-a4ae-cca58916d7fa/model_metrics.json\n"
          ],
          "name": "stderr"
        },
        {
          "output_type": "stream",
          "text": [
            "Wrote model tarball to ampl_output/CYP3A4_cur_delaney_model_d8b24221-be8f-4bb8-a4ae-cca58916d7fa.tar.gz\n",
            "rf_estimators: 16, rf_max_depth: 64, rf_max_features: 64, valid_auc: 0.7686568842412999\n",
            "number of features: 1024\n"
          ],
          "name": "stdout"
        },
        {
          "output_type": "stream",
          "text": [
            "2021-04-02 03:20:08,745 Previous dataset split restored\n",
            "2021-04-02 03:20:15,772 Wrote model metadata to file ampl_output/CYP3A4_cur_delaney/RF_ecfp_scaffold_classification/a943dd37-bed0-4259-a9fa-b176cbd67f1c/model_metadata.json\n",
            "2021-04-02 03:20:15,782 Wrote model metrics to file ampl_output/CYP3A4_cur_delaney/RF_ecfp_scaffold_classification/a943dd37-bed0-4259-a9fa-b176cbd67f1c/model_metrics.json\n"
          ],
          "name": "stderr"
        },
        {
          "output_type": "stream",
          "text": [
            "Wrote model tarball to ampl_output/CYP3A4_cur_delaney_model_a943dd37-bed0-4259-a9fa-b176cbd67f1c.tar.gz\n",
            "rf_estimators: 16, rf_max_depth: 64, rf_max_features: 128, valid_auc: 0.7688199246640804\n",
            "number of features: 1024\n"
          ],
          "name": "stdout"
        },
        {
          "output_type": "stream",
          "text": [
            "2021-04-02 03:21:30,423 Previous dataset split restored\n",
            "2021-04-02 03:21:36,163 Wrote model metadata to file ampl_output/CYP3A4_cur_delaney/RF_ecfp_scaffold_classification/cbb2ddd0-97f4-4adb-8592-04adb0eb3a61/model_metadata.json\n",
            "2021-04-02 03:21:36,178 Wrote model metrics to file ampl_output/CYP3A4_cur_delaney/RF_ecfp_scaffold_classification/cbb2ddd0-97f4-4adb-8592-04adb0eb3a61/model_metrics.json\n"
          ],
          "name": "stderr"
        },
        {
          "output_type": "stream",
          "text": [
            "Wrote model tarball to ampl_output/CYP3A4_cur_delaney_model_cbb2ddd0-97f4-4adb-8592-04adb0eb3a61.tar.gz\n",
            "rf_estimators: 16, rf_max_depth: 128, rf_max_features: 16, valid_auc: 0.7754314949120145\n",
            "number of features: 1024\n"
          ],
          "name": "stdout"
        },
        {
          "output_type": "stream",
          "text": [
            "2021-04-02 03:22:50,889 Previous dataset split restored\n",
            "2021-04-02 03:22:56,761 Wrote model metadata to file ampl_output/CYP3A4_cur_delaney/RF_ecfp_scaffold_classification/521f1fe5-e1a3-4329-9fad-dbc5dd55b96b/model_metadata.json\n",
            "2021-04-02 03:22:56,774 Wrote model metrics to file ampl_output/CYP3A4_cur_delaney/RF_ecfp_scaffold_classification/521f1fe5-e1a3-4329-9fad-dbc5dd55b96b/model_metrics.json\n"
          ],
          "name": "stderr"
        },
        {
          "output_type": "stream",
          "text": [
            "Wrote model tarball to ampl_output/CYP3A4_cur_delaney_model_521f1fe5-e1a3-4329-9fad-dbc5dd55b96b.tar.gz\n",
            "rf_estimators: 16, rf_max_depth: 128, rf_max_features: 32, valid_auc: 0.7741946365322988\n",
            "number of features: 1024\n"
          ],
          "name": "stdout"
        },
        {
          "output_type": "stream",
          "text": [
            "2021-04-02 03:24:11,220 Previous dataset split restored\n",
            "2021-04-02 03:24:17,418 Wrote model metadata to file ampl_output/CYP3A4_cur_delaney/RF_ecfp_scaffold_classification/f3a1f2e5-6345-4e2a-8fe3-2d91001eeca5/model_metadata.json\n",
            "2021-04-02 03:24:17,429 Wrote model metrics to file ampl_output/CYP3A4_cur_delaney/RF_ecfp_scaffold_classification/f3a1f2e5-6345-4e2a-8fe3-2d91001eeca5/model_metrics.json\n"
          ],
          "name": "stderr"
        },
        {
          "output_type": "stream",
          "text": [
            "Wrote model tarball to ampl_output/CYP3A4_cur_delaney_model_f3a1f2e5-6345-4e2a-8fe3-2d91001eeca5.tar.gz\n",
            "rf_estimators: 16, rf_max_depth: 128, rf_max_features: 64, valid_auc: 0.790290661719233\n",
            "number of features: 1024\n"
          ],
          "name": "stdout"
        },
        {
          "output_type": "stream",
          "text": [
            "2021-04-02 03:25:32,271 Previous dataset split restored\n",
            "2021-04-02 03:25:39,302 Wrote model metadata to file ampl_output/CYP3A4_cur_delaney/RF_ecfp_scaffold_classification/f65d0372-6d0a-4dff-880b-38c81039b161/model_metadata.json\n",
            "2021-04-02 03:25:39,312 Wrote model metrics to file ampl_output/CYP3A4_cur_delaney/RF_ecfp_scaffold_classification/f65d0372-6d0a-4dff-880b-38c81039b161/model_metrics.json\n"
          ],
          "name": "stderr"
        },
        {
          "output_type": "stream",
          "text": [
            "Wrote model tarball to ampl_output/CYP3A4_cur_delaney_model_f65d0372-6d0a-4dff-880b-38c81039b161.tar.gz\n",
            "rf_estimators: 16, rf_max_depth: 128, rf_max_features: 128, valid_auc: 0.8073311969415865\n",
            "number of features: 1024\n"
          ],
          "name": "stdout"
        },
        {
          "output_type": "stream",
          "text": [
            "2021-04-02 03:26:54,193 Previous dataset split restored\n",
            "2021-04-02 03:27:00,006 Wrote model metadata to file ampl_output/CYP3A4_cur_delaney/RF_ecfp_scaffold_classification/9dadeb8f-f3e6-4d04-a1f7-ffbd65a3d744/model_metadata.json\n",
            "2021-04-02 03:27:00,024 Wrote model metrics to file ampl_output/CYP3A4_cur_delaney/RF_ecfp_scaffold_classification/9dadeb8f-f3e6-4d04-a1f7-ffbd65a3d744/model_metrics.json\n"
          ],
          "name": "stderr"
        },
        {
          "output_type": "stream",
          "text": [
            "Wrote model tarball to ampl_output/CYP3A4_cur_delaney_model_9dadeb8f-f3e6-4d04-a1f7-ffbd65a3d744.tar.gz\n",
            "rf_estimators: 32, rf_max_depth: 16, rf_max_features: 16, valid_auc: 0.820127059088098\n",
            "number of features: 1024\n"
          ],
          "name": "stdout"
        },
        {
          "output_type": "stream",
          "text": [
            "2021-04-02 03:28:14,746 Previous dataset split restored\n",
            "2021-04-02 03:28:20,779 Wrote model metadata to file ampl_output/CYP3A4_cur_delaney/RF_ecfp_scaffold_classification/39e67c2c-3833-4759-bc26-da4d4ad4e61f/model_metadata.json\n",
            "2021-04-02 03:28:20,794 Wrote model metrics to file ampl_output/CYP3A4_cur_delaney/RF_ecfp_scaffold_classification/39e67c2c-3833-4759-bc26-da4d4ad4e61f/model_metrics.json\n"
          ],
          "name": "stderr"
        },
        {
          "output_type": "stream",
          "text": [
            "Wrote model tarball to ampl_output/CYP3A4_cur_delaney_model_39e67c2c-3833-4759-bc26-da4d4ad4e61f.tar.gz\n",
            "rf_estimators: 32, rf_max_depth: 16, rf_max_features: 32, valid_auc: 0.8004610108506212\n",
            "number of features: 1024\n"
          ],
          "name": "stdout"
        },
        {
          "output_type": "stream",
          "text": [
            "2021-04-02 03:29:35,241 Previous dataset split restored\n",
            "2021-04-02 03:29:41,715 Wrote model metadata to file ampl_output/CYP3A4_cur_delaney/RF_ecfp_scaffold_classification/134e5bb5-632d-4b6e-8cd1-01f65dad095e/model_metadata.json\n",
            "2021-04-02 03:29:41,728 Wrote model metrics to file ampl_output/CYP3A4_cur_delaney/RF_ecfp_scaffold_classification/134e5bb5-632d-4b6e-8cd1-01f65dad095e/model_metrics.json\n"
          ],
          "name": "stderr"
        },
        {
          "output_type": "stream",
          "text": [
            "Wrote model tarball to ampl_output/CYP3A4_cur_delaney_model_134e5bb5-632d-4b6e-8cd1-01f65dad095e.tar.gz\n",
            "rf_estimators: 32, rf_max_depth: 16, rf_max_features: 64, valid_auc: 0.7880024737167595\n",
            "number of features: 1024\n"
          ],
          "name": "stdout"
        },
        {
          "output_type": "stream",
          "text": [
            "2021-04-02 03:30:56,144 Previous dataset split restored\n",
            "2021-04-02 03:31:03,676 Wrote model metadata to file ampl_output/CYP3A4_cur_delaney/RF_ecfp_scaffold_classification/baa0db87-b6b6-4339-a98c-d3ce4c180107/model_metadata.json\n",
            "2021-04-02 03:31:03,688 Wrote model metrics to file ampl_output/CYP3A4_cur_delaney/RF_ecfp_scaffold_classification/baa0db87-b6b6-4339-a98c-d3ce4c180107/model_metrics.json\n"
          ],
          "name": "stderr"
        },
        {
          "output_type": "stream",
          "text": [
            "Wrote model tarball to ampl_output/CYP3A4_cur_delaney_model_baa0db87-b6b6-4339-a98c-d3ce4c180107.tar.gz\n",
            "rf_estimators: 32, rf_max_depth: 16, rf_max_features: 128, valid_auc: 0.8371507280598189\n",
            "number of features: 1024\n"
          ],
          "name": "stdout"
        },
        {
          "output_type": "stream",
          "text": [
            "2021-04-02 03:32:18,243 Previous dataset split restored\n",
            "2021-04-02 03:32:24,116 Wrote model metadata to file ampl_output/CYP3A4_cur_delaney/RF_ecfp_scaffold_classification/16f13d9d-f445-4c32-a6d4-975b4de41ad0/model_metadata.json\n",
            "2021-04-02 03:32:24,140 Wrote model metrics to file ampl_output/CYP3A4_cur_delaney/RF_ecfp_scaffold_classification/16f13d9d-f445-4c32-a6d4-975b4de41ad0/model_metrics.json\n"
          ],
          "name": "stderr"
        },
        {
          "output_type": "stream",
          "text": [
            "Wrote model tarball to ampl_output/CYP3A4_cur_delaney_model_16f13d9d-f445-4c32-a6d4-975b4de41ad0.tar.gz\n",
            "rf_estimators: 32, rf_max_depth: 32, rf_max_features: 16, valid_auc: 0.7860235003092146\n",
            "number of features: 1024\n"
          ],
          "name": "stdout"
        },
        {
          "output_type": "stream",
          "text": [
            "2021-04-02 03:33:38,561 Previous dataset split restored\n",
            "2021-04-02 03:33:44,836 Wrote model metadata to file ampl_output/CYP3A4_cur_delaney/RF_ecfp_scaffold_classification/6499faf7-6758-408b-a2d3-e5a1eb755b55/model_metadata.json\n",
            "2021-04-02 03:33:44,859 Wrote model metrics to file ampl_output/CYP3A4_cur_delaney/RF_ecfp_scaffold_classification/6499faf7-6758-408b-a2d3-e5a1eb755b55/model_metrics.json\n"
          ],
          "name": "stderr"
        },
        {
          "output_type": "stream",
          "text": [
            "Wrote model tarball to ampl_output/CYP3A4_cur_delaney_model_6499faf7-6758-408b-a2d3-e5a1eb755b55.tar.gz\n",
            "rf_estimators: 32, rf_max_depth: 32, rf_max_features: 32, valid_auc: 0.8087873165795243\n",
            "number of features: 1024\n"
          ],
          "name": "stdout"
        },
        {
          "output_type": "stream",
          "text": [
            "2021-04-02 03:34:59,620 Previous dataset split restored\n",
            "2021-04-02 03:35:06,608 Wrote model metadata to file ampl_output/CYP3A4_cur_delaney/RF_ecfp_scaffold_classification/ad8d8520-f765-45e8-ae8e-9ada3e455d6a/model_metadata.json\n",
            "2021-04-02 03:35:06,626 Wrote model metrics to file ampl_output/CYP3A4_cur_delaney/RF_ecfp_scaffold_classification/ad8d8520-f765-45e8-ae8e-9ada3e455d6a/model_metrics.json\n"
          ],
          "name": "stderr"
        },
        {
          "output_type": "stream",
          "text": [
            "Wrote model tarball to ampl_output/CYP3A4_cur_delaney_model_ad8d8520-f765-45e8-ae8e-9ada3e455d6a.tar.gz\n",
            "rf_estimators: 32, rf_max_depth: 32, rf_max_features: 64, valid_auc: 0.731511778265025\n",
            "number of features: 1024\n"
          ],
          "name": "stdout"
        },
        {
          "output_type": "stream",
          "text": [
            "2021-04-02 03:36:21,263 Previous dataset split restored\n",
            "2021-04-02 03:36:29,668 Wrote model metadata to file ampl_output/CYP3A4_cur_delaney/RF_ecfp_scaffold_classification/19c5e40d-e51b-4720-8dda-79a767aa7eb5/model_metadata.json\n",
            "2021-04-02 03:36:29,685 Wrote model metrics to file ampl_output/CYP3A4_cur_delaney/RF_ecfp_scaffold_classification/19c5e40d-e51b-4720-8dda-79a767aa7eb5/model_metrics.json\n"
          ],
          "name": "stderr"
        },
        {
          "output_type": "stream",
          "text": [
            "Wrote model tarball to ampl_output/CYP3A4_cur_delaney_model_19c5e40d-e51b-4720-8dda-79a767aa7eb5.tar.gz\n",
            "rf_estimators: 32, rf_max_depth: 32, rf_max_features: 128, valid_auc: 0.8152752009894867\n",
            "number of features: 1024\n"
          ],
          "name": "stdout"
        },
        {
          "output_type": "stream",
          "text": [
            "2021-04-02 03:37:44,476 Previous dataset split restored\n",
            "2021-04-02 03:37:50,371 Wrote model metadata to file ampl_output/CYP3A4_cur_delaney/RF_ecfp_scaffold_classification/77173c00-c668-4f0a-949a-0f3bfbff2197/model_metadata.json\n",
            "2021-04-02 03:37:50,397 Wrote model metrics to file ampl_output/CYP3A4_cur_delaney/RF_ecfp_scaffold_classification/77173c00-c668-4f0a-949a-0f3bfbff2197/model_metrics.json\n"
          ],
          "name": "stderr"
        },
        {
          "output_type": "stream",
          "text": [
            "Wrote model tarball to ampl_output/CYP3A4_cur_delaney_model_77173c00-c668-4f0a-949a-0f3bfbff2197.tar.gz\n",
            "rf_estimators: 32, rf_max_depth: 64, rf_max_features: 16, valid_auc: 0.786068476977568\n",
            "number of features: 1024\n"
          ],
          "name": "stdout"
        },
        {
          "output_type": "stream",
          "text": [
            "2021-04-02 03:39:04,996 Previous dataset split restored\n",
            "2021-04-02 03:39:11,314 Wrote model metadata to file ampl_output/CYP3A4_cur_delaney/RF_ecfp_scaffold_classification/08a1d21e-fe5e-4baf-bf09-b86f95c57462/model_metadata.json\n",
            "2021-04-02 03:39:11,335 Wrote model metrics to file ampl_output/CYP3A4_cur_delaney/RF_ecfp_scaffold_classification/08a1d21e-fe5e-4baf-bf09-b86f95c57462/model_metrics.json\n"
          ],
          "name": "stderr"
        },
        {
          "output_type": "stream",
          "text": [
            "Wrote model tarball to ampl_output/CYP3A4_cur_delaney_model_08a1d21e-fe5e-4baf-bf09-b86f95c57462.tar.gz\n",
            "rf_estimators: 32, rf_max_depth: 64, rf_max_features: 32, valid_auc: 0.8175690110755045\n",
            "number of features: 1024\n"
          ],
          "name": "stdout"
        },
        {
          "output_type": "stream",
          "text": [
            "2021-04-02 03:40:26,344 Previous dataset split restored\n",
            "2021-04-02 03:40:33,807 Wrote model metadata to file ampl_output/CYP3A4_cur_delaney/RF_ecfp_scaffold_classification/896f441f-09d2-43d6-91d8-7b5a86f30594/model_metadata.json\n",
            "2021-04-02 03:40:33,826 Wrote model metrics to file ampl_output/CYP3A4_cur_delaney/RF_ecfp_scaffold_classification/896f441f-09d2-43d6-91d8-7b5a86f30594/model_metrics.json\n"
          ],
          "name": "stderr"
        },
        {
          "output_type": "stream",
          "text": [
            "Wrote model tarball to ampl_output/CYP3A4_cur_delaney_model_896f441f-09d2-43d6-91d8-7b5a86f30594.tar.gz\n",
            "rf_estimators: 32, rf_max_depth: 64, rf_max_features: 64, valid_auc: 0.8040703884859729\n",
            "number of features: 1024\n"
          ],
          "name": "stdout"
        },
        {
          "output_type": "stream",
          "text": [
            "2021-04-02 03:41:48,450 Previous dataset split restored\n",
            "2021-04-02 03:41:56,876 Wrote model metadata to file ampl_output/CYP3A4_cur_delaney/RF_ecfp_scaffold_classification/23516be2-21a5-4225-bd83-bd2185139f15/model_metadata.json\n",
            "2021-04-02 03:41:56,892 Wrote model metrics to file ampl_output/CYP3A4_cur_delaney/RF_ecfp_scaffold_classification/23516be2-21a5-4225-bd83-bd2185139f15/model_metrics.json\n"
          ],
          "name": "stderr"
        },
        {
          "output_type": "stream",
          "text": [
            "Wrote model tarball to ampl_output/CYP3A4_cur_delaney_model_23516be2-21a5-4225-bd83-bd2185139f15.tar.gz\n",
            "rf_estimators: 32, rf_max_depth: 64, rf_max_features: 128, valid_auc: 0.8249789171867092\n",
            "number of features: 1024\n"
          ],
          "name": "stdout"
        },
        {
          "output_type": "stream",
          "text": [
            "2021-04-02 03:43:11,586 Previous dataset split restored\n",
            "2021-04-02 03:43:17,497 Wrote model metadata to file ampl_output/CYP3A4_cur_delaney/RF_ecfp_scaffold_classification/8df4390e-422b-4141-824d-a6090d444af7/model_metadata.json\n",
            "2021-04-02 03:43:17,523 Wrote model metrics to file ampl_output/CYP3A4_cur_delaney/RF_ecfp_scaffold_classification/8df4390e-422b-4141-824d-a6090d444af7/model_metrics.json\n"
          ],
          "name": "stderr"
        },
        {
          "output_type": "stream",
          "text": [
            "Wrote model tarball to ampl_output/CYP3A4_cur_delaney_model_8df4390e-422b-4141-824d-a6090d444af7.tar.gz\n",
            "rf_estimators: 32, rf_max_depth: 128, rf_max_features: 16, valid_auc: 0.8065384831618598\n",
            "number of features: 1024\n"
          ],
          "name": "stdout"
        },
        {
          "output_type": "stream",
          "text": [
            "2021-04-02 03:44:32,032 Previous dataset split restored\n",
            "2021-04-02 03:44:38,478 Wrote model metadata to file ampl_output/CYP3A4_cur_delaney/RF_ecfp_scaffold_classification/7810f93b-0424-4b2b-9638-bafe14b9ccf7/model_metadata.json\n",
            "2021-04-02 03:44:38,499 Wrote model metrics to file ampl_output/CYP3A4_cur_delaney/RF_ecfp_scaffold_classification/7810f93b-0424-4b2b-9638-bafe14b9ccf7/model_metrics.json\n"
          ],
          "name": "stderr"
        },
        {
          "output_type": "stream",
          "text": [
            "Wrote model tarball to ampl_output/CYP3A4_cur_delaney_model_7810f93b-0424-4b2b-9638-bafe14b9ccf7.tar.gz\n",
            "rf_estimators: 32, rf_max_depth: 128, rf_max_features: 32, valid_auc: 0.8136335525945915\n",
            "number of features: 1024\n"
          ],
          "name": "stdout"
        },
        {
          "output_type": "stream",
          "text": [
            "2021-04-02 03:45:53,124 Previous dataset split restored\n",
            "2021-04-02 03:46:00,098 Wrote model metadata to file ampl_output/CYP3A4_cur_delaney/RF_ecfp_scaffold_classification/51dba4f8-b545-405d-bd8d-b74c02f22b2b/model_metadata.json\n",
            "2021-04-02 03:46:00,116 Wrote model metrics to file ampl_output/CYP3A4_cur_delaney/RF_ecfp_scaffold_classification/51dba4f8-b545-405d-bd8d-b74c02f22b2b/model_metrics.json\n"
          ],
          "name": "stderr"
        },
        {
          "output_type": "stream",
          "text": [
            "Wrote model tarball to ampl_output/CYP3A4_cur_delaney_model_51dba4f8-b545-405d-bd8d-b74c02f22b2b.tar.gz\n",
            "rf_estimators: 32, rf_max_depth: 128, rf_max_features: 64, valid_auc: 0.7820374430764042\n",
            "number of features: 1024\n"
          ],
          "name": "stdout"
        },
        {
          "output_type": "stream",
          "text": [
            "2021-04-02 03:47:14,659 Previous dataset split restored\n",
            "2021-04-02 03:47:23,226 Wrote model metadata to file ampl_output/CYP3A4_cur_delaney/RF_ecfp_scaffold_classification/7cedf505-6bec-4a90-a832-811bed40eec4/model_metadata.json\n",
            "2021-04-02 03:47:23,242 Wrote model metrics to file ampl_output/CYP3A4_cur_delaney/RF_ecfp_scaffold_classification/7cedf505-6bec-4a90-a832-811bed40eec4/model_metrics.json\n"
          ],
          "name": "stderr"
        },
        {
          "output_type": "stream",
          "text": [
            "Wrote model tarball to ampl_output/CYP3A4_cur_delaney_model_7cedf505-6bec-4a90-a832-811bed40eec4.tar.gz\n",
            "rf_estimators: 32, rf_max_depth: 128, rf_max_features: 128, valid_auc: 0.8148647888907629\n",
            "number of features: 1024\n"
          ],
          "name": "stdout"
        },
        {
          "output_type": "stream",
          "text": [
            "2021-04-02 03:48:38,273 Previous dataset split restored\n",
            "2021-04-02 03:48:44,423 Wrote model metadata to file ampl_output/CYP3A4_cur_delaney/RF_ecfp_scaffold_classification/b770a0cc-2a42-41b5-897d-9f6e93374b5e/model_metadata.json\n",
            "2021-04-02 03:48:44,453 Wrote model metrics to file ampl_output/CYP3A4_cur_delaney/RF_ecfp_scaffold_classification/b770a0cc-2a42-41b5-897d-9f6e93374b5e/model_metrics.json\n"
          ],
          "name": "stderr"
        },
        {
          "output_type": "stream",
          "text": [
            "Wrote model tarball to ampl_output/CYP3A4_cur_delaney_model_b770a0cc-2a42-41b5-897d-9f6e93374b5e.tar.gz\n",
            "rf_estimators: 64, rf_max_depth: 16, rf_max_features: 16, valid_auc: 0.8230842750323271\n",
            "number of features: 1024\n"
          ],
          "name": "stdout"
        },
        {
          "output_type": "stream",
          "text": [
            "2021-04-02 03:49:59,165 Previous dataset split restored\n",
            "2021-04-02 03:50:05,875 Wrote model metadata to file ampl_output/CYP3A4_cur_delaney/RF_ecfp_scaffold_classification/f111d256-2256-4c23-b982-01509c3b241a/model_metadata.json\n",
            "2021-04-02 03:50:05,903 Wrote model metrics to file ampl_output/CYP3A4_cur_delaney/RF_ecfp_scaffold_classification/f111d256-2256-4c23-b982-01509c3b241a/model_metrics.json\n"
          ],
          "name": "stderr"
        },
        {
          "output_type": "stream",
          "text": [
            "Wrote model tarball to ampl_output/CYP3A4_cur_delaney_model_f111d256-2256-4c23-b982-01509c3b241a.tar.gz\n",
            "rf_estimators: 64, rf_max_depth: 16, rf_max_features: 32, valid_auc: 0.7939281497723056\n",
            "number of features: 1024\n"
          ],
          "name": "stdout"
        },
        {
          "output_type": "stream",
          "text": [
            "2021-04-02 03:51:20,544 Previous dataset split restored\n",
            "2021-04-02 03:51:28,252 Wrote model metadata to file ampl_output/CYP3A4_cur_delaney/RF_ecfp_scaffold_classification/b88cbbba-f13f-4614-81a3-f0aa819435e0/model_metadata.json\n",
            "2021-04-02 03:51:28,276 Wrote model metrics to file ampl_output/CYP3A4_cur_delaney/RF_ecfp_scaffold_classification/b88cbbba-f13f-4614-81a3-f0aa819435e0/model_metrics.json\n"
          ],
          "name": "stderr"
        },
        {
          "output_type": "stream",
          "text": [
            "Wrote model tarball to ampl_output/CYP3A4_cur_delaney_model_b88cbbba-f13f-4614-81a3-f0aa819435e0.tar.gz\n",
            "rf_estimators: 64, rf_max_depth: 16, rf_max_features: 64, valid_auc: 0.8035981334682633\n",
            "number of features: 1024\n"
          ],
          "name": "stdout"
        },
        {
          "output_type": "stream",
          "text": [
            "2021-04-02 03:52:43,102 Previous dataset split restored\n",
            "2021-04-02 03:52:52,647 Wrote model metadata to file ampl_output/CYP3A4_cur_delaney/RF_ecfp_scaffold_classification/9846a5a4-e1fd-4de7-9c4a-7bb3166c27b7/model_metadata.json\n",
            "2021-04-02 03:52:52,667 Wrote model metrics to file ampl_output/CYP3A4_cur_delaney/RF_ecfp_scaffold_classification/9846a5a4-e1fd-4de7-9c4a-7bb3166c27b7/model_metrics.json\n"
          ],
          "name": "stderr"
        },
        {
          "output_type": "stream",
          "text": [
            "Wrote model tarball to ampl_output/CYP3A4_cur_delaney_model_9846a5a4-e1fd-4de7-9c4a-7bb3166c27b7.tar.gz\n",
            "rf_estimators: 64, rf_max_depth: 16, rf_max_features: 128, valid_auc: 0.8456063417102379\n",
            "number of features: 1024\n"
          ],
          "name": "stdout"
        },
        {
          "output_type": "stream",
          "text": [
            "2021-04-02 03:54:07,219 Previous dataset split restored\n",
            "2021-04-02 03:54:13,826 Wrote model metadata to file ampl_output/CYP3A4_cur_delaney/RF_ecfp_scaffold_classification/340a613a-d70d-49c5-bdb3-f6f06093a4ed/model_metadata.json\n",
            "2021-04-02 03:54:13,871 Wrote model metrics to file ampl_output/CYP3A4_cur_delaney/RF_ecfp_scaffold_classification/340a613a-d70d-49c5-bdb3-f6f06093a4ed/model_metrics.json\n"
          ],
          "name": "stderr"
        },
        {
          "output_type": "stream",
          "text": [
            "Wrote model tarball to ampl_output/CYP3A4_cur_delaney_model_340a613a-d70d-49c5-bdb3-f6f06093a4ed.tar.gz\n",
            "rf_estimators: 64, rf_max_depth: 32, rf_max_features: 16, valid_auc: 0.8182549052678922\n",
            "number of features: 1024\n"
          ],
          "name": "stdout"
        },
        {
          "output_type": "stream",
          "text": [
            "2021-04-02 03:55:28,612 Previous dataset split restored\n",
            "2021-04-02 03:55:35,855 Wrote model metadata to file ampl_output/CYP3A4_cur_delaney/RF_ecfp_scaffold_classification/08df8148-94ba-453b-a4b7-5d8432d2074c/model_metadata.json\n",
            "2021-04-02 03:55:35,893 Wrote model metrics to file ampl_output/CYP3A4_cur_delaney/RF_ecfp_scaffold_classification/08df8148-94ba-453b-a4b7-5d8432d2074c/model_metrics.json\n"
          ],
          "name": "stderr"
        },
        {
          "output_type": "stream",
          "text": [
            "Wrote model tarball to ampl_output/CYP3A4_cur_delaney_model_08df8148-94ba-453b-a4b7-5d8432d2074c.tar.gz\n",
            "rf_estimators: 64, rf_max_depth: 32, rf_max_features: 32, valid_auc: 0.7812672176308539\n",
            "number of features: 1024\n"
          ],
          "name": "stdout"
        },
        {
          "output_type": "stream",
          "text": [
            "2021-04-02 03:56:50,800 Previous dataset split restored\n",
            "2021-04-02 03:56:59,487 Wrote model metadata to file ampl_output/CYP3A4_cur_delaney/RF_ecfp_scaffold_classification/5cb95222-2a26-4ffa-9567-7e06a1288c2b/model_metadata.json\n",
            "2021-04-02 03:56:59,517 Wrote model metrics to file ampl_output/CYP3A4_cur_delaney/RF_ecfp_scaffold_classification/5cb95222-2a26-4ffa-9567-7e06a1288c2b/model_metrics.json\n"
          ],
          "name": "stderr"
        },
        {
          "output_type": "stream",
          "text": [
            "Wrote model tarball to ampl_output/CYP3A4_cur_delaney_model_5cb95222-2a26-4ffa-9567-7e06a1288c2b.tar.gz\n",
            "rf_estimators: 64, rf_max_depth: 32, rf_max_features: 64, valid_auc: 0.7950413223140496\n",
            "number of features: 1024\n"
          ],
          "name": "stdout"
        },
        {
          "output_type": "stream",
          "text": [
            "2021-04-02 03:58:14,304 Previous dataset split restored\n",
            "2021-04-02 03:58:25,990 Wrote model metadata to file ampl_output/CYP3A4_cur_delaney/RF_ecfp_scaffold_classification/7ace192f-af35-45bc-a9f2-5402e0455e79/model_metadata.json\n",
            "2021-04-02 03:58:26,016 Wrote model metrics to file ampl_output/CYP3A4_cur_delaney/RF_ecfp_scaffold_classification/7ace192f-af35-45bc-a9f2-5402e0455e79/model_metrics.json\n"
          ],
          "name": "stderr"
        },
        {
          "output_type": "stream",
          "text": [
            "Wrote model tarball to ampl_output/CYP3A4_cur_delaney_model_7ace192f-af35-45bc-a9f2-5402e0455e79.tar.gz\n",
            "rf_estimators: 64, rf_max_depth: 32, rf_max_features: 128, valid_auc: 0.8260752234778208\n",
            "number of features: 1024\n"
          ],
          "name": "stdout"
        },
        {
          "output_type": "stream",
          "text": [
            "2021-04-02 03:59:41,138 Previous dataset split restored\n",
            "2021-04-02 03:59:47,534 Wrote model metadata to file ampl_output/CYP3A4_cur_delaney/RF_ecfp_scaffold_classification/100f59fe-41f4-41a8-8859-b1b6cd1348ae/model_metadata.json\n",
            "2021-04-02 03:59:47,579 Wrote model metrics to file ampl_output/CYP3A4_cur_delaney/RF_ecfp_scaffold_classification/100f59fe-41f4-41a8-8859-b1b6cd1348ae/model_metrics.json\n"
          ],
          "name": "stderr"
        },
        {
          "output_type": "stream",
          "text": [
            "Wrote model tarball to ampl_output/CYP3A4_cur_delaney_model_100f59fe-41f4-41a8-8859-b1b6cd1348ae.tar.gz\n",
            "rf_estimators: 64, rf_max_depth: 64, rf_max_features: 16, valid_auc: 0.8187665148704111\n",
            "number of features: 1024\n"
          ],
          "name": "stdout"
        },
        {
          "output_type": "stream",
          "text": [
            "2021-04-02 04:01:02,139 Previous dataset split restored\n",
            "2021-04-02 04:01:09,176 Wrote model metadata to file ampl_output/CYP3A4_cur_delaney/RF_ecfp_scaffold_classification/2c22bb7c-5c65-4900-8e2d-78b40416ed13/model_metadata.json\n",
            "2021-04-02 04:01:09,212 Wrote model metrics to file ampl_output/CYP3A4_cur_delaney/RF_ecfp_scaffold_classification/2c22bb7c-5c65-4900-8e2d-78b40416ed13/model_metrics.json\n"
          ],
          "name": "stderr"
        },
        {
          "output_type": "stream",
          "text": [
            "Wrote model tarball to ampl_output/CYP3A4_cur_delaney_model_2c22bb7c-5c65-4900-8e2d-78b40416ed13.tar.gz\n",
            "rf_estimators: 64, rf_max_depth: 64, rf_max_features: 32, valid_auc: 0.8047900151796256\n",
            "number of features: 1024\n"
          ],
          "name": "stdout"
        },
        {
          "output_type": "stream",
          "text": [
            "2021-04-02 04:02:23,856 Previous dataset split restored\n",
            "2021-04-02 04:02:32,526 Wrote model metadata to file ampl_output/CYP3A4_cur_delaney/RF_ecfp_scaffold_classification/33de0a88-85be-4b93-a1da-90d35c11ee52/model_metadata.json\n",
            "2021-04-02 04:02:32,558 Wrote model metrics to file ampl_output/CYP3A4_cur_delaney/RF_ecfp_scaffold_classification/33de0a88-85be-4b93-a1da-90d35c11ee52/model_metrics.json\n"
          ],
          "name": "stderr"
        },
        {
          "output_type": "stream",
          "text": [
            "Wrote model tarball to ampl_output/CYP3A4_cur_delaney_model_33de0a88-85be-4b93-a1da-90d35c11ee52.tar.gz\n",
            "rf_estimators: 64, rf_max_depth: 64, rf_max_features: 64, valid_auc: 0.8250463821892393\n",
            "number of features: 1024\n"
          ],
          "name": "stdout"
        },
        {
          "output_type": "stream",
          "text": [
            "2021-04-02 04:03:47,536 Previous dataset split restored\n",
            "2021-04-02 04:03:59,415 Wrote model metadata to file ampl_output/CYP3A4_cur_delaney/RF_ecfp_scaffold_classification/432d380a-3331-4065-b2c5-131773fd800a/model_metadata.json\n",
            "2021-04-02 04:03:59,442 Wrote model metrics to file ampl_output/CYP3A4_cur_delaney/RF_ecfp_scaffold_classification/432d380a-3331-4065-b2c5-131773fd800a/model_metrics.json\n"
          ],
          "name": "stderr"
        },
        {
          "output_type": "stream",
          "text": [
            "Wrote model tarball to ampl_output/CYP3A4_cur_delaney_model_432d380a-3331-4065-b2c5-131773fd800a.tar.gz\n",
            "rf_estimators: 64, rf_max_depth: 64, rf_max_features: 128, valid_auc: 0.8110530162478216\n",
            "number of features: 1024\n"
          ],
          "name": "stdout"
        },
        {
          "output_type": "stream",
          "text": [
            "2021-04-02 04:05:13,988 Previous dataset split restored\n",
            "2021-04-02 04:05:20,345 Wrote model metadata to file ampl_output/CYP3A4_cur_delaney/RF_ecfp_scaffold_classification/ca9fa998-7def-45e9-b7f0-4462e1d7b604/model_metadata.json\n",
            "2021-04-02 04:05:20,391 Wrote model metrics to file ampl_output/CYP3A4_cur_delaney/RF_ecfp_scaffold_classification/ca9fa998-7def-45e9-b7f0-4462e1d7b604/model_metrics.json\n"
          ],
          "name": "stderr"
        },
        {
          "output_type": "stream",
          "text": [
            "Wrote model tarball to ampl_output/CYP3A4_cur_delaney_model_ca9fa998-7def-45e9-b7f0-4462e1d7b604.tar.gz\n",
            "rf_estimators: 64, rf_max_depth: 128, rf_max_features: 16, valid_auc: 0.8285882948220611\n",
            "number of features: 1024\n"
          ],
          "name": "stdout"
        },
        {
          "output_type": "stream",
          "text": [
            "2021-04-02 04:06:35,040 Previous dataset split restored\n",
            "2021-04-02 04:06:42,282 Wrote model metadata to file ampl_output/CYP3A4_cur_delaney/RF_ecfp_scaffold_classification/425636b3-e909-4273-8114-569be9455453/model_metadata.json\n",
            "2021-04-02 04:06:42,319 Wrote model metrics to file ampl_output/CYP3A4_cur_delaney/RF_ecfp_scaffold_classification/425636b3-e909-4273-8114-569be9455453/model_metrics.json\n"
          ],
          "name": "stderr"
        },
        {
          "output_type": "stream",
          "text": [
            "Wrote model tarball to ampl_output/CYP3A4_cur_delaney_model_425636b3-e909-4273-8114-569be9455453.tar.gz\n",
            "rf_estimators: 64, rf_max_depth: 128, rf_max_features: 32, valid_auc: 0.869528307190645\n",
            "number of features: 1024\n"
          ],
          "name": "stdout"
        },
        {
          "output_type": "stream",
          "text": [
            "2021-04-02 04:07:56,921 Previous dataset split restored\n",
            "2021-04-02 04:08:05,586 Wrote model metadata to file ampl_output/CYP3A4_cur_delaney/RF_ecfp_scaffold_classification/f823c966-e666-4502-8197-65207ac4721b/model_metadata.json\n",
            "2021-04-02 04:08:05,616 Wrote model metrics to file ampl_output/CYP3A4_cur_delaney/RF_ecfp_scaffold_classification/f823c966-e666-4502-8197-65207ac4721b/model_metrics.json\n"
          ],
          "name": "stderr"
        },
        {
          "output_type": "stream",
          "text": [
            "Wrote model tarball to ampl_output/CYP3A4_cur_delaney_model_f823c966-e666-4502-8197-65207ac4721b.tar.gz\n",
            "rf_estimators: 64, rf_max_depth: 128, rf_max_features: 64, valid_auc: 0.8349468713105077\n",
            "number of features: 1024\n"
          ],
          "name": "stdout"
        },
        {
          "output_type": "stream",
          "text": [
            "2021-04-02 04:09:20,041 Previous dataset split restored\n",
            "2021-04-02 04:09:31,461 Wrote model metadata to file ampl_output/CYP3A4_cur_delaney/RF_ecfp_scaffold_classification/089ec4c2-1475-469c-b5cc-97345c3323b6/model_metadata.json\n",
            "2021-04-02 04:09:31,487 Wrote model metrics to file ampl_output/CYP3A4_cur_delaney/RF_ecfp_scaffold_classification/089ec4c2-1475-469c-b5cc-97345c3323b6/model_metrics.json\n"
          ],
          "name": "stderr"
        },
        {
          "output_type": "stream",
          "text": [
            "Wrote model tarball to ampl_output/CYP3A4_cur_delaney_model_089ec4c2-1475-469c-b5cc-97345c3323b6.tar.gz\n",
            "rf_estimators: 64, rf_max_depth: 128, rf_max_features: 128, valid_auc: 0.831719795356159\n",
            "number of features: 1024\n"
          ],
          "name": "stdout"
        },
        {
          "output_type": "stream",
          "text": [
            "2021-04-02 04:10:46,202 Previous dataset split restored\n",
            "2021-04-02 04:10:53,257 Wrote model metadata to file ampl_output/CYP3A4_cur_delaney/RF_ecfp_scaffold_classification/7c48da5c-9f13-4bee-ae03-8321192b8483/model_metadata.json\n",
            "2021-04-02 04:10:53,309 Wrote model metrics to file ampl_output/CYP3A4_cur_delaney/RF_ecfp_scaffold_classification/7c48da5c-9f13-4bee-ae03-8321192b8483/model_metrics.json\n"
          ],
          "name": "stderr"
        },
        {
          "output_type": "stream",
          "text": [
            "Wrote model tarball to ampl_output/CYP3A4_cur_delaney_model_7c48da5c-9f13-4bee-ae03-8321192b8483.tar.gz\n",
            "rf_estimators: 128, rf_max_depth: 16, rf_max_features: 16, valid_auc: 0.8288525327486366\n",
            "number of features: 1024\n"
          ],
          "name": "stdout"
        },
        {
          "output_type": "stream",
          "text": [
            "2021-04-02 04:12:08,113 Previous dataset split restored\n",
            "2021-04-02 04:12:16,213 Wrote model metadata to file ampl_output/CYP3A4_cur_delaney/RF_ecfp_scaffold_classification/618f91f1-ab23-4ab6-a83c-c5e2d8e9fd9f/model_metadata.json\n",
            "2021-04-02 04:12:16,260 Wrote model metrics to file ampl_output/CYP3A4_cur_delaney/RF_ecfp_scaffold_classification/618f91f1-ab23-4ab6-a83c-c5e2d8e9fd9f/model_metrics.json\n"
          ],
          "name": "stderr"
        },
        {
          "output_type": "stream",
          "text": [
            "Wrote model tarball to ampl_output/CYP3A4_cur_delaney_model_618f91f1-ab23-4ab6-a83c-c5e2d8e9fd9f.tar.gz\n",
            "rf_estimators: 128, rf_max_depth: 16, rf_max_features: 32, valid_auc: 0.820576825771631\n",
            "number of features: 1024\n"
          ],
          "name": "stdout"
        },
        {
          "output_type": "stream",
          "text": [
            "2021-04-02 04:13:30,920 Previous dataset split restored\n",
            "2021-04-02 04:13:40,938 Wrote model metadata to file ampl_output/CYP3A4_cur_delaney/RF_ecfp_scaffold_classification/9c72e1de-4d32-4255-a820-f2eec61dbb3d/model_metadata.json\n",
            "2021-04-02 04:13:40,978 Wrote model metrics to file ampl_output/CYP3A4_cur_delaney/RF_ecfp_scaffold_classification/9c72e1de-4d32-4255-a820-f2eec61dbb3d/model_metrics.json\n"
          ],
          "name": "stderr"
        },
        {
          "output_type": "stream",
          "text": [
            "Wrote model tarball to ampl_output/CYP3A4_cur_delaney_model_9c72e1de-4d32-4255-a820-f2eec61dbb3d.tar.gz\n",
            "rf_estimators: 128, rf_max_depth: 16, rf_max_features: 64, valid_auc: 0.8523753302974082\n",
            "number of features: 1024\n"
          ],
          "name": "stdout"
        },
        {
          "output_type": "stream",
          "text": [
            "2021-04-02 04:14:55,386 Previous dataset split restored\n",
            "2021-04-02 04:15:09,413 Wrote model metadata to file ampl_output/CYP3A4_cur_delaney/RF_ecfp_scaffold_classification/ae7b65e5-9a5e-448d-a81f-6a30bc63ab2e/model_metadata.json\n",
            "2021-04-02 04:15:09,448 Wrote model metrics to file ampl_output/CYP3A4_cur_delaney/RF_ecfp_scaffold_classification/ae7b65e5-9a5e-448d-a81f-6a30bc63ab2e/model_metrics.json\n"
          ],
          "name": "stderr"
        },
        {
          "output_type": "stream",
          "text": [
            "Wrote model tarball to ampl_output/CYP3A4_cur_delaney_model_ae7b65e5-9a5e-448d-a81f-6a30bc63ab2e.tar.gz\n",
            "rf_estimators: 128, rf_max_depth: 16, rf_max_features: 128, valid_auc: 0.8162478214426266\n",
            "number of features: 1024\n"
          ],
          "name": "stdout"
        },
        {
          "output_type": "stream",
          "text": [
            "2021-04-02 04:16:24,253 Previous dataset split restored\n",
            "2021-04-02 04:16:31,796 Wrote model metadata to file ampl_output/CYP3A4_cur_delaney/RF_ecfp_scaffold_classification/f35570bc-6d2f-4f15-ad78-82f0580e0b95/model_metadata.json\n",
            "2021-04-02 04:16:31,882 Wrote model metrics to file ampl_output/CYP3A4_cur_delaney/RF_ecfp_scaffold_classification/f35570bc-6d2f-4f15-ad78-82f0580e0b95/model_metrics.json\n"
          ],
          "name": "stderr"
        },
        {
          "output_type": "stream",
          "text": [
            "Wrote model tarball to ampl_output/CYP3A4_cur_delaney_model_f35570bc-6d2f-4f15-ad78-82f0580e0b95.tar.gz\n",
            "rf_estimators: 128, rf_max_depth: 32, rf_max_features: 16, valid_auc: 0.7650081520211391\n",
            "number of features: 1024\n"
          ],
          "name": "stdout"
        },
        {
          "output_type": "stream",
          "text": [
            "2021-04-02 04:17:47,027 Previous dataset split restored\n",
            "2021-04-02 04:17:55,976 Wrote model metadata to file ampl_output/CYP3A4_cur_delaney/RF_ecfp_scaffold_classification/e3b92472-409c-4c88-9de9-5dd564169e7b/model_metadata.json\n",
            "2021-04-02 04:17:56,043 Wrote model metrics to file ampl_output/CYP3A4_cur_delaney/RF_ecfp_scaffold_classification/e3b92472-409c-4c88-9de9-5dd564169e7b/model_metrics.json\n"
          ],
          "name": "stderr"
        },
        {
          "output_type": "stream",
          "text": [
            "Wrote model tarball to ampl_output/CYP3A4_cur_delaney_model_e3b92472-409c-4c88-9de9-5dd564169e7b.tar.gz\n",
            "rf_estimators: 128, rf_max_depth: 32, rf_max_features: 32, valid_auc: 0.8137066396806657\n",
            "number of features: 1024\n"
          ],
          "name": "stdout"
        },
        {
          "output_type": "stream",
          "text": [
            "2021-04-02 04:19:11,104 Previous dataset split restored\n",
            "2021-04-02 04:19:23,765 Wrote model metadata to file ampl_output/CYP3A4_cur_delaney/RF_ecfp_scaffold_classification/e4ac3ca4-e6a0-4941-b438-731049130591/model_metadata.json\n",
            "2021-04-02 04:19:23,822 Wrote model metrics to file ampl_output/CYP3A4_cur_delaney/RF_ecfp_scaffold_classification/e4ac3ca4-e6a0-4941-b438-731049130591/model_metrics.json\n"
          ],
          "name": "stderr"
        },
        {
          "output_type": "stream",
          "text": [
            "Wrote model tarball to ampl_output/CYP3A4_cur_delaney_model_e4ac3ca4-e6a0-4941-b438-731049130591.tar.gz\n",
            "rf_estimators: 128, rf_max_depth: 32, rf_max_features: 64, valid_auc: 0.8272446168550065\n",
            "number of features: 1024\n"
          ],
          "name": "stdout"
        },
        {
          "output_type": "stream",
          "text": [
            "2021-04-02 04:20:39,028 Previous dataset split restored\n",
            "2021-04-02 04:20:56,912 Wrote model metadata to file ampl_output/CYP3A4_cur_delaney/RF_ecfp_scaffold_classification/d5179652-6b25-49e2-940c-983c865ff1c8/model_metadata.json\n",
            "2021-04-02 04:20:56,960 Wrote model metrics to file ampl_output/CYP3A4_cur_delaney/RF_ecfp_scaffold_classification/d5179652-6b25-49e2-940c-983c865ff1c8/model_metrics.json\n"
          ],
          "name": "stderr"
        },
        {
          "output_type": "stream",
          "text": [
            "Wrote model tarball to ampl_output/CYP3A4_cur_delaney_model_d5179652-6b25-49e2-940c-983c865ff1c8.tar.gz\n",
            "rf_estimators: 128, rf_max_depth: 32, rf_max_features: 128, valid_auc: 0.8531286894923258\n",
            "number of features: 1024\n"
          ],
          "name": "stdout"
        },
        {
          "output_type": "stream",
          "text": [
            "2021-04-02 04:22:11,705 Previous dataset split restored\n",
            "2021-04-02 04:22:19,471 Wrote model metadata to file ampl_output/CYP3A4_cur_delaney/RF_ecfp_scaffold_classification/f173c199-46f9-42a8-9b1e-23b2946ec3e4/model_metadata.json\n",
            "2021-04-02 04:22:19,558 Wrote model metrics to file ampl_output/CYP3A4_cur_delaney/RF_ecfp_scaffold_classification/f173c199-46f9-42a8-9b1e-23b2946ec3e4/model_metrics.json\n"
          ],
          "name": "stderr"
        },
        {
          "output_type": "stream",
          "text": [
            "Wrote model tarball to ampl_output/CYP3A4_cur_delaney_model_f173c199-46f9-42a8-9b1e-23b2946ec3e4.tar.gz\n",
            "rf_estimators: 128, rf_max_depth: 64, rf_max_features: 16, valid_auc: 0.8179850452577726\n",
            "number of features: 1024\n"
          ],
          "name": "stdout"
        },
        {
          "output_type": "stream",
          "text": [
            "2021-04-02 04:23:34,244 Previous dataset split restored\n",
            "2021-04-02 04:23:43,368 Wrote model metadata to file ampl_output/CYP3A4_cur_delaney/RF_ecfp_scaffold_classification/a87c2a8a-e929-4d3e-b340-865bb0bd2e7f/model_metadata.json\n",
            "2021-04-02 04:23:43,436 Wrote model metrics to file ampl_output/CYP3A4_cur_delaney/RF_ecfp_scaffold_classification/a87c2a8a-e929-4d3e-b340-865bb0bd2e7f/model_metrics.json\n"
          ],
          "name": "stderr"
        },
        {
          "output_type": "stream",
          "text": [
            "Wrote model tarball to ampl_output/CYP3A4_cur_delaney_model_a87c2a8a-e929-4d3e-b340-865bb0bd2e7f.tar.gz\n",
            "rf_estimators: 128, rf_max_depth: 64, rf_max_features: 32, valid_auc: 0.8195142519817845\n",
            "number of features: 1024\n"
          ],
          "name": "stdout"
        },
        {
          "output_type": "stream",
          "text": [
            "2021-04-02 04:24:58,019 Previous dataset split restored\n",
            "2021-04-02 04:25:09,706 Wrote model metadata to file ampl_output/CYP3A4_cur_delaney/RF_ecfp_scaffold_classification/fc2e8589-4f3d-4a1b-9133-67842a5c8eae/model_metadata.json\n",
            "2021-04-02 04:25:09,765 Wrote model metrics to file ampl_output/CYP3A4_cur_delaney/RF_ecfp_scaffold_classification/fc2e8589-4f3d-4a1b-9133-67842a5c8eae/model_metrics.json\n"
          ],
          "name": "stderr"
        },
        {
          "output_type": "stream",
          "text": [
            "Wrote model tarball to ampl_output/CYP3A4_cur_delaney_model_fc2e8589-4f3d-4a1b-9133-67842a5c8eae.tar.gz\n",
            "rf_estimators: 128, rf_max_depth: 64, rf_max_features: 64, valid_auc: 0.8162365772755384\n",
            "number of features: 1024\n"
          ],
          "name": "stdout"
        },
        {
          "output_type": "stream",
          "text": [
            "2021-04-02 04:26:24,642 Previous dataset split restored\n",
            "2021-04-02 04:26:42,913 Wrote model metadata to file ampl_output/CYP3A4_cur_delaney/RF_ecfp_scaffold_classification/b6491b6c-abdf-47ac-9c15-dc6fb0b64288/model_metadata.json\n",
            "2021-04-02 04:26:42,961 Wrote model metrics to file ampl_output/CYP3A4_cur_delaney/RF_ecfp_scaffold_classification/b6491b6c-abdf-47ac-9c15-dc6fb0b64288/model_metrics.json\n"
          ],
          "name": "stderr"
        },
        {
          "output_type": "stream",
          "text": [
            "Wrote model tarball to ampl_output/CYP3A4_cur_delaney_model_b6491b6c-abdf-47ac-9c15-dc6fb0b64288.tar.gz\n",
            "rf_estimators: 128, rf_max_depth: 64, rf_max_features: 128, valid_auc: 0.8320121437004555\n",
            "number of features: 1024\n"
          ],
          "name": "stdout"
        },
        {
          "output_type": "stream",
          "text": [
            "2021-04-02 04:27:57,552 Previous dataset split restored\n",
            "2021-04-02 04:28:05,152 Wrote model metadata to file ampl_output/CYP3A4_cur_delaney/RF_ecfp_scaffold_classification/3e1e8da4-d4d0-4baf-bd33-e2f21c601f34/model_metadata.json\n",
            "2021-04-02 04:28:05,239 Wrote model metrics to file ampl_output/CYP3A4_cur_delaney/RF_ecfp_scaffold_classification/3e1e8da4-d4d0-4baf-bd33-e2f21c601f34/model_metrics.json\n"
          ],
          "name": "stderr"
        },
        {
          "output_type": "stream",
          "text": [
            "Wrote model tarball to ampl_output/CYP3A4_cur_delaney_model_3e1e8da4-d4d0-4baf-bd33-e2f21c601f34.tar.gz\n",
            "rf_estimators: 128, rf_max_depth: 128, rf_max_features: 16, valid_auc: 0.8401248102546804\n",
            "number of features: 1024\n"
          ],
          "name": "stdout"
        },
        {
          "output_type": "stream",
          "text": [
            "2021-04-02 04:29:20,050 Previous dataset split restored\n",
            "2021-04-02 04:29:29,251 Wrote model metadata to file ampl_output/CYP3A4_cur_delaney/RF_ecfp_scaffold_classification/6c3da3f4-a8b9-4dc8-983d-bf1e5d55e39f/model_metadata.json\n",
            "2021-04-02 04:29:29,319 Wrote model metrics to file ampl_output/CYP3A4_cur_delaney/RF_ecfp_scaffold_classification/6c3da3f4-a8b9-4dc8-983d-bf1e5d55e39f/model_metrics.json\n"
          ],
          "name": "stderr"
        },
        {
          "output_type": "stream",
          "text": [
            "Wrote model tarball to ampl_output/CYP3A4_cur_delaney_model_6c3da3f4-a8b9-4dc8-983d-bf1e5d55e39f.tar.gz\n",
            "rf_estimators: 128, rf_max_depth: 128, rf_max_features: 32, valid_auc: 0.8445437679203913\n",
            "number of features: 1024\n"
          ],
          "name": "stdout"
        },
        {
          "output_type": "stream",
          "text": [
            "2021-04-02 04:30:44,079 Previous dataset split restored\n",
            "2021-04-02 04:30:55,857 Wrote model metadata to file ampl_output/CYP3A4_cur_delaney/RF_ecfp_scaffold_classification/e903f49a-ff93-428a-8414-336d2d20764d/model_metadata.json\n",
            "2021-04-02 04:30:55,914 Wrote model metrics to file ampl_output/CYP3A4_cur_delaney/RF_ecfp_scaffold_classification/e903f49a-ff93-428a-8414-336d2d20764d/model_metrics.json\n"
          ],
          "name": "stderr"
        },
        {
          "output_type": "stream",
          "text": [
            "Wrote model tarball to ampl_output/CYP3A4_cur_delaney_model_e903f49a-ff93-428a-8414-336d2d20764d.tar.gz\n",
            "rf_estimators: 128, rf_max_depth: 128, rf_max_features: 64, valid_auc: 0.798605723281048\n",
            "number of features: 1024\n"
          ],
          "name": "stdout"
        },
        {
          "output_type": "stream",
          "text": [
            "2021-04-02 04:32:10,460 Previous dataset split restored\n",
            "2021-04-02 04:32:28,813 Wrote model metadata to file ampl_output/CYP3A4_cur_delaney/RF_ecfp_scaffold_classification/640517e2-873f-4bfa-9dce-b99ff1090c75/model_metadata.json\n",
            "2021-04-02 04:32:28,861 Wrote model metrics to file ampl_output/CYP3A4_cur_delaney/RF_ecfp_scaffold_classification/640517e2-873f-4bfa-9dce-b99ff1090c75/model_metrics.json\n"
          ],
          "name": "stderr"
        },
        {
          "output_type": "stream",
          "text": [
            "Wrote model tarball to ampl_output/CYP3A4_cur_delaney_model_640517e2-873f-4bfa-9dce-b99ff1090c75.tar.gz\n",
            "rf_estimators: 128, rf_max_depth: 128, rf_max_features: 128, valid_auc: 0.8580086580086579\n"
          ],
          "name": "stdout"
        }
      ]
    },
    {
      "cell_type": "code",
      "metadata": {
        "id": "XSDa2HTH6wbD",
        "colab": {
          "base_uri": "https://localhost:8080/",
          "height": 419
        },
        "outputId": "aad951c9-8922-4086-ee86-366e1de90a56"
      },
      "source": [
        "perf_df = pd.DataFrame({\"rf_estimators\": rfe_list, \"rf_max_depth\": rfd_list, \"rf_max_features\": rff_list, \"valid_auc_score\": valid_auc_list})\n",
        "perf_df.sort_values(by=\"valid_auc_score\", ascending=False)"
      ],
      "execution_count": 28,
      "outputs": [
        {
          "output_type": "execute_result",
          "data": {
            "text/html": [
              "<div>\n",
              "<style scoped>\n",
              "    .dataframe tbody tr th:only-of-type {\n",
              "        vertical-align: middle;\n",
              "    }\n",
              "\n",
              "    .dataframe tbody tr th {\n",
              "        vertical-align: top;\n",
              "    }\n",
              "\n",
              "    .dataframe thead th {\n",
              "        text-align: right;\n",
              "    }\n",
              "</style>\n",
              "<table border=\"1\" class=\"dataframe\">\n",
              "  <thead>\n",
              "    <tr style=\"text-align: right;\">\n",
              "      <th></th>\n",
              "      <th>rf_estimators</th>\n",
              "      <th>rf_max_depth</th>\n",
              "      <th>rf_max_features</th>\n",
              "      <th>valid_auc_score</th>\n",
              "    </tr>\n",
              "  </thead>\n",
              "  <tbody>\n",
              "    <tr>\n",
              "      <th>45</th>\n",
              "      <td>64</td>\n",
              "      <td>128</td>\n",
              "      <td>32</td>\n",
              "      <td>0.869528</td>\n",
              "    </tr>\n",
              "    <tr>\n",
              "      <th>63</th>\n",
              "      <td>128</td>\n",
              "      <td>128</td>\n",
              "      <td>128</td>\n",
              "      <td>0.858009</td>\n",
              "    </tr>\n",
              "    <tr>\n",
              "      <th>55</th>\n",
              "      <td>128</td>\n",
              "      <td>32</td>\n",
              "      <td>128</td>\n",
              "      <td>0.853129</td>\n",
              "    </tr>\n",
              "    <tr>\n",
              "      <th>50</th>\n",
              "      <td>128</td>\n",
              "      <td>16</td>\n",
              "      <td>64</td>\n",
              "      <td>0.852375</td>\n",
              "    </tr>\n",
              "    <tr>\n",
              "      <th>35</th>\n",
              "      <td>64</td>\n",
              "      <td>16</td>\n",
              "      <td>128</td>\n",
              "      <td>0.845606</td>\n",
              "    </tr>\n",
              "    <tr>\n",
              "      <th>...</th>\n",
              "      <td>...</td>\n",
              "      <td>...</td>\n",
              "      <td>...</td>\n",
              "      <td>...</td>\n",
              "    </tr>\n",
              "    <tr>\n",
              "      <th>52</th>\n",
              "      <td>128</td>\n",
              "      <td>32</td>\n",
              "      <td>16</td>\n",
              "      <td>0.765008</td>\n",
              "    </tr>\n",
              "    <tr>\n",
              "      <th>6</th>\n",
              "      <td>16</td>\n",
              "      <td>32</td>\n",
              "      <td>64</td>\n",
              "      <td>0.745730</td>\n",
              "    </tr>\n",
              "    <tr>\n",
              "      <th>2</th>\n",
              "      <td>16</td>\n",
              "      <td>16</td>\n",
              "      <td>64</td>\n",
              "      <td>0.744712</td>\n",
              "    </tr>\n",
              "    <tr>\n",
              "      <th>5</th>\n",
              "      <td>16</td>\n",
              "      <td>32</td>\n",
              "      <td>32</td>\n",
              "      <td>0.735037</td>\n",
              "    </tr>\n",
              "    <tr>\n",
              "      <th>22</th>\n",
              "      <td>32</td>\n",
              "      <td>32</td>\n",
              "      <td>64</td>\n",
              "      <td>0.731512</td>\n",
              "    </tr>\n",
              "  </tbody>\n",
              "</table>\n",
              "<p>64 rows × 4 columns</p>\n",
              "</div>"
            ],
            "text/plain": [
              "    rf_estimators  rf_max_depth  rf_max_features  valid_auc_score\n",
              "45             64           128               32         0.869528\n",
              "63            128           128              128         0.858009\n",
              "55            128            32              128         0.853129\n",
              "50            128            16               64         0.852375\n",
              "35             64            16              128         0.845606\n",
              "..            ...           ...              ...              ...\n",
              "52            128            32               16         0.765008\n",
              "6              16            32               64         0.745730\n",
              "2              16            16               64         0.744712\n",
              "5              16            32               32         0.735037\n",
              "22             32            32               64         0.731512\n",
              "\n",
              "[64 rows x 4 columns]"
            ]
          },
          "metadata": {
            "tags": []
          },
          "execution_count": 28
        }
      ]
    },
    {
      "cell_type": "code",
      "metadata": {
        "id": "9bVXltSu6z0f",
        "colab": {
          "base_uri": "https://localhost:8080/",
          "height": 434
        },
        "outputId": "0792eceb-71b3-411a-86d7-37a299bd803b"
      },
      "source": [
        "fig, ax = plt.subplots(1,3,figsize=(21,7))\n",
        "sns.boxplot(data=perf_df, x=\"rf_estimators\", y=\"valid_auc_score\", ax=ax[0])\n",
        "sns.boxplot(data=perf_df, x=\"rf_max_depth\", y=\"valid_auc_score\", ax=ax[1])\n",
        "sns.boxplot(data=perf_df, x=\"rf_max_features\", y=\"valid_auc_score\", ax=ax[2])\n",
        "fig.tight_layout()"
      ],
      "execution_count": 29,
      "outputs": [
        {
          "output_type": "display_data",
          "data": {
            "image/png": "[encoded data removed]",
            "text/plain": [
              "<Figure size 1512x504 with 3 Axes>"
            ]
          },
          "metadata": {
            "tags": []
          }
        }
      ]
    },
    {
      "cell_type": "markdown",
      "metadata": {
        "id": "qpAq__JA61wy"
      },
      "source": [
        "### Random search"
      ]
    },
    {
      "cell_type": "code",
      "metadata": {
        "id": "LMNkU4rs648c",
        "colab": {
          "base_uri": "https://localhost:8080/"
        },
        "outputId": "2dc1d38b-1071-4180-dc58-57216337c7a4"
      },
      "source": [
        "rfe_list = []\n",
        "rfd_list = []\n",
        "rff_list = []\n",
        "valid_auc_list = []\n",
        "\n",
        "num_trials = 50\n",
        "\n",
        "for i in range(num_trials):\n",
        "    params[\"rf_estimators\"] = np.random.randint(8,256)\n",
        "    params[\"rf_max_depth\"] = np.random.randint(8,256)\n",
        "    params[\"rf_max_features\"] = np.random.randint(8,256)\n",
        "    rfe_list.append(params[\"rf_estimators\"])\n",
        "    rfd_list.append(params[\"rf_max_depth\"])\n",
        "    rff_list.append(params[\"rf_max_features\"])\n",
        "    tp = parse.wrapper(params)\n",
        "    pl = mp.ModelPipeline(tp)\n",
        "    pl.train_model()\n",
        "    pred_data = pl.model_wrapper.get_perf_data(subset=\"valid\", epoch_label=\"best\")\n",
        "    pred_results = pred_data.get_prediction_results()\n",
        "    valid_auc = pred_results['roc_auc_score']\n",
        "    valid_auc_list.append(valid_auc)\n",
        "    print(f\"rf_estimators: {rf_estimator}, rf_max_depth: {rf_depth}, rf_max_features: {rf_feature}, valid_auc: {valid_auc}\")"
      ],
      "execution_count": null,
      "outputs": [
        {
          "output_type": "stream",
          "text": [
            "number of features: 1024\n"
          ],
          "name": "stdout"
        },
        {
          "output_type": "stream",
          "text": [
            "2021-04-01 20:59:08,423 Previous dataset split restored\n"
          ],
          "name": "stderr"
        },
        {
          "output_type": "stream",
          "text": [
            "n_cnt [18642.]\n",
            "y_means [5.19196307]\n",
            "y_stds [1.21382351]\n",
            "TIMING: dataset construction took 0.668 s\n",
            "Loading dataset from disk.\n",
            "TIMING: dataset construction took 0.087 s\n",
            "Loading dataset from disk.\n",
            "TIMING: dataset construction took 0.087 s\n",
            "Loading dataset from disk.\n"
          ],
          "name": "stdout"
        },
        {
          "output_type": "stream",
          "text": [
            "2021-04-01 20:59:36,858 Wrote model metadata to file ampl_output/CYP3A4_cur_delaney/RF_ecfp_scaffold_regression/4e14e3fb-d01d-41eb-add3-74b71a697328/model_metadata.json\n",
            "2021-04-01 20:59:37,924 Wrote model metrics to file ampl_output/CYP3A4_cur_delaney/RF_ecfp_scaffold_regression/4e14e3fb-d01d-41eb-add3-74b71a697328/model_metrics.json\n"
          ],
          "name": "stderr"
        },
        {
          "output_type": "stream",
          "text": [
            "Wrote model tarball to ampl_output/CYP3A4_cur_delaney_model_4e14e3fb-d01d-41eb-add3-74b71a697328.tar.gz\n",
            "rf_estimators: 128, rf_max_depth: 128, rf_max_features: 128, valid_r2: 0.017170913091746676\n",
            "number of features: 1024\n"
          ],
          "name": "stdout"
        },
        {
          "output_type": "stream",
          "text": [
            "2021-04-01 21:00:54,231 Previous dataset split restored\n"
          ],
          "name": "stderr"
        },
        {
          "output_type": "stream",
          "text": [
            "n_cnt [18642.]\n",
            "y_means [5.19196307]\n",
            "y_stds [1.21382351]\n",
            "TIMING: dataset construction took 0.679 s\n",
            "Loading dataset from disk.\n",
            "TIMING: dataset construction took 0.090 s\n",
            "Loading dataset from disk.\n",
            "TIMING: dataset construction took 0.090 s\n",
            "Loading dataset from disk.\n"
          ],
          "name": "stdout"
        },
        {
          "output_type": "stream",
          "text": [
            "2021-04-01 21:01:10,732 Wrote model metadata to file ampl_output/CYP3A4_cur_delaney/RF_ecfp_scaffold_regression/ed48c12e-ab20-407d-bc85-fe63fb418ce0/model_metadata.json\n",
            "2021-04-01 21:01:11,448 Wrote model metrics to file ampl_output/CYP3A4_cur_delaney/RF_ecfp_scaffold_regression/ed48c12e-ab20-407d-bc85-fe63fb418ce0/model_metrics.json\n"
          ],
          "name": "stderr"
        },
        {
          "output_type": "stream",
          "text": [
            "Wrote model tarball to ampl_output/CYP3A4_cur_delaney_model_ed48c12e-ab20-407d-bc85-fe63fb418ce0.tar.gz\n",
            "rf_estimators: 128, rf_max_depth: 128, rf_max_features: 128, valid_r2: 0.017540606071390186\n",
            "number of features: 1024\n"
          ],
          "name": "stdout"
        },
        {
          "output_type": "stream",
          "text": [
            "2021-04-01 21:02:27,025 Previous dataset split restored\n"
          ],
          "name": "stderr"
        },
        {
          "output_type": "stream",
          "text": [
            "n_cnt [18642.]\n",
            "y_means [5.19196307]\n",
            "y_stds [1.21382351]\n",
            "TIMING: dataset construction took 0.660 s\n",
            "Loading dataset from disk.\n",
            "TIMING: dataset construction took 0.087 s\n",
            "Loading dataset from disk.\n",
            "TIMING: dataset construction took 0.087 s\n",
            "Loading dataset from disk.\n"
          ],
          "name": "stdout"
        },
        {
          "output_type": "stream",
          "text": [
            "2021-04-01 21:03:04,411 Wrote model metadata to file ampl_output/CYP3A4_cur_delaney/RF_ecfp_scaffold_regression/192ac092-9d5e-4c59-bfc7-8a97dd58c35b/model_metadata.json\n",
            "2021-04-01 21:03:06,260 Wrote model metrics to file ampl_output/CYP3A4_cur_delaney/RF_ecfp_scaffold_regression/192ac092-9d5e-4c59-bfc7-8a97dd58c35b/model_metrics.json\n"
          ],
          "name": "stderr"
        },
        {
          "output_type": "stream",
          "text": [
            "Wrote model tarball to ampl_output/CYP3A4_cur_delaney_model_192ac092-9d5e-4c59-bfc7-8a97dd58c35b.tar.gz\n",
            "rf_estimators: 128, rf_max_depth: 128, rf_max_features: 128, valid_r2: 0.015945719744887565\n",
            "number of features: 1024\n"
          ],
          "name": "stdout"
        },
        {
          "output_type": "stream",
          "text": [
            "2021-04-01 21:04:22,580 Previous dataset split restored\n"
          ],
          "name": "stderr"
        },
        {
          "output_type": "stream",
          "text": [
            "n_cnt [18642.]\n",
            "y_means [5.19196307]\n",
            "y_stds [1.21382351]\n",
            "TIMING: dataset construction took 0.706 s\n",
            "Loading dataset from disk.\n",
            "TIMING: dataset construction took 0.096 s\n",
            "Loading dataset from disk.\n",
            "TIMING: dataset construction took 0.094 s\n",
            "Loading dataset from disk.\n"
          ],
          "name": "stdout"
        },
        {
          "output_type": "stream",
          "text": [
            "2021-04-01 21:04:49,104 Wrote model metadata to file ampl_output/CYP3A4_cur_delaney/RF_ecfp_scaffold_regression/caa41b0c-49de-4119-b065-b8c7452d0041/model_metadata.json\n",
            "2021-04-01 21:04:49,836 Wrote model metrics to file ampl_output/CYP3A4_cur_delaney/RF_ecfp_scaffold_regression/caa41b0c-49de-4119-b065-b8c7452d0041/model_metrics.json\n"
          ],
          "name": "stderr"
        },
        {
          "output_type": "stream",
          "text": [
            "Wrote model tarball to ampl_output/CYP3A4_cur_delaney_model_caa41b0c-49de-4119-b065-b8c7452d0041.tar.gz\n",
            "rf_estimators: 128, rf_max_depth: 128, rf_max_features: 128, valid_r2: 0.01720113314142191\n",
            "number of features: 1024\n"
          ],
          "name": "stdout"
        },
        {
          "output_type": "stream",
          "text": [
            "2021-04-01 21:06:05,990 Previous dataset split restored\n"
          ],
          "name": "stderr"
        },
        {
          "output_type": "stream",
          "text": [
            "n_cnt [18642.]\n",
            "y_means [5.19196307]\n",
            "y_stds [1.21382351]\n",
            "TIMING: dataset construction took 0.677 s\n",
            "Loading dataset from disk.\n",
            "TIMING: dataset construction took 0.088 s\n",
            "Loading dataset from disk.\n",
            "TIMING: dataset construction took 0.088 s\n",
            "Loading dataset from disk.\n"
          ],
          "name": "stdout"
        },
        {
          "output_type": "stream",
          "text": [
            "2021-04-01 21:06:41,980 Wrote model metadata to file ampl_output/CYP3A4_cur_delaney/RF_ecfp_scaffold_regression/3f0ff6ad-e47b-4fb6-be8f-9dc400e8fd78/model_metadata.json\n",
            "2021-04-01 21:06:42,788 Wrote model metrics to file ampl_output/CYP3A4_cur_delaney/RF_ecfp_scaffold_regression/3f0ff6ad-e47b-4fb6-be8f-9dc400e8fd78/model_metrics.json\n"
          ],
          "name": "stderr"
        },
        {
          "output_type": "stream",
          "text": [
            "Wrote model tarball to ampl_output/CYP3A4_cur_delaney_model_3f0ff6ad-e47b-4fb6-be8f-9dc400e8fd78.tar.gz\n",
            "rf_estimators: 128, rf_max_depth: 128, rf_max_features: 128, valid_r2: 0.0164886568901621\n",
            "number of features: 1024\n"
          ],
          "name": "stdout"
        },
        {
          "output_type": "stream",
          "text": [
            "2021-04-01 21:07:58,644 Previous dataset split restored\n"
          ],
          "name": "stderr"
        },
        {
          "output_type": "stream",
          "text": [
            "n_cnt [18642.]\n",
            "y_means [5.19196307]\n",
            "y_stds [1.21382351]\n",
            "TIMING: dataset construction took 0.673 s\n",
            "Loading dataset from disk.\n",
            "TIMING: dataset construction took 0.087 s\n",
            "Loading dataset from disk.\n",
            "TIMING: dataset construction took 0.086 s\n",
            "Loading dataset from disk.\n"
          ],
          "name": "stdout"
        },
        {
          "output_type": "stream",
          "text": [
            "2021-04-01 21:08:19,223 Wrote model metadata to file ampl_output/CYP3A4_cur_delaney/RF_ecfp_scaffold_regression/2b430052-70cf-4932-a16e-9196ea034184/model_metadata.json\n",
            "2021-04-01 21:08:20,454 Wrote model metrics to file ampl_output/CYP3A4_cur_delaney/RF_ecfp_scaffold_regression/2b430052-70cf-4932-a16e-9196ea034184/model_metrics.json\n"
          ],
          "name": "stderr"
        },
        {
          "output_type": "stream",
          "text": [
            "Wrote model tarball to ampl_output/CYP3A4_cur_delaney_model_2b430052-70cf-4932-a16e-9196ea034184.tar.gz\n",
            "rf_estimators: 128, rf_max_depth: 128, rf_max_features: 128, valid_r2: 0.016659544835595286\n",
            "number of features: 1024\n"
          ],
          "name": "stdout"
        },
        {
          "output_type": "stream",
          "text": [
            "2021-04-01 21:09:36,018 Previous dataset split restored\n"
          ],
          "name": "stderr"
        },
        {
          "output_type": "stream",
          "text": [
            "n_cnt [18642.]\n",
            "y_means [5.19196307]\n",
            "y_stds [1.21382351]\n",
            "TIMING: dataset construction took 0.661 s\n",
            "Loading dataset from disk.\n",
            "TIMING: dataset construction took 0.087 s\n",
            "Loading dataset from disk.\n",
            "TIMING: dataset construction took 0.087 s\n",
            "Loading dataset from disk.\n"
          ],
          "name": "stdout"
        },
        {
          "output_type": "stream",
          "text": [
            "2021-04-01 21:09:46,259 Wrote model metadata to file ampl_output/CYP3A4_cur_delaney/RF_ecfp_scaffold_regression/6a9b2732-ee23-45ae-b0b8-9f96ff5930b5/model_metadata.json\n",
            "2021-04-01 21:09:46,304 Wrote model metrics to file ampl_output/CYP3A4_cur_delaney/RF_ecfp_scaffold_regression/6a9b2732-ee23-45ae-b0b8-9f96ff5930b5/model_metrics.json\n"
          ],
          "name": "stderr"
        },
        {
          "output_type": "stream",
          "text": [
            "Wrote model tarball to ampl_output/CYP3A4_cur_delaney_model_6a9b2732-ee23-45ae-b0b8-9f96ff5930b5.tar.gz\n",
            "rf_estimators: 128, rf_max_depth: 128, rf_max_features: 128, valid_r2: 0.010193783530930811\n",
            "number of features: 1024\n"
          ],
          "name": "stdout"
        },
        {
          "output_type": "stream",
          "text": [
            "2021-04-01 21:11:02,284 Previous dataset split restored\n"
          ],
          "name": "stderr"
        },
        {
          "output_type": "stream",
          "text": [
            "n_cnt [18642.]\n",
            "y_means [5.19196307]\n",
            "y_stds [1.21382351]\n",
            "TIMING: dataset construction took 0.662 s\n",
            "Loading dataset from disk.\n",
            "TIMING: dataset construction took 0.089 s\n",
            "Loading dataset from disk.\n",
            "TIMING: dataset construction took 0.090 s\n",
            "Loading dataset from disk.\n"
          ],
          "name": "stdout"
        },
        {
          "output_type": "stream",
          "text": [
            "2021-04-01 21:11:27,354 Wrote model metadata to file ampl_output/CYP3A4_cur_delaney/RF_ecfp_scaffold_regression/be94f6a6-edd4-4486-8214-924433dc44cc/model_metadata.json\n",
            "2021-04-01 21:11:29,584 Wrote model metrics to file ampl_output/CYP3A4_cur_delaney/RF_ecfp_scaffold_regression/be94f6a6-edd4-4486-8214-924433dc44cc/model_metrics.json\n"
          ],
          "name": "stderr"
        },
        {
          "output_type": "stream",
          "text": [
            "Wrote model tarball to ampl_output/CYP3A4_cur_delaney_model_be94f6a6-edd4-4486-8214-924433dc44cc.tar.gz\n",
            "rf_estimators: 128, rf_max_depth: 128, rf_max_features: 128, valid_r2: 0.0165717139309155\n",
            "number of features: 1024\n"
          ],
          "name": "stdout"
        },
        {
          "output_type": "stream",
          "text": [
            "2021-04-01 21:12:45,278 Previous dataset split restored\n"
          ],
          "name": "stderr"
        },
        {
          "output_type": "stream",
          "text": [
            "n_cnt [18642.]\n",
            "y_means [5.19196307]\n",
            "y_stds [1.21382351]\n",
            "TIMING: dataset construction took 0.662 s\n",
            "Loading dataset from disk.\n",
            "TIMING: dataset construction took 0.090 s\n",
            "Loading dataset from disk.\n",
            "TIMING: dataset construction took 0.089 s\n",
            "Loading dataset from disk.\n"
          ],
          "name": "stdout"
        },
        {
          "output_type": "stream",
          "text": [
            "2021-04-01 21:13:39,306 Wrote model metadata to file ampl_output/CYP3A4_cur_delaney/RF_ecfp_scaffold_regression/d96edd15-7300-43bb-a67c-31bd1611fd0d/model_metadata.json\n",
            "2021-04-01 21:13:41,138 Wrote model metrics to file ampl_output/CYP3A4_cur_delaney/RF_ecfp_scaffold_regression/d96edd15-7300-43bb-a67c-31bd1611fd0d/model_metrics.json\n"
          ],
          "name": "stderr"
        },
        {
          "output_type": "stream",
          "text": [
            "Wrote model tarball to ampl_output/CYP3A4_cur_delaney_model_d96edd15-7300-43bb-a67c-31bd1611fd0d.tar.gz\n",
            "rf_estimators: 128, rf_max_depth: 128, rf_max_features: 128, valid_r2: 0.017222005722753786\n",
            "number of features: 1024\n"
          ],
          "name": "stdout"
        },
        {
          "output_type": "stream",
          "text": [
            "2021-04-01 21:14:57,138 Previous dataset split restored\n"
          ],
          "name": "stderr"
        },
        {
          "output_type": "stream",
          "text": [
            "n_cnt [18642.]\n",
            "y_means [5.19196307]\n",
            "y_stds [1.21382351]\n",
            "TIMING: dataset construction took 0.661 s\n",
            "Loading dataset from disk.\n",
            "TIMING: dataset construction took 0.087 s\n",
            "Loading dataset from disk.\n",
            "TIMING: dataset construction took 0.087 s\n",
            "Loading dataset from disk.\n"
          ],
          "name": "stdout"
        },
        {
          "output_type": "stream",
          "text": [
            "2021-04-01 21:15:10,447 Wrote model metadata to file ampl_output/CYP3A4_cur_delaney/RF_ecfp_scaffold_regression/675428c0-78f8-4be8-b927-2e637ca2f2bc/model_metadata.json\n",
            "2021-04-01 21:15:11,329 Wrote model metrics to file ampl_output/CYP3A4_cur_delaney/RF_ecfp_scaffold_regression/675428c0-78f8-4be8-b927-2e637ca2f2bc/model_metrics.json\n"
          ],
          "name": "stderr"
        },
        {
          "output_type": "stream",
          "text": [
            "Wrote model tarball to ampl_output/CYP3A4_cur_delaney_model_675428c0-78f8-4be8-b927-2e637ca2f2bc.tar.gz\n",
            "rf_estimators: 128, rf_max_depth: 128, rf_max_features: 128, valid_r2: 0.015732696897510112\n",
            "number of features: 1024\n"
          ],
          "name": "stdout"
        },
        {
          "output_type": "stream",
          "text": [
            "2021-04-01 21:16:27,487 Previous dataset split restored\n"
          ],
          "name": "stderr"
        },
        {
          "output_type": "stream",
          "text": [
            "n_cnt [18642.]\n",
            "y_means [5.19196307]\n",
            "y_stds [1.21382351]\n",
            "TIMING: dataset construction took 0.652 s\n",
            "Loading dataset from disk.\n",
            "TIMING: dataset construction took 0.086 s\n",
            "Loading dataset from disk.\n",
            "TIMING: dataset construction took 0.087 s\n",
            "Loading dataset from disk.\n"
          ],
          "name": "stdout"
        },
        {
          "output_type": "stream",
          "text": [
            "2021-04-01 21:16:55,541 Wrote model metadata to file ampl_output/CYP3A4_cur_delaney/RF_ecfp_scaffold_regression/c6455a6a-9b68-4226-bddc-ba2a405dac59/model_metadata.json\n",
            "2021-04-01 21:16:57,214 Wrote model metrics to file ampl_output/CYP3A4_cur_delaney/RF_ecfp_scaffold_regression/c6455a6a-9b68-4226-bddc-ba2a405dac59/model_metrics.json\n"
          ],
          "name": "stderr"
        },
        {
          "output_type": "stream",
          "text": [
            "Wrote model tarball to ampl_output/CYP3A4_cur_delaney_model_c6455a6a-9b68-4226-bddc-ba2a405dac59.tar.gz\n",
            "rf_estimators: 128, rf_max_depth: 128, rf_max_features: 128, valid_r2: 0.017457490639124607\n",
            "number of features: 1024\n"
          ],
          "name": "stdout"
        },
        {
          "output_type": "stream",
          "text": [
            "2021-04-01 21:18:12,987 Previous dataset split restored\n"
          ],
          "name": "stderr"
        },
        {
          "output_type": "stream",
          "text": [
            "n_cnt [18642.]\n",
            "y_means [5.19196307]\n",
            "y_stds [1.21382351]\n",
            "TIMING: dataset construction took 0.667 s\n",
            "Loading dataset from disk.\n",
            "TIMING: dataset construction took 0.087 s\n",
            "Loading dataset from disk.\n",
            "TIMING: dataset construction took 0.087 s\n",
            "Loading dataset from disk.\n"
          ],
          "name": "stdout"
        },
        {
          "output_type": "stream",
          "text": [
            "2021-04-01 21:18:25,391 Wrote model metadata to file ampl_output/CYP3A4_cur_delaney/RF_ecfp_scaffold_regression/66a4626f-359c-4b8f-87bb-348cb5b9c636/model_metadata.json\n",
            "2021-04-01 21:18:25,678 Wrote model metrics to file ampl_output/CYP3A4_cur_delaney/RF_ecfp_scaffold_regression/66a4626f-359c-4b8f-87bb-348cb5b9c636/model_metrics.json\n"
          ],
          "name": "stderr"
        },
        {
          "output_type": "stream",
          "text": [
            "Wrote model tarball to ampl_output/CYP3A4_cur_delaney_model_66a4626f-359c-4b8f-87bb-348cb5b9c636.tar.gz\n",
            "rf_estimators: 128, rf_max_depth: 128, rf_max_features: 128, valid_r2: 0.01873191645167449\n",
            "number of features: 1024\n"
          ],
          "name": "stdout"
        },
        {
          "output_type": "stream",
          "text": [
            "2021-04-01 21:19:41,451 Previous dataset split restored\n"
          ],
          "name": "stderr"
        },
        {
          "output_type": "stream",
          "text": [
            "n_cnt [18642.]\n",
            "y_means [5.19196307]\n",
            "y_stds [1.21382351]\n",
            "TIMING: dataset construction took 0.653 s\n",
            "Loading dataset from disk.\n",
            "TIMING: dataset construction took 0.087 s\n",
            "Loading dataset from disk.\n",
            "TIMING: dataset construction took 0.088 s\n",
            "Loading dataset from disk.\n"
          ],
          "name": "stdout"
        },
        {
          "output_type": "stream",
          "text": [
            "2021-04-01 21:20:29,265 Wrote model metadata to file ampl_output/CYP3A4_cur_delaney/RF_ecfp_scaffold_regression/8c53bf36-87e8-4383-8fea-8b727ae3fd00/model_metadata.json\n",
            "2021-04-01 21:20:30,977 Wrote model metrics to file ampl_output/CYP3A4_cur_delaney/RF_ecfp_scaffold_regression/8c53bf36-87e8-4383-8fea-8b727ae3fd00/model_metrics.json\n"
          ],
          "name": "stderr"
        },
        {
          "output_type": "stream",
          "text": [
            "Wrote model tarball to ampl_output/CYP3A4_cur_delaney_model_8c53bf36-87e8-4383-8fea-8b727ae3fd00.tar.gz\n",
            "rf_estimators: 128, rf_max_depth: 128, rf_max_features: 128, valid_r2: 0.016846341020572808\n",
            "number of features: 1024\n"
          ],
          "name": "stdout"
        },
        {
          "output_type": "stream",
          "text": [
            "2021-04-01 21:21:46,438 Previous dataset split restored\n"
          ],
          "name": "stderr"
        },
        {
          "output_type": "stream",
          "text": [
            "n_cnt [18642.]\n",
            "y_means [5.19196307]\n",
            "y_stds [1.21382351]\n",
            "TIMING: dataset construction took 0.659 s\n",
            "Loading dataset from disk.\n",
            "TIMING: dataset construction took 0.087 s\n",
            "Loading dataset from disk.\n",
            "TIMING: dataset construction took 0.086 s\n",
            "Loading dataset from disk.\n"
          ],
          "name": "stdout"
        },
        {
          "output_type": "stream",
          "text": [
            "2021-04-01 21:22:01,254 Wrote model metadata to file ampl_output/CYP3A4_cur_delaney/RF_ecfp_scaffold_regression/f0d66246-bc07-4698-921f-eaae3a4ab9fd/model_metadata.json\n",
            "2021-04-01 21:22:03,807 Wrote model metrics to file ampl_output/CYP3A4_cur_delaney/RF_ecfp_scaffold_regression/f0d66246-bc07-4698-921f-eaae3a4ab9fd/model_metrics.json\n"
          ],
          "name": "stderr"
        },
        {
          "output_type": "stream",
          "text": [
            "Wrote model tarball to ampl_output/CYP3A4_cur_delaney_model_f0d66246-bc07-4698-921f-eaae3a4ab9fd.tar.gz\n",
            "rf_estimators: 128, rf_max_depth: 128, rf_max_features: 128, valid_r2: 0.017291450639489447\n",
            "number of features: 1024\n"
          ],
          "name": "stdout"
        },
        {
          "output_type": "stream",
          "text": [
            "2021-04-01 21:23:19,314 Previous dataset split restored\n"
          ],
          "name": "stderr"
        },
        {
          "output_type": "stream",
          "text": [
            "n_cnt [18642.]\n",
            "y_means [5.19196307]\n",
            "y_stds [1.21382351]\n",
            "TIMING: dataset construction took 0.658 s\n",
            "Loading dataset from disk.\n",
            "TIMING: dataset construction took 0.089 s\n",
            "Loading dataset from disk.\n",
            "TIMING: dataset construction took 0.087 s\n",
            "Loading dataset from disk.\n"
          ],
          "name": "stdout"
        },
        {
          "output_type": "stream",
          "text": [
            "2021-04-01 21:24:13,482 Wrote model metadata to file ampl_output/CYP3A4_cur_delaney/RF_ecfp_scaffold_regression/36c85018-d1cc-4b39-91ef-99ff20128275/model_metadata.json\n",
            "2021-04-01 21:24:15,560 Wrote model metrics to file ampl_output/CYP3A4_cur_delaney/RF_ecfp_scaffold_regression/36c85018-d1cc-4b39-91ef-99ff20128275/model_metrics.json\n"
          ],
          "name": "stderr"
        },
        {
          "output_type": "stream",
          "text": [
            "Wrote model tarball to ampl_output/CYP3A4_cur_delaney_model_36c85018-d1cc-4b39-91ef-99ff20128275.tar.gz\n",
            "rf_estimators: 128, rf_max_depth: 128, rf_max_features: 128, valid_r2: 0.017025215287365558\n",
            "number of features: 1024\n"
          ],
          "name": "stdout"
        },
        {
          "output_type": "stream",
          "text": [
            "2021-04-01 21:25:30,920 Previous dataset split restored\n"
          ],
          "name": "stderr"
        },
        {
          "output_type": "stream",
          "text": [
            "n_cnt [18642.]\n",
            "y_means [5.19196307]\n",
            "y_stds [1.21382351]\n",
            "TIMING: dataset construction took 0.665 s\n",
            "Loading dataset from disk.\n",
            "TIMING: dataset construction took 0.086 s\n",
            "Loading dataset from disk.\n",
            "TIMING: dataset construction took 0.087 s\n",
            "Loading dataset from disk.\n"
          ],
          "name": "stdout"
        },
        {
          "output_type": "stream",
          "text": [
            "2021-04-01 21:26:12,712 Wrote model metadata to file ampl_output/CYP3A4_cur_delaney/RF_ecfp_scaffold_regression/f87e7361-c8f0-4cfb-9f1a-b3cffbdc982b/model_metadata.json\n",
            "2021-04-01 21:26:14,246 Wrote model metrics to file ampl_output/CYP3A4_cur_delaney/RF_ecfp_scaffold_regression/f87e7361-c8f0-4cfb-9f1a-b3cffbdc982b/model_metrics.json\n"
          ],
          "name": "stderr"
        },
        {
          "output_type": "stream",
          "text": [
            "Wrote model tarball to ampl_output/CYP3A4_cur_delaney_model_f87e7361-c8f0-4cfb-9f1a-b3cffbdc982b.tar.gz\n",
            "rf_estimators: 128, rf_max_depth: 128, rf_max_features: 128, valid_r2: 0.017663850942516768\n",
            "number of features: 1024\n"
          ],
          "name": "stdout"
        },
        {
          "output_type": "stream",
          "text": [
            "2021-04-01 21:27:29,738 Previous dataset split restored\n"
          ],
          "name": "stderr"
        },
        {
          "output_type": "stream",
          "text": [
            "n_cnt [18642.]\n",
            "y_means [5.19196307]\n",
            "y_stds [1.21382351]\n",
            "TIMING: dataset construction took 0.675 s\n",
            "Loading dataset from disk.\n",
            "TIMING: dataset construction took 0.088 s\n",
            "Loading dataset from disk.\n",
            "TIMING: dataset construction took 0.087 s\n",
            "Loading dataset from disk.\n"
          ],
          "name": "stdout"
        },
        {
          "output_type": "stream",
          "text": [
            "2021-04-01 21:28:04,609 Wrote model metadata to file ampl_output/CYP3A4_cur_delaney/RF_ecfp_scaffold_regression/f322d4a8-62a0-46d9-8ee9-235fde47d587/model_metadata.json\n",
            "2021-04-01 21:28:05,099 Wrote model metrics to file ampl_output/CYP3A4_cur_delaney/RF_ecfp_scaffold_regression/f322d4a8-62a0-46d9-8ee9-235fde47d587/model_metrics.json\n"
          ],
          "name": "stderr"
        },
        {
          "output_type": "stream",
          "text": [
            "Wrote model tarball to ampl_output/CYP3A4_cur_delaney_model_f322d4a8-62a0-46d9-8ee9-235fde47d587.tar.gz\n",
            "rf_estimators: 128, rf_max_depth: 128, rf_max_features: 128, valid_r2: 0.01417242698051624\n",
            "number of features: 1024\n"
          ],
          "name": "stdout"
        },
        {
          "output_type": "stream",
          "text": [
            "2021-04-01 21:29:20,546 Previous dataset split restored\n"
          ],
          "name": "stderr"
        },
        {
          "output_type": "stream",
          "text": [
            "n_cnt [18642.]\n",
            "y_means [5.19196307]\n",
            "y_stds [1.21382351]\n",
            "TIMING: dataset construction took 0.674 s\n",
            "Loading dataset from disk.\n",
            "TIMING: dataset construction took 0.090 s\n",
            "Loading dataset from disk.\n",
            "TIMING: dataset construction took 0.089 s\n",
            "Loading dataset from disk.\n"
          ],
          "name": "stdout"
        },
        {
          "output_type": "stream",
          "text": [
            "2021-04-01 21:29:33,345 Wrote model metadata to file ampl_output/CYP3A4_cur_delaney/RF_ecfp_scaffold_regression/7834500d-b34a-431b-834d-4f845c12c51c/model_metadata.json\n",
            "2021-04-01 21:29:34,371 Wrote model metrics to file ampl_output/CYP3A4_cur_delaney/RF_ecfp_scaffold_regression/7834500d-b34a-431b-834d-4f845c12c51c/model_metrics.json\n"
          ],
          "name": "stderr"
        },
        {
          "output_type": "stream",
          "text": [
            "Wrote model tarball to ampl_output/CYP3A4_cur_delaney_model_7834500d-b34a-431b-834d-4f845c12c51c.tar.gz\n",
            "rf_estimators: 128, rf_max_depth: 128, rf_max_features: 128, valid_r2: 0.01579939013791931\n",
            "number of features: 1024\n"
          ],
          "name": "stdout"
        },
        {
          "output_type": "stream",
          "text": [
            "2021-04-01 21:30:49,913 Previous dataset split restored\n"
          ],
          "name": "stderr"
        },
        {
          "output_type": "stream",
          "text": [
            "n_cnt [18642.]\n",
            "y_means [5.19196307]\n",
            "y_stds [1.21382351]\n",
            "TIMING: dataset construction took 0.673 s\n",
            "Loading dataset from disk.\n",
            "TIMING: dataset construction took 0.088 s\n",
            "Loading dataset from disk.\n",
            "TIMING: dataset construction took 0.088 s\n",
            "Loading dataset from disk.\n"
          ],
          "name": "stdout"
        },
        {
          "output_type": "stream",
          "text": [
            "2021-04-01 21:31:08,404 Wrote model metadata to file ampl_output/CYP3A4_cur_delaney/RF_ecfp_scaffold_regression/c616f96a-16a4-46dc-8a76-cdbdcbf4809b/model_metadata.json\n",
            "2021-04-01 21:31:09,407 Wrote model metrics to file ampl_output/CYP3A4_cur_delaney/RF_ecfp_scaffold_regression/c616f96a-16a4-46dc-8a76-cdbdcbf4809b/model_metrics.json\n"
          ],
          "name": "stderr"
        },
        {
          "output_type": "stream",
          "text": [
            "Wrote model tarball to ampl_output/CYP3A4_cur_delaney_model_c616f96a-16a4-46dc-8a76-cdbdcbf4809b.tar.gz\n",
            "rf_estimators: 128, rf_max_depth: 128, rf_max_features: 128, valid_r2: 0.01738540199614358\n",
            "number of features: 1024\n"
          ],
          "name": "stdout"
        },
        {
          "output_type": "stream",
          "text": [
            "2021-04-01 21:32:24,995 Previous dataset split restored\n"
          ],
          "name": "stderr"
        },
        {
          "output_type": "stream",
          "text": [
            "n_cnt [18642.]\n",
            "y_means [5.19196307]\n",
            "y_stds [1.21382351]\n",
            "TIMING: dataset construction took 0.688 s\n",
            "Loading dataset from disk.\n",
            "TIMING: dataset construction took 0.091 s\n",
            "Loading dataset from disk.\n",
            "TIMING: dataset construction took 0.093 s\n",
            "Loading dataset from disk.\n"
          ],
          "name": "stdout"
        },
        {
          "output_type": "stream",
          "text": [
            "2021-04-01 21:32:41,869 Wrote model metadata to file ampl_output/CYP3A4_cur_delaney/RF_ecfp_scaffold_regression/bd5acfdc-ee94-4c03-a516-7f2ceea4a18c/model_metadata.json\n",
            "2021-04-01 21:32:42,486 Wrote model metrics to file ampl_output/CYP3A4_cur_delaney/RF_ecfp_scaffold_regression/bd5acfdc-ee94-4c03-a516-7f2ceea4a18c/model_metrics.json\n"
          ],
          "name": "stderr"
        },
        {
          "output_type": "stream",
          "text": [
            "Wrote model tarball to ampl_output/CYP3A4_cur_delaney_model_bd5acfdc-ee94-4c03-a516-7f2ceea4a18c.tar.gz\n",
            "rf_estimators: 128, rf_max_depth: 128, rf_max_features: 128, valid_r2: 0.016159390644223892\n",
            "number of features: 1024\n"
          ],
          "name": "stdout"
        },
        {
          "output_type": "stream",
          "text": [
            "2021-04-01 21:33:57,877 Previous dataset split restored\n"
          ],
          "name": "stderr"
        },
        {
          "output_type": "stream",
          "text": [
            "n_cnt [18642.]\n",
            "y_means [5.19196307]\n",
            "y_stds [1.21382351]\n",
            "TIMING: dataset construction took 0.661 s\n",
            "Loading dataset from disk.\n",
            "TIMING: dataset construction took 0.088 s\n",
            "Loading dataset from disk.\n",
            "TIMING: dataset construction took 0.087 s\n",
            "Loading dataset from disk.\n"
          ],
          "name": "stdout"
        },
        {
          "output_type": "stream",
          "text": [
            "2021-04-01 21:34:14,734 Wrote model metadata to file ampl_output/CYP3A4_cur_delaney/RF_ecfp_scaffold_regression/214011c2-9ab5-4440-9b79-03818ac24eec/model_metadata.json\n",
            "2021-04-01 21:34:15,561 Wrote model metrics to file ampl_output/CYP3A4_cur_delaney/RF_ecfp_scaffold_regression/214011c2-9ab5-4440-9b79-03818ac24eec/model_metrics.json\n"
          ],
          "name": "stderr"
        },
        {
          "output_type": "stream",
          "text": [
            "Wrote model tarball to ampl_output/CYP3A4_cur_delaney_model_214011c2-9ab5-4440-9b79-03818ac24eec.tar.gz\n",
            "rf_estimators: 128, rf_max_depth: 128, rf_max_features: 128, valid_r2: 0.01765468280042848\n",
            "number of features: 1024\n"
          ],
          "name": "stdout"
        },
        {
          "output_type": "stream",
          "text": [
            "2021-04-01 21:35:31,125 Previous dataset split restored\n"
          ],
          "name": "stderr"
        },
        {
          "output_type": "stream",
          "text": [
            "n_cnt [18642.]\n",
            "y_means [5.19196307]\n",
            "y_stds [1.21382351]\n",
            "TIMING: dataset construction took 0.661 s\n",
            "Loading dataset from disk.\n",
            "TIMING: dataset construction took 0.086 s\n",
            "Loading dataset from disk.\n",
            "TIMING: dataset construction took 0.087 s\n",
            "Loading dataset from disk.\n"
          ],
          "name": "stdout"
        },
        {
          "output_type": "stream",
          "text": [
            "2021-04-01 21:35:38,788 Wrote model metadata to file ampl_output/CYP3A4_cur_delaney/RF_ecfp_scaffold_regression/cf1430c6-578e-44ba-8abf-3bc8ebf87aef/model_metadata.json\n",
            "2021-04-01 21:35:39,525 Wrote model metrics to file ampl_output/CYP3A4_cur_delaney/RF_ecfp_scaffold_regression/cf1430c6-578e-44ba-8abf-3bc8ebf87aef/model_metrics.json\n"
          ],
          "name": "stderr"
        },
        {
          "output_type": "stream",
          "text": [
            "Wrote model tarball to ampl_output/CYP3A4_cur_delaney_model_cf1430c6-578e-44ba-8abf-3bc8ebf87aef.tar.gz\n",
            "rf_estimators: 128, rf_max_depth: 128, rf_max_features: 128, valid_r2: 0.015360812097494958\n",
            "number of features: 1024\n"
          ],
          "name": "stdout"
        },
        {
          "output_type": "stream",
          "text": [
            "2021-04-01 21:36:55,337 Previous dataset split restored\n"
          ],
          "name": "stderr"
        },
        {
          "output_type": "stream",
          "text": [
            "n_cnt [18642.]\n",
            "y_means [5.19196307]\n",
            "y_stds [1.21382351]\n",
            "TIMING: dataset construction took 0.679 s\n",
            "Loading dataset from disk.\n",
            "TIMING: dataset construction took 0.087 s\n",
            "Loading dataset from disk.\n",
            "TIMING: dataset construction took 0.089 s\n",
            "Loading dataset from disk.\n"
          ],
          "name": "stdout"
        },
        {
          "output_type": "stream",
          "text": [
            "2021-04-01 21:37:27,603 Wrote model metadata to file ampl_output/CYP3A4_cur_delaney/RF_ecfp_scaffold_regression/67a7a6f2-d29a-499f-a291-74d158320590/model_metadata.json\n",
            "2021-04-01 21:37:29,958 Wrote model metrics to file ampl_output/CYP3A4_cur_delaney/RF_ecfp_scaffold_regression/67a7a6f2-d29a-499f-a291-74d158320590/model_metrics.json\n"
          ],
          "name": "stderr"
        },
        {
          "output_type": "stream",
          "text": [
            "Wrote model tarball to ampl_output/CYP3A4_cur_delaney_model_67a7a6f2-d29a-499f-a291-74d158320590.tar.gz\n",
            "rf_estimators: 128, rf_max_depth: 128, rf_max_features: 128, valid_r2: 0.01700897437287119\n",
            "number of features: 1024\n"
          ],
          "name": "stdout"
        },
        {
          "output_type": "stream",
          "text": [
            "2021-04-01 21:38:45,423 Previous dataset split restored\n"
          ],
          "name": "stderr"
        },
        {
          "output_type": "stream",
          "text": [
            "n_cnt [18642.]\n",
            "y_means [5.19196307]\n",
            "y_stds [1.21382351]\n",
            "TIMING: dataset construction took 0.667 s\n",
            "Loading dataset from disk.\n",
            "TIMING: dataset construction took 0.087 s\n",
            "Loading dataset from disk.\n",
            "TIMING: dataset construction took 0.088 s\n",
            "Loading dataset from disk.\n"
          ],
          "name": "stdout"
        },
        {
          "output_type": "stream",
          "text": [
            "2021-04-01 21:38:53,755 Wrote model metadata to file ampl_output/CYP3A4_cur_delaney/RF_ecfp_scaffold_regression/073a5e27-ff3c-4882-8ca5-ae108ec5ae96/model_metadata.json\n",
            "2021-04-01 21:38:53,920 Wrote model metrics to file ampl_output/CYP3A4_cur_delaney/RF_ecfp_scaffold_regression/073a5e27-ff3c-4882-8ca5-ae108ec5ae96/model_metrics.json\n"
          ],
          "name": "stderr"
        },
        {
          "output_type": "stream",
          "text": [
            "Wrote model tarball to ampl_output/CYP3A4_cur_delaney_model_073a5e27-ff3c-4882-8ca5-ae108ec5ae96.tar.gz\n",
            "rf_estimators: 128, rf_max_depth: 128, rf_max_features: 128, valid_r2: 0.018600583410159244\n",
            "number of features: 1024\n"
          ],
          "name": "stdout"
        },
        {
          "output_type": "stream",
          "text": [
            "2021-04-01 21:40:09,721 Previous dataset split restored\n"
          ],
          "name": "stderr"
        },
        {
          "output_type": "stream",
          "text": [
            "n_cnt [18642.]\n",
            "y_means [5.19196307]\n",
            "y_stds [1.21382351]\n",
            "TIMING: dataset construction took 0.662 s\n",
            "Loading dataset from disk.\n",
            "TIMING: dataset construction took 0.089 s\n",
            "Loading dataset from disk.\n",
            "TIMING: dataset construction took 0.088 s\n",
            "Loading dataset from disk.\n"
          ],
          "name": "stdout"
        },
        {
          "output_type": "stream",
          "text": [
            "2021-04-01 21:40:57,650 Wrote model metadata to file ampl_output/CYP3A4_cur_delaney/RF_ecfp_scaffold_regression/9b7f852e-9f61-42e1-9eaf-d116da8393f2/model_metadata.json\n",
            "2021-04-01 21:40:59,013 Wrote model metrics to file ampl_output/CYP3A4_cur_delaney/RF_ecfp_scaffold_regression/9b7f852e-9f61-42e1-9eaf-d116da8393f2/model_metrics.json\n"
          ],
          "name": "stderr"
        },
        {
          "output_type": "stream",
          "text": [
            "Wrote model tarball to ampl_output/CYP3A4_cur_delaney_model_9b7f852e-9f61-42e1-9eaf-d116da8393f2.tar.gz\n",
            "rf_estimators: 128, rf_max_depth: 128, rf_max_features: 128, valid_r2: 0.016557937763571506\n",
            "number of features: 1024\n"
          ],
          "name": "stdout"
        },
        {
          "output_type": "stream",
          "text": [
            "2021-04-01 21:42:14,864 Previous dataset split restored\n"
          ],
          "name": "stderr"
        },
        {
          "output_type": "stream",
          "text": [
            "n_cnt [18642.]\n",
            "y_means [5.19196307]\n",
            "y_stds [1.21382351]\n",
            "TIMING: dataset construction took 0.668 s\n",
            "Loading dataset from disk.\n",
            "TIMING: dataset construction took 0.086 s\n",
            "Loading dataset from disk.\n",
            "TIMING: dataset construction took 0.087 s\n",
            "Loading dataset from disk.\n"
          ],
          "name": "stdout"
        },
        {
          "output_type": "stream",
          "text": [
            "2021-04-01 21:42:46,162 Wrote model metadata to file ampl_output/CYP3A4_cur_delaney/RF_ecfp_scaffold_regression/800571ae-adb4-4880-975f-a1d897177cea/model_metadata.json\n",
            "2021-04-01 21:42:48,134 Wrote model metrics to file ampl_output/CYP3A4_cur_delaney/RF_ecfp_scaffold_regression/800571ae-adb4-4880-975f-a1d897177cea/model_metrics.json\n"
          ],
          "name": "stderr"
        },
        {
          "output_type": "stream",
          "text": [
            "Wrote model tarball to ampl_output/CYP3A4_cur_delaney_model_800571ae-adb4-4880-975f-a1d897177cea.tar.gz\n",
            "rf_estimators: 128, rf_max_depth: 128, rf_max_features: 128, valid_r2: 0.016859669364341023\n",
            "number of features: 1024\n"
          ],
          "name": "stdout"
        },
        {
          "output_type": "stream",
          "text": [
            "2021-04-01 21:44:03,910 Previous dataset split restored\n"
          ],
          "name": "stderr"
        },
        {
          "output_type": "stream",
          "text": [
            "n_cnt [18642.]\n",
            "y_means [5.19196307]\n",
            "y_stds [1.21382351]\n",
            "TIMING: dataset construction took 0.662 s\n",
            "Loading dataset from disk.\n",
            "TIMING: dataset construction took 0.087 s\n",
            "Loading dataset from disk.\n",
            "TIMING: dataset construction took 0.087 s\n",
            "Loading dataset from disk.\n"
          ],
          "name": "stdout"
        },
        {
          "output_type": "stream",
          "text": [
            "2021-04-01 21:44:44,179 Wrote model metadata to file ampl_output/CYP3A4_cur_delaney/RF_ecfp_scaffold_regression/dc818d2b-1223-443b-8681-d94753a3d194/model_metadata.json\n",
            "2021-04-01 21:44:45,352 Wrote model metrics to file ampl_output/CYP3A4_cur_delaney/RF_ecfp_scaffold_regression/dc818d2b-1223-443b-8681-d94753a3d194/model_metrics.json\n"
          ],
          "name": "stderr"
        },
        {
          "output_type": "stream",
          "text": [
            "Wrote model tarball to ampl_output/CYP3A4_cur_delaney_model_dc818d2b-1223-443b-8681-d94753a3d194.tar.gz\n",
            "rf_estimators: 128, rf_max_depth: 128, rf_max_features: 128, valid_r2: 0.017968192526624294\n",
            "number of features: 1024\n"
          ],
          "name": "stdout"
        },
        {
          "output_type": "stream",
          "text": [
            "2021-04-01 21:46:00,884 Previous dataset split restored\n"
          ],
          "name": "stderr"
        },
        {
          "output_type": "stream",
          "text": [
            "n_cnt [18642.]\n",
            "y_means [5.19196307]\n",
            "y_stds [1.21382351]\n",
            "TIMING: dataset construction took 0.668 s\n",
            "Loading dataset from disk.\n",
            "TIMING: dataset construction took 0.088 s\n",
            "Loading dataset from disk.\n",
            "TIMING: dataset construction took 0.089 s\n",
            "Loading dataset from disk.\n"
          ],
          "name": "stdout"
        },
        {
          "output_type": "stream",
          "text": [
            "2021-04-01 21:46:53,796 Wrote model metadata to file ampl_output/CYP3A4_cur_delaney/RF_ecfp_scaffold_regression/dec14196-d794-4945-8497-63cc079ed74d/model_metadata.json\n",
            "2021-04-01 21:46:55,718 Wrote model metrics to file ampl_output/CYP3A4_cur_delaney/RF_ecfp_scaffold_regression/dec14196-d794-4945-8497-63cc079ed74d/model_metrics.json\n"
          ],
          "name": "stderr"
        },
        {
          "output_type": "stream",
          "text": [
            "Wrote model tarball to ampl_output/CYP3A4_cur_delaney_model_dec14196-d794-4945-8497-63cc079ed74d.tar.gz\n",
            "rf_estimators: 128, rf_max_depth: 128, rf_max_features: 128, valid_r2: 0.01896125723318487\n",
            "number of features: 1024\n"
          ],
          "name": "stdout"
        },
        {
          "output_type": "stream",
          "text": [
            "2021-04-01 21:48:11,273 Previous dataset split restored\n"
          ],
          "name": "stderr"
        },
        {
          "output_type": "stream",
          "text": [
            "n_cnt [18642.]\n",
            "y_means [5.19196307]\n",
            "y_stds [1.21382351]\n",
            "TIMING: dataset construction took 0.667 s\n",
            "Loading dataset from disk.\n",
            "TIMING: dataset construction took 0.088 s\n",
            "Loading dataset from disk.\n",
            "TIMING: dataset construction took 0.089 s\n",
            "Loading dataset from disk.\n"
          ],
          "name": "stdout"
        },
        {
          "output_type": "stream",
          "text": [
            "2021-04-01 21:48:28,701 Wrote model metadata to file ampl_output/CYP3A4_cur_delaney/RF_ecfp_scaffold_regression/cef75c03-7c46-4e9e-a749-4e48b2aaa192/model_metadata.json\n",
            "2021-04-01 21:48:30,246 Wrote model metrics to file ampl_output/CYP3A4_cur_delaney/RF_ecfp_scaffold_regression/cef75c03-7c46-4e9e-a749-4e48b2aaa192/model_metrics.json\n"
          ],
          "name": "stderr"
        },
        {
          "output_type": "stream",
          "text": [
            "Wrote model tarball to ampl_output/CYP3A4_cur_delaney_model_cef75c03-7c46-4e9e-a749-4e48b2aaa192.tar.gz\n",
            "rf_estimators: 128, rf_max_depth: 128, rf_max_features: 128, valid_r2: 0.017575990589876356\n",
            "number of features: 1024\n"
          ],
          "name": "stdout"
        },
        {
          "output_type": "stream",
          "text": [
            "2021-04-01 21:49:45,810 Previous dataset split restored\n"
          ],
          "name": "stderr"
        },
        {
          "output_type": "stream",
          "text": [
            "n_cnt [18642.]\n",
            "y_means [5.19196307]\n",
            "y_stds [1.21382351]\n",
            "TIMING: dataset construction took 0.660 s\n",
            "Loading dataset from disk.\n",
            "TIMING: dataset construction took 0.086 s\n",
            "Loading dataset from disk.\n",
            "TIMING: dataset construction took 0.087 s\n",
            "Loading dataset from disk.\n"
          ],
          "name": "stdout"
        },
        {
          "output_type": "stream",
          "text": [
            "2021-04-01 21:50:10,938 Wrote model metadata to file ampl_output/CYP3A4_cur_delaney/RF_ecfp_scaffold_regression/9f1d20c0-5647-4e9c-850b-7c91fb50897f/model_metadata.json\n",
            "2021-04-01 21:50:13,227 Wrote model metrics to file ampl_output/CYP3A4_cur_delaney/RF_ecfp_scaffold_regression/9f1d20c0-5647-4e9c-850b-7c91fb50897f/model_metrics.json\n"
          ],
          "name": "stderr"
        },
        {
          "output_type": "stream",
          "text": [
            "Wrote model tarball to ampl_output/CYP3A4_cur_delaney_model_9f1d20c0-5647-4e9c-850b-7c91fb50897f.tar.gz\n",
            "rf_estimators: 128, rf_max_depth: 128, rf_max_features: 128, valid_r2: 0.016865097111285365\n",
            "number of features: 1024\n"
          ],
          "name": "stdout"
        },
        {
          "output_type": "stream",
          "text": [
            "2021-04-01 21:51:29,001 Previous dataset split restored\n"
          ],
          "name": "stderr"
        },
        {
          "output_type": "stream",
          "text": [
            "n_cnt [18642.]\n",
            "y_means [5.19196307]\n",
            "y_stds [1.21382351]\n",
            "TIMING: dataset construction took 0.670 s\n",
            "Loading dataset from disk.\n",
            "TIMING: dataset construction took 0.089 s\n",
            "Loading dataset from disk.\n",
            "TIMING: dataset construction took 0.091 s\n",
            "Loading dataset from disk.\n"
          ],
          "name": "stdout"
        },
        {
          "output_type": "stream",
          "text": [
            "2021-04-01 21:51:41,098 Wrote model metadata to file ampl_output/CYP3A4_cur_delaney/RF_ecfp_scaffold_regression/25fb37a4-dabe-42fe-8b41-bb6506db8f7c/model_metadata.json\n",
            "2021-04-01 21:51:42,396 Wrote model metrics to file ampl_output/CYP3A4_cur_delaney/RF_ecfp_scaffold_regression/25fb37a4-dabe-42fe-8b41-bb6506db8f7c/model_metrics.json\n"
          ],
          "name": "stderr"
        },
        {
          "output_type": "stream",
          "text": [
            "Wrote model tarball to ampl_output/CYP3A4_cur_delaney_model_25fb37a4-dabe-42fe-8b41-bb6506db8f7c.tar.gz\n",
            "rf_estimators: 128, rf_max_depth: 128, rf_max_features: 128, valid_r2: 0.017144527408341603\n",
            "number of features: 1024\n"
          ],
          "name": "stdout"
        },
        {
          "output_type": "stream",
          "text": [
            "2021-04-01 21:52:58,287 Previous dataset split restored\n"
          ],
          "name": "stderr"
        },
        {
          "output_type": "stream",
          "text": [
            "n_cnt [18642.]\n",
            "y_means [5.19196307]\n",
            "y_stds [1.21382351]\n",
            "TIMING: dataset construction took 0.666 s\n",
            "Loading dataset from disk.\n",
            "TIMING: dataset construction took 0.091 s\n",
            "Loading dataset from disk.\n",
            "TIMING: dataset construction took 0.088 s\n",
            "Loading dataset from disk.\n"
          ],
          "name": "stdout"
        },
        {
          "output_type": "stream",
          "text": [
            "2021-04-01 21:53:05,928 Wrote model metadata to file ampl_output/CYP3A4_cur_delaney/RF_ecfp_scaffold_regression/12cf60cf-865a-462b-aaf1-3fc1215af064/model_metadata.json\n",
            "2021-04-01 21:53:06,435 Wrote model metrics to file ampl_output/CYP3A4_cur_delaney/RF_ecfp_scaffold_regression/12cf60cf-865a-462b-aaf1-3fc1215af064/model_metrics.json\n"
          ],
          "name": "stderr"
        },
        {
          "output_type": "stream",
          "text": [
            "Wrote model tarball to ampl_output/CYP3A4_cur_delaney_model_12cf60cf-865a-462b-aaf1-3fc1215af064.tar.gz\n",
            "rf_estimators: 128, rf_max_depth: 128, rf_max_features: 128, valid_r2: 0.018357189861050727\n",
            "number of features: 1024\n"
          ],
          "name": "stdout"
        },
        {
          "output_type": "stream",
          "text": [
            "2021-04-01 21:54:21,867 Previous dataset split restored\n"
          ],
          "name": "stderr"
        },
        {
          "output_type": "stream",
          "text": [
            "n_cnt [18642.]\n",
            "y_means [5.19196307]\n",
            "y_stds [1.21382351]\n",
            "TIMING: dataset construction took 0.667 s\n",
            "Loading dataset from disk.\n",
            "TIMING: dataset construction took 0.088 s\n",
            "Loading dataset from disk.\n",
            "TIMING: dataset construction took 0.087 s\n",
            "Loading dataset from disk.\n"
          ],
          "name": "stdout"
        },
        {
          "output_type": "stream",
          "text": [
            "2021-04-01 21:54:47,675 Wrote model metadata to file ampl_output/CYP3A4_cur_delaney/RF_ecfp_scaffold_regression/82e9f7c1-cfc2-4cf9-8cfa-029e059bd10d/model_metadata.json\n",
            "2021-04-01 21:54:48,675 Wrote model metrics to file ampl_output/CYP3A4_cur_delaney/RF_ecfp_scaffold_regression/82e9f7c1-cfc2-4cf9-8cfa-029e059bd10d/model_metrics.json\n"
          ],
          "name": "stderr"
        },
        {
          "output_type": "stream",
          "text": [
            "Wrote model tarball to ampl_output/CYP3A4_cur_delaney_model_82e9f7c1-cfc2-4cf9-8cfa-029e059bd10d.tar.gz\n",
            "rf_estimators: 128, rf_max_depth: 128, rf_max_features: 128, valid_r2: 0.017545147823447738\n",
            "number of features: 1024\n"
          ],
          "name": "stdout"
        },
        {
          "output_type": "stream",
          "text": [
            "2021-04-01 21:56:04,438 Previous dataset split restored\n"
          ],
          "name": "stderr"
        },
        {
          "output_type": "stream",
          "text": [
            "n_cnt [18642.]\n",
            "y_means [5.19196307]\n",
            "y_stds [1.21382351]\n",
            "TIMING: dataset construction took 0.659 s\n",
            "Loading dataset from disk.\n",
            "TIMING: dataset construction took 0.090 s\n",
            "Loading dataset from disk.\n",
            "TIMING: dataset construction took 0.089 s\n",
            "Loading dataset from disk.\n"
          ],
          "name": "stdout"
        },
        {
          "output_type": "stream",
          "text": [
            "2021-04-01 21:56:42,490 Wrote model metadata to file ampl_output/CYP3A4_cur_delaney/RF_ecfp_scaffold_regression/f31b6164-c4af-4245-87b6-b367a2899a7d/model_metadata.json\n",
            "2021-04-01 21:56:43,912 Wrote model metrics to file ampl_output/CYP3A4_cur_delaney/RF_ecfp_scaffold_regression/f31b6164-c4af-4245-87b6-b367a2899a7d/model_metrics.json\n"
          ],
          "name": "stderr"
        },
        {
          "output_type": "stream",
          "text": [
            "Wrote model tarball to ampl_output/CYP3A4_cur_delaney_model_f31b6164-c4af-4245-87b6-b367a2899a7d.tar.gz\n",
            "rf_estimators: 128, rf_max_depth: 128, rf_max_features: 128, valid_r2: 0.018164512454204473\n",
            "number of features: 1024\n"
          ],
          "name": "stdout"
        },
        {
          "output_type": "stream",
          "text": [
            "2021-04-01 21:57:59,683 Previous dataset split restored\n"
          ],
          "name": "stderr"
        },
        {
          "output_type": "stream",
          "text": [
            "n_cnt [18642.]\n",
            "y_means [5.19196307]\n",
            "y_stds [1.21382351]\n",
            "TIMING: dataset construction took 0.659 s\n",
            "Loading dataset from disk.\n",
            "TIMING: dataset construction took 0.086 s\n",
            "Loading dataset from disk.\n",
            "TIMING: dataset construction took 0.087 s\n",
            "Loading dataset from disk.\n"
          ],
          "name": "stdout"
        },
        {
          "output_type": "stream",
          "text": [
            "2021-04-01 21:58:21,440 Wrote model metadata to file ampl_output/CYP3A4_cur_delaney/RF_ecfp_scaffold_regression/b602bfb9-4190-4001-9549-f1770822b72b/model_metadata.json\n",
            "2021-04-01 21:58:23,590 Wrote model metrics to file ampl_output/CYP3A4_cur_delaney/RF_ecfp_scaffold_regression/b602bfb9-4190-4001-9549-f1770822b72b/model_metrics.json\n"
          ],
          "name": "stderr"
        },
        {
          "output_type": "stream",
          "text": [
            "Wrote model tarball to ampl_output/CYP3A4_cur_delaney_model_b602bfb9-4190-4001-9549-f1770822b72b.tar.gz\n",
            "rf_estimators: 128, rf_max_depth: 128, rf_max_features: 128, valid_r2: 0.01691586241324594\n",
            "number of features: 1024\n"
          ],
          "name": "stdout"
        },
        {
          "output_type": "stream",
          "text": [
            "2021-04-01 21:59:39,139 Previous dataset split restored\n"
          ],
          "name": "stderr"
        },
        {
          "output_type": "stream",
          "text": [
            "n_cnt [18642.]\n",
            "y_means [5.19196307]\n",
            "y_stds [1.21382351]\n",
            "TIMING: dataset construction took 0.671 s\n",
            "Loading dataset from disk.\n",
            "TIMING: dataset construction took 0.088 s\n",
            "Loading dataset from disk.\n",
            "TIMING: dataset construction took 0.088 s\n",
            "Loading dataset from disk.\n"
          ],
          "name": "stdout"
        },
        {
          "output_type": "stream",
          "text": [
            "2021-04-01 22:00:05,382 Wrote model metadata to file ampl_output/CYP3A4_cur_delaney/RF_ecfp_scaffold_regression/6aafa49b-dcc9-41e1-b9db-c1c2f656b8c4/model_metadata.json\n",
            "2021-04-01 22:00:07,867 Wrote model metrics to file ampl_output/CYP3A4_cur_delaney/RF_ecfp_scaffold_regression/6aafa49b-dcc9-41e1-b9db-c1c2f656b8c4/model_metrics.json\n"
          ],
          "name": "stderr"
        },
        {
          "output_type": "stream",
          "text": [
            "Wrote model tarball to ampl_output/CYP3A4_cur_delaney_model_6aafa49b-dcc9-41e1-b9db-c1c2f656b8c4.tar.gz\n",
            "rf_estimators: 128, rf_max_depth: 128, rf_max_features: 128, valid_r2: 0.016792872334578268\n",
            "number of features: 1024\n"
          ],
          "name": "stdout"
        },
        {
          "output_type": "stream",
          "text": [
            "2021-04-01 22:01:23,788 Previous dataset split restored\n"
          ],
          "name": "stderr"
        },
        {
          "output_type": "stream",
          "text": [
            "n_cnt [18642.]\n",
            "y_means [5.19196307]\n",
            "y_stds [1.21382351]\n",
            "TIMING: dataset construction took 0.670 s\n",
            "Loading dataset from disk.\n",
            "TIMING: dataset construction took 0.089 s\n",
            "Loading dataset from disk.\n",
            "TIMING: dataset construction took 0.090 s\n",
            "Loading dataset from disk.\n"
          ],
          "name": "stdout"
        },
        {
          "output_type": "stream",
          "text": [
            "2021-04-01 22:01:44,494 Wrote model metadata to file ampl_output/CYP3A4_cur_delaney/RF_ecfp_scaffold_regression/89113ba1-fa92-479a-b2c1-c9ace950b5ed/model_metadata.json\n",
            "2021-04-01 22:01:46,450 Wrote model metrics to file ampl_output/CYP3A4_cur_delaney/RF_ecfp_scaffold_regression/89113ba1-fa92-479a-b2c1-c9ace950b5ed/model_metrics.json\n"
          ],
          "name": "stderr"
        },
        {
          "output_type": "stream",
          "text": [
            "Wrote model tarball to ampl_output/CYP3A4_cur_delaney_model_89113ba1-fa92-479a-b2c1-c9ace950b5ed.tar.gz\n",
            "rf_estimators: 128, rf_max_depth: 128, rf_max_features: 128, valid_r2: 0.017259777027142098\n",
            "number of features: 1024\n"
          ],
          "name": "stdout"
        },
        {
          "output_type": "stream",
          "text": [
            "2021-04-01 22:03:02,298 Previous dataset split restored\n"
          ],
          "name": "stderr"
        },
        {
          "output_type": "stream",
          "text": [
            "n_cnt [18642.]\n",
            "y_means [5.19196307]\n",
            "y_stds [1.21382351]\n",
            "TIMING: dataset construction took 0.658 s\n",
            "Loading dataset from disk.\n",
            "TIMING: dataset construction took 0.086 s\n",
            "Loading dataset from disk.\n",
            "TIMING: dataset construction took 0.087 s\n",
            "Loading dataset from disk.\n"
          ],
          "name": "stdout"
        },
        {
          "output_type": "stream",
          "text": [
            "2021-04-01 22:03:14,142 Wrote model metadata to file ampl_output/CYP3A4_cur_delaney/RF_ecfp_scaffold_regression/49c8dca1-161f-40c2-b456-186c09890680/model_metadata.json\n",
            "2021-04-01 22:03:15,040 Wrote model metrics to file ampl_output/CYP3A4_cur_delaney/RF_ecfp_scaffold_regression/49c8dca1-161f-40c2-b456-186c09890680/model_metrics.json\n"
          ],
          "name": "stderr"
        },
        {
          "output_type": "stream",
          "text": [
            "Wrote model tarball to ampl_output/CYP3A4_cur_delaney_model_49c8dca1-161f-40c2-b456-186c09890680.tar.gz\n",
            "rf_estimators: 128, rf_max_depth: 128, rf_max_features: 128, valid_r2: 0.016086175312020723\n",
            "number of features: 1024\n"
          ],
          "name": "stdout"
        },
        {
          "output_type": "stream",
          "text": [
            "2021-04-01 22:04:30,604 Previous dataset split restored\n"
          ],
          "name": "stderr"
        },
        {
          "output_type": "stream",
          "text": [
            "n_cnt [18642.]\n",
            "y_means [5.19196307]\n",
            "y_stds [1.21382351]\n",
            "TIMING: dataset construction took 0.655 s\n",
            "Loading dataset from disk.\n",
            "TIMING: dataset construction took 0.090 s\n",
            "Loading dataset from disk.\n",
            "TIMING: dataset construction took 0.088 s\n",
            "Loading dataset from disk.\n"
          ],
          "name": "stdout"
        },
        {
          "output_type": "stream",
          "text": [
            "2021-04-01 22:04:45,323 Wrote model metadata to file ampl_output/CYP3A4_cur_delaney/RF_ecfp_scaffold_regression/d66d1d94-11b7-49e1-bedd-3894b93bdc9a/model_metadata.json\n",
            "2021-04-01 22:04:46,536 Wrote model metrics to file ampl_output/CYP3A4_cur_delaney/RF_ecfp_scaffold_regression/d66d1d94-11b7-49e1-bedd-3894b93bdc9a/model_metrics.json\n"
          ],
          "name": "stderr"
        },
        {
          "output_type": "stream",
          "text": [
            "Wrote model tarball to ampl_output/CYP3A4_cur_delaney_model_d66d1d94-11b7-49e1-bedd-3894b93bdc9a.tar.gz\n",
            "rf_estimators: 128, rf_max_depth: 128, rf_max_features: 128, valid_r2: 0.018198414868559554\n",
            "number of features: 1024\n"
          ],
          "name": "stdout"
        },
        {
          "output_type": "stream",
          "text": [
            "2021-04-01 22:06:02,167 Previous dataset split restored\n"
          ],
          "name": "stderr"
        },
        {
          "output_type": "stream",
          "text": [
            "n_cnt [18642.]\n",
            "y_means [5.19196307]\n",
            "y_stds [1.21382351]\n",
            "TIMING: dataset construction took 0.662 s\n",
            "Loading dataset from disk.\n",
            "TIMING: dataset construction took 0.086 s\n",
            "Loading dataset from disk.\n",
            "TIMING: dataset construction took 0.087 s\n",
            "Loading dataset from disk.\n"
          ],
          "name": "stdout"
        },
        {
          "output_type": "stream",
          "text": [
            "2021-04-01 22:06:09,457 Wrote model metadata to file ampl_output/CYP3A4_cur_delaney/RF_ecfp_scaffold_regression/8d3ad9f9-d191-4cf5-8788-fbd9fe4a833b/model_metadata.json\n",
            "2021-04-01 22:06:09,709 Wrote model metrics to file ampl_output/CYP3A4_cur_delaney/RF_ecfp_scaffold_regression/8d3ad9f9-d191-4cf5-8788-fbd9fe4a833b/model_metrics.json\n"
          ],
          "name": "stderr"
        },
        {
          "output_type": "stream",
          "text": [
            "Wrote model tarball to ampl_output/CYP3A4_cur_delaney_model_8d3ad9f9-d191-4cf5-8788-fbd9fe4a833b.tar.gz\n",
            "rf_estimators: 128, rf_max_depth: 128, rf_max_features: 128, valid_r2: 0.021973661650190657\n",
            "number of features: 1024\n"
          ],
          "name": "stdout"
        },
        {
          "output_type": "stream",
          "text": [
            "2021-04-01 22:07:25,224 Previous dataset split restored\n"
          ],
          "name": "stderr"
        },
        {
          "output_type": "stream",
          "text": [
            "n_cnt [18642.]\n",
            "y_means [5.19196307]\n",
            "y_stds [1.21382351]\n",
            "TIMING: dataset construction took 0.658 s\n",
            "Loading dataset from disk.\n",
            "TIMING: dataset construction took 0.088 s\n",
            "Loading dataset from disk.\n",
            "TIMING: dataset construction took 0.088 s\n",
            "Loading dataset from disk.\n"
          ],
          "name": "stdout"
        },
        {
          "output_type": "stream",
          "text": [
            "2021-04-01 22:07:45,150 Wrote model metadata to file ampl_output/CYP3A4_cur_delaney/RF_ecfp_scaffold_regression/0ea809fd-e8ef-4a82-ad38-2a6f54419351/model_metadata.json\n",
            "2021-04-01 22:07:46,607 Wrote model metrics to file ampl_output/CYP3A4_cur_delaney/RF_ecfp_scaffold_regression/0ea809fd-e8ef-4a82-ad38-2a6f54419351/model_metrics.json\n"
          ],
          "name": "stderr"
        },
        {
          "output_type": "stream",
          "text": [
            "Wrote model tarball to ampl_output/CYP3A4_cur_delaney_model_0ea809fd-e8ef-4a82-ad38-2a6f54419351.tar.gz\n",
            "rf_estimators: 128, rf_max_depth: 128, rf_max_features: 128, valid_r2: 0.01653971679235189\n",
            "number of features: 1024\n"
          ],
          "name": "stdout"
        },
        {
          "output_type": "stream",
          "text": [
            "2021-04-01 22:09:02,395 Previous dataset split restored\n"
          ],
          "name": "stderr"
        },
        {
          "output_type": "stream",
          "text": [
            "n_cnt [18642.]\n",
            "y_means [5.19196307]\n",
            "y_stds [1.21382351]\n",
            "TIMING: dataset construction took 0.657 s\n",
            "Loading dataset from disk.\n",
            "TIMING: dataset construction took 0.087 s\n",
            "Loading dataset from disk.\n",
            "TIMING: dataset construction took 0.088 s\n",
            "Loading dataset from disk.\n"
          ],
          "name": "stdout"
        },
        {
          "output_type": "stream",
          "text": [
            "2021-04-01 22:09:49,901 Wrote model metadata to file ampl_output/CYP3A4_cur_delaney/RF_ecfp_scaffold_regression/88980598-6296-4320-b134-9fb7e6caef76/model_metadata.json\n",
            "2021-04-01 22:09:52,243 Wrote model metrics to file ampl_output/CYP3A4_cur_delaney/RF_ecfp_scaffold_regression/88980598-6296-4320-b134-9fb7e6caef76/model_metrics.json\n"
          ],
          "name": "stderr"
        },
        {
          "output_type": "stream",
          "text": [
            "Wrote model tarball to ampl_output/CYP3A4_cur_delaney_model_88980598-6296-4320-b134-9fb7e6caef76.tar.gz\n",
            "rf_estimators: 128, rf_max_depth: 128, rf_max_features: 128, valid_r2: 0.017720314036372198\n",
            "number of features: 1024\n"
          ],
          "name": "stdout"
        },
        {
          "output_type": "stream",
          "text": [
            "2021-04-01 22:11:07,957 Previous dataset split restored\n"
          ],
          "name": "stderr"
        },
        {
          "output_type": "stream",
          "text": [
            "n_cnt [18642.]\n",
            "y_means [5.19196307]\n",
            "y_stds [1.21382351]\n",
            "TIMING: dataset construction took 0.661 s\n",
            "Loading dataset from disk.\n",
            "TIMING: dataset construction took 0.088 s\n",
            "Loading dataset from disk.\n",
            "TIMING: dataset construction took 0.088 s\n",
            "Loading dataset from disk.\n"
          ],
          "name": "stdout"
        },
        {
          "output_type": "stream",
          "text": [
            "2021-04-01 22:11:13,457 Wrote model metadata to file ampl_output/CYP3A4_cur_delaney/RF_ecfp_scaffold_regression/514363ca-f23b-499a-b185-f75c96427a6a/model_metadata.json\n",
            "2021-04-01 22:11:13,506 Wrote model metrics to file ampl_output/CYP3A4_cur_delaney/RF_ecfp_scaffold_regression/514363ca-f23b-499a-b185-f75c96427a6a/model_metrics.json\n"
          ],
          "name": "stderr"
        },
        {
          "output_type": "stream",
          "text": [
            "Wrote model tarball to ampl_output/CYP3A4_cur_delaney_model_514363ca-f23b-499a-b185-f75c96427a6a.tar.gz\n",
            "rf_estimators: 128, rf_max_depth: 128, rf_max_features: 128, valid_r2: 0.010566653211912858\n",
            "number of features: 1024\n"
          ],
          "name": "stdout"
        },
        {
          "output_type": "stream",
          "text": [
            "2021-04-01 22:12:29,103 Previous dataset split restored\n"
          ],
          "name": "stderr"
        },
        {
          "output_type": "stream",
          "text": [
            "n_cnt [18642.]\n",
            "y_means [5.19196307]\n",
            "y_stds [1.21382351]\n",
            "TIMING: dataset construction took 0.656 s\n",
            "Loading dataset from disk.\n",
            "TIMING: dataset construction took 0.087 s\n",
            "Loading dataset from disk.\n",
            "TIMING: dataset construction took 0.087 s\n",
            "Loading dataset from disk.\n"
          ],
          "name": "stdout"
        },
        {
          "output_type": "stream",
          "text": [
            "2021-04-01 22:12:47,620 Wrote model metadata to file ampl_output/CYP3A4_cur_delaney/RF_ecfp_scaffold_regression/be772d59-d8f1-49a3-b94f-8ce142d608f1/model_metadata.json\n",
            "2021-04-01 22:12:47,956 Wrote model metrics to file ampl_output/CYP3A4_cur_delaney/RF_ecfp_scaffold_regression/be772d59-d8f1-49a3-b94f-8ce142d608f1/model_metrics.json\n"
          ],
          "name": "stderr"
        },
        {
          "output_type": "stream",
          "text": [
            "Wrote model tarball to ampl_output/CYP3A4_cur_delaney_model_be772d59-d8f1-49a3-b94f-8ce142d608f1.tar.gz\n",
            "rf_estimators: 128, rf_max_depth: 128, rf_max_features: 128, valid_r2: 0.014560713986218055\n",
            "number of features: 1024\n"
          ],
          "name": "stdout"
        },
        {
          "output_type": "stream",
          "text": [
            "2021-04-01 22:14:03,824 Previous dataset split restored\n"
          ],
          "name": "stderr"
        },
        {
          "output_type": "stream",
          "text": [
            "n_cnt [18642.]\n",
            "y_means [5.19196307]\n",
            "y_stds [1.21382351]\n",
            "TIMING: dataset construction took 0.727 s\n",
            "Loading dataset from disk.\n",
            "TIMING: dataset construction took 0.088 s\n",
            "Loading dataset from disk.\n",
            "TIMING: dataset construction took 0.087 s\n",
            "Loading dataset from disk.\n"
          ],
          "name": "stdout"
        },
        {
          "output_type": "stream",
          "text": [
            "2021-04-01 22:14:28,239 Wrote model metadata to file ampl_output/CYP3A4_cur_delaney/RF_ecfp_scaffold_regression/915bcd17-6bcd-4619-81df-63f71a5ac3b2/model_metadata.json\n",
            "2021-04-01 22:14:29,152 Wrote model metrics to file ampl_output/CYP3A4_cur_delaney/RF_ecfp_scaffold_regression/915bcd17-6bcd-4619-81df-63f71a5ac3b2/model_metrics.json\n"
          ],
          "name": "stderr"
        },
        {
          "output_type": "stream",
          "text": [
            "Wrote model tarball to ampl_output/CYP3A4_cur_delaney_model_915bcd17-6bcd-4619-81df-63f71a5ac3b2.tar.gz\n",
            "rf_estimators: 128, rf_max_depth: 128, rf_max_features: 128, valid_r2: 0.017618790033208875\n",
            "number of features: 1024\n"
          ],
          "name": "stdout"
        },
        {
          "output_type": "stream",
          "text": [
            "2021-04-01 22:15:44,590 Previous dataset split restored\n"
          ],
          "name": "stderr"
        },
        {
          "output_type": "stream",
          "text": [
            "n_cnt [18642.]\n",
            "y_means [5.19196307]\n",
            "y_stds [1.21382351]\n",
            "TIMING: dataset construction took 0.659 s\n",
            "Loading dataset from disk.\n",
            "TIMING: dataset construction took 0.088 s\n",
            "Loading dataset from disk.\n",
            "TIMING: dataset construction took 0.089 s\n",
            "Loading dataset from disk.\n"
          ],
          "name": "stdout"
        },
        {
          "output_type": "stream",
          "text": [
            "2021-04-01 22:16:01,773 Wrote model metadata to file ampl_output/CYP3A4_cur_delaney/RF_ecfp_scaffold_regression/43621a6f-8459-40e8-89a2-6572c202f809/model_metadata.json\n",
            "2021-04-01 22:16:01,963 Wrote model metrics to file ampl_output/CYP3A4_cur_delaney/RF_ecfp_scaffold_regression/43621a6f-8459-40e8-89a2-6572c202f809/model_metrics.json\n"
          ],
          "name": "stderr"
        },
        {
          "output_type": "stream",
          "text": [
            "Wrote model tarball to ampl_output/CYP3A4_cur_delaney_model_43621a6f-8459-40e8-89a2-6572c202f809.tar.gz\n",
            "rf_estimators: 128, rf_max_depth: 128, rf_max_features: 128, valid_r2: 0.014146908631295196\n",
            "number of features: 1024\n"
          ],
          "name": "stdout"
        },
        {
          "output_type": "stream",
          "text": [
            "2021-04-01 22:17:17,313 Previous dataset split restored\n"
          ],
          "name": "stderr"
        },
        {
          "output_type": "stream",
          "text": [
            "n_cnt [18642.]\n",
            "y_means [5.19196307]\n",
            "y_stds [1.21382351]\n",
            "TIMING: dataset construction took 0.655 s\n",
            "Loading dataset from disk.\n",
            "TIMING: dataset construction took 0.088 s\n",
            "Loading dataset from disk.\n",
            "TIMING: dataset construction took 0.087 s\n",
            "Loading dataset from disk.\n"
          ],
          "name": "stdout"
        },
        {
          "output_type": "stream",
          "text": [
            "2021-04-01 22:17:56,490 Wrote model metadata to file ampl_output/CYP3A4_cur_delaney/RF_ecfp_scaffold_regression/cd23bbd0-6f22-4092-b9b7-7fd9b540ff2c/model_metadata.json\n",
            "2021-04-01 22:17:57,874 Wrote model metrics to file ampl_output/CYP3A4_cur_delaney/RF_ecfp_scaffold_regression/cd23bbd0-6f22-4092-b9b7-7fd9b540ff2c/model_metrics.json\n"
          ],
          "name": "stderr"
        },
        {
          "output_type": "stream",
          "text": [
            "Wrote model tarball to ampl_output/CYP3A4_cur_delaney_model_cd23bbd0-6f22-4092-b9b7-7fd9b540ff2c.tar.gz\n",
            "rf_estimators: 128, rf_max_depth: 128, rf_max_features: 128, valid_r2: 0.017903814813814645\n",
            "number of features: 1024\n"
          ],
          "name": "stdout"
        },
        {
          "output_type": "stream",
          "text": [
            "2021-04-01 22:19:13,509 Previous dataset split restored\n"
          ],
          "name": "stderr"
        },
        {
          "output_type": "stream",
          "text": [
            "n_cnt [18642.]\n",
            "y_means [5.19196307]\n",
            "y_stds [1.21382351]\n",
            "TIMING: dataset construction took 0.656 s\n",
            "Loading dataset from disk.\n",
            "TIMING: dataset construction took 0.087 s\n",
            "Loading dataset from disk.\n",
            "TIMING: dataset construction took 0.088 s\n",
            "Loading dataset from disk.\n"
          ],
          "name": "stdout"
        },
        {
          "output_type": "stream",
          "text": [
            "2021-04-01 22:19:21,974 Wrote model metadata to file ampl_output/CYP3A4_cur_delaney/RF_ecfp_scaffold_regression/005320c9-a354-4bb0-a473-090ac9a8b6a9/model_metadata.json\n",
            "2021-04-01 22:19:22,260 Wrote model metrics to file ampl_output/CYP3A4_cur_delaney/RF_ecfp_scaffold_regression/005320c9-a354-4bb0-a473-090ac9a8b6a9/model_metrics.json\n"
          ],
          "name": "stderr"
        },
        {
          "output_type": "stream",
          "text": [
            "Wrote model tarball to ampl_output/CYP3A4_cur_delaney_model_005320c9-a354-4bb0-a473-090ac9a8b6a9.tar.gz\n",
            "rf_estimators: 128, rf_max_depth: 128, rf_max_features: 128, valid_r2: 0.019139945796135427\n",
            "number of features: 1024\n"
          ],
          "name": "stdout"
        },
        {
          "output_type": "stream",
          "text": [
            "2021-04-01 22:20:37,709 Previous dataset split restored\n"
          ],
          "name": "stderr"
        },
        {
          "output_type": "stream",
          "text": [
            "n_cnt [18642.]\n",
            "y_means [5.19196307]\n",
            "y_stds [1.21382351]\n",
            "TIMING: dataset construction took 0.657 s\n",
            "Loading dataset from disk.\n",
            "TIMING: dataset construction took 0.088 s\n",
            "Loading dataset from disk.\n",
            "TIMING: dataset construction took 0.089 s\n",
            "Loading dataset from disk.\n"
          ],
          "name": "stdout"
        },
        {
          "output_type": "stream",
          "text": [
            "2021-04-01 22:21:10,597 Wrote model metadata to file ampl_output/CYP3A4_cur_delaney/RF_ecfp_scaffold_regression/596cc9f0-2448-43bd-bf04-b3ef9e84d80c/model_metadata.json\n",
            "2021-04-01 22:21:11,570 Wrote model metrics to file ampl_output/CYP3A4_cur_delaney/RF_ecfp_scaffold_regression/596cc9f0-2448-43bd-bf04-b3ef9e84d80c/model_metrics.json\n"
          ],
          "name": "stderr"
        },
        {
          "output_type": "stream",
          "text": [
            "Wrote model tarball to ampl_output/CYP3A4_cur_delaney_model_596cc9f0-2448-43bd-bf04-b3ef9e84d80c.tar.gz\n",
            "rf_estimators: 128, rf_max_depth: 128, rf_max_features: 128, valid_r2: 0.016201285636549212\n",
            "number of features: 1024\n"
          ],
          "name": "stdout"
        },
        {
          "output_type": "stream",
          "text": [
            "2021-04-01 22:22:27,120 Previous dataset split restored\n"
          ],
          "name": "stderr"
        },
        {
          "output_type": "stream",
          "text": [
            "n_cnt [18642.]\n",
            "y_means [5.19196307]\n",
            "y_stds [1.21382351]\n",
            "TIMING: dataset construction took 0.663 s\n",
            "Loading dataset from disk.\n",
            "TIMING: dataset construction took 0.089 s\n",
            "Loading dataset from disk.\n",
            "TIMING: dataset construction took 0.087 s\n",
            "Loading dataset from disk.\n"
          ],
          "name": "stdout"
        },
        {
          "output_type": "stream",
          "text": [
            "2021-04-01 22:22:37,010 Wrote model metadata to file ampl_output/CYP3A4_cur_delaney/RF_ecfp_scaffold_regression/ff2a4aba-3b41-4c56-b246-99c0d0f1676d/model_metadata.json\n",
            "2021-04-01 22:22:37,681 Wrote model metrics to file ampl_output/CYP3A4_cur_delaney/RF_ecfp_scaffold_regression/ff2a4aba-3b41-4c56-b246-99c0d0f1676d/model_metrics.json\n"
          ],
          "name": "stderr"
        },
        {
          "output_type": "stream",
          "text": [
            "Wrote model tarball to ampl_output/CYP3A4_cur_delaney_model_ff2a4aba-3b41-4c56-b246-99c0d0f1676d.tar.gz\n",
            "rf_estimators: 128, rf_max_depth: 128, rf_max_features: 128, valid_r2: 0.013679121613869971\n"
          ],
          "name": "stdout"
        }
      ]
    },
    {
      "cell_type": "code",
      "metadata": {
        "id": "EP7Oub5L67o_",
        "colab": {
          "base_uri": "https://localhost:8080/",
          "height": 1000
        },
        "outputId": "b55f9ef2-34b5-4470-f380-2312f07bce2d"
      },
      "source": [
        "perf_df = pd.DataFrame({\"rf_estimators\": rfe_list, \"rf_max_depth\": rfd_list, \"rf_max_features\": rff_list, \"valid_auc_score\": valid_auc_list})\n",
        "perf_df.sort_values(by=\"valid_auc_score\", ascending=False)"
      ],
      "execution_count": null,
      "outputs": [
        {
          "output_type": "execute_result",
          "data": {
            "text/html": [
              "<div>\n",
              "<style scoped>\n",
              "    .dataframe tbody tr th:only-of-type {\n",
              "        vertical-align: middle;\n",
              "    }\n",
              "\n",
              "    .dataframe tbody tr th {\n",
              "        vertical-align: top;\n",
              "    }\n",
              "\n",
              "    .dataframe thead th {\n",
              "        text-align: right;\n",
              "    }\n",
              "</style>\n",
              "<table border=\"1\" class=\"dataframe\">\n",
              "  <thead>\n",
              "    <tr style=\"text-align: right;\">\n",
              "      <th></th>\n",
              "      <th>rf_estimators</th>\n",
              "      <th>rf_max_depth</th>\n",
              "      <th>rf_max_features</th>\n",
              "      <th>valid_r2_score</th>\n",
              "    </tr>\n",
              "  </thead>\n",
              "  <tbody>\n",
              "    <tr>\n",
              "      <th>39</th>\n",
              "      <td>25</td>\n",
              "      <td>157</td>\n",
              "      <td>68</td>\n",
              "      <td>0.021974</td>\n",
              "    </tr>\n",
              "    <tr>\n",
              "      <th>47</th>\n",
              "      <td>32</td>\n",
              "      <td>67</td>\n",
              "      <td>95</td>\n",
              "      <td>0.019140</td>\n",
              "    </tr>\n",
              "    <tr>\n",
              "      <th>27</th>\n",
              "      <td>196</td>\n",
              "      <td>238</td>\n",
              "      <td>249</td>\n",
              "      <td>0.018961</td>\n",
              "    </tr>\n",
              "    <tr>\n",
              "      <th>11</th>\n",
              "      <td>29</td>\n",
              "      <td>156</td>\n",
              "      <td>241</td>\n",
              "      <td>0.018732</td>\n",
              "    </tr>\n",
              "    <tr>\n",
              "      <th>23</th>\n",
              "      <td>33</td>\n",
              "      <td>32</td>\n",
              "      <td>120</td>\n",
              "      <td>0.018601</td>\n",
              "    </tr>\n",
              "    <tr>\n",
              "      <th>31</th>\n",
              "      <td>50</td>\n",
              "      <td>225</td>\n",
              "      <td>25</td>\n",
              "      <td>0.018357</td>\n",
              "    </tr>\n",
              "    <tr>\n",
              "      <th>38</th>\n",
              "      <td>123</td>\n",
              "      <td>196</td>\n",
              "      <td>56</td>\n",
              "      <td>0.018198</td>\n",
              "    </tr>\n",
              "    <tr>\n",
              "      <th>33</th>\n",
              "      <td>154</td>\n",
              "      <td>98</td>\n",
              "      <td>214</td>\n",
              "      <td>0.018165</td>\n",
              "    </tr>\n",
              "    <tr>\n",
              "      <th>26</th>\n",
              "      <td>164</td>\n",
              "      <td>48</td>\n",
              "      <td>246</td>\n",
              "      <td>0.017968</td>\n",
              "    </tr>\n",
              "    <tr>\n",
              "      <th>46</th>\n",
              "      <td>160</td>\n",
              "      <td>69</td>\n",
              "      <td>222</td>\n",
              "      <td>0.017904</td>\n",
              "    </tr>\n",
              "    <tr>\n",
              "      <th>41</th>\n",
              "      <td>243</td>\n",
              "      <td>113</td>\n",
              "      <td>167</td>\n",
              "      <td>0.017720</td>\n",
              "    </tr>\n",
              "    <tr>\n",
              "      <th>15</th>\n",
              "      <td>161</td>\n",
              "      <td>187</td>\n",
              "      <td>222</td>\n",
              "      <td>0.017664</td>\n",
              "    </tr>\n",
              "    <tr>\n",
              "      <th>20</th>\n",
              "      <td>86</td>\n",
              "      <td>116</td>\n",
              "      <td>117</td>\n",
              "      <td>0.017655</td>\n",
              "    </tr>\n",
              "    <tr>\n",
              "      <th>44</th>\n",
              "      <td>97</td>\n",
              "      <td>111</td>\n",
              "      <td>195</td>\n",
              "      <td>0.017619</td>\n",
              "    </tr>\n",
              "    <tr>\n",
              "      <th>28</th>\n",
              "      <td>180</td>\n",
              "      <td>58</td>\n",
              "      <td>49</td>\n",
              "      <td>0.017576</td>\n",
              "    </tr>\n",
              "    <tr>\n",
              "      <th>32</th>\n",
              "      <td>106</td>\n",
              "      <td>244</td>\n",
              "      <td>188</td>\n",
              "      <td>0.017545</td>\n",
              "    </tr>\n",
              "    <tr>\n",
              "      <th>1</th>\n",
              "      <td>74</td>\n",
              "      <td>252</td>\n",
              "      <td>104</td>\n",
              "      <td>0.017541</td>\n",
              "    </tr>\n",
              "    <tr>\n",
              "      <th>10</th>\n",
              "      <td>199</td>\n",
              "      <td>60</td>\n",
              "      <td>107</td>\n",
              "      <td>0.017457</td>\n",
              "    </tr>\n",
              "    <tr>\n",
              "      <th>18</th>\n",
              "      <td>111</td>\n",
              "      <td>72</td>\n",
              "      <td>106</td>\n",
              "      <td>0.017385</td>\n",
              "    </tr>\n",
              "    <tr>\n",
              "      <th>13</th>\n",
              "      <td>246</td>\n",
              "      <td>128</td>\n",
              "      <td>9</td>\n",
              "      <td>0.017291</td>\n",
              "    </tr>\n",
              "    <tr>\n",
              "      <th>36</th>\n",
              "      <td>197</td>\n",
              "      <td>184</td>\n",
              "      <td>56</td>\n",
              "      <td>0.017260</td>\n",
              "    </tr>\n",
              "    <tr>\n",
              "      <th>8</th>\n",
              "      <td>196</td>\n",
              "      <td>136</td>\n",
              "      <td>251</td>\n",
              "      <td>0.017222</td>\n",
              "    </tr>\n",
              "    <tr>\n",
              "      <th>3</th>\n",
              "      <td>76</td>\n",
              "      <td>177</td>\n",
              "      <td>203</td>\n",
              "      <td>0.017201</td>\n",
              "    </tr>\n",
              "    <tr>\n",
              "      <th>0</th>\n",
              "      <td>112</td>\n",
              "      <td>126</td>\n",
              "      <td>146</td>\n",
              "      <td>0.017171</td>\n",
              "    </tr>\n",
              "    <tr>\n",
              "      <th>30</th>\n",
              "      <td>121</td>\n",
              "      <td>119</td>\n",
              "      <td>31</td>\n",
              "      <td>0.017145</td>\n",
              "    </tr>\n",
              "    <tr>\n",
              "      <th>14</th>\n",
              "      <td>228</td>\n",
              "      <td>87</td>\n",
              "      <td>213</td>\n",
              "      <td>0.017025</td>\n",
              "    </tr>\n",
              "    <tr>\n",
              "      <th>22</th>\n",
              "      <td>243</td>\n",
              "      <td>111</td>\n",
              "      <td>91</td>\n",
              "      <td>0.017009</td>\n",
              "    </tr>\n",
              "    <tr>\n",
              "      <th>34</th>\n",
              "      <td>217</td>\n",
              "      <td>246</td>\n",
              "      <td>52</td>\n",
              "      <td>0.016916</td>\n",
              "    </tr>\n",
              "    <tr>\n",
              "      <th>29</th>\n",
              "      <td>232</td>\n",
              "      <td>156</td>\n",
              "      <td>63</td>\n",
              "      <td>0.016865</td>\n",
              "    </tr>\n",
              "    <tr>\n",
              "      <th>25</th>\n",
              "      <td>205</td>\n",
              "      <td>151</td>\n",
              "      <td>110</td>\n",
              "      <td>0.016860</td>\n",
              "    </tr>\n",
              "    <tr>\n",
              "      <th>12</th>\n",
              "      <td>183</td>\n",
              "      <td>222</td>\n",
              "      <td>231</td>\n",
              "      <td>0.016846</td>\n",
              "    </tr>\n",
              "    <tr>\n",
              "      <th>35</th>\n",
              "      <td>254</td>\n",
              "      <td>149</td>\n",
              "      <td>59</td>\n",
              "      <td>0.016793</td>\n",
              "    </tr>\n",
              "    <tr>\n",
              "      <th>5</th>\n",
              "      <td>126</td>\n",
              "      <td>146</td>\n",
              "      <td>105</td>\n",
              "      <td>0.016660</td>\n",
              "    </tr>\n",
              "    <tr>\n",
              "      <th>7</th>\n",
              "      <td>225</td>\n",
              "      <td>115</td>\n",
              "      <td>66</td>\n",
              "      <td>0.016572</td>\n",
              "    </tr>\n",
              "    <tr>\n",
              "      <th>24</th>\n",
              "      <td>254</td>\n",
              "      <td>35</td>\n",
              "      <td>215</td>\n",
              "      <td>0.016558</td>\n",
              "    </tr>\n",
              "    <tr>\n",
              "      <th>40</th>\n",
              "      <td>150</td>\n",
              "      <td>156</td>\n",
              "      <td>77</td>\n",
              "      <td>0.016540</td>\n",
              "    </tr>\n",
              "    <tr>\n",
              "      <th>4</th>\n",
              "      <td>161</td>\n",
              "      <td>33</td>\n",
              "      <td>220</td>\n",
              "      <td>0.016489</td>\n",
              "    </tr>\n",
              "    <tr>\n",
              "      <th>48</th>\n",
              "      <td>154</td>\n",
              "      <td>41</td>\n",
              "      <td>216</td>\n",
              "      <td>0.016201</td>\n",
              "    </tr>\n",
              "    <tr>\n",
              "      <th>19</th>\n",
              "      <td>65</td>\n",
              "      <td>133</td>\n",
              "      <td>169</td>\n",
              "      <td>0.016159</td>\n",
              "    </tr>\n",
              "    <tr>\n",
              "      <th>37</th>\n",
              "      <td>90</td>\n",
              "      <td>252</td>\n",
              "      <td>50</td>\n",
              "      <td>0.016086</td>\n",
              "    </tr>\n",
              "    <tr>\n",
              "      <th>2</th>\n",
              "      <td>197</td>\n",
              "      <td>92</td>\n",
              "      <td>114</td>\n",
              "      <td>0.015946</td>\n",
              "    </tr>\n",
              "    <tr>\n",
              "      <th>17</th>\n",
              "      <td>157</td>\n",
              "      <td>39</td>\n",
              "      <td>36</td>\n",
              "      <td>0.015799</td>\n",
              "    </tr>\n",
              "    <tr>\n",
              "      <th>9</th>\n",
              "      <td>217</td>\n",
              "      <td>27</td>\n",
              "      <td>36</td>\n",
              "      <td>0.015733</td>\n",
              "    </tr>\n",
              "    <tr>\n",
              "      <th>21</th>\n",
              "      <td>69</td>\n",
              "      <td>123</td>\n",
              "      <td>8</td>\n",
              "      <td>0.015361</td>\n",
              "    </tr>\n",
              "    <tr>\n",
              "      <th>43</th>\n",
              "      <td>176</td>\n",
              "      <td>18</td>\n",
              "      <td>148</td>\n",
              "      <td>0.014561</td>\n",
              "    </tr>\n",
              "    <tr>\n",
              "      <th>16</th>\n",
              "      <td>218</td>\n",
              "      <td>20</td>\n",
              "      <td>250</td>\n",
              "      <td>0.014172</td>\n",
              "    </tr>\n",
              "    <tr>\n",
              "      <th>45</th>\n",
              "      <td>100</td>\n",
              "      <td>18</td>\n",
              "      <td>244</td>\n",
              "      <td>0.014147</td>\n",
              "    </tr>\n",
              "    <tr>\n",
              "      <th>49</th>\n",
              "      <td>128</td>\n",
              "      <td>32</td>\n",
              "      <td>29</td>\n",
              "      <td>0.013679</td>\n",
              "    </tr>\n",
              "    <tr>\n",
              "      <th>42</th>\n",
              "      <td>12</td>\n",
              "      <td>25</td>\n",
              "      <td>60</td>\n",
              "      <td>0.010567</td>\n",
              "    </tr>\n",
              "    <tr>\n",
              "      <th>6</th>\n",
              "      <td>182</td>\n",
              "      <td>8</td>\n",
              "      <td>101</td>\n",
              "      <td>0.010194</td>\n",
              "    </tr>\n",
              "  </tbody>\n",
              "</table>\n",
              "</div>"
            ],
            "text/plain": [
              "    rf_estimators  rf_max_depth  rf_max_features  valid_r2_score\n",
              "39             25           157               68        0.021974\n",
              "47             32            67               95        0.019140\n",
              "27            196           238              249        0.018961\n",
              "11             29           156              241        0.018732\n",
              "23             33            32              120        0.018601\n",
              "31             50           225               25        0.018357\n",
              "38            123           196               56        0.018198\n",
              "33            154            98              214        0.018165\n",
              "26            164            48              246        0.017968\n",
              "46            160            69              222        0.017904\n",
              "41            243           113              167        0.017720\n",
              "15            161           187              222        0.017664\n",
              "20             86           116              117        0.017655\n",
              "44             97           111              195        0.017619\n",
              "28            180            58               49        0.017576\n",
              "32            106           244              188        0.017545\n",
              "1              74           252              104        0.017541\n",
              "10            199            60              107        0.017457\n",
              "18            111            72              106        0.017385\n",
              "13            246           128                9        0.017291\n",
              "36            197           184               56        0.017260\n",
              "8             196           136              251        0.017222\n",
              "3              76           177              203        0.017201\n",
              "0             112           126              146        0.017171\n",
              "30            121           119               31        0.017145\n",
              "14            228            87              213        0.017025\n",
              "22            243           111               91        0.017009\n",
              "34            217           246               52        0.016916\n",
              "29            232           156               63        0.016865\n",
              "25            205           151              110        0.016860\n",
              "12            183           222              231        0.016846\n",
              "35            254           149               59        0.016793\n",
              "5             126           146              105        0.016660\n",
              "7             225           115               66        0.016572\n",
              "24            254            35              215        0.016558\n",
              "40            150           156               77        0.016540\n",
              "4             161            33              220        0.016489\n",
              "48            154            41              216        0.016201\n",
              "19             65           133              169        0.016159\n",
              "37             90           252               50        0.016086\n",
              "2             197            92              114        0.015946\n",
              "17            157            39               36        0.015799\n",
              "9             217            27               36        0.015733\n",
              "21             69           123                8        0.015361\n",
              "43            176            18              148        0.014561\n",
              "16            218            20              250        0.014172\n",
              "45            100            18              244        0.014147\n",
              "49            128            32               29        0.013679\n",
              "42             12            25               60        0.010567\n",
              "6             182             8              101        0.010194"
            ]
          },
          "metadata": {
            "tags": []
          },
          "execution_count": 50
        }
      ]
    },
    {
      "cell_type": "code",
      "metadata": {
        "id": "hL40_7KF6-BT",
        "colab": {
          "base_uri": "https://localhost:8080/",
          "height": 434
        },
        "outputId": "7195681e-83a2-46c3-d6ad-3354e92ffedc"
      },
      "source": [
        "fig, ax = plt.subplots(1,3,figsize=(21,7))\n",
        "sns.scatterplot(data=perf_df, x=\"rf_estimators\", y=\"valid_auc_score\", ax=ax[0])\n",
        "sns.scatterplot(data=perf_df, x=\"rf_max_depth\", y=\"valid_auc_score\", ax=ax[1])\n",
        "sns.scatterplot(data=perf_df, x=\"rf_max_features\", y=\"valid_auc_score\", ax=ax[2])\n",
        "fig.tight_layout()"
      ],
      "execution_count": null,
      "outputs": [
        {
          "output_type": "display_data",
          "data": {
            "image/png": "[encoded data removed]",
            "text/plain": [
              "<Figure size 1512x504 with 3 Axes>"
            ]
          },
          "metadata": {
            "tags": []
          }
        }
      ]
    },
    {
      "cell_type": "markdown",
      "metadata": {
        "id": "Za2roo8B7AfH"
      },
      "source": [
        "### Bayesian search"
      ]
    },
    {
      "cell_type": "code",
      "metadata": {
        "id": "iIHILV2R7Fz4"
      },
      "source": [
        "#define loss function\n",
        "def lossfn(p):\n",
        "    params[\"rf_estimators\"] = int(p[\"rf_estimator\"])\n",
        "    params[\"rf_max_depth\"] = int(p[\"rf_depth\"])\n",
        "    params[\"rf_max_features\"] = int(p[\"rf_feature\"])\n",
        "    \n",
        "    tparam = parse.wrapper(params)\n",
        "    pl = mp.ModelPipeline(tparam)\n",
        "    pl.train_model()\n",
        "    perf_data = pl.model_wrapper.get_perf_data(subset=\"valid\", epoch_label=\"best\")\n",
        "    pred_results = perf_data.get_prediction_results()\n",
        "    auc = pred_results['roc_auc_score']\n",
        "    return {'loss': 1-auc, \n",
        "            'status': STATUS_OK, \n",
        "            'model': tparam.model_tarball_path, \n",
        "            'rf_estimator': params[\"rf_estimators\"],\n",
        "            'rf_depth': params[\"rf_max_depth\"],\n",
        "            'rf_feature': params[\"rf_max_features\"]}\n",
        "\n",
        "space = {\n",
        "    \"rf_estimator\": hp.uniform(\"rf_estimator\", 8, 256),\n",
        "    \"rf_depth\": hp.uniform(\"rf_depth\", 8, 256),\n",
        "    \"rf_feature\": hp.uniform(\"rf_feature\", 8, 256)\n",
        "}"
      ],
      "execution_count": null,
      "outputs": []
    },
    {
      "cell_type": "code",
      "metadata": {
        "id": "ndFs9n6f7G-Y",
        "colab": {
          "base_uri": "https://localhost:8080/"
        },
        "outputId": "d1ccbaa8-9da4-47c3-fefa-e80a5f096eaa"
      },
      "source": [
        "trials = Trials()\n",
        "best = fmin(lossfn, space, algo=tpe.suggest, max_evals=20, trials=trials)"
      ],
      "execution_count": null,
      "outputs": [
        {
          "output_type": "stream",
          "text": [
            "number of features: 1024\n",
            "  0%|          | 0/20 [01:11<?, ?it/s, best loss: ?]"
          ],
          "name": "stdout"
        },
        {
          "output_type": "stream",
          "text": [
            "2021-04-01 22:25:24,282 Previous dataset split restored\n"
          ],
          "name": "stderr"
        },
        {
          "output_type": "stream",
          "text": [
            "n_cnt\n",
            "[18642.]\n",
            "y_means\n",
            "[5.19196307]\n",
            "y_stds\n",
            "[1.21382351]\n",
            "TIMING: dataset construction took 0.661 s\n",
            "Loading dataset from disk.\n",
            "TIMING: dataset construction took 0.089 s\n",
            "Loading dataset from disk.\n",
            "TIMING: dataset construction took 0.091 s\n",
            "Loading dataset from disk.\n",
            "  0%|          | 0/20 [01:17<?, ?it/s, best loss: ?]"
          ],
          "name": "stdout"
        },
        {
          "output_type": "stream",
          "text": [
            "2021-04-01 22:25:47,627 Wrote model metadata to file ampl_output/CYP3A4_cur_delaney/RF_ecfp_scaffold_regression/be0f71e6-a1a7-4e9c-b1be-438336c557fd/model_metadata.json\n"
          ],
          "name": "stderr"
        },
        {
          "output_type": "stream",
          "text": [
            "Wrote model tarball to ampl_output/CYP3A4_cur_delaney_model_be0f71e6-a1a7-4e9c-b1be-438336c557fd.tar.gz\n",
            "  0%|          | 0/20 [01:39<?, ?it/s, best loss: ?]"
          ],
          "name": "stdout"
        },
        {
          "output_type": "stream",
          "text": [
            "2021-04-01 22:25:48,276 Wrote model metrics to file ampl_output/CYP3A4_cur_delaney/RF_ecfp_scaffold_regression/be0f71e6-a1a7-4e9c-b1be-438336c557fd/model_metrics.json\n"
          ],
          "name": "stderr"
        },
        {
          "output_type": "stream",
          "text": [
            "number of features: 1024\n",
            "  5%|▌         | 1/20 [02:50<31:36, 99.84s/it, best loss: 0.9830315736597234]"
          ],
          "name": "stdout"
        },
        {
          "output_type": "stream",
          "text": [
            "2021-04-01 22:27:04,049 Previous dataset split restored\n"
          ],
          "name": "stderr"
        },
        {
          "output_type": "stream",
          "text": [
            "n_cnt\n",
            "[18642.]\n",
            "y_means\n",
            "[5.19196307]\n",
            "y_stds\n",
            "[1.21382351]\n",
            "TIMING: dataset construction took 0.676 s\n",
            "Loading dataset from disk.\n",
            "TIMING: dataset construction took 0.091 s\n",
            "Loading dataset from disk.\n",
            "TIMING: dataset construction took 0.089 s\n",
            "Loading dataset from disk.\n",
            "  5%|▌         | 1/20 [02:57<31:36, 99.84s/it, best loss: 0.9830315736597234]"
          ],
          "name": "stdout"
        },
        {
          "output_type": "stream",
          "text": [
            "2021-04-01 22:27:47,118 Wrote model metadata to file ampl_output/CYP3A4_cur_delaney/RF_ecfp_scaffold_regression/d21398fd-4ec1-46e8-b0b3-41b65beb7a1b/model_metadata.json\n"
          ],
          "name": "stderr"
        },
        {
          "output_type": "stream",
          "text": [
            "Wrote model tarball to ampl_output/CYP3A4_cur_delaney_model_d21398fd-4ec1-46e8-b0b3-41b65beb7a1b.tar.gz\n",
            "  5%|▌         | 1/20 [03:40<31:36, 99.84s/it, best loss: 0.9830315736597234]"
          ],
          "name": "stdout"
        },
        {
          "output_type": "stream",
          "text": [
            "2021-04-01 22:27:48,709 Wrote model metrics to file ampl_output/CYP3A4_cur_delaney/RF_ecfp_scaffold_regression/d21398fd-4ec1-46e8-b0b3-41b65beb7a1b/model_metrics.json\n"
          ],
          "name": "stderr"
        },
        {
          "output_type": "stream",
          "text": [
            "number of features: 1024\n",
            " 10%|█         | 2/20 [04:51<31:48, 106.02s/it, best loss: 0.9830315736597234]"
          ],
          "name": "stdout"
        },
        {
          "output_type": "stream",
          "text": [
            "2021-04-01 22:29:04,428 Previous dataset split restored\n"
          ],
          "name": "stderr"
        },
        {
          "output_type": "stream",
          "text": [
            "n_cnt\n",
            "[18642.]\n",
            "y_means\n",
            "[5.19196307]\n",
            "y_stds\n",
            "[1.21382351]\n",
            "TIMING: dataset construction took 0.660 s\n",
            "Loading dataset from disk.\n",
            "TIMING: dataset construction took 0.089 s\n",
            "Loading dataset from disk.\n",
            "TIMING: dataset construction took 0.089 s\n",
            "Loading dataset from disk.\n",
            " 10%|█         | 2/20 [04:57<31:48, 106.02s/it, best loss: 0.9830315736597234]"
          ],
          "name": "stdout"
        },
        {
          "output_type": "stream",
          "text": [
            "2021-04-01 22:29:44,174 Wrote model metadata to file ampl_output/CYP3A4_cur_delaney/RF_ecfp_scaffold_regression/b4950c8a-9ee6-4879-8461-e7272a945396/model_metadata.json\n"
          ],
          "name": "stderr"
        },
        {
          "output_type": "stream",
          "text": [
            "Wrote model tarball to ampl_output/CYP3A4_cur_delaney_model_b4950c8a-9ee6-4879-8461-e7272a945396.tar.gz\n",
            " 10%|█         | 2/20 [05:38<31:48, 106.02s/it, best loss: 0.9830315736597234]"
          ],
          "name": "stdout"
        },
        {
          "output_type": "stream",
          "text": [
            "2021-04-01 22:29:46,458 Wrote model metrics to file ampl_output/CYP3A4_cur_delaney/RF_ecfp_scaffold_regression/b4950c8a-9ee6-4879-8461-e7272a945396/model_metrics.json\n"
          ],
          "name": "stderr"
        },
        {
          "output_type": "stream",
          "text": [
            "number of features: 1024\n",
            " 15%|█▌        | 3/20 [06:49<31:02, 109.55s/it, best loss: 0.9830315736597234]"
          ],
          "name": "stdout"
        },
        {
          "output_type": "stream",
          "text": [
            "2021-04-01 22:31:02,325 Previous dataset split restored\n"
          ],
          "name": "stderr"
        },
        {
          "output_type": "stream",
          "text": [
            "n_cnt\n",
            "[18642.]\n",
            "y_means\n",
            "[5.19196307]\n",
            "y_stds\n",
            "[1.21382351]\n",
            "TIMING: dataset construction took 0.664 s\n",
            "Loading dataset from disk.\n",
            "TIMING: dataset construction took 0.092 s\n",
            "Loading dataset from disk.\n",
            "TIMING: dataset construction took 0.093 s\n",
            "Loading dataset from disk.\n",
            " 15%|█▌        | 3/20 [06:55<31:02, 109.55s/it, best loss: 0.9830315736597234]"
          ],
          "name": "stdout"
        },
        {
          "output_type": "stream",
          "text": [
            "2021-04-01 22:31:09,524 Wrote model metadata to file ampl_output/CYP3A4_cur_delaney/RF_ecfp_scaffold_regression/e5738617-dd2a-4ca6-860d-526ee7af0f10/model_metadata.json\n"
          ],
          "name": "stderr"
        },
        {
          "output_type": "stream",
          "text": [
            "Wrote model tarball to ampl_output/CYP3A4_cur_delaney_model_e5738617-dd2a-4ca6-860d-526ee7af0f10.tar.gz\n",
            " 15%|█▌        | 3/20 [07:01<31:02, 109.55s/it, best loss: 0.9830315736597234]"
          ],
          "name": "stdout"
        },
        {
          "output_type": "stream",
          "text": [
            "2021-04-01 22:31:09,580 Wrote model metrics to file ampl_output/CYP3A4_cur_delaney/RF_ecfp_scaffold_regression/e5738617-dd2a-4ca6-860d-526ee7af0f10/model_metrics.json\n"
          ],
          "name": "stderr"
        },
        {
          "output_type": "stream",
          "text": [
            "number of features: 1024\n",
            " 20%|██        | 4/20 [08:12<27:05, 101.60s/it, best loss: 0.9830315736597234]"
          ],
          "name": "stdout"
        },
        {
          "output_type": "stream",
          "text": [
            "2021-04-01 22:32:25,125 Previous dataset split restored\n"
          ],
          "name": "stderr"
        },
        {
          "output_type": "stream",
          "text": [
            "n_cnt\n",
            "[18642.]\n",
            "y_means\n",
            "[5.19196307]\n",
            "y_stds\n",
            "[1.21382351]\n",
            "TIMING: dataset construction took 0.663 s\n",
            "Loading dataset from disk.\n",
            "TIMING: dataset construction took 0.088 s\n",
            "Loading dataset from disk.\n",
            "TIMING: dataset construction took 0.093 s\n",
            "Loading dataset from disk.\n",
            " 20%|██        | 4/20 [08:18<27:05, 101.60s/it, best loss: 0.9830315736597234]"
          ],
          "name": "stdout"
        },
        {
          "output_type": "stream",
          "text": [
            "2021-04-01 22:32:54,894 Wrote model metadata to file ampl_output/CYP3A4_cur_delaney/RF_ecfp_scaffold_regression/af8010a0-2467-4ff7-b9f0-98a8d40267e7/model_metadata.json\n"
          ],
          "name": "stderr"
        },
        {
          "output_type": "stream",
          "text": [
            "Wrote model tarball to ampl_output/CYP3A4_cur_delaney_model_af8010a0-2467-4ff7-b9f0-98a8d40267e7.tar.gz\n",
            " 20%|██        | 4/20 [08:47<27:05, 101.60s/it, best loss: 0.9830315736597234]"
          ],
          "name": "stdout"
        },
        {
          "output_type": "stream",
          "text": [
            "2021-04-01 22:32:55,977 Wrote model metrics to file ampl_output/CYP3A4_cur_delaney/RF_ecfp_scaffold_regression/af8010a0-2467-4ff7-b9f0-98a8d40267e7/model_metrics.json\n"
          ],
          "name": "stderr"
        },
        {
          "output_type": "stream",
          "text": [
            "number of features: 1024\n",
            " 25%|██▌       | 5/20 [09:59<25:45, 103.04s/it, best loss: 0.9830315736597234]"
          ],
          "name": "stdout"
        },
        {
          "output_type": "stream",
          "text": [
            "2021-04-01 22:34:12,063 Previous dataset split restored\n"
          ],
          "name": "stderr"
        },
        {
          "output_type": "stream",
          "text": [
            "n_cnt\n",
            "[18642.]\n",
            "y_means\n",
            "[5.19196307]\n",
            "y_stds\n",
            "[1.21382351]\n",
            "TIMING: dataset construction took 0.656 s\n",
            "Loading dataset from disk.\n",
            "TIMING: dataset construction took 0.086 s\n",
            "Loading dataset from disk.\n",
            "TIMING: dataset construction took 0.089 s\n",
            "Loading dataset from disk.\n",
            " 25%|██▌       | 5/20 [10:05<25:45, 103.04s/it, best loss: 0.9830315736597234]"
          ],
          "name": "stdout"
        },
        {
          "output_type": "stream",
          "text": [
            "2021-04-01 22:34:49,234 Wrote model metadata to file ampl_output/CYP3A4_cur_delaney/RF_ecfp_scaffold_regression/c0fbd212-e242-433f-b0ac-f46c26a519fe/model_metadata.json\n"
          ],
          "name": "stderr"
        },
        {
          "output_type": "stream",
          "text": [
            "Wrote model tarball to ampl_output/CYP3A4_cur_delaney_model_c0fbd212-e242-433f-b0ac-f46c26a519fe.tar.gz\n",
            " 25%|██▌       | 5/20 [10:42<25:45, 103.04s/it, best loss: 0.9830315736597234]"
          ],
          "name": "stdout"
        },
        {
          "output_type": "stream",
          "text": [
            "2021-04-01 22:34:50,615 Wrote model metrics to file ampl_output/CYP3A4_cur_delaney/RF_ecfp_scaffold_regression/c0fbd212-e242-433f-b0ac-f46c26a519fe/model_metrics.json\n"
          ],
          "name": "stderr"
        },
        {
          "output_type": "stream",
          "text": [
            "number of features: 1024\n",
            " 30%|███       | 6/20 [11:53<24:51, 106.52s/it, best loss: 0.9814497066360043]"
          ],
          "name": "stdout"
        },
        {
          "output_type": "stream",
          "text": [
            "2021-04-01 22:36:06,744 Previous dataset split restored\n"
          ],
          "name": "stderr"
        },
        {
          "output_type": "stream",
          "text": [
            "n_cnt\n",
            "[18642.]\n",
            "y_means\n",
            "[5.19196307]\n",
            "y_stds\n",
            "[1.21382351]\n",
            "TIMING: dataset construction took 0.647 s\n",
            "Loading dataset from disk.\n",
            "TIMING: dataset construction took 0.087 s\n",
            "Loading dataset from disk.\n",
            "TIMING: dataset construction took 0.086 s\n",
            "Loading dataset from disk.\n",
            " 30%|███       | 6/20 [11:59<24:51, 106.52s/it, best loss: 0.9814497066360043]"
          ],
          "name": "stdout"
        },
        {
          "output_type": "stream",
          "text": [
            "2021-04-01 22:36:15,594 Wrote model metadata to file ampl_output/CYP3A4_cur_delaney/RF_ecfp_scaffold_regression/60a2211f-78b5-413d-875e-544c0c2e8c32/model_metadata.json\n"
          ],
          "name": "stderr"
        },
        {
          "output_type": "stream",
          "text": [
            "Wrote model tarball to ampl_output/CYP3A4_cur_delaney_model_60a2211f-78b5-413d-875e-544c0c2e8c32.tar.gz\n",
            " 30%|███       | 6/20 [12:07<24:51, 106.52s/it, best loss: 0.9814497066360043]"
          ],
          "name": "stdout"
        },
        {
          "output_type": "stream",
          "text": [
            "2021-04-01 22:36:16,050 Wrote model metrics to file ampl_output/CYP3A4_cur_delaney/RF_ecfp_scaffold_regression/60a2211f-78b5-413d-875e-544c0c2e8c32/model_metrics.json\n"
          ],
          "name": "stderr"
        },
        {
          "output_type": "stream",
          "text": [
            "number of features: 1024\n",
            " 35%|███▌      | 7/20 [13:18<21:42, 100.19s/it, best loss: 0.9814497066360043]"
          ],
          "name": "stdout"
        },
        {
          "output_type": "stream",
          "text": [
            "2021-04-01 22:37:31,810 Previous dataset split restored\n"
          ],
          "name": "stderr"
        },
        {
          "output_type": "stream",
          "text": [
            "n_cnt\n",
            "[18642.]\n",
            "y_means\n",
            "[5.19196307]\n",
            "y_stds\n",
            "[1.21382351]\n",
            "TIMING: dataset construction took 0.650 s\n",
            "Loading dataset from disk.\n",
            "TIMING: dataset construction took 0.085 s\n",
            "Loading dataset from disk.\n",
            "TIMING: dataset construction took 0.085 s\n",
            "Loading dataset from disk.\n",
            " 35%|███▌      | 7/20 [13:24<21:42, 100.19s/it, best loss: 0.9814497066360043]"
          ],
          "name": "stdout"
        },
        {
          "output_type": "stream",
          "text": [
            "2021-04-01 22:38:05,145 Wrote model metadata to file ampl_output/CYP3A4_cur_delaney/RF_ecfp_scaffold_regression/5f1e7734-c44e-4431-a5d5-cb3f0b140d5b/model_metadata.json\n"
          ],
          "name": "stderr"
        },
        {
          "output_type": "stream",
          "text": [
            "Wrote model tarball to ampl_output/CYP3A4_cur_delaney_model_5f1e7734-c44e-4431-a5d5-cb3f0b140d5b.tar.gz\n",
            " 35%|███▌      | 7/20 [13:58<21:42, 100.19s/it, best loss: 0.9814497066360043]"
          ],
          "name": "stdout"
        },
        {
          "output_type": "stream",
          "text": [
            "2021-04-01 22:38:06,501 Wrote model metrics to file ampl_output/CYP3A4_cur_delaney/RF_ecfp_scaffold_regression/5f1e7734-c44e-4431-a5d5-cb3f0b140d5b/model_metrics.json\n"
          ],
          "name": "stderr"
        },
        {
          "output_type": "stream",
          "text": [
            "number of features: 1024\n",
            " 40%|████      | 8/20 [15:09<20:39, 103.27s/it, best loss: 0.9814497066360043]"
          ],
          "name": "stdout"
        },
        {
          "output_type": "stream",
          "text": [
            "2021-04-01 22:39:22,023 Previous dataset split restored\n"
          ],
          "name": "stderr"
        },
        {
          "output_type": "stream",
          "text": [
            "n_cnt\n",
            "[18642.]\n",
            "y_means\n",
            "[5.19196307]\n",
            "y_stds\n",
            "[1.21382351]\n",
            "TIMING: dataset construction took 0.650 s\n",
            "Loading dataset from disk.\n",
            "TIMING: dataset construction took 0.088 s\n",
            "Loading dataset from disk.\n",
            "TIMING: dataset construction took 0.088 s\n",
            "Loading dataset from disk.\n",
            " 40%|████      | 8/20 [15:14<20:39, 103.27s/it, best loss: 0.9814497066360043]"
          ],
          "name": "stdout"
        },
        {
          "output_type": "stream",
          "text": [
            "2021-04-01 22:40:00,464 Wrote model metadata to file ampl_output/CYP3A4_cur_delaney/RF_ecfp_scaffold_regression/08bc9e30-56f6-4c39-8b82-a5c5534fba14/model_metadata.json\n"
          ],
          "name": "stderr"
        },
        {
          "output_type": "stream",
          "text": [
            "Wrote model tarball to ampl_output/CYP3A4_cur_delaney_model_08bc9e30-56f6-4c39-8b82-a5c5534fba14.tar.gz\n",
            " 40%|████      | 8/20 [15:54<20:39, 103.27s/it, best loss: 0.9814497066360043]"
          ],
          "name": "stdout"
        },
        {
          "output_type": "stream",
          "text": [
            "2021-04-01 22:40:02,848 Wrote model metrics to file ampl_output/CYP3A4_cur_delaney/RF_ecfp_scaffold_regression/08bc9e30-56f6-4c39-8b82-a5c5534fba14/model_metrics.json\n"
          ],
          "name": "stderr"
        },
        {
          "output_type": "stream",
          "text": [
            "number of features: 1024\n",
            " 45%|████▌     | 9/20 [17:05<19:39, 107.22s/it, best loss: 0.9814497066360043]"
          ],
          "name": "stdout"
        },
        {
          "output_type": "stream",
          "text": [
            "2021-04-01 22:41:18,842 Previous dataset split restored\n"
          ],
          "name": "stderr"
        },
        {
          "output_type": "stream",
          "text": [
            "n_cnt\n",
            "[18642.]\n",
            "y_means\n",
            "[5.19196307]\n",
            "y_stds\n",
            "[1.21382351]\n",
            "TIMING: dataset construction took 0.655 s\n",
            "Loading dataset from disk.\n",
            "TIMING: dataset construction took 0.086 s\n",
            "Loading dataset from disk.\n",
            "TIMING: dataset construction took 0.086 s\n",
            "Loading dataset from disk.\n",
            " 45%|████▌     | 9/20 [17:11<19:39, 107.22s/it, best loss: 0.9814497066360043]"
          ],
          "name": "stdout"
        },
        {
          "output_type": "stream",
          "text": [
            "2021-04-01 22:41:24,535 Wrote model metadata to file ampl_output/CYP3A4_cur_delaney/RF_ecfp_scaffold_regression/8f3424af-94af-4e37-8861-8903ae506ab7/model_metadata.json\n"
          ],
          "name": "stderr"
        },
        {
          "output_type": "stream",
          "text": [
            "Wrote model tarball to ampl_output/CYP3A4_cur_delaney_model_8f3424af-94af-4e37-8861-8903ae506ab7.tar.gz\n",
            " 45%|████▌     | 9/20 [17:16<19:39, 107.22s/it, best loss: 0.9814497066360043]"
          ],
          "name": "stdout"
        },
        {
          "output_type": "stream",
          "text": [
            "2021-04-01 22:41:24,651 Wrote model metrics to file ampl_output/CYP3A4_cur_delaney/RF_ecfp_scaffold_regression/8f3424af-94af-4e37-8861-8903ae506ab7/model_metrics.json\n"
          ],
          "name": "stderr"
        },
        {
          "output_type": "stream",
          "text": [
            "number of features: 1024\n",
            " 50%|█████     | 10/20 [18:27<16:35, 99.57s/it, best loss: 0.9814497066360043]"
          ],
          "name": "stdout"
        },
        {
          "output_type": "stream",
          "text": [
            "2021-04-01 22:42:40,168 Previous dataset split restored\n"
          ],
          "name": "stderr"
        },
        {
          "output_type": "stream",
          "text": [
            "n_cnt\n",
            "[18642.]\n",
            "y_means\n",
            "[5.19196307]\n",
            "y_stds\n",
            "[1.21382351]\n",
            "TIMING: dataset construction took 0.658 s\n",
            "Loading dataset from disk.\n",
            "TIMING: dataset construction took 0.086 s\n",
            "Loading dataset from disk.\n",
            "TIMING: dataset construction took 0.086 s\n",
            "Loading dataset from disk.\n",
            " 50%|█████     | 10/20 [18:33<16:35, 99.57s/it, best loss: 0.9814497066360043]"
          ],
          "name": "stdout"
        },
        {
          "output_type": "stream",
          "text": [
            "2021-04-01 22:42:54,593 Wrote model metadata to file ampl_output/CYP3A4_cur_delaney/RF_ecfp_scaffold_regression/2edfc039-abc2-4a07-924d-cd0e20f8ac04/model_metadata.json\n"
          ],
          "name": "stderr"
        },
        {
          "output_type": "stream",
          "text": [
            "Wrote model tarball to ampl_output/CYP3A4_cur_delaney_model_2edfc039-abc2-4a07-924d-cd0e20f8ac04.tar.gz\n",
            " 50%|█████     | 10/20 [18:47<16:35, 99.57s/it, best loss: 0.9814497066360043]"
          ],
          "name": "stdout"
        },
        {
          "output_type": "stream",
          "text": [
            "2021-04-01 22:42:55,992 Wrote model metrics to file ampl_output/CYP3A4_cur_delaney/RF_ecfp_scaffold_regression/2edfc039-abc2-4a07-924d-cd0e20f8ac04/model_metrics.json\n"
          ],
          "name": "stderr"
        },
        {
          "output_type": "stream",
          "text": [
            "number of features: 1024\n",
            " 55%|█████▌    | 11/20 [19:58<14:33, 97.11s/it, best loss: 0.9814497066360043]"
          ],
          "name": "stdout"
        },
        {
          "output_type": "stream",
          "text": [
            "2021-04-01 22:44:11,801 Previous dataset split restored\n"
          ],
          "name": "stderr"
        },
        {
          "output_type": "stream",
          "text": [
            "n_cnt\n",
            "[18642.]\n",
            "y_means\n",
            "[5.19196307]\n",
            "y_stds\n",
            "[1.21382351]\n",
            "TIMING: dataset construction took 0.647 s\n",
            "Loading dataset from disk.\n",
            "TIMING: dataset construction took 0.089 s\n",
            "Loading dataset from disk.\n",
            "TIMING: dataset construction took 0.088 s\n",
            "Loading dataset from disk.\n",
            " 55%|█████▌    | 11/20 [20:04<14:33, 97.11s/it, best loss: 0.9814497066360043]"
          ],
          "name": "stdout"
        },
        {
          "output_type": "stream",
          "text": [
            "2021-04-01 22:44:24,363 Wrote model metadata to file ampl_output/CYP3A4_cur_delaney/RF_ecfp_scaffold_regression/0e7b85b4-f783-47d1-9e77-87d8e6ce72cc/model_metadata.json\n"
          ],
          "name": "stderr"
        },
        {
          "output_type": "stream",
          "text": [
            "Wrote model tarball to ampl_output/CYP3A4_cur_delaney_model_0e7b85b4-f783-47d1-9e77-87d8e6ce72cc.tar.gz\n",
            " 55%|█████▌    | 11/20 [20:17<14:33, 97.11s/it, best loss: 0.9814497066360043]"
          ],
          "name": "stdout"
        },
        {
          "output_type": "stream",
          "text": [
            "2021-04-01 22:44:25,536 Wrote model metrics to file ampl_output/CYP3A4_cur_delaney/RF_ecfp_scaffold_regression/0e7b85b4-f783-47d1-9e77-87d8e6ce72cc/model_metrics.json\n"
          ],
          "name": "stderr"
        },
        {
          "output_type": "stream",
          "text": [
            "number of features: 1024\n",
            " 60%|██████    | 12/20 [21:28<12:38, 94.84s/it, best loss: 0.9814497066360043]"
          ],
          "name": "stdout"
        },
        {
          "output_type": "stream",
          "text": [
            "2021-04-01 22:45:41,192 Previous dataset split restored\n"
          ],
          "name": "stderr"
        },
        {
          "output_type": "stream",
          "text": [
            "n_cnt\n",
            "[18642.]\n",
            "y_means\n",
            "[5.19196307]\n",
            "y_stds\n",
            "[1.21382351]\n",
            "TIMING: dataset construction took 0.678 s\n",
            "Loading dataset from disk.\n",
            "TIMING: dataset construction took 0.088 s\n",
            "Loading dataset from disk.\n",
            "TIMING: dataset construction took 0.090 s\n",
            "Loading dataset from disk.\n",
            " 60%|██████    | 12/20 [21:34<12:38, 94.84s/it, best loss: 0.9814497066360043]"
          ],
          "name": "stdout"
        },
        {
          "output_type": "stream",
          "text": [
            "2021-04-01 22:46:05,128 Wrote model metadata to file ampl_output/CYP3A4_cur_delaney/RF_ecfp_scaffold_regression/08c8d2dd-cd40-429b-8a5f-c71790c7ee67/model_metadata.json\n"
          ],
          "name": "stderr"
        },
        {
          "output_type": "stream",
          "text": [
            "Wrote model tarball to ampl_output/CYP3A4_cur_delaney_model_08c8d2dd-cd40-429b-8a5f-c71790c7ee67.tar.gz\n",
            " 60%|██████    | 12/20 [21:57<12:38, 94.84s/it, best loss: 0.9814497066360043]"
          ],
          "name": "stdout"
        },
        {
          "output_type": "stream",
          "text": [
            "2021-04-01 22:46:05,700 Wrote model metrics to file ampl_output/CYP3A4_cur_delaney/RF_ecfp_scaffold_regression/08c8d2dd-cd40-429b-8a5f-c71790c7ee67/model_metrics.json\n"
          ],
          "name": "stderr"
        },
        {
          "output_type": "stream",
          "text": [
            "number of features: 1024\n",
            " 65%|██████▌   | 13/20 [23:08<11:15, 96.43s/it, best loss: 0.9814497066360043]"
          ],
          "name": "stdout"
        },
        {
          "output_type": "stream",
          "text": [
            "2021-04-01 22:47:21,352 Previous dataset split restored\n"
          ],
          "name": "stderr"
        },
        {
          "output_type": "stream",
          "text": [
            "n_cnt\n",
            "[18642.]\n",
            "y_means\n",
            "[5.19196307]\n",
            "y_stds\n",
            "[1.21382351]\n",
            "TIMING: dataset construction took 0.651 s\n",
            "Loading dataset from disk.\n",
            "TIMING: dataset construction took 0.093 s\n",
            "Loading dataset from disk.\n",
            "TIMING: dataset construction took 0.087 s\n",
            "Loading dataset from disk.\n",
            " 65%|██████▌   | 13/20 [23:14<11:15, 96.43s/it, best loss: 0.9814497066360043]"
          ],
          "name": "stdout"
        },
        {
          "output_type": "stream",
          "text": [
            "2021-04-01 22:47:59,169 Wrote model metadata to file ampl_output/CYP3A4_cur_delaney/RF_ecfp_scaffold_regression/6b4f45f3-97a1-4e60-bca8-e629d555f70b/model_metadata.json\n"
          ],
          "name": "stderr"
        },
        {
          "output_type": "stream",
          "text": [
            "Wrote model tarball to ampl_output/CYP3A4_cur_delaney_model_6b4f45f3-97a1-4e60-bca8-e629d555f70b.tar.gz\n",
            " 65%|██████▌   | 13/20 [23:51<11:15, 96.43s/it, best loss: 0.9814497066360043]"
          ],
          "name": "stdout"
        },
        {
          "output_type": "stream",
          "text": [
            "2021-04-01 22:48:00,387 Wrote model metrics to file ampl_output/CYP3A4_cur_delaney/RF_ecfp_scaffold_regression/6b4f45f3-97a1-4e60-bca8-e629d555f70b/model_metrics.json\n"
          ],
          "name": "stderr"
        },
        {
          "output_type": "stream",
          "text": [
            "number of features: 1024\n",
            " 70%|███████   | 14/20 [25:03<10:11, 101.91s/it, best loss: 0.9814497066360043]"
          ],
          "name": "stdout"
        },
        {
          "output_type": "stream",
          "text": [
            "2021-04-01 22:49:16,200 Previous dataset split restored\n"
          ],
          "name": "stderr"
        },
        {
          "output_type": "stream",
          "text": [
            "n_cnt\n",
            "[18642.]\n",
            "y_means\n",
            "[5.19196307]\n",
            "y_stds\n",
            "[1.21382351]\n",
            "TIMING: dataset construction took 0.656 s\n",
            "Loading dataset from disk.\n",
            "TIMING: dataset construction took 0.089 s\n",
            "Loading dataset from disk.\n",
            "TIMING: dataset construction took 0.087 s\n",
            "Loading dataset from disk.\n",
            " 70%|███████   | 14/20 [25:09<10:11, 101.91s/it, best loss: 0.9814497066360043]"
          ],
          "name": "stdout"
        },
        {
          "output_type": "stream",
          "text": [
            "2021-04-01 22:49:27,755 Wrote model metadata to file ampl_output/CYP3A4_cur_delaney/RF_ecfp_scaffold_regression/6956f770-8135-49eb-90d6-e3342bc2eb7f/model_metadata.json\n"
          ],
          "name": "stderr"
        },
        {
          "output_type": "stream",
          "text": [
            "Wrote model tarball to ampl_output/CYP3A4_cur_delaney_model_6956f770-8135-49eb-90d6-e3342bc2eb7f.tar.gz\n",
            " 70%|███████   | 14/20 [25:20<10:11, 101.91s/it, best loss: 0.9814497066360043]"
          ],
          "name": "stdout"
        },
        {
          "output_type": "stream",
          "text": [
            "2021-04-01 22:49:28,796 Wrote model metrics to file ampl_output/CYP3A4_cur_delaney/RF_ecfp_scaffold_regression/6956f770-8135-49eb-90d6-e3342bc2eb7f/model_metrics.json\n"
          ],
          "name": "stderr"
        },
        {
          "output_type": "stream",
          "text": [
            "number of features: 1024\n",
            " 75%|███████▌  | 15/20 [26:31<08:09, 97.86s/it, best loss: 0.9814497066360043]"
          ],
          "name": "stdout"
        },
        {
          "output_type": "stream",
          "text": [
            "2021-04-01 22:50:44,415 Previous dataset split restored\n"
          ],
          "name": "stderr"
        },
        {
          "output_type": "stream",
          "text": [
            "n_cnt\n",
            "[18642.]\n",
            "y_means\n",
            "[5.19196307]\n",
            "y_stds\n",
            "[1.21382351]\n",
            "TIMING: dataset construction took 0.658 s\n",
            "Loading dataset from disk.\n",
            "TIMING: dataset construction took 0.088 s\n",
            "Loading dataset from disk.\n",
            "TIMING: dataset construction took 0.089 s\n",
            "Loading dataset from disk.\n",
            " 75%|███████▌  | 15/20 [26:37<08:09, 97.86s/it, best loss: 0.9814497066360043]"
          ],
          "name": "stdout"
        },
        {
          "output_type": "stream",
          "text": [
            "2021-04-01 22:51:17,133 Wrote model metadata to file ampl_output/CYP3A4_cur_delaney/RF_ecfp_scaffold_regression/6d8e9e3b-eb2f-4788-ac18-e07ddb991ece/model_metadata.json\n"
          ],
          "name": "stderr"
        },
        {
          "output_type": "stream",
          "text": [
            "Wrote model tarball to ampl_output/CYP3A4_cur_delaney_model_6d8e9e3b-eb2f-4788-ac18-e07ddb991ece.tar.gz\n",
            " 75%|███████▌  | 15/20 [27:10<08:09, 97.86s/it, best loss: 0.9814497066360043]"
          ],
          "name": "stdout"
        },
        {
          "output_type": "stream",
          "text": [
            "2021-04-01 22:51:19,084 Wrote model metrics to file ampl_output/CYP3A4_cur_delaney/RF_ecfp_scaffold_regression/6d8e9e3b-eb2f-4788-ac18-e07ddb991ece/model_metrics.json\n"
          ],
          "name": "stderr"
        },
        {
          "output_type": "stream",
          "text": [
            "number of features: 1024\n",
            " 80%|████████  | 16/20 [28:21<06:46, 101.60s/it, best loss: 0.9814497066360043]"
          ],
          "name": "stdout"
        },
        {
          "output_type": "stream",
          "text": [
            "2021-04-01 22:52:34,502 Previous dataset split restored\n"
          ],
          "name": "stderr"
        },
        {
          "output_type": "stream",
          "text": [
            "n_cnt\n",
            "[18642.]\n",
            "y_means\n",
            "[5.19196307]\n",
            "y_stds\n",
            "[1.21382351]\n",
            "TIMING: dataset construction took 0.657 s\n",
            "Loading dataset from disk.\n",
            "TIMING: dataset construction took 0.090 s\n",
            "Loading dataset from disk.\n",
            "TIMING: dataset construction took 0.087 s\n",
            "Loading dataset from disk.\n",
            " 80%|████████  | 16/20 [28:27<06:46, 101.60s/it, best loss: 0.9814497066360043]"
          ],
          "name": "stdout"
        },
        {
          "output_type": "stream",
          "text": [
            "2021-04-01 22:52:52,652 Wrote model metadata to file ampl_output/CYP3A4_cur_delaney/RF_ecfp_scaffold_regression/00b92abc-7df2-45bd-ba1e-3eca5c90132b/model_metadata.json\n"
          ],
          "name": "stderr"
        },
        {
          "output_type": "stream",
          "text": [
            "Wrote model tarball to ampl_output/CYP3A4_cur_delaney_model_00b92abc-7df2-45bd-ba1e-3eca5c90132b.tar.gz\n",
            " 80%|████████  | 16/20 [28:46<06:46, 101.60s/it, best loss: 0.9814497066360043]"
          ],
          "name": "stdout"
        },
        {
          "output_type": "stream",
          "text": [
            "2021-04-01 22:52:54,840 Wrote model metrics to file ampl_output/CYP3A4_cur_delaney/RF_ecfp_scaffold_regression/00b92abc-7df2-45bd-ba1e-3eca5c90132b/model_metrics.json\n"
          ],
          "name": "stderr"
        },
        {
          "output_type": "stream",
          "text": [
            "number of features: 1024\n",
            " 85%|████████▌ | 17/20 [29:57<04:59, 99.84s/it, best loss: 0.9814497066360043]"
          ],
          "name": "stdout"
        },
        {
          "output_type": "stream",
          "text": [
            "2021-04-01 22:54:10,509 Previous dataset split restored\n"
          ],
          "name": "stderr"
        },
        {
          "output_type": "stream",
          "text": [
            "n_cnt\n",
            "[18642.]\n",
            "y_means\n",
            "[5.19196307]\n",
            "y_stds\n",
            "[1.21382351]\n",
            "TIMING: dataset construction took 0.653 s\n",
            "Loading dataset from disk.\n",
            "TIMING: dataset construction took 0.086 s\n",
            "Loading dataset from disk.\n",
            "TIMING: dataset construction took 0.092 s\n",
            "Loading dataset from disk.\n",
            " 85%|████████▌ | 17/20 [30:03<04:59, 99.84s/it, best loss: 0.9814497066360043]"
          ],
          "name": "stdout"
        },
        {
          "output_type": "stream",
          "text": [
            "2021-04-01 22:54:25,388 Wrote model metadata to file ampl_output/CYP3A4_cur_delaney/RF_ecfp_scaffold_regression/68247bbd-0ecd-4f19-af04-04a88d53040f/model_metadata.json\n"
          ],
          "name": "stderr"
        },
        {
          "output_type": "stream",
          "text": [
            "Wrote model tarball to ampl_output/CYP3A4_cur_delaney_model_68247bbd-0ecd-4f19-af04-04a88d53040f.tar.gz\n",
            " 85%|████████▌ | 17/20 [30:17<04:59, 99.84s/it, best loss: 0.9814497066360043]"
          ],
          "name": "stdout"
        },
        {
          "output_type": "stream",
          "text": [
            "2021-04-01 22:54:26,075 Wrote model metrics to file ampl_output/CYP3A4_cur_delaney/RF_ecfp_scaffold_regression/68247bbd-0ecd-4f19-af04-04a88d53040f/model_metrics.json\n"
          ],
          "name": "stderr"
        },
        {
          "output_type": "stream",
          "text": [
            "number of features: 1024\n",
            " 90%|█████████ | 18/20 [31:28<03:14, 97.25s/it, best loss: 0.9814497066360043]"
          ],
          "name": "stdout"
        },
        {
          "output_type": "stream",
          "text": [
            "2021-04-01 22:55:41,730 Previous dataset split restored\n"
          ],
          "name": "stderr"
        },
        {
          "output_type": "stream",
          "text": [
            "n_cnt\n",
            "[18642.]\n",
            "y_means\n",
            "[5.19196307]\n",
            "y_stds\n",
            "[1.21382351]\n",
            "TIMING: dataset construction took 0.649 s\n",
            "Loading dataset from disk.\n",
            "TIMING: dataset construction took 0.087 s\n",
            "Loading dataset from disk.\n",
            "TIMING: dataset construction took 0.086 s\n",
            "Loading dataset from disk.\n",
            " 90%|█████████ | 18/20 [31:34<03:14, 97.25s/it, best loss: 0.9814497066360043]"
          ],
          "name": "stdout"
        },
        {
          "output_type": "stream",
          "text": [
            "2021-04-01 22:56:00,792 Wrote model metadata to file ampl_output/CYP3A4_cur_delaney/RF_ecfp_scaffold_regression/646537e5-3544-4292-b8f5-6fe82257c311/model_metadata.json\n"
          ],
          "name": "stderr"
        },
        {
          "output_type": "stream",
          "text": [
            "Wrote model tarball to ampl_output/CYP3A4_cur_delaney_model_646537e5-3544-4292-b8f5-6fe82257c311.tar.gz\n",
            " 90%|█████████ | 18/20 [31:53<03:14, 97.25s/it, best loss: 0.9814497066360043]"
          ],
          "name": "stdout"
        },
        {
          "output_type": "stream",
          "text": [
            "2021-04-01 22:56:02,005 Wrote model metrics to file ampl_output/CYP3A4_cur_delaney/RF_ecfp_scaffold_regression/646537e5-3544-4292-b8f5-6fe82257c311/model_metrics.json\n"
          ],
          "name": "stderr"
        },
        {
          "output_type": "stream",
          "text": [
            "number of features: 1024\n",
            " 95%|█████████▌| 19/20 [33:04<01:36, 96.85s/it, best loss: 0.9814497066360043]"
          ],
          "name": "stdout"
        },
        {
          "output_type": "stream",
          "text": [
            "2021-04-01 22:57:17,253 Previous dataset split restored\n"
          ],
          "name": "stderr"
        },
        {
          "output_type": "stream",
          "text": [
            "n_cnt\n",
            "[18642.]\n",
            "y_means\n",
            "[5.19196307]\n",
            "y_stds\n",
            "[1.21382351]\n",
            "TIMING: dataset construction took 0.655 s\n",
            "Loading dataset from disk.\n",
            "TIMING: dataset construction took 0.084 s\n",
            "Loading dataset from disk.\n",
            "TIMING: dataset construction took 0.085 s\n",
            "Loading dataset from disk.\n",
            " 95%|█████████▌| 19/20 [33:10<01:36, 96.85s/it, best loss: 0.9814497066360043]"
          ],
          "name": "stdout"
        },
        {
          "output_type": "stream",
          "text": [
            "2021-04-01 22:57:27,100 Wrote model metadata to file ampl_output/CYP3A4_cur_delaney/RF_ecfp_scaffold_regression/65a788c8-ef4a-4816-a856-5e4fed4eeb4c/model_metadata.json\n"
          ],
          "name": "stderr"
        },
        {
          "output_type": "stream",
          "text": [
            "Wrote model tarball to ampl_output/CYP3A4_cur_delaney_model_65a788c8-ef4a-4816-a856-5e4fed4eeb4c.tar.gz\n",
            " 95%|█████████▌| 19/20 [33:19<01:36, 96.85s/it, best loss: 0.9814497066360043]"
          ],
          "name": "stdout"
        },
        {
          "output_type": "stream",
          "text": [
            "2021-04-01 22:57:27,878 Wrote model metrics to file ampl_output/CYP3A4_cur_delaney/RF_ecfp_scaffold_regression/65a788c8-ef4a-4816-a856-5e4fed4eeb4c/model_metrics.json\n"
          ],
          "name": "stderr"
        },
        {
          "output_type": "stream",
          "text": [
            "100%|██████████| 20/20 [33:19<00:00, 99.97s/it, best loss: 0.9814497066360043]\n"
          ],
          "name": "stdout"
        }
      ]
    },
    {
      "cell_type": "code",
      "metadata": {
        "id": "sC-LVt3VtPDc",
        "colab": {
          "base_uri": "https://localhost:8080/",
          "height": 635
        },
        "outputId": "6ab6f20a-5c9e-4be0-d04e-dc58f4c9eaf3"
      },
      "source": [
        "r2_list = [1-trials.trials[i][\"result\"][\"loss\"] for i in range(len(trials.trials))]\n",
        "fig, ax = plt.subplots(1,1,figsize=(10,10))\n",
        "sns.lineplot(x=list(range(1,len(trials.trials)+1)), y=r2_list, ax=ax)\n",
        "ax.set_ylim(0.2,0.6)"
      ],
      "execution_count": null,
      "outputs": [
        {
          "output_type": "execute_result",
          "data": {
            "text/plain": [
              "(0.2, 0.6)"
            ]
          },
          "metadata": {
            "tags": []
          },
          "execution_count": 54
        },
        {
          "output_type": "display_data",
          "data": {
            "image/png": "[encoded data removed]",
            "text/plain": [
              "<Figure size 720x720 with 1 Axes>"
            ]
          },
          "metadata": {
            "tags": []
          }
        }
      ]
    },
    {
      "cell_type": "code",
      "metadata": {
        "id": "-2_z-vFLtUYb"
      },
      "source": [
        "rfe_list = [trials.trials[i][\"result\"][\"rf_estimator\"] for i in range(len(trials.trials))]\n",
        "rfd_list = [trials.trials[i][\"result\"][\"rf_depth\"] for i in range(len(trials.trials))]\n",
        "rff_list = [trials.trials[i][\"result\"][\"rf_feature\"] for i in range(len(trials.trials))]"
      ],
      "execution_count": null,
      "outputs": []
    },
    {
      "cell_type": "code",
      "metadata": {
        "id": "sDMxDhM5tXHa",
        "colab": {
          "base_uri": "https://localhost:8080/",
          "height": 669
        },
        "outputId": "2cd306e9-74bb-411c-a93e-4c0eac0aa196"
      },
      "source": [
        "perf_df = pd.DataFrame({\"rf_estimators\": rfe_list, \"rf_max_depth\": rfd_list, \"rf_max_features\": rff_list, \"valid_auc_score\": auc_list})\n",
        "perf_df.sort_values(by=\"valid_auc_score\", ascending=False)"
      ],
      "execution_count": null,
      "outputs": [
        {
          "output_type": "execute_result",
          "data": {
            "text/html": [
              "<div>\n",
              "<style scoped>\n",
              "    .dataframe tbody tr th:only-of-type {\n",
              "        vertical-align: middle;\n",
              "    }\n",
              "\n",
              "    .dataframe tbody tr th {\n",
              "        vertical-align: top;\n",
              "    }\n",
              "\n",
              "    .dataframe thead th {\n",
              "        text-align: right;\n",
              "    }\n",
              "</style>\n",
              "<table border=\"1\" class=\"dataframe\">\n",
              "  <thead>\n",
              "    <tr style=\"text-align: right;\">\n",
              "      <th></th>\n",
              "      <th>rf_estimators</th>\n",
              "      <th>rf_max_depth</th>\n",
              "      <th>rf_max_features</th>\n",
              "      <th>valid_r2_score</th>\n",
              "    </tr>\n",
              "  </thead>\n",
              "  <tbody>\n",
              "    <tr>\n",
              "      <th>5</th>\n",
              "      <td>147</td>\n",
              "      <td>232</td>\n",
              "      <td>220</td>\n",
              "      <td>0.018550</td>\n",
              "    </tr>\n",
              "    <tr>\n",
              "      <th>15</th>\n",
              "      <td>213</td>\n",
              "      <td>75</td>\n",
              "      <td>115</td>\n",
              "      <td>0.017457</td>\n",
              "    </tr>\n",
              "    <tr>\n",
              "      <th>11</th>\n",
              "      <td>118</td>\n",
              "      <td>93</td>\n",
              "      <td>38</td>\n",
              "      <td>0.017258</td>\n",
              "    </tr>\n",
              "    <tr>\n",
              "      <th>10</th>\n",
              "      <td>140</td>\n",
              "      <td>92</td>\n",
              "      <td>40</td>\n",
              "      <td>0.017161</td>\n",
              "    </tr>\n",
              "    <tr>\n",
              "      <th>16</th>\n",
              "      <td>220</td>\n",
              "      <td>97</td>\n",
              "      <td>32</td>\n",
              "      <td>0.017096</td>\n",
              "    </tr>\n",
              "    <tr>\n",
              "      <th>12</th>\n",
              "      <td>123</td>\n",
              "      <td>31</td>\n",
              "      <td>208</td>\n",
              "      <td>0.016971</td>\n",
              "    </tr>\n",
              "    <tr>\n",
              "      <th>0</th>\n",
              "      <td>114</td>\n",
              "      <td>37</td>\n",
              "      <td>200</td>\n",
              "      <td>0.016968</td>\n",
              "    </tr>\n",
              "    <tr>\n",
              "      <th>7</th>\n",
              "      <td>143</td>\n",
              "      <td>239</td>\n",
              "      <td>192</td>\n",
              "      <td>0.016953</td>\n",
              "    </tr>\n",
              "    <tr>\n",
              "      <th>18</th>\n",
              "      <td>120</td>\n",
              "      <td>94</td>\n",
              "      <td>97</td>\n",
              "      <td>0.016913</td>\n",
              "    </tr>\n",
              "    <tr>\n",
              "      <th>3</th>\n",
              "      <td>20</td>\n",
              "      <td>19</td>\n",
              "      <td>201</td>\n",
              "      <td>0.016819</td>\n",
              "    </tr>\n",
              "    <tr>\n",
              "      <th>6</th>\n",
              "      <td>47</td>\n",
              "      <td>85</td>\n",
              "      <td>58</td>\n",
              "      <td>0.016466</td>\n",
              "    </tr>\n",
              "    <tr>\n",
              "      <th>13</th>\n",
              "      <td>133</td>\n",
              "      <td>90</td>\n",
              "      <td>248</td>\n",
              "      <td>0.016443</td>\n",
              "    </tr>\n",
              "    <tr>\n",
              "      <th>1</th>\n",
              "      <td>169</td>\n",
              "      <td>247</td>\n",
              "      <td>225</td>\n",
              "      <td>0.016324</td>\n",
              "    </tr>\n",
              "    <tr>\n",
              "      <th>8</th>\n",
              "      <td>244</td>\n",
              "      <td>233</td>\n",
              "      <td>121</td>\n",
              "      <td>0.016224</td>\n",
              "    </tr>\n",
              "    <tr>\n",
              "      <th>14</th>\n",
              "      <td>104</td>\n",
              "      <td>94</td>\n",
              "      <td>36</td>\n",
              "      <td>0.016201</td>\n",
              "    </tr>\n",
              "    <tr>\n",
              "      <th>2</th>\n",
              "      <td>234</td>\n",
              "      <td>207</td>\n",
              "      <td>134</td>\n",
              "      <td>0.016152</td>\n",
              "    </tr>\n",
              "    <tr>\n",
              "      <th>4</th>\n",
              "      <td>122</td>\n",
              "      <td>74</td>\n",
              "      <td>202</td>\n",
              "      <td>0.015427</td>\n",
              "    </tr>\n",
              "    <tr>\n",
              "      <th>17</th>\n",
              "      <td>71</td>\n",
              "      <td>210</td>\n",
              "      <td>125</td>\n",
              "      <td>0.015319</td>\n",
              "    </tr>\n",
              "    <tr>\n",
              "      <th>19</th>\n",
              "      <td>77</td>\n",
              "      <td>229</td>\n",
              "      <td>37</td>\n",
              "      <td>0.014612</td>\n",
              "    </tr>\n",
              "    <tr>\n",
              "      <th>9</th>\n",
              "      <td>12</td>\n",
              "      <td>62</td>\n",
              "      <td>37</td>\n",
              "      <td>0.014466</td>\n",
              "    </tr>\n",
              "  </tbody>\n",
              "</table>\n",
              "</div>"
            ],
            "text/plain": [
              "    rf_estimators  rf_max_depth  rf_max_features  valid_r2_score\n",
              "5             147           232              220        0.018550\n",
              "15            213            75              115        0.017457\n",
              "11            118            93               38        0.017258\n",
              "10            140            92               40        0.017161\n",
              "16            220            97               32        0.017096\n",
              "12            123            31              208        0.016971\n",
              "0             114            37              200        0.016968\n",
              "7             143           239              192        0.016953\n",
              "18            120            94               97        0.016913\n",
              "3              20            19              201        0.016819\n",
              "6              47            85               58        0.016466\n",
              "13            133            90              248        0.016443\n",
              "1             169           247              225        0.016324\n",
              "8             244           233              121        0.016224\n",
              "14            104            94               36        0.016201\n",
              "2             234           207              134        0.016152\n",
              "4             122            74              202        0.015427\n",
              "17             71           210              125        0.015319\n",
              "19             77           229               37        0.014612\n",
              "9              12            62               37        0.014466"
            ]
          },
          "metadata": {
            "tags": []
          },
          "execution_count": 56
        }
      ]
    },
    {
      "cell_type": "markdown",
      "metadata": {
        "id": "XB0K5BimtYDS"
      },
      "source": [
        "#### Save Bayesian optimization trial object and continue later"
      ]
    },
    {
      "cell_type": "code",
      "metadata": {
        "id": "VzXDDEF_r8h8"
      },
      "source": [
        "# save the trial object\n",
        "trial_file = os.path.join(\"hp_trial.pkl\")\n",
        "with open(trial_file, \"wb\") as f:\n",
        "    pickle.dump(trials, f)"
      ],
      "execution_count": null,
      "outputs": []
    },
    {
      "cell_type": "code",
      "metadata": {
        "id": "jSWVhsjfsINl"
      },
      "source": [
        "# load the trial object\n",
        "with open(trial_file, \"rb\") as f:\n",
        "    new_trials = pickle.load(f)"
      ],
      "execution_count": null,
      "outputs": []
    },
    {
      "cell_type": "code",
      "metadata": {
        "id": "IXcOynF7sLMn",
        "colab": {
          "base_uri": "https://localhost:8080/"
        },
        "outputId": "9bb5741f-17fd-4038-fcf2-a41ca77a9e2b"
      },
      "source": [
        "# continue HPO\n",
        "best = fmin(lossfn, space, algo=tpe.suggest, max_evals=50, trials=new_trials)"
      ],
      "execution_count": null,
      "outputs": [
        {
          "output_type": "stream",
          "text": [
            "number of features: 1024\n",
            "  0%|          | 0/30 [01:11<?, ?it/s, best loss: ?]"
          ],
          "name": "stdout"
        },
        {
          "output_type": "stream",
          "text": [
            "2021-04-01 23:06:50,464 Previous dataset split restored\n"
          ],
          "name": "stderr"
        },
        {
          "output_type": "stream",
          "text": [
            "n_cnt\n",
            "[18642.]\n",
            "y_means\n",
            "[5.19196307]\n",
            "y_stds\n",
            "[1.21382351]\n",
            "TIMING: dataset construction took 0.651 s\n",
            "Loading dataset from disk.\n",
            "TIMING: dataset construction took 0.086 s\n",
            "Loading dataset from disk.\n",
            "TIMING: dataset construction took 0.087 s\n",
            "Loading dataset from disk.\n",
            "  0%|          | 0/30 [01:17<?, ?it/s, best loss: ?]"
          ],
          "name": "stdout"
        },
        {
          "output_type": "stream",
          "text": [
            "2021-04-01 23:07:28,605 Wrote model metadata to file ampl_output/CYP3A4_cur_delaney/RF_ecfp_scaffold_regression/842cfc54-6c15-4a46-b815-17926e515164/model_metadata.json\n"
          ],
          "name": "stderr"
        },
        {
          "output_type": "stream",
          "text": [
            "Wrote model tarball to ampl_output/CYP3A4_cur_delaney_model_842cfc54-6c15-4a46-b815-17926e515164.tar.gz\n",
            "  0%|          | 0/30 [01:55<?, ?it/s, best loss: ?]"
          ],
          "name": "stdout"
        },
        {
          "output_type": "stream",
          "text": [
            "2021-04-01 23:07:30,478 Wrote model metrics to file ampl_output/CYP3A4_cur_delaney/RF_ecfp_scaffold_regression/842cfc54-6c15-4a46-b815-17926e515164/model_metrics.json\n"
          ],
          "name": "stderr"
        },
        {
          "output_type": "stream",
          "text": [
            "number of features: 1024\n",
            "  3%|▎         | 1/30 [03:06<55:58, 115.82s/it, best loss: 0.9814497066360043]"
          ],
          "name": "stdout"
        },
        {
          "output_type": "stream",
          "text": [
            "2021-04-01 23:08:45,973 Previous dataset split restored\n"
          ],
          "name": "stderr"
        },
        {
          "output_type": "stream",
          "text": [
            "n_cnt\n",
            "[18642.]\n",
            "y_means\n",
            "[5.19196307]\n",
            "y_stds\n",
            "[1.21382351]\n",
            "TIMING: dataset construction took 0.677 s\n",
            "Loading dataset from disk.\n",
            "TIMING: dataset construction took 0.089 s\n",
            "Loading dataset from disk.\n",
            "TIMING: dataset construction took 0.090 s\n",
            "Loading dataset from disk.\n",
            "  3%|▎         | 1/30 [03:12<55:58, 115.82s/it, best loss: 0.9814497066360043]"
          ],
          "name": "stdout"
        },
        {
          "output_type": "stream",
          "text": [
            "2021-04-01 23:09:23,022 Wrote model metadata to file ampl_output/CYP3A4_cur_delaney/RF_ecfp_scaffold_regression/53c7c1de-2571-4ffc-921e-09cf3811beb6/model_metadata.json\n"
          ],
          "name": "stderr"
        },
        {
          "output_type": "stream",
          "text": [
            "Wrote model tarball to ampl_output/CYP3A4_cur_delaney_model_53c7c1de-2571-4ffc-921e-09cf3811beb6.tar.gz\n",
            "  3%|▎         | 1/30 [03:50<55:58, 115.82s/it, best loss: 0.9814497066360043]"
          ],
          "name": "stdout"
        },
        {
          "output_type": "stream",
          "text": [
            "2021-04-01 23:09:24,724 Wrote model metrics to file ampl_output/CYP3A4_cur_delaney/RF_ecfp_scaffold_regression/53c7c1de-2571-4ffc-921e-09cf3811beb6/model_metrics.json\n"
          ],
          "name": "stderr"
        },
        {
          "output_type": "stream",
          "text": [
            "number of features: 1024\n",
            "  7%|▋         | 2/30 [05:01<53:49, 115.34s/it, best loss: 0.9814497066360043]"
          ],
          "name": "stdout"
        },
        {
          "output_type": "stream",
          "text": [
            "2021-04-01 23:10:40,381 Previous dataset split restored\n"
          ],
          "name": "stderr"
        },
        {
          "output_type": "stream",
          "text": [
            "n_cnt\n",
            "[18642.]\n",
            "y_means\n",
            "[5.19196307]\n",
            "y_stds\n",
            "[1.21382351]\n",
            "TIMING: dataset construction took 0.650 s\n",
            "Loading dataset from disk.\n",
            "TIMING: dataset construction took 0.086 s\n",
            "Loading dataset from disk.\n",
            "TIMING: dataset construction took 0.084 s\n",
            "Loading dataset from disk.\n",
            "  7%|▋         | 2/30 [05:07<53:49, 115.34s/it, best loss: 0.9814497066360043]"
          ],
          "name": "stdout"
        },
        {
          "output_type": "stream",
          "text": [
            "2021-04-01 23:11:18,188 Wrote model metadata to file ampl_output/CYP3A4_cur_delaney/RF_ecfp_scaffold_regression/d5fd236e-a74c-473e-b735-5c5757582f07/model_metadata.json\n"
          ],
          "name": "stderr"
        },
        {
          "output_type": "stream",
          "text": [
            "Wrote model tarball to ampl_output/CYP3A4_cur_delaney_model_d5fd236e-a74c-473e-b735-5c5757582f07.tar.gz\n",
            "  7%|▋         | 2/30 [05:45<53:49, 115.34s/it, best loss: 0.9814497066360043]"
          ],
          "name": "stdout"
        },
        {
          "output_type": "stream",
          "text": [
            "2021-04-01 23:11:19,887 Wrote model metrics to file ampl_output/CYP3A4_cur_delaney/RF_ecfp_scaffold_regression/d5fd236e-a74c-473e-b735-5c5757582f07/model_metrics.json\n"
          ],
          "name": "stderr"
        },
        {
          "output_type": "stream",
          "text": [
            "number of features: 1024\n",
            " 10%|█         | 3/30 [06:56<51:52, 115.29s/it, best loss: 0.9814497066360043]"
          ],
          "name": "stdout"
        },
        {
          "output_type": "stream",
          "text": [
            "2021-04-01 23:12:35,524 Previous dataset split restored\n"
          ],
          "name": "stderr"
        },
        {
          "output_type": "stream",
          "text": [
            "n_cnt\n",
            "[18642.]\n",
            "y_means\n",
            "[5.19196307]\n",
            "y_stds\n",
            "[1.21382351]\n",
            "TIMING: dataset construction took 0.703 s\n",
            "Loading dataset from disk.\n",
            "TIMING: dataset construction took 0.096 s\n",
            "Loading dataset from disk.\n",
            "TIMING: dataset construction took 0.099 s\n",
            "Loading dataset from disk.\n",
            " 10%|█         | 3/30 [07:02<51:52, 115.29s/it, best loss: 0.9814497066360043]"
          ],
          "name": "stdout"
        },
        {
          "output_type": "stream",
          "text": [
            "2021-04-01 23:13:21,740 Wrote model metadata to file ampl_output/CYP3A4_cur_delaney/RF_ecfp_scaffold_regression/8339ca4a-d73a-4b56-8693-5407c7c24434/model_metadata.json\n"
          ],
          "name": "stderr"
        },
        {
          "output_type": "stream",
          "text": [
            "Wrote model tarball to ampl_output/CYP3A4_cur_delaney_model_8339ca4a-d73a-4b56-8693-5407c7c24434.tar.gz\n",
            " 10%|█         | 3/30 [07:48<51:52, 115.29s/it, best loss: 0.9814497066360043]"
          ],
          "name": "stdout"
        },
        {
          "output_type": "stream",
          "text": [
            "2021-04-01 23:13:23,276 Wrote model metrics to file ampl_output/CYP3A4_cur_delaney/RF_ecfp_scaffold_regression/8339ca4a-d73a-4b56-8693-5407c7c24434/model_metrics.json\n"
          ],
          "name": "stderr"
        },
        {
          "output_type": "stream",
          "text": [
            "number of features: 1024\n",
            " 13%|█▎        | 4/30 [08:59<51:00, 117.72s/it, best loss: 0.9814497066360043]"
          ],
          "name": "stdout"
        },
        {
          "output_type": "stream",
          "text": [
            "2021-04-01 23:14:38,596 Previous dataset split restored\n"
          ],
          "name": "stderr"
        },
        {
          "output_type": "stream",
          "text": [
            "n_cnt\n",
            "[18642.]\n",
            "y_means\n",
            "[5.19196307]\n",
            "y_stds\n",
            "[1.21382351]\n",
            "TIMING: dataset construction took 0.645 s\n",
            "Loading dataset from disk.\n",
            "TIMING: dataset construction took 0.086 s\n",
            "Loading dataset from disk.\n",
            "TIMING: dataset construction took 0.085 s\n",
            "Loading dataset from disk.\n",
            " 13%|█▎        | 4/30 [09:05<51:00, 117.72s/it, best loss: 0.9814497066360043]"
          ],
          "name": "stdout"
        },
        {
          "output_type": "stream",
          "text": [
            "2021-04-01 23:15:18,591 Wrote model metadata to file ampl_output/CYP3A4_cur_delaney/RF_ecfp_scaffold_regression/387cd2f5-db2a-4649-8bf3-5aeee3475a87/model_metadata.json\n"
          ],
          "name": "stderr"
        },
        {
          "output_type": "stream",
          "text": [
            "Wrote model tarball to ampl_output/CYP3A4_cur_delaney_model_387cd2f5-db2a-4649-8bf3-5aeee3475a87.tar.gz\n",
            " 13%|█▎        | 4/30 [09:45<51:00, 117.72s/it, best loss: 0.9814497066360043]"
          ],
          "name": "stdout"
        },
        {
          "output_type": "stream",
          "text": [
            "2021-04-01 23:15:20,460 Wrote model metrics to file ampl_output/CYP3A4_cur_delaney/RF_ecfp_scaffold_regression/387cd2f5-db2a-4649-8bf3-5aeee3475a87/model_metrics.json\n"
          ],
          "name": "stderr"
        },
        {
          "output_type": "stream",
          "text": [
            "number of features: 1024\n",
            " 17%|█▋        | 5/30 [10:57<48:59, 117.56s/it, best loss: 0.9814497066360043]"
          ],
          "name": "stdout"
        },
        {
          "output_type": "stream",
          "text": [
            "2021-04-01 23:16:36,326 Previous dataset split restored\n"
          ],
          "name": "stderr"
        },
        {
          "output_type": "stream",
          "text": [
            "n_cnt\n",
            "[18642.]\n",
            "y_means\n",
            "[5.19196307]\n",
            "y_stds\n",
            "[1.21382351]\n",
            "TIMING: dataset construction took 0.649 s\n",
            "Loading dataset from disk.\n",
            "TIMING: dataset construction took 0.085 s\n",
            "Loading dataset from disk.\n",
            "TIMING: dataset construction took 0.085 s\n",
            "Loading dataset from disk.\n",
            " 17%|█▋        | 5/30 [11:03<48:59, 117.56s/it, best loss: 0.9814497066360043]"
          ],
          "name": "stdout"
        },
        {
          "output_type": "stream",
          "text": [
            "2021-04-01 23:17:18,443 Wrote model metadata to file ampl_output/CYP3A4_cur_delaney/RF_ecfp_scaffold_regression/6efeba8d-ffaf-483e-a268-df640dbc081c/model_metadata.json\n"
          ],
          "name": "stderr"
        },
        {
          "output_type": "stream",
          "text": [
            "Wrote model tarball to ampl_output/CYP3A4_cur_delaney_model_6efeba8d-ffaf-483e-a268-df640dbc081c.tar.gz\n",
            " 17%|█▋        | 5/30 [11:45<48:59, 117.56s/it, best loss: 0.9814497066360043]"
          ],
          "name": "stdout"
        },
        {
          "output_type": "stream",
          "text": [
            "2021-04-01 23:17:19,924 Wrote model metrics to file ampl_output/CYP3A4_cur_delaney/RF_ecfp_scaffold_regression/6efeba8d-ffaf-483e-a268-df640dbc081c/model_metrics.json\n"
          ],
          "name": "stderr"
        },
        {
          "output_type": "stream",
          "text": [
            "number of features: 1024\n",
            " 20%|██        | 6/30 [12:56<47:15, 118.13s/it, best loss: 0.9814497066360043]"
          ],
          "name": "stdout"
        },
        {
          "output_type": "stream",
          "text": [
            "2021-04-01 23:18:35,526 Previous dataset split restored\n"
          ],
          "name": "stderr"
        },
        {
          "output_type": "stream",
          "text": [
            "n_cnt\n",
            "[18642.]\n",
            "y_means\n",
            "[5.19196307]\n",
            "y_stds\n",
            "[1.21382351]\n",
            "TIMING: dataset construction took 0.645 s\n",
            "Loading dataset from disk.\n",
            "TIMING: dataset construction took 0.088 s\n",
            "Loading dataset from disk.\n",
            "TIMING: dataset construction took 0.085 s\n",
            "Loading dataset from disk.\n",
            " 20%|██        | 6/30 [13:02<47:15, 118.13s/it, best loss: 0.9814497066360043]"
          ],
          "name": "stdout"
        },
        {
          "output_type": "stream",
          "text": [
            "2021-04-01 23:18:50,271 Wrote model metadata to file ampl_output/CYP3A4_cur_delaney/RF_ecfp_scaffold_regression/c58ade0a-b937-4e0b-bd21-0cd914d9575a/model_metadata.json\n"
          ],
          "name": "stderr"
        },
        {
          "output_type": "stream",
          "text": [
            "Wrote model tarball to ampl_output/CYP3A4_cur_delaney_model_c58ade0a-b937-4e0b-bd21-0cd914d9575a.tar.gz\n",
            " 20%|██        | 6/30 [13:16<47:15, 118.13s/it, best loss: 0.9814497066360043]"
          ],
          "name": "stdout"
        },
        {
          "output_type": "stream",
          "text": [
            "2021-04-01 23:18:51,170 Wrote model metrics to file ampl_output/CYP3A4_cur_delaney/RF_ecfp_scaffold_regression/c58ade0a-b937-4e0b-bd21-0cd914d9575a/model_metrics.json\n"
          ],
          "name": "stderr"
        },
        {
          "output_type": "stream",
          "text": [
            "number of features: 1024\n",
            " 23%|██▎       | 7/30 [14:27<42:11, 110.06s/it, best loss: 0.9814497066360043]"
          ],
          "name": "stdout"
        },
        {
          "output_type": "stream",
          "text": [
            "2021-04-01 23:20:06,846 Previous dataset split restored\n"
          ],
          "name": "stderr"
        },
        {
          "output_type": "stream",
          "text": [
            "n_cnt\n",
            "[18642.]\n",
            "y_means\n",
            "[5.19196307]\n",
            "y_stds\n",
            "[1.21382351]\n",
            "TIMING: dataset construction took 0.654 s\n",
            "Loading dataset from disk.\n",
            "TIMING: dataset construction took 0.088 s\n",
            "Loading dataset from disk.\n",
            "TIMING: dataset construction took 0.087 s\n",
            "Loading dataset from disk.\n",
            " 23%|██▎       | 7/30 [14:33<42:11, 110.06s/it, best loss: 0.9814497066360043]"
          ],
          "name": "stdout"
        },
        {
          "output_type": "stream",
          "text": [
            "2021-04-01 23:20:52,857 Wrote model metadata to file ampl_output/CYP3A4_cur_delaney/RF_ecfp_scaffold_regression/cdf0d179-96ba-4b79-89fe-a0e44119ea50/model_metadata.json\n"
          ],
          "name": "stderr"
        },
        {
          "output_type": "stream",
          "text": [
            "Wrote model tarball to ampl_output/CYP3A4_cur_delaney_model_cdf0d179-96ba-4b79-89fe-a0e44119ea50.tar.gz\n",
            " 23%|██▎       | 7/30 [15:20<42:11, 110.06s/it, best loss: 0.9814497066360043]"
          ],
          "name": "stdout"
        },
        {
          "output_type": "stream",
          "text": [
            "2021-04-01 23:20:55,383 Wrote model metrics to file ampl_output/CYP3A4_cur_delaney/RF_ecfp_scaffold_regression/cdf0d179-96ba-4b79-89fe-a0e44119ea50/model_metrics.json\n"
          ],
          "name": "stderr"
        },
        {
          "output_type": "stream",
          "text": [
            "number of features: 1024\n",
            " 27%|██▋       | 8/30 [16:32<41:55, 114.33s/it, best loss: 0.9814497066360043]"
          ],
          "name": "stdout"
        },
        {
          "output_type": "stream",
          "text": [
            "2021-04-01 23:22:11,301 Previous dataset split restored\n"
          ],
          "name": "stderr"
        },
        {
          "output_type": "stream",
          "text": [
            "n_cnt\n",
            "[18642.]\n",
            "y_means\n",
            "[5.19196307]\n",
            "y_stds\n",
            "[1.21382351]\n",
            "TIMING: dataset construction took 0.639 s\n",
            "Loading dataset from disk.\n",
            "TIMING: dataset construction took 0.086 s\n",
            "Loading dataset from disk.\n",
            "TIMING: dataset construction took 0.088 s\n",
            "Loading dataset from disk.\n",
            " 27%|██▋       | 8/30 [16:37<41:55, 114.33s/it, best loss: 0.9814497066360043]"
          ],
          "name": "stdout"
        },
        {
          "output_type": "stream",
          "text": [
            "2021-04-01 23:22:22,404 Wrote model metadata to file ampl_output/CYP3A4_cur_delaney/RF_ecfp_scaffold_regression/313297ab-aa73-4040-9122-620c8300bff0/model_metadata.json\n"
          ],
          "name": "stderr"
        },
        {
          "output_type": "stream",
          "text": [
            "Wrote model tarball to ampl_output/CYP3A4_cur_delaney_model_313297ab-aa73-4040-9122-620c8300bff0.tar.gz\n",
            " 27%|██▋       | 8/30 [16:48<41:55, 114.33s/it, best loss: 0.9814497066360043]"
          ],
          "name": "stdout"
        },
        {
          "output_type": "stream",
          "text": [
            "2021-04-01 23:22:22,768 Wrote model metrics to file ampl_output/CYP3A4_cur_delaney/RF_ecfp_scaffold_regression/313297ab-aa73-4040-9122-620c8300bff0/model_metrics.json\n"
          ],
          "name": "stderr"
        },
        {
          "output_type": "stream",
          "text": [
            "number of features: 1024\n",
            " 30%|███       | 9/30 [17:59<37:10, 106.22s/it, best loss: 0.9814497066360043]"
          ],
          "name": "stdout"
        },
        {
          "output_type": "stream",
          "text": [
            "2021-04-01 23:23:38,436 Previous dataset split restored\n"
          ],
          "name": "stderr"
        },
        {
          "output_type": "stream",
          "text": [
            "n_cnt\n",
            "[18642.]\n",
            "y_means\n",
            "[5.19196307]\n",
            "y_stds\n",
            "[1.21382351]\n",
            "TIMING: dataset construction took 0.661 s\n",
            "Loading dataset from disk.\n",
            "TIMING: dataset construction took 0.087 s\n",
            "Loading dataset from disk.\n",
            "TIMING: dataset construction took 0.090 s\n",
            "Loading dataset from disk.\n",
            " 30%|███       | 9/30 [18:05<37:10, 106.22s/it, best loss: 0.9814497066360043]"
          ],
          "name": "stdout"
        },
        {
          "output_type": "stream",
          "text": [
            "2021-04-01 23:24:32,714 Wrote model metadata to file ampl_output/CYP3A4_cur_delaney/RF_ecfp_scaffold_regression/12973a67-9622-46b4-aea8-23297a7d15bc/model_metadata.json\n"
          ],
          "name": "stderr"
        },
        {
          "output_type": "stream",
          "text": [
            "Wrote model tarball to ampl_output/CYP3A4_cur_delaney_model_12973a67-9622-46b4-aea8-23297a7d15bc.tar.gz\n",
            " 30%|███       | 9/30 [19:00<37:10, 106.22s/it, best loss: 0.9814497066360043]"
          ],
          "name": "stdout"
        },
        {
          "output_type": "stream",
          "text": [
            "2021-04-01 23:24:35,115 Wrote model metrics to file ampl_output/CYP3A4_cur_delaney/RF_ecfp_scaffold_regression/12973a67-9622-46b4-aea8-23297a7d15bc/model_metrics.json\n"
          ],
          "name": "stderr"
        },
        {
          "output_type": "stream",
          "text": [
            "number of features: 1024\n",
            " 33%|███▎      | 10/30 [20:11<38:01, 114.08s/it, best loss: 0.9814497066360043]"
          ],
          "name": "stdout"
        },
        {
          "output_type": "stream",
          "text": [
            "2021-04-01 23:25:51,177 Previous dataset split restored\n"
          ],
          "name": "stderr"
        },
        {
          "output_type": "stream",
          "text": [
            "n_cnt\n",
            "[18642.]\n",
            "y_means\n",
            "[5.19196307]\n",
            "y_stds\n",
            "[1.21382351]\n",
            "TIMING: dataset construction took 0.668 s\n",
            "Loading dataset from disk.\n",
            "TIMING: dataset construction took 0.086 s\n",
            "Loading dataset from disk.\n",
            "TIMING: dataset construction took 0.089 s\n",
            "Loading dataset from disk.\n",
            " 33%|███▎      | 10/30 [20:17<38:01, 114.08s/it, best loss: 0.9814497066360043]"
          ],
          "name": "stdout"
        },
        {
          "output_type": "stream",
          "text": [
            "2021-04-01 23:26:04,822 Wrote model metadata to file ampl_output/CYP3A4_cur_delaney/RF_ecfp_scaffold_regression/beb55478-2bc7-4e60-84c3-71933ac90494/model_metadata.json\n"
          ],
          "name": "stderr"
        },
        {
          "output_type": "stream",
          "text": [
            "Wrote model tarball to ampl_output/CYP3A4_cur_delaney_model_beb55478-2bc7-4e60-84c3-71933ac90494.tar.gz\n",
            " 33%|███▎      | 10/30 [20:32<38:01, 114.08s/it, best loss: 0.9814497066360043]"
          ],
          "name": "stdout"
        },
        {
          "output_type": "stream",
          "text": [
            "2021-04-01 23:26:06,942 Wrote model metrics to file ampl_output/CYP3A4_cur_delaney/RF_ecfp_scaffold_regression/beb55478-2bc7-4e60-84c3-71933ac90494/model_metrics.json\n"
          ],
          "name": "stderr"
        },
        {
          "output_type": "stream",
          "text": [
            "number of features: 1024\n",
            " 37%|███▋      | 11/30 [21:43<34:00, 107.40s/it, best loss: 0.9814497066360043]"
          ],
          "name": "stdout"
        },
        {
          "output_type": "stream",
          "text": [
            "2021-04-01 23:27:22,556 Previous dataset split restored\n"
          ],
          "name": "stderr"
        },
        {
          "output_type": "stream",
          "text": [
            "n_cnt\n",
            "[18642.]\n",
            "y_means\n",
            "[5.19196307]\n",
            "y_stds\n",
            "[1.21382351]\n",
            "TIMING: dataset construction took 0.648 s\n",
            "Loading dataset from disk.\n",
            "TIMING: dataset construction took 0.087 s\n",
            "Loading dataset from disk.\n",
            "TIMING: dataset construction took 0.086 s\n",
            "Loading dataset from disk.\n",
            " 37%|███▋      | 11/30 [21:49<34:00, 107.40s/it, best loss: 0.9814497066360043]"
          ],
          "name": "stdout"
        },
        {
          "output_type": "stream",
          "text": [
            "2021-04-01 23:28:19,314 Wrote model metadata to file ampl_output/CYP3A4_cur_delaney/RF_ecfp_scaffold_regression/de165dcd-5264-4bc5-a321-f98221a69634/model_metadata.json\n"
          ],
          "name": "stderr"
        },
        {
          "output_type": "stream",
          "text": [
            "Wrote model tarball to ampl_output/CYP3A4_cur_delaney_model_de165dcd-5264-4bc5-a321-f98221a69634.tar.gz\n",
            " 37%|███▋      | 11/30 [22:46<34:00, 107.40s/it, best loss: 0.9814497066360043]"
          ],
          "name": "stdout"
        },
        {
          "output_type": "stream",
          "text": [
            "2021-04-01 23:28:21,421 Wrote model metrics to file ampl_output/CYP3A4_cur_delaney/RF_ecfp_scaffold_regression/de165dcd-5264-4bc5-a321-f98221a69634/model_metrics.json\n"
          ],
          "name": "stderr"
        },
        {
          "output_type": "stream",
          "text": [
            "number of features: 1024\n",
            " 40%|████      | 12/30 [23:57<34:39, 115.52s/it, best loss: 0.9814497066360043]"
          ],
          "name": "stdout"
        },
        {
          "output_type": "stream",
          "text": [
            "2021-04-01 23:29:36,851 Previous dataset split restored\n"
          ],
          "name": "stderr"
        },
        {
          "output_type": "stream",
          "text": [
            "n_cnt\n",
            "[18642.]\n",
            "y_means\n",
            "[5.19196307]\n",
            "y_stds\n",
            "[1.21382351]\n",
            "TIMING: dataset construction took 0.642 s\n",
            "Loading dataset from disk.\n",
            "TIMING: dataset construction took 0.085 s\n",
            "Loading dataset from disk.\n",
            "TIMING: dataset construction took 0.087 s\n",
            "Loading dataset from disk.\n",
            " 40%|████      | 12/30 [24:03<34:39, 115.52s/it, best loss: 0.9814497066360043]"
          ],
          "name": "stdout"
        },
        {
          "output_type": "stream",
          "text": [
            "2021-04-01 23:30:12,756 Wrote model metadata to file ampl_output/CYP3A4_cur_delaney/RF_ecfp_scaffold_regression/69024f62-8741-4933-8e26-2f2bc7d518b1/model_metadata.json\n"
          ],
          "name": "stderr"
        },
        {
          "output_type": "stream",
          "text": [
            "Wrote model tarball to ampl_output/CYP3A4_cur_delaney_model_69024f62-8741-4933-8e26-2f2bc7d518b1.tar.gz\n",
            " 40%|████      | 12/30 [24:40<34:39, 115.52s/it, best loss: 0.9814497066360043]"
          ],
          "name": "stdout"
        },
        {
          "output_type": "stream",
          "text": [
            "2021-04-01 23:30:14,762 Wrote model metrics to file ampl_output/CYP3A4_cur_delaney/RF_ecfp_scaffold_regression/69024f62-8741-4933-8e26-2f2bc7d518b1/model_metrics.json\n"
          ],
          "name": "stderr"
        },
        {
          "output_type": "stream",
          "text": [
            "number of features: 1024\n",
            " 43%|████▎     | 13/30 [25:51<32:32, 114.86s/it, best loss: 0.9814497066360043]"
          ],
          "name": "stdout"
        },
        {
          "output_type": "stream",
          "text": [
            "2021-04-01 23:31:30,666 Previous dataset split restored\n"
          ],
          "name": "stderr"
        },
        {
          "output_type": "stream",
          "text": [
            "n_cnt\n",
            "[18642.]\n",
            "y_means\n",
            "[5.19196307]\n",
            "y_stds\n",
            "[1.21382351]\n",
            "TIMING: dataset construction took 0.642 s\n",
            "Loading dataset from disk.\n",
            "TIMING: dataset construction took 0.086 s\n",
            "Loading dataset from disk.\n",
            "TIMING: dataset construction took 0.086 s\n",
            "Loading dataset from disk.\n",
            " 43%|████▎     | 13/30 [25:57<32:32, 114.86s/it, best loss: 0.9814497066360043]"
          ],
          "name": "stdout"
        },
        {
          "output_type": "stream",
          "text": [
            "2021-04-01 23:31:41,638 Wrote model metadata to file ampl_output/CYP3A4_cur_delaney/RF_ecfp_scaffold_regression/a4d0c4b7-3393-4499-8d45-db162e7fcb96/model_metadata.json\n"
          ],
          "name": "stderr"
        },
        {
          "output_type": "stream",
          "text": [
            "Wrote model tarball to ampl_output/CYP3A4_cur_delaney_model_a4d0c4b7-3393-4499-8d45-db162e7fcb96.tar.gz\n",
            " 43%|████▎     | 13/30 [26:07<32:32, 114.86s/it, best loss: 0.9814497066360043]"
          ],
          "name": "stdout"
        },
        {
          "output_type": "stream",
          "text": [
            "2021-04-01 23:31:42,167 Wrote model metrics to file ampl_output/CYP3A4_cur_delaney/RF_ecfp_scaffold_regression/a4d0c4b7-3393-4499-8d45-db162e7fcb96/model_metrics.json\n"
          ],
          "name": "stderr"
        },
        {
          "output_type": "stream",
          "text": [
            "number of features: 1024\n",
            " 47%|████▋     | 14/30 [27:18<28:25, 106.62s/it, best loss: 0.9814497066360043]"
          ],
          "name": "stdout"
        },
        {
          "output_type": "stream",
          "text": [
            "2021-04-01 23:32:57,547 Previous dataset split restored\n"
          ],
          "name": "stderr"
        },
        {
          "output_type": "stream",
          "text": [
            "n_cnt\n",
            "[18642.]\n",
            "y_means\n",
            "[5.19196307]\n",
            "y_stds\n",
            "[1.21382351]\n",
            "TIMING: dataset construction took 0.711 s\n",
            "Loading dataset from disk.\n",
            "TIMING: dataset construction took 0.096 s\n",
            "Loading dataset from disk.\n",
            "TIMING: dataset construction took 0.093 s\n",
            "Loading dataset from disk.\n",
            " 47%|████▋     | 14/30 [27:24<28:25, 106.62s/it, best loss: 0.9814497066360043]"
          ],
          "name": "stdout"
        },
        {
          "output_type": "stream",
          "text": [
            "2021-04-01 23:33:36,005 Wrote model metadata to file ampl_output/CYP3A4_cur_delaney/RF_ecfp_scaffold_regression/12716ace-3194-49ea-9353-594513a2fb64/model_metadata.json\n"
          ],
          "name": "stderr"
        },
        {
          "output_type": "stream",
          "text": [
            "Wrote model tarball to ampl_output/CYP3A4_cur_delaney_model_12716ace-3194-49ea-9353-594513a2fb64.tar.gz\n",
            " 47%|████▋     | 14/30 [28:02<28:25, 106.62s/it, best loss: 0.9814497066360043]"
          ],
          "name": "stdout"
        },
        {
          "output_type": "stream",
          "text": [
            "2021-04-01 23:33:37,448 Wrote model metrics to file ampl_output/CYP3A4_cur_delaney/RF_ecfp_scaffold_regression/12716ace-3194-49ea-9353-594513a2fb64/model_metrics.json\n"
          ],
          "name": "stderr"
        },
        {
          "output_type": "stream",
          "text": [
            "number of features: 1024\n",
            " 50%|█████     | 15/30 [29:13<27:18, 109.22s/it, best loss: 0.9814497066360043]"
          ],
          "name": "stdout"
        },
        {
          "output_type": "stream",
          "text": [
            "2021-04-01 23:34:52,979 Previous dataset split restored\n"
          ],
          "name": "stderr"
        },
        {
          "output_type": "stream",
          "text": [
            "n_cnt\n",
            "[18642.]\n",
            "y_means\n",
            "[5.19196307]\n",
            "y_stds\n",
            "[1.21382351]\n",
            "TIMING: dataset construction took 0.655 s\n",
            "Loading dataset from disk.\n",
            "TIMING: dataset construction took 0.087 s\n",
            "Loading dataset from disk.\n",
            "TIMING: dataset construction took 0.088 s\n",
            "Loading dataset from disk.\n",
            " 50%|█████     | 15/30 [29:19<27:18, 109.22s/it, best loss: 0.9814497066360043]"
          ],
          "name": "stdout"
        },
        {
          "output_type": "stream",
          "text": [
            "2021-04-01 23:35:43,726 Wrote model metadata to file ampl_output/CYP3A4_cur_delaney/RF_ecfp_scaffold_regression/c3553c56-1bbc-4424-a351-52d81b8a3951/model_metadata.json\n"
          ],
          "name": "stderr"
        },
        {
          "output_type": "stream",
          "text": [
            "Wrote model tarball to ampl_output/CYP3A4_cur_delaney_model_c3553c56-1bbc-4424-a351-52d81b8a3951.tar.gz\n",
            " 50%|█████     | 15/30 [30:11<27:18, 109.22s/it, best loss: 0.9814497066360043]"
          ],
          "name": "stdout"
        },
        {
          "output_type": "stream",
          "text": [
            "2021-04-01 23:35:46,118 Wrote model metrics to file ampl_output/CYP3A4_cur_delaney/RF_ecfp_scaffold_regression/c3553c56-1bbc-4424-a351-52d81b8a3951/model_metrics.json\n"
          ],
          "name": "stderr"
        },
        {
          "output_type": "stream",
          "text": [
            "number of features: 1024\n",
            " 53%|█████▎    | 16/30 [31:22<26:50, 115.07s/it, best loss: 0.9812628295397555]"
          ],
          "name": "stdout"
        },
        {
          "output_type": "stream",
          "text": [
            "2021-04-01 23:37:01,926 Previous dataset split restored\n"
          ],
          "name": "stderr"
        },
        {
          "output_type": "stream",
          "text": [
            "n_cnt\n",
            "[18642.]\n",
            "y_means\n",
            "[5.19196307]\n",
            "y_stds\n",
            "[1.21382351]\n",
            "TIMING: dataset construction took 0.648 s\n",
            "Loading dataset from disk.\n",
            "TIMING: dataset construction took 0.096 s\n",
            "Loading dataset from disk.\n",
            "TIMING: dataset construction took 0.087 s\n",
            "Loading dataset from disk.\n",
            " 53%|█████▎    | 16/30 [31:28<26:50, 115.07s/it, best loss: 0.9812628295397555]"
          ],
          "name": "stdout"
        },
        {
          "output_type": "stream",
          "text": [
            "2021-04-01 23:38:02,717 Wrote model metadata to file ampl_output/CYP3A4_cur_delaney/RF_ecfp_scaffold_regression/6b725db8-d733-425d-a205-8fd7a1de2629/model_metadata.json\n"
          ],
          "name": "stderr"
        },
        {
          "output_type": "stream",
          "text": [
            "Wrote model tarball to ampl_output/CYP3A4_cur_delaney_model_6b725db8-d733-425d-a205-8fd7a1de2629.tar.gz\n",
            " 53%|█████▎    | 16/30 [32:30<26:50, 115.07s/it, best loss: 0.9812628295397555]"
          ],
          "name": "stdout"
        },
        {
          "output_type": "stream",
          "text": [
            "2021-04-01 23:38:04,975 Wrote model metrics to file ampl_output/CYP3A4_cur_delaney/RF_ecfp_scaffold_regression/6b725db8-d733-425d-a205-8fd7a1de2629/model_metrics.json\n"
          ],
          "name": "stderr"
        },
        {
          "output_type": "stream",
          "text": [
            "number of features: 1024\n",
            " 57%|█████▋    | 17/30 [33:41<26:28, 122.21s/it, best loss: 0.9812628295397555]"
          ],
          "name": "stdout"
        },
        {
          "output_type": "stream",
          "text": [
            "2021-04-01 23:39:20,615 Previous dataset split restored\n"
          ],
          "name": "stderr"
        },
        {
          "output_type": "stream",
          "text": [
            "n_cnt\n",
            "[18642.]\n",
            "y_means\n",
            "[5.19196307]\n",
            "y_stds\n",
            "[1.21382351]\n",
            "TIMING: dataset construction took 0.648 s\n",
            "Loading dataset from disk.\n",
            "TIMING: dataset construction took 0.084 s\n",
            "Loading dataset from disk.\n",
            "TIMING: dataset construction took 0.085 s\n",
            "Loading dataset from disk.\n",
            " 57%|█████▋    | 17/30 [33:47<26:28, 122.21s/it, best loss: 0.9812628295397555]"
          ],
          "name": "stdout"
        },
        {
          "output_type": "stream",
          "text": [
            "2021-04-01 23:39:49,279 Wrote model metadata to file ampl_output/CYP3A4_cur_delaney/RF_ecfp_scaffold_regression/d9221df8-15d6-4eb6-8b83-f10ca934d1bb/model_metadata.json\n"
          ],
          "name": "stderr"
        },
        {
          "output_type": "stream",
          "text": [
            "Wrote model tarball to ampl_output/CYP3A4_cur_delaney_model_d9221df8-15d6-4eb6-8b83-f10ca934d1bb.tar.gz\n",
            " 57%|█████▋    | 17/30 [34:15<26:28, 122.21s/it, best loss: 0.9812628295397555]"
          ],
          "name": "stdout"
        },
        {
          "output_type": "stream",
          "text": [
            "2021-04-01 23:39:50,280 Wrote model metrics to file ampl_output/CYP3A4_cur_delaney/RF_ecfp_scaffold_regression/d9221df8-15d6-4eb6-8b83-f10ca934d1bb/model_metrics.json\n"
          ],
          "name": "stderr"
        },
        {
          "output_type": "stream",
          "text": [
            "number of features: 1024\n",
            " 60%|██████    | 18/30 [35:26<23:25, 117.12s/it, best loss: 0.9812628295397555]"
          ],
          "name": "stdout"
        },
        {
          "output_type": "stream",
          "text": [
            "2021-04-01 23:41:06,169 Previous dataset split restored\n"
          ],
          "name": "stderr"
        },
        {
          "output_type": "stream",
          "text": [
            "n_cnt\n",
            "[18642.]\n",
            "y_means\n",
            "[5.19196307]\n",
            "y_stds\n",
            "[1.21382351]\n",
            "TIMING: dataset construction took 0.653 s\n",
            "Loading dataset from disk.\n",
            "TIMING: dataset construction took 0.088 s\n",
            "Loading dataset from disk.\n",
            "TIMING: dataset construction took 0.086 s\n",
            "Loading dataset from disk.\n",
            " 60%|██████    | 18/30 [35:32<23:25, 117.12s/it, best loss: 0.9812628295397555]"
          ],
          "name": "stdout"
        },
        {
          "output_type": "stream",
          "text": [
            "2021-04-01 23:41:45,956 Wrote model metadata to file ampl_output/CYP3A4_cur_delaney/RF_ecfp_scaffold_regression/fc26d47c-74dc-44aa-9f3a-ec341dfabf6e/model_metadata.json\n"
          ],
          "name": "stderr"
        },
        {
          "output_type": "stream",
          "text": [
            "Wrote model tarball to ampl_output/CYP3A4_cur_delaney_model_fc26d47c-74dc-44aa-9f3a-ec341dfabf6e.tar.gz\n",
            " 60%|██████    | 18/30 [36:13<23:25, 117.12s/it, best loss: 0.9812628295397555]"
          ],
          "name": "stdout"
        },
        {
          "output_type": "stream",
          "text": [
            "2021-04-01 23:41:47,760 Wrote model metrics to file ampl_output/CYP3A4_cur_delaney/RF_ecfp_scaffold_regression/fc26d47c-74dc-44aa-9f3a-ec341dfabf6e/model_metrics.json\n"
          ],
          "name": "stderr"
        },
        {
          "output_type": "stream",
          "text": [
            "number of features: 1024\n",
            " 63%|██████▎   | 19/30 [37:24<21:29, 117.23s/it, best loss: 0.9812628295397555]"
          ],
          "name": "stdout"
        },
        {
          "output_type": "stream",
          "text": [
            "2021-04-01 23:43:03,463 Previous dataset split restored\n"
          ],
          "name": "stderr"
        },
        {
          "output_type": "stream",
          "text": [
            "n_cnt\n",
            "[18642.]\n",
            "y_means\n",
            "[5.19196307]\n",
            "y_stds\n",
            "[1.21382351]\n",
            "TIMING: dataset construction took 0.668 s\n",
            "Loading dataset from disk.\n",
            "TIMING: dataset construction took 0.101 s\n",
            "Loading dataset from disk.\n",
            "TIMING: dataset construction took 0.093 s\n",
            "Loading dataset from disk.\n",
            " 63%|██████▎   | 19/30 [37:30<21:29, 117.23s/it, best loss: 0.9812628295397555]"
          ],
          "name": "stdout"
        },
        {
          "output_type": "stream",
          "text": [
            "2021-04-01 23:43:40,800 Wrote model metadata to file ampl_output/CYP3A4_cur_delaney/RF_ecfp_scaffold_regression/f78909d2-c538-4839-8eac-d8d12672bb65/model_metadata.json\n"
          ],
          "name": "stderr"
        },
        {
          "output_type": "stream",
          "text": [
            "Wrote model tarball to ampl_output/CYP3A4_cur_delaney_model_f78909d2-c538-4839-8eac-d8d12672bb65.tar.gz\n",
            " 63%|██████▎   | 19/30 [38:07<21:29, 117.23s/it, best loss: 0.9812628295397555]"
          ],
          "name": "stdout"
        },
        {
          "output_type": "stream",
          "text": [
            "2021-04-01 23:43:42,201 Wrote model metrics to file ampl_output/CYP3A4_cur_delaney/RF_ecfp_scaffold_regression/f78909d2-c538-4839-8eac-d8d12672bb65/model_metrics.json\n"
          ],
          "name": "stderr"
        },
        {
          "output_type": "stream",
          "text": [
            "number of features: 1024\n",
            " 67%|██████▋   | 20/30 [39:18<19:23, 116.39s/it, best loss: 0.9812628295397555]"
          ],
          "name": "stdout"
        },
        {
          "output_type": "stream",
          "text": [
            "2021-04-01 23:44:57,456 Previous dataset split restored\n"
          ],
          "name": "stderr"
        },
        {
          "output_type": "stream",
          "text": [
            "n_cnt\n",
            "[18642.]\n",
            "y_means\n",
            "[5.19196307]\n",
            "y_stds\n",
            "[1.21382351]\n",
            "TIMING: dataset construction took 0.651 s\n",
            "Loading dataset from disk.\n",
            "TIMING: dataset construction took 0.086 s\n",
            "Loading dataset from disk.\n",
            "TIMING: dataset construction took 0.086 s\n",
            "Loading dataset from disk.\n",
            " 67%|██████▋   | 20/30 [39:24<19:23, 116.39s/it, best loss: 0.9812628295397555]"
          ],
          "name": "stdout"
        },
        {
          "output_type": "stream",
          "text": [
            "2021-04-01 23:45:49,513 Wrote model metadata to file ampl_output/CYP3A4_cur_delaney/RF_ecfp_scaffold_regression/1e531937-e234-4a56-83e8-f8bd4338c218/model_metadata.json\n"
          ],
          "name": "stderr"
        },
        {
          "output_type": "stream",
          "text": [
            "Wrote model tarball to ampl_output/CYP3A4_cur_delaney_model_1e531937-e234-4a56-83e8-f8bd4338c218.tar.gz\n",
            " 67%|██████▋   | 20/30 [40:17<19:23, 116.39s/it, best loss: 0.9812628295397555]"
          ],
          "name": "stdout"
        },
        {
          "output_type": "stream",
          "text": [
            "2021-04-01 23:45:51,773 Wrote model metrics to file ampl_output/CYP3A4_cur_delaney/RF_ecfp_scaffold_regression/1e531937-e234-4a56-83e8-f8bd4338c218/model_metrics.json\n"
          ],
          "name": "stderr"
        },
        {
          "output_type": "stream",
          "text": [
            "number of features: 1024\n",
            " 70%|███████   | 21/30 [41:28<18:03, 120.36s/it, best loss: 0.9812628295397555]"
          ],
          "name": "stdout"
        },
        {
          "output_type": "stream",
          "text": [
            "2021-04-01 23:47:07,786 Previous dataset split restored\n"
          ],
          "name": "stderr"
        },
        {
          "output_type": "stream",
          "text": [
            "n_cnt\n",
            "[18642.]\n",
            "y_means\n",
            "[5.19196307]\n",
            "y_stds\n",
            "[1.21382351]\n",
            "TIMING: dataset construction took 0.643 s\n",
            "Loading dataset from disk.\n",
            "TIMING: dataset construction took 0.092 s\n",
            "Loading dataset from disk.\n",
            "TIMING: dataset construction took 0.089 s\n",
            "Loading dataset from disk.\n",
            " 70%|███████   | 21/30 [41:34<18:03, 120.36s/it, best loss: 0.9812628295397555]"
          ],
          "name": "stdout"
        },
        {
          "output_type": "stream",
          "text": [
            "2021-04-01 23:47:30,991 Wrote model metadata to file ampl_output/CYP3A4_cur_delaney/RF_ecfp_scaffold_regression/6b5cde50-232f-44ee-9d74-7136dab48e27/model_metadata.json\n"
          ],
          "name": "stderr"
        },
        {
          "output_type": "stream",
          "text": [
            "Wrote model tarball to ampl_output/CYP3A4_cur_delaney_model_6b5cde50-232f-44ee-9d74-7136dab48e27.tar.gz\n",
            " 70%|███████   | 21/30 [41:57<18:03, 120.36s/it, best loss: 0.9812628295397555]"
          ],
          "name": "stdout"
        },
        {
          "output_type": "stream",
          "text": [
            "2021-04-01 23:47:31,838 Wrote model metrics to file ampl_output/CYP3A4_cur_delaney/RF_ecfp_scaffold_regression/6b5cde50-232f-44ee-9d74-7136dab48e27/model_metrics.json\n"
          ],
          "name": "stderr"
        },
        {
          "output_type": "stream",
          "text": [
            "number of features: 1024\n",
            " 73%|███████▎  | 22/30 [43:08<15:14, 114.26s/it, best loss: 0.9812628295397555]"
          ],
          "name": "stdout"
        },
        {
          "output_type": "stream",
          "text": [
            "2021-04-01 23:48:47,376 Previous dataset split restored\n"
          ],
          "name": "stderr"
        },
        {
          "output_type": "stream",
          "text": [
            "n_cnt\n",
            "[18642.]\n",
            "y_means\n",
            "[5.19196307]\n",
            "y_stds\n",
            "[1.21382351]\n",
            "TIMING: dataset construction took 0.648 s\n",
            "Loading dataset from disk.\n",
            "TIMING: dataset construction took 0.089 s\n",
            "Loading dataset from disk.\n",
            "TIMING: dataset construction took 0.087 s\n",
            "Loading dataset from disk.\n",
            " 73%|███████▎  | 22/30 [43:14<15:14, 114.26s/it, best loss: 0.9812628295397555]"
          ],
          "name": "stdout"
        },
        {
          "output_type": "stream",
          "text": [
            "2021-04-01 23:48:54,650 Wrote model metadata to file ampl_output/CYP3A4_cur_delaney/RF_ecfp_scaffold_regression/5807e0bf-ace3-44d3-a61d-569c8e83aace/model_metadata.json\n"
          ],
          "name": "stderr"
        },
        {
          "output_type": "stream",
          "text": [
            "Wrote model tarball to ampl_output/CYP3A4_cur_delaney_model_5807e0bf-ace3-44d3-a61d-569c8e83aace.tar.gz\n",
            " 73%|███████▎  | 22/30 [43:19<15:14, 114.26s/it, best loss: 0.9812628295397555]"
          ],
          "name": "stdout"
        },
        {
          "output_type": "stream",
          "text": [
            "2021-04-01 23:48:54,679 Wrote model metrics to file ampl_output/CYP3A4_cur_delaney/RF_ecfp_scaffold_regression/5807e0bf-ace3-44d3-a61d-569c8e83aace/model_metrics.json\n"
          ],
          "name": "stderr"
        },
        {
          "output_type": "stream",
          "text": [
            "number of features: 1024\n",
            " 77%|███████▋  | 23/30 [44:31<12:13, 104.83s/it, best loss: 0.9812628295397555]"
          ],
          "name": "stdout"
        },
        {
          "output_type": "stream",
          "text": [
            "2021-04-01 23:50:10,332 Previous dataset split restored\n"
          ],
          "name": "stderr"
        },
        {
          "output_type": "stream",
          "text": [
            "n_cnt\n",
            "[18642.]\n",
            "y_means\n",
            "[5.19196307]\n",
            "y_stds\n",
            "[1.21382351]\n",
            "TIMING: dataset construction took 0.639 s\n",
            "Loading dataset from disk.\n",
            "TIMING: dataset construction took 0.087 s\n",
            "Loading dataset from disk.\n",
            "TIMING: dataset construction took 0.085 s\n",
            "Loading dataset from disk.\n",
            " 77%|███████▋  | 23/30 [44:37<12:13, 104.83s/it, best loss: 0.9812628295397555]"
          ],
          "name": "stdout"
        },
        {
          "output_type": "stream",
          "text": [
            "2021-04-01 23:50:46,588 Wrote model metadata to file ampl_output/CYP3A4_cur_delaney/RF_ecfp_scaffold_regression/a34b9727-fdb3-4d0d-bcf1-0505bd4830de/model_metadata.json\n"
          ],
          "name": "stderr"
        },
        {
          "output_type": "stream",
          "text": [
            "Wrote model tarball to ampl_output/CYP3A4_cur_delaney_model_a34b9727-fdb3-4d0d-bcf1-0505bd4830de.tar.gz\n",
            " 77%|███████▋  | 23/30 [45:13<12:13, 104.83s/it, best loss: 0.9812628295397555]"
          ],
          "name": "stdout"
        },
        {
          "output_type": "stream",
          "text": [
            "2021-04-01 23:50:47,845 Wrote model metrics to file ampl_output/CYP3A4_cur_delaney/RF_ecfp_scaffold_regression/a34b9727-fdb3-4d0d-bcf1-0505bd4830de/model_metrics.json\n"
          ],
          "name": "stderr"
        },
        {
          "output_type": "stream",
          "text": [
            "number of features: 1024\n",
            " 80%|████████  | 24/30 [46:24<10:43, 107.33s/it, best loss: 0.9812628295397555]"
          ],
          "name": "stdout"
        },
        {
          "output_type": "stream",
          "text": [
            "2021-04-01 23:52:03,597 Previous dataset split restored\n"
          ],
          "name": "stderr"
        },
        {
          "output_type": "stream",
          "text": [
            "n_cnt\n",
            "[18642.]\n",
            "y_means\n",
            "[5.19196307]\n",
            "y_stds\n",
            "[1.21382351]\n",
            "TIMING: dataset construction took 0.655 s\n",
            "Loading dataset from disk.\n",
            "TIMING: dataset construction took 0.088 s\n",
            "Loading dataset from disk.\n",
            "TIMING: dataset construction took 0.088 s\n",
            "Loading dataset from disk.\n",
            " 80%|████████  | 24/30 [46:30<10:43, 107.33s/it, best loss: 0.9812628295397555]"
          ],
          "name": "stdout"
        },
        {
          "output_type": "stream",
          "text": [
            "2021-04-01 23:52:34,949 Wrote model metadata to file ampl_output/CYP3A4_cur_delaney/RF_ecfp_scaffold_regression/125973fa-59fe-4c2e-89ef-cb8e05e687c8/model_metadata.json\n"
          ],
          "name": "stderr"
        },
        {
          "output_type": "stream",
          "text": [
            "Wrote model tarball to ampl_output/CYP3A4_cur_delaney_model_125973fa-59fe-4c2e-89ef-cb8e05e687c8.tar.gz\n",
            " 80%|████████  | 24/30 [47:02<10:43, 107.33s/it, best loss: 0.9812628295397555]"
          ],
          "name": "stdout"
        },
        {
          "output_type": "stream",
          "text": [
            "2021-04-01 23:52:36,931 Wrote model metrics to file ampl_output/CYP3A4_cur_delaney/RF_ecfp_scaffold_regression/125973fa-59fe-4c2e-89ef-cb8e05e687c8/model_metrics.json\n"
          ],
          "name": "stderr"
        },
        {
          "output_type": "stream",
          "text": [
            "number of features: 1024\n",
            " 83%|████████▎ | 25/30 [48:13<08:59, 107.87s/it, best loss: 0.9812628295397555]"
          ],
          "name": "stdout"
        },
        {
          "output_type": "stream",
          "text": [
            "2021-04-01 23:53:52,802 Previous dataset split restored\n"
          ],
          "name": "stderr"
        },
        {
          "output_type": "stream",
          "text": [
            "n_cnt\n",
            "[18642.]\n",
            "y_means\n",
            "[5.19196307]\n",
            "y_stds\n",
            "[1.21382351]\n",
            "TIMING: dataset construction took 0.674 s\n",
            "Loading dataset from disk.\n",
            "TIMING: dataset construction took 0.095 s\n",
            "Loading dataset from disk.\n",
            "TIMING: dataset construction took 0.098 s\n",
            "Loading dataset from disk.\n",
            " 83%|████████▎ | 25/30 [48:19<08:59, 107.87s/it, best loss: 0.9812628295397555]"
          ],
          "name": "stdout"
        },
        {
          "output_type": "stream",
          "text": [
            "2021-04-01 23:54:22,853 Wrote model metadata to file ampl_output/CYP3A4_cur_delaney/RF_ecfp_scaffold_regression/927df7ec-796a-4688-b08e-deff0d70aa2c/model_metadata.json\n"
          ],
          "name": "stderr"
        },
        {
          "output_type": "stream",
          "text": [
            "Wrote model tarball to ampl_output/CYP3A4_cur_delaney_model_927df7ec-796a-4688-b08e-deff0d70aa2c.tar.gz\n",
            " 83%|████████▎ | 25/30 [48:49<08:59, 107.87s/it, best loss: 0.9812628295397555]"
          ],
          "name": "stdout"
        },
        {
          "output_type": "stream",
          "text": [
            "2021-04-01 23:54:24,483 Wrote model metrics to file ampl_output/CYP3A4_cur_delaney/RF_ecfp_scaffold_regression/927df7ec-796a-4688-b08e-deff0d70aa2c/model_metrics.json\n"
          ],
          "name": "stderr"
        },
        {
          "output_type": "stream",
          "text": [
            "number of features: 1024\n",
            " 87%|████████▋ | 26/30 [50:01<07:11, 107.77s/it, best loss: 0.9812628295397555]"
          ],
          "name": "stdout"
        },
        {
          "output_type": "stream",
          "text": [
            "2021-04-01 23:55:40,629 Previous dataset split restored\n"
          ],
          "name": "stderr"
        },
        {
          "output_type": "stream",
          "text": [
            "n_cnt\n",
            "[18642.]\n",
            "y_means\n",
            "[5.19196307]\n",
            "y_stds\n",
            "[1.21382351]\n",
            "TIMING: dataset construction took 0.645 s\n",
            "Loading dataset from disk.\n",
            "TIMING: dataset construction took 0.085 s\n",
            "Loading dataset from disk.\n",
            "TIMING: dataset construction took 0.087 s\n",
            "Loading dataset from disk.\n",
            " 87%|████████▋ | 26/30 [50:07<07:11, 107.77s/it, best loss: 0.9812628295397555]"
          ],
          "name": "stdout"
        },
        {
          "output_type": "stream",
          "text": [
            "2021-04-01 23:56:25,508 Wrote model metadata to file ampl_output/CYP3A4_cur_delaney/RF_ecfp_scaffold_regression/2eec0bb9-997b-42a0-83be-3b5f79bbe72f/model_metadata.json\n"
          ],
          "name": "stderr"
        },
        {
          "output_type": "stream",
          "text": [
            "Wrote model tarball to ampl_output/CYP3A4_cur_delaney_model_2eec0bb9-997b-42a0-83be-3b5f79bbe72f.tar.gz\n",
            " 87%|████████▋ | 26/30 [50:52<07:11, 107.77s/it, best loss: 0.9812628295397555]"
          ],
          "name": "stdout"
        },
        {
          "output_type": "stream",
          "text": [
            "2021-04-01 23:56:27,276 Wrote model metrics to file ampl_output/CYP3A4_cur_delaney/RF_ecfp_scaffold_regression/2eec0bb9-997b-42a0-83be-3b5f79bbe72f/model_metrics.json\n"
          ],
          "name": "stderr"
        },
        {
          "output_type": "stream",
          "text": [
            "number of features: 1024\n",
            " 90%|█████████ | 27/30 [52:04<05:36, 112.28s/it, best loss: 0.9812628295397555]"
          ],
          "name": "stdout"
        },
        {
          "output_type": "stream",
          "text": [
            "2021-04-01 23:57:43,401 Previous dataset split restored\n"
          ],
          "name": "stderr"
        },
        {
          "output_type": "stream",
          "text": [
            "n_cnt\n",
            "[18642.]\n",
            "y_means\n",
            "[5.19196307]\n",
            "y_stds\n",
            "[1.21382351]\n",
            "TIMING: dataset construction took 0.643 s\n",
            "Loading dataset from disk.\n",
            "TIMING: dataset construction took 0.084 s\n",
            "Loading dataset from disk.\n",
            "TIMING: dataset construction took 0.087 s\n",
            "Loading dataset from disk.\n",
            " 90%|█████████ | 27/30 [52:10<05:36, 112.28s/it, best loss: 0.9812628295397555]"
          ],
          "name": "stdout"
        },
        {
          "output_type": "stream",
          "text": [
            "2021-04-01 23:58:09,073 Wrote model metadata to file ampl_output/CYP3A4_cur_delaney/RF_ecfp_scaffold_regression/21d52d2b-06ce-4656-bdb8-43425d5b4abd/model_metadata.json\n"
          ],
          "name": "stderr"
        },
        {
          "output_type": "stream",
          "text": [
            "Wrote model tarball to ampl_output/CYP3A4_cur_delaney_model_21d52d2b-06ce-4656-bdb8-43425d5b4abd.tar.gz\n",
            " 90%|█████████ | 27/30 [52:36<05:36, 112.28s/it, best loss: 0.9812628295397555]"
          ],
          "name": "stdout"
        },
        {
          "output_type": "stream",
          "text": [
            "2021-04-01 23:58:11,308 Wrote model metrics to file ampl_output/CYP3A4_cur_delaney/RF_ecfp_scaffold_regression/21d52d2b-06ce-4656-bdb8-43425d5b4abd/model_metrics.json\n"
          ],
          "name": "stderr"
        },
        {
          "output_type": "stream",
          "text": [
            "number of features: 1024\n",
            " 93%|█████████▎| 28/30 [53:47<03:39, 109.80s/it, best loss: 0.9812628295397555]"
          ],
          "name": "stdout"
        },
        {
          "output_type": "stream",
          "text": [
            "2021-04-01 23:59:27,318 Previous dataset split restored\n"
          ],
          "name": "stderr"
        },
        {
          "output_type": "stream",
          "text": [
            "n_cnt\n",
            "[18642.]\n",
            "y_means\n",
            "[5.19196307]\n",
            "y_stds\n",
            "[1.21382351]\n",
            "TIMING: dataset construction took 0.657 s\n",
            "Loading dataset from disk.\n",
            "TIMING: dataset construction took 0.090 s\n",
            "Loading dataset from disk.\n",
            "TIMING: dataset construction took 0.087 s\n",
            "Loading dataset from disk.\n",
            " 93%|█████████▎| 28/30 [53:54<03:39, 109.80s/it, best loss: 0.9812628295397555]"
          ],
          "name": "stdout"
        },
        {
          "output_type": "stream",
          "text": [
            "2021-04-01 23:59:48,746 Wrote model metadata to file ampl_output/CYP3A4_cur_delaney/RF_ecfp_scaffold_regression/528c809a-7f7b-4eaf-b0c6-96ab5837746b/model_metadata.json\n"
          ],
          "name": "stderr"
        },
        {
          "output_type": "stream",
          "text": [
            "Wrote model tarball to ampl_output/CYP3A4_cur_delaney_model_528c809a-7f7b-4eaf-b0c6-96ab5837746b.tar.gz\n",
            " 93%|█████████▎| 28/30 [54:14<03:39, 109.80s/it, best loss: 0.9812628295397555]"
          ],
          "name": "stdout"
        },
        {
          "output_type": "stream",
          "text": [
            "2021-04-01 23:59:49,362 Wrote model metrics to file ampl_output/CYP3A4_cur_delaney/RF_ecfp_scaffold_regression/528c809a-7f7b-4eaf-b0c6-96ab5837746b/model_metrics.json\n"
          ],
          "name": "stderr"
        },
        {
          "output_type": "stream",
          "text": [
            "number of features: 1024\n",
            " 97%|█████████▋| 29/30 [55:26<01:46, 106.27s/it, best loss: 0.9812628295397555]"
          ],
          "name": "stdout"
        },
        {
          "output_type": "stream",
          "text": [
            "2021-04-02 00:01:05,716 Previous dataset split restored\n"
          ],
          "name": "stderr"
        },
        {
          "output_type": "stream",
          "text": [
            "n_cnt\n",
            "[18642.]\n",
            "y_means\n",
            "[5.19196307]\n",
            "y_stds\n",
            "[1.21382351]\n",
            "TIMING: dataset construction took 0.710 s\n",
            "Loading dataset from disk.\n",
            "TIMING: dataset construction took 0.087 s\n",
            "Loading dataset from disk.\n",
            "TIMING: dataset construction took 0.086 s\n",
            "Loading dataset from disk.\n",
            " 97%|█████████▋| 29/30 [55:32<01:46, 106.27s/it, best loss: 0.9812628295397555]"
          ],
          "name": "stdout"
        },
        {
          "output_type": "stream",
          "text": [
            "2021-04-02 00:01:12,267 Wrote model metadata to file ampl_output/CYP3A4_cur_delaney/RF_ecfp_scaffold_regression/c15923a5-48a6-4b85-88f7-5c7908402cbc/model_metadata.json\n"
          ],
          "name": "stderr"
        },
        {
          "output_type": "stream",
          "text": [
            "Wrote model tarball to ampl_output/CYP3A4_cur_delaney_model_c15923a5-48a6-4b85-88f7-5c7908402cbc.tar.gz\n",
            " 97%|█████████▋| 29/30 [55:37<01:46, 106.27s/it, best loss: 0.9812628295397555]"
          ],
          "name": "stdout"
        },
        {
          "output_type": "stream",
          "text": [
            "2021-04-02 00:01:12,350 Wrote model metrics to file ampl_output/CYP3A4_cur_delaney/RF_ecfp_scaffold_regression/c15923a5-48a6-4b85-88f7-5c7908402cbc/model_metrics.json\n"
          ],
          "name": "stderr"
        },
        {
          "output_type": "stream",
          "text": [
            "100%|██████████| 30/30 [55:37<00:00, 111.26s/it, best loss: 0.9812628295397555]\n"
          ],
          "name": "stdout"
        }
      ]
    },
    {
      "cell_type": "code",
      "metadata": {
        "id": "2l-of-gh7Jaq",
        "colab": {
          "base_uri": "https://localhost:8080/",
          "height": 635
        },
        "outputId": "f4c7bb73-38ee-4e38-dc01-cc20b0ef4db5"
      },
      "source": [
        "auc_list = [1-new_trials.trials[i][\"result\"][\"loss\"] for i in range(len(new_trials.trials))]\n",
        "fig, ax = plt.subplots(1,1,figsize=(10,10))\n",
        "sns.lineplot(x=list(range(1,len(new_trials.trials)+1)), y=auc_list, ax=ax)\n",
        "ax.set_ylim(0.2,0.6)"
      ],
      "execution_count": null,
      "outputs": [
        {
          "output_type": "execute_result",
          "data": {
            "text/plain": [
              "(0.2, 0.6)"
            ]
          },
          "metadata": {
            "tags": []
          },
          "execution_count": 60
        },
        {
          "output_type": "display_data",
          "data": {
            "image/png": "[encoded data removed]",
            "text/plain": [
              "<Figure size 720x720 with 1 Axes>"
            ]
          },
          "metadata": {
            "tags": []
          }
        }
      ]
    },
    {
      "cell_type": "code",
      "metadata": {
        "id": "lhvjj4tx7LQB"
      },
      "source": [
        "rfe_list = [new_trials.trials[i][\"result\"][\"rf_estimator\"] for i in range(len(new_trials.trials))]\n",
        "rfd_list = [new_trials.trials[i][\"result\"][\"rf_depth\"] for i in range(len(new_trials.trials))]\n",
        "rff_list = [new_trials.trials[i][\"result\"][\"rf_feature\"] for i in range(len(new_trials.trials))]"
      ],
      "execution_count": null,
      "outputs": []
    },
    {
      "cell_type": "code",
      "metadata": {
        "id": "1ELOR0Ij7OVJ",
        "colab": {
          "base_uri": "https://localhost:8080/",
          "height": 1000
        },
        "outputId": "ab0bd5ff-effe-4660-d129-27ca506cb239"
      },
      "source": [
        "perf_df = pd.DataFrame({\"rf_estimators\": rfe_list, \"rf_max_depth\": rfd_list, \"rf_max_features\": rff_list, \"valid_auc_score\": auc_list})\n",
        "perf_df.sort_values(by=\"valid_auc_score\", ascending=False)"
      ],
      "execution_count": null,
      "outputs": [
        {
          "output_type": "execute_result",
          "data": {
            "text/html": [
              "<div>\n",
              "<style scoped>\n",
              "    .dataframe tbody tr th:only-of-type {\n",
              "        vertical-align: middle;\n",
              "    }\n",
              "\n",
              "    .dataframe tbody tr th {\n",
              "        vertical-align: top;\n",
              "    }\n",
              "\n",
              "    .dataframe thead th {\n",
              "        text-align: right;\n",
              "    }\n",
              "</style>\n",
              "<table border=\"1\" class=\"dataframe\">\n",
              "  <thead>\n",
              "    <tr style=\"text-align: right;\">\n",
              "      <th></th>\n",
              "      <th>rf_estimators</th>\n",
              "      <th>rf_max_depth</th>\n",
              "      <th>rf_max_features</th>\n",
              "      <th>valid_r2_score</th>\n",
              "    </tr>\n",
              "  </thead>\n",
              "  <tbody>\n",
              "    <tr>\n",
              "      <th>35</th>\n",
              "      <td>235</td>\n",
              "      <td>221</td>\n",
              "      <td>186</td>\n",
              "      <td>0.018737</td>\n",
              "    </tr>\n",
              "    <tr>\n",
              "      <th>5</th>\n",
              "      <td>147</td>\n",
              "      <td>232</td>\n",
              "      <td>220</td>\n",
              "      <td>0.018550</td>\n",
              "    </tr>\n",
              "    <tr>\n",
              "      <th>40</th>\n",
              "      <td>239</td>\n",
              "      <td>219</td>\n",
              "      <td>190</td>\n",
              "      <td>0.018542</td>\n",
              "    </tr>\n",
              "    <tr>\n",
              "      <th>27</th>\n",
              "      <td>254</td>\n",
              "      <td>133</td>\n",
              "      <td>148</td>\n",
              "      <td>0.018515</td>\n",
              "    </tr>\n",
              "    <tr>\n",
              "      <th>31</th>\n",
              "      <td>224</td>\n",
              "      <td>210</td>\n",
              "      <td>228</td>\n",
              "      <td>0.018163</td>\n",
              "    </tr>\n",
              "    <tr>\n",
              "      <th>21</th>\n",
              "      <td>180</td>\n",
              "      <td>159</td>\n",
              "      <td>166</td>\n",
              "      <td>0.017844</td>\n",
              "    </tr>\n",
              "    <tr>\n",
              "      <th>41</th>\n",
              "      <td>89</td>\n",
              "      <td>176</td>\n",
              "      <td>198</td>\n",
              "      <td>0.017702</td>\n",
              "    </tr>\n",
              "    <tr>\n",
              "      <th>20</th>\n",
              "      <td>195</td>\n",
              "      <td>159</td>\n",
              "      <td>157</td>\n",
              "      <td>0.017660</td>\n",
              "    </tr>\n",
              "    <tr>\n",
              "      <th>44</th>\n",
              "      <td>206</td>\n",
              "      <td>219</td>\n",
              "      <td>111</td>\n",
              "      <td>0.017652</td>\n",
              "    </tr>\n",
              "    <tr>\n",
              "      <th>45</th>\n",
              "      <td>170</td>\n",
              "      <td>146</td>\n",
              "      <td>134</td>\n",
              "      <td>0.017590</td>\n",
              "    </tr>\n",
              "    <tr>\n",
              "      <th>15</th>\n",
              "      <td>213</td>\n",
              "      <td>75</td>\n",
              "      <td>115</td>\n",
              "      <td>0.017457</td>\n",
              "    </tr>\n",
              "    <tr>\n",
              "      <th>22</th>\n",
              "      <td>179</td>\n",
              "      <td>163</td>\n",
              "      <td>169</td>\n",
              "      <td>0.017370</td>\n",
              "    </tr>\n",
              "    <tr>\n",
              "      <th>29</th>\n",
              "      <td>255</td>\n",
              "      <td>255</td>\n",
              "      <td>185</td>\n",
              "      <td>0.017302</td>\n",
              "    </tr>\n",
              "    <tr>\n",
              "      <th>11</th>\n",
              "      <td>118</td>\n",
              "      <td>93</td>\n",
              "      <td>38</td>\n",
              "      <td>0.017258</td>\n",
              "    </tr>\n",
              "    <tr>\n",
              "      <th>47</th>\n",
              "      <td>226</td>\n",
              "      <td>197</td>\n",
              "      <td>68</td>\n",
              "      <td>0.017191</td>\n",
              "    </tr>\n",
              "    <tr>\n",
              "      <th>10</th>\n",
              "      <td>140</td>\n",
              "      <td>92</td>\n",
              "      <td>40</td>\n",
              "      <td>0.017161</td>\n",
              "    </tr>\n",
              "    <tr>\n",
              "      <th>26</th>\n",
              "      <td>91</td>\n",
              "      <td>176</td>\n",
              "      <td>83</td>\n",
              "      <td>0.017100</td>\n",
              "    </tr>\n",
              "    <tr>\n",
              "      <th>16</th>\n",
              "      <td>220</td>\n",
              "      <td>97</td>\n",
              "      <td>32</td>\n",
              "      <td>0.017096</td>\n",
              "    </tr>\n",
              "    <tr>\n",
              "      <th>12</th>\n",
              "      <td>123</td>\n",
              "      <td>31</td>\n",
              "      <td>208</td>\n",
              "      <td>0.016971</td>\n",
              "    </tr>\n",
              "    <tr>\n",
              "      <th>0</th>\n",
              "      <td>114</td>\n",
              "      <td>37</td>\n",
              "      <td>200</td>\n",
              "      <td>0.016968</td>\n",
              "    </tr>\n",
              "    <tr>\n",
              "      <th>7</th>\n",
              "      <td>143</td>\n",
              "      <td>239</td>\n",
              "      <td>192</td>\n",
              "      <td>0.016953</td>\n",
              "    </tr>\n",
              "    <tr>\n",
              "      <th>39</th>\n",
              "      <td>147</td>\n",
              "      <td>200</td>\n",
              "      <td>216</td>\n",
              "      <td>0.016924</td>\n",
              "    </tr>\n",
              "    <tr>\n",
              "      <th>18</th>\n",
              "      <td>120</td>\n",
              "      <td>94</td>\n",
              "      <td>97</td>\n",
              "      <td>0.016913</td>\n",
              "    </tr>\n",
              "    <tr>\n",
              "      <th>43</th>\n",
              "      <td>132</td>\n",
              "      <td>244</td>\n",
              "      <td>240</td>\n",
              "      <td>0.016903</td>\n",
              "    </tr>\n",
              "    <tr>\n",
              "      <th>32</th>\n",
              "      <td>204</td>\n",
              "      <td>141</td>\n",
              "      <td>139</td>\n",
              "      <td>0.016847</td>\n",
              "    </tr>\n",
              "    <tr>\n",
              "      <th>3</th>\n",
              "      <td>20</td>\n",
              "      <td>19</td>\n",
              "      <td>201</td>\n",
              "      <td>0.016819</td>\n",
              "    </tr>\n",
              "    <tr>\n",
              "      <th>37</th>\n",
              "      <td>106</td>\n",
              "      <td>227</td>\n",
              "      <td>219</td>\n",
              "      <td>0.016775</td>\n",
              "    </tr>\n",
              "    <tr>\n",
              "      <th>25</th>\n",
              "      <td>158</td>\n",
              "      <td>126</td>\n",
              "      <td>232</td>\n",
              "      <td>0.016763</td>\n",
              "    </tr>\n",
              "    <tr>\n",
              "      <th>38</th>\n",
              "      <td>179</td>\n",
              "      <td>244</td>\n",
              "      <td>186</td>\n",
              "      <td>0.016620</td>\n",
              "    </tr>\n",
              "    <tr>\n",
              "      <th>36</th>\n",
              "      <td>235</td>\n",
              "      <td>255</td>\n",
              "      <td>239</td>\n",
              "      <td>0.016530</td>\n",
              "    </tr>\n",
              "    <tr>\n",
              "      <th>23</th>\n",
              "      <td>164</td>\n",
              "      <td>134</td>\n",
              "      <td>251</td>\n",
              "      <td>0.016503</td>\n",
              "    </tr>\n",
              "    <tr>\n",
              "      <th>6</th>\n",
              "      <td>47</td>\n",
              "      <td>85</td>\n",
              "      <td>58</td>\n",
              "      <td>0.016466</td>\n",
              "    </tr>\n",
              "    <tr>\n",
              "      <th>13</th>\n",
              "      <td>133</td>\n",
              "      <td>90</td>\n",
              "      <td>248</td>\n",
              "      <td>0.016443</td>\n",
              "    </tr>\n",
              "    <tr>\n",
              "      <th>46</th>\n",
              "      <td>188</td>\n",
              "      <td>255</td>\n",
              "      <td>213</td>\n",
              "      <td>0.016359</td>\n",
              "    </tr>\n",
              "    <tr>\n",
              "      <th>1</th>\n",
              "      <td>169</td>\n",
              "      <td>247</td>\n",
              "      <td>225</td>\n",
              "      <td>0.016324</td>\n",
              "    </tr>\n",
              "    <tr>\n",
              "      <th>24</th>\n",
              "      <td>193</td>\n",
              "      <td>187</td>\n",
              "      <td>170</td>\n",
              "      <td>0.016324</td>\n",
              "    </tr>\n",
              "    <tr>\n",
              "      <th>8</th>\n",
              "      <td>244</td>\n",
              "      <td>233</td>\n",
              "      <td>121</td>\n",
              "      <td>0.016224</td>\n",
              "    </tr>\n",
              "    <tr>\n",
              "      <th>14</th>\n",
              "      <td>104</td>\n",
              "      <td>94</td>\n",
              "      <td>36</td>\n",
              "      <td>0.016201</td>\n",
              "    </tr>\n",
              "    <tr>\n",
              "      <th>2</th>\n",
              "      <td>234</td>\n",
              "      <td>207</td>\n",
              "      <td>134</td>\n",
              "      <td>0.016152</td>\n",
              "    </tr>\n",
              "    <tr>\n",
              "      <th>30</th>\n",
              "      <td>253</td>\n",
              "      <td>51</td>\n",
              "      <td>8</td>\n",
              "      <td>0.016054</td>\n",
              "    </tr>\n",
              "    <tr>\n",
              "      <th>34</th>\n",
              "      <td>155</td>\n",
              "      <td>108</td>\n",
              "      <td>209</td>\n",
              "      <td>0.015893</td>\n",
              "    </tr>\n",
              "    <tr>\n",
              "      <th>28</th>\n",
              "      <td>37</td>\n",
              "      <td>122</td>\n",
              "      <td>151</td>\n",
              "      <td>0.015659</td>\n",
              "    </tr>\n",
              "    <tr>\n",
              "      <th>4</th>\n",
              "      <td>122</td>\n",
              "      <td>74</td>\n",
              "      <td>202</td>\n",
              "      <td>0.015427</td>\n",
              "    </tr>\n",
              "    <tr>\n",
              "      <th>17</th>\n",
              "      <td>71</td>\n",
              "      <td>210</td>\n",
              "      <td>125</td>\n",
              "      <td>0.015319</td>\n",
              "    </tr>\n",
              "    <tr>\n",
              "      <th>33</th>\n",
              "      <td>54</td>\n",
              "      <td>191</td>\n",
              "      <td>91</td>\n",
              "      <td>0.014689</td>\n",
              "    </tr>\n",
              "    <tr>\n",
              "      <th>19</th>\n",
              "      <td>77</td>\n",
              "      <td>229</td>\n",
              "      <td>37</td>\n",
              "      <td>0.014612</td>\n",
              "    </tr>\n",
              "    <tr>\n",
              "      <th>48</th>\n",
              "      <td>65</td>\n",
              "      <td>179</td>\n",
              "      <td>255</td>\n",
              "      <td>0.014504</td>\n",
              "    </tr>\n",
              "    <tr>\n",
              "      <th>9</th>\n",
              "      <td>12</td>\n",
              "      <td>62</td>\n",
              "      <td>37</td>\n",
              "      <td>0.014466</td>\n",
              "    </tr>\n",
              "    <tr>\n",
              "      <th>49</th>\n",
              "      <td>8</td>\n",
              "      <td>233</td>\n",
              "      <td>178</td>\n",
              "      <td>0.011643</td>\n",
              "    </tr>\n",
              "    <tr>\n",
              "      <th>42</th>\n",
              "      <td>37</td>\n",
              "      <td>11</td>\n",
              "      <td>175</td>\n",
              "      <td>0.011574</td>\n",
              "    </tr>\n",
              "  </tbody>\n",
              "</table>\n",
              "</div>"
            ],
            "text/plain": [
              "    rf_estimators  rf_max_depth  rf_max_features  valid_r2_score\n",
              "35            235           221              186        0.018737\n",
              "5             147           232              220        0.018550\n",
              "40            239           219              190        0.018542\n",
              "27            254           133              148        0.018515\n",
              "31            224           210              228        0.018163\n",
              "21            180           159              166        0.017844\n",
              "41             89           176              198        0.017702\n",
              "20            195           159              157        0.017660\n",
              "44            206           219              111        0.017652\n",
              "45            170           146              134        0.017590\n",
              "15            213            75              115        0.017457\n",
              "22            179           163              169        0.017370\n",
              "29            255           255              185        0.017302\n",
              "11            118            93               38        0.017258\n",
              "47            226           197               68        0.017191\n",
              "10            140            92               40        0.017161\n",
              "26             91           176               83        0.017100\n",
              "16            220            97               32        0.017096\n",
              "12            123            31              208        0.016971\n",
              "0             114            37              200        0.016968\n",
              "7             143           239              192        0.016953\n",
              "39            147           200              216        0.016924\n",
              "18            120            94               97        0.016913\n",
              "43            132           244              240        0.016903\n",
              "32            204           141              139        0.016847\n",
              "3              20            19              201        0.016819\n",
              "37            106           227              219        0.016775\n",
              "25            158           126              232        0.016763\n",
              "38            179           244              186        0.016620\n",
              "36            235           255              239        0.016530\n",
              "23            164           134              251        0.016503\n",
              "6              47            85               58        0.016466\n",
              "13            133            90              248        0.016443\n",
              "46            188           255              213        0.016359\n",
              "1             169           247              225        0.016324\n",
              "24            193           187              170        0.016324\n",
              "8             244           233              121        0.016224\n",
              "14            104            94               36        0.016201\n",
              "2             234           207              134        0.016152\n",
              "30            253            51                8        0.016054\n",
              "34            155           108              209        0.015893\n",
              "28             37           122              151        0.015659\n",
              "4             122            74              202        0.015427\n",
              "17             71           210              125        0.015319\n",
              "33             54           191               91        0.014689\n",
              "19             77           229               37        0.014612\n",
              "48             65           179              255        0.014504\n",
              "9              12            62               37        0.014466\n",
              "49              8           233              178        0.011643\n",
              "42             37            11              175        0.011574"
            ]
          },
          "metadata": {
            "tags": []
          },
          "execution_count": 62
        }
      ]
    }
  ]
}