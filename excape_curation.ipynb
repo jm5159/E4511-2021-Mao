{
  "nbformat": 4,
  "nbformat_minor": 0,
  "metadata": {
    "extensions": {
      "jupyter_dashboards": {
        "activeView": "report_default",
        "version": 1,
        "views": {
          "grid_default": {
            "cellMargin": 10,
            "defaultCellHeight": 20,
            "maxColumns": 12,
            "name": "grid",
            "type": "grid"
          },
          "report_default": {
            "name": "report",
            "type": "report"
          }
        }
      }
    },
    "kernelspec": {
      "display_name": "Python 3",
      "language": "python",
      "name": "python3"
    },
    "language_info": {
      "codemirror_mode": {
        "name": "ipython",
        "version": 3
      },
      "file_extension": ".py",
      "mimetype": "text/x-python",
      "name": "python",
      "nbconvert_exporter": "python",
      "pygments_lexer": "ipython3",
      "version": "3.7.6"
    },
    "colab": {
      "name": "excape_curation.ipynb",
      "provenance": [],
      "collapsed_sections": []
    },
    "accelerator": "GPU"
  },
  "cells": [
    {
      "cell_type": "markdown",
      "metadata": {
        "id": "ThWpRE-KfBZB"
      },
      "source": [
        "# Before you begin, make sure you close all other COLAB notebooks. "
      ]
    },
    {
      "cell_type": "markdown",
      "metadata": {
        "id": "wDJc1Nu7fVy4"
      },
      "source": [
        "# Change Runtime settings\r\n",
        "\r\n",
        "## Plesae change your runtime settings to use GPU and high-memory, if you have \r\n",
        "\r\n",
        "## Runtime --> Change Runtime Type --> GPU wityh high-RAM"
      ]
    },
    {
      "cell_type": "code",
      "metadata": {
        "colab": {
          "base_uri": "https://localhost:8080/"
        },
        "id": "vt63AWnwKIUZ",
        "outputId": "10401823-a0f6-42e8-d80c-f8fbe9389e94"
      },
      "source": [
        "!date # starting time "
      ],
      "execution_count": null,
      "outputs": [
        {
          "output_type": "stream",
          "text": [
            "Mon Jan 18 02:52:31 UTC 2021\n"
          ],
          "name": "stdout"
        }
      ]
    },
    {
      "cell_type": "markdown",
      "metadata": {
        "id": "pPHPLDddQJw3"
      },
      "source": [
        "## Install AMPL GPU version. \r\n",
        "\r\n",
        "```\r\n",
        "real\t2m59.739s\r\n",
        "user\t1m48.995s\r\n",
        "sys\t0m20.614s\r\n",
        "```"
      ]
    },
    {
      "cell_type": "code",
      "metadata": {
        "colab": {
          "base_uri": "https://localhost:8080/"
        },
        "id": "1qHVGG27P_I4",
        "outputId": "24e251eb-b6bb-4f46-a777-a7c9de5398b5"
      },
      "source": [
        "%tensorflow_version 1.x\r\n",
        "\r\n",
        "# get the Anaconda file \r\n",
        "! wget -c https://repo.anaconda.com/archive/Anaconda3-2019.10-Linux-x86_64.sh\r\n",
        "! chmod +x Anaconda3-2019.10-Linux-x86_64.sh\r\n",
        "! bash ./Anaconda3-2019.10-Linux-x86_64.sh -b -f -p /usr/local\r\n",
        "\r\n",
        "! time conda install -y -c deepchem -c rdkit -c conda-forge -c omnia deepchem-gpu=2.3.0\r\n",
        "\r\n",
        "import sys\r\n",
        "sys.path.append('/usr/local/lib/python3.7/site-packages/')\r\n",
        "import deepchem as dc\r\n",
        "\r\n",
        "# install mordred, bravado and molvs\r\n",
        "! time conda install -c conda-forge -y mordred bravado molvs\r\n",
        "\r\n",
        "# get the Install AMPL_GPU_test.sh\r\n",
        "!wget https://raw.githubusercontent.com/ravichas/AMPL-Tutorial/master/config/install_AMPL_GPU_test.sh\r\n",
        "\r\n",
        "# run the script to install AMPL\r\n",
        "! chmod u+x install_AMPL_GPU_test.sh\r\n",
        "! ./install_AMPL_GPU_test.sh"
      ],
      "execution_count": null,
      "outputs": [
        {
          "output_type": "stream",
          "text": [
            "--2021-03-04 21:06:30--  https://repo.anaconda.com/miniconda/Miniconda3-latest-Linux-x86_64.sh\n",
            "Resolving repo.anaconda.com (repo.anaconda.com)... 104.16.131.3, 104.16.130.3, 2606:4700::6810:8303, ...\n",
            "Connecting to repo.anaconda.com (repo.anaconda.com)|104.16.131.3|:443... connected.\n",
            "HTTP request sent, awaiting response... 200 OK\n",
            "Length: 94235922 (90M) [application/x-sh]\n",
            "Saving to: ‘Miniconda3-latest-Linux-x86_64.sh’\n",
            "\n",
            "Miniconda3-latest-L 100%[===================>]  89.87M   192MB/s    in 0.5s    \n",
            "\n",
            "2021-03-04 21:06:31 (192 MB/s) - ‘Miniconda3-latest-Linux-x86_64.sh’ saved [94235922/94235922]\n",
            "\n",
            "PREFIX=/content/AMPL\n",
            "Unpacking payload ...\n",
            "Collecting package metadata (current_repodata.json): - \b\b\\ \b\b| \b\bdone\n",
            "Solving environment: - \b\b\\ \b\bdone\n",
            "\n",
            "## Package Plan ##\n",
            "\n",
            "  environment location: /content/AMPL\n",
            "\n",
            "  added / updated specs:\n",
            "    - _libgcc_mutex==0.1=main\n",
            "    - brotlipy==0.7.0=py38h27cfd23_1003\n",
            "    - ca-certificates==2020.10.14=0\n",
            "    - certifi==2020.6.20=pyhd3eb1b0_3\n",
            "    - cffi==1.14.3=py38h261ae71_2\n",
            "    - chardet==3.0.4=py38h06a4308_1003\n",
            "    - conda-package-handling==1.7.2=py38h03888b9_0\n",
            "    - conda==4.9.2=py38h06a4308_0\n",
            "    - cryptography==3.2.1=py38h3c74f83_1\n",
            "    - idna==2.10=py_0\n",
            "    - ld_impl_linux-64==2.33.1=h53a641e_7\n",
            "    - libedit==3.1.20191231=h14c3975_1\n",
            "    - libffi==3.3=he6710b0_2\n",
            "    - libgcc-ng==9.1.0=hdf63c60_0\n",
            "    - libstdcxx-ng==9.1.0=hdf63c60_0\n",
            "    - ncurses==6.2=he6710b0_1\n",
            "    - openssl==1.1.1h=h7b6447c_0\n",
            "    - pip==20.2.4=py38h06a4308_0\n",
            "    - pycosat==0.6.3=py38h7b6447c_1\n",
            "    - pycparser==2.20=py_2\n",
            "    - pyopenssl==19.1.0=pyhd3eb1b0_1\n",
            "    - pysocks==1.7.1=py38h06a4308_0\n",
            "    - python==3.8.5=h7579374_1\n",
            "    - readline==8.0=h7b6447c_0\n",
            "    - requests==2.24.0=py_0\n",
            "    - ruamel_yaml==0.15.87=py38h7b6447c_1\n",
            "    - setuptools==50.3.1=py38h06a4308_1\n",
            "    - six==1.15.0=py38h06a4308_0\n",
            "    - sqlite==3.33.0=h62c20be_0\n",
            "    - tk==8.6.10=hbc83047_0\n",
            "    - tqdm==4.51.0=pyhd3eb1b0_0\n",
            "    - urllib3==1.25.11=py_0\n",
            "    - wheel==0.35.1=pyhd3eb1b0_0\n",
            "    - xz==5.2.5=h7b6447c_0\n",
            "    - yaml==0.2.5=h7b6447c_0\n",
            "    - zlib==1.2.11=h7b6447c_3\n",
            "\n",
            "\n",
            "The following NEW packages will be INSTALLED:\n",
            "\n",
            "  _libgcc_mutex      pkgs/main/linux-64::_libgcc_mutex-0.1-main\n",
            "  brotlipy           pkgs/main/linux-64::brotlipy-0.7.0-py38h27cfd23_1003\n",
            "  ca-certificates    pkgs/main/linux-64::ca-certificates-2020.10.14-0\n",
            "  certifi            pkgs/main/noarch::certifi-2020.6.20-pyhd3eb1b0_3\n",
            "  cffi               pkgs/main/linux-64::cffi-1.14.3-py38h261ae71_2\n",
            "  chardet            pkgs/main/linux-64::chardet-3.0.4-py38h06a4308_1003\n",
            "  conda              pkgs/main/linux-64::conda-4.9.2-py38h06a4308_0\n",
            "  conda-package-han~ pkgs/main/linux-64::conda-package-handling-1.7.2-py38h03888b9_0\n",
            "  cryptography       pkgs/main/linux-64::cryptography-3.2.1-py38h3c74f83_1\n",
            "  idna               pkgs/main/noarch::idna-2.10-py_0\n",
            "  ld_impl_linux-64   pkgs/main/linux-64::ld_impl_linux-64-2.33.1-h53a641e_7\n",
            "  libedit            pkgs/main/linux-64::libedit-3.1.20191231-h14c3975_1\n",
            "  libffi             pkgs/main/linux-64::libffi-3.3-he6710b0_2\n",
            "  libgcc-ng          pkgs/main/linux-64::libgcc-ng-9.1.0-hdf63c60_0\n",
            "  libstdcxx-ng       pkgs/main/linux-64::libstdcxx-ng-9.1.0-hdf63c60_0\n",
            "  ncurses            pkgs/main/linux-64::ncurses-6.2-he6710b0_1\n",
            "  openssl            pkgs/main/linux-64::openssl-1.1.1h-h7b6447c_0\n",
            "  pip                pkgs/main/linux-64::pip-20.2.4-py38h06a4308_0\n",
            "  pycosat            pkgs/main/linux-64::pycosat-0.6.3-py38h7b6447c_1\n",
            "  pycparser          pkgs/main/noarch::pycparser-2.20-py_2\n",
            "  pyopenssl          pkgs/main/noarch::pyopenssl-19.1.0-pyhd3eb1b0_1\n",
            "  pysocks            pkgs/main/linux-64::pysocks-1.7.1-py38h06a4308_0\n",
            "  python             pkgs/main/linux-64::python-3.8.5-h7579374_1\n",
            "  readline           pkgs/main/linux-64::readline-8.0-h7b6447c_0\n",
            "  requests           pkgs/main/noarch::requests-2.24.0-py_0\n",
            "  ruamel_yaml        pkgs/main/linux-64::ruamel_yaml-0.15.87-py38h7b6447c_1\n",
            "  setuptools         pkgs/main/linux-64::setuptools-50.3.1-py38h06a4308_1\n",
            "  six                pkgs/main/linux-64::six-1.15.0-py38h06a4308_0\n",
            "  sqlite             pkgs/main/linux-64::sqlite-3.33.0-h62c20be_0\n",
            "  tk                 pkgs/main/linux-64::tk-8.6.10-hbc83047_0\n",
            "  tqdm               pkgs/main/noarch::tqdm-4.51.0-pyhd3eb1b0_0\n",
            "  urllib3            pkgs/main/noarch::urllib3-1.25.11-py_0\n",
            "  wheel              pkgs/main/noarch::wheel-0.35.1-pyhd3eb1b0_0\n",
            "  xz                 pkgs/main/linux-64::xz-5.2.5-h7b6447c_0\n",
            "  yaml               pkgs/main/linux-64::yaml-0.2.5-h7b6447c_0\n",
            "  zlib               pkgs/main/linux-64::zlib-1.2.11-h7b6447c_3\n",
            "\n",
            "\n",
            "Preparing transaction: / \b\b- \b\b\\ \b\bdone\n",
            "Executing transaction: / \b\b- \b\b\\ \b\b| \b\b/ \b\b- \b\b\\ \b\b| \b\b/ \b\b- \b\bdone\n",
            "installation finished.\n",
            "WARNING:\n",
            "    You currently have a PYTHONPATH environment variable set. This may cause\n",
            "    unexpected behavior when running the Python interpreter in Miniconda3.\n",
            "    For best results, please verify that your PYTHONPATH only points to\n",
            "    directories of packages that are compatible with the Python interpreter\n",
            "    in Miniconda3: /content/AMPL\n",
            "\n",
            "Downloading and Extracting Packages\n",
            "_libgcc_mutex-0.1    | : 100% 1.0/1 [00:00<00:00,  5.69it/s]\n",
            "ca-certificates-2020 | : 100% 1.0/1 [00:00<00:00, 12.48it/s]\n",
            "cudatoolkit-9.0      | : 100% 1.0/1 [00:05<00:00,  5.30s/it]               \n",
            "fftw3f-3.3.4         | : 100% 1.0/1 [00:01<00:00,  1.39s/it]\n",
            "libgfortran-3.0.0    | : 100% 1.0/1 [00:00<00:00, 10.88it/s]\n",
            "libgfortran-ng-7.5.0 | : 100% 1.0/1 [00:00<00:00,  3.02it/s]\n",
            "libstdcxx-ng-9.2.0   | : 100% 1.0/1 [00:00<00:00,  1.21it/s]\n",
            "pandoc-2.9.2.1       | : 100% 1.0/1 [00:04<00:00,  4.03s/it]\n",
            "cudnn-7.6.5          | : 100% 1.0/1 [00:06<00:00,  6.49s/it]\n",
            "cupti-9.0.176        | : 100% 1.0/1 [00:06<00:00,  6.84s/it]\n",
            "libgomp-9.2.0        | : 100% 1.0/1 [00:00<00:00,  6.39it/s]\n",
            "openblas-0.2.20      | : 100% 1.0/1 [00:03<00:00,  3.36s/it]               \n",
            "_openmp_mutex-4.5    | : 100% 1.0/1 [00:00<00:00, 11.88it/s]\n",
            "blas-1.1             | : 100% 1.0/1 [00:00<00:00, 28.77it/s]\n",
            "libgcc-ng-9.2.0      | : 100% 1.0/1 [00:01<00:00,  1.21s/it]               \n",
            "blosc-1.18.1         | : 100% 1.0/1 [00:00<00:00,  6.12it/s]\n",
            "bzip2-1.0.8          | : 100% 1.0/1 [00:00<00:00,  8.61it/s]\n",
            "c-ares-1.15.0        | : 100% 1.0/1 [00:00<00:00, 15.15it/s]\n",
            "expat-2.2.9          | : 100% 1.0/1 [00:00<00:00, 15.02it/s]\n",
            "icu-58.2             | : 100% 1.0/1 [00:03<00:00,  3.27s/it]               \n",
            "jpeg-9c              | : 100% 1.0/1 [00:00<00:00, 11.58it/s]\n",
            "libffi-3.2.1         | : 100% 1.0/1 [00:00<00:00, 23.06it/s]\n",
            "libiconv-1.15        | : 100% 1.0/1 [00:00<00:00,  3.18it/s]\n",
            "libllvm8-8.0.1       | : 100% 1.0/1 [00:03<00:00,  3.69s/it]               \n",
            "libsodium-1.0.17     | : 100% 1.0/1 [00:00<00:00, 11.12it/s]\n",
            "libuuid-2.32.1       | : 100% 1.0/1 [00:00<00:00, 23.92it/s]\n",
            "lzo-2.10             | : 100% 1.0/1 [00:00<00:00,  8.76it/s]\n",
            "ncurses-6.1          | : 100% 1.0/1 [00:00<00:00,  2.36it/s]\n",
            "openssl-1.0.2u       | : 100% 1.0/1 [00:00<00:00,  1.34it/s]\n",
            "pcre-8.44            | : 100% 1.0/1 [00:00<00:00,  5.07it/s]                \n",
            "pixman-0.34.0        | : 100% 1.0/1 [00:00<00:00,  7.89it/s]\n",
            "pthread-stubs-0.4    | : 100% 1.0/1 [00:00<00:00, 21.00it/s]\n",
            "tbb-2020.1           | : 100% 1.0/1 [00:00<00:00,  3.87it/s]\n",
            "xorg-kbproto-1.0.7   | : 100% 1.0/1 [00:00<00:00, 16.71it/s]\n",
            "xorg-libice-1.0.10   | : 100% 1.0/1 [00:00<00:00, 24.99it/s]\n",
            "xorg-libxau-1.0.9    | : 100% 1.0/1 [00:00<00:00, 25.92it/s]\n",
            "xorg-libxdmcp-1.1.3  | : 100% 1.0/1 [00:00<00:00, 31.68it/s]\n",
            "xorg-renderproto-0.1 | : 100% 1.0/1 [00:00<00:00, 26.78it/s]\n",
            "xorg-xextproto-7.3.0 | : 100% 1.0/1 [00:00<00:00, 21.07it/s]\n",
            "xorg-xproto-7.0.31   | : 100% 1.0/1 [00:00<00:00, 19.07it/s]\n",
            "xz-5.2.5             | : 100% 1.0/1 [00:00<00:00,  8.89it/s]\n",
            "yaml-0.2.4           | : 100% 1.0/1 [00:00<00:00, 17.14it/s]\n",
            "zlib-1.2.11          | : 100% 1.0/1 [00:00<00:00, 15.34it/s]\n",
            "dbus-1.13.0          | : 100% 1.0/1 [00:00<00:00,  7.47it/s]\n",
            "gettext-0.19.8.1     | : 100% 1.0/1 [00:00<00:00,  1.14it/s]\n",
            "hdf5-1.10.6          | : 100% 1.0/1 [00:00<00:00,  2.18it/s]\n",
            "libpng-1.6.37        | : 100% 1.0/1 [00:00<00:00, 10.70it/s]\n",
            "libprotobuf-3.12.1   | : 100% 1.0/1 [00:00<00:00,  1.08it/s]               \n",
            "libtiff-4.0.9        | : 100% 1.0/1 [00:00<00:00,  8.69it/s]\n",
            "libxcb-1.13          | : 100% 1.0/1 [00:00<00:00,  7.67it/s]\n",
            "libxml2-2.9.9        | : 100% 1.0/1 [00:00<00:00,  3.19it/s]\n",
            "readline-7.0         | : 100% 1.0/1 [00:00<00:00,  9.64it/s]\n",
            "tk-8.6.10            | : 100% 1.0/1 [00:00<00:00,  1.79it/s]\n",
            "xorg-libsm-1.2.3     | : 100% 1.0/1 [00:00<00:00, 30.27it/s]\n",
            "zeromq-4.3.2         | : 100% 1.0/1 [00:00<00:00,  6.47it/s]\n",
            "freetype-2.8.1       | : 100% 1.0/1 [00:00<00:00,  5.12it/s]\n",
            "glib-2.55.0          | : 100% 1.0/1 [00:01<00:00,  1.36s/it]\n",
            "sqlite-3.28.0        | : 100% 1.0/1 [00:00<00:00,  3.26it/s]\n",
            "xorg-libx11-1.6.9    | : 100% 1.0/1 [00:00<00:00,  5.87it/s]\n",
            "fontconfig-2.13.0    | : 100% 1.0/1 [00:00<00:00, 11.38it/s]\n",
            "gstreamer-1.12.5     | : 100% 1.0/1 [00:00<00:00,  2.92it/s]\n",
            "python-3.6.7         | : 100% 1.0/1 [00:04<00:00,  4.64s/it]               \n",
            "xorg-libxext-1.3.4   | : 100% 1.0/1 [00:00<00:00, 25.50it/s]\n",
            "xorg-libxrender-0.9. | : 100% 1.0/1 [00:00<00:00, 23.63it/s]\n",
            "astor-0.7.1          | : 100% 1.0/1 [00:00<00:00, 29.13it/s]\n",
            "attrs-19.3.0         | : 100% 1.0/1 [00:00<00:00, 21.18it/s]\n",
            "backcall-0.1.0       | : 100% 1.0/1 [00:00<00:00,  7.98it/s]\n",
            "cairo-1.14.12        | : 100% 1.0/1 [00:00<00:00,  3.40it/s]\n",
            "decorator-4.4.2      | : 100% 1.0/1 [00:00<00:00, 29.62it/s]\n",
            "defusedxml-0.6.0     | : 100% 1.0/1 [00:00<00:00, 23.58it/s]\n",
            "gast-0.3.3           | : 100% 1.0/1 [00:00<00:00, 19.24it/s]\n",
            "gst-plugins-base-1.1 | : 100% 1.0/1 [00:00<00:00,  1.41it/s]\n",
            "idna-2.6             | : 100% 1.0/1 [00:00<00:00, 18.29it/s]\n",
            "ipython_genutils-0.2 | : 100% 1.0/1 [00:00<00:00, 22.70it/s]\n",
            "joblib-0.11          | : 100% 1.0/1 [00:00<00:00, 12.92it/s]\n",
            "jsonref-0.2          | : 100% 1.0/1 [00:00<00:00, 25.37it/s]\n",
            "monotonic-1.5        | : 100% 1.0/1 [00:00<00:00, 28.74it/s]\n",
            "more-itertools-8.3.0 | : 100% 1.0/1 [00:00<00:00, 27.00it/s]\n",
            "msgpack-python-0.5.5 | : 100% 1.0/1 [00:00<00:00, 11.41it/s]\n",
            "numpy-1.15.2         | : 100% 1.0/1 [00:01<00:00,  1.56s/it]\n",
            "olefile-0.46         | : 100% 1.0/1 [00:00<00:00, 27.53it/s]\n",
            "pandocfilters-1.4.2  | : 100% 1.0/1 [00:00<00:00, 29.26it/s]\n",
            "parso-0.7.0          | : 100% 1.0/1 [00:00<00:00, 23.31it/s]\n",
            "prometheus_client-0. | : 100% 1.0/1 [00:00<00:00, 23.22it/s]\n",
            "ptyprocess-0.6.0     | : 100% 1.0/1 [00:00<00:00, 33.59it/s]\n",
            "py-1.8.1             | : 100% 1.0/1 [00:00<00:00, 21.64it/s]\n",
            "pycparser-2.20       | : 100% 1.0/1 [00:00<00:00, 20.35it/s]\n",
            "pyparsing-2.4.7      | : 100% 1.0/1 [00:00<00:00, 23.15it/s]\n",
            "python_abi-3.6       | : 100% 1.0/1 [00:00<00:00, 34.22it/s]\n",
            "pytz-2020.1          | : 100% 1.0/1 [00:00<00:00,  8.31it/s]\n",
            "qtpy-1.9.0           | : 100% 1.0/1 [00:00<00:00, 19.86it/s]\n",
            "send2trash-1.5.0     | : 100% 1.0/1 [00:00<00:00, 22.05it/s]\n",
            "sip-4.18.1           | : 100% 1.0/1 [00:00<00:00, 10.28it/s]\n",
            "six-1.15.0           | : 100% 1.0/1 [00:00<00:00, 23.77it/s]\n",
            "termcolor-1.1.0      | : 100% 1.0/1 [00:00<00:00, 28.12it/s]\n",
            "testpath-0.4.4       | : 100% 1.0/1 [00:00<00:00, 18.81it/s]\n",
            "tqdm-4.46.0          | : 100% 1.0/1 [00:00<00:00, 16.96it/s]\n",
            "wcwidth-0.1.9        | : 100% 1.0/1 [00:00<00:00, 20.05it/s]\n",
            "webencodings-0.5.1   | : 100% 1.0/1 [00:00<00:00, 32.68it/s]\n",
            "werkzeug-1.0.1       | : 100% 1.0/1 [00:00<00:00, 10.54it/s]\n",
            "zipp-3.1.0           | : 100% 1.0/1 [00:00<00:00, 26.28it/s]\n",
            "absl-py-0.9.0        | : 100% 1.0/1 [00:00<00:00, 12.05it/s]\n",
            "asn1crypto-1.3.0     | : 100% 1.0/1 [00:00<00:00, 12.32it/s]\n",
            "boost-1.63.0         | : 100% 1.0/1 [00:05<00:00,  5.61s/it]\n",
            "certifi-2020.4.5.1   | : 100% 1.0/1 [00:00<00:00, 17.16it/s]\n",
            "cffi-1.14.0          | : 100% 1.0/1 [00:00<00:00, 14.49it/s]\n",
            "chardet-3.0.4        | : 100% 1.0/1 [00:00<00:00, 11.77it/s]\n",
            "conda-package-handli | : 100% 1.0/1 [00:00<00:00,  4.62it/s]\n",
            "cycler-0.10.0        | : 100% 1.0/1 [00:00<00:00, 31.55it/s]\n",
            "cython-0.29.19       | : 100% 1.0/1 [00:00<00:00,  2.12it/s]\n",
            "entrypoints-0.3      | : 100% 1.0/1 [00:00<00:00, 18.79it/s]\n",
            "html5lib-0.9999999   | : 100% 1.0/1 [00:00<00:00, 13.46it/s]\n",
            "importlib-metadata-1 | : 100% 1.0/1 [00:00<00:00, 18.73it/s]\n",
            "jedi-0.17.0          | : 100% 1.0/1 [00:00<00:00,  3.04it/s]\n",
            "kiwisolver-1.2.0     | : 100% 1.0/1 [00:00<00:00, 17.74it/s]\n",
            "llvmlite-0.32.0      | : 100% 1.0/1 [00:00<00:00,  9.22it/s]\n",
            "markupsafe-1.1.1     | : 100% 1.0/1 [00:00<00:00, 21.35it/s]\n",
            "mistune-0.8.4        | : 100% 1.0/1 [00:00<00:00, 14.83it/s]\n",
            "mock-4.0.2           | : 100% 1.0/1 [00:00<00:00, 11.67it/s]\n",
            "packaging-20.4       | : 100% 1.0/1 [00:00<00:00, 18.96it/s]\n",
            "pexpect-4.8.0        | : 100% 1.0/1 [00:00<00:00, 14.87it/s]\n",
            "pickleshare-0.7.5    | : 100% 1.0/1 [00:00<00:00, 28.61it/s]\n",
            "pillow-5.0.0         | : 100% 1.0/1 [00:00<00:00,  5.02it/s]\n",
            "pycosat-0.6.3        | : 100% 1.0/1 [00:00<00:00, 21.93it/s]\n",
            "pyrsistent-0.16.0    | : 100% 1.0/1 [00:00<00:00, 20.14it/s]\n",
            "pysocks-1.7.1        | : 100% 1.0/1 [00:00<00:00,  4.76it/s]              \n",
            "python-dateutil-2.8. | : 100% 1.0/1 [00:00<00:00,  3.23it/s]                \n",
            "pyyaml-5.3.1         | : 100% 1.0/1 [00:00<00:00,  7.80it/s]\n",
            "pyzmq-19.0.1         | : 100% 1.0/1 [00:00<00:00,  6.77it/s]\n",
            "qt-5.6.2             | : 100% 1.0/1 [00:02<00:00,  2.44s/it]               \n",
            "ruamel_yaml-0.15.80  | : 100% 1.0/1 [00:00<00:00, 11.51it/s]\n",
            "scipy-1.1.0          | : 100% 1.0/1 [00:05<00:00,  5.87s/it]\n",
            "simplejson-3.17.0    | : 100% 1.0/1 [00:00<00:00, 18.18it/s]\n",
            "tornado-6.0.4        | : 100% 1.0/1 [00:00<00:00,  5.25it/s]\n",
            "traitlets-4.3.3      | : 100% 1.0/1 [00:00<00:00, 15.66it/s]\n",
            "bleach-1.5.0         | : 100% 1.0/1 [00:00<00:00, 29.73it/s]\n",
            "cryptography-2.5     | : 100% 1.0/1 [00:00<00:00,  6.11it/s]\n",
            "importlib_metadata-1 | : 100% 1.0/1 [00:00<00:00, 24.10it/s]\n",
            "jupyter_core-4.6.3   | : 100% 1.0/1 [00:00<00:00, 20.30it/s]\n",
            "markdown-3.2.2       | : 100% 1.0/1 [00:00<00:00, 20.09it/s]\n",
            "openmm-7.4.2         | : 100% 1.0/1 [00:03<00:00,  3.94s/it]\n",
            "pandas-0.22.0        | : 100% 1.0/1 [00:04<00:00,  4.28s/it]\n",
            "patsy-0.5.1          | : 100% 1.0/1 [00:00<00:00, 13.82it/s]\n",
            "pyqt-5.6.0           | : 100% 1.0/1 [00:01<00:00,  1.07s/it]\n",
            "scikit-learn-0.19.1  | : 100% 1.0/1 [00:02<00:00,  2.01s/it]\n",
            "setuptools-47.1.1    | : 100% 1.0/1 [00:00<00:00,  5.71it/s]\n",
            "terminado-0.8.3      | : 100% 1.0/1 [00:00<00:00, 23.82it/s]\n",
            "xgboost-0.6a2        | : 100% 1.0/1 [00:00<00:00,  1.66it/s]\n",
            "anyconfig-0.9.10     | : 100% 1.0/1 [00:00<00:00, 25.23it/s]\n",
            "grpcio-1.16.0        | : 100% 1.0/1 [00:00<00:00,  4.70it/s]\n",
            "jinja2-2.11.2        | : 100% 1.0/1 [00:00<00:00, 13.53it/s]\n",
            "jsonschema-3.2.0     | : 100% 1.0/1 [00:00<00:00, 16.18it/s]\n",
            "jupyter_client-6.1.3 | : 100% 1.0/1 [00:00<00:00, 15.63it/s]\n",
            "matplotlib-2.2.2     | : 100% 1.0/1 [00:00<00:00,  4.76it/s]\n",
            "networkx-2.1         | : 100% 1.0/1 [00:00<00:00,  3.80it/s]\n",
            "numba-0.49.1         | : 100% 1.0/1 [00:00<00:00,  1.26it/s]\n",
            "numexpr-2.7.1        | : 100% 1.0/1 [00:00<00:00,  7.12it/s]                \n",
            "pdbfixer-1.4         | : 100% 1.0/1 [00:00<00:00,  1.24it/s]\n",
            "pluggy-0.13.1        | : 100% 1.0/1 [00:00<00:00, 25.14it/s]\n",
            "protobuf-3.12.1      | : 100% 1.0/1 [00:00<00:00,  3.63it/s]\n",
            "pygments-2.6.1       | : 100% 1.0/1 [00:00<00:00,  5.47it/s]\n",
            "pyopenssl-19.0.0     | : 100% 1.0/1 [00:00<00:00, 16.17it/s]\n",
            "rdkit-2017.09.1      | : 100% 1.0/1 [00:04<00:00,  4.90s/it]\n",
            "statsmodels-0.10.2   | : 100% 1.0/1 [00:01<00:00,  1.90s/it]               \n",
            "wheel-0.34.2         | : 100% 1.0/1 [00:00<00:00, 28.01it/s]\n",
            "molvs-0.1.1          | : 100% 1.0/1 [00:00<00:00, 27.03it/s]\n",
            "mordred-1.2.0        | : 100% 1.0/1 [00:00<00:00, 15.08it/s]\n",
            "nbformat-5.0.6       | : 100% 1.0/1 [00:00<00:00, 19.79it/s]\n",
            "pip-20.1.1           | : 100% 1.0/1 [00:00<00:00,  3.11it/s]\n",
            "prompt-toolkit-3.0.5 | : 100% 1.0/1 [00:00<00:00,  9.94it/s]\n",
            "pytables-3.6.1       | : 100% 1.0/1 [00:00<00:00,  3.11it/s]\n",
            "pytest-5.4.2         | : 100% 1.0/1 [00:00<00:00,  8.96it/s]\n",
            "seaborn-0.10.0       | : 100% 1.0/1 [00:00<00:00, 12.93it/s]\n",
            "simdna-0.4.2         | : 100% 1.0/1 [00:01<00:00,  1.18s/it]\n",
            "swagger-spec-validat | : 100% 1.0/1 [00:00<00:00, 27.31it/s]\n",
            "tensorboard-1.6.0    | : 100% 1.0/1 [00:00<00:00,  2.85it/s]\n",
            "tensorflow-gpu-base- | : 100% 1.0/1 [00:04<00:00,  4.66s/it]               \n",
            "umap-learn-0.4.2     | : 100% 1.0/1 [00:00<00:00, 12.65it/s]\n",
            "urllib3-1.22         | : 100% 1.0/1 [00:00<00:00, 13.22it/s]\n",
            "bravado-core-5.16.0  | : 100% 1.0/1 [00:00<00:00, 20.15it/s]\n",
            "ipython-7.15.0       | : 100% 1.0/1 [00:00<00:00,  3.44it/s]\n",
            "mdtraj-1.9.1         | : 100% 1.0/1 [00:02<00:00,  2.35s/it]\n",
            "nbconvert-5.6.1      | : 100% 1.0/1 [00:00<00:00,  7.40it/s]\n",
            "prompt_toolkit-3.0.5 | : 100% 1.0/1 [00:00<00:00, 32.64it/s]\n",
            "requests-2.18.4      | : 100% 1.0/1 [00:00<00:00, 16.53it/s]\n",
            "tensorflow-gpu-1.6.0 | : 100% 1.0/1 [00:00<00:00, 16.78it/s]\n",
            "bravado-10.4.3       | : 100% 1.0/1 [00:00<00:00, 21.18it/s]\n",
            "conda-4.8.3          | : 100% 1.0/1 [00:00<00:00,  1.78it/s]\n",
            "ipykernel-5.3.0      | : 100% 1.0/1 [00:00<00:00, 14.06it/s]\n",
            "jupyter_console-6.1. | : 100% 1.0/1 [00:00<00:00, 29.29it/s]\n",
            "notebook-6.0.3       | : 100% 1.0/1 [00:01<00:00,  1.33s/it]               \n",
            "qtconsole-4.7.4      | : 100% 1.0/1 [00:00<00:00, 17.60it/s]\n",
            "widgetsnbextension-3 | : 100% 1.0/1 [00:00<00:00,  2.60it/s]\n",
            "ipywidgets-7.5.1     | : 100% 1.0/1 [00:00<00:00, 15.96it/s]\n",
            "jupyter-1.0.0        | : 100% 1.0/1 [00:00<00:00, 25.75it/s]\n",
            "deepchem-gpu-2.1.0   | : 100% 1.0/1 [00:01<00:00,  1.64s/it]\n",
            "Preparing transaction: - \b\b\\ \b\b| \b\b/ \b\b- \b\b\\ \b\b| \b\b/ \b\b- \b\b\\ \b\b| \b\b/ \b\b- \b\b\\ \b\b| \b\b/ \b\b- \b\b\\ \b\bdone\n",
            "Verifying transaction: / \b\b- \b\b\\ \b\b| \b\b/ \b\b- \b\b\\ \b\b| \b\b/ \b\b- \b\b\\ \b\b| \b\b/ \b\b- \b\b\\ \b\b| \b\b/ \b\b- \b\b\\ \b\b| \b\b/ \b\b- \b\b\\ \b\b| \b\b/ \b\b- \b\b\\ \b\b| \b\b/ \b\b- \b\b\\ \b\b| \b\b/ \b\b- \b\b\\ \b\b| \b\b/ \b\b- \b\b\\ \b\b| \b\b/ \b\b- \b\b\\ \b\b| \b\b/ \b\b- \b\b\\ \b\b| \b\b/ \b\b- \b\b\\ \b\b| \b\b/ \b\b- \b\b\\ \b\b| \b\b/ \b\b- \b\b\\ \b\b| \b\b/ \b\b- \b\b\\ \b\b| \b\b/ \b\b- \b\b\\ \b\b| \b\b/ \b\b- \b\b\\ \b\b| \b\b/ \b\b- \b\b\\ \b\b| \b\b/ \b\b- \b\bdone\n",
            "Executing transaction: | \b\b/ \b\b- \b\b\\ \b\b| \b\b/ \b\b- \b\b\\ \b\b| \b\b/ \b\b- \b\b\\ \b\b| \b\b/ \b\b- \b\b\\ \b\b| \b\b/ \b\b- \b\b\\ \b\b| \b\b/ \b\b- \b\b\\ \b\b| \b\b/ \b\b- \b\b\\ \b\b| \b\b/ \b\b- \b\b\\ \b\b| \b\b/ Enabling notebook extension jupyter-js-widgets/extension...\n",
            "Paths used for configuration of notebook: \n",
            "    \t/content/AMPL/etc/jupyter/nbconfig/notebook.d/widgetsnbextension.json\n",
            "    \t/content/AMPL/etc/jupyter/nbconfig/notebook.json\n",
            "Paths used for configuration of notebook: \n",
            "    \t/content/AMPL/etc/jupyter/nbconfig/notebook.d/widgetsnbextension.json\n",
            "      - Validating: \u001b[32mOK\u001b[0m\n",
            "Paths used for configuration of notebook: \n",
            "    \t/content/AMPL/etc/jupyter/nbconfig/notebook.d/widgetsnbextension.json\n",
            "    \t/content/AMPL/etc/jupyter/nbconfig/notebook.json\n",
            "\n",
            "\b\b- \b\b\\ \b\b| \b\b/ \b\b- \b\b\\ \b\b| \b\b/ \b\b- \b\b\\ \b\b| \b\b/ \b\b- \b\b\\ \b\b| \b\b/ \b\b- \b\b\\ \b\b| \b\b/ \b\b- \b\b\\ \b\b| \b\b/ \b\b- \b\b\\ \b\b| \b\b/ \b\b- \b\b\\ \b\b| \b\b/ \b\b- \b\b\\ \b\b| \b\b/ \b\b- \b\b\\ \b\b| \b\b/ \b\b- \b\b\\ \b\b| \b\b/ \b\b- \b\b\\ \b\b| \b\b/ \b\b- \b\b\\ \b\b| \b\bdone\n",
            "Cloning into 'AMPL'...\n",
            "remote: Enumerating objects: 219, done.\u001b[K\n",
            "remote: Counting objects: 100% (219/219), done.\u001b[K\n",
            "remote: Compressing objects: 100% (116/116), done.\u001b[K\n",
            "remote: Total 1739 (delta 167), reused 122 (delta 103), pack-reused 1520\u001b[K\n",
            "Receiving objects: 100% (1739/1739), 9.60 MiB | 20.23 MiB/s, done.\n",
            "Resolving deltas: 100% (988/988), done.\n",
            "patching file /content/github/AMPL/atomsci/ddm/pipeline/transformations.py\n",
            "patching file /content/github/AMPL/atomsci/ddm/__init__.py\n",
            "running build\n",
            "running build_py\n",
            "creating /content/github/AMPL.build/ampl/lib\n",
            "creating /content/github/AMPL.build/ampl/lib/atomsci\n",
            "copying atomsci/__init__.py -> /content/github/AMPL.build/ampl/lib/atomsci\n",
            "creating /content/github/AMPL.build/ampl/lib/atomsci/ddm\n",
            "copying atomsci/ddm/__init__.py -> /content/github/AMPL.build/ampl/lib/atomsci/ddm\n",
            "creating /content/github/AMPL.build/ampl/lib/atomsci/ddm/pipeline\n",
            "copying atomsci/ddm/pipeline/chem_diversity.py -> /content/github/AMPL.build/ampl/lib/atomsci/ddm/pipeline\n",
            "copying atomsci/ddm/pipeline/__init__.py -> /content/github/AMPL.build/ampl/lib/atomsci/ddm/pipeline\n",
            "copying atomsci/ddm/pipeline/dist_metrics.py -> /content/github/AMPL.build/ampl/lib/atomsci/ddm/pipeline\n",
            "copying atomsci/ddm/pipeline/model_datasets.py -> /content/github/AMPL.build/ampl/lib/atomsci/ddm/pipeline\n",
            "copying atomsci/ddm/pipeline/hyper_perf_plots.py -> /content/github/AMPL.build/ampl/lib/atomsci/ddm/pipeline\n",
            "copying atomsci/ddm/pipeline/model_wrapper.py -> /content/github/AMPL.build/ampl/lib/atomsci/ddm/pipeline\n",
            "copying atomsci/ddm/pipeline/diversity_plots.py -> /content/github/AMPL.build/ampl/lib/atomsci/ddm/pipeline\n",
            "copying atomsci/ddm/pipeline/model_tracker.py -> /content/github/AMPL.build/ampl/lib/atomsci/ddm/pipeline\n",
            "copying atomsci/ddm/pipeline/perf_plots.py -> /content/github/AMPL.build/ampl/lib/atomsci/ddm/pipeline\n",
            "copying atomsci/ddm/pipeline/model_pipeline.py -> /content/github/AMPL.build/ampl/lib/atomsci/ddm/pipeline\n",
            "copying atomsci/ddm/pipeline/splitting.py -> /content/github/AMPL.build/ampl/lib/atomsci/ddm/pipeline\n",
            "copying atomsci/ddm/pipeline/ave_splitter.py -> /content/github/AMPL.build/ampl/lib/atomsci/ddm/pipeline\n",
            "copying atomsci/ddm/pipeline/parameter_parser.py -> /content/github/AMPL.build/ampl/lib/atomsci/ddm/pipeline\n",
            "copying atomsci/ddm/pipeline/featurization.py -> /content/github/AMPL.build/ampl/lib/atomsci/ddm/pipeline\n",
            "copying atomsci/ddm/pipeline/temporal_splitter.py -> /content/github/AMPL.build/ampl/lib/atomsci/ddm/pipeline\n",
            "copying atomsci/ddm/pipeline/compare_models.py -> /content/github/AMPL.build/ampl/lib/atomsci/ddm/pipeline\n",
            "copying atomsci/ddm/pipeline/predict_from_model.py -> /content/github/AMPL.build/ampl/lib/atomsci/ddm/pipeline\n",
            "copying atomsci/ddm/pipeline/transformations.py -> /content/github/AMPL.build/ampl/lib/atomsci/ddm/pipeline\n",
            "copying atomsci/ddm/pipeline/perf_data.py -> /content/github/AMPL.build/ampl/lib/atomsci/ddm/pipeline\n",
            "creating /content/github/AMPL.build/ampl/lib/atomsci/ddm/utils\n",
            "copying atomsci/ddm/utils/pubchem_utils.py -> /content/github/AMPL.build/ampl/lib/atomsci/ddm/utils\n",
            "copying atomsci/ddm/utils/curate_data.py -> /content/github/AMPL.build/ampl/lib/atomsci/ddm/utils\n",
            "copying atomsci/ddm/utils/__init__.py -> /content/github/AMPL.build/ampl/lib/atomsci/ddm/utils\n",
            "copying atomsci/ddm/utils/rdkit_easy.py -> /content/github/AMPL.build/ampl/lib/atomsci/ddm/utils\n",
            "copying atomsci/ddm/utils/open-docs.py -> /content/github/AMPL.build/ampl/lib/atomsci/ddm/utils\n",
            "copying atomsci/ddm/utils/struct_utils.py -> /content/github/AMPL.build/ampl/lib/atomsci/ddm/utils\n",
            "copying atomsci/ddm/utils/hyperparam_search_wrapper.py -> /content/github/AMPL.build/ampl/lib/atomsci/ddm/utils\n",
            "copying atomsci/ddm/utils/process_slurm.py -> /content/github/AMPL.build/ampl/lib/atomsci/ddm/utils\n",
            "copying atomsci/ddm/utils/genTestset.py -> /content/github/AMPL.build/ampl/lib/atomsci/ddm/utils\n",
            "copying atomsci/ddm/utils/datastore_functions.py -> /content/github/AMPL.build/ampl/lib/atomsci/ddm/utils\n",
            "copying atomsci/ddm/utils/llnl_utils.py -> /content/github/AMPL.build/ampl/lib/atomsci/ddm/utils\n",
            "copying atomsci/ddm/utils/data_curation_functions.py -> /content/github/AMPL.build/ampl/lib/atomsci/ddm/utils\n",
            "running egg_info\n",
            "creating /content/github/AMPL.build/ampl/atomsci_ampl.egg-info\n",
            "writing /content/github/AMPL.build/ampl/atomsci_ampl.egg-info/PKG-INFO\n",
            "writing dependency_links to /content/github/AMPL.build/ampl/atomsci_ampl.egg-info/dependency_links.txt\n",
            "writing namespace_packages to /content/github/AMPL.build/ampl/atomsci_ampl.egg-info/namespace_packages.txt\n",
            "writing top-level names to /content/github/AMPL.build/ampl/atomsci_ampl.egg-info/top_level.txt\n",
            "writing manifest file '/content/github/AMPL.build/ampl/atomsci_ampl.egg-info/SOURCES.txt'\n",
            "reading manifest file '/content/github/AMPL.build/ampl/atomsci_ampl.egg-info/SOURCES.txt'\n",
            "reading manifest template 'MANIFEST.in'\n",
            "warning: no files found matching 'atomsci/*/*.yaml'\n",
            "writing manifest file '/content/github/AMPL.build/ampl/atomsci_ampl.egg-info/SOURCES.txt'\n",
            "creating /content/github/AMPL.build/ampl/lib/atomsci/ddm/data\n",
            "copying atomsci/ddm/data/descriptor_sets_sources_by_descr_type.csv -> /content/github/AMPL.build/ampl/lib/atomsci/ddm/data\n",
            "running bdist_wheel\n",
            "installing to /content/github/AMPL.build/ampl/bdist.linux-x86_64/wheel\n",
            "running install\n",
            "running install_lib\n",
            "Skipping installation of /content/github/AMPL.build/ampl/bdist.linux-x86_64/wheel/atomsci/__init__.py (namespace package)\n",
            "copying atomsci/ddm/__init__.py -> /content/github/AMPL.build/ampl/bdist.linux-x86_64/wheel/atomsci/ddm\n",
            "copying atomsci/ddm/data/descriptor_sets_sources_by_descr_type.csv -> /content/github/AMPL.build/ampl/bdist.linux-x86_64/wheel/atomsci/ddm/data\n",
            "copying atomsci/ddm/pipeline/chem_diversity.py -> /content/github/AMPL.build/ampl/bdist.linux-x86_64/wheel/atomsci/ddm/pipeline\n",
            "copying atomsci/ddm/pipeline/__init__.py -> /content/github/AMPL.build/ampl/bdist.linux-x86_64/wheel/atomsci/ddm/pipeline\n",
            "copying atomsci/ddm/pipeline/dist_metrics.py -> /content/github/AMPL.build/ampl/bdist.linux-x86_64/wheel/atomsci/ddm/pipeline\n",
            "copying atomsci/ddm/pipeline/model_datasets.py -> /content/github/AMPL.build/ampl/bdist.linux-x86_64/wheel/atomsci/ddm/pipeline\n",
            "copying atomsci/ddm/pipeline/hyper_perf_plots.py -> /content/github/AMPL.build/ampl/bdist.linux-x86_64/wheel/atomsci/ddm/pipeline\n",
            "copying atomsci/ddm/pipeline/model_wrapper.py -> /content/github/AMPL.build/ampl/bdist.linux-x86_64/wheel/atomsci/ddm/pipeline\n",
            "copying atomsci/ddm/pipeline/diversity_plots.py -> /content/github/AMPL.build/ampl/bdist.linux-x86_64/wheel/atomsci/ddm/pipeline\n",
            "copying atomsci/ddm/pipeline/model_tracker.py -> /content/github/AMPL.build/ampl/bdist.linux-x86_64/wheel/atomsci/ddm/pipeline\n",
            "copying atomsci/ddm/pipeline/perf_plots.py -> /content/github/AMPL.build/ampl/bdist.linux-x86_64/wheel/atomsci/ddm/pipeline\n",
            "copying atomsci/ddm/pipeline/model_pipeline.py -> /content/github/AMPL.build/ampl/bdist.linux-x86_64/wheel/atomsci/ddm/pipeline\n",
            "copying atomsci/ddm/pipeline/splitting.py -> /content/github/AMPL.build/ampl/bdist.linux-x86_64/wheel/atomsci/ddm/pipeline\n",
            "copying atomsci/ddm/pipeline/ave_splitter.py -> /content/github/AMPL.build/ampl/bdist.linux-x86_64/wheel/atomsci/ddm/pipeline\n",
            "copying atomsci/ddm/pipeline/parameter_parser.py -> /content/github/AMPL.build/ampl/bdist.linux-x86_64/wheel/atomsci/ddm/pipeline\n",
            "copying atomsci/ddm/pipeline/featurization.py -> /content/github/AMPL.build/ampl/bdist.linux-x86_64/wheel/atomsci/ddm/pipeline\n",
            "copying atomsci/ddm/pipeline/temporal_splitter.py -> /content/github/AMPL.build/ampl/bdist.linux-x86_64/wheel/atomsci/ddm/pipeline\n",
            "copying atomsci/ddm/pipeline/compare_models.py -> /content/github/AMPL.build/ampl/bdist.linux-x86_64/wheel/atomsci/ddm/pipeline\n",
            "copying atomsci/ddm/pipeline/predict_from_model.py -> /content/github/AMPL.build/ampl/bdist.linux-x86_64/wheel/atomsci/ddm/pipeline\n",
            "copying atomsci/ddm/pipeline/transformations.py -> /content/github/AMPL.build/ampl/bdist.linux-x86_64/wheel/atomsci/ddm/pipeline\n",
            "copying atomsci/ddm/pipeline/perf_data.py -> /content/github/AMPL.build/ampl/bdist.linux-x86_64/wheel/atomsci/ddm/pipeline\n",
            "copying atomsci/ddm/utils/pubchem_utils.py -> /content/github/AMPL.build/ampl/bdist.linux-x86_64/wheel/atomsci/ddm/utils\n",
            "copying atomsci/ddm/utils/curate_data.py -> /content/github/AMPL.build/ampl/bdist.linux-x86_64/wheel/atomsci/ddm/utils\n",
            "copying atomsci/ddm/utils/__init__.py -> /content/github/AMPL.build/ampl/bdist.linux-x86_64/wheel/atomsci/ddm/utils\n",
            "copying atomsci/ddm/utils/rdkit_easy.py -> /content/github/AMPL.build/ampl/bdist.linux-x86_64/wheel/atomsci/ddm/utils\n",
            "copying atomsci/ddm/utils/open-docs.py -> /content/github/AMPL.build/ampl/bdist.linux-x86_64/wheel/atomsci/ddm/utils\n",
            "copying atomsci/ddm/utils/struct_utils.py -> /content/github/AMPL.build/ampl/bdist.linux-x86_64/wheel/atomsci/ddm/utils\n",
            "copying atomsci/ddm/utils/hyperparam_search_wrapper.py -> /content/github/AMPL.build/ampl/bdist.linux-x86_64/wheel/atomsci/ddm/utils\n",
            "copying atomsci/ddm/utils/process_slurm.py -> /content/github/AMPL.build/ampl/bdist.linux-x86_64/wheel/atomsci/ddm/utils\n",
            "copying atomsci/ddm/utils/genTestset.py -> /content/github/AMPL.build/ampl/bdist.linux-x86_64/wheel/atomsci/ddm/utils\n",
            "copying atomsci/ddm/utils/datastore_functions.py -> /content/github/AMPL.build/ampl/bdist.linux-x86_64/wheel/atomsci/ddm/utils\n",
            "copying atomsci/ddm/utils/llnl_utils.py -> /content/github/AMPL.build/ampl/bdist.linux-x86_64/wheel/atomsci/ddm/utils\n",
            "copying atomsci/ddm/utils/data_curation_functions.py -> /content/github/AMPL.build/ampl/bdist.linux-x86_64/wheel/atomsci/ddm/utils\n",
            "running install_egg_info\n",
            "Copying /content/github/AMPL.build/ampl/atomsci_ampl.egg-info to /content/github/AMPL.build/ampl/bdist.linux-x86_64/wheel/atomsci_ampl-1.0.0.dev1-py3.6.egg-info\n",
            "Installing /content/github/AMPL.build/ampl/bdist.linux-x86_64/wheel/atomsci_ampl-1.0.0.dev1-py3.6-nspkg.pth\n",
            "running install_scripts\n",
            "adding license file \"LICENSE\" (matched pattern \"LICEN[CS]E*\")\n",
            "adding license file \"NOTICE\" (matched pattern \"NOTICE*\")\n",
            "creating /content/github/AMPL.build/ampl/bdist.linux-x86_64/wheel/atomsci_ampl-1.0.0.dev1.dist-info/WHEEL\n",
            "creating '/content/github/AMPL.dist/atomsci_ampl-1.0.0.dev1-py3-none-any.whl' and adding '/content/github/AMPL.build/ampl/bdist.linux-x86_64/wheel' to it\n",
            "adding 'atomsci_ampl-1.0.0.dev1-py3.6-nspkg.pth'\n",
            "adding 'atomsci/ddm/__init__.py'\n",
            "adding 'atomsci/ddm/data/descriptor_sets_sources_by_descr_type.csv'\n",
            "adding 'atomsci/ddm/pipeline/__init__.py'\n",
            "adding 'atomsci/ddm/pipeline/ave_splitter.py'\n",
            "adding 'atomsci/ddm/pipeline/chem_diversity.py'\n",
            "adding 'atomsci/ddm/pipeline/compare_models.py'\n",
            "adding 'atomsci/ddm/pipeline/dist_metrics.py'\n",
            "adding 'atomsci/ddm/pipeline/diversity_plots.py'\n",
            "adding 'atomsci/ddm/pipeline/featurization.py'\n",
            "adding 'atomsci/ddm/pipeline/hyper_perf_plots.py'\n",
            "adding 'atomsci/ddm/pipeline/model_datasets.py'\n",
            "adding 'atomsci/ddm/pipeline/model_pipeline.py'\n",
            "adding 'atomsci/ddm/pipeline/model_tracker.py'\n",
            "adding 'atomsci/ddm/pipeline/model_wrapper.py'\n",
            "adding 'atomsci/ddm/pipeline/parameter_parser.py'\n",
            "adding 'atomsci/ddm/pipeline/perf_data.py'\n",
            "adding 'atomsci/ddm/pipeline/perf_plots.py'\n",
            "adding 'atomsci/ddm/pipeline/predict_from_model.py'\n",
            "adding 'atomsci/ddm/pipeline/splitting.py'\n",
            "adding 'atomsci/ddm/pipeline/temporal_splitter.py'\n",
            "adding 'atomsci/ddm/pipeline/transformations.py'\n",
            "adding 'atomsci/ddm/utils/__init__.py'\n",
            "adding 'atomsci/ddm/utils/curate_data.py'\n",
            "adding 'atomsci/ddm/utils/data_curation_functions.py'\n",
            "adding 'atomsci/ddm/utils/datastore_functions.py'\n",
            "adding 'atomsci/ddm/utils/genTestset.py'\n",
            "adding 'atomsci/ddm/utils/hyperparam_search_wrapper.py'\n",
            "adding 'atomsci/ddm/utils/llnl_utils.py'\n",
            "adding 'atomsci/ddm/utils/open-docs.py'\n",
            "adding 'atomsci/ddm/utils/process_slurm.py'\n",
            "adding 'atomsci/ddm/utils/pubchem_utils.py'\n",
            "adding 'atomsci/ddm/utils/rdkit_easy.py'\n",
            "adding 'atomsci/ddm/utils/struct_utils.py'\n",
            "adding 'atomsci_ampl-1.0.0.dev1.dist-info/LICENSE'\n",
            "adding 'atomsci_ampl-1.0.0.dev1.dist-info/METADATA'\n",
            "adding 'atomsci_ampl-1.0.0.dev1.dist-info/NOTICE'\n",
            "adding 'atomsci_ampl-1.0.0.dev1.dist-info/WHEEL'\n",
            "adding 'atomsci_ampl-1.0.0.dev1.dist-info/namespace_packages.txt'\n",
            "adding 'atomsci_ampl-1.0.0.dev1.dist-info/top_level.txt'\n",
            "adding 'atomsci_ampl-1.0.0.dev1.dist-info/RECORD'\n",
            "removing /content/github/AMPL.build/ampl/bdist.linux-x86_64/wheel\n",
            "DIR: /content/github/AMPL\n",
            "Non-user install because site-packages writeable\n",
            "Ignoring indexes: https://pypi.org/simple\n",
            "Created temporary directory: /tmp/pip-ephem-wheel-cache-_v63o6a9\n",
            "Created temporary directory: /tmp/pip-req-tracker-l9i1n9pp\n",
            "Initialized build tracking at /tmp/pip-req-tracker-l9i1n9pp\n",
            "Created build tracker: /tmp/pip-req-tracker-l9i1n9pp\n",
            "Entered build tracker: /tmp/pip-req-tracker-l9i1n9pp\n",
            "Created temporary directory: /tmp/pip-install-z3j754uj\n",
            "Looking in links: /content/github/AMPL.dist\n",
            "0 location(s) to search for versions of atomsci-ampl:\n",
            "Skipping link: unsupported archive format: .dist: /content/github/AMPL.dist (from -f)\n",
            "Found link file:///content/github/AMPL.dist/atomsci_ampl-1.0.0.dev1-py3-none-any.whl, version: 1.0.0.dev1\n",
            "Local files found: /content/github/AMPL.dist/atomsci_ampl-1.0.0.dev1-py3-none-any.whl\n",
            "Given no hashes to check 1 links for project 'atomsci-ampl': discarding no candidates\n",
            "Using version 1.0.0.dev1 (newest of versions: 1.0.0.dev1)\n",
            "Processing /content/github/AMPL.dist/atomsci_ampl-1.0.0.dev1-py3-none-any.whl\n",
            "  Added atomsci_ampl from file:///content/github/AMPL.dist/atomsci_ampl-1.0.0.dev1-py3-none-any.whl to build tracker '/tmp/pip-req-tracker-l9i1n9pp'\n",
            "  Removed atomsci_ampl from file:///content/github/AMPL.dist/atomsci_ampl-1.0.0.dev1-py3-none-any.whl from build tracker '/tmp/pip-req-tracker-l9i1n9pp'\n",
            "Installing collected packages: atomsci-ampl\n",
            "  Created temporary directory: /tmp/pip-unpacked-wheel-rvyyptik\n",
            "\n",
            "Successfully installed atomsci-ampl-1.0.0.dev1\n",
            "Removed build tracker: '/tmp/pip-req-tracker-l9i1n9pp'\n",
            "\n",
            "real\t2m28.039s\n",
            "user\t1m32.436s\n",
            "sys\t0m18.257s\n"
          ],
          "name": "stdout"
        }
      ]
    },
    {
      "cell_type": "markdown",
      "metadata": {
        "extensions": {
          "jupyter_dashboards": {
            "version": 1,
            "views": {
              "grid_default": {},
              "report_default": {
                "hidden": true
              }
            }
          }
        },
        "id": "EYJe-CJFOqPy"
      },
      "source": [
        "## Exploring target activity data from selected database\n",
        "## Data source = ExcapeDB\n",
        "## Target activity = CYP3A4"
      ]
    },
    {
      "cell_type": "code",
      "metadata": {
        "id": "Kwk6F1jdQdj2"
      },
      "source": [
        "# There is a problem with the previously imported cffi, so delete it and \r\n",
        "# load it with AMPL instead\r\n",
        "if 'cffi' in sys.modules:\r\n",
        "  del sys.modules['cffi']"
      ],
      "execution_count": null,
      "outputs": []
    },
    {
      "cell_type": "code",
      "metadata": {
        "id": "siF4OsX8Qee0"
      },
      "source": [
        "# We temporarily disable warnings for demonstration.\r\n",
        "# FutureWarnings and DeprecationWarnings are present from some of the AMPL \r\n",
        "# dependency modules.\r\n",
        "import warnings\r\n",
        "warnings.filterwarnings('ignore')\r\n",
        "\r\n",
        "import json\r\n",
        "# import numpy as np\r\n",
        "# import pandas as pd\r\n",
        "# import os\r\n",
        "import requests\r\n",
        "import sys"
      ],
      "execution_count": null,
      "outputs": []
    },
    {
      "cell_type": "code",
      "metadata": {
        "id": "PZvaDs6UOqP5",
        "colab": {
          "base_uri": "https://localhost:8080/",
          "height": 511
        },
        "outputId": "679ae2fb-4b39-4124-b1c3-a574853d3751"
      },
      "source": [
        "#\n",
        "# Import AMPL libraries\n",
        "# \n",
        "import atomsci.ddm.utils.data_curation_functions as dcf\n",
        "import atomsci.ddm.utils.curate_data as curate_data\n",
        "import atomsci.ddm.pipeline.diversity_plots as dp\n",
        "import atomsci.ddm.pipeline.chem_diversity as cd\n",
        "# Additional python libraries\n",
        "import pandas as pd\n",
        "import numpy as np\n",
        "import getpass, os"
      ],
      "execution_count": null,
      "outputs": [
        {
          "output_type": "error",
          "ename": "ImportError",
          "evalue": "ignored",
          "traceback": [
            "\u001b[0;31m---------------------------------------------------------------------------\u001b[0m",
            "\u001b[0;31mImportError\u001b[0m                               Traceback (most recent call last)",
            "\u001b[0;32m<ipython-input-4-a33c5b14449b>\u001b[0m in \u001b[0;36m<module>\u001b[0;34m()\u001b[0m\n\u001b[1;32m      2\u001b[0m \u001b[0;31m# Import AMPL libraries\u001b[0m\u001b[0;34m\u001b[0m\u001b[0;34m\u001b[0m\u001b[0;34m\u001b[0m\u001b[0m\n\u001b[1;32m      3\u001b[0m \u001b[0;31m#\u001b[0m\u001b[0;34m\u001b[0m\u001b[0;34m\u001b[0m\u001b[0;34m\u001b[0m\u001b[0m\n\u001b[0;32m----> 4\u001b[0;31m \u001b[0;32mimport\u001b[0m \u001b[0matomsci\u001b[0m\u001b[0;34m.\u001b[0m\u001b[0mddm\u001b[0m\u001b[0;34m.\u001b[0m\u001b[0mutils\u001b[0m\u001b[0;34m.\u001b[0m\u001b[0mdata_curation_functions\u001b[0m \u001b[0;32mas\u001b[0m \u001b[0mdcf\u001b[0m\u001b[0;34m\u001b[0m\u001b[0;34m\u001b[0m\u001b[0m\n\u001b[0m\u001b[1;32m      5\u001b[0m \u001b[0;32mimport\u001b[0m \u001b[0matomsci\u001b[0m\u001b[0;34m.\u001b[0m\u001b[0mddm\u001b[0m\u001b[0;34m.\u001b[0m\u001b[0mutils\u001b[0m\u001b[0;34m.\u001b[0m\u001b[0mcurate_data\u001b[0m \u001b[0;32mas\u001b[0m \u001b[0mcurate_data\u001b[0m\u001b[0;34m\u001b[0m\u001b[0;34m\u001b[0m\u001b[0m\n\u001b[1;32m      6\u001b[0m \u001b[0;32mimport\u001b[0m \u001b[0matomsci\u001b[0m\u001b[0;34m.\u001b[0m\u001b[0mddm\u001b[0m\u001b[0;34m.\u001b[0m\u001b[0mpipeline\u001b[0m\u001b[0;34m.\u001b[0m\u001b[0mdiversity_plots\u001b[0m \u001b[0;32mas\u001b[0m \u001b[0mdp\u001b[0m\u001b[0;34m\u001b[0m\u001b[0;34m\u001b[0m\u001b[0m\n",
            "\u001b[0;32m/content/AMPL/lib/python3.6/site-packages/atomsci/ddm/utils/data_curation_functions.py\u001b[0m in \u001b[0;36m<module>\u001b[0;34m()\u001b[0m\n\u001b[1;32m     12\u001b[0m \u001b[0;32mimport\u001b[0m \u001b[0mpandas\u001b[0m \u001b[0;32mas\u001b[0m \u001b[0mpd\u001b[0m\u001b[0;34m\u001b[0m\u001b[0;34m\u001b[0m\u001b[0m\n\u001b[1;32m     13\u001b[0m \u001b[0;32mimport\u001b[0m \u001b[0mmatplotlib\u001b[0m\u001b[0;34m.\u001b[0m\u001b[0mpyplot\u001b[0m \u001b[0;32mas\u001b[0m \u001b[0mplt\u001b[0m\u001b[0;34m\u001b[0m\u001b[0;34m\u001b[0m\u001b[0m\n\u001b[0;32m---> 14\u001b[0;31m \u001b[0;32mfrom\u001b[0m \u001b[0mmatplotlib_venn\u001b[0m \u001b[0;32mimport\u001b[0m \u001b[0mvenn3\u001b[0m\u001b[0;34m\u001b[0m\u001b[0;34m\u001b[0m\u001b[0m\n\u001b[0m\u001b[1;32m     15\u001b[0m \u001b[0;32mimport\u001b[0m \u001b[0mseaborn\u001b[0m \u001b[0;32mas\u001b[0m \u001b[0msns\u001b[0m\u001b[0;34m\u001b[0m\u001b[0;34m\u001b[0m\u001b[0m\n\u001b[1;32m     16\u001b[0m \u001b[0;32mimport\u001b[0m \u001b[0mpdb\u001b[0m\u001b[0;34m\u001b[0m\u001b[0;34m\u001b[0m\u001b[0m\n",
            "\u001b[0;32m/usr/local/lib/python3.7/dist-packages/matplotlib_venn/__init__.py\u001b[0m in \u001b[0;36m<module>\u001b[0;34m()\u001b[0m\n\u001b[1;32m     53\u001b[0m                 arrowprops=dict(arrowstyle='->', connectionstyle='arc3,rad=0.5',color='gray'))\n\u001b[1;32m     54\u001b[0m '''\n\u001b[0;32m---> 55\u001b[0;31m \u001b[0;32mfrom\u001b[0m \u001b[0mmatplotlib_venn\u001b[0m\u001b[0;34m.\u001b[0m\u001b[0m_venn2\u001b[0m \u001b[0;32mimport\u001b[0m \u001b[0mvenn2\u001b[0m\u001b[0;34m,\u001b[0m \u001b[0mvenn2_circles\u001b[0m\u001b[0;34m\u001b[0m\u001b[0;34m\u001b[0m\u001b[0m\n\u001b[0m\u001b[1;32m     56\u001b[0m \u001b[0;32mfrom\u001b[0m \u001b[0mmatplotlib_venn\u001b[0m\u001b[0;34m.\u001b[0m\u001b[0m_venn3\u001b[0m \u001b[0;32mimport\u001b[0m \u001b[0mvenn3\u001b[0m\u001b[0;34m,\u001b[0m \u001b[0mvenn3_circles\u001b[0m\u001b[0;34m\u001b[0m\u001b[0;34m\u001b[0m\u001b[0m\n\u001b[1;32m     57\u001b[0m \u001b[0;32mfrom\u001b[0m \u001b[0mmatplotlib_venn\u001b[0m\u001b[0;34m.\u001b[0m\u001b[0m_util\u001b[0m \u001b[0;32mimport\u001b[0m \u001b[0mvenn2_unweighted\u001b[0m\u001b[0;34m,\u001b[0m \u001b[0mvenn3_unweighted\u001b[0m\u001b[0;34m\u001b[0m\u001b[0;34m\u001b[0m\u001b[0m\n",
            "\u001b[0;32m/usr/local/lib/python3.7/dist-packages/matplotlib_venn/_venn2.py\u001b[0m in \u001b[0;36m<module>\u001b[0;34m()\u001b[0m\n\u001b[1;32m     22\u001b[0m \u001b[0;32mfrom\u001b[0m \u001b[0mmatplotlib\u001b[0m\u001b[0;34m.\u001b[0m\u001b[0mpyplot\u001b[0m \u001b[0;32mimport\u001b[0m \u001b[0mgca\u001b[0m\u001b[0;34m\u001b[0m\u001b[0;34m\u001b[0m\u001b[0m\n\u001b[1;32m     23\u001b[0m \u001b[0;34m\u001b[0m\u001b[0m\n\u001b[0;32m---> 24\u001b[0;31m \u001b[0;32mfrom\u001b[0m \u001b[0mmatplotlib_venn\u001b[0m\u001b[0;34m.\u001b[0m\u001b[0m_math\u001b[0m \u001b[0;32mimport\u001b[0m \u001b[0;34m*\u001b[0m\u001b[0;34m\u001b[0m\u001b[0;34m\u001b[0m\u001b[0m\n\u001b[0m\u001b[1;32m     25\u001b[0m \u001b[0;32mfrom\u001b[0m \u001b[0mmatplotlib_venn\u001b[0m\u001b[0;34m.\u001b[0m\u001b[0m_common\u001b[0m \u001b[0;32mimport\u001b[0m \u001b[0;34m*\u001b[0m\u001b[0;34m\u001b[0m\u001b[0;34m\u001b[0m\u001b[0m\n\u001b[1;32m     26\u001b[0m \u001b[0;32mfrom\u001b[0m \u001b[0mmatplotlib_venn\u001b[0m\u001b[0;34m.\u001b[0m\u001b[0m_region\u001b[0m \u001b[0;32mimport\u001b[0m \u001b[0mVennCircleRegion\u001b[0m\u001b[0;34m\u001b[0m\u001b[0;34m\u001b[0m\u001b[0m\n",
            "\u001b[0;32m/usr/local/lib/python3.7/dist-packages/matplotlib_venn/_math.py\u001b[0m in \u001b[0;36m<module>\u001b[0;34m()\u001b[0m\n\u001b[1;32m      9\u001b[0m '''\n\u001b[1;32m     10\u001b[0m \u001b[0;34m\u001b[0m\u001b[0m\n\u001b[0;32m---> 11\u001b[0;31m \u001b[0;32mfrom\u001b[0m \u001b[0mscipy\u001b[0m\u001b[0;34m.\u001b[0m\u001b[0moptimize\u001b[0m \u001b[0;32mimport\u001b[0m \u001b[0mbrentq\u001b[0m\u001b[0;34m\u001b[0m\u001b[0;34m\u001b[0m\u001b[0m\n\u001b[0m\u001b[1;32m     12\u001b[0m \u001b[0;32mimport\u001b[0m \u001b[0mnumpy\u001b[0m \u001b[0;32mas\u001b[0m \u001b[0mnp\u001b[0m\u001b[0;34m\u001b[0m\u001b[0;34m\u001b[0m\u001b[0m\n\u001b[1;32m     13\u001b[0m \u001b[0;34m\u001b[0m\u001b[0m\n",
            "\u001b[0;32m/content/AMPL/lib/python3.6/site-packages/scipy/__init__.py\u001b[0m in \u001b[0;36m<module>\u001b[0;34m()\u001b[0m\n\u001b[1;32m    117\u001b[0m     \u001b[0;32mdel\u001b[0m \u001b[0m_NumpyVersion\u001b[0m\u001b[0;34m\u001b[0m\u001b[0;34m\u001b[0m\u001b[0m\n\u001b[1;32m    118\u001b[0m \u001b[0;34m\u001b[0m\u001b[0m\n\u001b[0;32m--> 119\u001b[0;31m     \u001b[0;32mfrom\u001b[0m \u001b[0mscipy\u001b[0m\u001b[0;34m.\u001b[0m\u001b[0m_lib\u001b[0m\u001b[0;34m.\u001b[0m\u001b[0m_ccallback\u001b[0m \u001b[0;32mimport\u001b[0m \u001b[0mLowLevelCallable\u001b[0m\u001b[0;34m\u001b[0m\u001b[0;34m\u001b[0m\u001b[0m\n\u001b[0m\u001b[1;32m    120\u001b[0m \u001b[0;34m\u001b[0m\u001b[0m\n\u001b[1;32m    121\u001b[0m     \u001b[0;32mfrom\u001b[0m \u001b[0mscipy\u001b[0m\u001b[0;34m.\u001b[0m\u001b[0m_lib\u001b[0m\u001b[0;34m.\u001b[0m\u001b[0m_testutils\u001b[0m \u001b[0;32mimport\u001b[0m \u001b[0mPytestTester\u001b[0m\u001b[0;34m\u001b[0m\u001b[0;34m\u001b[0m\u001b[0m\n",
            "\u001b[0;32m/content/AMPL/lib/python3.6/site-packages/scipy/_lib/_ccallback.py\u001b[0m in \u001b[0;36m<module>\u001b[0;34m()\u001b[0m\n\u001b[0;32m----> 1\u001b[0;31m \u001b[0;32mfrom\u001b[0m \u001b[0;34m.\u001b[0m \u001b[0;32mimport\u001b[0m \u001b[0m_ccallback_c\u001b[0m\u001b[0;34m\u001b[0m\u001b[0;34m\u001b[0m\u001b[0m\n\u001b[0m\u001b[1;32m      2\u001b[0m \u001b[0;34m\u001b[0m\u001b[0m\n\u001b[1;32m      3\u001b[0m \u001b[0;32mimport\u001b[0m \u001b[0mctypes\u001b[0m\u001b[0;34m\u001b[0m\u001b[0;34m\u001b[0m\u001b[0m\n\u001b[1;32m      4\u001b[0m \u001b[0;34m\u001b[0m\u001b[0m\n\u001b[1;32m      5\u001b[0m \u001b[0mPyCFuncPtr\u001b[0m \u001b[0;34m=\u001b[0m \u001b[0mctypes\u001b[0m\u001b[0;34m.\u001b[0m\u001b[0mCFUNCTYPE\u001b[0m\u001b[0;34m(\u001b[0m\u001b[0mctypes\u001b[0m\u001b[0;34m.\u001b[0m\u001b[0mc_void_p\u001b[0m\u001b[0;34m)\u001b[0m\u001b[0;34m.\u001b[0m\u001b[0m__bases__\u001b[0m\u001b[0;34m[\u001b[0m\u001b[0;36m0\u001b[0m\u001b[0;34m]\u001b[0m\u001b[0;34m\u001b[0m\u001b[0;34m\u001b[0m\u001b[0m\n",
            "\u001b[0;31mImportError\u001b[0m: cannot import name '_ccallback_c' from 'scipy._lib' (/content/AMPL/lib/python3.6/site-packages/scipy/_lib/__init__.py)",
            "",
            "\u001b[0;31m---------------------------------------------------------------------------\u001b[0;32m\nNOTE: If your import is failing due to a missing package, you can\nmanually install dependencies using either !pip or !apt.\n\nTo view examples of installing some common dependencies, click the\n\"Open Examples\" button below.\n\u001b[0;31m---------------------------------------------------------------------------\u001b[0m\n"
          ]
        }
      ]
    },
    {
      "cell_type": "markdown",
      "metadata": {
        "id": "Tt6JTCNIOqP6"
      },
      "source": [
        "# Select a target to work with \n",
        "# (e.g. PDE2A, KCNH2, SCNA5)"
      ]
    },
    {
      "cell_type": "code",
      "metadata": {
        "id": "65NXKFdtOqP7"
      },
      "source": [
        "target_name='CYP3A4'\r\n",
        "# username='ravi'\r\n",
        "ofile=target_name+'_excape_curated.csv'"
      ],
      "execution_count": null,
      "outputs": []
    },
    {
      "cell_type": "code",
      "metadata": {
        "id": "k5Knw3TZjqAr"
      },
      "source": [
        "import io\r\n",
        "url = 'https://raw.githubusercontent.com/jm5159/E4511_FNL_2021Spr/master/CYP3A4_excape.tsv'\r\n",
        "download = requests.get(url).content"
      ],
      "execution_count": null,
      "outputs": []
    },
    {
      "cell_type": "code",
      "metadata": {
        "id": "qoiXE4FUTb8i"
      },
      "source": [
        "# Reading the downloaded content and turning it into a pandas dataframe\r\n",
        "data = pd.read_csv(io.StringIO(download.decode('utf-8')), sep='\\t', header=0 )"
      ],
      "execution_count": null,
      "outputs": []
    },
    {
      "cell_type": "markdown",
      "metadata": {
        "id": "282AC92lOqP7"
      },
      "source": [
        "# define data locations \n",
        "<!-- ## get username to use as a unique identifier to work in shared directories -->"
      ]
    },
    {
      "cell_type": "markdown",
      "metadata": {
        "id": "d7ioacLcOqP8"
      },
      "source": [
        "## Load previously saved raw data"
      ]
    },
    {
      "cell_type": "code",
      "metadata": {
        "colab": {
          "base_uri": "https://localhost:8080/",
          "height": 289
        },
        "id": "rdfZf55_Eawl",
        "outputId": "0af8bca8-c5ad-4675-d6f9-317cafa85ed2"
      },
      "source": [
        "data.head()"
      ],
      "execution_count": null,
      "outputs": [
        {
          "output_type": "execute_result",
          "data": {
            "text/html": [
              "<div>\n",
              "<style scoped>\n",
              "    .dataframe tbody tr th:only-of-type {\n",
              "        vertical-align: middle;\n",
              "    }\n",
              "\n",
              "    .dataframe tbody tr th {\n",
              "        vertical-align: top;\n",
              "    }\n",
              "\n",
              "    .dataframe thead th {\n",
              "        text-align: right;\n",
              "    }\n",
              "</style>\n",
              "<table border=\"1\" class=\"dataframe\">\n",
              "  <thead>\n",
              "    <tr style=\"text-align: right;\">\n",
              "      <th></th>\n",
              "      <th>Ambit_InchiKey</th>\n",
              "      <th>Original_Entry_ID</th>\n",
              "      <th>Entrez_ID</th>\n",
              "      <th>Activity_Flag</th>\n",
              "      <th>pXC50</th>\n",
              "      <th>DB</th>\n",
              "      <th>Original_Assay_ID</th>\n",
              "      <th>Tax_ID</th>\n",
              "      <th>Gene_Symbol</th>\n",
              "      <th>Ortholog_Group</th>\n",
              "      <th>SMILES</th>\n",
              "    </tr>\n",
              "  </thead>\n",
              "  <tbody>\n",
              "    <tr>\n",
              "      <th>0</th>\n",
              "      <td>YAYNEUUHHLGGAH-UHFFFAOYNA-N</td>\n",
              "      <td>8192</td>\n",
              "      <td>1576</td>\n",
              "      <td>N</td>\n",
              "      <td>NaN</td>\n",
              "      <td>pubchem</td>\n",
              "      <td>885</td>\n",
              "      <td>9606</td>\n",
              "      <td>CYP3A4</td>\n",
              "      <td>un4</td>\n",
              "      <td>ClCCCCCCCCCCCC</td>\n",
              "    </tr>\n",
              "    <tr>\n",
              "      <th>1</th>\n",
              "      <td>LUVCTYHBTXSAMX-UHFFFAOYNA-N</td>\n",
              "      <td>8783</td>\n",
              "      <td>1576</td>\n",
              "      <td>N</td>\n",
              "      <td>NaN</td>\n",
              "      <td>pubchem</td>\n",
              "      <td>885</td>\n",
              "      <td>9606</td>\n",
              "      <td>CYP3A4</td>\n",
              "      <td>un4</td>\n",
              "      <td>ClCCOP(OCCCl)OCCCl</td>\n",
              "    </tr>\n",
              "    <tr>\n",
              "      <th>2</th>\n",
              "      <td>FAGUFWYHJQFNRV-UHFFFAOYNA-N</td>\n",
              "      <td>8197</td>\n",
              "      <td>1576</td>\n",
              "      <td>N</td>\n",
              "      <td>NaN</td>\n",
              "      <td>pubchem</td>\n",
              "      <td>885</td>\n",
              "      <td>9606</td>\n",
              "      <td>CYP3A4</td>\n",
              "      <td>un4</td>\n",
              "      <td>N(CCNCCN)CCNCCN</td>\n",
              "    </tr>\n",
              "    <tr>\n",
              "      <th>3</th>\n",
              "      <td>HQUQLFOMPYWACS-UHFFFAOYNA-N</td>\n",
              "      <td>8295</td>\n",
              "      <td>1576</td>\n",
              "      <td>N</td>\n",
              "      <td>NaN</td>\n",
              "      <td>pubchem</td>\n",
              "      <td>885</td>\n",
              "      <td>9606</td>\n",
              "      <td>CYP3A4</td>\n",
              "      <td>un4</td>\n",
              "      <td>ClCCOP(OCCCl)(OCCCl)=O</td>\n",
              "    </tr>\n",
              "    <tr>\n",
              "      <th>4</th>\n",
              "      <td>JVGPVVUTUMQJKL-UHFFFAOYNA-N</td>\n",
              "      <td>8196</td>\n",
              "      <td>1576</td>\n",
              "      <td>N</td>\n",
              "      <td>NaN</td>\n",
              "      <td>pubchem</td>\n",
              "      <td>885</td>\n",
              "      <td>9606</td>\n",
              "      <td>CYP3A4</td>\n",
              "      <td>un4</td>\n",
              "      <td>S(CCOCCOCCCC)C#N</td>\n",
              "    </tr>\n",
              "  </tbody>\n",
              "</table>\n",
              "</div>"
            ],
            "text/plain": [
              "                Ambit_InchiKey  ...                  SMILES\n",
              "0  YAYNEUUHHLGGAH-UHFFFAOYNA-N  ...          ClCCCCCCCCCCCC\n",
              "1  LUVCTYHBTXSAMX-UHFFFAOYNA-N  ...      ClCCOP(OCCCl)OCCCl\n",
              "2  FAGUFWYHJQFNRV-UHFFFAOYNA-N  ...         N(CCNCCN)CCNCCN\n",
              "3  HQUQLFOMPYWACS-UHFFFAOYNA-N  ...  ClCCOP(OCCCl)(OCCCl)=O\n",
              "4  JVGPVVUTUMQJKL-UHFFFAOYNA-N  ...        S(CCOCCOCCCC)C#N\n",
              "\n",
              "[5 rows x 11 columns]"
            ]
          },
          "metadata": {
            "tags": []
          },
          "execution_count": 10
        }
      ]
    },
    {
      "cell_type": "code",
      "metadata": {
        "colab": {
          "base_uri": "https://localhost:8080/",
          "height": 289
        },
        "id": "kKh18-NPOqP8",
        "outputId": "1b40d019-5732-43d6-92d4-ddbc28176892"
      },
      "source": [
        "data.rename( columns={ \"pXC50\" : \"PXC50\", \"Ambit_InchiKey\" : \"compound_id\" }, inplace=True)\n",
        "data.head()"
      ],
      "execution_count": null,
      "outputs": [
        {
          "output_type": "execute_result",
          "data": {
            "text/html": [
              "<div>\n",
              "<style scoped>\n",
              "    .dataframe tbody tr th:only-of-type {\n",
              "        vertical-align: middle;\n",
              "    }\n",
              "\n",
              "    .dataframe tbody tr th {\n",
              "        vertical-align: top;\n",
              "    }\n",
              "\n",
              "    .dataframe thead th {\n",
              "        text-align: right;\n",
              "    }\n",
              "</style>\n",
              "<table border=\"1\" class=\"dataframe\">\n",
              "  <thead>\n",
              "    <tr style=\"text-align: right;\">\n",
              "      <th></th>\n",
              "      <th>compound_id</th>\n",
              "      <th>Original_Entry_ID</th>\n",
              "      <th>Entrez_ID</th>\n",
              "      <th>Activity_Flag</th>\n",
              "      <th>PXC50</th>\n",
              "      <th>DB</th>\n",
              "      <th>Original_Assay_ID</th>\n",
              "      <th>Tax_ID</th>\n",
              "      <th>Gene_Symbol</th>\n",
              "      <th>Ortholog_Group</th>\n",
              "      <th>SMILES</th>\n",
              "    </tr>\n",
              "  </thead>\n",
              "  <tbody>\n",
              "    <tr>\n",
              "      <th>0</th>\n",
              "      <td>YAYNEUUHHLGGAH-UHFFFAOYNA-N</td>\n",
              "      <td>8192</td>\n",
              "      <td>1576</td>\n",
              "      <td>N</td>\n",
              "      <td>NaN</td>\n",
              "      <td>pubchem</td>\n",
              "      <td>885</td>\n",
              "      <td>9606</td>\n",
              "      <td>CYP3A4</td>\n",
              "      <td>un4</td>\n",
              "      <td>ClCCCCCCCCCCCC</td>\n",
              "    </tr>\n",
              "    <tr>\n",
              "      <th>1</th>\n",
              "      <td>LUVCTYHBTXSAMX-UHFFFAOYNA-N</td>\n",
              "      <td>8783</td>\n",
              "      <td>1576</td>\n",
              "      <td>N</td>\n",
              "      <td>NaN</td>\n",
              "      <td>pubchem</td>\n",
              "      <td>885</td>\n",
              "      <td>9606</td>\n",
              "      <td>CYP3A4</td>\n",
              "      <td>un4</td>\n",
              "      <td>ClCCOP(OCCCl)OCCCl</td>\n",
              "    </tr>\n",
              "    <tr>\n",
              "      <th>2</th>\n",
              "      <td>FAGUFWYHJQFNRV-UHFFFAOYNA-N</td>\n",
              "      <td>8197</td>\n",
              "      <td>1576</td>\n",
              "      <td>N</td>\n",
              "      <td>NaN</td>\n",
              "      <td>pubchem</td>\n",
              "      <td>885</td>\n",
              "      <td>9606</td>\n",
              "      <td>CYP3A4</td>\n",
              "      <td>un4</td>\n",
              "      <td>N(CCNCCN)CCNCCN</td>\n",
              "    </tr>\n",
              "    <tr>\n",
              "      <th>3</th>\n",
              "      <td>HQUQLFOMPYWACS-UHFFFAOYNA-N</td>\n",
              "      <td>8295</td>\n",
              "      <td>1576</td>\n",
              "      <td>N</td>\n",
              "      <td>NaN</td>\n",
              "      <td>pubchem</td>\n",
              "      <td>885</td>\n",
              "      <td>9606</td>\n",
              "      <td>CYP3A4</td>\n",
              "      <td>un4</td>\n",
              "      <td>ClCCOP(OCCCl)(OCCCl)=O</td>\n",
              "    </tr>\n",
              "    <tr>\n",
              "      <th>4</th>\n",
              "      <td>JVGPVVUTUMQJKL-UHFFFAOYNA-N</td>\n",
              "      <td>8196</td>\n",
              "      <td>1576</td>\n",
              "      <td>N</td>\n",
              "      <td>NaN</td>\n",
              "      <td>pubchem</td>\n",
              "      <td>885</td>\n",
              "      <td>9606</td>\n",
              "      <td>CYP3A4</td>\n",
              "      <td>un4</td>\n",
              "      <td>S(CCOCCOCCCC)C#N</td>\n",
              "    </tr>\n",
              "  </tbody>\n",
              "</table>\n",
              "</div>"
            ],
            "text/plain": [
              "                   compound_id  ...                  SMILES\n",
              "0  YAYNEUUHHLGGAH-UHFFFAOYNA-N  ...          ClCCCCCCCCCCCC\n",
              "1  LUVCTYHBTXSAMX-UHFFFAOYNA-N  ...      ClCCOP(OCCCl)OCCCl\n",
              "2  FAGUFWYHJQFNRV-UHFFFAOYNA-N  ...         N(CCNCCN)CCNCCN\n",
              "3  HQUQLFOMPYWACS-UHFFFAOYNA-N  ...  ClCCOP(OCCCl)(OCCCl)=O\n",
              "4  JVGPVVUTUMQJKL-UHFFFAOYNA-N  ...        S(CCOCCOCCCC)C#N\n",
              "\n",
              "[5 rows x 11 columns]"
            ]
          },
          "metadata": {
            "tags": []
          },
          "execution_count": 11
        }
      ]
    },
    {
      "cell_type": "code",
      "metadata": {
        "id": "cKc3DLTk31-X"
      },
      "source": [
        "# import os\r\n",
        "# working_dir=tmp_dir\r\n",
        "curated_file=ofile"
      ],
      "execution_count": null,
      "outputs": []
    },
    {
      "cell_type": "code",
      "metadata": {
        "colab": {
          "base_uri": "https://localhost:8080/"
        },
        "id": "OvEDhhbvF-bF",
        "outputId": "5240326b-53ed-4ba3-bc71-d9ea58e9cfc9"
      },
      "source": [
        "data['SMILES']"
      ],
      "execution_count": null,
      "outputs": [
        {
          "output_type": "execute_result",
          "data": {
            "text/plain": [
              "0                                           ClCCCCCCCCCCCC\n",
              "1                                       ClCCOP(OCCCl)OCCCl\n",
              "2                                          N(CCNCCN)CCNCCN\n",
              "3                                   ClCCOP(OCCCl)(OCCCl)=O\n",
              "4                                         S(CCOCCOCCCC)C#N\n",
              "                               ...                        \n",
              "19319    O=C(N[C@@H]([C@H]1[C@@](C1)(C(=O)N[C@@H]([C@H]...\n",
              "19320    O1[C@@]2(O)C[C@@H](O)[C@H]([C@@H]1C[C@H](O[C@H...\n",
              "19321    O(C1CC=2[C@@]([C@@H]3[C@H]([C@H]4[C@@]([C@@H]5...\n",
              "19322    O1[C@H]2[C@H](O)[C@@H](O)[C@@H](O[C@H]3[C@H](O...\n",
              "19323    O[C@H]1[C@@]([C@H]2[C@@]([C@H]3[C@@]([C@]4(C([...\n",
              "Name: SMILES, Length: 19324, dtype: object"
            ]
          },
          "metadata": {
            "tags": []
          },
          "execution_count": 13
        }
      ]
    },
    {
      "cell_type": "code",
      "metadata": {
        "id": "eQEqrEzKCTos"
      },
      "source": [
        "# Generate SMILES, InChI keys for dataset with curation and structure modules.\r\n",
        "# RDkit modules are used to process the SMILES strings\r\n",
        "data['rdkit_smiles'] = data['SMILES'].apply(curate_data.base_smiles_from_smiles)\r\n",
        "# data['inchi_key'] = data['smiles'].apply(struct_utils.smiles_to_inchi_key)"
      ],
      "execution_count": null,
      "outputs": []
    },
    {
      "cell_type": "code",
      "metadata": {
        "id": "ivNee1o5N_1z",
        "colab": {
          "base_uri": "https://localhost:8080/"
        },
        "outputId": "fec44cbd-e8a0-4102-8532-6ad7c0fe7246"
      },
      "source": [
        "print(data.shape)\r\n",
        "print(data['rdkit_smiles'].value_counts()[0:10])"
      ],
      "execution_count": null,
      "outputs": [
        {
          "output_type": "stream",
          "text": [
            "(19324, 12)\n",
            "                                                                                        9\n",
            "CN1CCN(c2ccc(/C=C/c3n[nH]c4cc(CC5=c6ccccc6=NC5=O)ccc34)cn2)CC1                          2\n",
            "CC[C@@]1(O)C(=O)OCC2C(=O)n3cc4cc5c(CN(C)C)c(O)ccc5nc4c3C=C21                            2\n",
            "NCCC(=O)NCCc1cnc[nH]1                                                                   2\n",
            "C[C@@H]1CC[C@H]2C(=O)O[C@H](CN=[N+]=[N-])CN2[C@@H]1c1ccc(Br)cc1                         2\n",
            "CCCc1c(OCCCCc2nn[nH]n2)ccc(C(C)=O)c1O                                                   2\n",
            "O=c1c(O)c(-c2ccc(O)cc2)oc2ccc(O)cc12                                                    2\n",
            "O=C1C(=O)C(c2ccc(O)c(O)c2)Oc2ccccc21                                                    2\n",
            "CC[C@]1(O)CC(O[C@@H]2CC(N(C)C)C(O)C(C)O2)c2c(cc3c(c2O)C(=O)c2c(O)cccc2C3=O)C1C(=O)OC    2\n",
            "CN1[C@H]2CC[C@@H]1CC(OC(=O)c1c[nH]c3ccccc13)C2                                          2\n",
            "Name: rdkit_smiles, dtype: int64\n"
          ],
          "name": "stdout"
        }
      ]
    },
    {
      "cell_type": "code",
      "metadata": {
        "colab": {
          "base_uri": "https://localhost:8080/"
        },
        "id": "xBOVYa8WOqP8",
        "outputId": "71f4d7f6-61a5-43e7-e6d9-afc9515a5cad"
      },
      "source": [
        "# import os\n",
        "# working_dir=tmp_dir\n",
        "# ofile=target_name+'_excape_curated.csv.'+username\n",
        "\n",
        "# column: Response values column\n",
        "column = 'PXC50'\n",
        "\n",
        "# tolerance: Percentage of individual respsonse values allowed to different from \n",
        "# the average to be included in averaging\n",
        "tolerance = 10\n",
        "\n",
        "# list_bad_duplicates: Print structures with bad duplicates\n",
        "list_bad_duplicates = 'Yes'\n",
        "\n",
        "# max_std: Maximum allowed standard deviation for computed average response value\n",
        "# NOTE: In this example, we set this value very high to disable this feature\n",
        "max_std = 1\n",
        "\n",
        "# compound_id: Compound ID column\n",
        "compound_id = 'compound_id'\n",
        "\n",
        "# smiles_col: SMILES column\n",
        "smiles_col = 'rdkit_smiles'\n",
        "\n",
        "# column that will be averaged ; smiles_col; used to find the replicates\n",
        "# \n",
        "\n",
        "curated_df = curate_data.average_and_remove_duplicates(column, tolerance, \n",
        "                                                       list_bad_duplicates, \n",
        "                                                       data, max_std, \n",
        "                                                       compound_id=compound_id, \n",
        "                                                       smiles_col=smiles_col)\n",
        "# curated_file = os.path.join(working_dir, ofile)\n",
        "## discard out of range values\n",
        "curated_df=curated_df[curated_df['VALUE_NUM_mean']>2]\n",
        "curated_df.to_csv(curated_file, index=False)"
      ],
      "execution_count": null,
      "outputs": [
        {
          "output_type": "stream",
          "text": [
            "Bad duplicates removed from dataset\n",
            "Dataframe size (19315, 16)\n",
            "List of 'bad' duplicates removed\n",
            "                       compound_id    PXC50  ...  Perc_Var  VALUE_NUM_std\n",
            "7753   MXZASAPEQAUAEP-REUGXJQINA-N      NaN  ...       NaN       1.060667\n",
            "7754   MXZASAPEQAUAEP-VADGTKANNA-N      NaN  ...       NaN       1.060667\n",
            "1383   NVYHVHVSHFOAPB-UHFFFAOYNA-N      NaN  ...       NaN       1.060667\n",
            "1490   QGTGMXPADSCUFS-KZFATGLANA-N      NaN  ...       NaN       1.060667\n",
            "749    RRSCJMKFYYSZES-UHFFFAOYNA-N      NaN  ...       NaN       1.060667\n",
            "19258  RTSGOHGMRQSVKL-STNGILPFNA-N  4.40000  ...  14.56319       1.060667\n",
            "4426   TXACMWZLLJFLER-UHFFFAOYNA-N  5.90001  ...  14.56319       1.060667\n",
            "14961  XBRDHOJWZLJOJV-IPPOASPLNA-N      NaN  ...       NaN       1.060667\n",
            "17400  XYBAFMNNAXYCSR-YOSCJVSPNA-N      NaN  ...       NaN       1.060667\n",
            "\n",
            "[9 rows x 5 columns]\n",
            "\n",
            "Dataset de-duplicated\n",
            "Dataframe size (19303, 16)\n",
            "New column created with averaged values:  VALUE_NUM_mean\n"
          ],
          "name": "stdout"
        }
      ]
    },
    {
      "cell_type": "markdown",
      "metadata": {
        "id": "mMacWA8TOqP9"
      },
      "source": [
        "## Note this includes the compounds discarded by measurement variation and out of range values"
      ]
    },
    {
      "cell_type": "code",
      "metadata": {
        "colab": {
          "base_uri": "https://localhost:8080/"
        },
        "id": "RpG6M4Yw_5-Q",
        "outputId": "66d66d65-70f6-4172-b0ab-aaf608eb36f6"
      },
      "source": [
        "curated_df['Remove_BadDuplicate'].value_counts()"
      ],
      "execution_count": null,
      "outputs": [
        {
          "output_type": "execute_result",
          "data": {
            "text/plain": [
              "0    14364\n",
              "Name: Remove_BadDuplicate, dtype: int64"
            ]
          },
          "metadata": {
            "tags": []
          },
          "execution_count": 17
        }
      ]
    },
    {
      "cell_type": "code",
      "metadata": {
        "id": "1M8ajRHvOqP9",
        "colab": {
          "base_uri": "https://localhost:8080/",
          "height": 762
        },
        "outputId": "59942d27-7aa0-4a48-a3d2-31dc711fa06a"
      },
      "source": [
        "compound_id='rdkit_smiles'\n",
        "reject=data[~data[compound_id].isin(curated_df[compound_id])]\n",
        "reject"
      ],
      "execution_count": null,
      "outputs": [
        {
          "output_type": "execute_result",
          "data": {
            "text/html": [
              "<div>\n",
              "<style scoped>\n",
              "    .dataframe tbody tr th:only-of-type {\n",
              "        vertical-align: middle;\n",
              "    }\n",
              "\n",
              "    .dataframe tbody tr th {\n",
              "        vertical-align: top;\n",
              "    }\n",
              "\n",
              "    .dataframe thead th {\n",
              "        text-align: right;\n",
              "    }\n",
              "</style>\n",
              "<table border=\"1\" class=\"dataframe\">\n",
              "  <thead>\n",
              "    <tr style=\"text-align: right;\">\n",
              "      <th></th>\n",
              "      <th>compound_id</th>\n",
              "      <th>Original_Entry_ID</th>\n",
              "      <th>Entrez_ID</th>\n",
              "      <th>Activity_Flag</th>\n",
              "      <th>PXC50</th>\n",
              "      <th>DB</th>\n",
              "      <th>Original_Assay_ID</th>\n",
              "      <th>Tax_ID</th>\n",
              "      <th>Gene_Symbol</th>\n",
              "      <th>Ortholog_Group</th>\n",
              "      <th>SMILES</th>\n",
              "      <th>rdkit_smiles</th>\n",
              "    </tr>\n",
              "  </thead>\n",
              "  <tbody>\n",
              "    <tr>\n",
              "      <th>0</th>\n",
              "      <td>YAYNEUUHHLGGAH-UHFFFAOYNA-N</td>\n",
              "      <td>8192</td>\n",
              "      <td>1576</td>\n",
              "      <td>N</td>\n",
              "      <td>NaN</td>\n",
              "      <td>pubchem</td>\n",
              "      <td>885</td>\n",
              "      <td>9606</td>\n",
              "      <td>CYP3A4</td>\n",
              "      <td>un4</td>\n",
              "      <td>ClCCCCCCCCCCCC</td>\n",
              "      <td>CCCCCCCCCCCCCl</td>\n",
              "    </tr>\n",
              "    <tr>\n",
              "      <th>1</th>\n",
              "      <td>LUVCTYHBTXSAMX-UHFFFAOYNA-N</td>\n",
              "      <td>8783</td>\n",
              "      <td>1576</td>\n",
              "      <td>N</td>\n",
              "      <td>NaN</td>\n",
              "      <td>pubchem</td>\n",
              "      <td>885</td>\n",
              "      <td>9606</td>\n",
              "      <td>CYP3A4</td>\n",
              "      <td>un4</td>\n",
              "      <td>ClCCOP(OCCCl)OCCCl</td>\n",
              "      <td>ClCCOP(OCCCl)OCCCl</td>\n",
              "    </tr>\n",
              "    <tr>\n",
              "      <th>2</th>\n",
              "      <td>FAGUFWYHJQFNRV-UHFFFAOYNA-N</td>\n",
              "      <td>8197</td>\n",
              "      <td>1576</td>\n",
              "      <td>N</td>\n",
              "      <td>NaN</td>\n",
              "      <td>pubchem</td>\n",
              "      <td>885</td>\n",
              "      <td>9606</td>\n",
              "      <td>CYP3A4</td>\n",
              "      <td>un4</td>\n",
              "      <td>N(CCNCCN)CCNCCN</td>\n",
              "      <td>NCCNCCNCCNCCN</td>\n",
              "    </tr>\n",
              "    <tr>\n",
              "      <th>3</th>\n",
              "      <td>HQUQLFOMPYWACS-UHFFFAOYNA-N</td>\n",
              "      <td>8295</td>\n",
              "      <td>1576</td>\n",
              "      <td>N</td>\n",
              "      <td>NaN</td>\n",
              "      <td>pubchem</td>\n",
              "      <td>885</td>\n",
              "      <td>9606</td>\n",
              "      <td>CYP3A4</td>\n",
              "      <td>un4</td>\n",
              "      <td>ClCCOP(OCCCl)(OCCCl)=O</td>\n",
              "      <td>O=P(OCCCl)(OCCCl)OCCCl</td>\n",
              "    </tr>\n",
              "    <tr>\n",
              "      <th>4</th>\n",
              "      <td>JVGPVVUTUMQJKL-UHFFFAOYNA-N</td>\n",
              "      <td>8196</td>\n",
              "      <td>1576</td>\n",
              "      <td>N</td>\n",
              "      <td>NaN</td>\n",
              "      <td>pubchem</td>\n",
              "      <td>885</td>\n",
              "      <td>9606</td>\n",
              "      <td>CYP3A4</td>\n",
              "      <td>un4</td>\n",
              "      <td>S(CCOCCOCCCC)C#N</td>\n",
              "      <td>CCCCOCCOCCSC#N</td>\n",
              "    </tr>\n",
              "    <tr>\n",
              "      <th>...</th>\n",
              "      <td>...</td>\n",
              "      <td>...</td>\n",
              "      <td>...</td>\n",
              "      <td>...</td>\n",
              "      <td>...</td>\n",
              "      <td>...</td>\n",
              "      <td>...</td>\n",
              "      <td>...</td>\n",
              "      <td>...</td>\n",
              "      <td>...</td>\n",
              "      <td>...</td>\n",
              "      <td>...</td>\n",
              "    </tr>\n",
              "    <tr>\n",
              "      <th>19318</th>\n",
              "      <td>JAEVYKDIHOIUBG-BFNREGQINA-N</td>\n",
              "      <td>11972249</td>\n",
              "      <td>1576</td>\n",
              "      <td>N</td>\n",
              "      <td>NaN</td>\n",
              "      <td>pubchem</td>\n",
              "      <td>885</td>\n",
              "      <td>9606</td>\n",
              "      <td>CYP3A4</td>\n",
              "      <td>un4</td>\n",
              "      <td>O1[C@H]2[C@@H]([C@]3([C@H](C2)C=4[C@H]([C@H]5C...</td>\n",
              "      <td>CC(=O)O[C@H]1CC[C@@]2(C)C(=C[C@@H]([C@@H]3C=C4...</td>\n",
              "    </tr>\n",
              "    <tr>\n",
              "      <th>19320</th>\n",
              "      <td>VQOXZBDYSJBXMA-CITDNZFXNA-N</td>\n",
              "      <td>6604297</td>\n",
              "      <td>1576</td>\n",
              "      <td>N</td>\n",
              "      <td>NaN</td>\n",
              "      <td>pubchem</td>\n",
              "      <td>885</td>\n",
              "      <td>9606</td>\n",
              "      <td>CYP3A4</td>\n",
              "      <td>un4</td>\n",
              "      <td>O1[C@@]2(O)C[C@@H](O)[C@H]([C@@H]1C[C@H](O[C@H...</td>\n",
              "      <td>C[C@H]1C=CC=CCCC=CC=CC=CC=C[C@@H](O[C@H]2O[C@@...</td>\n",
              "    </tr>\n",
              "    <tr>\n",
              "      <th>19321</th>\n",
              "      <td>ZGVSETXHNHBTRK-WWELWOLRNA-N</td>\n",
              "      <td>6537493</td>\n",
              "      <td>1576</td>\n",
              "      <td>N</td>\n",
              "      <td>NaN</td>\n",
              "      <td>pubchem</td>\n",
              "      <td>885</td>\n",
              "      <td>9606</td>\n",
              "      <td>CYP3A4</td>\n",
              "      <td>un4</td>\n",
              "      <td>O(C1CC=2[C@@]([C@@H]3[C@H]([C@H]4[C@@]([C@@H]5...</td>\n",
              "      <td>C[C@H]1CC[C@@H]2[C@@H](C)[C@H]3[C@H](C[C@H]4[C...</td>\n",
              "    </tr>\n",
              "    <tr>\n",
              "      <th>19322</th>\n",
              "      <td>HFHDHCJBZVLPGP-RWMJIURBNA-N</td>\n",
              "      <td>444913</td>\n",
              "      <td>1576</td>\n",
              "      <td>N</td>\n",
              "      <td>NaN</td>\n",
              "      <td>pubchem</td>\n",
              "      <td>885</td>\n",
              "      <td>9606</td>\n",
              "      <td>CYP3A4</td>\n",
              "      <td>un4</td>\n",
              "      <td>O1[C@H]2[C@H](O)[C@@H](O)[C@@H](O[C@H]3[C@H](O...</td>\n",
              "      <td>OC[C@H]1O[C@@H]2O[C@@H]3[C@@H](CO)O[C@H](O[C@@...</td>\n",
              "    </tr>\n",
              "    <tr>\n",
              "      <th>19323</th>\n",
              "      <td>WYQVAPGDARQUBT-HYWZXTRQNA-N</td>\n",
              "      <td>6604349</td>\n",
              "      <td>1576</td>\n",
              "      <td>N</td>\n",
              "      <td>NaN</td>\n",
              "      <td>pubchem</td>\n",
              "      <td>885</td>\n",
              "      <td>9606</td>\n",
              "      <td>CYP3A4</td>\n",
              "      <td>un4</td>\n",
              "      <td>O[C@H]1[C@@]([C@H]2[C@@]([C@H]3[C@@]([C@]4(C([...</td>\n",
              "      <td>C[C@@H]1O[C@H](O[C@@H]2[C@H](CO)O[C@H](OC[C@@H...</td>\n",
              "    </tr>\n",
              "  </tbody>\n",
              "</table>\n",
              "<p>4949 rows × 12 columns</p>\n",
              "</div>"
            ],
            "text/plain": [
              "                       compound_id  ...                                       rdkit_smiles\n",
              "0      YAYNEUUHHLGGAH-UHFFFAOYNA-N  ...                                     CCCCCCCCCCCCCl\n",
              "1      LUVCTYHBTXSAMX-UHFFFAOYNA-N  ...                                 ClCCOP(OCCCl)OCCCl\n",
              "2      FAGUFWYHJQFNRV-UHFFFAOYNA-N  ...                                      NCCNCCNCCNCCN\n",
              "3      HQUQLFOMPYWACS-UHFFFAOYNA-N  ...                             O=P(OCCCl)(OCCCl)OCCCl\n",
              "4      JVGPVVUTUMQJKL-UHFFFAOYNA-N  ...                                     CCCCOCCOCCSC#N\n",
              "...                            ...  ...                                                ...\n",
              "19318  JAEVYKDIHOIUBG-BFNREGQINA-N  ...  CC(=O)O[C@H]1CC[C@@]2(C)C(=C[C@@H]([C@@H]3C=C4...\n",
              "19320  VQOXZBDYSJBXMA-CITDNZFXNA-N  ...  C[C@H]1C=CC=CCCC=CC=CC=CC=C[C@@H](O[C@H]2O[C@@...\n",
              "19321  ZGVSETXHNHBTRK-WWELWOLRNA-N  ...  C[C@H]1CC[C@@H]2[C@@H](C)[C@H]3[C@H](C[C@H]4[C...\n",
              "19322  HFHDHCJBZVLPGP-RWMJIURBNA-N  ...  OC[C@H]1O[C@@H]2O[C@@H]3[C@@H](CO)O[C@H](O[C@@...\n",
              "19323  WYQVAPGDARQUBT-HYWZXTRQNA-N  ...  C[C@@H]1O[C@H](O[C@@H]2[C@H](CO)O[C@H](OC[C@@H...\n",
              "\n",
              "[4949 rows x 12 columns]"
            ]
          },
          "metadata": {
            "tags": []
          },
          "execution_count": 18
        }
      ]
    },
    {
      "cell_type": "markdown",
      "metadata": {
        "id": "o4Q30sjCOqP-"
      },
      "source": [
        "## save rejected molecules for further examination"
      ]
    },
    {
      "cell_type": "code",
      "metadata": {
        "id": "fVbKlSYLOqP-",
        "colab": {
          "base_uri": "https://localhost:8080/"
        },
        "outputId": "f215707c-efb9-429d-a19f-30158908b064"
      },
      "source": [
        "print(\"Number of discarded compounds\",reject[compound_id].nunique())\n",
        "# ofile=tmp_dir+target_name+'.reject_check.'+username\n",
        "ofile=target_name+'.reject_check.csv'\n",
        "reject.to_csv(ofile,index=False)"
      ],
      "execution_count": null,
      "outputs": [
        {
          "output_type": "stream",
          "text": [
            "Number of discarded compounds 4940\n"
          ],
          "name": "stdout"
        }
      ]
    },
    {
      "cell_type": "code",
      "metadata": {
        "id": "evd3LNUnOqP-",
        "colab": {
          "base_uri": "https://localhost:8080/",
          "height": 306
        },
        "outputId": "0199910b-39cd-4369-9128-cbd426ed0c34"
      },
      "source": [
        "import matplotlib.pyplot as plt\n",
        "import seaborn as sns\n",
        "fig, ax = plt.subplots()\n",
        "\n",
        "# This will be our before curation\n",
        "before=data[\"PXC50\"]\n",
        "\n",
        "# current curated dataframe will not include any out of range values\n",
        "after=curated_df[\"PXC50\"]\n",
        "\n",
        "sns.distplot(before, bins=range(0, 12, 1), ax=ax, kde=False, label='before')\n",
        "sns.distplot(after, bins=range(0, 12, 1), ax=ax, kde=False, label='after')\n",
        "plt.legend()\n",
        "ax.set_xlim([0, 12])"
      ],
      "execution_count": null,
      "outputs": [
        {
          "output_type": "execute_result",
          "data": {
            "text/plain": [
              "(0.0, 12.0)"
            ]
          },
          "metadata": {
            "tags": []
          },
          "execution_count": 20
        },
        {
          "output_type": "display_data",
          "data": {
            "image/png": "[encoded data removed]",
            "text/plain": [
              "<Figure size 432x288 with 1 Axes>"
            ]
          },
          "metadata": {
            "tags": [],
            "needs_background": "light"
          }
        }
      ]
    },
    {
      "cell_type": "code",
      "metadata": {
        "id": "A3Li6LZwOqP_",
        "colab": {
          "base_uri": "https://localhost:8080/",
          "height": 437
        },
        "outputId": "432942cb-4cfc-4fcf-b565-ba1fd16fc32b"
      },
      "source": [
        "column = 'PXC50'\n",
        "num_bins = 20\n",
        "title = target_name\n",
        "units = 'NM'\n",
        "filepath = \"\"\n",
        "data=curated_df\n",
        "\n",
        "curate_data.summarize_data(column, num_bins, title, units, filepath, data)"
      ],
      "execution_count": null,
      "outputs": [
        {
          "output_type": "stream",
          "text": [
            "Post-processing dataset\n",
            "\n",
            "Total Number of results = 14364\n",
            "dataset mean = 5.26211778961296 NM\n",
            "dataset stdev = 0.6665901682938045 NM\n",
            "dataset max = 10.66 NM\n",
            "dataset min = 3.08 NM\n",
            "\n"
          ],
          "name": "stdout"
        },
        {
          "output_type": "display_data",
          "data": {
            "image/png": "[encoded data removed]",
            "text/plain": [
              "<Figure size 432x288 with 1 Axes>"
            ]
          },
          "metadata": {
            "tags": [],
            "needs_background": "light"
          }
        }
      ]
    },
    {
      "cell_type": "code",
      "metadata": {
        "colab": {
          "base_uri": "https://localhost:8080/"
        },
        "id": "l1FUw3maKPmq",
        "outputId": "742ba2ec-637e-4d77-8281-9c69feb05a47"
      },
      "source": [
        "!date #ending time"
      ],
      "execution_count": null,
      "outputs": [
        {
          "output_type": "stream",
          "text": [
            "Mon Jan 18 02:55:06 UTC 2021\n"
          ],
          "name": "stdout"
        }
      ]
    },
    {
      "cell_type": "code",
      "metadata": {
        "id": "HftmY7-QLc9r"
      },
      "source": [
        ""
      ],
      "execution_count": null,
      "outputs": []
    }
  ]
}