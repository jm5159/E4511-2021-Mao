{
  "nbformat": 4,
  "nbformat_minor": 0,
  "metadata": {
    "extensions": {
      "jupyter_dashboards": {
        "activeView": "report_default",
        "version": 1,
        "views": {
          "grid_default": {
            "cellMargin": 10,
            "defaultCellHeight": 20,
            "maxColumns": 12,
            "name": "grid",
            "type": "grid"
          },
          "report_default": {
            "name": "report",
            "type": "report"
          }
        }
      }
    },
    "kernelspec": {
      "display_name": "Python 3",
      "language": "python",
      "name": "python3"
    },
    "language_info": {
      "codemirror_mode": {
        "name": "ipython",
        "version": 3
      },
      "file_extension": ".py",
      "mimetype": "text/x-python",
      "name": "python",
      "nbconvert_exporter": "python",
      "pygments_lexer": "ipython3",
      "version": "3.6.12"
    },
    "colab": {
      "name": "explore_data_dtc_min_viable_one.ipynb",
      "provenance": [],
      "collapsed_sections": [],
      "machine_shape": "hm"
    },
    "accelerator": "GPU"
  },
  "cells": [
    {
      "cell_type": "markdown",
      "metadata": {
        "id": "od_Bn9W5gCh9"
      },
      "source": [
        "# Before you begin, make sure you close all other COLAB notebooks. "
      ]
    },
    {
      "cell_type": "markdown",
      "metadata": {
        "id": "2DWqm4Cxm5h_"
      },
      "source": [
        "# Change Runtime settings\r\n",
        "\r\n",
        "## Plesae change your runtime settings to use GPU and high-memory, if you have \r\n",
        "\r\n",
        "## Runtime --> Change Runtime Type --> GPU wityh high-RAM"
      ]
    },
    {
      "cell_type": "code",
      "metadata": {
        "id": "rlYz7j65MDcb",
        "colab": {
          "base_uri": "https://localhost:8080/"
        },
        "outputId": "45b64d90-f9f1-4e98-e7d0-47c387a0b0f0"
      },
      "source": [
        "!date # starting time"
      ],
      "execution_count": null,
      "outputs": [
        {
          "output_type": "stream",
          "text": [
            "Thu Feb 18 21:17:41 UTC 2021\n"
          ],
          "name": "stdout"
        }
      ]
    },
    {
      "cell_type": "markdown",
      "metadata": {
        "id": "5qGO2T0cIvIm"
      },
      "source": [
        "## Install AMPL GPU version\r\n",
        "\r\n",
        "```\r\n",
        "real\t2m59.739s\r\n",
        "user\t1m48.995s\r\n",
        "sys\t0m20.614s\r\n",
        "```"
      ]
    },
    {
      "cell_type": "code",
      "metadata": {
        "id": "TW1L0cVrIqxm",
        "colab": {
          "base_uri": "https://localhost:8080/"
        },
        "outputId": "ad28aa11-f607-4249-a243-a581613e6daa"
      },
      "source": [
        "%tensorflow_version 1.x\r\n",
        "\r\n",
        "# get the Anaconda file \r\n",
        "! wget -c https://repo.anaconda.com/archive/Anaconda3-2019.10-Linux-x86_64.sh\r\n",
        "! chmod +x Anaconda3-2019.10-Linux-x86_64.sh\r\n",
        "! bash ./Anaconda3-2019.10-Linux-x86_64.sh -b -f -p /usr/local\r\n",
        "\r\n",
        "! time conda install -y -c deepchem -c rdkit -c conda-forge -c omnia deepchem-gpu=2.3.0\r\n",
        "\r\n",
        "import sys\r\n",
        "sys.path.append('/usr/local/lib/python3.7/site-packages/')\r\n",
        "import deepchem as dc\r\n",
        "\r\n",
        "# install mordred, bravado and molvs\r\n",
        "! time conda install -c conda-forge -y mordred bravado molvs\r\n",
        "\r\n",
        "# get the Install AMPL_GPU_test.sh\r\n",
        "!wget https://raw.githubusercontent.com/ravichas/AMPL-Tutorial/master/config/install_AMPL_GPU_test.sh\r\n",
        "\r\n",
        "# run the script to install AMPL\r\n",
        "! chmod u+x install_AMPL_GPU_test.sh\r\n",
        "! ./install_AMPL_GPU_test.sh"
      ],
      "execution_count": null,
      "outputs": [
        {
          "output_type": "stream",
          "text": [
            "--2021-02-19 00:27:12--  https://repo.anaconda.com/miniconda/Miniconda3-latest-Linux-x86_64.sh\n",
            "Resolving repo.anaconda.com (repo.anaconda.com)... 104.16.131.3, 104.16.130.3, 2606:4700::6810:8203, ...\n",
            "Connecting to repo.anaconda.com (repo.anaconda.com)|104.16.131.3|:443... connected.\n",
            "HTTP request sent, awaiting response... 200 OK\n",
            "Length: 94235922 (90M) [application/x-sh]\n",
            "Saving to: ‘Miniconda3-latest-Linux-x86_64.sh’\n",
            "\n",
            "Miniconda3-latest-L 100%[===================>]  89.87M   130MB/s    in 0.7s    \n",
            "\n",
            "2021-02-19 00:27:13 (130 MB/s) - ‘Miniconda3-latest-Linux-x86_64.sh’ saved [94235922/94235922]\n",
            "\n",
            "PREFIX=/content/AMPL\n",
            "Unpacking payload ...\n",
            "Collecting package metadata (current_repodata.json): - \b\b\\ \b\b| \b\bdone\n",
            "Solving environment: - \b\b\\ \b\bdone\n",
            "\n",
            "## Package Plan ##\n",
            "\n",
            "  environment location: /content/AMPL\n",
            "\n",
            "  added / updated specs:\n",
            "    - _libgcc_mutex==0.1=main\n",
            "    - brotlipy==0.7.0=py38h27cfd23_1003\n",
            "    - ca-certificates==2020.10.14=0\n",
            "    - certifi==2020.6.20=pyhd3eb1b0_3\n",
            "    - cffi==1.14.3=py38h261ae71_2\n",
            "    - chardet==3.0.4=py38h06a4308_1003\n",
            "    - conda-package-handling==1.7.2=py38h03888b9_0\n",
            "    - conda==4.9.2=py38h06a4308_0\n",
            "    - cryptography==3.2.1=py38h3c74f83_1\n",
            "    - idna==2.10=py_0\n",
            "    - ld_impl_linux-64==2.33.1=h53a641e_7\n",
            "    - libedit==3.1.20191231=h14c3975_1\n",
            "    - libffi==3.3=he6710b0_2\n",
            "    - libgcc-ng==9.1.0=hdf63c60_0\n",
            "    - libstdcxx-ng==9.1.0=hdf63c60_0\n",
            "    - ncurses==6.2=he6710b0_1\n",
            "    - openssl==1.1.1h=h7b6447c_0\n",
            "    - pip==20.2.4=py38h06a4308_0\n",
            "    - pycosat==0.6.3=py38h7b6447c_1\n",
            "    - pycparser==2.20=py_2\n",
            "    - pyopenssl==19.1.0=pyhd3eb1b0_1\n",
            "    - pysocks==1.7.1=py38h06a4308_0\n",
            "    - python==3.8.5=h7579374_1\n",
            "    - readline==8.0=h7b6447c_0\n",
            "    - requests==2.24.0=py_0\n",
            "    - ruamel_yaml==0.15.87=py38h7b6447c_1\n",
            "    - setuptools==50.3.1=py38h06a4308_1\n",
            "    - six==1.15.0=py38h06a4308_0\n",
            "    - sqlite==3.33.0=h62c20be_0\n",
            "    - tk==8.6.10=hbc83047_0\n",
            "    - tqdm==4.51.0=pyhd3eb1b0_0\n",
            "    - urllib3==1.25.11=py_0\n",
            "    - wheel==0.35.1=pyhd3eb1b0_0\n",
            "    - xz==5.2.5=h7b6447c_0\n",
            "    - yaml==0.2.5=h7b6447c_0\n",
            "    - zlib==1.2.11=h7b6447c_3\n",
            "\n",
            "\n",
            "The following NEW packages will be INSTALLED:\n",
            "\n",
            "  _libgcc_mutex      pkgs/main/linux-64::_libgcc_mutex-0.1-main\n",
            "  brotlipy           pkgs/main/linux-64::brotlipy-0.7.0-py38h27cfd23_1003\n",
            "  ca-certificates    pkgs/main/linux-64::ca-certificates-2020.10.14-0\n",
            "  certifi            pkgs/main/noarch::certifi-2020.6.20-pyhd3eb1b0_3\n",
            "  cffi               pkgs/main/linux-64::cffi-1.14.3-py38h261ae71_2\n",
            "  chardet            pkgs/main/linux-64::chardet-3.0.4-py38h06a4308_1003\n",
            "  conda              pkgs/main/linux-64::conda-4.9.2-py38h06a4308_0\n",
            "  conda-package-han~ pkgs/main/linux-64::conda-package-handling-1.7.2-py38h03888b9_0\n",
            "  cryptography       pkgs/main/linux-64::cryptography-3.2.1-py38h3c74f83_1\n",
            "  idna               pkgs/main/noarch::idna-2.10-py_0\n",
            "  ld_impl_linux-64   pkgs/main/linux-64::ld_impl_linux-64-2.33.1-h53a641e_7\n",
            "  libedit            pkgs/main/linux-64::libedit-3.1.20191231-h14c3975_1\n",
            "  libffi             pkgs/main/linux-64::libffi-3.3-he6710b0_2\n",
            "  libgcc-ng          pkgs/main/linux-64::libgcc-ng-9.1.0-hdf63c60_0\n",
            "  libstdcxx-ng       pkgs/main/linux-64::libstdcxx-ng-9.1.0-hdf63c60_0\n",
            "  ncurses            pkgs/main/linux-64::ncurses-6.2-he6710b0_1\n",
            "  openssl            pkgs/main/linux-64::openssl-1.1.1h-h7b6447c_0\n",
            "  pip                pkgs/main/linux-64::pip-20.2.4-py38h06a4308_0\n",
            "  pycosat            pkgs/main/linux-64::pycosat-0.6.3-py38h7b6447c_1\n",
            "  pycparser          pkgs/main/noarch::pycparser-2.20-py_2\n",
            "  pyopenssl          pkgs/main/noarch::pyopenssl-19.1.0-pyhd3eb1b0_1\n",
            "  pysocks            pkgs/main/linux-64::pysocks-1.7.1-py38h06a4308_0\n",
            "  python             pkgs/main/linux-64::python-3.8.5-h7579374_1\n",
            "  readline           pkgs/main/linux-64::readline-8.0-h7b6447c_0\n",
            "  requests           pkgs/main/noarch::requests-2.24.0-py_0\n",
            "  ruamel_yaml        pkgs/main/linux-64::ruamel_yaml-0.15.87-py38h7b6447c_1\n",
            "  setuptools         pkgs/main/linux-64::setuptools-50.3.1-py38h06a4308_1\n",
            "  six                pkgs/main/linux-64::six-1.15.0-py38h06a4308_0\n",
            "  sqlite             pkgs/main/linux-64::sqlite-3.33.0-h62c20be_0\n",
            "  tk                 pkgs/main/linux-64::tk-8.6.10-hbc83047_0\n",
            "  tqdm               pkgs/main/noarch::tqdm-4.51.0-pyhd3eb1b0_0\n",
            "  urllib3            pkgs/main/noarch::urllib3-1.25.11-py_0\n",
            "  wheel              pkgs/main/noarch::wheel-0.35.1-pyhd3eb1b0_0\n",
            "  xz                 pkgs/main/linux-64::xz-5.2.5-h7b6447c_0\n",
            "  yaml               pkgs/main/linux-64::yaml-0.2.5-h7b6447c_0\n",
            "  zlib               pkgs/main/linux-64::zlib-1.2.11-h7b6447c_3\n",
            "\n",
            "\n",
            "Preparing transaction: / \b\b- \b\b\\ \b\bdone\n",
            "Executing transaction: / \b\b- \b\b\\ \b\b| \b\b/ \b\b- \b\b\\ \b\b| \b\b/ \b\b- \b\bdone\n",
            "installation finished.\n",
            "WARNING:\n",
            "    You currently have a PYTHONPATH environment variable set. This may cause\n",
            "    unexpected behavior when running the Python interpreter in Miniconda3.\n",
            "    For best results, please verify that your PYTHONPATH only points to\n",
            "    directories of packages that are compatible with the Python interpreter\n",
            "    in Miniconda3: /content/AMPL\n",
            "\n",
            "Downloading and Extracting Packages\n",
            "_libgcc_mutex-0.1    | : 100% 1.0/1 [00:00<00:00,  7.66it/s]\n",
            "ca-certificates-2020 | : 100% 1.0/1 [00:00<00:00, 20.67it/s]\n",
            "cudatoolkit-9.0      | : 100% 1.0/1 [00:04<00:00,  4.52s/it]               \n",
            "fftw3f-3.3.4         | : 100% 1.0/1 [00:02<00:00,  2.59s/it]\n",
            "libgfortran-3.0.0    | : 100% 1.0/1 [00:00<00:00, 13.63it/s]\n",
            "libgfortran-ng-7.5.0 | : 100% 1.0/1 [00:00<00:00,  1.11it/s]\n",
            "libstdcxx-ng-9.2.0   | : 100% 1.0/1 [00:00<00:00,  1.63it/s]\n",
            "pandoc-2.9.2.1       | : 100% 1.0/1 [00:03<00:00,  3.72s/it]\n",
            "cudnn-7.6.5          | : 100% 1.0/1 [00:11<00:00, 11.37s/it]               \n",
            "cupti-9.0.176        | : 100% 1.0/1 [00:00<00:00, 14.74it/s]\n",
            "libgomp-9.2.0        | : 100% 1.0/1 [00:00<00:00,  8.36it/s]\n",
            "openblas-0.2.20      | : 100% 1.0/1 [00:05<00:00,  5.45s/it]\n",
            "_openmp_mutex-4.5    | : 100% 1.0/1 [00:00<00:00,  1.93it/s]                \n",
            "blas-1.1             | : 100% 1.0/1 [00:00<00:00, 43.37it/s]\n",
            "libgcc-ng-9.2.0      | : 100% 1.0/1 [00:01<00:00,  1.13s/it]\n",
            "blosc-1.18.1         | : 100% 1.0/1 [00:00<00:00,  6.47it/s]\n",
            "bzip2-1.0.8          | : 100% 1.0/1 [00:00<00:00, 12.18it/s]\n",
            "c-ares-1.15.0        | : 100% 1.0/1 [00:00<00:00, 23.91it/s]\n",
            "expat-2.2.9          | : 100% 1.0/1 [00:00<00:00, 16.19it/s]\n",
            "icu-58.2             | : 100% 1.0/1 [00:03<00:00,  3.19s/it]\n",
            "jpeg-9c              | : 100% 1.0/1 [00:00<00:00, 14.92it/s]\n",
            "libffi-3.2.1         | : 100% 1.0/1 [00:00<00:00, 29.04it/s]\n",
            "libiconv-1.15        | : 100% 1.0/1 [00:01<00:00,  1.24s/it]               \n",
            "libllvm8-8.0.1       | : 100% 1.0/1 [00:03<00:00,  3.51s/it]\n",
            "libsodium-1.0.17     | : 100% 1.0/1 [00:00<00:00, 12.75it/s]\n",
            "libuuid-2.32.1       | : 100% 1.0/1 [00:00<00:00, 32.78it/s]\n",
            "lzo-2.10             | : 100% 1.0/1 [00:00<00:00, 11.01it/s]\n",
            "ncurses-6.1          | : 100% 1.0/1 [00:00<00:00,  2.23it/s]\n",
            "openssl-1.0.2u       | : 100% 1.0/1 [00:00<00:00,  1.99it/s]\n",
            "pcre-8.44            | : 100% 1.0/1 [00:00<00:00, 14.15it/s]\n",
            "pixman-0.34.0        | : 100% 1.0/1 [00:00<00:00,  2.19it/s]\n",
            "pthread-stubs-0.4    | : 100% 1.0/1 [00:00<00:00, 42.28it/s]\n",
            "tbb-2020.1           | : 100% 1.0/1 [00:00<00:00,  4.80it/s]\n",
            "xorg-kbproto-1.0.7   | : 100% 1.0/1 [00:00<00:00, 29.90it/s]\n",
            "xorg-libice-1.0.10   | : 100% 1.0/1 [00:00<00:00, 35.02it/s]\n",
            "xorg-libxau-1.0.9    | : 100% 1.0/1 [00:00<00:00, 39.98it/s]\n",
            "xorg-libxdmcp-1.1.3  | : 100% 1.0/1 [00:00<00:00, 29.24it/s]\n",
            "xorg-renderproto-0.1 | : 100% 1.0/1 [00:00<00:00, 34.69it/s]\n",
            "xorg-xextproto-7.3.0 | : 100% 1.0/1 [00:00<00:00, 29.61it/s]\n",
            "xorg-xproto-7.0.31   | : 100% 1.0/1 [00:00<00:00, 27.67it/s]\n",
            "xz-5.2.5             | : 100% 1.0/1 [00:00<00:00, 10.58it/s]\n",
            "yaml-0.2.4           | : 100% 1.0/1 [00:00<00:00,  2.88it/s]                \n",
            "zlib-1.2.11          | : 100% 1.0/1 [00:00<00:00, 27.18it/s]\n",
            "dbus-1.13.0          | : 100% 1.0/1 [00:00<00:00,  2.25it/s]\n",
            "gettext-0.19.8.1     | : 100% 1.0/1 [00:00<00:00,  1.35it/s]\n",
            "hdf5-1.10.6          | : 100% 1.0/1 [00:00<00:00,  2.36it/s]\n",
            "libpng-1.6.37        | : 100% 1.0/1 [00:00<00:00, 13.34it/s]\n",
            "libprotobuf-3.12.1   | : 100% 1.0/1 [00:00<00:00,  1.09it/s]\n",
            "libtiff-4.0.9        | : 100% 1.0/1 [00:00<00:00,  1.86it/s]\n",
            "libxcb-1.13          | : 100% 1.0/1 [00:00<00:00,  2.05it/s]\n",
            "libxml2-2.9.9        | : 100% 1.0/1 [00:01<00:00,  1.16s/it]\n",
            "readline-7.0         | : 100% 1.0/1 [00:00<00:00,  9.40it/s]\n",
            "tk-8.6.10            | : 100% 1.0/1 [00:00<00:00,  1.79it/s]\n",
            "xorg-libsm-1.2.3     | : 100% 1.0/1 [00:00<00:00, 33.02it/s]\n",
            "zeromq-4.3.2         | : 100% 1.0/1 [00:00<00:00,  6.99it/s]\n",
            "freetype-2.8.1       | : 100% 1.0/1 [00:00<00:00,  6.05it/s]\n",
            "glib-2.55.0          | : 100% 1.0/1 [00:03<00:00,  3.61s/it]               \n",
            "sqlite-3.28.0        | : 100% 1.0/1 [00:00<00:00,  3.53it/s]\n",
            "xorg-libx11-1.6.9    | : 100% 1.0/1 [00:00<00:00,  5.92it/s]\n",
            "fontconfig-2.13.0    | : 100% 1.0/1 [00:00<00:00, 14.40it/s]\n",
            "gstreamer-1.12.5     | : 100% 1.0/1 [00:00<00:00,  2.99it/s]\n",
            "python-3.6.7         | : 100% 1.0/1 [00:04<00:00,  4.22s/it]\n",
            "xorg-libxext-1.3.4   | : 100% 1.0/1 [00:00<00:00, 33.37it/s]\n",
            "xorg-libxrender-0.9. | : 100% 1.0/1 [00:00<00:00, 34.99it/s]\n",
            "astor-0.7.1          | : 100% 1.0/1 [00:00<00:00, 25.93it/s]\n",
            "attrs-19.3.0         | : 100% 1.0/1 [00:00<00:00, 28.85it/s]\n",
            "backcall-0.1.0       | : 100% 1.0/1 [00:00<00:00, 43.79it/s]\n",
            "cairo-1.14.12        | : 100% 1.0/1 [00:00<00:00,  3.69it/s]\n",
            "decorator-4.4.2      | : 100% 1.0/1 [00:00<00:00, 30.75it/s]\n",
            "defusedxml-0.6.0     | : 100% 1.0/1 [00:00<00:00, 37.59it/s]\n",
            "gast-0.3.3           | : 100% 1.0/1 [00:00<00:00,  3.20it/s]\n",
            "gst-plugins-base-1.1 | : 100% 1.0/1 [00:00<00:00,  1.46it/s]\n",
            "idna-2.6             | : 100% 1.0/1 [00:00<00:00,  2.93it/s]                \n",
            "ipython_genutils-0.2 | : 100% 1.0/1 [00:00<00:00,  3.02it/s]               \n",
            "joblib-0.11          | : 100% 1.0/1 [00:00<00:00, 14.39it/s]\n",
            "jsonref-0.2          | : 100% 1.0/1 [00:00<00:00, 42.30it/s]\n",
            "monotonic-1.5        | : 100% 1.0/1 [00:00<00:00, 33.60it/s]\n",
            "more-itertools-8.3.0 | : 100% 1.0/1 [00:00<00:00, 33.02it/s]\n",
            "msgpack-python-0.5.5 | : 100% 1.0/1 [00:00<00:00, 15.73it/s]\n",
            "numpy-1.15.2         | : 100% 1.0/1 [00:03<00:00,  3.03s/it]               \n",
            "olefile-0.46         | : 100% 1.0/1 [00:00<00:00, 25.89it/s]\n",
            "pandocfilters-1.4.2  | : 100% 1.0/1 [00:00<00:00, 38.13it/s]\n",
            "parso-0.7.0          | : 100% 1.0/1 [00:00<00:00, 16.78it/s]\n",
            "prometheus_client-0. | : 100% 1.0/1 [00:00<00:00, 30.52it/s]\n",
            "ptyprocess-0.6.0     | : 100% 1.0/1 [00:00<00:00,  3.16it/s]\n",
            "py-1.8.1             | : 100% 1.0/1 [00:00<00:00,  3.13it/s]                \n",
            "pycparser-2.20       | : 100% 1.0/1 [00:00<00:00, 20.87it/s]\n",
            "pyparsing-2.4.7      | : 100% 1.0/1 [00:00<00:00, 30.18it/s]\n",
            "python_abi-3.6       | : 100% 1.0/1 [00:00<00:00, 36.89it/s]\n",
            "pytz-2020.1          | : 100% 1.0/1 [00:00<00:00,  9.37it/s]\n",
            "qtpy-1.9.0           | : 100% 1.0/1 [00:00<00:00, 31.78it/s]\n",
            "send2trash-1.5.0     | : 100% 1.0/1 [00:00<00:00,  2.99it/s]\n",
            "sip-4.18.1           | : 100% 1.0/1 [00:00<00:00, 15.64it/s]\n",
            "six-1.15.0           | : 100% 1.0/1 [00:00<00:00, 41.75it/s]\n",
            "termcolor-1.1.0      | : 100% 1.0/1 [00:00<00:00, 49.95it/s]\n",
            "testpath-0.4.4       | : 100% 1.0/1 [00:00<00:00, 33.43it/s]\n",
            "tqdm-4.46.0          | : 100% 1.0/1 [00:00<00:00,  2.77it/s]               \n",
            "wcwidth-0.1.9        | : 100% 1.0/1 [00:00<00:00,  3.15it/s]               \n",
            "webencodings-0.5.1   | : 100% 1.0/1 [00:00<00:00, 34.88it/s]\n",
            "werkzeug-1.0.1       | : 100% 1.0/1 [00:00<00:00, 16.06it/s]\n",
            "zipp-3.1.0           | : 100% 1.0/1 [00:00<00:00, 34.05it/s]\n",
            "absl-py-0.9.0        | : 100% 1.0/1 [00:00<00:00, 15.64it/s]\n",
            "asn1crypto-1.3.0     | : 100% 1.0/1 [00:00<00:00, 15.89it/s]\n",
            "boost-1.63.0         | : 100% 1.0/1 [00:07<00:00,  7.59s/it]\n",
            "certifi-2020.4.5.1   | : 100% 1.0/1 [00:00<00:00, 21.55it/s]\n",
            "cffi-1.14.0          | : 100% 1.0/1 [00:00<00:00,  2.79it/s]                \n",
            "chardet-3.0.4        | : 100% 1.0/1 [00:00<00:00, 15.69it/s]\n",
            "conda-package-handli | : 100% 1.0/1 [00:00<00:00,  2.01it/s]\n",
            "cycler-0.10.0        | : 100% 1.0/1 [00:00<00:00, 39.46it/s]\n",
            "cython-0.29.19       | : 100% 1.0/1 [00:00<00:00,  2.52it/s]\n",
            "entrypoints-0.3      | : 100% 1.0/1 [00:00<00:00,  3.17it/s]\n",
            "html5lib-0.9999999   | : 100% 1.0/1 [00:00<00:00, 16.03it/s]\n",
            "importlib-metadata-1 | : 100% 1.0/1 [00:00<00:00, 29.15it/s]\n",
            "jedi-0.17.0          | : 100% 1.0/1 [00:00<00:00,  3.10it/s]\n",
            "kiwisolver-1.2.0     | : 100% 1.0/1 [00:00<00:00, 25.79it/s]\n",
            "llvmlite-0.32.0      | : 100% 1.0/1 [00:00<00:00, 11.37it/s]\n",
            "markupsafe-1.1.1     | : 100% 1.0/1 [00:00<00:00, 34.53it/s]\n",
            "mistune-0.8.4        | : 100% 1.0/1 [00:00<00:00, 26.16it/s]\n",
            "mock-4.0.2           | : 100% 1.0/1 [00:00<00:00, 30.14it/s]\n",
            "packaging-20.4       | : 100% 1.0/1 [00:00<00:00, 35.02it/s]\n",
            "pexpect-4.8.0        | : 100% 1.0/1 [00:00<00:00, 26.00it/s]\n",
            "pickleshare-0.7.5    | : 100% 1.0/1 [00:00<00:00, 37.42it/s]\n",
            "pillow-5.0.0         | : 100% 1.0/1 [00:00<00:00,  5.45it/s]\n",
            "pycosat-0.6.3        | : 100% 1.0/1 [00:00<00:00, 20.39it/s]\n",
            "pyrsistent-0.16.0    | : 100% 1.0/1 [00:00<00:00, 22.06it/s]\n",
            "pysocks-1.7.1        | : 100% 1.0/1 [00:00<00:00, 33.50it/s]\n",
            "python-dateutil-2.8. | : 100% 1.0/1 [00:00<00:00, 21.88it/s]\n",
            "pyyaml-5.3.1         | : 100% 1.0/1 [00:00<00:00, 17.57it/s]\n",
            "pyzmq-19.0.1         | : 100% 1.0/1 [00:00<00:00,  6.51it/s]\n",
            "qt-5.6.2             | : 100% 1.0/1 [00:02<00:00,  2.03s/it]\n",
            "ruamel_yaml-0.15.80  | : 100% 1.0/1 [00:00<00:00, 11.40it/s]\n",
            "scipy-1.1.0          | : 100% 1.0/1 [00:05<00:00,  5.72s/it]\n",
            "simplejson-3.17.0    | : 100% 1.0/1 [00:00<00:00, 19.85it/s]\n",
            "tornado-6.0.4        | : 100% 1.0/1 [00:00<00:00,  6.46it/s]\n",
            "traitlets-4.3.3      | : 100% 1.0/1 [00:00<00:00, 20.06it/s]\n",
            "bleach-1.5.0         | : 100% 1.0/1 [00:00<00:00, 37.52it/s]\n",
            "cryptography-2.5     | : 100% 1.0/1 [00:00<00:00,  6.38it/s]\n",
            "importlib_metadata-1 | : 100% 1.0/1 [00:00<00:00, 43.86it/s]\n",
            "jupyter_core-4.6.3   | : 100% 1.0/1 [00:00<00:00, 24.22it/s]\n",
            "markdown-3.2.2       | : 100% 1.0/1 [00:00<00:00, 27.60it/s]\n",
            "openmm-7.4.2         | : 100% 1.0/1 [00:07<00:00,  7.28s/it]\n",
            "pandas-0.22.0        | : 100% 1.0/1 [00:04<00:00,  4.06s/it]\n",
            "patsy-0.5.1          | : 100% 1.0/1 [00:00<00:00, 17.05it/s]\n",
            "pyqt-5.6.0           | : 100% 1.0/1 [00:01<00:00,  1.02s/it]\n",
            "scikit-learn-0.19.1  | : 100% 1.0/1 [00:01<00:00,  1.93s/it]\n",
            "setuptools-47.1.1    | : 100% 1.0/1 [00:00<00:00,  6.50it/s]\n",
            "terminado-0.8.3      | : 100% 1.0/1 [00:00<00:00, 36.20it/s]\n",
            "xgboost-0.6a2        | : 100% 1.0/1 [00:00<00:00,  1.30it/s]\n",
            "anyconfig-0.9.10     | : 100% 1.0/1 [00:00<00:00, 26.39it/s]\n",
            "grpcio-1.16.0        | : 100% 1.0/1 [00:00<00:00,  5.24it/s]\n",
            "jinja2-2.11.2        | : 100% 1.0/1 [00:00<00:00,  3.04it/s]                \n",
            "jsonschema-3.2.0     | : 100% 1.0/1 [00:00<00:00, 23.19it/s]\n",
            "jupyter_client-6.1.3 | : 100% 1.0/1 [00:00<00:00, 24.35it/s]\n",
            "matplotlib-2.2.2     | : 100% 1.0/1 [00:00<00:00,  4.93it/s]\n",
            "networkx-2.1         | : 100% 1.0/1 [00:00<00:00,  1.75it/s]\n",
            "numba-0.49.1         | : 100% 1.0/1 [00:00<00:00,  1.24it/s]\n",
            "numexpr-2.7.1        | : 100% 1.0/1 [00:00<00:00, 15.24it/s]\n",
            "pdbfixer-1.4         | : 100% 1.0/1 [00:02<00:00,  2.42s/it]\n",
            "pluggy-0.13.1        | : 100% 1.0/1 [00:00<00:00, 27.57it/s]\n",
            "protobuf-3.12.1      | : 100% 1.0/1 [00:00<00:00,  5.54it/s]\n",
            "pygments-2.6.1       | : 100% 1.0/1 [00:00<00:00,  6.28it/s]\n",
            "pyopenssl-19.0.0     | : 100% 1.0/1 [00:00<00:00, 24.31it/s]\n",
            "rdkit-2017.09.1      | : 100% 1.0/1 [00:09<00:00,  9.57s/it]\n",
            "statsmodels-0.10.2   | : 100% 1.0/1 [00:01<00:00,  1.72s/it]\n",
            "wheel-0.34.2         | : 100% 1.0/1 [00:00<00:00, 38.95it/s]\n",
            "molvs-0.1.1          | : 100% 1.0/1 [00:00<00:00, 26.40it/s]\n",
            "mordred-1.2.0        | : 100% 1.0/1 [00:00<00:00, 19.27it/s]\n",
            "nbformat-5.0.6       | : 100% 1.0/1 [00:00<00:00, 24.68it/s]\n",
            "pip-20.1.1           | : 100% 1.0/1 [00:00<00:00,  4.53it/s]\n",
            "prompt-toolkit-3.0.5 | : 100% 1.0/1 [00:00<00:00, 12.79it/s]\n",
            "pytables-3.6.1       | : 100% 1.0/1 [00:00<00:00,  3.53it/s]\n",
            "pytest-5.4.2         | : 100% 1.0/1 [00:00<00:00,  2.38it/s]\n",
            "seaborn-0.10.0       | : 100% 1.0/1 [00:00<00:00, 15.28it/s]\n",
            "simdna-0.4.2         | : 100% 1.0/1 [00:02<00:00,  2.28s/it]\n",
            "swagger-spec-validat | : 100% 1.0/1 [00:00<00:00,  3.14it/s]               \n",
            "tensorboard-1.6.0    | : 100% 1.0/1 [00:00<00:00,  3.11it/s]\n",
            "tensorflow-gpu-base- | : 100% 1.0/1 [00:04<00:00,  4.70s/it]               \n",
            "umap-learn-0.4.2     | : 100% 1.0/1 [00:00<00:00, 20.55it/s]\n",
            "urllib3-1.22         | : 100% 1.0/1 [00:00<00:00,  2.85it/s]               \n",
            "bravado-core-5.16.0  | : 100% 1.0/1 [00:00<00:00, 31.42it/s]\n",
            "ipython-7.15.0       | : 100% 1.0/1 [00:00<00:00,  3.47it/s]\n",
            "mdtraj-1.9.1         | : 100% 1.0/1 [00:04<00:00,  4.74s/it]\n",
            "nbconvert-5.6.1      | : 100% 1.0/1 [00:00<00:00,  7.89it/s]\n",
            "prompt_toolkit-3.0.5 | : 100% 1.0/1 [00:00<00:00, 41.72it/s]\n",
            "requests-2.18.4      | : 100% 1.0/1 [00:00<00:00, 24.00it/s]\n",
            "tensorflow-gpu-1.6.0 | : 100% 1.0/1 [00:00<00:00, 26.80it/s]\n",
            "bravado-10.4.3       | : 100% 1.0/1 [00:00<00:00, 35.84it/s]\n",
            "conda-4.8.3          | : 100% 1.0/1 [00:00<00:00,  1.86it/s]\n",
            "ipykernel-5.3.0      | : 100% 1.0/1 [00:00<00:00, 15.70it/s]\n",
            "jupyter_console-6.1. | : 100% 1.0/1 [00:00<00:00, 34.48it/s]\n",
            "notebook-6.0.3       | : 100% 1.0/1 [00:01<00:00,  1.21s/it]\n",
            "qtconsole-4.7.4      | : 100% 1.0/1 [00:00<00:00, 16.25it/s]\n",
            "widgetsnbextension-3 | : 100% 1.0/1 [00:00<00:00,  2.77it/s]\n",
            "ipywidgets-7.5.1     | : 100% 1.0/1 [00:00<00:00, 20.14it/s]\n",
            "jupyter-1.0.0        | : 100% 1.0/1 [00:00<00:00, 35.49it/s]\n",
            "deepchem-gpu-2.1.0   | : 100% 1.0/1 [00:03<00:00,  3.51s/it]\n",
            "Preparing transaction: - \b\b\\ \b\b| \b\b/ \b\b- \b\b\\ \b\b| \b\b/ \b\b- \b\b\\ \b\b| \b\b/ \b\b- \b\b\\ \b\b| \b\b/ \b\b- \b\b\\ \b\bdone\n",
            "Verifying transaction: / \b\b- \b\b\\ \b\b| \b\b/ \b\b- \b\b\\ \b\b| \b\b/ \b\b- \b\b\\ \b\b| \b\b/ \b\b- \b\b\\ \b\b| \b\b/ \b\b- \b\b\\ \b\b| \b\b/ \b\b- \b\b\\ \b\b| \b\b/ \b\b- \b\b\\ \b\b| \b\b/ \b\b- \b\b\\ \b\b| \b\b/ \b\b- \b\b\\ \b\b| \b\b/ \b\b- \b\b\\ \b\b| \b\b/ \b\b- \b\b\\ \b\b| \b\b/ \b\b- \b\b\\ \b\b| \b\b/ \b\b- \b\b\\ \b\b| \b\b/ \b\b- \b\b\\ \b\b| \b\b/ \b\b- \b\b\\ \b\b| \b\b/ \b\b- \b\b\\ \b\b| \b\b/ \b\b- \b\b\\ \b\b| \b\b/ \b\b- \b\b\\ \b\b| \b\b/ \b\bdone\n",
            "Executing transaction: \\ \b\b| \b\b/ \b\b- \b\b\\ \b\b| \b\b/ \b\b- \b\b\\ \b\b| \b\b/ \b\b- \b\b\\ \b\b| \b\b/ \b\b- \b\b\\ \b\b| \b\b/ \b\b- \b\b\\ \b\b| \b\b/ \b\b- \b\b\\ \b\b| \b\b/ \b\b- \b\b\\ \b\b| \b\b/ Enabling notebook extension jupyter-js-widgets/extension...\n",
            "Paths used for configuration of notebook: \n",
            "    \t/content/AMPL/etc/jupyter/nbconfig/notebook.d/widgetsnbextension.json\n",
            "    \t/content/AMPL/etc/jupyter/nbconfig/notebook.json\n",
            "Paths used for configuration of notebook: \n",
            "    \t/content/AMPL/etc/jupyter/nbconfig/notebook.d/widgetsnbextension.json\n",
            "      - Validating: \u001b[32mOK\u001b[0m\n",
            "Paths used for configuration of notebook: \n",
            "    \t/content/AMPL/etc/jupyter/nbconfig/notebook.d/widgetsnbextension.json\n",
            "    \t/content/AMPL/etc/jupyter/nbconfig/notebook.json\n",
            "\n",
            "\b\b- \b\b\\ \b\b| \b\b/ \b\b- \b\b\\ \b\b| \b\b/ \b\b- \b\b\\ \b\b| \b\b/ \b\b- \b\b\\ \b\b| \b\b/ \b\b- \b\b\\ \b\b| \b\b/ \b\b- \b\b\\ \b\b| \b\b/ \b\b- \b\b\\ \b\b| \b\b/ \b\b- \b\b\\ \b\b| \b\b/ \b\b- \b\b\\ \b\b| \b\b/ \b\b- \b\b\\ \b\b| \b\b/ \b\b- \b\b\\ \b\b| \b\b/ \b\b- \b\b\\ \b\b| \b\b/ \b\bdone\n",
            "Cloning into 'AMPL'...\n",
            "remote: Enumerating objects: 207, done.\u001b[K\n",
            "remote: Counting objects: 100% (207/207), done.\u001b[K\n",
            "remote: Compressing objects: 100% (109/109), done.\u001b[K\n",
            "remote: Total 1727 (delta 160), reused 113 (delta 98), pack-reused 1520\u001b[K\n",
            "Receiving objects: 100% (1727/1727), 9.60 MiB | 6.31 MiB/s, done.\n",
            "Resolving deltas: 100% (981/981), done.\n",
            "patching file /content/github/AMPL/atomsci/ddm/pipeline/transformations.py\n",
            "patching file /content/github/AMPL/atomsci/ddm/__init__.py\n",
            "running build\n",
            "running build_py\n",
            "creating /content/github/AMPL.build/ampl/lib\n",
            "creating /content/github/AMPL.build/ampl/lib/atomsci\n",
            "copying atomsci/__init__.py -> /content/github/AMPL.build/ampl/lib/atomsci\n",
            "creating /content/github/AMPL.build/ampl/lib/atomsci/ddm\n",
            "copying atomsci/ddm/__init__.py -> /content/github/AMPL.build/ampl/lib/atomsci/ddm\n",
            "creating /content/github/AMPL.build/ampl/lib/atomsci/ddm/pipeline\n",
            "copying atomsci/ddm/pipeline/splitting.py -> /content/github/AMPL.build/ampl/lib/atomsci/ddm/pipeline\n",
            "copying atomsci/ddm/pipeline/model_datasets.py -> /content/github/AMPL.build/ampl/lib/atomsci/ddm/pipeline\n",
            "copying atomsci/ddm/pipeline/ave_splitter.py -> /content/github/AMPL.build/ampl/lib/atomsci/ddm/pipeline\n",
            "copying atomsci/ddm/pipeline/dist_metrics.py -> /content/github/AMPL.build/ampl/lib/atomsci/ddm/pipeline\n",
            "copying atomsci/ddm/pipeline/diversity_plots.py -> /content/github/AMPL.build/ampl/lib/atomsci/ddm/pipeline\n",
            "copying atomsci/ddm/pipeline/parameter_parser.py -> /content/github/AMPL.build/ampl/lib/atomsci/ddm/pipeline\n",
            "copying atomsci/ddm/pipeline/perf_plots.py -> /content/github/AMPL.build/ampl/lib/atomsci/ddm/pipeline\n",
            "copying atomsci/ddm/pipeline/model_tracker.py -> /content/github/AMPL.build/ampl/lib/atomsci/ddm/pipeline\n",
            "copying atomsci/ddm/pipeline/perf_data.py -> /content/github/AMPL.build/ampl/lib/atomsci/ddm/pipeline\n",
            "copying atomsci/ddm/pipeline/model_wrapper.py -> /content/github/AMPL.build/ampl/lib/atomsci/ddm/pipeline\n",
            "copying atomsci/ddm/pipeline/temporal_splitter.py -> /content/github/AMPL.build/ampl/lib/atomsci/ddm/pipeline\n",
            "copying atomsci/ddm/pipeline/model_pipeline.py -> /content/github/AMPL.build/ampl/lib/atomsci/ddm/pipeline\n",
            "copying atomsci/ddm/pipeline/featurization.py -> /content/github/AMPL.build/ampl/lib/atomsci/ddm/pipeline\n",
            "copying atomsci/ddm/pipeline/predict_from_model.py -> /content/github/AMPL.build/ampl/lib/atomsci/ddm/pipeline\n",
            "copying atomsci/ddm/pipeline/hyper_perf_plots.py -> /content/github/AMPL.build/ampl/lib/atomsci/ddm/pipeline\n",
            "copying atomsci/ddm/pipeline/transformations.py -> /content/github/AMPL.build/ampl/lib/atomsci/ddm/pipeline\n",
            "copying atomsci/ddm/pipeline/__init__.py -> /content/github/AMPL.build/ampl/lib/atomsci/ddm/pipeline\n",
            "copying atomsci/ddm/pipeline/compare_models.py -> /content/github/AMPL.build/ampl/lib/atomsci/ddm/pipeline\n",
            "copying atomsci/ddm/pipeline/chem_diversity.py -> /content/github/AMPL.build/ampl/lib/atomsci/ddm/pipeline\n",
            "creating /content/github/AMPL.build/ampl/lib/atomsci/ddm/utils\n",
            "copying atomsci/ddm/utils/llnl_utils.py -> /content/github/AMPL.build/ampl/lib/atomsci/ddm/utils\n",
            "copying atomsci/ddm/utils/data_curation_functions.py -> /content/github/AMPL.build/ampl/lib/atomsci/ddm/utils\n",
            "copying atomsci/ddm/utils/curate_data.py -> /content/github/AMPL.build/ampl/lib/atomsci/ddm/utils\n",
            "copying atomsci/ddm/utils/rdkit_easy.py -> /content/github/AMPL.build/ampl/lib/atomsci/ddm/utils\n",
            "copying atomsci/ddm/utils/genTestset.py -> /content/github/AMPL.build/ampl/lib/atomsci/ddm/utils\n",
            "copying atomsci/ddm/utils/open-docs.py -> /content/github/AMPL.build/ampl/lib/atomsci/ddm/utils\n",
            "copying atomsci/ddm/utils/__init__.py -> /content/github/AMPL.build/ampl/lib/atomsci/ddm/utils\n",
            "copying atomsci/ddm/utils/pubchem_utils.py -> /content/github/AMPL.build/ampl/lib/atomsci/ddm/utils\n",
            "copying atomsci/ddm/utils/struct_utils.py -> /content/github/AMPL.build/ampl/lib/atomsci/ddm/utils\n",
            "copying atomsci/ddm/utils/process_slurm.py -> /content/github/AMPL.build/ampl/lib/atomsci/ddm/utils\n",
            "copying atomsci/ddm/utils/datastore_functions.py -> /content/github/AMPL.build/ampl/lib/atomsci/ddm/utils\n",
            "copying atomsci/ddm/utils/hyperparam_search_wrapper.py -> /content/github/AMPL.build/ampl/lib/atomsci/ddm/utils\n",
            "running egg_info\n",
            "creating /content/github/AMPL.build/ampl/atomsci_ampl.egg-info\n",
            "writing /content/github/AMPL.build/ampl/atomsci_ampl.egg-info/PKG-INFO\n",
            "writing dependency_links to /content/github/AMPL.build/ampl/atomsci_ampl.egg-info/dependency_links.txt\n",
            "writing namespace_packages to /content/github/AMPL.build/ampl/atomsci_ampl.egg-info/namespace_packages.txt\n",
            "writing top-level names to /content/github/AMPL.build/ampl/atomsci_ampl.egg-info/top_level.txt\n",
            "writing manifest file '/content/github/AMPL.build/ampl/atomsci_ampl.egg-info/SOURCES.txt'\n",
            "reading manifest file '/content/github/AMPL.build/ampl/atomsci_ampl.egg-info/SOURCES.txt'\n",
            "reading manifest template 'MANIFEST.in'\n",
            "warning: no files found matching 'atomsci/*/*.yaml'\n",
            "writing manifest file '/content/github/AMPL.build/ampl/atomsci_ampl.egg-info/SOURCES.txt'\n",
            "creating /content/github/AMPL.build/ampl/lib/atomsci/ddm/data\n",
            "copying atomsci/ddm/data/descriptor_sets_sources_by_descr_type.csv -> /content/github/AMPL.build/ampl/lib/atomsci/ddm/data\n",
            "running bdist_wheel\n",
            "installing to /content/github/AMPL.build/ampl/bdist.linux-x86_64/wheel\n",
            "running install\n",
            "running install_lib\n",
            "Skipping installation of /content/github/AMPL.build/ampl/bdist.linux-x86_64/wheel/atomsci/__init__.py (namespace package)\n",
            "copying atomsci/ddm/__init__.py -> /content/github/AMPL.build/ampl/bdist.linux-x86_64/wheel/atomsci/ddm\n",
            "copying atomsci/ddm/pipeline/splitting.py -> /content/github/AMPL.build/ampl/bdist.linux-x86_64/wheel/atomsci/ddm/pipeline\n",
            "copying atomsci/ddm/pipeline/model_datasets.py -> /content/github/AMPL.build/ampl/bdist.linux-x86_64/wheel/atomsci/ddm/pipeline\n",
            "copying atomsci/ddm/pipeline/ave_splitter.py -> /content/github/AMPL.build/ampl/bdist.linux-x86_64/wheel/atomsci/ddm/pipeline\n",
            "copying atomsci/ddm/pipeline/dist_metrics.py -> /content/github/AMPL.build/ampl/bdist.linux-x86_64/wheel/atomsci/ddm/pipeline\n",
            "copying atomsci/ddm/pipeline/diversity_plots.py -> /content/github/AMPL.build/ampl/bdist.linux-x86_64/wheel/atomsci/ddm/pipeline\n",
            "copying atomsci/ddm/pipeline/parameter_parser.py -> /content/github/AMPL.build/ampl/bdist.linux-x86_64/wheel/atomsci/ddm/pipeline\n",
            "copying atomsci/ddm/pipeline/perf_plots.py -> /content/github/AMPL.build/ampl/bdist.linux-x86_64/wheel/atomsci/ddm/pipeline\n",
            "copying atomsci/ddm/pipeline/model_tracker.py -> /content/github/AMPL.build/ampl/bdist.linux-x86_64/wheel/atomsci/ddm/pipeline\n",
            "copying atomsci/ddm/pipeline/perf_data.py -> /content/github/AMPL.build/ampl/bdist.linux-x86_64/wheel/atomsci/ddm/pipeline\n",
            "copying atomsci/ddm/pipeline/model_wrapper.py -> /content/github/AMPL.build/ampl/bdist.linux-x86_64/wheel/atomsci/ddm/pipeline\n",
            "copying atomsci/ddm/pipeline/temporal_splitter.py -> /content/github/AMPL.build/ampl/bdist.linux-x86_64/wheel/atomsci/ddm/pipeline\n",
            "copying atomsci/ddm/pipeline/model_pipeline.py -> /content/github/AMPL.build/ampl/bdist.linux-x86_64/wheel/atomsci/ddm/pipeline\n",
            "copying atomsci/ddm/pipeline/featurization.py -> /content/github/AMPL.build/ampl/bdist.linux-x86_64/wheel/atomsci/ddm/pipeline\n",
            "copying atomsci/ddm/pipeline/predict_from_model.py -> /content/github/AMPL.build/ampl/bdist.linux-x86_64/wheel/atomsci/ddm/pipeline\n",
            "copying atomsci/ddm/pipeline/hyper_perf_plots.py -> /content/github/AMPL.build/ampl/bdist.linux-x86_64/wheel/atomsci/ddm/pipeline\n",
            "copying atomsci/ddm/pipeline/transformations.py -> /content/github/AMPL.build/ampl/bdist.linux-x86_64/wheel/atomsci/ddm/pipeline\n",
            "copying atomsci/ddm/pipeline/__init__.py -> /content/github/AMPL.build/ampl/bdist.linux-x86_64/wheel/atomsci/ddm/pipeline\n",
            "copying atomsci/ddm/pipeline/compare_models.py -> /content/github/AMPL.build/ampl/bdist.linux-x86_64/wheel/atomsci/ddm/pipeline\n",
            "copying atomsci/ddm/pipeline/chem_diversity.py -> /content/github/AMPL.build/ampl/bdist.linux-x86_64/wheel/atomsci/ddm/pipeline\n",
            "copying atomsci/ddm/utils/llnl_utils.py -> /content/github/AMPL.build/ampl/bdist.linux-x86_64/wheel/atomsci/ddm/utils\n",
            "copying atomsci/ddm/utils/data_curation_functions.py -> /content/github/AMPL.build/ampl/bdist.linux-x86_64/wheel/atomsci/ddm/utils\n",
            "copying atomsci/ddm/utils/curate_data.py -> /content/github/AMPL.build/ampl/bdist.linux-x86_64/wheel/atomsci/ddm/utils\n",
            "copying atomsci/ddm/utils/rdkit_easy.py -> /content/github/AMPL.build/ampl/bdist.linux-x86_64/wheel/atomsci/ddm/utils\n",
            "copying atomsci/ddm/utils/genTestset.py -> /content/github/AMPL.build/ampl/bdist.linux-x86_64/wheel/atomsci/ddm/utils\n",
            "copying atomsci/ddm/utils/open-docs.py -> /content/github/AMPL.build/ampl/bdist.linux-x86_64/wheel/atomsci/ddm/utils\n",
            "copying atomsci/ddm/utils/__init__.py -> /content/github/AMPL.build/ampl/bdist.linux-x86_64/wheel/atomsci/ddm/utils\n",
            "copying atomsci/ddm/utils/pubchem_utils.py -> /content/github/AMPL.build/ampl/bdist.linux-x86_64/wheel/atomsci/ddm/utils\n",
            "copying atomsci/ddm/utils/struct_utils.py -> /content/github/AMPL.build/ampl/bdist.linux-x86_64/wheel/atomsci/ddm/utils\n",
            "copying atomsci/ddm/utils/process_slurm.py -> /content/github/AMPL.build/ampl/bdist.linux-x86_64/wheel/atomsci/ddm/utils\n",
            "copying atomsci/ddm/utils/datastore_functions.py -> /content/github/AMPL.build/ampl/bdist.linux-x86_64/wheel/atomsci/ddm/utils\n",
            "copying atomsci/ddm/utils/hyperparam_search_wrapper.py -> /content/github/AMPL.build/ampl/bdist.linux-x86_64/wheel/atomsci/ddm/utils\n",
            "copying atomsci/ddm/data/descriptor_sets_sources_by_descr_type.csv -> /content/github/AMPL.build/ampl/bdist.linux-x86_64/wheel/atomsci/ddm/data\n",
            "running install_egg_info\n",
            "Copying /content/github/AMPL.build/ampl/atomsci_ampl.egg-info to /content/github/AMPL.build/ampl/bdist.linux-x86_64/wheel/atomsci_ampl-1.0.0.dev1-py3.6.egg-info\n",
            "Installing /content/github/AMPL.build/ampl/bdist.linux-x86_64/wheel/atomsci_ampl-1.0.0.dev1-py3.6-nspkg.pth\n",
            "running install_scripts\n",
            "adding license file \"LICENSE\" (matched pattern \"LICEN[CS]E*\")\n",
            "adding license file \"NOTICE\" (matched pattern \"NOTICE*\")\n",
            "creating /content/github/AMPL.build/ampl/bdist.linux-x86_64/wheel/atomsci_ampl-1.0.0.dev1.dist-info/WHEEL\n",
            "creating '/content/github/AMPL.dist/atomsci_ampl-1.0.0.dev1-py3-none-any.whl' and adding '/content/github/AMPL.build/ampl/bdist.linux-x86_64/wheel' to it\n",
            "adding 'atomsci_ampl-1.0.0.dev1-py3.6-nspkg.pth'\n",
            "adding 'atomsci/ddm/__init__.py'\n",
            "adding 'atomsci/ddm/data/descriptor_sets_sources_by_descr_type.csv'\n",
            "adding 'atomsci/ddm/pipeline/__init__.py'\n",
            "adding 'atomsci/ddm/pipeline/ave_splitter.py'\n",
            "adding 'atomsci/ddm/pipeline/chem_diversity.py'\n",
            "adding 'atomsci/ddm/pipeline/compare_models.py'\n",
            "adding 'atomsci/ddm/pipeline/dist_metrics.py'\n",
            "adding 'atomsci/ddm/pipeline/diversity_plots.py'\n",
            "adding 'atomsci/ddm/pipeline/featurization.py'\n",
            "adding 'atomsci/ddm/pipeline/hyper_perf_plots.py'\n",
            "adding 'atomsci/ddm/pipeline/model_datasets.py'\n",
            "adding 'atomsci/ddm/pipeline/model_pipeline.py'\n",
            "adding 'atomsci/ddm/pipeline/model_tracker.py'\n",
            "adding 'atomsci/ddm/pipeline/model_wrapper.py'\n",
            "adding 'atomsci/ddm/pipeline/parameter_parser.py'\n",
            "adding 'atomsci/ddm/pipeline/perf_data.py'\n",
            "adding 'atomsci/ddm/pipeline/perf_plots.py'\n",
            "adding 'atomsci/ddm/pipeline/predict_from_model.py'\n",
            "adding 'atomsci/ddm/pipeline/splitting.py'\n",
            "adding 'atomsci/ddm/pipeline/temporal_splitter.py'\n",
            "adding 'atomsci/ddm/pipeline/transformations.py'\n",
            "adding 'atomsci/ddm/utils/__init__.py'\n",
            "adding 'atomsci/ddm/utils/curate_data.py'\n",
            "adding 'atomsci/ddm/utils/data_curation_functions.py'\n",
            "adding 'atomsci/ddm/utils/datastore_functions.py'\n",
            "adding 'atomsci/ddm/utils/genTestset.py'\n",
            "adding 'atomsci/ddm/utils/hyperparam_search_wrapper.py'\n",
            "adding 'atomsci/ddm/utils/llnl_utils.py'\n",
            "adding 'atomsci/ddm/utils/open-docs.py'\n",
            "adding 'atomsci/ddm/utils/process_slurm.py'\n",
            "adding 'atomsci/ddm/utils/pubchem_utils.py'\n",
            "adding 'atomsci/ddm/utils/rdkit_easy.py'\n",
            "adding 'atomsci/ddm/utils/struct_utils.py'\n",
            "adding 'atomsci_ampl-1.0.0.dev1.dist-info/LICENSE'\n",
            "adding 'atomsci_ampl-1.0.0.dev1.dist-info/METADATA'\n",
            "adding 'atomsci_ampl-1.0.0.dev1.dist-info/NOTICE'\n",
            "adding 'atomsci_ampl-1.0.0.dev1.dist-info/WHEEL'\n",
            "adding 'atomsci_ampl-1.0.0.dev1.dist-info/namespace_packages.txt'\n",
            "adding 'atomsci_ampl-1.0.0.dev1.dist-info/top_level.txt'\n",
            "adding 'atomsci_ampl-1.0.0.dev1.dist-info/RECORD'\n",
            "removing /content/github/AMPL.build/ampl/bdist.linux-x86_64/wheel\n",
            "DIR: /content/github/AMPL\n",
            "Non-user install because site-packages writeable\n",
            "Ignoring indexes: https://pypi.org/simple\n",
            "Created temporary directory: /tmp/pip-ephem-wheel-cache-w3qd79k6\n",
            "Created temporary directory: /tmp/pip-req-tracker-elnbd3gc\n",
            "Initialized build tracking at /tmp/pip-req-tracker-elnbd3gc\n",
            "Created build tracker: /tmp/pip-req-tracker-elnbd3gc\n",
            "Entered build tracker: /tmp/pip-req-tracker-elnbd3gc\n",
            "Created temporary directory: /tmp/pip-install-e89al6z_\n",
            "Looking in links: /content/github/AMPL.dist\n",
            "0 location(s) to search for versions of atomsci-ampl:\n",
            "Skipping link: unsupported archive format: .dist: /content/github/AMPL.dist (from -f)\n",
            "Found link file:///content/github/AMPL.dist/atomsci_ampl-1.0.0.dev1-py3-none-any.whl, version: 1.0.0.dev1\n",
            "Local files found: /content/github/AMPL.dist/atomsci_ampl-1.0.0.dev1-py3-none-any.whl\n",
            "Given no hashes to check 1 links for project 'atomsci-ampl': discarding no candidates\n",
            "Using version 1.0.0.dev1 (newest of versions: 1.0.0.dev1)\n",
            "Processing /content/github/AMPL.dist/atomsci_ampl-1.0.0.dev1-py3-none-any.whl\n",
            "  Added atomsci_ampl from file:///content/github/AMPL.dist/atomsci_ampl-1.0.0.dev1-py3-none-any.whl to build tracker '/tmp/pip-req-tracker-elnbd3gc'\n",
            "  Removed atomsci_ampl from file:///content/github/AMPL.dist/atomsci_ampl-1.0.0.dev1-py3-none-any.whl from build tracker '/tmp/pip-req-tracker-elnbd3gc'\n",
            "Installing collected packages: atomsci-ampl\n",
            "  Created temporary directory: /tmp/pip-unpacked-wheel-ymrclgfz\n",
            "\n",
            "Successfully installed atomsci-ampl-1.0.0.dev1\n",
            "Removed build tracker: '/tmp/pip-req-tracker-elnbd3gc'\n",
            "\n",
            "real\t2m52.565s\n",
            "user\t1m29.768s\n",
            "sys\t0m17.081s\n"
          ],
          "name": "stdout"
        },
        {
          "output_type": "execute_result",
          "data": {
            "text/plain": [
              "['',\n",
              " '/content/AMPL/lib/python3.6/site-packages',\n",
              " '/env/python',\n",
              " '/usr/lib/python36.zip',\n",
              " '/usr/lib/python3.6',\n",
              " '/usr/lib/python3.6/lib-dynload',\n",
              " '/usr/local/lib/python3.6/dist-packages',\n",
              " '/usr/lib/python3/dist-packages',\n",
              " '/usr/local/lib/python3.6/dist-packages/IPython/extensions',\n",
              " '/root/.ipython']"
            ]
          },
          "metadata": {
            "tags": []
          },
          "execution_count": 1
        }
      ]
    },
    {
      "cell_type": "markdown",
      "metadata": {
        "id": "4qtjXXtuWZLQ"
      },
      "source": [
        "## Exploring target activity data from selected database\r\n",
        "## Data source = ExcapeDB\r\n",
        "## Target activity for the receptor CYP3A4"
      ]
    },
    {
      "cell_type": "code",
      "metadata": {
        "id": "jY36yy5lI9rG"
      },
      "source": [
        "# There is a problem with the previously imported cffi, so delete it and \r\n",
        "# load it with AMPL instead\r\n",
        "if 'cffi' in sys.modules:\r\n",
        "  del sys.modules['cffi']"
      ],
      "execution_count": null,
      "outputs": []
    },
    {
      "cell_type": "code",
      "metadata": {
        "id": "F-c9OaSoJHmG"
      },
      "source": [
        "# We temporarily disable warnings for demonstration.\r\n",
        "# FutureWarnings and DeprecationWarnings are present from some of the AMPL \r\n",
        "# dependency modules.\r\n",
        "import warnings\r\n",
        "warnings.filterwarnings('ignore')\r\n",
        "\r\n",
        "import json\r\n",
        "# import numpy as np\r\n",
        "# import pandas as pd\r\n",
        "import os\r\n",
        "import requests"
      ],
      "execution_count": null,
      "outputs": []
    },
    {
      "cell_type": "code",
      "metadata": {
        "scrolled": false,
        "id": "6r_-HG0aHwsE",
        "colab": {
          "base_uri": "https://localhost:8080/"
        },
        "outputId": "ce90f409-6ffb-4f91-e1e8-b171ea46c38d"
      },
      "source": [
        "#\n",
        "# Import AMPL libraries\n",
        "# \n",
        "import atomsci.ddm.utils.data_curation_functions as dcf\n",
        "import atomsci.ddm.utils.curate_data as curate_data\n",
        "import atomsci.ddm.pipeline.diversity_plots as dp\n",
        "import atomsci.ddm.pipeline.chem_diversity as cd\n",
        "# Additional python libraries\n",
        "import pandas as pd\n",
        "import numpy as np\n",
        "import getpass,os"
      ],
      "execution_count": null,
      "outputs": [
        {
          "output_type": "stream",
          "text": [
            "/content/AMPL/lib/python3.6/site-packages/sklearn/ensemble/weight_boosting.py:29: DeprecationWarning: numpy.core.umath_tests is an internal NumPy module and should not be imported. It will be removed in a future NumPy release.\n",
            "  from numpy.core.umath_tests import inner1d\n"
          ],
          "name": "stderr"
        }
      ]
    },
    {
      "cell_type": "markdown",
      "metadata": {
        "id": "1X7qQCYVHwsG"
      },
      "source": [
        "## Select a target to work with \n",
        "### (e.g. PDE2A, KCNH2, SCNA5)"
      ]
    },
    {
      "cell_type": "code",
      "metadata": {
        "id": "tkweVTMSHwsG"
      },
      "source": [
        "target_name='CYP3A4'"
      ],
      "execution_count": null,
      "outputs": []
    },
    {
      "cell_type": "markdown",
      "metadata": {
        "id": "yCA0PykcHwsH"
      },
      "source": [
        "# Define data locations \n",
        "## get username to use as a unique identifier to work in shared directories"
      ]
    },
    {
      "cell_type": "code",
      "metadata": {
        "id": "1SVhXwHgJiZN"
      },
      "source": [
        "# ofile=target_name+'_excape_curated.csv'\r\n",
        "ofile=target_name+'_dtc.csv'"
      ],
      "execution_count": null,
      "outputs": []
    },
    {
      "cell_type": "markdown",
      "metadata": {
        "id": "f1RXnxhVVcxt"
      },
      "source": [
        "## Note the file `DTC_HTR3A.csv` was downloaded from the DTC website."
      ]
    },
    {
      "cell_type": "code",
      "metadata": {
        "id": "bN1KN4sGJjjM"
      },
      "source": [
        "import io\r\n",
        "url = 'https://raw.githubusercontent.com/jm5159/E4511_FNL_2021Spr/master/cyp3a4.csv'\r\n",
        "download = requests.get(url).content"
      ],
      "execution_count": null,
      "outputs": []
    },
    {
      "cell_type": "code",
      "metadata": {
        "id": "XBDmluXMKD38"
      },
      "source": [
        "# Reading the downloaded content and turning it into a pandas dataframe\r\n",
        "orig_df = pd.read_csv(io.StringIO(download.decode('utf-8')), sep=',', header=0 )"
      ],
      "execution_count": null,
      "outputs": []
    },
    {
      "cell_type": "code",
      "metadata": {
        "id": "Enh3wAUAUd4u",
        "colab": {
          "base_uri": "https://localhost:8080/"
        },
        "outputId": "81700afc-a728-49eb-8f7f-41f05c85d111"
      },
      "source": [
        "\r\n",
        "orig_df.columns"
      ],
      "execution_count": null,
      "outputs": [
        {
          "output_type": "execute_result",
          "data": {
            "text/plain": [
              "Index(['compound_id', 'standard_inchi_key', 'compound_name', 'synonym',\n",
              "       'target_id', 'target_pref_name', 'gene_names', 'wildtype_or_mutant',\n",
              "       'mutation_info', 'pubmed_id', 'standard_type', 'standard_relation',\n",
              "       'standard_value', 'standard_units', 'activity_comment',\n",
              "       'ep_action_mode', 'assay_format', 'assaytype', 'assay_subtype',\n",
              "       'inhibitor_type', 'detection_tech', 'assay_cell_line',\n",
              "       'compound_concentration_value', 'compound_concentration_value_unit',\n",
              "       'substrate_type', 'substrate_relation', 'substrate_value',\n",
              "       'substrate_units', 'assay_description', 'title', 'journal', 'doc_type',\n",
              "       'annotation_comments'],\n",
              "      dtype='object')"
            ]
          },
          "metadata": {
            "tags": []
          },
          "execution_count": 10
        }
      ]
    },
    {
      "cell_type": "markdown",
      "metadata": {
        "id": "-FOiuGwYHwsI"
      },
      "source": [
        "### Start with a local file containing the target data"
      ]
    },
    {
      "cell_type": "code",
      "metadata": {
        "extensions": {
          "jupyter_dashboards": {
            "version": 1,
            "views": {
              "grid_default": {},
              "report_default": {
                "hidden": true
              }
            }
          }
        },
        "scrolled": true,
        "id": "1s8tSOedHwsI"
      },
      "source": [
        "ofile=target_name+'_dtc.csv'"
      ],
      "execution_count": null,
      "outputs": []
    },
    {
      "cell_type": "markdown",
      "metadata": {
        "id": "xjFANFgZHwsJ"
      },
      "source": [
        "### Explore the dataframe and display first few lines"
      ]
    },
    {
      "cell_type": "code",
      "metadata": {
        "scrolled": true,
        "id": "F5r0Gs2xHwsJ",
        "colab": {
          "base_uri": "https://localhost:8080/",
          "height": 221
        },
        "outputId": "0d954c91-c7e4-48f8-d809-4742214baae4"
      },
      "source": [
        "# orig_df=pd.read_csv(file,sep=\"\\t\",engine=\"python\",error_bad_lines=False)\n",
        "#show number of rows in data frame and number of columns\n",
        "print(orig_df.shape)\n",
        "\n",
        "# show column names\n",
        "display(orig_df.columns)"
      ],
      "execution_count": null,
      "outputs": [
        {
          "output_type": "stream",
          "text": [
            "(47075, 33)\n"
          ],
          "name": "stdout"
        },
        {
          "output_type": "display_data",
          "data": {
            "text/plain": [
              "Index(['compound_id', 'standard_inchi_key', 'compound_name', 'synonym',\n",
              "       'target_id', 'target_pref_name', 'gene_names', 'wildtype_or_mutant',\n",
              "       'mutation_info', 'pubmed_id', 'standard_type', 'standard_relation',\n",
              "       'standard_value', 'standard_units', 'activity_comment',\n",
              "       'ep_action_mode', 'assay_format', 'assaytype', 'assay_subtype',\n",
              "       'inhibitor_type', 'detection_tech', 'assay_cell_line',\n",
              "       'compound_concentration_value', 'compound_concentration_value_unit',\n",
              "       'substrate_type', 'substrate_relation', 'substrate_value',\n",
              "       'substrate_units', 'assay_description', 'title', 'journal', 'doc_type',\n",
              "       'annotation_comments'],\n",
              "      dtype='object')"
            ]
          },
          "metadata": {
            "tags": []
          }
        }
      ]
    },
    {
      "cell_type": "code",
      "metadata": {
        "id": "Ve4d5QK0HwsK",
        "colab": {
          "base_uri": "https://localhost:8080/",
          "height": 445
        },
        "outputId": "9a0ebff6-bad7-48db-ab15-fa32e30982e0"
      },
      "source": [
        "orig_df.head(5)"
      ],
      "execution_count": null,
      "outputs": [
        {
          "output_type": "execute_result",
          "data": {
            "text/html": [
              "<div>\n",
              "<style scoped>\n",
              "    .dataframe tbody tr th:only-of-type {\n",
              "        vertical-align: middle;\n",
              "    }\n",
              "\n",
              "    .dataframe tbody tr th {\n",
              "        vertical-align: top;\n",
              "    }\n",
              "\n",
              "    .dataframe thead th {\n",
              "        text-align: right;\n",
              "    }\n",
              "</style>\n",
              "<table border=\"1\" class=\"dataframe\">\n",
              "  <thead>\n",
              "    <tr style=\"text-align: right;\">\n",
              "      <th></th>\n",
              "      <th>compound_id</th>\n",
              "      <th>standard_inchi_key</th>\n",
              "      <th>compound_name</th>\n",
              "      <th>synonym</th>\n",
              "      <th>target_id</th>\n",
              "      <th>target_pref_name</th>\n",
              "      <th>gene_names</th>\n",
              "      <th>wildtype_or_mutant</th>\n",
              "      <th>mutation_info</th>\n",
              "      <th>pubmed_id</th>\n",
              "      <th>standard_type</th>\n",
              "      <th>standard_relation</th>\n",
              "      <th>standard_value</th>\n",
              "      <th>standard_units</th>\n",
              "      <th>activity_comment</th>\n",
              "      <th>ep_action_mode</th>\n",
              "      <th>assay_format</th>\n",
              "      <th>assaytype</th>\n",
              "      <th>assay_subtype</th>\n",
              "      <th>inhibitor_type</th>\n",
              "      <th>detection_tech</th>\n",
              "      <th>assay_cell_line</th>\n",
              "      <th>compound_concentration_value</th>\n",
              "      <th>compound_concentration_value_unit</th>\n",
              "      <th>substrate_type</th>\n",
              "      <th>substrate_relation</th>\n",
              "      <th>substrate_value</th>\n",
              "      <th>substrate_units</th>\n",
              "      <th>assay_description</th>\n",
              "      <th>title</th>\n",
              "      <th>journal</th>\n",
              "      <th>doc_type</th>\n",
              "      <th>annotation_comments</th>\n",
              "    </tr>\n",
              "  </thead>\n",
              "  <tbody>\n",
              "    <tr>\n",
              "      <th>0</th>\n",
              "      <td>CHEMBL268868</td>\n",
              "      <td>AAALVYBICLMAMA-UHFFFAOYSA-N</td>\n",
              "      <td>DAPH</td>\n",
              "      <td>NaN</td>\n",
              "      <td>P08684</td>\n",
              "      <td>CYTOCHROME P450 3A4</td>\n",
              "      <td>CYP3A4</td>\n",
              "      <td>NaN</td>\n",
              "      <td>NaN</td>\n",
              "      <td>NaN</td>\n",
              "      <td>POTENCY</td>\n",
              "      <td>=</td>\n",
              "      <td>1584.9</td>\n",
              "      <td>NM</td>\n",
              "      <td>Active</td>\n",
              "      <td>NaN</td>\n",
              "      <td>NaN</td>\n",
              "      <td>NaN</td>\n",
              "      <td>NaN</td>\n",
              "      <td>NaN</td>\n",
              "      <td>NaN</td>\n",
              "      <td>NaN</td>\n",
              "      <td>NaN</td>\n",
              "      <td>NaN</td>\n",
              "      <td>NaN</td>\n",
              "      <td>NaN</td>\n",
              "      <td>NaN</td>\n",
              "      <td>NaN</td>\n",
              "      <td>PUBCHEM_BIOASSAY: qHTS Assay for Inhibitors an...</td>\n",
              "      <td>PUBCHEM BIOASSAY DATA SET</td>\n",
              "      <td>NaN</td>\n",
              "      <td>DATASET</td>\n",
              "      <td>NaN</td>\n",
              "    </tr>\n",
              "    <tr>\n",
              "      <th>1</th>\n",
              "      <td>CHEMBL268868</td>\n",
              "      <td>AAALVYBICLMAMA-UHFFFAOYSA-N</td>\n",
              "      <td>DAPH</td>\n",
              "      <td>NaN</td>\n",
              "      <td>P08684</td>\n",
              "      <td>CYTOCHROME P450 3A4</td>\n",
              "      <td>CYP3A4</td>\n",
              "      <td>NaN</td>\n",
              "      <td>NaN</td>\n",
              "      <td>NaN</td>\n",
              "      <td>POTENCY</td>\n",
              "      <td>=</td>\n",
              "      <td>1584.9</td>\n",
              "      <td>NM</td>\n",
              "      <td>Not Active</td>\n",
              "      <td>NaN</td>\n",
              "      <td>NaN</td>\n",
              "      <td>NaN</td>\n",
              "      <td>NaN</td>\n",
              "      <td>NaN</td>\n",
              "      <td>NaN</td>\n",
              "      <td>NaN</td>\n",
              "      <td>NaN</td>\n",
              "      <td>NaN</td>\n",
              "      <td>NaN</td>\n",
              "      <td>NaN</td>\n",
              "      <td>NaN</td>\n",
              "      <td>NaN</td>\n",
              "      <td>PUBCHEM_BIOASSAY: qHTS Assay for Activators of...</td>\n",
              "      <td>PUBCHEM BIOASSAY DATA SET</td>\n",
              "      <td>NaN</td>\n",
              "      <td>DATASET</td>\n",
              "      <td>NaN</td>\n",
              "    </tr>\n",
              "    <tr>\n",
              "      <th>2</th>\n",
              "      <td>CHEMBL1800663</td>\n",
              "      <td>AAAOTGDHZDZLFN-UHFFFAOYSA-N</td>\n",
              "      <td>NaN</td>\n",
              "      <td>NaN</td>\n",
              "      <td>P08684</td>\n",
              "      <td>CYTOCHROME P450 3A4</td>\n",
              "      <td>CYP3A4</td>\n",
              "      <td>NaN</td>\n",
              "      <td>NaN</td>\n",
              "      <td>21657270.0</td>\n",
              "      <td>INHIBITION</td>\n",
              "      <td>=</td>\n",
              "      <td>64.0</td>\n",
              "      <td>%</td>\n",
              "      <td>NaN</td>\n",
              "      <td>NaN</td>\n",
              "      <td>NaN</td>\n",
              "      <td>NaN</td>\n",
              "      <td>NaN</td>\n",
              "      <td>NaN</td>\n",
              "      <td>NaN</td>\n",
              "      <td>NaN</td>\n",
              "      <td>NaN</td>\n",
              "      <td>NaN</td>\n",
              "      <td>NaN</td>\n",
              "      <td>NaN</td>\n",
              "      <td>NaN</td>\n",
              "      <td>NaN</td>\n",
              "      <td>Inhibition of human CYP3A4 assessed as convers...</td>\n",
              "      <td>Discovery of 1-{4-[1-(2,6-difluorobenzyl)-5-[(...</td>\n",
              "      <td>J. Med. Chem.</td>\n",
              "      <td>PUBLICATION</td>\n",
              "      <td>NaN</td>\n",
              "    </tr>\n",
              "    <tr>\n",
              "      <th>3</th>\n",
              "      <td>CHEMBL1232461</td>\n",
              "      <td>AAAQFGUYHFJNHI-SFHVURJKSA-N</td>\n",
              "      <td>GSK525762A</td>\n",
              "      <td>NaN</td>\n",
              "      <td>P08684</td>\n",
              "      <td>CYTOCHROME P450 3A4</td>\n",
              "      <td>CYP3A4</td>\n",
              "      <td>NaN</td>\n",
              "      <td>NaN</td>\n",
              "      <td>24015967.0</td>\n",
              "      <td>IC50</td>\n",
              "      <td>&gt;=</td>\n",
              "      <td>33000.0</td>\n",
              "      <td>NM</td>\n",
              "      <td>NaN</td>\n",
              "      <td>NaN</td>\n",
              "      <td>NaN</td>\n",
              "      <td>NaN</td>\n",
              "      <td>NaN</td>\n",
              "      <td>NaN</td>\n",
              "      <td>NaN</td>\n",
              "      <td>NaN</td>\n",
              "      <td>NaN</td>\n",
              "      <td>NaN</td>\n",
              "      <td>NaN</td>\n",
              "      <td>NaN</td>\n",
              "      <td>NaN</td>\n",
              "      <td>NaN</td>\n",
              "      <td>Inhibition of human CYP3A4</td>\n",
              "      <td>Discovery of epigenetic regulator I-BET762: le...</td>\n",
              "      <td>J. Med. Chem.</td>\n",
              "      <td>PUBLICATION</td>\n",
              "      <td>NaN</td>\n",
              "    </tr>\n",
              "    <tr>\n",
              "      <th>4</th>\n",
              "      <td>CHEMBL1232461</td>\n",
              "      <td>AAAQFGUYHFJNHI-SFHVURJKSA-N</td>\n",
              "      <td>GSK525762A</td>\n",
              "      <td>NaN</td>\n",
              "      <td>P08684</td>\n",
              "      <td>CYTOCHROME P450 3A4</td>\n",
              "      <td>CYP3A4</td>\n",
              "      <td>NaN</td>\n",
              "      <td>NaN</td>\n",
              "      <td>24015967.0</td>\n",
              "      <td>INHIBITION</td>\n",
              "      <td>NaN</td>\n",
              "      <td>NaN</td>\n",
              "      <td>NaN</td>\n",
              "      <td>Not Active</td>\n",
              "      <td>NaN</td>\n",
              "      <td>NaN</td>\n",
              "      <td>NaN</td>\n",
              "      <td>NaN</td>\n",
              "      <td>NaN</td>\n",
              "      <td>NaN</td>\n",
              "      <td>NaN</td>\n",
              "      <td>NaN</td>\n",
              "      <td>NaN</td>\n",
              "      <td>NaN</td>\n",
              "      <td>NaN</td>\n",
              "      <td>NaN</td>\n",
              "      <td>NaN</td>\n",
              "      <td>Time-dependent inhibition of human CYP3A4</td>\n",
              "      <td>Discovery of epigenetic regulator I-BET762: le...</td>\n",
              "      <td>J. Med. Chem.</td>\n",
              "      <td>PUBLICATION</td>\n",
              "      <td>NaN</td>\n",
              "    </tr>\n",
              "  </tbody>\n",
              "</table>\n",
              "</div>"
            ],
            "text/plain": [
              "     compound_id           standard_inchi_key  ...     doc_type annotation_comments\n",
              "0   CHEMBL268868  AAALVYBICLMAMA-UHFFFAOYSA-N  ...      DATASET                 NaN\n",
              "1   CHEMBL268868  AAALVYBICLMAMA-UHFFFAOYSA-N  ...      DATASET                 NaN\n",
              "2  CHEMBL1800663  AAAOTGDHZDZLFN-UHFFFAOYSA-N  ...  PUBLICATION                 NaN\n",
              "3  CHEMBL1232461  AAAQFGUYHFJNHI-SFHVURJKSA-N  ...  PUBLICATION                 NaN\n",
              "4  CHEMBL1232461  AAAQFGUYHFJNHI-SFHVURJKSA-N  ...  PUBLICATION                 NaN\n",
              "\n",
              "[5 rows x 33 columns]"
            ]
          },
          "metadata": {
            "tags": []
          },
          "execution_count": 13
        }
      ]
    },
    {
      "cell_type": "markdown",
      "metadata": {
        "id": "XefnLXbt-yF9"
      },
      "source": [
        "## Let us use AMPL to prefilte the data"
      ]
    },
    {
      "cell_type": "code",
      "metadata": {
        "colab": {
          "base_uri": "https://localhost:8080/"
        },
        "id": "qmTduoTjCZ7C",
        "outputId": "ee9c73c3-049c-4be2-f73d-d7b8a4f7bc6c"
      },
      "source": [
        "print('Before replace: ', orig_df.columns)\r\n",
        "# remove special character \r\n",
        "orig_df.columns = orig_df.columns.str.replace(' ', '_')  \r\n",
        "print('After replace: ', orig_df.columns)"
      ],
      "execution_count": null,
      "outputs": [
        {
          "output_type": "stream",
          "text": [
            "Before replace:  Index(['compound_id', 'standard_inchi_key', 'compound_name', 'synonym',\n",
            "       'target_id', 'target_pref_name', 'gene_names', 'wildtype_or_mutant',\n",
            "       'mutation_info', 'pubmed_id', 'standard_type', 'standard_relation',\n",
            "       'standard_value', 'standard_units', 'activity_comment',\n",
            "       'ep_action_mode', 'assay_format', 'assaytype', 'assay_subtype',\n",
            "       'inhibitor_type', 'detection_tech', 'assay_cell_line',\n",
            "       'compound_concentration_value', 'compound_concentration_value_unit',\n",
            "       'substrate_type', 'substrate_relation', 'substrate_value',\n",
            "       'substrate_units', 'assay_description', 'title', 'journal', 'doc_type',\n",
            "       'annotation_comments'],\n",
            "      dtype='object')\n",
            "After replace:  Index(['compound_id', 'standard_inchi_key', 'compound_name', 'synonym',\n",
            "       'target_id', 'target_pref_name', 'gene_names', 'wildtype_or_mutant',\n",
            "       'mutation_info', 'pubmed_id', 'standard_type', 'standard_relation',\n",
            "       'standard_value', 'standard_units', 'activity_comment',\n",
            "       'ep_action_mode', 'assay_format', 'assaytype', 'assay_subtype',\n",
            "       'inhibitor_type', 'detection_tech', 'assay_cell_line',\n",
            "       'compound_concentration_value', 'compound_concentration_value_unit',\n",
            "       'substrate_type', 'substrate_relation', 'substrate_value',\n",
            "       'substrate_units', 'assay_description', 'title', 'journal', 'doc_type',\n",
            "       'annotation_comments'],\n",
            "      dtype='object')\n"
          ],
          "name": "stdout"
        }
      ]
    },
    {
      "cell_type": "code",
      "metadata": {
        "colab": {
          "base_uri": "https://localhost:8080/"
        },
        "id": "hu3eKU7sDDqY",
        "outputId": "30911783-dcf6-4d86-8496-63e42b803558"
      },
      "source": [
        "# replace uppercase to lowercase\r\n",
        "orig_df.columns= orig_df.columns.str.lower()\r\n",
        "print('After replaceing colnames with lcase: ', orig_df.columns)"
      ],
      "execution_count": null,
      "outputs": [
        {
          "output_type": "stream",
          "text": [
            "After replaceing colnames with lcase:  Index(['compound_id', 'standard_inchi_key', 'compound_name', 'synonym',\n",
            "       'target_id', 'target_pref_name', 'gene_names', 'wildtype_or_mutant',\n",
            "       'mutation_info', 'pubmed_id', 'standard_type', 'standard_relation',\n",
            "       'standard_value', 'standard_units', 'activity_comment',\n",
            "       'ep_action_mode', 'assay_format', 'assaytype', 'assay_subtype',\n",
            "       'inhibitor_type', 'detection_tech', 'assay_cell_line',\n",
            "       'compound_concentration_value', 'compound_concentration_value_unit',\n",
            "       'substrate_type', 'substrate_relation', 'substrate_value',\n",
            "       'substrate_units', 'assay_description', 'title', 'journal', 'doc_type',\n",
            "       'annotation_comments'],\n",
            "      dtype='object')\n"
          ],
          "name": "stdout"
        }
      ]
    },
    {
      "cell_type": "code",
      "metadata": {
        "id": "7TP-fLxeDDXH"
      },
      "source": [
        ""
      ],
      "execution_count": null,
      "outputs": []
    },
    {
      "cell_type": "code",
      "metadata": {
        "colab": {
          "base_uri": "https://localhost:8080/"
        },
        "id": "gjXySV81EWaA",
        "outputId": "0cdeefe1-dc05-4449-ccb0-4b87df69d1c5"
      },
      "source": [
        "# checking after rename\r\n",
        "orig_df.columns"
      ],
      "execution_count": null,
      "outputs": [
        {
          "output_type": "execute_result",
          "data": {
            "text/plain": [
              "Index(['compound_id', 'standard_inchi_key', 'compound_name', 'synonym',\n",
              "       'target_id', 'target_pref_name', 'gene_names', 'wildtype_or_mutant',\n",
              "       'mutation_info', 'pubmed_id', 'standard_type', 'standard_relation',\n",
              "       'standard_value', 'standard_units', 'activity_comment',\n",
              "       'ep_action_mode', 'assay_format', 'assaytype', 'assay_subtype',\n",
              "       'inhibitor_type', 'detection_tech', 'assay_cell_line',\n",
              "       'compound_concentration_value', 'compound_concentration_value_unit',\n",
              "       'substrate_type', 'substrate_relation', 'substrate_value',\n",
              "       'substrate_units', 'assay_description', 'title', 'journal', 'doc_type',\n",
              "       'annotation_comments'],\n",
              "      dtype='object')"
            ]
          },
          "metadata": {
            "tags": []
          },
          "execution_count": 16
        }
      ]
    },
    {
      "cell_type": "code",
      "metadata": {
        "colab": {
          "base_uri": "https://localhost:8080/"
        },
        "id": "dbgwzh2YGCGB",
        "outputId": "503290c2-82ca-4bb6-a1e5-84f1a6eadeb6"
      },
      "source": [
        "orig_df.shape"
      ],
      "execution_count": null,
      "outputs": [
        {
          "output_type": "execute_result",
          "data": {
            "text/plain": [
              "(47075, 33)"
            ]
          },
          "metadata": {
            "tags": []
          },
          "execution_count": 17
        }
      ]
    },
    {
      "cell_type": "markdown",
      "metadata": {
        "id": "5c5b8JqbUsfg"
      },
      "source": [
        "## The following renames the names and make it suitabel for the next function call"
      ]
    },
    {
      "cell_type": "code",
      "metadata": {
        "id": "ivfltdp0SnPj"
      },
      "source": [
        "orig_df = orig_df.rename(columns={'end_point_standard_type': 'standard_type', \r\n",
        " 'end_point_standard_relation': 'standard_relation',\r\n",
        " 'end_point_standard_value': 'standard_value', \r\n",
        " 'end_point_standard_units': 'standard_units',\r\n",
        " 'endpoint_mode_of_action': 'mode_of_action',\r\n",
        " 'wild_type_or_mutant': 'wildtype_or_mutant'})"
      ],
      "execution_count": null,
      "outputs": []
    },
    {
      "cell_type": "markdown",
      "metadata": {
        "id": "kDIWlEXrPfUs"
      },
      "source": [
        "## dcf.filter_dtc_data performs the following operation\r\n",
        "\r\n",
        "```\r\n",
        "dset_df = orig_df[orig_df.gene_names.isin(geneNames) &\r\n",
        "                      ~(orig_df.standard_inchi_key.isna()) &\r\n",
        "                      (orig_df.standard_type == 'IC50') &\r\n",
        "                      (orig_df.standard_units == 'NM') &\r\n",
        "                      ~orig_df.standard_value.isna() &\r\n",
        "                      ~orig_df.compound_id.isna() &\r\n",
        "                      (orig_df.wildtype_or_mutant != 'mutated') ]\r\n",
        " ```"
      ]
    },
    {
      "cell_type": "code",
      "metadata": {
        "id": "BK9TWNsXFtIn"
      },
      "source": [
        "geneNames = [target_name]\r\n",
        "nm_df = dcf.filter_dtc_data(orig_df, geneNames)"
      ],
      "execution_count": null,
      "outputs": []
    },
    {
      "cell_type": "code",
      "metadata": {
        "colab": {
          "base_uri": "https://localhost:8080/"
        },
        "id": "YjQ45UreN5xu",
        "outputId": "a9904b43-d5b4-481c-df0d-de7e8295385e"
      },
      "source": [
        "orig_df.shape"
      ],
      "execution_count": null,
      "outputs": [
        {
          "output_type": "execute_result",
          "data": {
            "text/plain": [
              "(47075, 33)"
            ]
          },
          "metadata": {
            "tags": []
          },
          "execution_count": 20
        }
      ]
    },
    {
      "cell_type": "code",
      "metadata": {
        "colab": {
          "base_uri": "https://localhost:8080/"
        },
        "id": "ohU14UiGFX4-",
        "outputId": "0cdad76e-d596-40b8-ebcc-3ce19cc00785"
      },
      "source": [
        "nm_df.shape"
      ],
      "execution_count": null,
      "outputs": [
        {
          "output_type": "execute_result",
          "data": {
            "text/plain": [
              "(6484, 33)"
            ]
          },
          "metadata": {
            "tags": []
          },
          "execution_count": 21
        }
      ]
    },
    {
      "cell_type": "markdown",
      "metadata": {
        "id": "Kp9vy6KSGsxx"
      },
      "source": [
        "## Explore few columns to get an idea of the dataset"
      ]
    },
    {
      "cell_type": "code",
      "metadata": {
        "colab": {
          "base_uri": "https://localhost:8080/",
          "height": 238
        },
        "id": "BuPzFhEmKD-G",
        "outputId": "68f1ce1e-1008-4986-8fb4-9cdd7634ab3d"
      },
      "source": [
        "# Below, we are displaying the unique elements of our assaytype column in our dataframe\r\n",
        "# unique() is a function that is a part of the numpy library in Python, and it is used to find the unique elements of an array\r\n",
        "\r\n",
        "\r\n",
        "# We then use the same function on a few more columns: assay_cell_line, assay_description, pubmed_id\r\n",
        "display(orig_df['assay_cell_line'].unique())\r\n",
        "display(orig_df['assay_description'].unique())\r\n",
        "display(orig_df['pubmed_id'].unique())"
      ],
      "execution_count": null,
      "outputs": [
        {
          "output_type": "display_data",
          "data": {
            "text/plain": [
              "array([nan, 'BTI-TN-5B1-4', 'HepG2', 'LLC-GA5-COL150', 'LLC-PK1',\n",
              "       'Caco-2', 'HEK293', 'Hepatocyte', 'Lymphoblastoid cell line'],\n",
              "      dtype=object)"
            ]
          },
          "metadata": {
            "tags": []
          }
        },
        {
          "output_type": "display_data",
          "data": {
            "text/plain": [
              "array(['PUBCHEM_BIOASSAY: qHTS Assay for Inhibitors and Substrates of Cytochrome P450 3A4. (Class of assay: confirmatory) [Related pubchem assays: 410 ]',\n",
              "       'PUBCHEM_BIOASSAY: qHTS Assay for Activators of Cytochrome P450 3A4. (Class of assay: confirmatory) [Related pubchem assays: 410 ]',\n",
              "       'Inhibition of human CYP3A4 assessed as conversion of testosterone to 6beta-hydroxytestosterone at 10 uM after 30 mins by HPLC analysis',\n",
              "       ...,\n",
              "       'TP_TRANSPORTER: transepithelial transport of tacrolimus (apical to basal) (Tacrolimus: 1.38-1.48uM) in MDR1-expressing LLC-GA5-COL150 cell',\n",
              "       'TP_TRANSPORTER: Western in vivo human',\n",
              "       'Activation of PXR (unknown origin) assessed as upregulation of CYP3A4 expression'],\n",
              "      dtype=object)"
            ]
          },
          "metadata": {
            "tags": []
          }
        },
        {
          "output_type": "display_data",
          "data": {
            "text/plain": [
              "array([      nan, 21657270., 24015967., ..., 27326332., 11180019.,\n",
              "       26810316.])"
            ]
          },
          "metadata": {
            "tags": []
          }
        }
      ]
    },
    {
      "cell_type": "code",
      "metadata": {
        "colab": {
          "base_uri": "https://localhost:8080/",
          "height": 281
        },
        "id": "Y5krECxrHARe",
        "outputId": "0a08946e-67ba-4754-cd44-bbdc0a54c9d0"
      },
      "source": [
        "orig_df.head(3)"
      ],
      "execution_count": null,
      "outputs": [
        {
          "output_type": "execute_result",
          "data": {
            "text/html": [
              "<div>\n",
              "<style scoped>\n",
              "    .dataframe tbody tr th:only-of-type {\n",
              "        vertical-align: middle;\n",
              "    }\n",
              "\n",
              "    .dataframe tbody tr th {\n",
              "        vertical-align: top;\n",
              "    }\n",
              "\n",
              "    .dataframe thead th {\n",
              "        text-align: right;\n",
              "    }\n",
              "</style>\n",
              "<table border=\"1\" class=\"dataframe\">\n",
              "  <thead>\n",
              "    <tr style=\"text-align: right;\">\n",
              "      <th></th>\n",
              "      <th>compound_id</th>\n",
              "      <th>standard_inchi_key</th>\n",
              "      <th>compound_name</th>\n",
              "      <th>synonym</th>\n",
              "      <th>target_id</th>\n",
              "      <th>target_pref_name</th>\n",
              "      <th>gene_names</th>\n",
              "      <th>wildtype_or_mutant</th>\n",
              "      <th>mutation_info</th>\n",
              "      <th>pubmed_id</th>\n",
              "      <th>standard_type</th>\n",
              "      <th>standard_relation</th>\n",
              "      <th>standard_value</th>\n",
              "      <th>standard_units</th>\n",
              "      <th>activity_comment</th>\n",
              "      <th>ep_action_mode</th>\n",
              "      <th>assay_format</th>\n",
              "      <th>assaytype</th>\n",
              "      <th>assay_subtype</th>\n",
              "      <th>inhibitor_type</th>\n",
              "      <th>detection_tech</th>\n",
              "      <th>assay_cell_line</th>\n",
              "      <th>compound_concentration_value</th>\n",
              "      <th>compound_concentration_value_unit</th>\n",
              "      <th>substrate_type</th>\n",
              "      <th>substrate_relation</th>\n",
              "      <th>substrate_value</th>\n",
              "      <th>substrate_units</th>\n",
              "      <th>assay_description</th>\n",
              "      <th>title</th>\n",
              "      <th>journal</th>\n",
              "      <th>doc_type</th>\n",
              "      <th>annotation_comments</th>\n",
              "    </tr>\n",
              "  </thead>\n",
              "  <tbody>\n",
              "    <tr>\n",
              "      <th>0</th>\n",
              "      <td>CHEMBL268868</td>\n",
              "      <td>AAALVYBICLMAMA-UHFFFAOYSA-N</td>\n",
              "      <td>DAPH</td>\n",
              "      <td>NaN</td>\n",
              "      <td>P08684</td>\n",
              "      <td>CYTOCHROME P450 3A4</td>\n",
              "      <td>CYP3A4</td>\n",
              "      <td>NaN</td>\n",
              "      <td>NaN</td>\n",
              "      <td>NaN</td>\n",
              "      <td>POTENCY</td>\n",
              "      <td>=</td>\n",
              "      <td>1584.9</td>\n",
              "      <td>NM</td>\n",
              "      <td>Active</td>\n",
              "      <td>NaN</td>\n",
              "      <td>NaN</td>\n",
              "      <td>NaN</td>\n",
              "      <td>NaN</td>\n",
              "      <td>NaN</td>\n",
              "      <td>NaN</td>\n",
              "      <td>NaN</td>\n",
              "      <td>NaN</td>\n",
              "      <td>NaN</td>\n",
              "      <td>NaN</td>\n",
              "      <td>NaN</td>\n",
              "      <td>NaN</td>\n",
              "      <td>NaN</td>\n",
              "      <td>PUBCHEM_BIOASSAY: qHTS Assay for Inhibitors an...</td>\n",
              "      <td>PUBCHEM BIOASSAY DATA SET</td>\n",
              "      <td>NaN</td>\n",
              "      <td>DATASET</td>\n",
              "      <td>NaN</td>\n",
              "    </tr>\n",
              "    <tr>\n",
              "      <th>1</th>\n",
              "      <td>CHEMBL268868</td>\n",
              "      <td>AAALVYBICLMAMA-UHFFFAOYSA-N</td>\n",
              "      <td>DAPH</td>\n",
              "      <td>NaN</td>\n",
              "      <td>P08684</td>\n",
              "      <td>CYTOCHROME P450 3A4</td>\n",
              "      <td>CYP3A4</td>\n",
              "      <td>NaN</td>\n",
              "      <td>NaN</td>\n",
              "      <td>NaN</td>\n",
              "      <td>POTENCY</td>\n",
              "      <td>=</td>\n",
              "      <td>1584.9</td>\n",
              "      <td>NM</td>\n",
              "      <td>Not Active</td>\n",
              "      <td>NaN</td>\n",
              "      <td>NaN</td>\n",
              "      <td>NaN</td>\n",
              "      <td>NaN</td>\n",
              "      <td>NaN</td>\n",
              "      <td>NaN</td>\n",
              "      <td>NaN</td>\n",
              "      <td>NaN</td>\n",
              "      <td>NaN</td>\n",
              "      <td>NaN</td>\n",
              "      <td>NaN</td>\n",
              "      <td>NaN</td>\n",
              "      <td>NaN</td>\n",
              "      <td>PUBCHEM_BIOASSAY: qHTS Assay for Activators of...</td>\n",
              "      <td>PUBCHEM BIOASSAY DATA SET</td>\n",
              "      <td>NaN</td>\n",
              "      <td>DATASET</td>\n",
              "      <td>NaN</td>\n",
              "    </tr>\n",
              "    <tr>\n",
              "      <th>2</th>\n",
              "      <td>CHEMBL1800663</td>\n",
              "      <td>AAAOTGDHZDZLFN-UHFFFAOYSA-N</td>\n",
              "      <td>NaN</td>\n",
              "      <td>NaN</td>\n",
              "      <td>P08684</td>\n",
              "      <td>CYTOCHROME P450 3A4</td>\n",
              "      <td>CYP3A4</td>\n",
              "      <td>NaN</td>\n",
              "      <td>NaN</td>\n",
              "      <td>21657270.0</td>\n",
              "      <td>INHIBITION</td>\n",
              "      <td>=</td>\n",
              "      <td>64.0</td>\n",
              "      <td>%</td>\n",
              "      <td>NaN</td>\n",
              "      <td>NaN</td>\n",
              "      <td>NaN</td>\n",
              "      <td>NaN</td>\n",
              "      <td>NaN</td>\n",
              "      <td>NaN</td>\n",
              "      <td>NaN</td>\n",
              "      <td>NaN</td>\n",
              "      <td>NaN</td>\n",
              "      <td>NaN</td>\n",
              "      <td>NaN</td>\n",
              "      <td>NaN</td>\n",
              "      <td>NaN</td>\n",
              "      <td>NaN</td>\n",
              "      <td>Inhibition of human CYP3A4 assessed as convers...</td>\n",
              "      <td>Discovery of 1-{4-[1-(2,6-difluorobenzyl)-5-[(...</td>\n",
              "      <td>J. Med. Chem.</td>\n",
              "      <td>PUBLICATION</td>\n",
              "      <td>NaN</td>\n",
              "    </tr>\n",
              "  </tbody>\n",
              "</table>\n",
              "</div>"
            ],
            "text/plain": [
              "     compound_id           standard_inchi_key  ...     doc_type annotation_comments\n",
              "0   CHEMBL268868  AAALVYBICLMAMA-UHFFFAOYSA-N  ...      DATASET                 NaN\n",
              "1   CHEMBL268868  AAALVYBICLMAMA-UHFFFAOYSA-N  ...      DATASET                 NaN\n",
              "2  CHEMBL1800663  AAAOTGDHZDZLFN-UHFFFAOYSA-N  ...  PUBLICATION                 NaN\n",
              "\n",
              "[3 rows x 33 columns]"
            ]
          },
          "metadata": {
            "tags": []
          },
          "execution_count": 24
        }
      ]
    },
    {
      "cell_type": "markdown",
      "metadata": {
        "id": "iJio-E_ALCZ6"
      },
      "source": [
        "## Convert InChi key to SMILES"
      ]
    },
    {
      "cell_type": "code",
      "metadata": {
        "id": "Qy8d87_-K7aa"
      },
      "source": [
        "# CYP3A4_dtc_smiles_raw.csv \r\n",
        "\r\n",
        "ofile = target_name+'_dtc_smiles_raw.csv'"
      ],
      "execution_count": null,
      "outputs": []
    },
    {
      "cell_type": "code",
      "metadata": {
        "colab": {
          "base_uri": "https://localhost:8080/"
        },
        "id": "Xxziu6wXLPml",
        "outputId": "2d8508c8-92c5-4eed-d113-cc159c80a0a4"
      },
      "source": [
        "print(ofile)"
      ],
      "execution_count": null,
      "outputs": [
        {
          "output_type": "stream",
          "text": [
            "CYP3A4_dtc_smiles_raw.csv\n"
          ],
          "name": "stdout"
        }
      ]
    },
    {
      "cell_type": "markdown",
      "metadata": {
        "id": "2SRf26EmT_iI"
      },
      "source": [
        "## Note the file HTR3A_dtc_smiles_raw.csv will be created"
      ]
    },
    {
      "cell_type": "code",
      "metadata": {
        "colab": {
          "base_uri": "https://localhost:8080/"
        },
        "id": "H5z1nEhILX4t",
        "outputId": "380c2aee-be85-4b22-e42d-50abb7b03df8"
      },
      "source": [
        "# import few libraries from AMPL\r\n",
        "import atomsci.ddm.utils.pubchem_utils as pu\r\n",
        "from os import path\r\n",
        "\r\n",
        "myList = orig_df['standard_inchi_key'].unique().tolist()\r\n",
        "\r\n",
        "# Retrieve SMILES strings for compounds through PUBCHEM web interface.\r\n",
        "\r\n",
        "# Let us make sure the ofile exists, if it exists then print 'File exists' and \r\n",
        "# if it doesnt exist, let us print \"SMILES data doesnt not exist, downloading from\r\n",
        "# PubCHEM\"\r\n",
        "\r\n",
        "if not path.exists(ofile) :\r\n",
        "    print(\"SMILES data not found, download from PubChem \",ofile)\r\n",
        "    save_smiles_df, fail_lst, discard_lst = pu.download_smiles(myList)\r\n",
        "    save_smiles_df.to_csv(ofile)\r\n",
        "else :\r\n",
        "    print(ofile, 'Exists!')\r\n"
      ],
      "execution_count": null,
      "outputs": [
        {
          "output_type": "stream",
          "text": [
            "SMILES data not found, download from PubChem  CYP3A4_dtc_smiles_raw.csv\n"
          ],
          "name": "stdout"
        }
      ]
    },
    {
      "cell_type": "markdown",
      "metadata": {
        "id": "-EAgFT4W4AkM"
      },
      "source": [
        "## Note the `fail_lst` and `discard_lst` will contain the failed and discarded list \r\n",
        "\r\n",
        "Check whether the file, HTR3A_dtc_smiles_raw.csv, exists. use the RHS menu option or use `ls HTR3A_dtc_smiles_raw.csv`"
      ]
    },
    {
      "cell_type": "code",
      "metadata": {
        "colab": {
          "base_uri": "https://localhost:8080/"
        },
        "id": "p_RA6GQrI-zZ",
        "outputId": "b0b25722-dbe8-4ac9-9907-df08b7dc0037"
      },
      "source": [
        "print(\"fail_lst: \", len(fail_lst))\r\n",
        "print(\"discard_lst: \", len(discard_lst))\r\n",
        "print(len(myList))\r\n",
        "print(save_smiles_df.shape)"
      ],
      "execution_count": null,
      "outputs": [
        {
          "output_type": "stream",
          "text": [
            "fail_lst:  98\n",
            "discard_lst:  19\n",
            "992\n",
            "(894, 3)\n"
          ],
          "name": "stdout"
        }
      ]
    },
    {
      "cell_type": "code",
      "metadata": {
        "colab": {
          "base_uri": "https://localhost:8080/",
          "height": 203
        },
        "id": "LUTnA9zN7Ti1",
        "outputId": "76f5a727-7c0a-473d-8e0d-0a8d01aa527e"
      },
      "source": [
        "save_smiles_df.head(5)"
      ],
      "execution_count": null,
      "outputs": [
        {
          "output_type": "execute_result",
          "data": {
            "text/html": [
              "<div>\n",
              "<style scoped>\n",
              "    .dataframe tbody tr th:only-of-type {\n",
              "        vertical-align: middle;\n",
              "    }\n",
              "\n",
              "    .dataframe tbody tr th {\n",
              "        vertical-align: top;\n",
              "    }\n",
              "\n",
              "    .dataframe thead th {\n",
              "        text-align: right;\n",
              "    }\n",
              "</style>\n",
              "<table border=\"1\" class=\"dataframe\">\n",
              "  <thead>\n",
              "    <tr style=\"text-align: right;\">\n",
              "      <th></th>\n",
              "      <th>CID</th>\n",
              "      <th>standard_inchi_key</th>\n",
              "      <th>smiles</th>\n",
              "    </tr>\n",
              "  </thead>\n",
              "  <tbody>\n",
              "    <tr>\n",
              "      <th>0</th>\n",
              "      <td>9845261</td>\n",
              "      <td>OSVMSQACZRYAPT-UHFFFAOYSA-N</td>\n",
              "      <td>\"COC1=CC=CC(=C1)CN2CCN(CC2)C3CCC(CC3)(C4=CC5=C...</td>\n",
              "    </tr>\n",
              "    <tr>\n",
              "      <th>1</th>\n",
              "      <td>10130293</td>\n",
              "      <td>SCDKHPSUXHBJDJ-UHFFFAOYSA-N</td>\n",
              "      <td>\"C1CC2CCC1N2CC3=CN=CC=C3\"</td>\n",
              "    </tr>\n",
              "    <tr>\n",
              "      <th>2</th>\n",
              "      <td>44471685</td>\n",
              "      <td>WGIPGQAPFNVWIX-XXFZXMJFSA-N</td>\n",
              "      <td>\"COC1=CC=C(C=C1)C2=C(C(=NN2C3=CC=CC=C3I)C(=O)N...</td>\n",
              "    </tr>\n",
              "    <tr>\n",
              "      <th>3</th>\n",
              "      <td>2554</td>\n",
              "      <td>FFGPTBGBLSHEPO-UHFFFAOYSA-N</td>\n",
              "      <td>\"C1=CC=C2C(=C1)C=CC3=CC=CC=C3N2C(=O)N\"</td>\n",
              "    </tr>\n",
              "    <tr>\n",
              "      <th>4</th>\n",
              "      <td>44469321</td>\n",
              "      <td>CKLPLPZSUQEDRT-WPCRTTGESA-N</td>\n",
              "      <td>\"CC1CC2=C(C3(N1)C4=C(C=CC(=C4)Cl)NC3=O)NC5=CC(...</td>\n",
              "    </tr>\n",
              "  </tbody>\n",
              "</table>\n",
              "</div>"
            ],
            "text/plain": [
              "        CID  ...                                             smiles\n",
              "0   9845261  ...  \"COC1=CC=CC(=C1)CN2CCN(CC2)C3CCC(CC3)(C4=CC5=C...\n",
              "1  10130293  ...                          \"C1CC2CCC1N2CC3=CN=CC=C3\"\n",
              "2  44471685  ...  \"COC1=CC=C(C=C1)C2=C(C(=NN2C3=CC=CC=C3I)C(=O)N...\n",
              "3      2554  ...             \"C1=CC=C2C(=C1)C=CC3=CC=CC=C3N2C(=O)N\"\n",
              "4  44469321  ...  \"CC1CC2=C(C3(N1)C4=C(C=CC(=C4)Cl)NC3=O)NC5=CC(...\n",
              "\n",
              "[5 rows x 3 columns]"
            ]
          },
          "metadata": {
            "tags": []
          },
          "execution_count": 28
        }
      ]
    },
    {
      "cell_type": "markdown",
      "metadata": {
        "id": "IbvY7TWY6tX1"
      },
      "source": [
        "## In this step, we reassemble the dataframe by attaching the IC50 values to create a new dataframe  "
      ]
    },
    {
      "cell_type": "code",
      "metadata": {
        "colab": {
          "base_uri": "https://localhost:8080/"
        },
        "id": "Qd2IIlwAMKr-",
        "outputId": "6877425d-c1eb-48d0-d3b7-c9248b97f979"
      },
      "source": [
        "# HTR3A_dtc_smiles.csv is the ofile \r\n",
        "ofile = target_name+'_dtc_smiles.csv'\r\n",
        "if not path.exists(ofile) :\r\n",
        "    import atomsci.ddm.utils.data_curation_functions as dcf\r\n",
        "    import importlib as impl\r\n",
        "\r\n",
        "    print(len(fail_lst))\r\n",
        "    print(save_smiles_df.shape)\r\n",
        "\r\n",
        "# Above, we will pring the fail_list created in the earlier code block \r\n",
        "# We will also print the dimensions of our save_smiles_df pandas \r\n",
        "# dataframe using the .shape function\r\n",
        "\r\n",
        "# Notice the ifile is now HTR3A_dtc_smiles_raw.csv\r\n",
        "    ifile=target_name+'_dtc_smiles_raw.csv'\r\n",
        "\r\n",
        "# Here we are reading in our file (ifile) using the pandas library, and assigning its contents to the save_smiles_df from earlier\r\n",
        "    save_smiles_df=pd.read_csv(ifile)\r\n",
        "\r\n",
        "    ## Retrieve specific data\r\n",
        "    ## Will include censored data in smiles \r\n",
        "    ## Combine gene data with SMILES strings and call this our starting \"raw\" dataset.\r\n",
        "# Here we are creating a variable called targ_lst, which contains our target and is formatted as a list\r\n",
        "    targ_lst=[target_name]\r\n",
        "    ####WARNING: I had to convert this explicitly to a floating point value!!!\r\n",
        "# Below, using the nm_df['standard_value']=nm_df['standard_value'].astype(float) is used to convert \r\n",
        "# the standard_value column into a float using astype()\r\n",
        "# A floating point value, also called a float, represents a real number and is written with a decimal point dividing the integer and fractional point\r\n",
        "    nm_df['standard_value']=nm_df['standard_value'].astype(float)\r\n",
        "    smiles_lst, shared_inchi_keys = dcf.get_smiles_dtc_data(nm_df, targ_lst, save_smiles_df)\r\n",
        "    smiles_df=pd.concat(smiles_lst)\r\n",
        "    # ofile=target_name+'_dtc_smiles.csv'\r\n",
        "    smiles_df.to_csv(ofile,index=False)\r\n",
        "else :\r\n",
        "    print(\"Downloaded file previously saved\",ofile)"
      ],
      "execution_count": null,
      "outputs": [
        {
          "output_type": "stream",
          "text": [
            "98\n",
            "(894, 3)\n",
            "HTR3A distinct compounds = only 127\n",
            "HTR3A distinct compounds <,>,= 194\n",
            "num shared compounds 194\n",
            "Add pIC50 values.\n",
            "0       100000.0\n",
            "4        10000.0\n",
            "5        30000.0\n",
            "6        30000.0\n",
            "7        30000.0\n",
            "          ...   \n",
            "1207      3310.0\n",
            "1216        70.0\n",
            "1217        70.0\n",
            "1221         5.0\n",
            "1226       779.0\n",
            "Name: standard_value, Length: 226, dtype: float64\n",
            "100000.0\n",
            "10000.0\n",
            "30000.0\n",
            "30000.0\n",
            "30000.0\n",
            "30000.0\n",
            "30000.0\n",
            "30000.0\n",
            "5800.0\n",
            "30000.0\n",
            "5700.0\n",
            "7900.0\n",
            "7800.0\n",
            "30000.0\n",
            "2800.0\n",
            "100000.0\n",
            "0.83\n",
            "10000.0\n",
            "10000.0\n",
            "7943.28\n",
            "1000.0\n",
            "48.4\n",
            "50.5\n",
            "62.1\n",
            "84.8\n",
            "100.0\n",
            "87.6\n",
            "46.5\n",
            "22.1\n",
            "100.0\n",
            "24.6\n",
            "59.1\n",
            "100.0\n",
            "41.4\n",
            "100.0\n",
            "100.0\n",
            "100.0\n",
            "44.2\n",
            "100.0\n",
            "100.0\n",
            "69.9\n",
            "63.8\n",
            "52.6\n",
            "100.0\n",
            "100.0\n",
            "61.0\n",
            "55.2\n",
            "86.6\n",
            "64.8\n",
            "100.0\n",
            "100.0\n",
            "100.0\n",
            "77.6\n",
            "26.7\n",
            "100.0\n",
            "45.7\n",
            "50.6\n",
            "99.4\n",
            "100.0\n",
            "100.0\n",
            "100.0\n",
            "100.0\n",
            "83.1\n",
            "100.0\n",
            "45.6\n",
            "15.6\n",
            "8.9\n",
            "8.93\n",
            "100.0\n",
            "48.3\n",
            "97.9\n",
            "10000.0\n",
            "9.3\n",
            "6.9\n",
            "1300.0\n",
            "10000.0\n",
            "10000.0\n",
            "10000.0\n",
            "9000.0\n",
            "100000.0\n",
            "100000.0\n",
            "12000.0\n",
            "100000.0\n",
            "1600.0\n",
            "2300.0\n",
            "1000.0\n",
            "100000.0\n",
            "100000.0\n",
            "30000.0\n",
            "30000.0\n",
            "30000.0\n",
            "30000.0\n",
            "30000.0\n",
            "30000.0\n",
            "30000.0\n",
            "30000.0\n",
            "30000.0\n",
            "10.0\n",
            "9.4\n",
            "770.0\n",
            "11.0\n",
            "6.7\n",
            "4.9\n",
            "2.8\n",
            "32.7\n",
            "299.0\n",
            "10000.0\n",
            "10000.0\n",
            "31622.78\n",
            "31622.78\n",
            "12.0\n",
            "6.0\n",
            "2400.0\n",
            "1400.0\n",
            "800.0\n",
            "2100.0\n",
            "2700.0\n",
            "19800.0\n",
            "2800.0\n",
            "11600.0\n",
            "5700.0\n",
            "1300.0\n",
            "1900.0\n",
            "5900.0\n",
            "15800.0\n",
            "1600.0\n",
            "2200.0\n",
            "1900.0\n",
            "2100.0\n",
            "13600.0\n",
            "2000.0\n",
            "2200.0\n",
            "3300.0\n",
            "100000.0\n",
            "100000.0\n",
            "30000.0\n",
            "31622.78\n",
            "100000.0\n",
            "100000.0\n",
            "100000.0\n",
            "100000.0\n",
            "3981.07\n",
            "4400.0\n",
            "19000.0\n",
            "30000.0\n",
            "31622.78\n",
            "10000.0\n",
            "1000.0\n",
            "10000.0\n",
            "100000.0\n",
            "100000.0\n",
            "100000.0\n",
            "100000.0\n",
            "34.0\n",
            "57000.0\n",
            "275.0\n",
            "4800.0\n",
            "188.0\n",
            "580.0\n",
            "962.0\n",
            "100000.0\n",
            "100000.0\n",
            "30000.0\n",
            "31622.78\n",
            "2500.0\n",
            "2511.89\n",
            "30000.0\n",
            "31622.78\n",
            "11000.0\n",
            "12589.25\n",
            "7500.0\n",
            "30000.0\n",
            "31622.78\n",
            "100000.0\n",
            "100000.0\n",
            "30000.0\n",
            "31622.78\n",
            "100000.0\n",
            "100000.0\n",
            "100000.0\n",
            "100000.0\n",
            "30000.0\n",
            "100000.0\n",
            "3981.07\n",
            "4200.0\n",
            "30000.0\n",
            "31622.78\n",
            "30000.0\n",
            "31622.78\n",
            "100000.0\n",
            "251188.64\n",
            "25118.86\n",
            "100000.0\n",
            "0.09\n",
            "6.92\n",
            "385.0\n",
            "10000.0\n",
            "19952.62\n",
            "50118.72\n",
            "100000.0\n",
            "1000.0\n",
            "1.41\n",
            "3160.0\n",
            "3160.0\n",
            "3100.0\n",
            "790.0\n",
            "1700.0\n",
            "1600.0\n",
            "159.0\n",
            "3500.0\n",
            "2500.0\n",
            "1400.0\n",
            "2800.0\n",
            "4900.0\n",
            "18.0\n",
            "390.0\n",
            "10000.0\n",
            "484.0\n",
            "484.0\n",
            "2480.0\n",
            "7310.0\n",
            "3310.0\n",
            "70.0\n",
            "70.0\n",
            "5.0\n",
            "779.0\n",
            "Merge in SMILES strings.\n",
            "100000.0\n",
            "10000.0\n",
            "30000.0\n",
            "30000.0\n",
            "30000.0\n",
            "30000.0\n",
            "30000.0\n",
            "30000.0\n",
            "5800.0\n",
            "30000.0\n",
            "5700.0\n",
            "7900.0\n",
            "7800.0\n",
            "30000.0\n",
            "2800.0\n",
            "100000.0\n",
            "0.83\n",
            "10000.0\n",
            "10000.0\n",
            "7943.28\n",
            "1000.0\n",
            "48.4\n",
            "50.5\n",
            "62.1\n",
            "84.8\n",
            "100.0\n",
            "87.6\n",
            "46.5\n",
            "22.1\n",
            "100.0\n",
            "24.6\n",
            "59.1\n",
            "100.0\n",
            "41.4\n",
            "100.0\n",
            "100.0\n",
            "100.0\n",
            "44.2\n",
            "100.0\n",
            "100.0\n",
            "69.9\n",
            "63.8\n",
            "52.6\n",
            "100.0\n",
            "100.0\n",
            "61.0\n",
            "55.2\n",
            "86.6\n",
            "64.8\n",
            "100.0\n",
            "100.0\n",
            "100.0\n",
            "77.6\n",
            "26.7\n",
            "100.0\n",
            "45.7\n",
            "50.6\n",
            "99.4\n",
            "100.0\n",
            "100.0\n",
            "100.0\n",
            "100.0\n",
            "83.1\n",
            "100.0\n",
            "45.6\n",
            "15.6\n",
            "8.9\n",
            "8.93\n",
            "100.0\n",
            "48.3\n",
            "97.9\n",
            "10000.0\n",
            "9.3\n",
            "6.9\n",
            "1300.0\n",
            "10000.0\n",
            "10000.0\n",
            "10000.0\n",
            "9000.0\n",
            "100000.0\n",
            "100000.0\n",
            "12000.0\n",
            "100000.0\n",
            "1600.0\n",
            "2300.0\n",
            "1000.0\n",
            "100000.0\n",
            "100000.0\n",
            "30000.0\n",
            "30000.0\n",
            "30000.0\n",
            "30000.0\n",
            "30000.0\n",
            "30000.0\n",
            "30000.0\n",
            "30000.0\n",
            "30000.0\n",
            "10.0\n",
            "9.4\n",
            "770.0\n",
            "11.0\n",
            "6.7\n",
            "4.9\n",
            "2.8\n",
            "32.7\n",
            "299.0\n",
            "10000.0\n",
            "10000.0\n",
            "31622.78\n",
            "31622.78\n",
            "12.0\n",
            "6.0\n",
            "2400.0\n",
            "1400.0\n",
            "800.0\n",
            "2100.0\n",
            "2700.0\n",
            "19800.0\n",
            "2800.0\n",
            "11600.0\n",
            "5700.0\n",
            "1300.0\n",
            "1900.0\n",
            "5900.0\n",
            "15800.0\n",
            "1600.0\n",
            "2200.0\n",
            "1900.0\n",
            "2100.0\n",
            "13600.0\n",
            "2000.0\n",
            "2200.0\n",
            "3300.0\n",
            "100000.0\n",
            "100000.0\n",
            "30000.0\n",
            "31622.78\n",
            "100000.0\n",
            "100000.0\n",
            "100000.0\n",
            "100000.0\n",
            "3981.07\n",
            "4400.0\n",
            "19000.0\n",
            "30000.0\n",
            "31622.78\n",
            "10000.0\n",
            "1000.0\n",
            "10000.0\n",
            "100000.0\n",
            "100000.0\n",
            "100000.0\n",
            "100000.0\n",
            "34.0\n",
            "57000.0\n",
            "275.0\n",
            "4800.0\n",
            "188.0\n",
            "580.0\n",
            "962.0\n",
            "100000.0\n",
            "100000.0\n",
            "30000.0\n",
            "31622.78\n",
            "2500.0\n",
            "2511.89\n",
            "30000.0\n",
            "31622.78\n",
            "11000.0\n",
            "12589.25\n",
            "7500.0\n",
            "30000.0\n",
            "31622.78\n",
            "100000.0\n",
            "100000.0\n",
            "30000.0\n",
            "31622.78\n",
            "100000.0\n",
            "100000.0\n",
            "100000.0\n",
            "100000.0\n",
            "30000.0\n",
            "100000.0\n",
            "3981.07\n",
            "4200.0\n",
            "30000.0\n",
            "31622.78\n",
            "30000.0\n",
            "31622.78\n",
            "100000.0\n",
            "251188.64\n",
            "25118.86\n",
            "100000.0\n",
            "0.09\n",
            "6.92\n",
            "385.0\n",
            "10000.0\n",
            "19952.62\n",
            "50118.72\n",
            "100000.0\n",
            "1000.0\n",
            "1.41\n",
            "3160.0\n",
            "3160.0\n",
            "3100.0\n",
            "790.0\n",
            "1700.0\n",
            "1600.0\n",
            "159.0\n",
            "3500.0\n",
            "2500.0\n",
            "1400.0\n",
            "2800.0\n",
            "4900.0\n",
            "18.0\n",
            "390.0\n",
            "10000.0\n",
            "484.0\n",
            "484.0\n",
            "2480.0\n",
            "7310.0\n",
            "3310.0\n",
            "70.0\n",
            "70.0\n",
            "5.0\n",
            "779.0\n",
            "(201, 48)\n",
            "179\n"
          ],
          "name": "stdout"
        }
      ]
    },
    {
      "cell_type": "markdown",
      "metadata": {
        "id": "6Npvu8Wl9qFe"
      },
      "source": [
        "## Change the ofile to ifile for reading"
      ]
    },
    {
      "cell_type": "code",
      "metadata": {
        "colab": {
          "base_uri": "https://localhost:8080/"
        },
        "id": "NiPDw_h2b4Uv",
        "outputId": "f0bd6327-3984-4763-cbf0-ebe969876b93"
      },
      "source": [
        "ifile=target_name+'_dtc_smiles.csv'\r\n",
        "print(ifile)"
      ],
      "execution_count": null,
      "outputs": [
        {
          "output_type": "stream",
          "text": [
            "HTR3A_dtc_smiles.csv\n"
          ],
          "name": "stdout"
        }
      ]
    },
    {
      "cell_type": "code",
      "metadata": {
        "colab": {
          "base_uri": "https://localhost:8080/",
          "height": 753
        },
        "id": "tTukf532aAPs",
        "outputId": "cbf017b5-5ee4-4394-bc3c-42efc788f061"
      },
      "source": [
        "print(smiles_df.shape)\r\n",
        "save_smiles_df = smiles_df\r\n",
        "save_smiles_df.head(5)"
      ],
      "execution_count": null,
      "outputs": [
        {
          "output_type": "stream",
          "text": [
            "(201, 48)\n"
          ],
          "name": "stdout"
        },
        {
          "output_type": "execute_result",
          "data": {
            "text/html": [
              "<div>\n",
              "<style scoped>\n",
              "    .dataframe tbody tr th:only-of-type {\n",
              "        vertical-align: middle;\n",
              "    }\n",
              "\n",
              "    .dataframe tbody tr th {\n",
              "        vertical-align: top;\n",
              "    }\n",
              "\n",
              "    .dataframe thead th {\n",
              "        text-align: right;\n",
              "    }\n",
              "</style>\n",
              "<table border=\"1\" class=\"dataframe\">\n",
              "  <thead>\n",
              "    <tr style=\"text-align: right;\">\n",
              "      <th></th>\n",
              "      <th>compound_id</th>\n",
              "      <th>uniprot_id</th>\n",
              "      <th>compound_name</th>\n",
              "      <th>standard_inchi_key</th>\n",
              "      <th>max_phase</th>\n",
              "      <th>target_pref_name</th>\n",
              "      <th>gene_names</th>\n",
              "      <th>target_class</th>\n",
              "      <th>wildtype_or_mutant</th>\n",
              "      <th>mutation_information</th>\n",
              "      <th>pubmed_id</th>\n",
              "      <th>standard_type</th>\n",
              "      <th>standard_relation</th>\n",
              "      <th>standard_value</th>\n",
              "      <th>standard_units</th>\n",
              "      <th>mode_of_action</th>\n",
              "      <th>assay_format</th>\n",
              "      <th>assay_type</th>\n",
              "      <th>assay_sub_type</th>\n",
              "      <th>inhibitor_type</th>\n",
              "      <th>detection_technology</th>\n",
              "      <th>compound_concentration_value</th>\n",
              "      <th>compound_concentration_value_units</th>\n",
              "      <th>substrate_type</th>\n",
              "      <th>substrate_type_standard_relation</th>\n",
              "      <th>substrate_type_standard_value</th>\n",
              "      <th>substrate_type_standard_units</th>\n",
              "      <th>assay_cell_line</th>\n",
              "      <th>assay_description</th>\n",
              "      <th>activity_comments</th>\n",
              "      <th>title</th>\n",
              "      <th>journal</th>\n",
              "      <th>year</th>\n",
              "      <th>volume</th>\n",
              "      <th>issue</th>\n",
              "      <th>authors</th>\n",
              "      <th>annotation_comments</th>\n",
              "      <th>assay_id</th>\n",
              "      <th>dtc_tid</th>\n",
              "      <th>dtc_activity_id</th>\n",
              "      <th>dtc_molregno</th>\n",
              "      <th>record_id</th>\n",
              "      <th>dtc_document_id</th>\n",
              "      <th>PIC50</th>\n",
              "      <th>Unnamed: 0</th>\n",
              "      <th>CID</th>\n",
              "      <th>smiles</th>\n",
              "      <th>rdkit_smiles</th>\n",
              "    </tr>\n",
              "  </thead>\n",
              "  <tbody>\n",
              "    <tr>\n",
              "      <th>0</th>\n",
              "      <td>CHEMBL100086</td>\n",
              "      <td>P46098</td>\n",
              "      <td>NaN</td>\n",
              "      <td>OSVMSQACZRYAPT-UHFFFAOYSA-N</td>\n",
              "      <td>0</td>\n",
              "      <td>SEROTONIN 3A (5-HT3A) RECEPTOR</td>\n",
              "      <td>HTR3A</td>\n",
              "      <td>Ion channel</td>\n",
              "      <td>NaN</td>\n",
              "      <td>NaN</td>\n",
              "      <td>12482441.0</td>\n",
              "      <td>IC50</td>\n",
              "      <td>&gt;</td>\n",
              "      <td>100000.0</td>\n",
              "      <td>NM</td>\n",
              "      <td>NaN</td>\n",
              "      <td>NaN</td>\n",
              "      <td>NaN</td>\n",
              "      <td>NaN</td>\n",
              "      <td>NaN</td>\n",
              "      <td>NaN</td>\n",
              "      <td>NaN</td>\n",
              "      <td>NaN</td>\n",
              "      <td>NaN</td>\n",
              "      <td>NaN</td>\n",
              "      <td>NaN</td>\n",
              "      <td>NaN</td>\n",
              "      <td>NaN</td>\n",
              "      <td>Inhibitory concentration required against 5-HT...</td>\n",
              "      <td>NaN</td>\n",
              "      <td>Development of a presynaptic 5-HT1A antagonist.</td>\n",
              "      <td>Bioorg. Med. Chem. Lett.</td>\n",
              "      <td>2003.0</td>\n",
              "      <td>13.0</td>\n",
              "      <td>2.0</td>\n",
              "      <td>Mattson RJ, Catt JD, Sloan CP, Gao Q, Carter R...</td>\n",
              "      <td>NaN</td>\n",
              "      <td>3062.0</td>\n",
              "      <td>DTCT0023221</td>\n",
              "      <td>1489397</td>\n",
              "      <td>DTCC00263953</td>\n",
              "      <td>917398</td>\n",
              "      <td>5847</td>\n",
              "      <td>4.000000</td>\n",
              "      <td>0</td>\n",
              "      <td>9845261</td>\n",
              "      <td>COC1=CC=CC(=C1)CN2CCN(CC2)C3CCC(CC3)(C4=CC5=C(...</td>\n",
              "      <td>COc1cccc(CN2CCN(C3CCC(O)(c4ccc5c(c4)OCO5)CC3)C...</td>\n",
              "    </tr>\n",
              "    <tr>\n",
              "      <th>1</th>\n",
              "      <td>CHEMBL1082723</td>\n",
              "      <td>P46098</td>\n",
              "      <td>NITD609</td>\n",
              "      <td>CKLPLPZSUQEDRT-WPCRTTGESA-N</td>\n",
              "      <td>0</td>\n",
              "      <td>SEROTONIN 3A (5-HT3A) RECEPTOR</td>\n",
              "      <td>HTR3A</td>\n",
              "      <td>Ion channel</td>\n",
              "      <td>NaN</td>\n",
              "      <td>NaN</td>\n",
              "      <td>20813948.0</td>\n",
              "      <td>IC50</td>\n",
              "      <td>&gt;</td>\n",
              "      <td>10000.0</td>\n",
              "      <td>NM</td>\n",
              "      <td>NaN</td>\n",
              "      <td>NaN</td>\n",
              "      <td>NaN</td>\n",
              "      <td>NaN</td>\n",
              "      <td>NaN</td>\n",
              "      <td>NaN</td>\n",
              "      <td>NaN</td>\n",
              "      <td>NaN</td>\n",
              "      <td>NaN</td>\n",
              "      <td>NaN</td>\n",
              "      <td>NaN</td>\n",
              "      <td>NaN</td>\n",
              "      <td>NaN</td>\n",
              "      <td>Binding affinity to human recombinant serotoni...</td>\n",
              "      <td>NaN</td>\n",
              "      <td>Spiroindolones, a potent compound class for th...</td>\n",
              "      <td>Science</td>\n",
              "      <td>2010.0</td>\n",
              "      <td>329.0</td>\n",
              "      <td>5996.0</td>\n",
              "      <td>Rottmann M, McNamara C, Yeung BK, Lee MC, Zou ...</td>\n",
              "      <td>NaN</td>\n",
              "      <td>658586.0</td>\n",
              "      <td>DTCT0023221</td>\n",
              "      <td>3467863</td>\n",
              "      <td>DTCC00031143</td>\n",
              "      <td>1686650</td>\n",
              "      <td>40818</td>\n",
              "      <td>5.000000</td>\n",
              "      <td>4</td>\n",
              "      <td>44469321</td>\n",
              "      <td>CC1CC2=C(C3(N1)C4=C(C=CC(=C4)Cl)NC3=O)NC5=CC(=...</td>\n",
              "      <td>CC1Cc2c([nH]c3cc(Cl)c(F)cc23)C2(N1)C(=O)Nc1ccc...</td>\n",
              "    </tr>\n",
              "    <tr>\n",
              "      <th>2</th>\n",
              "      <td>CHEMBL1083485</td>\n",
              "      <td>P46098</td>\n",
              "      <td>NaN</td>\n",
              "      <td>YOCUJVXRRWEPDN-UHFFFAOYSA-N</td>\n",
              "      <td>0</td>\n",
              "      <td>SEROTONIN 3A (5-HT3A) RECEPTOR</td>\n",
              "      <td>HTR3A</td>\n",
              "      <td>Ion channel</td>\n",
              "      <td>NaN</td>\n",
              "      <td>NaN</td>\n",
              "      <td>20465311.0</td>\n",
              "      <td>IC50</td>\n",
              "      <td>&gt;</td>\n",
              "      <td>30000.0</td>\n",
              "      <td>NM</td>\n",
              "      <td>NaN</td>\n",
              "      <td>cell_based</td>\n",
              "      <td>NaN</td>\n",
              "      <td>NaN</td>\n",
              "      <td>NaN</td>\n",
              "      <td>NaN</td>\n",
              "      <td>NaN</td>\n",
              "      <td>NaN</td>\n",
              "      <td>NaN</td>\n",
              "      <td>NaN</td>\n",
              "      <td>NaN</td>\n",
              "      <td>NaN</td>\n",
              "      <td>HEK293</td>\n",
              "      <td>Agonist activity at human 5HT3A receptor expre...</td>\n",
              "      <td>NaN</td>\n",
              "      <td>Novel alpha-7 nicotinic acetylcholine receptor...</td>\n",
              "      <td>J. Med. Chem.</td>\n",
              "      <td>2010.0</td>\n",
              "      <td>53.0</td>\n",
              "      <td>11.0</td>\n",
              "      <td>Ghiron C, Haydar SN, Aschmies S, Bothmann H, C...</td>\n",
              "      <td>NaN</td>\n",
              "      <td>634700.0</td>\n",
              "      <td>DTCT0023221</td>\n",
              "      <td>3345977</td>\n",
              "      <td>DTCC00645978</td>\n",
              "      <td>1654372</td>\n",
              "      <td>39082</td>\n",
              "      <td>4.522879</td>\n",
              "      <td>5</td>\n",
              "      <td>44611748</td>\n",
              "      <td>C1CCN(CC1)CCCCNC(=O)NC2=CN=C(C=C2)C3=CC=CC=C3F</td>\n",
              "      <td>O=C(NCCCCN1CCCCC1)Nc1ccc(-c2ccccc2F)nc1</td>\n",
              "    </tr>\n",
              "    <tr>\n",
              "      <th>3</th>\n",
              "      <td>CHEMBL1083787</td>\n",
              "      <td>P46098</td>\n",
              "      <td>NaN</td>\n",
              "      <td>LMGUUVWYFJIKCD-UHFFFAOYSA-N</td>\n",
              "      <td>0</td>\n",
              "      <td>SEROTONIN 3A (5-HT3A) RECEPTOR</td>\n",
              "      <td>HTR3A</td>\n",
              "      <td>Ion channel</td>\n",
              "      <td>NaN</td>\n",
              "      <td>NaN</td>\n",
              "      <td>20465311.0</td>\n",
              "      <td>IC50</td>\n",
              "      <td>&gt;</td>\n",
              "      <td>30000.0</td>\n",
              "      <td>NM</td>\n",
              "      <td>NaN</td>\n",
              "      <td>cell_based</td>\n",
              "      <td>NaN</td>\n",
              "      <td>NaN</td>\n",
              "      <td>NaN</td>\n",
              "      <td>NaN</td>\n",
              "      <td>NaN</td>\n",
              "      <td>NaN</td>\n",
              "      <td>NaN</td>\n",
              "      <td>NaN</td>\n",
              "      <td>NaN</td>\n",
              "      <td>NaN</td>\n",
              "      <td>HEK293</td>\n",
              "      <td>Agonist activity at human 5HT3A receptor expre...</td>\n",
              "      <td>NaN</td>\n",
              "      <td>Novel alpha-7 nicotinic acetylcholine receptor...</td>\n",
              "      <td>J. Med. Chem.</td>\n",
              "      <td>2010.0</td>\n",
              "      <td>53.0</td>\n",
              "      <td>11.0</td>\n",
              "      <td>Ghiron C, Haydar SN, Aschmies S, Bothmann H, C...</td>\n",
              "      <td>NaN</td>\n",
              "      <td>634700.0</td>\n",
              "      <td>DTCT0023221</td>\n",
              "      <td>3345978</td>\n",
              "      <td>DTCC00645979</td>\n",
              "      <td>1395966</td>\n",
              "      <td>39082</td>\n",
              "      <td>4.522879</td>\n",
              "      <td>6</td>\n",
              "      <td>44240743</td>\n",
              "      <td>C1CCN(CC1)CCCCNC(=O)NC2=CN=C(C=C2)C3=CC=C(C=C3)F</td>\n",
              "      <td>O=C(NCCCCN1CCCCC1)Nc1ccc(-c2ccc(F)cc2)nc1</td>\n",
              "    </tr>\n",
              "    <tr>\n",
              "      <th>4</th>\n",
              "      <td>CHEMBL1083788</td>\n",
              "      <td>P46098</td>\n",
              "      <td>NaN</td>\n",
              "      <td>DFBQTBNRGSIKHN-UHFFFAOYSA-N</td>\n",
              "      <td>0</td>\n",
              "      <td>SEROTONIN 3A (5-HT3A) RECEPTOR</td>\n",
              "      <td>HTR3A</td>\n",
              "      <td>Ion channel</td>\n",
              "      <td>NaN</td>\n",
              "      <td>NaN</td>\n",
              "      <td>20465311.0</td>\n",
              "      <td>IC50</td>\n",
              "      <td>&gt;</td>\n",
              "      <td>30000.0</td>\n",
              "      <td>NM</td>\n",
              "      <td>NaN</td>\n",
              "      <td>cell_based</td>\n",
              "      <td>NaN</td>\n",
              "      <td>NaN</td>\n",
              "      <td>NaN</td>\n",
              "      <td>NaN</td>\n",
              "      <td>NaN</td>\n",
              "      <td>NaN</td>\n",
              "      <td>NaN</td>\n",
              "      <td>NaN</td>\n",
              "      <td>NaN</td>\n",
              "      <td>NaN</td>\n",
              "      <td>HEK293</td>\n",
              "      <td>Agonist activity at human 5HT3A receptor expre...</td>\n",
              "      <td>NaN</td>\n",
              "      <td>Novel alpha-7 nicotinic acetylcholine receptor...</td>\n",
              "      <td>J. Med. Chem.</td>\n",
              "      <td>2010.0</td>\n",
              "      <td>53.0</td>\n",
              "      <td>11.0</td>\n",
              "      <td>Ghiron C, Haydar SN, Aschmies S, Bothmann H, C...</td>\n",
              "      <td>NaN</td>\n",
              "      <td>634700.0</td>\n",
              "      <td>DTCT0023221</td>\n",
              "      <td>3345979</td>\n",
              "      <td>DTCC00645980</td>\n",
              "      <td>652015</td>\n",
              "      <td>39082</td>\n",
              "      <td>4.522879</td>\n",
              "      <td>7</td>\n",
              "      <td>44611875</td>\n",
              "      <td>C1CCN(CC1)CCCCNC(=O)NC2=CN=C(C=C2)C3=CN=C(C=C3)F</td>\n",
              "      <td>O=C(NCCCCN1CCCCC1)Nc1ccc(-c2ccc(F)nc2)nc1</td>\n",
              "    </tr>\n",
              "  </tbody>\n",
              "</table>\n",
              "</div>"
            ],
            "text/plain": [
              "     compound_id  ...                                       rdkit_smiles\n",
              "0   CHEMBL100086  ...  COc1cccc(CN2CCN(C3CCC(O)(c4ccc5c(c4)OCO5)CC3)C...\n",
              "1  CHEMBL1082723  ...  CC1Cc2c([nH]c3cc(Cl)c(F)cc23)C2(N1)C(=O)Nc1ccc...\n",
              "2  CHEMBL1083485  ...            O=C(NCCCCN1CCCCC1)Nc1ccc(-c2ccccc2F)nc1\n",
              "3  CHEMBL1083787  ...          O=C(NCCCCN1CCCCC1)Nc1ccc(-c2ccc(F)cc2)nc1\n",
              "4  CHEMBL1083788  ...          O=C(NCCCCN1CCCCC1)Nc1ccc(-c2ccc(F)nc2)nc1\n",
              "\n",
              "[5 rows x 48 columns]"
            ]
          },
          "metadata": {
            "tags": []
          },
          "execution_count": 31
        }
      ]
    },
    {
      "cell_type": "markdown",
      "metadata": {
        "id": "miN7240L-Bc4"
      },
      "source": [
        "## Use AMPL for transforming IC50 values"
      ]
    },
    {
      "cell_type": "code",
      "metadata": {
        "colab": {
          "base_uri": "https://localhost:8080/",
          "height": 441
        },
        "id": "inaUPauW-BFE",
        "outputId": "8b0ab7d4-37e4-47c1-8393-31f34b81c6b1"
      },
      "source": [
        "# From our dataframe, we are working with the PIC50 column \r\n",
        "# !=np.inf uses the Numpy library and the != portion checks to see if the value \r\n",
        "# of two operands, the object of an operation, are equal. If they are not equal the \r\n",
        "# condition is true\r\n",
        "# The np.inf portion indicates the Numpy module which can be used to represent \r\n",
        "# positive infinite value\r\n",
        "data=save_smiles_df[save_smiles_df['PIC50'] != np.inf]\r\n",
        "\r\n",
        "# Here we are defining our column, which will be PIC50\r\n",
        "column = 'PIC50'\r\n",
        "\r\n",
        "# Here we are using the num_bins parameter to determine the number of bins our data will be divided into, creating 20 different peaks\r\n",
        "# These peaks will be visualized on our graph\r\n",
        "num_bins = 20\r\n",
        "\r\n",
        "# Here we are setting our title for the graph as our target name \r\n",
        "title = target_name\r\n",
        "\r\n",
        "# Here we are specifying the units that are used, which in our case we are using nanometers \r\n",
        "units = 'NM'\r\n",
        "\r\n",
        "# Using the filepath function, we are defining our file\r\n",
        "filepath = \"\"\r\n",
        "\r\n",
        "# This is the same variable we created earlier called data \r\n",
        "data=save_smiles_df[save_smiles_df['PIC50'] != np.inf]\r\n",
        "\r\n",
        "# Using the summarize_data submodule, we are going to compile a set of data summarization tools to calculate several descriptive features\r\n",
        "# These features include: column, num_bins, title, units, filepath, and data\r\n",
        "curate_data.summarize_data(column, num_bins, title, units, filepath, data)"
      ],
      "execution_count": null,
      "outputs": [
        {
          "output_type": "stream",
          "text": [
            "Post-processing dataset\n",
            "\n",
            "Total Number of results = 201\n",
            "dataset mean = 5.682681421160519 NM\n",
            "dataset stdev = 1.3203018488059404 NM\n",
            "dataset max = 10.045757490560675 NM\n",
            "dataset min = 3.6000000054478725 NM\n",
            "\n"
          ],
          "name": "stdout"
        },
        {
          "output_type": "display_data",
          "data": {
            "image/png": "[encoded data removed]",
            "text/plain": [
              "<Figure size 432x288 with 1 Axes>"
            ]
          },
          "metadata": {
            "tags": [],
            "needs_background": "light"
          }
        }
      ]
    },
    {
      "cell_type": "markdown",
      "metadata": {
        "id": "Zy41q3hXHwsL"
      },
      "source": [
        "## Let us cluster the compounds to explore the chemical space\n",
        "\n",
        "\n",
        "Project compounds into two dimensions with UMAP and Tanimoto similiarty\n",
        "\n",
        "1.   Cluster compounds by Tanimoto similarity\n",
        "2.   Repeat steps 1 and 2 with Maximum Common Substructure distance when dataset size is below # threshold (default < 300)\n",
        "\n",
        "See documentation here:\n",
        " https://ampl.readthedocs.io/en/latest/pipeline.html?highlight=diversity_plots#pipeline.diversity_plots.diversity_plots\n",
        "\n",
        " </li>"
      ]
    },
    {
      "cell_type": "markdown",
      "metadata": {
        "id": "2WDdVKbYHwsM"
      },
      "source": [
        "# Save output from clustering heatmap to image and upload to presentation"
      ]
    },
    {
      "cell_type": "code",
      "metadata": {
        "scrolled": false,
        "id": "4QproMuzHwsM"
      },
      "source": [
        "# ifile=tmp_dir+target_name+'_excape.csv.'+username\n",
        "ifile = target_name+'_dtc_smiles.csv'"
      ],
      "execution_count": null,
      "outputs": []
    },
    {
      "cell_type": "markdown",
      "metadata": {
        "id": "yAzI5OzjHwsM"
      },
      "source": [
        "# Plot self similarity (Tanimoto) within dataset and show distribution of distances between compounds in dataset for nearest neighbor.\n",
        "\n",
        "## Save  distribution plot as an image.\n",
        "\n",
        "We will be calling dp.diversity_function from AMPL in the following code chunk. For AMPL function explanations, \n",
        "please consult AMPL documentation here, https://ampl.readthedocs.io/en/latest/pipeline.html?highlight=diversity_plots#pipeline.diversity_plots.diversity_plots "
      ]
    },
    {
      "cell_type": "markdown",
      "metadata": {
        "id": "tFC7Syc6gYBi"
      },
      "source": [
        "## Here is a brief explanation of `dp` function: \r\n",
        "\r\n",
        "### The AMPL function will calculate diversity profile for the data. \r\n",
        "\r\n",
        "### Input Args:\r\n",
        "\r\n",
        "\r\n",
        "*   **dset_key:** : Name of the input data variable \r\n",
        "*   **datastore** : \r\n",
        "*   **id_col**    : Ambit_InchiKey, it is a chemical identifier for the compound or drug molecules. Please check here for a detailed explanation of InChiKey, https://en.wikipedia.org/wiki/International_Chemical_Identifier#:~:text=%2B%2Fm0%2Fs1-,InChIKey,hashed%20counterpart%20of%20standard%20InChI. In this case, Excape is using InChiKey generated from Ambit\r\n",
        "*   **response_col**: Outcome column, in out case it is pXC50\r\n",
        "\r\n",
        "## `dp.diversity_plots` function\r\n",
        "\r\n",
        "*    Computes Fingerprints \r\n",
        "*    If the number of compounds are > 300, it will compute Fingerprints and use it to compute Tanimoto distance matrix. plot the distances using UMAP projection and cluster (complete cluster method will be used) the distances to create a heatmap\r\n",
        "*   If the number of compounds are < 100, MCS (Maximum Common Substructure) will be used for clustering in addition the above step. \r\n",
        "\r\n",
        "\r\n",
        "## Helpful links\r\n",
        "\r\n",
        "* Tanimoto \r\n",
        "    * https://en.wikipedia.org/wiki/Jaccard_index\r\n",
        "    * https://en.wikipedia.org/wiki/Chemical_similarity\r\n",
        "* UMAP\r\n",
        "    * https://pair-code.github.io/understanding-umap/\r\n",
        "* MCS\r\n",
        "    * https://www.ncbi.nlm.nih.gov/pmc/articles/PMC2718661/ "
      ]
    },
    {
      "cell_type": "code",
      "metadata": {
        "colab": {
          "base_uri": "https://localhost:8080/",
          "height": 1000
        },
        "id": "geRQnqPngVMo",
        "outputId": "34972ec4-5369-49eb-c21a-e6cafcfac57c"
      },
      "source": [
        "dp.diversity_plots(dset_key = ifile,\r\n",
        "                   datastore = False,\r\n",
        "                   response_col = 'PIC50',\r\n",
        "                   max_for_mcs = 100)"
      ],
      "execution_count": null,
      "outputs": [
        {
          "output_type": "stream",
          "text": [
            "Canonicalizing 172 molecules...\n",
            "Done\n",
            "Computing fingerprints...\n",
            "Done\n",
            "Computing Tanimoto distance matrix...\n",
            "Done\n"
          ],
          "name": "stdout"
        },
        {
          "output_type": "display_data",
          "data": {
            "image/png": "[encoded data removed]",
            "text/plain": [
              "<Figure size 864x864 with 1 Axes>"
            ]
          },
          "metadata": {
            "tags": [],
            "needs_background": "light"
          }
        },
        {
          "output_type": "display_data",
          "data": {
            "image/png": "[encoded data removed]",
            "text/plain": [
              "<Figure size 864x864 with 4 Axes>"
            ]
          },
          "metadata": {
            "tags": [],
            "needs_background": "light"
          }
        }
      ]
    },
    {
      "cell_type": "code",
      "metadata": {
        "colab": {
          "base_uri": "https://localhost:8080/"
        },
        "id": "CQLUJL5_Aq2g",
        "outputId": "549459ce-d4a5-4060-d505-cd19a19b26e0"
      },
      "source": [
        "data.shape"
      ],
      "execution_count": null,
      "outputs": [
        {
          "output_type": "execute_result",
          "data": {
            "text/plain": [
              "(220, 48)"
            ]
          },
          "metadata": {
            "tags": []
          },
          "execution_count": 43
        }
      ]
    },
    {
      "cell_type": "markdown",
      "metadata": {
        "id": "JWr5VyXpqpM1"
      },
      "source": [
        "## Self similarity (Tanimoto) \r\n",
        "\r\n",
        "Calculate self-similarity (using Tanimoto) for the dataset and plot the distanes. "
      ]
    },
    {
      "cell_type": "code",
      "metadata": {
        "scrolled": true,
        "id": "tG_217EPHwsM"
      },
      "source": [
        "feat_type = 'ECFP'\n",
        "dist_metric = 'tanimoto'\n",
        "smiles_lst1 = data['rdkit_smiles'].tolist()\n",
        "calc_type = 'nearest'\n",
        "dist_sample = cd.calc_dist_smiles(feat_type, dist_metric, smiles_lst1, None, calc_type)"
      ],
      "execution_count": null,
      "outputs": []
    },
    {
      "cell_type": "code",
      "metadata": {
        "colab": {
          "base_uri": "https://localhost:8080/"
        },
        "id": "hCD85wGzx7gW",
        "outputId": "518dfe99-2681-4a94-ec12-a501355a2c53"
      },
      "source": [
        "print(len(dist_sample))\r\n",
        "print(len(smiles_lst1))"
      ],
      "execution_count": null,
      "outputs": [
        {
          "output_type": "stream",
          "text": [
            "201\n",
            "201\n"
          ],
          "name": "stdout"
        }
      ]
    },
    {
      "cell_type": "markdown",
      "metadata": {
        "id": "ecuqss6kgl7I"
      },
      "source": [
        "## What does **calc_dist_smiles** function return? \r\n",
        "\r\n",
        "\r\n",
        "*   input is a list of SMILES strings\r\n",
        "*   data featurization: ECFP (Fingerprint)\r\n",
        "*   What distance metric to use? Tanimoto\r\n",
        "*   How to process distance matrix, nearest ?\r\n",
        "*   returns a distance matrix as a vector of distances\r\n",
        "\r\n",
        "Here is the function summary:\r\n",
        "\r\n",
        "*   rdkit is used to transform SMILES to mols\r\n",
        "*   mols to FP (Morgan, 1024 FP)\r\n",
        "*   calls calc_summary with the following options: \r\n",
        "         * fprints1 is the FP \r\n",
        "         * fprints2 is none \r\n",
        "         * dist_metrics will return a distance matrix\r\n",
        "    calc_summary(dist_metrics.tanimoto(fprints1, fprints2), calc_type=nearest, num_nearest=1, within_dset=True)\r\n",
        "\r\n",
        "* Finally, returns the distances of each atom to its closest neighbor \r\n"
      ]
    },
    {
      "cell_type": "markdown",
      "metadata": {
        "id": "H8En9iSCrHnA"
      },
      "source": [
        "\r\n",
        "## Explanation for the following code chunk\r\n",
        "\r\n",
        "* **scipy.stats.kde** will use kernel density function to estimate the probability density function (PDE)\r\n",
        "---\r\n",
        "\r\n"
      ]
    },
    {
      "cell_type": "code",
      "metadata": {
        "scrolled": false,
        "id": "vcXZQBLrHwsN",
        "colab": {
          "base_uri": "https://localhost:8080/",
          "height": 534
        },
        "outputId": "149b6528-6cdc-4729-b447-75ac60952c87"
      },
      "source": [
        "from scipy.stats.kde import gaussian_kde\n",
        "\n",
        "# import math library\n",
        "import numpy as np\n",
        "\n",
        "# for creating plots\n",
        "import matplotlib.pyplot as plt\n",
        "\n",
        "# current directory\n",
        "odir='./'\n",
        "\n",
        "# name for the task\n",
        "task_name='within dataset'\n",
        "\n",
        "# https://docs.scipy.org/doc/scipy/reference/generated/scipy.stats.gaussian_kde.html\n",
        "dist_pdf = gaussian_kde(dist_sample)\n",
        "x_plt = np.linspace(min(dist_sample), max(dist_sample), 500)\n",
        "y_plt = dist_pdf(x_plt)    \n",
        "fig, ax = plt.subplots(figsize=(8.0,8.0))\n",
        "ax.plot(x_plt, y_plt, color='forestgreen')\n",
        "ax.set_xlabel('%s distance' % dist_metric)\n",
        "ax.set_ylabel('Density')\n",
        "ax.set_title(\"%s dataset\\nDistribution of %s distances between %s feature vectors\" % (\n",
        "              task_name, dist_metric, feat_type))\n",
        "fig.savefig(odir+'distance_to_background_mol.png')"
      ],
      "execution_count": null,
      "outputs": [
        {
          "output_type": "display_data",
          "data": {
            "image/png": "[encoded data removed]",
            "text/plain": [
              "<Figure size 576x576 with 1 Axes>"
            ]
          },
          "metadata": {
            "tags": [],
            "needs_background": "light"
          }
        }
      ]
    },
    {
      "cell_type": "code",
      "metadata": {
        "id": "101z-_vAhdlp",
        "colab": {
          "base_uri": "https://localhost:8080/"
        },
        "outputId": "beebd59f-7f51-4b31-faf1-1d0d98006102"
      },
      "source": [
        "!date # ending time"
      ],
      "execution_count": null,
      "outputs": [
        {
          "output_type": "stream",
          "text": [
            "Fri Feb 12 20:53:04 UTC 2021\n"
          ],
          "name": "stdout"
        }
      ]
    },
    {
      "cell_type": "code",
      "metadata": {
        "id": "ccA_urdUgRoz"
      },
      "source": [
        ""
      ],
      "execution_count": null,
      "outputs": []
    }
  ]
}