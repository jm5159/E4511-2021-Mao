{
  "nbformat": 4,
  "nbformat_minor": 0,
  "metadata": {
    "colab": {
      "name": "modeling.ipynb",
      "provenance": [],
      "collapsed_sections": [],
      "machine_shape": "hm",
      "include_colab_link": true
    },
    "kernelspec": {
      "name": "python3",
      "display_name": "Python 3"
    },
    "accelerator": "GPU"
  },
  "cells": [
    {
      "cell_type": "markdown",
      "metadata": {
        "id": "view-in-github",
        "colab_type": "text"
      },
      "source": [
        "<a href=\"https://colab.research.google.com/github/jm5159/E4511-2021-Mao/blob/master/modeling.ipynb\" target=\"_parent\"><img src=\"https://colab.research.google.com/assets/colab-badge.svg\" alt=\"Open In Colab\"/></a>"
      ]
    },
    {
      "cell_type": "markdown",
      "metadata": {
        "id": "SZ70ierx3pq2"
      },
      "source": [
        "### Install AMPL packages"
      ]
    },
    {
      "cell_type": "code",
      "metadata": {
        "id": "dYPEij6rwDmP",
        "colab": {
          "base_uri": "https://localhost:8080/"
        },
        "outputId": "a56c0284-3b38-4789-8173-93371ab50527"
      },
      "source": [
        "%tensorflow_version 1.x"
      ],
      "execution_count": 1,
      "outputs": [
        {
          "output_type": "stream",
          "text": [
            "TensorFlow 1.x selected.\n"
          ],
          "name": "stdout"
        }
      ]
    },
    {
      "cell_type": "code",
      "metadata": {
        "id": "nNuv4Q5KFABw",
        "colab": {
          "base_uri": "https://localhost:8080/"
        },
        "outputId": "bf26a3e5-3a9d-4408-e952-36df6e0f6fdf"
      },
      "source": [
        "! wget -c https://repo.anaconda.com/archive/Anaconda3-2019.10-Linux-x86_64.sh\n",
        "! chmod +x Anaconda3-2019.10-Linux-x86_64.sh\n",
        "! bash ./Anaconda3-2019.10-Linux-x86_64.sh -b -f -p /usr/local\n",
        "\n",
        "# ! wget -c https://repo.anaconda.com/miniconda/Miniconda3-py37_4.9.2-Linux-x86_64.sh \n",
        "# ! chmod +x Miniconda3-py37_4.9.2-Linux-x86_64.sh\n",
        "# ! time bash Miniconda3-py37_4.9.2-Linux-x86_64.sh -b -f -p /usr/local\n",
        "\n",
        "! time conda install -y -c deepchem -c rdkit -c conda-forge -c omnia deepchem-gpu=2.3.0\n",
        "import sys\n",
        "sys.path.append('/usr/local/lib/python3.7/site-packages/')\n",
        "import deepchem as dc\n",
        "\n",
        "# install mordred, bravado and molvs\n",
        "! time conda install -c conda-forge -y mordred bravado molvs\n",
        "\n",
        "# get the Install AMPL_GPU_test.sh\n",
        "!wget https://raw.githubusercontent.com/ravichas/AMPL-Tutorial/master/config/install_AMPL_GPU_test.sh\n",
        "\n",
        "# run the script to install AMPL\n",
        "! chmod u+x install_AMPL_GPU_test.sh\n",
        "! ./install_AMPL_GPU_test.sh"
      ],
      "execution_count": 2,
      "outputs": [
        {
          "output_type": "stream",
          "text": [
            "--2021-04-01 18:00:53--  https://repo.anaconda.com/archive/Anaconda3-2019.10-Linux-x86_64.sh\n",
            "Resolving repo.anaconda.com (repo.anaconda.com)... 104.16.131.3, 104.16.130.3, 2606:4700::6810:8303, ...\n",
            "Connecting to repo.anaconda.com (repo.anaconda.com)|104.16.131.3|:443... connected.\n",
            "HTTP request sent, awaiting response... 200 OK\n",
            "Length: 530308481 (506M) [application/x-sh]\n",
            "Saving to: ‘Anaconda3-2019.10-Linux-x86_64.sh’\n",
            "\n",
            "Anaconda3-2019.10-L 100%[===================>] 505.74M   203MB/s    in 2.5s    \n",
            "\n",
            "2021-04-01 18:00:56 (203 MB/s) - ‘Anaconda3-2019.10-Linux-x86_64.sh’ saved [530308481/530308481]\n",
            "\n",
            "PREFIX=/usr/local\n",
            "Unpacking payload ...\n",
            "Collecting package metadata (current_repodata.json): - \b\b\\ \b\b| \b\b/ \b\b- \b\b\\ \b\b| \b\bdone\n",
            "Solving environment: - \b\b\\ \b\b| \b\b/ \b\b- \b\b\\ \b\b| \b\b/ \b\b- \b\b\\ \b\b| \b\b/ \b\b- \b\b\\ \b\bdone\n",
            "\n",
            "## Package Plan ##\n",
            "\n",
            "  environment location: /usr/local\n",
            "\n",
            "  added / updated specs:\n",
            "    - _ipyw_jlab_nb_ext_conf==0.1.0=py37_0\n",
            "    - _libgcc_mutex==0.1=main\n",
            "    - alabaster==0.7.12=py37_0\n",
            "    - anaconda-client==1.7.2=py37_0\n",
            "    - anaconda-navigator==1.9.7=py37_0\n",
            "    - anaconda-project==0.8.3=py_0\n",
            "    - anaconda==2019.10=py37_0\n",
            "    - asn1crypto==1.0.1=py37_0\n",
            "    - astroid==2.3.1=py37_0\n",
            "    - astropy==3.2.2=py37h7b6447c_0\n",
            "    - atomicwrites==1.3.0=py37_1\n",
            "    - attrs==19.2.0=py_0\n",
            "    - babel==2.7.0=py_0\n",
            "    - backcall==0.1.0=py37_0\n",
            "    - backports.functools_lru_cache==1.5=py_2\n",
            "    - backports.os==0.1.1=py37_0\n",
            "    - backports.shutil_get_terminal_size==1.0.0=py37_2\n",
            "    - backports.tempfile==1.0=py_1\n",
            "    - backports.weakref==1.0.post1=py_1\n",
            "    - backports==1.0=py_2\n",
            "    - beautifulsoup4==4.8.0=py37_0\n",
            "    - bitarray==1.0.1=py37h7b6447c_0\n",
            "    - bkcharts==0.2=py37_0\n",
            "    - blas==1.0=mkl\n",
            "    - bleach==3.1.0=py37_0\n",
            "    - blosc==1.16.3=hd408876_0\n",
            "    - bokeh==1.3.4=py37_0\n",
            "    - boto==2.49.0=py37_0\n",
            "    - bottleneck==1.2.1=py37h035aef0_1\n",
            "    - bzip2==1.0.8=h7b6447c_0\n",
            "    - ca-certificates==2019.8.28=0\n",
            "    - cairo==1.14.12=h8948797_3\n",
            "    - certifi==2019.9.11=py37_0\n",
            "    - cffi==1.12.3=py37h2e261b9_0\n",
            "    - chardet==3.0.4=py37_1003\n",
            "    - click==7.0=py37_0\n",
            "    - cloudpickle==1.2.2=py_0\n",
            "    - clyent==1.2.2=py37_1\n",
            "    - colorama==0.4.1=py37_0\n",
            "    - conda-build==3.18.9=py37_3\n",
            "    - conda-env==2.6.0=1\n",
            "    - conda-package-handling==1.6.0=py37h7b6447c_0\n",
            "    - conda-verify==3.4.2=py_1\n",
            "    - conda==4.7.12=py37_0\n",
            "    - contextlib2==0.6.0=py_0\n",
            "    - cryptography==2.7=py37h1ba5d50_0\n",
            "    - curl==7.65.3=hbc83047_0\n",
            "    - cycler==0.10.0=py37_0\n",
            "    - cython==0.29.13=py37he6710b0_0\n",
            "    - cytoolz==0.10.0=py37h7b6447c_0\n",
            "    - dask-core==2.5.2=py_0\n",
            "    - dask==2.5.2=py_0\n",
            "    - dbus==1.13.6=h746ee38_0\n",
            "    - decorator==4.4.0=py37_1\n",
            "    - defusedxml==0.6.0=py_0\n",
            "    - distributed==2.5.2=py_0\n",
            "    - docutils==0.15.2=py37_0\n",
            "    - entrypoints==0.3=py37_0\n",
            "    - et_xmlfile==1.0.1=py37_0\n",
            "    - expat==2.2.6=he6710b0_0\n",
            "    - fastcache==1.1.0=py37h7b6447c_0\n",
            "    - filelock==3.0.12=py_0\n",
            "    - flask==1.1.1=py_0\n",
            "    - fontconfig==2.13.0=h9420a91_0\n",
            "    - freetype==2.9.1=h8a8886c_1\n",
            "    - fribidi==1.0.5=h7b6447c_0\n",
            "    - fsspec==0.5.2=py_0\n",
            "    - future==0.17.1=py37_0\n",
            "    - get_terminal_size==1.0.0=haa9412d_0\n",
            "    - gevent==1.4.0=py37h7b6447c_0\n",
            "    - glib==2.56.2=hd408876_0\n",
            "    - glob2==0.7=py_0\n",
            "    - gmp==6.1.2=h6c8ec71_1\n",
            "    - gmpy2==2.0.8=py37h10f8cd9_2\n",
            "    - graphite2==1.3.13=h23475e2_0\n",
            "    - greenlet==0.4.15=py37h7b6447c_0\n",
            "    - gst-plugins-base==1.14.0=hbbd80ab_1\n",
            "    - gstreamer==1.14.0=hb453b48_1\n",
            "    - h5py==2.9.0=py37h7918eee_0\n",
            "    - harfbuzz==1.8.8=hffaf4a1_0\n",
            "    - hdf5==1.10.4=hb1b8bf9_0\n",
            "    - heapdict==1.0.1=py_0\n",
            "    - html5lib==1.0.1=py37_0\n",
            "    - icu==58.2=h9c2bf20_1\n",
            "    - idna==2.8=py37_0\n",
            "    - imageio==2.6.0=py37_0\n",
            "    - imagesize==1.1.0=py37_0\n",
            "    - importlib_metadata==0.23=py37_0\n",
            "    - intel-openmp==2019.4=243\n",
            "    - ipykernel==5.1.2=py37h39e3cac_0\n",
            "    - ipython==7.8.0=py37h39e3cac_0\n",
            "    - ipython_genutils==0.2.0=py37_0\n",
            "    - ipywidgets==7.5.1=py_0\n",
            "    - isort==4.3.21=py37_0\n",
            "    - itsdangerous==1.1.0=py37_0\n",
            "    - jbig==2.1=hdba287a_0\n",
            "    - jdcal==1.4.1=py_0\n",
            "    - jedi==0.15.1=py37_0\n",
            "    - jeepney==0.4.1=py_0\n",
            "    - jinja2==2.10.3=py_0\n",
            "    - joblib==0.13.2=py37_0\n",
            "    - jpeg==9b=h024ee3a_2\n",
            "    - json5==0.8.5=py_0\n",
            "    - jsonschema==3.0.2=py37_0\n",
            "    - jupyter==1.0.0=py37_7\n",
            "    - jupyter_client==5.3.3=py37_1\n",
            "    - jupyter_console==6.0.0=py37_0\n",
            "    - jupyter_core==4.5.0=py_0\n",
            "    - jupyterlab==1.1.4=pyhf63ae98_0\n",
            "    - jupyterlab_server==1.0.6=py_0\n",
            "    - keyring==18.0.0=py37_0\n",
            "    - kiwisolver==1.1.0=py37he6710b0_0\n",
            "    - krb5==1.16.1=h173b8e3_7\n",
            "    - lazy-object-proxy==1.4.2=py37h7b6447c_0\n",
            "    - libarchive==3.3.3=h5d8350f_5\n",
            "    - libcurl==7.65.3=h20c2e04_0\n",
            "    - libedit==3.1.20181209=hc058e9b_0\n",
            "    - libffi==3.2.1=hd88cf55_4\n",
            "    - libgcc-ng==9.1.0=hdf63c60_0\n",
            "    - libgfortran-ng==7.3.0=hdf63c60_0\n",
            "    - liblief==0.9.0=h7725739_2\n",
            "    - libpng==1.6.37=hbc83047_0\n",
            "    - libsodium==1.0.16=h1bed415_0\n",
            "    - libssh2==1.8.2=h1ba5d50_0\n",
            "    - libstdcxx-ng==9.1.0=hdf63c60_0\n",
            "    - libtiff==4.0.10=h2733197_2\n",
            "    - libtool==2.4.6=h7b6447c_5\n",
            "    - libuuid==1.0.3=h1bed415_2\n",
            "    - libxcb==1.13=h1bed415_1\n",
            "    - libxml2==2.9.9=hea5a465_1\n",
            "    - libxslt==1.1.33=h7d1a2b0_0\n",
            "    - llvmlite==0.29.0=py37hd408876_0\n",
            "    - locket==0.2.0=py37_1\n",
            "    - lxml==4.4.1=py37hefd8a0e_0\n",
            "    - lz4-c==1.8.1.2=h14c3975_0\n",
            "    - lzo==2.10=h49e0be7_2\n",
            "    - markupsafe==1.1.1=py37h7b6447c_0\n",
            "    - matplotlib==3.1.1=py37h5429711_0\n",
            "    - mccabe==0.6.1=py37_1\n",
            "    - mistune==0.8.4=py37h7b6447c_0\n",
            "    - mkl-service==2.3.0=py37he904b0f_0\n",
            "    - mkl==2019.4=243\n",
            "    - mkl_fft==1.0.14=py37ha843d7b_0\n",
            "    - mkl_random==1.1.0=py37hd6b4f25_0\n",
            "    - mock==3.0.5=py37_0\n",
            "    - more-itertools==7.2.0=py37_0\n",
            "    - mpc==1.1.0=h10f8cd9_1\n",
            "    - mpfr==4.0.1=hdf1c602_3\n",
            "    - mpmath==1.1.0=py37_0\n",
            "    - msgpack-python==0.6.1=py37hfd86e86_1\n",
            "    - multipledispatch==0.6.0=py37_0\n",
            "    - navigator-updater==0.2.1=py37_0\n",
            "    - nbconvert==5.6.0=py37_1\n",
            "    - nbformat==4.4.0=py37_0\n",
            "    - ncurses==6.1=he6710b0_1\n",
            "    - networkx==2.3=py_0\n",
            "    - nltk==3.4.5=py37_0\n",
            "    - nose==1.3.7=py37_2\n",
            "    - notebook==6.0.1=py37_0\n",
            "    - numba==0.45.1=py37h962f231_0\n",
            "    - numexpr==2.7.0=py37h9e4a6bb_0\n",
            "    - numpy-base==1.17.2=py37hde5b4d6_0\n",
            "    - numpy==1.17.2=py37haad9e8e_0\n",
            "    - numpydoc==0.9.1=py_0\n",
            "    - olefile==0.46=py37_0\n",
            "    - openpyxl==3.0.0=py_0\n",
            "    - openssl==1.1.1d=h7b6447c_2\n",
            "    - packaging==19.2=py_0\n",
            "    - pandas==0.25.1=py37he6710b0_0\n",
            "    - pandoc==2.2.3.2=0\n",
            "    - pandocfilters==1.4.2=py37_1\n",
            "    - pango==1.42.4=h049681c_0\n",
            "    - parso==0.5.1=py_0\n",
            "    - partd==1.0.0=py_0\n",
            "    - patchelf==0.9=he6710b0_3\n",
            "    - path.py==12.0.1=py_0\n",
            "    - pathlib2==2.3.5=py37_0\n",
            "    - patsy==0.5.1=py37_0\n",
            "    - pcre==8.43=he6710b0_0\n",
            "    - pep8==1.7.1=py37_0\n",
            "    - pexpect==4.7.0=py37_0\n",
            "    - pickleshare==0.7.5=py37_0\n",
            "    - pillow==6.2.0=py37h34e0f95_0\n",
            "    - pip==19.2.3=py37_0\n",
            "    - pixman==0.38.0=h7b6447c_0\n",
            "    - pkginfo==1.5.0.1=py37_0\n",
            "    - pluggy==0.13.0=py37_0\n",
            "    - ply==3.11=py37_0\n",
            "    - prometheus_client==0.7.1=py_0\n",
            "    - prompt_toolkit==2.0.10=py_0\n",
            "    - psutil==5.6.3=py37h7b6447c_0\n",
            "    - ptyprocess==0.6.0=py37_0\n",
            "    - py-lief==0.9.0=py37h7725739_2\n",
            "    - py==1.8.0=py37_0\n",
            "    - pycodestyle==2.5.0=py37_0\n",
            "    - pycosat==0.6.3=py37h14c3975_0\n",
            "    - pycparser==2.19=py37_0\n",
            "    - pycrypto==2.6.1=py37h14c3975_9\n",
            "    - pycurl==7.43.0.3=py37h1ba5d50_0\n",
            "    - pyflakes==2.1.1=py37_0\n",
            "    - pygments==2.4.2=py_0\n",
            "    - pylint==2.4.2=py37_0\n",
            "    - pyodbc==4.0.27=py37he6710b0_0\n",
            "    - pyopenssl==19.0.0=py37_0\n",
            "    - pyparsing==2.4.2=py_0\n",
            "    - pyqt==5.9.2=py37h05f1152_2\n",
            "    - pyrsistent==0.15.4=py37h7b6447c_0\n",
            "    - pysocks==1.7.1=py37_0\n",
            "    - pytables==3.5.2=py37h71ec239_1\n",
            "    - pytest-arraydiff==0.3=py37h39e3cac_0\n",
            "    - pytest-astropy==0.5.0=py37_0\n",
            "    - pytest-doctestplus==0.4.0=py_0\n",
            "    - pytest-openfiles==0.4.0=py_0\n",
            "    - pytest-remotedata==0.3.2=py37_0\n",
            "    - pytest==5.2.1=py37_0\n",
            "    - python-dateutil==2.8.0=py37_0\n",
            "    - python-libarchive-c==2.8=py37_13\n",
            "    - python==3.7.4=h265db76_1\n",
            "    - pytz==2019.3=py_0\n",
            "    - pywavelets==1.0.3=py37hdd07704_1\n",
            "    - pyyaml==5.1.2=py37h7b6447c_0\n",
            "    - pyzmq==18.1.0=py37he6710b0_0\n",
            "    - qt==5.9.7=h5867ecd_1\n",
            "    - qtawesome==0.6.0=py_0\n",
            "    - qtconsole==4.5.5=py_0\n",
            "    - qtpy==1.9.0=py_0\n",
            "    - readline==7.0=h7b6447c_5\n",
            "    - requests==2.22.0=py37_0\n",
            "    - ripgrep==0.10.0=hc07d326_0\n",
            "    - rope==0.14.0=py_0\n",
            "    - ruamel_yaml==0.15.46=py37h14c3975_0\n",
            "    - scikit-image==0.15.0=py37he6710b0_0\n",
            "    - scikit-learn==0.21.3=py37hd81dba3_0\n",
            "    - scipy==1.3.1=py37h7c811a0_0\n",
            "    - seaborn==0.9.0=py37_0\n",
            "    - secretstorage==3.1.1=py37_0\n",
            "    - send2trash==1.5.0=py37_0\n",
            "    - setuptools==41.4.0=py37_0\n",
            "    - simplegeneric==0.8.1=py37_2\n",
            "    - singledispatch==3.4.0.3=py37_0\n",
            "    - sip==4.19.8=py37hf484d3e_0\n",
            "    - six==1.12.0=py37_0\n",
            "    - snappy==1.1.7=hbae5bb6_3\n",
            "    - snowballstemmer==2.0.0=py_0\n",
            "    - sortedcollections==1.1.2=py37_0\n",
            "    - sortedcontainers==2.1.0=py37_0\n",
            "    - soupsieve==1.9.3=py37_0\n",
            "    - sphinx==2.2.0=py_0\n",
            "    - sphinxcontrib-applehelp==1.0.1=py_0\n",
            "    - sphinxcontrib-devhelp==1.0.1=py_0\n",
            "    - sphinxcontrib-htmlhelp==1.0.2=py_0\n",
            "    - sphinxcontrib-jsmath==1.0.1=py_0\n",
            "    - sphinxcontrib-qthelp==1.0.2=py_0\n",
            "    - sphinxcontrib-serializinghtml==1.1.3=py_0\n",
            "    - sphinxcontrib-websupport==1.1.2=py_0\n",
            "    - sphinxcontrib==1.0=py37_1\n",
            "    - spyder-kernels==0.5.2=py37_0\n",
            "    - spyder==3.3.6=py37_0\n",
            "    - sqlalchemy==1.3.9=py37h7b6447c_0\n",
            "    - sqlite==3.30.0=h7b6447c_0\n",
            "    - statsmodels==0.10.1=py37hdd07704_0\n",
            "    - sympy==1.4=py37_0\n",
            "    - tbb==2019.4=hfd86e86_0\n",
            "    - tblib==1.4.0=py_0\n",
            "    - terminado==0.8.2=py37_0\n",
            "    - testpath==0.4.2=py37_0\n",
            "    - tk==8.6.8=hbc83047_0\n",
            "    - toolz==0.10.0=py_0\n",
            "    - tornado==6.0.3=py37h7b6447c_0\n",
            "    - tqdm==4.36.1=py_0\n",
            "    - traitlets==4.3.3=py37_0\n",
            "    - unicodecsv==0.14.1=py37_0\n",
            "    - unixodbc==2.3.7=h14c3975_0\n",
            "    - urllib3==1.24.2=py37_0\n",
            "    - wcwidth==0.1.7=py37_0\n",
            "    - webencodings==0.5.1=py37_1\n",
            "    - werkzeug==0.16.0=py_0\n",
            "    - wheel==0.33.6=py37_0\n",
            "    - widgetsnbextension==3.5.1=py37_0\n",
            "    - wrapt==1.11.2=py37h7b6447c_0\n",
            "    - wurlitzer==1.0.3=py37_0\n",
            "    - xlrd==1.2.0=py37_0\n",
            "    - xlsxwriter==1.2.1=py_0\n",
            "    - xlwt==1.3.0=py37_0\n",
            "    - xz==5.2.4=h14c3975_4\n",
            "    - yaml==0.1.7=had09818_2\n",
            "    - zeromq==4.3.1=he6710b0_3\n",
            "    - zict==1.0.0=py_0\n",
            "    - zipp==0.6.0=py_0\n",
            "    - zlib==1.2.11=h7b6447c_3\n",
            "    - zstd==1.3.7=h0b5b093_0\n",
            "\n",
            "\n",
            "The following NEW packages will be INSTALLED:\n",
            "\n",
            "  _ipyw_jlab_nb_ext~ pkgs/main/linux-64::_ipyw_jlab_nb_ext_conf-0.1.0-py37_0\n",
            "  _libgcc_mutex      pkgs/main/linux-64::_libgcc_mutex-0.1-main\n",
            "  alabaster          pkgs/main/linux-64::alabaster-0.7.12-py37_0\n",
            "  anaconda           pkgs/main/linux-64::anaconda-2019.10-py37_0\n",
            "  anaconda-client    pkgs/main/linux-64::anaconda-client-1.7.2-py37_0\n",
            "  anaconda-navigator pkgs/main/linux-64::anaconda-navigator-1.9.7-py37_0\n",
            "  anaconda-project   pkgs/main/noarch::anaconda-project-0.8.3-py_0\n",
            "  asn1crypto         pkgs/main/linux-64::asn1crypto-1.0.1-py37_0\n",
            "  astroid            pkgs/main/linux-64::astroid-2.3.1-py37_0\n",
            "  astropy            pkgs/main/linux-64::astropy-3.2.2-py37h7b6447c_0\n",
            "  atomicwrites       pkgs/main/linux-64::atomicwrites-1.3.0-py37_1\n",
            "  attrs              pkgs/main/noarch::attrs-19.2.0-py_0\n",
            "  babel              pkgs/main/noarch::babel-2.7.0-py_0\n",
            "  backcall           pkgs/main/linux-64::backcall-0.1.0-py37_0\n",
            "  backports          pkgs/main/noarch::backports-1.0-py_2\n",
            "  backports.functoo~ pkgs/main/noarch::backports.functools_lru_cache-1.5-py_2\n",
            "  backports.os       pkgs/main/linux-64::backports.os-0.1.1-py37_0\n",
            "  backports.shutil_~ pkgs/main/linux-64::backports.shutil_get_terminal_size-1.0.0-py37_2\n",
            "  backports.tempfile pkgs/main/noarch::backports.tempfile-1.0-py_1\n",
            "  backports.weakref  pkgs/main/noarch::backports.weakref-1.0.post1-py_1\n",
            "  beautifulsoup4     pkgs/main/linux-64::beautifulsoup4-4.8.0-py37_0\n",
            "  bitarray           pkgs/main/linux-64::bitarray-1.0.1-py37h7b6447c_0\n",
            "  bkcharts           pkgs/main/linux-64::bkcharts-0.2-py37_0\n",
            "  blas               pkgs/main/linux-64::blas-1.0-mkl\n",
            "  bleach             pkgs/main/linux-64::bleach-3.1.0-py37_0\n",
            "  blosc              pkgs/main/linux-64::blosc-1.16.3-hd408876_0\n",
            "  bokeh              pkgs/main/linux-64::bokeh-1.3.4-py37_0\n",
            "  boto               pkgs/main/linux-64::boto-2.49.0-py37_0\n",
            "  bottleneck         pkgs/main/linux-64::bottleneck-1.2.1-py37h035aef0_1\n",
            "  bzip2              pkgs/main/linux-64::bzip2-1.0.8-h7b6447c_0\n",
            "  ca-certificates    pkgs/main/linux-64::ca-certificates-2019.8.28-0\n",
            "  cairo              pkgs/main/linux-64::cairo-1.14.12-h8948797_3\n",
            "  certifi            pkgs/main/linux-64::certifi-2019.9.11-py37_0\n",
            "  cffi               pkgs/main/linux-64::cffi-1.12.3-py37h2e261b9_0\n",
            "  chardet            pkgs/main/linux-64::chardet-3.0.4-py37_1003\n",
            "  click              pkgs/main/linux-64::click-7.0-py37_0\n",
            "  cloudpickle        pkgs/main/noarch::cloudpickle-1.2.2-py_0\n",
            "  clyent             pkgs/main/linux-64::clyent-1.2.2-py37_1\n",
            "  colorama           pkgs/main/linux-64::colorama-0.4.1-py37_0\n",
            "  conda              pkgs/main/linux-64::conda-4.7.12-py37_0\n",
            "  conda-build        pkgs/main/linux-64::conda-build-3.18.9-py37_3\n",
            "  conda-env          pkgs/main/linux-64::conda-env-2.6.0-1\n",
            "  conda-package-han~ pkgs/main/linux-64::conda-package-handling-1.6.0-py37h7b6447c_0\n",
            "  conda-verify       pkgs/main/noarch::conda-verify-3.4.2-py_1\n",
            "  contextlib2        pkgs/main/noarch::contextlib2-0.6.0-py_0\n",
            "  cryptography       pkgs/main/linux-64::cryptography-2.7-py37h1ba5d50_0\n",
            "  curl               pkgs/main/linux-64::curl-7.65.3-hbc83047_0\n",
            "  cycler             pkgs/main/linux-64::cycler-0.10.0-py37_0\n",
            "  cython             pkgs/main/linux-64::cython-0.29.13-py37he6710b0_0\n",
            "  cytoolz            pkgs/main/linux-64::cytoolz-0.10.0-py37h7b6447c_0\n",
            "  dask               pkgs/main/noarch::dask-2.5.2-py_0\n",
            "  dask-core          pkgs/main/noarch::dask-core-2.5.2-py_0\n",
            "  dbus               pkgs/main/linux-64::dbus-1.13.6-h746ee38_0\n",
            "  decorator          pkgs/main/linux-64::decorator-4.4.0-py37_1\n",
            "  defusedxml         pkgs/main/noarch::defusedxml-0.6.0-py_0\n",
            "  distributed        pkgs/main/noarch::distributed-2.5.2-py_0\n",
            "  docutils           pkgs/main/linux-64::docutils-0.15.2-py37_0\n",
            "  entrypoints        pkgs/main/linux-64::entrypoints-0.3-py37_0\n",
            "  et_xmlfile         pkgs/main/linux-64::et_xmlfile-1.0.1-py37_0\n",
            "  expat              pkgs/main/linux-64::expat-2.2.6-he6710b0_0\n",
            "  fastcache          pkgs/main/linux-64::fastcache-1.1.0-py37h7b6447c_0\n",
            "  filelock           pkgs/main/noarch::filelock-3.0.12-py_0\n",
            "  flask              pkgs/main/noarch::flask-1.1.1-py_0\n",
            "  fontconfig         pkgs/main/linux-64::fontconfig-2.13.0-h9420a91_0\n",
            "  freetype           pkgs/main/linux-64::freetype-2.9.1-h8a8886c_1\n",
            "  fribidi            pkgs/main/linux-64::fribidi-1.0.5-h7b6447c_0\n",
            "  fsspec             pkgs/main/noarch::fsspec-0.5.2-py_0\n",
            "  future             pkgs/main/linux-64::future-0.17.1-py37_0\n",
            "  get_terminal_size  pkgs/main/linux-64::get_terminal_size-1.0.0-haa9412d_0\n",
            "  gevent             pkgs/main/linux-64::gevent-1.4.0-py37h7b6447c_0\n",
            "  glib               pkgs/main/linux-64::glib-2.56.2-hd408876_0\n",
            "  glob2              pkgs/main/noarch::glob2-0.7-py_0\n",
            "  gmp                pkgs/main/linux-64::gmp-6.1.2-h6c8ec71_1\n",
            "  gmpy2              pkgs/main/linux-64::gmpy2-2.0.8-py37h10f8cd9_2\n",
            "  graphite2          pkgs/main/linux-64::graphite2-1.3.13-h23475e2_0\n",
            "  greenlet           pkgs/main/linux-64::greenlet-0.4.15-py37h7b6447c_0\n",
            "  gst-plugins-base   pkgs/main/linux-64::gst-plugins-base-1.14.0-hbbd80ab_1\n",
            "  gstreamer          pkgs/main/linux-64::gstreamer-1.14.0-hb453b48_1\n",
            "  h5py               pkgs/main/linux-64::h5py-2.9.0-py37h7918eee_0\n",
            "  harfbuzz           pkgs/main/linux-64::harfbuzz-1.8.8-hffaf4a1_0\n",
            "  hdf5               pkgs/main/linux-64::hdf5-1.10.4-hb1b8bf9_0\n",
            "  heapdict           pkgs/main/noarch::heapdict-1.0.1-py_0\n",
            "  html5lib           pkgs/main/linux-64::html5lib-1.0.1-py37_0\n",
            "  icu                pkgs/main/linux-64::icu-58.2-h9c2bf20_1\n",
            "  idna               pkgs/main/linux-64::idna-2.8-py37_0\n",
            "  imageio            pkgs/main/linux-64::imageio-2.6.0-py37_0\n",
            "  imagesize          pkgs/main/linux-64::imagesize-1.1.0-py37_0\n",
            "  importlib_metadata pkgs/main/linux-64::importlib_metadata-0.23-py37_0\n",
            "  intel-openmp       pkgs/main/linux-64::intel-openmp-2019.4-243\n",
            "  ipykernel          pkgs/main/linux-64::ipykernel-5.1.2-py37h39e3cac_0\n",
            "  ipython            pkgs/main/linux-64::ipython-7.8.0-py37h39e3cac_0\n",
            "  ipython_genutils   pkgs/main/linux-64::ipython_genutils-0.2.0-py37_0\n",
            "  ipywidgets         pkgs/main/noarch::ipywidgets-7.5.1-py_0\n",
            "  isort              pkgs/main/linux-64::isort-4.3.21-py37_0\n",
            "  itsdangerous       pkgs/main/linux-64::itsdangerous-1.1.0-py37_0\n",
            "  jbig               pkgs/main/linux-64::jbig-2.1-hdba287a_0\n",
            "  jdcal              pkgs/main/noarch::jdcal-1.4.1-py_0\n",
            "  jedi               pkgs/main/linux-64::jedi-0.15.1-py37_0\n",
            "  jeepney            pkgs/main/noarch::jeepney-0.4.1-py_0\n",
            "  jinja2             pkgs/main/noarch::jinja2-2.10.3-py_0\n",
            "  joblib             pkgs/main/linux-64::joblib-0.13.2-py37_0\n",
            "  jpeg               pkgs/main/linux-64::jpeg-9b-h024ee3a_2\n",
            "  json5              pkgs/main/noarch::json5-0.8.5-py_0\n",
            "  jsonschema         pkgs/main/linux-64::jsonschema-3.0.2-py37_0\n",
            "  jupyter            pkgs/main/linux-64::jupyter-1.0.0-py37_7\n",
            "  jupyter_client     pkgs/main/linux-64::jupyter_client-5.3.3-py37_1\n",
            "  jupyter_console    pkgs/main/linux-64::jupyter_console-6.0.0-py37_0\n",
            "  jupyter_core       pkgs/main/noarch::jupyter_core-4.5.0-py_0\n",
            "  jupyterlab         pkgs/main/noarch::jupyterlab-1.1.4-pyhf63ae98_0\n",
            "  jupyterlab_server  pkgs/main/noarch::jupyterlab_server-1.0.6-py_0\n",
            "  keyring            pkgs/main/linux-64::keyring-18.0.0-py37_0\n",
            "  kiwisolver         pkgs/main/linux-64::kiwisolver-1.1.0-py37he6710b0_0\n",
            "  krb5               pkgs/main/linux-64::krb5-1.16.1-h173b8e3_7\n",
            "  lazy-object-proxy  pkgs/main/linux-64::lazy-object-proxy-1.4.2-py37h7b6447c_0\n",
            "  libarchive         pkgs/main/linux-64::libarchive-3.3.3-h5d8350f_5\n",
            "  libcurl            pkgs/main/linux-64::libcurl-7.65.3-h20c2e04_0\n",
            "  libedit            pkgs/main/linux-64::libedit-3.1.20181209-hc058e9b_0\n",
            "  libffi             pkgs/main/linux-64::libffi-3.2.1-hd88cf55_4\n",
            "  libgcc-ng          pkgs/main/linux-64::libgcc-ng-9.1.0-hdf63c60_0\n",
            "  libgfortran-ng     pkgs/main/linux-64::libgfortran-ng-7.3.0-hdf63c60_0\n",
            "  liblief            pkgs/main/linux-64::liblief-0.9.0-h7725739_2\n",
            "  libpng             pkgs/main/linux-64::libpng-1.6.37-hbc83047_0\n",
            "  libsodium          pkgs/main/linux-64::libsodium-1.0.16-h1bed415_0\n",
            "  libssh2            pkgs/main/linux-64::libssh2-1.8.2-h1ba5d50_0\n",
            "  libstdcxx-ng       pkgs/main/linux-64::libstdcxx-ng-9.1.0-hdf63c60_0\n",
            "  libtiff            pkgs/main/linux-64::libtiff-4.0.10-h2733197_2\n",
            "  libtool            pkgs/main/linux-64::libtool-2.4.6-h7b6447c_5\n",
            "  libuuid            pkgs/main/linux-64::libuuid-1.0.3-h1bed415_2\n",
            "  libxcb             pkgs/main/linux-64::libxcb-1.13-h1bed415_1\n",
            "  libxml2            pkgs/main/linux-64::libxml2-2.9.9-hea5a465_1\n",
            "  libxslt            pkgs/main/linux-64::libxslt-1.1.33-h7d1a2b0_0\n",
            "  llvmlite           pkgs/main/linux-64::llvmlite-0.29.0-py37hd408876_0\n",
            "  locket             pkgs/main/linux-64::locket-0.2.0-py37_1\n",
            "  lxml               pkgs/main/linux-64::lxml-4.4.1-py37hefd8a0e_0\n",
            "  lz4-c              pkgs/main/linux-64::lz4-c-1.8.1.2-h14c3975_0\n",
            "  lzo                pkgs/main/linux-64::lzo-2.10-h49e0be7_2\n",
            "  markupsafe         pkgs/main/linux-64::markupsafe-1.1.1-py37h7b6447c_0\n",
            "  matplotlib         pkgs/main/linux-64::matplotlib-3.1.1-py37h5429711_0\n",
            "  mccabe             pkgs/main/linux-64::mccabe-0.6.1-py37_1\n",
            "  mistune            pkgs/main/linux-64::mistune-0.8.4-py37h7b6447c_0\n",
            "  mkl                pkgs/main/linux-64::mkl-2019.4-243\n",
            "  mkl-service        pkgs/main/linux-64::mkl-service-2.3.0-py37he904b0f_0\n",
            "  mkl_fft            pkgs/main/linux-64::mkl_fft-1.0.14-py37ha843d7b_0\n",
            "  mkl_random         pkgs/main/linux-64::mkl_random-1.1.0-py37hd6b4f25_0\n",
            "  mock               pkgs/main/linux-64::mock-3.0.5-py37_0\n",
            "  more-itertools     pkgs/main/linux-64::more-itertools-7.2.0-py37_0\n",
            "  mpc                pkgs/main/linux-64::mpc-1.1.0-h10f8cd9_1\n",
            "  mpfr               pkgs/main/linux-64::mpfr-4.0.1-hdf1c602_3\n",
            "  mpmath             pkgs/main/linux-64::mpmath-1.1.0-py37_0\n",
            "  msgpack-python     pkgs/main/linux-64::msgpack-python-0.6.1-py37hfd86e86_1\n",
            "  multipledispatch   pkgs/main/linux-64::multipledispatch-0.6.0-py37_0\n",
            "  navigator-updater  pkgs/main/linux-64::navigator-updater-0.2.1-py37_0\n",
            "  nbconvert          pkgs/main/linux-64::nbconvert-5.6.0-py37_1\n",
            "  nbformat           pkgs/main/linux-64::nbformat-4.4.0-py37_0\n",
            "  ncurses            pkgs/main/linux-64::ncurses-6.1-he6710b0_1\n",
            "  networkx           pkgs/main/noarch::networkx-2.3-py_0\n",
            "  nltk               pkgs/main/linux-64::nltk-3.4.5-py37_0\n",
            "  nose               pkgs/main/linux-64::nose-1.3.7-py37_2\n",
            "  notebook           pkgs/main/linux-64::notebook-6.0.1-py37_0\n",
            "  numba              pkgs/main/linux-64::numba-0.45.1-py37h962f231_0\n",
            "  numexpr            pkgs/main/linux-64::numexpr-2.7.0-py37h9e4a6bb_0\n",
            "  numpy              pkgs/main/linux-64::numpy-1.17.2-py37haad9e8e_0\n",
            "  numpy-base         pkgs/main/linux-64::numpy-base-1.17.2-py37hde5b4d6_0\n",
            "  numpydoc           pkgs/main/noarch::numpydoc-0.9.1-py_0\n",
            "  olefile            pkgs/main/linux-64::olefile-0.46-py37_0\n",
            "  openpyxl           pkgs/main/noarch::openpyxl-3.0.0-py_0\n",
            "  openssl            pkgs/main/linux-64::openssl-1.1.1d-h7b6447c_2\n",
            "  packaging          pkgs/main/noarch::packaging-19.2-py_0\n",
            "  pandas             pkgs/main/linux-64::pandas-0.25.1-py37he6710b0_0\n",
            "  pandoc             pkgs/main/linux-64::pandoc-2.2.3.2-0\n",
            "  pandocfilters      pkgs/main/linux-64::pandocfilters-1.4.2-py37_1\n",
            "  pango              pkgs/main/linux-64::pango-1.42.4-h049681c_0\n",
            "  parso              pkgs/main/noarch::parso-0.5.1-py_0\n",
            "  partd              pkgs/main/noarch::partd-1.0.0-py_0\n",
            "  patchelf           pkgs/main/linux-64::patchelf-0.9-he6710b0_3\n",
            "  path.py            pkgs/main/noarch::path.py-12.0.1-py_0\n",
            "  pathlib2           pkgs/main/linux-64::pathlib2-2.3.5-py37_0\n",
            "  patsy              pkgs/main/linux-64::patsy-0.5.1-py37_0\n",
            "  pcre               pkgs/main/linux-64::pcre-8.43-he6710b0_0\n",
            "  pep8               pkgs/main/linux-64::pep8-1.7.1-py37_0\n",
            "  pexpect            pkgs/main/linux-64::pexpect-4.7.0-py37_0\n",
            "  pickleshare        pkgs/main/linux-64::pickleshare-0.7.5-py37_0\n",
            "  pillow             pkgs/main/linux-64::pillow-6.2.0-py37h34e0f95_0\n",
            "  pip                pkgs/main/linux-64::pip-19.2.3-py37_0\n",
            "  pixman             pkgs/main/linux-64::pixman-0.38.0-h7b6447c_0\n",
            "  pkginfo            pkgs/main/linux-64::pkginfo-1.5.0.1-py37_0\n",
            "  pluggy             pkgs/main/linux-64::pluggy-0.13.0-py37_0\n",
            "  ply                pkgs/main/linux-64::ply-3.11-py37_0\n",
            "  prometheus_client  pkgs/main/noarch::prometheus_client-0.7.1-py_0\n",
            "  prompt_toolkit     pkgs/main/noarch::prompt_toolkit-2.0.10-py_0\n",
            "  psutil             pkgs/main/linux-64::psutil-5.6.3-py37h7b6447c_0\n",
            "  ptyprocess         pkgs/main/linux-64::ptyprocess-0.6.0-py37_0\n",
            "  py                 pkgs/main/linux-64::py-1.8.0-py37_0\n",
            "  py-lief            pkgs/main/linux-64::py-lief-0.9.0-py37h7725739_2\n",
            "  pycodestyle        pkgs/main/linux-64::pycodestyle-2.5.0-py37_0\n",
            "  pycosat            pkgs/main/linux-64::pycosat-0.6.3-py37h14c3975_0\n",
            "  pycparser          pkgs/main/linux-64::pycparser-2.19-py37_0\n",
            "  pycrypto           pkgs/main/linux-64::pycrypto-2.6.1-py37h14c3975_9\n",
            "  pycurl             pkgs/main/linux-64::pycurl-7.43.0.3-py37h1ba5d50_0\n",
            "  pyflakes           pkgs/main/linux-64::pyflakes-2.1.1-py37_0\n",
            "  pygments           pkgs/main/noarch::pygments-2.4.2-py_0\n",
            "  pylint             pkgs/main/linux-64::pylint-2.4.2-py37_0\n",
            "  pyodbc             pkgs/main/linux-64::pyodbc-4.0.27-py37he6710b0_0\n",
            "  pyopenssl          pkgs/main/linux-64::pyopenssl-19.0.0-py37_0\n",
            "  pyparsing          pkgs/main/noarch::pyparsing-2.4.2-py_0\n",
            "  pyqt               pkgs/main/linux-64::pyqt-5.9.2-py37h05f1152_2\n",
            "  pyrsistent         pkgs/main/linux-64::pyrsistent-0.15.4-py37h7b6447c_0\n",
            "  pysocks            pkgs/main/linux-64::pysocks-1.7.1-py37_0\n",
            "  pytables           pkgs/main/linux-64::pytables-3.5.2-py37h71ec239_1\n",
            "  pytest             pkgs/main/linux-64::pytest-5.2.1-py37_0\n",
            "  pytest-arraydiff   pkgs/main/linux-64::pytest-arraydiff-0.3-py37h39e3cac_0\n",
            "  pytest-astropy     pkgs/main/linux-64::pytest-astropy-0.5.0-py37_0\n",
            "  pytest-doctestplus pkgs/main/noarch::pytest-doctestplus-0.4.0-py_0\n",
            "  pytest-openfiles   pkgs/main/noarch::pytest-openfiles-0.4.0-py_0\n",
            "  pytest-remotedata  pkgs/main/linux-64::pytest-remotedata-0.3.2-py37_0\n",
            "  python             pkgs/main/linux-64::python-3.7.4-h265db76_1\n",
            "  python-dateutil    pkgs/main/linux-64::python-dateutil-2.8.0-py37_0\n",
            "  python-libarchive~ pkgs/main/linux-64::python-libarchive-c-2.8-py37_13\n",
            "  pytz               pkgs/main/noarch::pytz-2019.3-py_0\n",
            "  pywavelets         pkgs/main/linux-64::pywavelets-1.0.3-py37hdd07704_1\n",
            "  pyyaml             pkgs/main/linux-64::pyyaml-5.1.2-py37h7b6447c_0\n",
            "  pyzmq              pkgs/main/linux-64::pyzmq-18.1.0-py37he6710b0_0\n",
            "  qt                 pkgs/main/linux-64::qt-5.9.7-h5867ecd_1\n",
            "  qtawesome          pkgs/main/noarch::qtawesome-0.6.0-py_0\n",
            "  qtconsole          pkgs/main/noarch::qtconsole-4.5.5-py_0\n",
            "  qtpy               pkgs/main/noarch::qtpy-1.9.0-py_0\n",
            "  readline           pkgs/main/linux-64::readline-7.0-h7b6447c_5\n",
            "  requests           pkgs/main/linux-64::requests-2.22.0-py37_0\n",
            "  ripgrep            pkgs/main/linux-64::ripgrep-0.10.0-hc07d326_0\n",
            "  rope               pkgs/main/noarch::rope-0.14.0-py_0\n",
            "  ruamel_yaml        pkgs/main/linux-64::ruamel_yaml-0.15.46-py37h14c3975_0\n",
            "  scikit-image       pkgs/main/linux-64::scikit-image-0.15.0-py37he6710b0_0\n",
            "  scikit-learn       pkgs/main/linux-64::scikit-learn-0.21.3-py37hd81dba3_0\n",
            "  scipy              pkgs/main/linux-64::scipy-1.3.1-py37h7c811a0_0\n",
            "  seaborn            pkgs/main/linux-64::seaborn-0.9.0-py37_0\n",
            "  secretstorage      pkgs/main/linux-64::secretstorage-3.1.1-py37_0\n",
            "  send2trash         pkgs/main/linux-64::send2trash-1.5.0-py37_0\n",
            "  setuptools         pkgs/main/linux-64::setuptools-41.4.0-py37_0\n",
            "  simplegeneric      pkgs/main/linux-64::simplegeneric-0.8.1-py37_2\n",
            "  singledispatch     pkgs/main/linux-64::singledispatch-3.4.0.3-py37_0\n",
            "  sip                pkgs/main/linux-64::sip-4.19.8-py37hf484d3e_0\n",
            "  six                pkgs/main/linux-64::six-1.12.0-py37_0\n",
            "  snappy             pkgs/main/linux-64::snappy-1.1.7-hbae5bb6_3\n",
            "  snowballstemmer    pkgs/main/noarch::snowballstemmer-2.0.0-py_0\n",
            "  sortedcollections  pkgs/main/linux-64::sortedcollections-1.1.2-py37_0\n",
            "  sortedcontainers   pkgs/main/linux-64::sortedcontainers-2.1.0-py37_0\n",
            "  soupsieve          pkgs/main/linux-64::soupsieve-1.9.3-py37_0\n",
            "  sphinx             pkgs/main/noarch::sphinx-2.2.0-py_0\n",
            "  sphinxcontrib      pkgs/main/linux-64::sphinxcontrib-1.0-py37_1\n",
            "  sphinxcontrib-app~ pkgs/main/noarch::sphinxcontrib-applehelp-1.0.1-py_0\n",
            "  sphinxcontrib-dev~ pkgs/main/noarch::sphinxcontrib-devhelp-1.0.1-py_0\n",
            "  sphinxcontrib-htm~ pkgs/main/noarch::sphinxcontrib-htmlhelp-1.0.2-py_0\n",
            "  sphinxcontrib-jsm~ pkgs/main/noarch::sphinxcontrib-jsmath-1.0.1-py_0\n",
            "  sphinxcontrib-qth~ pkgs/main/noarch::sphinxcontrib-qthelp-1.0.2-py_0\n",
            "  sphinxcontrib-ser~ pkgs/main/noarch::sphinxcontrib-serializinghtml-1.1.3-py_0\n",
            "  sphinxcontrib-web~ pkgs/main/noarch::sphinxcontrib-websupport-1.1.2-py_0\n",
            "  spyder             pkgs/main/linux-64::spyder-3.3.6-py37_0\n",
            "  spyder-kernels     pkgs/main/linux-64::spyder-kernels-0.5.2-py37_0\n",
            "  sqlalchemy         pkgs/main/linux-64::sqlalchemy-1.3.9-py37h7b6447c_0\n",
            "  sqlite             pkgs/main/linux-64::sqlite-3.30.0-h7b6447c_0\n",
            "  statsmodels        pkgs/main/linux-64::statsmodels-0.10.1-py37hdd07704_0\n",
            "  sympy              pkgs/main/linux-64::sympy-1.4-py37_0\n",
            "  tbb                pkgs/main/linux-64::tbb-2019.4-hfd86e86_0\n",
            "  tblib              pkgs/main/noarch::tblib-1.4.0-py_0\n",
            "  terminado          pkgs/main/linux-64::terminado-0.8.2-py37_0\n",
            "  testpath           pkgs/main/linux-64::testpath-0.4.2-py37_0\n",
            "  tk                 pkgs/main/linux-64::tk-8.6.8-hbc83047_0\n",
            "  toolz              pkgs/main/noarch::toolz-0.10.0-py_0\n",
            "  tornado            pkgs/main/linux-64::tornado-6.0.3-py37h7b6447c_0\n",
            "  tqdm               pkgs/main/noarch::tqdm-4.36.1-py_0\n",
            "  traitlets          pkgs/main/linux-64::traitlets-4.3.3-py37_0\n",
            "  unicodecsv         pkgs/main/linux-64::unicodecsv-0.14.1-py37_0\n",
            "  unixodbc           pkgs/main/linux-64::unixodbc-2.3.7-h14c3975_0\n",
            "  urllib3            pkgs/main/linux-64::urllib3-1.24.2-py37_0\n",
            "  wcwidth            pkgs/main/linux-64::wcwidth-0.1.7-py37_0\n",
            "  webencodings       pkgs/main/linux-64::webencodings-0.5.1-py37_1\n",
            "  werkzeug           pkgs/main/noarch::werkzeug-0.16.0-py_0\n",
            "  wheel              pkgs/main/linux-64::wheel-0.33.6-py37_0\n",
            "  widgetsnbextension pkgs/main/linux-64::widgetsnbextension-3.5.1-py37_0\n",
            "  wrapt              pkgs/main/linux-64::wrapt-1.11.2-py37h7b6447c_0\n",
            "  wurlitzer          pkgs/main/linux-64::wurlitzer-1.0.3-py37_0\n",
            "  xlrd               pkgs/main/linux-64::xlrd-1.2.0-py37_0\n",
            "  xlsxwriter         pkgs/main/noarch::xlsxwriter-1.2.1-py_0\n",
            "  xlwt               pkgs/main/linux-64::xlwt-1.3.0-py37_0\n",
            "  xz                 pkgs/main/linux-64::xz-5.2.4-h14c3975_4\n",
            "  yaml               pkgs/main/linux-64::yaml-0.1.7-had09818_2\n",
            "  zeromq             pkgs/main/linux-64::zeromq-4.3.1-he6710b0_3\n",
            "  zict               pkgs/main/noarch::zict-1.0.0-py_0\n",
            "  zipp               pkgs/main/noarch::zipp-0.6.0-py_0\n",
            "  zlib               pkgs/main/linux-64::zlib-1.2.11-h7b6447c_3\n",
            "  zstd               pkgs/main/linux-64::zstd-1.3.7-h0b5b093_0\n",
            "\n",
            "\n",
            "Preparing transaction: / \b\b- \b\b\\ \b\b| \b\b/ \b\b- \b\b\\ \b\b| \b\b/ \b\b- \b\b\\ \b\b| \b\b/ \b\b- \b\b\\ \b\b| \b\b/ \b\b- \b\b\\ \b\b| \b\b/ \b\b- \b\b\\ \b\b| \b\bdone\n",
            "Executing transaction: - \b\b\\ \b\b| \b\b/ \b\b- \b\b\\ \b\b| \b\b/ \b\b- \b\b\\ \b\b| \b\b/ \b\b- \b\b\\ \b\b| \b\b/ \b\b- \b\b\\ \b\b| \b\b/ \b\b- \b\b\\ \b\b| \b\b/ \b\b- \b\b\\ \b\b| \b\b/ \b\b- \b\b\\ \b\b| \b\b/ \b\b- \b\b\\ \b\b| \b\b/ \b\b- \b\b\\ \b\b| \b\b/ \b\b- \b\b\\ \b\b| \b\b/ \b\b- \b\b\\ \b\b| \b\b/ \b\b- \b\b\\ \b\b| \b\b/ \b\b- \b\b\\ \b\b| \b\b/ \b\b- \b\b\\ \b\b| \b\b/ \b\b- \b\b\\ \b\b| \b\b/ \b\b- \b\b\\ \b\b| \b\b/ \b\b- \b\b\\ \b\b| \b\b/ \b\b- \b\b\\ \b\b| \b\b/ \b\b- \b\b\\ \b\b| \b\b/ \b\b- \b\b\\ \b\b| \b\b/ \b\b- \b\b\\ \b\b| \b\b/ \b\b- \b\b\\ \b\b| \b\b/ \b\b- \b\b\\ \b\b| \b\b/ \b\b- \b\b\\ \b\b| \b\b/ \b\b- \b\b\\ \b\b| \b\b/ \b\b- \b\b\\ \b\b| \b\b/ \b\b- \b\b\\ \b\b| \b\b/ \b\b- \b\b\\ \b\b| \b\b/ \b\b- \b\b\\ \b\b| \b\b/ \b\b- \b\b\\ \b\b| \b\b/ \b\b- \b\b\\ \b\b| \b\b/ \b\b- \b\b\\ \b\b| \b\b/ \b\b- \b\b\\ \b\b| \b\b/ \b\b- \b\b\\ \b\b| \b\b/ \b\b- \b\b\\ \b\b| \b\b/ \b\b- \b\b\\ \b\b| \b\b/ \b\b- \b\b\\ \b\b| \b\b/ \b\b- \b\b\\ \b\b| \b\b/ \b\b- \b\b\\ \b\b| \b\b/ \b\b- \b\b\\ \b\b| \b\b/ \b\b- \b\b\\ \b\b| \b\b/ \b\b- \b\b\\ \b\b| \b\b/ \b\b- \b\b\\ \b\b| \b\b/ \b\b- \b\b\\ \b\b| \b\b/ \b\b- \b\b\\ \b\b| \b\b/ \b\b- \b\b\\ \b\b| \b\b/ \b\b- \b\b\\ \b\b| \b\b/ \b\b- \b\b\\ \b\b| \b\b/ \b\b- \b\b\\ \b\b| \b\b/ \b\b- \b\b\\ \b\b| \b\b/ \b\b- \b\b\\ \b\b| \b\b/ \b\b- \b\b\\ \b\b| \b\b/ \b\b- \b\b\\ \b\b| \b\b/ \b\b- \b\b\\ \b\b| \b\b/ \b\b- \b\b\\ \b\b| \b\b/ \b\b- \b\b\\ \b\b| \b\b/ \b\b- \b\b\\ \b\b| \b\b/ \b\b- \b\b\\ \b\b| \b\b/ \b\b- \b\b\\ \b\b| \b\b/ \b\b- \b\b\\ \b\b| \b\b/ \b\b- \b\b\\ \b\b| \b\b/ \b\b- \b\b\\ \b\b| \b\b/ \b\b- \b\b\\ \b\b| \b\b/ \b\b- \b\b\\ \b\b| \b\b/ \b\b- \b\b\\ \b\b| \b\b/ \b\b- \b\b\\ \b\b| \b\b/ \b\b- \b\b\\ \b\b| \b\b/ \b\b- \b\b\\ \b\b| \b\b/ \b\b- \b\b\\ \b\b| \b\b/ \b\b- \b\b\\ \b\b| \b\b/ \b\b- \b\b\\ \b\b| \b\b/ \b\b- \b\b\\ \b\b| \b\b/ \b\b- \b\b\\ \b\b| \b\b/ \b\b- \b\b\\ \b\bdone\n",
            "installation finished.\n",
            "WARNING:\n",
            "    You currently have a PYTHONPATH environment variable set. This may cause\n",
            "    unexpected behavior when running the Python interpreter in Anaconda3.\n",
            "    For best results, please verify that your PYTHONPATH only points to\n",
            "    directories of packages that are compatible with the Python interpreter\n",
            "    in Anaconda3: /usr/local\n",
            "Collecting package metadata (current_repodata.json): - \b\b\\ \b\b| \b\b/ \b\b- \b\b\\ \b\b| \b\b/ \b\b- \b\b\\ \b\b| \b\b/ \b\b- \b\b\\ \b\b| \b\b/ \b\b- \b\b\\ \b\b| \b\b/ \b\b- \b\b\\ \b\b| \b\b/ \b\b- \b\b\\ \b\b| \b\b/ \b\b- \b\b\\ \b\b| \b\b/ \b\b- \b\b\\ \b\b| \b\b/ \b\b- \b\b\\ \b\b| \b\b/ \b\b- \b\b\\ \b\b| \b\b/ \b\b- \b\b\\ \b\b| \b\b/ \b\b- \b\b\\ \b\b| \b\b/ \b\b- \b\b\\ \b\b| \b\b/ \b\b- \b\b\\ \b\b| \b\b/ \b\b- \b\b\\ \b\b| \b\b/ \b\b- \b\b\\ \b\b| \b\b/ \b\b- \b\b\\ \b\b| \b\b/ \b\b- \b\b\\ \b\b| \b\b/ \b\b- \b\b\\ \b\b| \b\b/ \b\b- \b\b\\ \b\b| \b\b/ \b\b- \b\b\\ \b\b| \b\b/ \b\b- \b\b\\ \b\b| \b\b/ \b\b- \b\b\\ \b\b| \b\b/ \b\b- \b\b\\ \b\b| \b\b/ \b\b- \b\b\\ \b\b| \b\b/ \b\b- \b\b\\ \b\b| \b\b/ \b\b- \b\b\\ \b\b| \b\b/ \b\b- \b\b\\ \b\bdone\n",
            "Solving environment: / \b\b- \b\b\\ \b\b| \b\b/ \b\b- \b\b\\ \b\b| \b\b/ \b\b- \b\b\\ \b\b| \b\b/ \b\b- \b\b\\ \b\b| \b\b/ \b\b- \b\b\\ \b\b| \b\b/ \b\b- \b\b\\ \b\b| \b\b/ \b\b- \b\b\\ \b\b| \b\b/ \b\b- \b\b\\ \b\b| \b\b/ \b\b- \b\b\\ \b\b| \b\b/ \b\b- \b\b\\ \b\b| \b\b/ \b\b- \b\b\\ \b\b| \b\b/ \b\b- \b\b\\ \b\b| \b\b/ \b\b- \b\b\\ \b\b| \b\b/ \b\b- \b\b\\ \b\b| \b\b/ \b\b- \b\b\\ \b\b| \b\b/ \b\b- \b\b\\ \b\b| \b\b/ \b\b- \b\b\\ \b\b| \b\b/ \b\b- \b\b\\ \b\b| \b\b/ \b\b- \b\b\\ \b\b| \b\b/ \b\b- \b\b\\ \b\b| \b\b/ \b\b- \b\b\\ \b\b| \b\b/ \b\b- \b\b\\ \b\b| \b\b/ \b\b- \b\b\\ \b\b| \b\b/ \b\b- \b\b\\ \b\b| \b\b/ \b\b- \b\b\\ \b\b| \b\b/ \b\b- \b\b\\ \b\b| \b\b/ \b\b- \b\b\\ \b\b| \b\b/ \b\b- \b\b\\ \b\b| \b\b/ \b\b- \b\b\\ \b\b| \b\b/ \b\b- \b\b\\ \b\b| \b\b/ \b\b- \b\b\\ \b\b| \b\b/ \b\b- \b\b\\ \b\b| \b\b/ \b\b- \b\b\\ \b\b| \b\b/ \b\b- \b\b\\ \b\b| \b\b/ \b\b- \b\b\\ \b\b| \b\b/ \b\b- \b\b\\ \b\b| \b\b/ \b\b- \b\b\\ \b\b| \b\b/ \b\b- \b\b\\ \b\b| \b\b/ \b\b- \b\b\\ \b\b| \b\b/ \b\b- \b\b\\ \b\b| \b\b/ \b\b- \b\b\\ \b\b| \b\b/ \b\b- \b\b\\ \b\b| \b\b/ \b\b- \b\b\\ \b\b| \b\b/ \b\b- \b\b\\ \b\b| \b\b/ \b\b- \b\b\\ \b\b| \b\b/ \b\b- \b\b\\ \b\b| \b\b/ \b\b- \b\b\\ \b\b| \b\b/ \b\b- \b\b\\ \b\b| \b\b/ \b\b- \b\b\\ \b\b| \b\b/ \b\b- \b\b\\ \b\b| \b\b/ \b\b- \b\b\\ \b\b| \b\b/ \b\b- \b\b\\ \b\b| \b\b/ \b\b- \b\b\\ \b\b| \b\b/ \b\b- \b\b\\ \b\b| \b\b/ \b\b- \b\b\\ \b\b| \b\b/ \b\b- \b\b\\ \b\b| \b\b/ \b\b- \b\b\\ \b\b| \b\b/ \b\b- \b\b\\ \b\b| \b\b/ \b\b- \b\b\\ \b\b| \b\b/ \b\b- \b\b\\ \b\b| \b\b/ \b\b- \b\b\\ \b\b| \b\b/ \b\b- \b\b\\ \b\b| \b\b/ \b\b- \b\b\\ \b\b| \b\b/ \b\b- \b\b\\ \b\b| \b\b/ \b\b- \b\b\\ \b\b| \b\b/ \b\b- \b\b\\ \b\b| \b\b/ \b\b- \b\b\\ \b\b| \b\b/ \b\b- \b\b\\ \b\b| \b\b/ \b\b- \b\b\\ \b\b| \b\b/ \b\b- \b\b\\ \b\b| \b\b/ \b\b- \b\b\\ \b\b| \b\b/ \b\b- \b\b\\ \b\b| \b\b/ \b\b- \b\b\\ \b\b| \b\b/ \b\b- \b\b\\ \b\b| \b\b/ \b\b- \b\b\\ \b\b| \b\b/ \b\b- \b\b\\ \b\b| \b\b/ \b\b- \b\b\\ \b\b| \b\b/ \b\b- \b\b\\ \b\b| \b\b/ \b\b- \b\b\\ \b\b| \b\b/ \b\b- \b\b\\ \b\b| \b\b/ \b\b- \b\b\\ \b\b| \b\b/ \b\b- \b\b\\ \b\b| \b\b/ \b\b- \b\b\\ \b\b| \b\b/ \b\b- \b\b\\ \b\b| \b\b/ \b\b- \b\b\\ \b\b| \b\b/ \b\b- \b\b\\ \b\b| \b\b/ \b\b- \b\b\\ \b\b| \b\b/ \b\b- \b\b\\ \b\b| \b\b/ \b\b- \b\b\\ \b\b| \b\b/ \b\b- \b\b\\ \b\b| \b\b/ \b\b- \b\b\\ \b\b| \b\b/ \b\b- \b\b\\ \b\b| \b\b/ \b\b- \b\b\\ \b\b| \b\b/ \b\b- \b\b\\ \b\b| \b\b/ \b\b- \b\b\\ \b\b| \b\b/ \b\b- \b\b\\ \b\b| \b\b/ \b\b- \b\b\\ \b\b| \b\b/ \b\b- \b\b\\ \b\b| \b\b/ \b\b- \b\b\\ \b\b| \b\b/ \b\b- \b\b\\ \b\b| \b\b/ \b\b- \b\b\\ \b\b| \b\b/ \b\b- \b\b\\ \b\b| \b\b/ \b\b- \b\b\\ \b\b| \b\b/ \b\b- \b\b\\ \b\b| \b\b/ \b\b- \b\b\\ \b\b| \b\b/ \b\b- \b\b\\ \b\b| \b\b/ \b\b- \b\b\\ \b\b| \b\b/ \b\b- \b\b\\ \b\b| \b\b/ \b\b- \b\b\\ \b\b| \b\b/ \b\b- \b\b\\ \b\b| \b\b/ \b\bfailed with initial frozen solve. Retrying with flexible solve.\n",
            "Solving environment: \\ \b\b| \b\b/ \b\b- \b\b\\ \b\b| \b\b/ \b\b- \b\b\\ \b\b| \b\b/ \b\b- \b\b\\ \b\b| \b\b/ \b\b- \b\b\\ \b\b| \b\b/ \b\b- \b\b\\ \b\b| \b\b/ \b\b- \b\b\\ \b\b| \b\b/ \b\b- \b\b\\ \b\b| \b\b/ \b\b- \b\b\\ \b\b| \b\b/ \b\b- \b\b\\ \b\b| \b\b/ \b\b- \b\b\\ \b\b| \b\b/ \b\b- \b\b\\ \b\b| \b\b/ \b\b- \b\b\\ \b\b| \b\b/ \b\b- \b\b\\ \b\b| \b\b/ \b\b- \b\b\\ \b\b| \b\b/ \b\b- \b\b\\ \b\b| \b\b/ \b\b- \b\b\\ \b\b| \b\b/ \b\b- \b\b\\ \b\b| \b\b/ \b\b- \b\b\\ \b\b| \b\b/ \b\b- \b\b\\ \b\b| \b\b/ \b\b- \b\b\\ \b\b| \b\b/ \b\b- \b\b\\ \b\b| \b\b/ \b\b- \b\b\\ \b\b| \b\b/ \b\b- \b\b\\ \b\b| \b\b/ \b\b- \b\b\\ \b\b| \b\b/ \b\b- \b\b\\ \b\b| \b\b/ \b\b- \b\b\\ \b\b| \b\b/ \b\b- \b\b\\ \b\b| \b\b/ \b\b- \b\b\\ \b\b| \b\b/ \b\b- \b\b\\ \b\b| \b\b/ \b\b- \b\b\\ \b\b| \b\b/ \b\b- \b\b\\ \b\b| \b\b/ \b\b- \b\b\\ \b\b| \b\b/ \b\b- \b\b\\ \b\b| \b\b/ \b\b- \b\b\\ \b\b| \b\b/ \b\b- \b\b\\ \b\b| \b\b/ \b\b- \b\b\\ \b\b| \b\b/ \b\b- \b\b\\ \b\b| \b\b/ \b\b- \b\b\\ \b\b| \b\b/ \b\b- \b\b\\ \b\b| \b\b/ \b\b- \b\b\\ \b\b| \b\b/ \b\b- \b\b\\ \b\b| \b\b/ \b\b- \b\b\\ \b\b| \b\b/ \b\b- \b\b\\ \b\b| \b\b/ \b\b- \b\b\\ \b\b| \b\b/ \b\b- \b\b\\ \b\b| \b\b/ \b\b- \b\b\\ \b\b| \b\b/ \b\b- \b\b\\ \b\b| \b\b/ \b\b- \b\b\\ \b\b| \b\b/ \b\b- \b\b\\ \b\b| \b\b/ \b\b- \b\b\\ \b\b| \b\b/ \b\b- \b\b\\ \b\b| \b\b/ \b\b- \b\b\\ \b\b| \b\b/ \b\b- \b\b\\ \b\b| \b\b/ \b\b- \b\b\\ \b\b| \b\b/ \b\b- \b\b\\ \b\b| \b\b/ \b\b- \b\b\\ \b\b| \b\b/ \b\b- \b\b\\ \b\b| \b\b/ \b\b- \b\b\\ \b\b| \b\b/ \b\b- \b\b\\ \b\b| \b\b/ \b\b- \b\b\\ \b\b| \b\b/ \b\b- \b\b\\ \b\b| \b\b/ \b\b- \b\b\\ \b\b| \b\b/ \b\b- \b\b\\ \b\b| \b\b/ \b\b- \b\b\\ \b\b| \b\b/ \b\b- \b\b\\ \b\b| \b\b/ \b\b- \b\b\\ \b\b| \b\b/ \b\b- \b\b\\ \b\b| \b\b/ \b\b- \b\b\\ \b\b| \b\b/ \b\b- \b\b\\ \b\b| \b\b/ \b\b- \b\b\\ \b\b| \b\b/ \b\b- \b\b\\ \b\b| \b\b/ \b\b- \b\b\\ \b\b| \b\b/ \b\b- \b\b\\ \b\b| \b\b/ \b\b- \b\b\\ \b\b| \b\b/ \b\b- \b\b\\ \b\b| \b\b/ \b\b- \b\b\\ \b\b| \b\b/ \b\b- \b\b\\ \b\b| \b\b/ \b\b- \b\b\\ \b\b| \b\b/ \b\b- \b\b\\ \b\b| \b\b/ \b\b- \b\b\\ \b\b| \b\b/ \b\b- \b\b\\ \b\b| \b\b/ \b\b- \b\b\\ \b\b| \b\b/ \b\b- \b\b\\ \b\b| \b\b/ \b\b- \b\b\\ \b\b| \b\b/ \b\b- \b\b\\ \b\b| \b\b/ \b\b- \b\b\\ \b\b| \b\b/ \b\b- \b\b\\ \b\b| \b\b/ \b\b- \b\b\\ \b\b| \b\b/ \b\b- \b\b\\ \b\b| \b\b/ \b\b- \b\b\\ \b\b| \b\b/ \b\b- \b\b\\ \b\b| \b\b/ \b\b- \b\b\\ \b\b| \b\b/ \b\b- \b\b\\ \b\b| \b\b/ \b\b- \b\b\\ \b\b| \b\b/ \b\b- \b\b\\ \b\b| \b\b/ \b\b- \b\b\\ \b\b| \b\b/ \b\b- \b\b\\ \b\b| \b\b/ \b\b- \b\b\\ \b\b| \b\b/ \b\b- \b\b\\ \b\b| \b\b/ \b\b- \b\b\\ \b\b| \b\b/ \b\b- \b\b\\ \b\b| \b\b/ \b\b- \b\b\\ \b\b| \b\b/ \b\b- \b\b\\ \b\b| \b\b/ \b\b- \b\b\\ \b\b| \b\b/ \b\b- \b\b\\ \b\b| \b\b/ \b\b- \b\b\\ \b\b| \b\b/ \b\b- \b\b\\ \b\b| \b\b/ \b\b- \b\b\\ \b\b| \b\b/ \b\b- \b\b\\ \b\b| \b\b/ \b\b- \b\b\\ \b\b| \b\b/ \b\b- \b\b\\ \b\b| \b\b/ \b\b- \b\b\\ \b\b| \b\b/ \b\b- \b\b\\ \b\b| \b\b/ \b\b- \b\b\\ \b\b| \b\b/ \b\b- \b\b\\ \b\b| \b\b/ \b\b- \b\b\\ \b\b| \b\b/ \b\b- \b\b\\ \b\b| \b\b/ \b\b- \b\bfailed with repodata from current_repodata.json, will retry with next repodata source.\n",
            "Collecting package metadata (repodata.json): | \b\b/ \b\b- \b\b\\ \b\b| \b\b/ \b\b- \b\b\\ \b\b| \b\b/ \b\b- \b\b\\ \b\b| \b\b/ \b\b- \b\b\\ \b\b| \b\b/ \b\b- \b\b\\ \b\b| \b\b/ \b\b- \b\b\\ \b\b| \b\b/ \b\b- \b\b\\ \b\b| \b\b/ \b\b- \b\b\\ \b\b| \b\b/ \b\b- \b\b\\ \b\b| \b\b/ \b\b- \b\b\\ \b\b| \b\b/ \b\b- \b\b\\ \b\b| \b\b/ \b\b- \b\b\\ \b\b| \b\b/ \b\b- \b\b\\ \b\b| \b\b/ \b\b- \b\b\\ \b\b| \b\b/ \b\b- \b\b\\ \b\b| \b\b/ \b\b- \b\b\\ \b\b| \b\b/ \b\b- \b\b\\ \b\b| \b\b/ \b\b- \b\b\\ \b\b| \b\b/ \b\b- \b\b\\ \b\b| \b\b/ \b\b- \b\b\\ \b\b| \b\b/ \b\b- \b\b\\ \b\b| \b\b/ \b\b- \b\b\\ \b\b| \b\b/ \b\b- \b\b\\ \b\b| \b\b/ \b\b- \b\b\\ \b\b| \b\b/ \b\b- \b\b\\ \b\b| \b\b/ \b\b- \b\b\\ \b\b| \b\b/ \b\b- \b\b\\ \b\b| \b\b/ \b\b- \b\b\\ \b\b| \b\b/ \b\b- \b\b\\ \b\b| \b\b/ \b\b- \b\b\\ \b\b| \b\b/ \b\b- \b\b\\ \b\b| \b\b/ \b\b- \b\b\\ \b\b| \b\b/ \b\b- \b\b\\ \b\b| \b\b/ \b\b- \b\b\\ \b\b| \b\b/ \b\b- \b\b\\ \b\b| \b\b/ \b\b- \b\b\\ \b\b| \b\b/ \b\b- \b\b\\ \b\b| \b\b/ \b\b- \b\b\\ \b\b| \b\b/ \b\b- \b\b\\ \b\b| \b\b/ \b\b- \b\b\\ \b\b| \b\b/ \b\b- \b\b\\ \b\b| \b\b/ \b\b- \b\b\\ \b\b| \b\b/ \b\b- \b\b\\ \b\b| \b\b/ \b\b- \b\b\\ \b\b| \b\b/ \b\b- \b\b\\ \b\b| \b\b/ \b\b- \b\b\\ \b\b| \b\b/ \b\b- \b\b\\ \b\b| \b\b/ \b\b- \b\b\\ \b\b| \b\b/ \b\b- \b\b\\ \b\b| \b\b/ \b\b- \b\b\\ \b\b| \b\b/ \b\b- \b\b\\ \b\b| \b\b/ \b\b- \b\b\\ \b\b| \b\b/ \b\b- \b\b\\ \b\b| \b\b/ \b\b- \b\b\\ \b\b| \b\b/ \b\b- \b\b\\ \b\b| \b\b/ \b\b- \b\b\\ \b\b| \b\b/ \b\b- \b\b\\ \b\b| \b\b/ \b\b- \b\b\\ \b\b| \b\b/ \b\b- \b\b\\ \b\b| \b\b/ \b\b- \b\b\\ \b\b| \b\b/ \b\b- \b\b\\ \b\b| \b\b/ \b\b- \b\b\\ \b\b| \b\b/ \b\b- \b\b\\ \b\b| \b\b/ \b\b- \b\b\\ \b\b| \b\b/ \b\b- \b\b\\ \b\b| \b\b/ \b\bdone\n",
            "Solving environment: \\ \b\b| \b\b/ \b\b- \b\b\\ \b\b| \b\b/ \b\b- \b\b\\ \b\b| \b\b/ \b\b- \b\b\\ \b\b| \b\b/ \b\b- \b\b\\ \b\b| \b\b/ \b\b- \b\b\\ \b\b| \b\b/ \b\b- \b\b\\ \b\b| \b\b/ \b\b- \b\b\\ \b\b| \b\b/ \b\b- \b\b\\ \b\b| \b\b/ \b\b- \b\b\\ \b\b| \b\b/ \b\b- \b\b\\ \b\b| \b\b/ \b\b- \b\b\\ \b\b| \b\b/ \b\b- \b\b\\ \b\b| \b\b/ \b\b- \b\b\\ \b\b| \b\b/ \b\b- \b\b\\ \b\b| \b\b/ \b\b- \b\b\\ \b\b| \b\b/ \b\b- \b\b\\ \b\b| \b\b/ \b\b- \b\b\\ \b\b| \b\b/ \b\b- \b\b\\ \b\b| \b\b/ \b\b- \b\b\\ \b\b| \b\b/ \b\b- \b\b\\ \b\b| \b\b/ \b\b- \b\b\\ \b\b| \b\b/ \b\b- \b\b\\ \b\b| \b\b/ \b\b- \b\b\\ \b\b| \b\b/ \b\b- \b\b\\ \b\b| \b\b/ \b\b- \b\b\\ \b\b| \b\b/ \b\b- \b\b\\ \b\b| \b\b/ \b\b- \b\b\\ \b\b| \b\b/ \b\b- \b\b\\ \b\b| \b\b/ \b\b- \b\b\\ \b\b| \b\b/ \b\b- \b\b\\ \b\b| \b\b/ \b\b- \b\b\\ \b\b| \b\b/ \b\b- \b\b\\ \b\b| \b\b/ \b\b- \b\b\\ \b\b| \b\b/ \b\b- \b\b\\ \b\b| \b\b/ \b\b- \b\b\\ \b\b| \b\b/ \b\b- \b\b\\ \b\b| \b\b/ \b\b- \b\b\\ \b\b| \b\b/ \b\b- \b\b\\ \b\b| \b\b/ \b\b- \b\b\\ \b\b| \b\b/ \b\b- \b\b\\ \b\b| \b\b/ \b\b- \b\b\\ \b\b| \b\b/ \b\b- \b\b\\ \b\b| \b\b/ \b\b- \b\b\\ \b\b| \b\b/ \b\b- \b\bdone\n",
            "\n",
            "\n",
            "==> WARNING: A newer version of conda exists. <==\n",
            "  current version: 4.7.12\n",
            "  latest version: 4.9.2\n",
            "\n",
            "Please update conda by running\n",
            "\n",
            "    $ conda update -n base -c defaults conda\n",
            "\n",
            "\n",
            "\n",
            "## Package Plan ##\n",
            "\n",
            "  environment location: /usr/local\n",
            "\n",
            "  added / updated specs:\n",
            "    - deepchem-gpu=2.3.0\n",
            "\n",
            "\n",
            "The following packages will be downloaded:\n",
            "\n",
            "    package                    |            build\n",
            "    ---------------------------|-----------------\n",
            "    _py-xgboost-mutex-2.0      |            cpu_0           8 KB  conda-forge\n",
            "    _tflow_select-2.1.0        |              gpu           2 KB\n",
            "    absl-py-0.12.0             |     pyhd8ed1ab_0          96 KB  conda-forge\n",
            "    astor-0.8.1                |     pyh9f0ad1d_0          25 KB  conda-forge\n",
            "    astunparse-1.6.3           |     pyhd8ed1ab_0          15 KB  conda-forge\n",
            "    c-ares-1.17.1              |       h36c2ea0_0         111 KB  conda-forge\n",
            "    certifi-2019.9.11          |           py37_0         147 KB  conda-forge\n",
            "    conda-4.10.0               |   py37h89c1867_0         3.1 MB  conda-forge\n",
            "    cudatoolkit-10.1.243       |       h6bb024c_0       347.4 MB\n",
            "    cudnn-7.6.5.32             |       hc0a50b0_1       250.7 MB  conda-forge\n",
            "    cupti-10.1.168             |                0         1.4 MB\n",
            "    deepchem-gpu-2.3.0         |           py37_0         2.1 MB  deepchem\n",
            "    fftw3f-3.3.4               |                2         1.2 MB  omnia\n",
            "    gast-0.4.0                 |     pyh9f0ad1d_0          12 KB  conda-forge\n",
            "    google-pasta-0.2.0         |     pyh8c360ce_0          42 KB  conda-forge\n",
            "    grpcio-1.23.0              |   py37hb0870dc_1         1.1 MB  conda-forge\n",
            "    importlib-metadata-3.10.0  |   py37h89c1867_0          27 KB  conda-forge\n",
            "    keras-applications-1.0.8   |             py_1          30 KB  conda-forge\n",
            "    keras-preprocessing-1.1.2  |     pyhd8ed1ab_0          34 KB  conda-forge\n",
            "    libboost-1.67.0            |       h46d08c1_4        13.0 MB\n",
            "    libprotobuf-3.13.0.1       |       h8b12597_0         2.3 MB  conda-forge\n",
            "    libxgboost-1.2.0           |       he1b5a44_0         3.1 MB  conda-forge\n",
            "    markdown-3.3.4             |     pyhd8ed1ab_0          67 KB  conda-forge\n",
            "    mdtraj-1.9.5               |   py37h113d463_0         1.7 MB  conda-forge\n",
            "    openmm-7.4.2               |py37_cuda101_rc_1        11.9 MB  omnia\n",
            "    pdbfixer-1.6               |             py_1         167 KB  omnia\n",
            "    protobuf-3.13.0.1          |   py37h745909e_1         704 KB  conda-forge\n",
            "    py-boost-1.67.0            |   py37h04863e7_4         278 KB\n",
            "    py-xgboost-1.2.0           |   py37hc8dfbb8_0         1.7 MB  conda-forge\n",
            "    python_abi-3.7             |          1_cp37m           4 KB  conda-forge\n",
            "    rdkit-2020.03.3.0          |   py37hc20afe1_1        24.8 MB  rdkit\n",
            "    simdna-0.4.2               |             py_0         627 KB  deepchem\n",
            "    tensorboard-1.14.0         |           py37_0         3.2 MB  conda-forge\n",
            "    tensorflow-1.14.0          |gpu_py37h74c33d7_0           4 KB\n",
            "    tensorflow-base-1.14.0     |gpu_py37he45bfe2_0       146.3 MB\n",
            "    tensorflow-estimator-1.14.0|   py37h5ca1d4c_0         645 KB  conda-forge\n",
            "    tensorflow-gpu-1.14.0      |       h0d30ee6_0           3 KB\n",
            "    termcolor-1.1.0            |             py_2           6 KB  conda-forge\n",
            "    typing_extensions-3.7.4.3  |             py_0          25 KB  conda-forge\n",
            "    xgboost-1.2.0              |   py37h3340039_0          11 KB  conda-forge\n",
            "    ------------------------------------------------------------\n",
            "                                           Total:       817.9 MB\n",
            "\n",
            "The following NEW packages will be INSTALLED:\n",
            "\n",
            "  _py-xgboost-mutex  conda-forge/linux-64::_py-xgboost-mutex-2.0-cpu_0\n",
            "  _tflow_select      pkgs/main/linux-64::_tflow_select-2.1.0-gpu\n",
            "  absl-py            conda-forge/noarch::absl-py-0.12.0-pyhd8ed1ab_0\n",
            "  astor              conda-forge/noarch::astor-0.8.1-pyh9f0ad1d_0\n",
            "  astunparse         conda-forge/noarch::astunparse-1.6.3-pyhd8ed1ab_0\n",
            "  c-ares             conda-forge/linux-64::c-ares-1.17.1-h36c2ea0_0\n",
            "  cudatoolkit        pkgs/main/linux-64::cudatoolkit-10.1.243-h6bb024c_0\n",
            "  cudnn              conda-forge/linux-64::cudnn-7.6.5.32-hc0a50b0_1\n",
            "  cupti              pkgs/main/linux-64::cupti-10.1.168-0\n",
            "  deepchem-gpu       deepchem/linux-64::deepchem-gpu-2.3.0-py37_0\n",
            "  fftw3f             omnia/linux-64::fftw3f-3.3.4-2\n",
            "  gast               conda-forge/noarch::gast-0.4.0-pyh9f0ad1d_0\n",
            "  google-pasta       conda-forge/noarch::google-pasta-0.2.0-pyh8c360ce_0\n",
            "  grpcio             conda-forge/linux-64::grpcio-1.23.0-py37hb0870dc_1\n",
            "  importlib-metadata conda-forge/linux-64::importlib-metadata-3.10.0-py37h89c1867_0\n",
            "  keras-applications conda-forge/noarch::keras-applications-1.0.8-py_1\n",
            "  keras-preprocessi~ conda-forge/noarch::keras-preprocessing-1.1.2-pyhd8ed1ab_0\n",
            "  libboost           pkgs/main/linux-64::libboost-1.67.0-h46d08c1_4\n",
            "  libprotobuf        conda-forge/linux-64::libprotobuf-3.13.0.1-h8b12597_0\n",
            "  libxgboost         conda-forge/linux-64::libxgboost-1.2.0-he1b5a44_0\n",
            "  markdown           conda-forge/noarch::markdown-3.3.4-pyhd8ed1ab_0\n",
            "  mdtraj             conda-forge/linux-64::mdtraj-1.9.5-py37h113d463_0\n",
            "  openmm             omnia/linux-64::openmm-7.4.2-py37_cuda101_rc_1\n",
            "  pdbfixer           omnia/noarch::pdbfixer-1.6-py_1\n",
            "  protobuf           conda-forge/linux-64::protobuf-3.13.0.1-py37h745909e_1\n",
            "  py-boost           pkgs/main/linux-64::py-boost-1.67.0-py37h04863e7_4\n",
            "  py-xgboost         conda-forge/linux-64::py-xgboost-1.2.0-py37hc8dfbb8_0\n",
            "  python_abi         conda-forge/linux-64::python_abi-3.7-1_cp37m\n",
            "  rdkit              rdkit/linux-64::rdkit-2020.03.3.0-py37hc20afe1_1\n",
            "  simdna             deepchem/noarch::simdna-0.4.2-py_0\n",
            "  tensorboard        conda-forge/linux-64::tensorboard-1.14.0-py37_0\n",
            "  tensorflow         pkgs/main/linux-64::tensorflow-1.14.0-gpu_py37h74c33d7_0\n",
            "  tensorflow-base    pkgs/main/linux-64::tensorflow-base-1.14.0-gpu_py37he45bfe2_0\n",
            "  tensorflow-estima~ conda-forge/linux-64::tensorflow-estimator-1.14.0-py37h5ca1d4c_0\n",
            "  tensorflow-gpu     pkgs/main/linux-64::tensorflow-gpu-1.14.0-h0d30ee6_0\n",
            "  termcolor          conda-forge/noarch::termcolor-1.1.0-py_2\n",
            "  typing_extensions  conda-forge/noarch::typing_extensions-3.7.4.3-py_0\n",
            "  xgboost            conda-forge/linux-64::xgboost-1.2.0-py37h3340039_0\n",
            "\n",
            "The following packages will be UPDATED:\n",
            "\n",
            "  conda                      pkgs/main::conda-4.7.12-py37_0 --> conda-forge::conda-4.10.0-py37h89c1867_0\n",
            "\n",
            "The following packages will be SUPERSEDED by a higher-priority channel:\n",
            "\n",
            "  certifi                                         pkgs/main --> conda-forge\n",
            "\n",
            "\n",
            "\n",
            "Downloading and Extracting Packages\n",
            "tensorflow-base-1.14 | 146.3 MB  | : 100% 1.0/1 [00:07<00:00,  7.54s/it]               \n",
            "libxgboost-1.2.0     | 3.1 MB    | : 100% 1.0/1 [00:00<00:00,  2.01it/s]\n",
            "tensorboard-1.14.0   | 3.2 MB    | : 100% 1.0/1 [00:00<00:00,  2.35it/s]\n",
            "mdtraj-1.9.5         | 1.7 MB    | : 100% 1.0/1 [00:00<00:00,  3.61it/s]\n",
            "markdown-3.3.4       | 67 KB     | : 100% 1.0/1 [00:00<00:00, 27.09it/s]\n",
            "protobuf-3.13.0.1    | 704 KB    | : 100% 1.0/1 [00:00<00:00,  5.79it/s]\n",
            "libboost-1.67.0      | 13.0 MB   | : 100% 1.0/1 [00:03<00:00,  3.84s/it]               \n",
            "fftw3f-3.3.4         | 1.2 MB    | : 100% 1.0/1 [00:03<00:00,  3.28s/it]\n",
            "grpcio-1.23.0        | 1.1 MB    | : 100% 1.0/1 [00:00<00:00,  5.10it/s]\n",
            "cudatoolkit-10.1.243 | 347.4 MB  | : 100% 1.0/1 [00:15<00:00, 15.28s/it]               \n",
            "libprotobuf-3.13.0.1 | 2.3 MB    | : 100% 1.0/1 [00:01<00:00, 133.07s/it]                 \n",
            "typing_extensions-3. | 25 KB     | : 100% 1.0/1 [00:00<00:00, 28.44it/s]\n",
            "conda-4.10.0         | 3.1 MB    | : 100% 1.0/1 [00:00<00:00,  1.91it/s]\n",
            "google-pasta-0.2.0   | 42 KB     | : 100% 1.0/1 [00:00<00:00, 29.63it/s]\n",
            "tensorflow-gpu-1.14. | 3 KB      | : 100% 1.0/1 [00:00<00:00, 10.88it/s]\n",
            "deepchem-gpu-2.3.0   | 2.1 MB    | : 100% 1.0/1 [00:03<00:00,  3.57s/it]\n",
            "rdkit-2020.03.3.0    | 24.8 MB   | : 100% 1.0/1 [00:08<00:00,  8.54s/it]\n",
            "astunparse-1.6.3     | 15 KB     | : 100% 1.0/1 [00:00<00:00, 27.64it/s]\n",
            "astor-0.8.1          | 25 KB     | : 100% 1.0/1 [00:00<00:00, 31.60it/s]\n",
            "tensorflow-estimator | 645 KB    | : 100% 1.0/1 [00:00<00:00,  5.70it/s]\n",
            "simdna-0.4.2         | 627 KB    | : 100% 1.0/1 [00:02<00:00,  2.28s/it]\n",
            "keras-applications-1 | 30 KB     | : 100% 1.0/1 [00:00<00:00, 23.06it/s]\n",
            "_tflow_select-2.1.0  | 2 KB      | : 100% 1.0/1 [00:00<00:00, 10.68it/s]\n",
            "py-boost-1.67.0      | 278 KB    | : 100% 1.0/1 [00:00<00:00,  9.19it/s]\n",
            "pdbfixer-1.6         | 167 KB    | : 100% 1.0/1 [00:02<00:00,  2.36s/it]\n",
            "python_abi-3.7       | 4 KB      | : 100% 1.0/1 [00:00<00:00, 35.04it/s]\n",
            "xgboost-1.2.0        | 11 KB     | : 100% 1.0/1 [00:00<00:00, 41.32it/s]\n",
            "c-ares-1.17.1        | 111 KB    | : 100% 1.0/1 [00:00<00:00, 20.99it/s]\n",
            "certifi-2019.9.11    | 147 KB    | : 100% 1.0/1 [00:00<00:00, 12.05it/s]\n",
            "importlib-metadata-3 | 27 KB     | : 100% 1.0/1 [00:00<00:00, 23.81it/s]\n",
            "absl-py-0.12.0       | 96 KB     | : 100% 1.0/1 [00:00<00:00, 22.58it/s]\n",
            "cudnn-7.6.5.32       | 250.7 MB  | : 100% 1.0/1 [00:28<00:00, 28.89s/it]               \n",
            "py-xgboost-1.2.0     | 1.7 MB    | : 100% 1.0/1 [00:00<00:00,  3.39it/s]\n",
            "tensorflow-1.14.0    | 4 KB      | : 100% 1.0/1 [00:00<00:00, 10.26it/s]\n",
            "keras-preprocessing- | 34 KB     | : 100% 1.0/1 [00:00<00:00, 29.94it/s]\n",
            "openmm-7.4.2         | 11.9 MB   | : 100% 1.0/1 [00:06<00:00,  6.49s/it]\n",
            "cupti-10.1.168       | 1.4 MB    | : 100% 1.0/1 [00:00<00:00,  7.51it/s]\n",
            "_py-xgboost-mutex-2. | 8 KB      | : 100% 1.0/1 [00:00<00:00, 30.63it/s]\n",
            "gast-0.4.0           | 12 KB     | : 100% 1.0/1 [00:00<00:00, 29.02it/s]\n",
            "termcolor-1.1.0      | 6 KB      | : 100% 1.0/1 [00:00<00:00, 41.18it/s]\n",
            "Preparing transaction: | \b\b/ \b\b- \b\b\\ \b\b| \b\b/ \b\b- \b\b\\ \b\bdone\n",
            "Verifying transaction: / \b\b- \b\b\\ \b\b| \b\b/ \b\b- \b\b\\ \b\b| \b\b/ \b\b- \b\b\\ \b\b| \b\b/ \b\b- \b\b\\ \b\b| \b\b/ \b\b- \b\b\\ \b\b| \b\b/ \b\b- \b\b\\ \b\bdone\n",
            "Executing transaction: / \b\b- \b\b\\ \b\b| \b\b/ \b\b- \b\b\\ \b\b| \b\b/ \b\b- \b\b\\ \b\b| \b\b/ \b\b- \b\b\\ \b\b| \b\b/ b'By downloading and using the cuDNN conda packages, you accept the terms and conditions of the NVIDIA cuDNN EULA -\\n  https://docs.nvidia.com/deeplearning/cudnn/sla/index.html\\n'\n",
            "\b\b- \b\b\\ \b\b| \b\b/ \b\b- \b\b\\ \b\b| \b\b/ \b\b- \b\b\\ \b\b| \b\b/ \b\b- \b\b\\ \b\b| \b\b/ \b\bdone\n",
            "\n",
            "real\t4m33.393s\n",
            "user\t3m40.483s\n",
            "sys\t0m12.216s\n"
          ],
          "name": "stdout"
        },
        {
          "output_type": "stream",
          "text": [
            "/usr/local/lib/python3.7/dist-packages/sklearn/externals/joblib/__init__.py:15: FutureWarning: sklearn.externals.joblib is deprecated in 0.21 and will be removed in 0.23. Please import this functionality directly from joblib, which can be installed with: pip install joblib. If this warning is raised when loading pickled models, you may need to re-serialize those models with scikit-learn 0.21+.\n",
            "  warnings.warn(msg, category=FutureWarning)\n"
          ],
          "name": "stderr"
        },
        {
          "output_type": "stream",
          "text": [
            "WARNING:tensorflow:\n",
            "The TensorFlow contrib module will not be included in TensorFlow 2.0.\n",
            "For more information, please see:\n",
            "  * https://github.com/tensorflow/community/blob/master/rfcs/20180907-contrib-sunset.md\n",
            "  * https://github.com/tensorflow/addons\n",
            "  * https://github.com/tensorflow/io (for I/O related ops)\n",
            "If you depend on functionality not listed there, please file an issue.\n",
            "\n",
            "Collecting package metadata (current_repodata.json): - \b\b\\ \b\b| \b\b/ \b\b- \b\b\\ \b\b| \b\b/ \b\b- \b\b\\ \b\b| \b\b/ \b\b- \b\b\\ \b\b| \b\b/ \b\b- \b\b\\ \b\b| \b\b/ \b\b- \b\b\\ \b\b| \b\b/ \b\b- \b\b\\ \b\b| \b\b/ \b\b- \b\b\\ \b\bfailed\n",
            "\n",
            "InvalidVersionSpec: Invalid version '4.19.112+': empty version component\n",
            "\n",
            "\n",
            "real\t0m6.684s\n",
            "user\t0m5.725s\n",
            "sys\t0m1.115s\n",
            "--2021-04-01 18:07:03--  https://raw.githubusercontent.com/ravichas/AMPL-Tutorial/master/config/install_AMPL_GPU_test.sh\n",
            "Resolving raw.githubusercontent.com (raw.githubusercontent.com)... 185.199.111.133, 185.199.110.133, 185.199.108.133, ...\n",
            "Connecting to raw.githubusercontent.com (raw.githubusercontent.com)|185.199.111.133|:443... connected.\n",
            "HTTP request sent, awaiting response... 200 OK\n",
            "Length: 1100 (1.1K) [text/plain]\n",
            "Saving to: ‘install_AMPL_GPU_test.sh’\n",
            "\n",
            "install_AMPL_GPU_te 100%[===================>]   1.07K  --.-KB/s    in 0s      \n",
            "\n",
            "2021-04-01 18:07:04 (67.1 MB/s) - ‘install_AMPL_GPU_test.sh’ saved [1100/1100]\n",
            "\n",
            "Cloning into 'AMPL'...\n",
            "remote: Enumerating objects: 389, done.\u001b[K\n",
            "remote: Counting objects: 100% (389/389), done.\u001b[K\n",
            "remote: Compressing objects: 100% (223/223), done.\u001b[K\n",
            "remote: Total 1897 (delta 277), reused 232 (delta 166), pack-reused 1508\u001b[K\n",
            "Receiving objects: 100% (1897/1897), 9.69 MiB | 13.96 MiB/s, done.\n",
            "Resolving deltas: 100% (1089/1089), done.\n",
            "Branch 'pkg_upgrade' set up to track remote branch 'pkg_upgrade' from 'origin'.\n",
            "Switched to a new branch 'pkg_upgrade'\n",
            "patching file /content/github/AMPL/atomsci/ddm/pipeline/transformations.py\n",
            "patching file /content/github/AMPL/atomsci/ddm/__init__.py\n",
            "running build\n",
            "running build_py\n",
            "creating /content/github/AMPL.build/ampl/lib\n",
            "creating /content/github/AMPL.build/ampl/lib/atomsci\n",
            "copying atomsci/__init__.py -> /content/github/AMPL.build/ampl/lib/atomsci\n",
            "creating /content/github/AMPL.build/ampl/lib/atomsci/ddm\n",
            "copying atomsci/ddm/__init__.py -> /content/github/AMPL.build/ampl/lib/atomsci/ddm\n",
            "creating /content/github/AMPL.build/ampl/lib/atomsci/ddm/utils\n",
            "copying atomsci/ddm/utils/datastore_functions.py -> /content/github/AMPL.build/ampl/lib/atomsci/ddm/utils\n",
            "copying atomsci/ddm/utils/genTestset.py -> /content/github/AMPL.build/ampl/lib/atomsci/ddm/utils\n",
            "copying atomsci/ddm/utils/open-docs.py -> /content/github/AMPL.build/ampl/lib/atomsci/ddm/utils\n",
            "copying atomsci/ddm/utils/process_slurm.py -> /content/github/AMPL.build/ampl/lib/atomsci/ddm/utils\n",
            "copying atomsci/ddm/utils/data_curation_functions.py -> /content/github/AMPL.build/ampl/lib/atomsci/ddm/utils\n",
            "copying atomsci/ddm/utils/rdkit_easy.py -> /content/github/AMPL.build/ampl/lib/atomsci/ddm/utils\n",
            "copying atomsci/ddm/utils/curate_data.py -> /content/github/AMPL.build/ampl/lib/atomsci/ddm/utils\n",
            "copying atomsci/ddm/utils/struct_utils.py -> /content/github/AMPL.build/ampl/lib/atomsci/ddm/utils\n",
            "copying atomsci/ddm/utils/llnl_utils.py -> /content/github/AMPL.build/ampl/lib/atomsci/ddm/utils\n",
            "copying atomsci/ddm/utils/hyperparam_search_wrapper.py -> /content/github/AMPL.build/ampl/lib/atomsci/ddm/utils\n",
            "copying atomsci/ddm/utils/__init__.py -> /content/github/AMPL.build/ampl/lib/atomsci/ddm/utils\n",
            "copying atomsci/ddm/utils/pubchem_utils.py -> /content/github/AMPL.build/ampl/lib/atomsci/ddm/utils\n",
            "creating /content/github/AMPL.build/ampl/lib/atomsci/ddm/pipeline\n",
            "copying atomsci/ddm/pipeline/compare_models.py -> /content/github/AMPL.build/ampl/lib/atomsci/ddm/pipeline\n",
            "copying atomsci/ddm/pipeline/predict_from_model.py -> /content/github/AMPL.build/ampl/lib/atomsci/ddm/pipeline\n",
            "copying atomsci/ddm/pipeline/parameter_parser.py -> /content/github/AMPL.build/ampl/lib/atomsci/ddm/pipeline\n",
            "copying atomsci/ddm/pipeline/featurization.py -> /content/github/AMPL.build/ampl/lib/atomsci/ddm/pipeline\n",
            "copying atomsci/ddm/pipeline/temporal_splitter.py -> /content/github/AMPL.build/ampl/lib/atomsci/ddm/pipeline\n",
            "copying atomsci/ddm/pipeline/splitting.py -> /content/github/AMPL.build/ampl/lib/atomsci/ddm/pipeline\n",
            "copying atomsci/ddm/pipeline/chem_diversity.py -> /content/github/AMPL.build/ampl/lib/atomsci/ddm/pipeline\n",
            "copying atomsci/ddm/pipeline/dist_metrics.py -> /content/github/AMPL.build/ampl/lib/atomsci/ddm/pipeline\n",
            "copying atomsci/ddm/pipeline/hyper_perf_plots.py -> /content/github/AMPL.build/ampl/lib/atomsci/ddm/pipeline\n",
            "copying atomsci/ddm/pipeline/model_pipeline.py -> /content/github/AMPL.build/ampl/lib/atomsci/ddm/pipeline\n",
            "copying atomsci/ddm/pipeline/model_tracker.py -> /content/github/AMPL.build/ampl/lib/atomsci/ddm/pipeline\n",
            "copying atomsci/ddm/pipeline/perf_plots.py -> /content/github/AMPL.build/ampl/lib/atomsci/ddm/pipeline\n",
            "copying atomsci/ddm/pipeline/model_datasets.py -> /content/github/AMPL.build/ampl/lib/atomsci/ddm/pipeline\n",
            "copying atomsci/ddm/pipeline/ave_splitter.py -> /content/github/AMPL.build/ampl/lib/atomsci/ddm/pipeline\n",
            "copying atomsci/ddm/pipeline/model_wrapper.py -> /content/github/AMPL.build/ampl/lib/atomsci/ddm/pipeline\n",
            "copying atomsci/ddm/pipeline/__init__.py -> /content/github/AMPL.build/ampl/lib/atomsci/ddm/pipeline\n",
            "copying atomsci/ddm/pipeline/perf_data.py -> /content/github/AMPL.build/ampl/lib/atomsci/ddm/pipeline\n",
            "copying atomsci/ddm/pipeline/diversity_plots.py -> /content/github/AMPL.build/ampl/lib/atomsci/ddm/pipeline\n",
            "copying atomsci/ddm/pipeline/transformations.py -> /content/github/AMPL.build/ampl/lib/atomsci/ddm/pipeline\n",
            "running egg_info\n",
            "creating /content/github/AMPL.build/ampl/atomsci_ampl.egg-info\n",
            "writing /content/github/AMPL.build/ampl/atomsci_ampl.egg-info/PKG-INFO\n",
            "writing dependency_links to /content/github/AMPL.build/ampl/atomsci_ampl.egg-info/dependency_links.txt\n",
            "writing namespace_packages to /content/github/AMPL.build/ampl/atomsci_ampl.egg-info/namespace_packages.txt\n",
            "writing top-level names to /content/github/AMPL.build/ampl/atomsci_ampl.egg-info/top_level.txt\n",
            "writing manifest file '/content/github/AMPL.build/ampl/atomsci_ampl.egg-info/SOURCES.txt'\n",
            "reading manifest file '/content/github/AMPL.build/ampl/atomsci_ampl.egg-info/SOURCES.txt'\n",
            "reading manifest template 'MANIFEST.in'\n",
            "warning: no files found matching 'atomsci/*/*.yaml'\n",
            "writing manifest file '/content/github/AMPL.build/ampl/atomsci_ampl.egg-info/SOURCES.txt'\n",
            "creating /content/github/AMPL.build/ampl/lib/atomsci/ddm/data\n",
            "copying atomsci/ddm/data/descriptor_sets_sources_by_descr_type.csv -> /content/github/AMPL.build/ampl/lib/atomsci/ddm/data\n",
            "running bdist_wheel\n",
            "installing to /content/github/AMPL.build/ampl/bdist.linux-x86_64/wheel\n",
            "running install\n",
            "running install_lib\n",
            "Skipping installation of /content/github/AMPL.build/ampl/bdist.linux-x86_64/wheel/atomsci/__init__.py (namespace package)\n",
            "copying atomsci/ddm/__init__.py -> /content/github/AMPL.build/ampl/bdist.linux-x86_64/wheel/atomsci/ddm\n",
            "copying atomsci/ddm/utils/datastore_functions.py -> /content/github/AMPL.build/ampl/bdist.linux-x86_64/wheel/atomsci/ddm/utils\n",
            "copying atomsci/ddm/utils/genTestset.py -> /content/github/AMPL.build/ampl/bdist.linux-x86_64/wheel/atomsci/ddm/utils\n",
            "copying atomsci/ddm/utils/open-docs.py -> /content/github/AMPL.build/ampl/bdist.linux-x86_64/wheel/atomsci/ddm/utils\n",
            "copying atomsci/ddm/utils/process_slurm.py -> /content/github/AMPL.build/ampl/bdist.linux-x86_64/wheel/atomsci/ddm/utils\n",
            "copying atomsci/ddm/utils/data_curation_functions.py -> /content/github/AMPL.build/ampl/bdist.linux-x86_64/wheel/atomsci/ddm/utils\n",
            "copying atomsci/ddm/utils/rdkit_easy.py -> /content/github/AMPL.build/ampl/bdist.linux-x86_64/wheel/atomsci/ddm/utils\n",
            "copying atomsci/ddm/utils/curate_data.py -> /content/github/AMPL.build/ampl/bdist.linux-x86_64/wheel/atomsci/ddm/utils\n",
            "copying atomsci/ddm/utils/struct_utils.py -> /content/github/AMPL.build/ampl/bdist.linux-x86_64/wheel/atomsci/ddm/utils\n",
            "copying atomsci/ddm/utils/llnl_utils.py -> /content/github/AMPL.build/ampl/bdist.linux-x86_64/wheel/atomsci/ddm/utils\n",
            "copying atomsci/ddm/utils/hyperparam_search_wrapper.py -> /content/github/AMPL.build/ampl/bdist.linux-x86_64/wheel/atomsci/ddm/utils\n",
            "copying atomsci/ddm/utils/__init__.py -> /content/github/AMPL.build/ampl/bdist.linux-x86_64/wheel/atomsci/ddm/utils\n",
            "copying atomsci/ddm/utils/pubchem_utils.py -> /content/github/AMPL.build/ampl/bdist.linux-x86_64/wheel/atomsci/ddm/utils\n",
            "copying atomsci/ddm/data/descriptor_sets_sources_by_descr_type.csv -> /content/github/AMPL.build/ampl/bdist.linux-x86_64/wheel/atomsci/ddm/data\n",
            "copying atomsci/ddm/pipeline/compare_models.py -> /content/github/AMPL.build/ampl/bdist.linux-x86_64/wheel/atomsci/ddm/pipeline\n",
            "copying atomsci/ddm/pipeline/predict_from_model.py -> /content/github/AMPL.build/ampl/bdist.linux-x86_64/wheel/atomsci/ddm/pipeline\n",
            "copying atomsci/ddm/pipeline/parameter_parser.py -> /content/github/AMPL.build/ampl/bdist.linux-x86_64/wheel/atomsci/ddm/pipeline\n",
            "copying atomsci/ddm/pipeline/featurization.py -> /content/github/AMPL.build/ampl/bdist.linux-x86_64/wheel/atomsci/ddm/pipeline\n",
            "copying atomsci/ddm/pipeline/temporal_splitter.py -> /content/github/AMPL.build/ampl/bdist.linux-x86_64/wheel/atomsci/ddm/pipeline\n",
            "copying atomsci/ddm/pipeline/splitting.py -> /content/github/AMPL.build/ampl/bdist.linux-x86_64/wheel/atomsci/ddm/pipeline\n",
            "copying atomsci/ddm/pipeline/chem_diversity.py -> /content/github/AMPL.build/ampl/bdist.linux-x86_64/wheel/atomsci/ddm/pipeline\n",
            "copying atomsci/ddm/pipeline/dist_metrics.py -> /content/github/AMPL.build/ampl/bdist.linux-x86_64/wheel/atomsci/ddm/pipeline\n",
            "copying atomsci/ddm/pipeline/hyper_perf_plots.py -> /content/github/AMPL.build/ampl/bdist.linux-x86_64/wheel/atomsci/ddm/pipeline\n",
            "copying atomsci/ddm/pipeline/model_pipeline.py -> /content/github/AMPL.build/ampl/bdist.linux-x86_64/wheel/atomsci/ddm/pipeline\n",
            "copying atomsci/ddm/pipeline/model_tracker.py -> /content/github/AMPL.build/ampl/bdist.linux-x86_64/wheel/atomsci/ddm/pipeline\n",
            "copying atomsci/ddm/pipeline/perf_plots.py -> /content/github/AMPL.build/ampl/bdist.linux-x86_64/wheel/atomsci/ddm/pipeline\n",
            "copying atomsci/ddm/pipeline/model_datasets.py -> /content/github/AMPL.build/ampl/bdist.linux-x86_64/wheel/atomsci/ddm/pipeline\n",
            "copying atomsci/ddm/pipeline/ave_splitter.py -> /content/github/AMPL.build/ampl/bdist.linux-x86_64/wheel/atomsci/ddm/pipeline\n",
            "copying atomsci/ddm/pipeline/model_wrapper.py -> /content/github/AMPL.build/ampl/bdist.linux-x86_64/wheel/atomsci/ddm/pipeline\n",
            "copying atomsci/ddm/pipeline/__init__.py -> /content/github/AMPL.build/ampl/bdist.linux-x86_64/wheel/atomsci/ddm/pipeline\n",
            "copying atomsci/ddm/pipeline/perf_data.py -> /content/github/AMPL.build/ampl/bdist.linux-x86_64/wheel/atomsci/ddm/pipeline\n",
            "copying atomsci/ddm/pipeline/diversity_plots.py -> /content/github/AMPL.build/ampl/bdist.linux-x86_64/wheel/atomsci/ddm/pipeline\n",
            "copying atomsci/ddm/pipeline/transformations.py -> /content/github/AMPL.build/ampl/bdist.linux-x86_64/wheel/atomsci/ddm/pipeline\n",
            "running install_egg_info\n",
            "Copying /content/github/AMPL.build/ampl/atomsci_ampl.egg-info to /content/github/AMPL.build/ampl/bdist.linux-x86_64/wheel/atomsci_ampl-1.0.0.dev1-py3.7.egg-info\n",
            "Installing /content/github/AMPL.build/ampl/bdist.linux-x86_64/wheel/atomsci_ampl-1.0.0.dev1-py3.7-nspkg.pth\n",
            "running install_scripts\n",
            "adding license file \"LICENSE\" (matched pattern \"LICEN[CS]E*\")\n",
            "adding license file \"NOTICE\" (matched pattern \"NOTICE*\")\n",
            "creating /content/github/AMPL.build/ampl/bdist.linux-x86_64/wheel/atomsci_ampl-1.0.0.dev1.dist-info/WHEEL\n",
            "creating '/content/github/AMPL.dist/atomsci_ampl-1.0.0.dev1-py3-none-any.whl' and adding '/content/github/AMPL.build/ampl/bdist.linux-x86_64/wheel' to it\n",
            "adding 'atomsci_ampl-1.0.0.dev1-py3.7-nspkg.pth'\n",
            "adding 'atomsci/ddm/__init__.py'\n",
            "adding 'atomsci/ddm/data/descriptor_sets_sources_by_descr_type.csv'\n",
            "adding 'atomsci/ddm/pipeline/__init__.py'\n",
            "adding 'atomsci/ddm/pipeline/ave_splitter.py'\n",
            "adding 'atomsci/ddm/pipeline/chem_diversity.py'\n",
            "adding 'atomsci/ddm/pipeline/compare_models.py'\n",
            "adding 'atomsci/ddm/pipeline/dist_metrics.py'\n",
            "adding 'atomsci/ddm/pipeline/diversity_plots.py'\n",
            "adding 'atomsci/ddm/pipeline/featurization.py'\n",
            "adding 'atomsci/ddm/pipeline/hyper_perf_plots.py'\n",
            "adding 'atomsci/ddm/pipeline/model_datasets.py'\n",
            "adding 'atomsci/ddm/pipeline/model_pipeline.py'\n",
            "adding 'atomsci/ddm/pipeline/model_tracker.py'\n",
            "adding 'atomsci/ddm/pipeline/model_wrapper.py'\n",
            "adding 'atomsci/ddm/pipeline/parameter_parser.py'\n",
            "adding 'atomsci/ddm/pipeline/perf_data.py'\n",
            "adding 'atomsci/ddm/pipeline/perf_plots.py'\n",
            "adding 'atomsci/ddm/pipeline/predict_from_model.py'\n",
            "adding 'atomsci/ddm/pipeline/splitting.py'\n",
            "adding 'atomsci/ddm/pipeline/temporal_splitter.py'\n",
            "adding 'atomsci/ddm/pipeline/transformations.py'\n",
            "adding 'atomsci/ddm/utils/__init__.py'\n",
            "adding 'atomsci/ddm/utils/curate_data.py'\n",
            "adding 'atomsci/ddm/utils/data_curation_functions.py'\n",
            "adding 'atomsci/ddm/utils/datastore_functions.py'\n",
            "adding 'atomsci/ddm/utils/genTestset.py'\n",
            "adding 'atomsci/ddm/utils/hyperparam_search_wrapper.py'\n",
            "adding 'atomsci/ddm/utils/llnl_utils.py'\n",
            "adding 'atomsci/ddm/utils/open-docs.py'\n",
            "adding 'atomsci/ddm/utils/process_slurm.py'\n",
            "adding 'atomsci/ddm/utils/pubchem_utils.py'\n",
            "adding 'atomsci/ddm/utils/rdkit_easy.py'\n",
            "adding 'atomsci/ddm/utils/struct_utils.py'\n",
            "adding 'atomsci_ampl-1.0.0.dev1.dist-info/LICENSE'\n",
            "adding 'atomsci_ampl-1.0.0.dev1.dist-info/METADATA'\n",
            "adding 'atomsci_ampl-1.0.0.dev1.dist-info/NOTICE'\n",
            "adding 'atomsci_ampl-1.0.0.dev1.dist-info/WHEEL'\n",
            "adding 'atomsci_ampl-1.0.0.dev1.dist-info/namespace_packages.txt'\n",
            "adding 'atomsci_ampl-1.0.0.dev1.dist-info/top_level.txt'\n",
            "adding 'atomsci_ampl-1.0.0.dev1.dist-info/RECORD'\n",
            "removing /content/github/AMPL.build/ampl/bdist.linux-x86_64/wheel\n",
            "DIR: /content/github/AMPL\n",
            "Ignoring indexes: https://pypi.org/simple\n",
            "Created temporary directory: /tmp/pip-ephem-wheel-cache-k5wgq1dh\n",
            "Created temporary directory: /tmp/pip-req-tracker-ldttnze0\n",
            "Created requirements tracker '/tmp/pip-req-tracker-ldttnze0'\n",
            "Created temporary directory: /tmp/pip-install-qh13bqwk\n",
            "Looking in links: /content/github/AMPL.dist\n",
            "Collecting atomsci_ampl\n",
            "  0 location(s) to search for versions of atomsci-ampl:\n",
            "  Skipping link: unsupported archive format: .dist: /content/github/AMPL.dist (from -f)\n",
            "  Found link file:///content/github/AMPL.dist/atomsci_ampl-1.0.0.dev1-py3-none-any.whl, version: 1.0.0.dev1\n",
            "  Local files found: /content/github/AMPL.dist/atomsci_ampl-1.0.0.dev1-py3-none-any.whl\n",
            "  Given no hashes to check 1 links for project 'atomsci-ampl': discarding no candidates\n",
            "  Using version 1.0.0.dev1 (newest of versions: 1.0.0.dev1)\n",
            "  Added atomsci_ampl from file:///content/github/AMPL.dist/atomsci_ampl-1.0.0.dev1-py3-none-any.whl to build tracker '/tmp/pip-req-tracker-ldttnze0'\n",
            "  Removed atomsci_ampl from file:///content/github/AMPL.dist/atomsci_ampl-1.0.0.dev1-py3-none-any.whl from build tracker '/tmp/pip-req-tracker-ldttnze0'\n",
            "Installing collected packages: atomsci-ampl\n",
            "\n",
            "Successfully installed atomsci-ampl-1.0.0.dev1\n",
            "Cleaning up...\n",
            "Removed build tracker '/tmp/pip-req-tracker-ldttnze0'\n"
          ],
          "name": "stdout"
        }
      ]
    },
    {
      "cell_type": "code",
      "metadata": {
        "colab": {
          "base_uri": "https://localhost:8080/"
        },
        "id": "c_nI-wk5mfvB",
        "outputId": "e53ed151-6b80-484b-b353-eae1123f8ab5"
      },
      "source": [
        "# Load AMPL in this notebook\n",
        "\n",
        "site_packages_path = '/content/AMPL/lib/python3.7/site-packages'\n",
        "if site_packages_path not in sys.path:\n",
        "  sys.path.insert(1, site_packages_path)\n",
        "sys.path"
      ],
      "execution_count": 3,
      "outputs": [
        {
          "output_type": "execute_result",
          "data": {
            "text/plain": [
              "['/tensorflow-1.15.2/python3.7',\n",
              " '/content/AMPL/lib/python3.7/site-packages',\n",
              " '',\n",
              " '/content',\n",
              " '/env/python',\n",
              " '/usr/lib/python37.zip',\n",
              " '/usr/lib/python3.7',\n",
              " '/usr/lib/python3.7/lib-dynload',\n",
              " '/usr/local/lib/python3.7/dist-packages',\n",
              " '/usr/lib/python3/dist-packages',\n",
              " '/usr/local/lib/python3.7/dist-packages/IPython/extensions',\n",
              " '/root/.ipython',\n",
              " '/usr/local/lib/python3.7/site-packages/']"
            ]
          },
          "metadata": {
            "tags": []
          },
          "execution_count": 3
        }
      ]
    },
    {
      "cell_type": "code",
      "metadata": {
        "id": "tlbKYldXmgKL"
      },
      "source": [
        "if 'cffi' in sys.modules:\n",
        "  del sys.modules['cffi']"
      ],
      "execution_count": 4,
      "outputs": []
    },
    {
      "cell_type": "code",
      "metadata": {
        "id": "InUQE4II1noi",
        "colab": {
          "base_uri": "https://localhost:8080/"
        },
        "outputId": "9b24a528-4396-46e4-b0b2-579117c0e7ee"
      },
      "source": [
        "!wget https://raw.githubusercontent.com/jm5159/E4511-2021-Mao/master/Dataset/CYP3A4_cur_delaney.csv"
      ],
      "execution_count": 29,
      "outputs": [
        {
          "output_type": "stream",
          "text": [
            "--2021-04-01 18:26:13--  https://raw.githubusercontent.com/jm5159/E4511-2021-Mao/master/Dataset/CYP3A4_cur_delaney.csv\n",
            "Resolving raw.githubusercontent.com (raw.githubusercontent.com)... 185.199.108.133, 185.199.109.133, 185.199.110.133, ...\n",
            "Connecting to raw.githubusercontent.com (raw.githubusercontent.com)|185.199.108.133|:443... connected.\n",
            "HTTP request sent, awaiting response... 200 OK\n",
            "Length: 3924905 (3.7M) [text/plain]\n",
            "Saving to: ‘CYP3A4_cur_delaney.csv’\n",
            "\n",
            "CYP3A4_cur_delaney. 100%[===================>]   3.74M  22.6MB/s    in 0.2s    \n",
            "\n",
            "2021-04-01 18:26:13 (22.6 MB/s) - ‘CYP3A4_cur_delaney.csv’ saved [3924905/3924905]\n",
            "\n"
          ],
          "name": "stdout"
        }
      ]
    },
    {
      "cell_type": "code",
      "metadata": {
        "id": "2PO0-2HKvVpn",
        "colab": {
          "base_uri": "https://localhost:8080/"
        },
        "outputId": "3016e59c-e320-4fb6-a288-df7a995d61d3"
      },
      "source": [
        "!pip install hyperopt"
      ],
      "execution_count": 6,
      "outputs": [
        {
          "output_type": "stream",
          "text": [
            "Collecting hyperopt\n",
            "\u001b[?25l  Downloading https://files.pythonhosted.org/packages/a6/07/bd524635d218adae139be320eeac87fb4fbbd45c63b0bd58930c9e91f1fc/hyperopt-0.2.5-py2.py3-none-any.whl (965kB)\n",
            "\u001b[K     |████████████████████████████████| 972kB 2.0MB/s \n",
            "\u001b[?25hRequirement already satisfied: scipy in /usr/local/lib/python3.7/site-packages (from hyperopt) (1.3.1)\n",
            "Requirement already satisfied: cloudpickle in /usr/local/lib/python3.7/site-packages (from hyperopt) (1.2.2)\n",
            "Requirement already satisfied: tqdm in /usr/local/lib/python3.7/site-packages (from hyperopt) (4.36.1)\n",
            "Requirement already satisfied: numpy in /usr/local/lib/python3.7/site-packages (from hyperopt) (1.17.2)\n",
            "Requirement already satisfied: networkx>=2.2 in /usr/local/lib/python3.7/site-packages (from hyperopt) (2.3)\n",
            "Requirement already satisfied: future in /usr/local/lib/python3.7/site-packages (from hyperopt) (0.17.1)\n",
            "Requirement already satisfied: six in /usr/local/lib/python3.7/site-packages (from hyperopt) (1.12.0)\n",
            "Requirement already satisfied: decorator>=4.3.0 in /usr/local/lib/python3.7/site-packages (from networkx>=2.2->hyperopt) (4.4.0)\n",
            "Installing collected packages: hyperopt\n",
            "Successfully installed hyperopt-0.2.5\n"
          ],
          "name": "stdout"
        }
      ]
    },
    {
      "cell_type": "code",
      "metadata": {
        "colab": {
          "base_uri": "https://localhost:8080/"
        },
        "id": "GodmjdatoHAt",
        "outputId": "a6eeb5a7-cfec-4d15-9e1b-40d1a2bb29b8"
      },
      "source": [
        "!pip install bravado"
      ],
      "execution_count": 12,
      "outputs": [
        {
          "output_type": "stream",
          "text": [
            "Collecting bravado\n",
            "  Downloading https://files.pythonhosted.org/packages/21/ed/03b0c36b5bcafbe2938ed222f9a164a6c0367ce99a9d2d502e462853571d/bravado-11.0.3-py2.py3-none-any.whl\n",
            "Collecting bravado-core>=5.16.1 (from bravado)\n",
            "\u001b[?25l  Downloading https://files.pythonhosted.org/packages/76/11/18e9d28a156c33f2d5f15a5e155dc7130250acb0a569255a2b6b307b596d/bravado_core-5.17.0-py2.py3-none-any.whl (67kB)\n",
            "\u001b[K     |████████████████████████████████| 71kB 2.8MB/s \n",
            "\u001b[?25hRequirement already satisfied: six in /usr/local/lib/python3.7/site-packages (from bravado) (1.12.0)\n",
            "Collecting simplejson (from bravado)\n",
            "\u001b[?25l  Downloading https://files.pythonhosted.org/packages/a8/04/377418ac1e530ce2a196b54c6552c018fdf1fe776718053efb1f216bffcd/simplejson-3.17.2-cp37-cp37m-manylinux2010_x86_64.whl (128kB)\n",
            "\u001b[K     |████████████████████████████████| 133kB 10.8MB/s \n",
            "\u001b[?25hRequirement already satisfied: requests>=2.17 in /usr/local/lib/python3.7/site-packages (from bravado) (2.22.0)\n",
            "Requirement already satisfied: typing-extensions in /usr/local/lib/python3.7/site-packages (from bravado) (3.7.4.3)\n",
            "Requirement already satisfied: pyyaml in /usr/local/lib/python3.7/site-packages (from bravado) (5.1.2)\n",
            "Requirement already satisfied: python-dateutil in /usr/local/lib/python3.7/site-packages (from bravado) (2.8.0)\n",
            "Collecting monotonic (from bravado)\n",
            "  Downloading https://files.pythonhosted.org/packages/ac/aa/063eca6a416f397bd99552c534c6d11d57f58f2e94c14780f3bbf818c4cf/monotonic-1.5-py2.py3-none-any.whl\n",
            "Requirement already satisfied: msgpack in /usr/local/lib/python3.7/site-packages (from bravado) (0.6.1)\n",
            "Collecting jsonref (from bravado-core>=5.16.1->bravado)\n",
            "  Downloading https://files.pythonhosted.org/packages/07/92/f8e4ac824b14af77e613984e480fa818397c72d4141fc466decb26752749/jsonref-0.2-py3-none-any.whl\n",
            "Requirement already satisfied: jsonschema[format]>=2.5.1 in /usr/local/lib/python3.7/site-packages (from bravado-core>=5.16.1->bravado) (3.0.2)\n",
            "Collecting swagger-spec-validator>=2.0.1 (from bravado-core>=5.16.1->bravado)\n",
            "  Downloading https://files.pythonhosted.org/packages/09/de/e78cefbf5838b434b63a789264b79821cb2267f1498fbed23ef8590133e4/swagger_spec_validator-2.7.3-py2.py3-none-any.whl\n",
            "Requirement already satisfied: pytz in /usr/local/lib/python3.7/site-packages (from bravado-core>=5.16.1->bravado) (2019.3)\n",
            "Requirement already satisfied: certifi>=2017.4.17 in /usr/local/lib/python3.7/site-packages (from requests>=2.17->bravado) (2019.9.11)\n",
            "Requirement already satisfied: urllib3!=1.25.0,!=1.25.1,<1.26,>=1.21.1 in /usr/local/lib/python3.7/site-packages (from requests>=2.17->bravado) (1.24.2)\n",
            "Requirement already satisfied: idna<2.9,>=2.5 in /usr/local/lib/python3.7/site-packages (from requests>=2.17->bravado) (2.8)\n",
            "Requirement already satisfied: chardet<3.1.0,>=3.0.2 in /usr/local/lib/python3.7/site-packages (from requests>=2.17->bravado) (3.0.4)\n",
            "Requirement already satisfied: attrs>=17.4.0 in /usr/local/lib/python3.7/site-packages (from jsonschema[format]>=2.5.1->bravado-core>=5.16.1->bravado) (19.2.0)\n",
            "Requirement already satisfied: setuptools in /usr/local/lib/python3.7/site-packages (from jsonschema[format]>=2.5.1->bravado-core>=5.16.1->bravado) (41.4.0)\n",
            "Requirement already satisfied: pyrsistent>=0.14.0 in /usr/local/lib/python3.7/site-packages (from jsonschema[format]>=2.5.1->bravado-core>=5.16.1->bravado) (0.15.4)\n",
            "Collecting strict-rfc3339; extra == \"format\" (from jsonschema[format]>=2.5.1->bravado-core>=5.16.1->bravado)\n",
            "  Downloading https://files.pythonhosted.org/packages/56/e4/879ef1dbd6ddea1c77c0078cd59b503368b0456bcca7d063a870ca2119d3/strict-rfc3339-0.7.tar.gz\n",
            "Collecting webcolors; extra == \"format\" (from jsonschema[format]>=2.5.1->bravado-core>=5.16.1->bravado)\n",
            "  Downloading https://files.pythonhosted.org/packages/12/05/3350559de9714b202e443a9e6312937341bd5f79f4e4f625744295e7dd17/webcolors-1.11.1-py3-none-any.whl\n",
            "Collecting jsonpointer>1.13; extra == \"format\" (from jsonschema[format]>=2.5.1->bravado-core>=5.16.1->bravado)\n",
            "  Downloading https://files.pythonhosted.org/packages/23/52/05f67532aa922e494c351344e0d9624a01f74f5dd8402fe0d1b563a6e6fc/jsonpointer-2.1-py2.py3-none-any.whl\n",
            "Collecting rfc3987; extra == \"format\" (from jsonschema[format]>=2.5.1->bravado-core>=5.16.1->bravado)\n",
            "  Downloading https://files.pythonhosted.org/packages/65/d4/f7407c3d15d5ac779c3dd34fbbc6ea2090f77bd7dd12f207ccf881551208/rfc3987-1.3.8-py2.py3-none-any.whl\n",
            "Building wheels for collected packages: strict-rfc3339\n",
            "  Building wheel for strict-rfc3339 (setup.py) ... \u001b[?25l\u001b[?25hdone\n",
            "  Created wheel for strict-rfc3339: filename=strict_rfc3339-0.7-cp37-none-any.whl size=18120 sha256=f9072287fa263cff79cc352609a1d0de8f6732e9ff622cbfcb9826c39d711dc0\n",
            "  Stored in directory: /root/.cache/pip/wheels/bb/af/c9/b6e9fb5f9b2470e4ed2a7241c9ab3a8cdd3bc8555ae02ca2e6\n",
            "Successfully built strict-rfc3339\n",
            "Installing collected packages: jsonref, swagger-spec-validator, simplejson, bravado-core, monotonic, bravado, strict-rfc3339, webcolors, jsonpointer, rfc3987\n",
            "Successfully installed bravado-11.0.3 bravado-core-5.17.0 jsonpointer-2.1 jsonref-0.2 monotonic-1.5 rfc3987-1.3.8 simplejson-3.17.2 strict-rfc3339-0.7 swagger-spec-validator-2.7.3 webcolors-1.11.1\n"
          ],
          "name": "stdout"
        }
      ]
    },
    {
      "cell_type": "markdown",
      "metadata": {
        "id": "mTOwqhvR3xL3"
      },
      "source": [
        "### Load packages and dataset"
      ]
    },
    {
      "cell_type": "code",
      "metadata": {
        "id": "EeN9kEMO2R9Z"
      },
      "source": [
        "import warnings\n",
        "warnings.filterwarnings('ignore')\n",
        "\n",
        "import matplotlib.pyplot as plt\n",
        "import seaborn as sns\n",
        "import numpy as np\n",
        "sns.set_context(\"poster\")\n",
        "sns.set_style(\"whitegrid\")\n",
        "sns.set_palette(\"Set2\")\n",
        "\n",
        "import pandas as pd\n",
        "import os, json, sys, glob, pickle\n",
        "\n",
        "from atomsci.ddm.pipeline import parameter_parser as parse\n",
        "import atomsci.ddm.pipeline.model_pipeline as mp\n",
        "from atomsci.ddm.pipeline import perf_data\n",
        "\n",
        "from hyperopt import fmin, tpe, hp, Trials, STATUS_OK"
      ],
      "execution_count": 13,
      "outputs": []
    },
    {
      "cell_type": "code",
      "metadata": {
        "id": "C5J-cJNz2V5w"
      },
      "source": [
        "h1 = pd.read_csv(\"CYP3A4_cur_delaney.csv\")"
      ],
      "execution_count": 30,
      "outputs": []
    },
    {
      "cell_type": "code",
      "metadata": {
        "id": "v_fQuS473N1M",
        "colab": {
          "base_uri": "https://localhost:8080/",
          "height": 626
        },
        "outputId": "c605131e-edd1-4b92-e7d5-299b446b0ad7"
      },
      "source": [
        "h1"
      ],
      "execution_count": 31,
      "outputs": [
        {
          "output_type": "execute_result",
          "data": {
            "text/html": [
              "<div>\n",
              "<style scoped>\n",
              "    .dataframe tbody tr th:only-of-type {\n",
              "        vertical-align: middle;\n",
              "    }\n",
              "\n",
              "    .dataframe tbody tr th {\n",
              "        vertical-align: top;\n",
              "    }\n",
              "\n",
              "    .dataframe thead th {\n",
              "        text-align: right;\n",
              "    }\n",
              "</style>\n",
              "<table border=\"1\" class=\"dataframe\">\n",
              "  <thead>\n",
              "    <tr style=\"text-align: right;\">\n",
              "      <th></th>\n",
              "      <th>Unnamed: 0</th>\n",
              "      <th>compound_id</th>\n",
              "      <th>base_rdkit_smiles</th>\n",
              "      <th>relation</th>\n",
              "      <th>pXC50</th>\n",
              "      <th>active</th>\n",
              "      <th>rdkit_smiles</th>\n",
              "      <th>inchi_key</th>\n",
              "      <th>Compound_ID</th>\n",
              "      <th>VALUE_NUM_mean</th>\n",
              "      <th>VALUE_NUM_std</th>\n",
              "      <th>Perc_Var</th>\n",
              "      <th>Remove_BadDuplicate</th>\n",
              "    </tr>\n",
              "  </thead>\n",
              "  <tbody>\n",
              "    <tr>\n",
              "      <th>0</th>\n",
              "      <td>0</td>\n",
              "      <td>CHEMBL1537880</td>\n",
              "      <td>Cc1ccc(-c2nnc(C)c(N3CC(C)OC(C)C3)n2)cc1</td>\n",
              "      <td>NaN</td>\n",
              "      <td>5.300000</td>\n",
              "      <td>0</td>\n",
              "      <td>Cc1ccc(-c2nnc(C)c(N3CC(C)OC(C)C3)n2)cc1</td>\n",
              "      <td>WNUWUYIZADTROQ-UHFFFAOYSA-N</td>\n",
              "      <td>WNUWUYIZADTROQ-UHFFFAOYSA-N</td>\n",
              "      <td>5.300000</td>\n",
              "      <td>NaN</td>\n",
              "      <td>0.0</td>\n",
              "      <td>0</td>\n",
              "    </tr>\n",
              "    <tr>\n",
              "      <th>1</th>\n",
              "      <td>1</td>\n",
              "      <td>CHEMBL1515033</td>\n",
              "      <td>CS(=O)(=O)N1CCC[C@@]2(CCN(c3ccncc3)C2)C1</td>\n",
              "      <td>NaN</td>\n",
              "      <td>5.100000</td>\n",
              "      <td>0</td>\n",
              "      <td>CS(=O)(=O)N1CCC[C@@]2(CCN(c3ccncc3)C2)C1</td>\n",
              "      <td>LFQJIVPPRFXMAC-AWEZNQCLSA-N</td>\n",
              "      <td>LFQJIVPPRFXMAC-AWEZNQCLSA-N</td>\n",
              "      <td>5.100000</td>\n",
              "      <td>NaN</td>\n",
              "      <td>0.0</td>\n",
              "      <td>0</td>\n",
              "    </tr>\n",
              "    <tr>\n",
              "      <th>2</th>\n",
              "      <td>2</td>\n",
              "      <td>CHEMBL3422242</td>\n",
              "      <td>Cc1cc([C@H]2C[C@H]3[C@@H](C)SC(N)=N[C@@]3(c3cc...</td>\n",
              "      <td>&lt;</td>\n",
              "      <td>4.522879</td>\n",
              "      <td>0</td>\n",
              "      <td>Cc1cc([C@H]2C[C@H]3[C@@H](C)SC(N)=N[C@@]3(c3cc...</td>\n",
              "      <td>HVEVDFRWOQHAPJ-CKMNQQOVSA-N</td>\n",
              "      <td>HVEVDFRWOQHAPJ-CKMNQQOVSA-N</td>\n",
              "      <td>4.522879</td>\n",
              "      <td>NaN</td>\n",
              "      <td>0.0</td>\n",
              "      <td>0</td>\n",
              "    </tr>\n",
              "    <tr>\n",
              "      <th>3</th>\n",
              "      <td>3</td>\n",
              "      <td>CHEMBL1526043</td>\n",
              "      <td>N#Cc1cccc(-c2nc3cnc(N4CCOCC4)nc3n(C3CC3)c2=O)c1</td>\n",
              "      <td>NaN</td>\n",
              "      <td>4.400000</td>\n",
              "      <td>0</td>\n",
              "      <td>N#Cc1cccc(-c2nc3cnc(N4CCOCC4)nc3n(C3CC3)c2=O)c1</td>\n",
              "      <td>QIZLBSOCEJVBTG-UHFFFAOYSA-N</td>\n",
              "      <td>QIZLBSOCEJVBTG-UHFFFAOYSA-N</td>\n",
              "      <td>4.400000</td>\n",
              "      <td>NaN</td>\n",
              "      <td>0.0</td>\n",
              "      <td>0</td>\n",
              "    </tr>\n",
              "    <tr>\n",
              "      <th>4</th>\n",
              "      <td>4</td>\n",
              "      <td>CHEMBL3145019</td>\n",
              "      <td>Cc1nn(C(C)(C)C)c(O)c1Sc1ccc(Cl)cc1</td>\n",
              "      <td>NaN</td>\n",
              "      <td>4.800000</td>\n",
              "      <td>0</td>\n",
              "      <td>Cc1nn(C(C)(C)C)c(O)c1Sc1ccc(Cl)cc1</td>\n",
              "      <td>IYIGLQSFYOLXCS-UHFFFAOYSA-N</td>\n",
              "      <td>IYIGLQSFYOLXCS-UHFFFAOYSA-N</td>\n",
              "      <td>4.800000</td>\n",
              "      <td>NaN</td>\n",
              "      <td>0.0</td>\n",
              "      <td>0</td>\n",
              "    </tr>\n",
              "    <tr>\n",
              "      <th>...</th>\n",
              "      <td>...</td>\n",
              "      <td>...</td>\n",
              "      <td>...</td>\n",
              "      <td>...</td>\n",
              "      <td>...</td>\n",
              "      <td>...</td>\n",
              "      <td>...</td>\n",
              "      <td>...</td>\n",
              "      <td>...</td>\n",
              "      <td>...</td>\n",
              "      <td>...</td>\n",
              "      <td>...</td>\n",
              "      <td>...</td>\n",
              "    </tr>\n",
              "    <tr>\n",
              "      <th>18637</th>\n",
              "      <td>19631</td>\n",
              "      <td>CHEMBL3932169</td>\n",
              "      <td>CC(C)[C@@H]1c2nn(-c3cccc(S(C)(=O)=O)c3)cc2CN1c...</td>\n",
              "      <td>NaN</td>\n",
              "      <td>5.515700</td>\n",
              "      <td>0</td>\n",
              "      <td>CC(C)[C@@H]1c2nn(-c3cccc(S(C)(=O)=O)c3)cc2CN1c...</td>\n",
              "      <td>NCZXBZJVJRJUSC-GOSISDBHSA-N</td>\n",
              "      <td>NCZXBZJVJRJUSC-GOSISDBHSA-N</td>\n",
              "      <td>5.515700</td>\n",
              "      <td>NaN</td>\n",
              "      <td>0.0</td>\n",
              "      <td>0</td>\n",
              "    </tr>\n",
              "    <tr>\n",
              "      <th>18638</th>\n",
              "      <td>19632</td>\n",
              "      <td>CHEMBL4210866</td>\n",
              "      <td>N[C@@H]1CCC=C(c2ccc(F)cc2)[C@H]1CNc1cc(F)c(S(=...</td>\n",
              "      <td>NaN</td>\n",
              "      <td>4.481486</td>\n",
              "      <td>0</td>\n",
              "      <td>N[C@@H]1CCC=C(c2ccc(F)cc2)[C@H]1CNc1cc(F)c(S(=...</td>\n",
              "      <td>BSNVRJYSKXDALK-VQIMIIECSA-N</td>\n",
              "      <td>BSNVRJYSKXDALK-VQIMIIECSA-N</td>\n",
              "      <td>4.481486</td>\n",
              "      <td>NaN</td>\n",
              "      <td>0.0</td>\n",
              "      <td>0</td>\n",
              "    </tr>\n",
              "    <tr>\n",
              "      <th>18639</th>\n",
              "      <td>19633</td>\n",
              "      <td>CHEMBL1465534</td>\n",
              "      <td>O=[N+]([O-])c1cccc(-c2nnn(C34CC5CC(CC(C5)C3)C4...</td>\n",
              "      <td>NaN</td>\n",
              "      <td>5.050000</td>\n",
              "      <td>0</td>\n",
              "      <td>O=[N+]([O-])c1cccc(-c2nnn(C34CC5CC(CC(C5)C3)C4...</td>\n",
              "      <td>ILMKPNZNEYHDGO-UHFFFAOYSA-N</td>\n",
              "      <td>ILMKPNZNEYHDGO-UHFFFAOYSA-N</td>\n",
              "      <td>5.050000</td>\n",
              "      <td>NaN</td>\n",
              "      <td>0.0</td>\n",
              "      <td>0</td>\n",
              "    </tr>\n",
              "    <tr>\n",
              "      <th>18640</th>\n",
              "      <td>19634</td>\n",
              "      <td>CHEMBL3237445</td>\n",
              "      <td>Cc1nccc2c3cnc(Nc4ccc(N5CCNCC5)cn4)nc3n(C3CCCC3...</td>\n",
              "      <td>&lt;</td>\n",
              "      <td>5.000000</td>\n",
              "      <td>0</td>\n",
              "      <td>Cc1nccc2c3cnc(Nc4ccc(N5CCNCC5)cn4)nc3n(C3CCCC3...</td>\n",
              "      <td>FLNHSHVOGZEONH-UHFFFAOYSA-N</td>\n",
              "      <td>FLNHSHVOGZEONH-UHFFFAOYSA-N</td>\n",
              "      <td>5.000000</td>\n",
              "      <td>NaN</td>\n",
              "      <td>0.0</td>\n",
              "      <td>0</td>\n",
              "    </tr>\n",
              "    <tr>\n",
              "      <th>18641</th>\n",
              "      <td>19635</td>\n",
              "      <td>CHEMBL1270335</td>\n",
              "      <td>CN1C(=O)[C@@](c2ccc(OC(F)F)cc2)(c2ccc(F)c(C#CC...</td>\n",
              "      <td>NaN</td>\n",
              "      <td>5.000000</td>\n",
              "      <td>0</td>\n",
              "      <td>CN1C(=O)[C@@](c2ccc(OC(F)F)cc2)(c2ccc(F)c(C#CC...</td>\n",
              "      <td>JZQHTDKITQYMAR-JOCHJYFZSA-N</td>\n",
              "      <td>JZQHTDKITQYMAR-JOCHJYFZSA-N</td>\n",
              "      <td>5.000000</td>\n",
              "      <td>NaN</td>\n",
              "      <td>0.0</td>\n",
              "      <td>0</td>\n",
              "    </tr>\n",
              "  </tbody>\n",
              "</table>\n",
              "<p>18642 rows × 13 columns</p>\n",
              "</div>"
            ],
            "text/plain": [
              "       Unnamed: 0    compound_id  ... Perc_Var Remove_BadDuplicate\n",
              "0               0  CHEMBL1537880  ...      0.0                   0\n",
              "1               1  CHEMBL1515033  ...      0.0                   0\n",
              "2               2  CHEMBL3422242  ...      0.0                   0\n",
              "3               3  CHEMBL1526043  ...      0.0                   0\n",
              "4               4  CHEMBL3145019  ...      0.0                   0\n",
              "...           ...            ...  ...      ...                 ...\n",
              "18637       19631  CHEMBL3932169  ...      0.0                   0\n",
              "18638       19632  CHEMBL4210866  ...      0.0                   0\n",
              "18639       19633  CHEMBL1465534  ...      0.0                   0\n",
              "18640       19634  CHEMBL3237445  ...      0.0                   0\n",
              "18641       19635  CHEMBL1270335  ...      0.0                   0\n",
              "\n",
              "[18642 rows x 13 columns]"
            ]
          },
          "metadata": {
            "tags": []
          },
          "execution_count": 31
        }
      ]
    },
    {
      "cell_type": "code",
      "metadata": {
        "colab": {
          "base_uri": "https://localhost:8080/"
        },
        "id": "ngTm_YVkphMV",
        "outputId": "3d6ec5c0-3f31-48f1-b53b-6e6995cbb026"
      },
      "source": [
        "h1.shape"
      ],
      "execution_count": 32,
      "outputs": [
        {
          "output_type": "execute_result",
          "data": {
            "text/plain": [
              "(18642, 13)"
            ]
          },
          "metadata": {
            "tags": []
          },
          "execution_count": 32
        }
      ]
    },
    {
      "cell_type": "markdown",
      "metadata": {
        "id": "XA8ARleo3h53"
      },
      "source": [
        "### Split the dataset"
      ]
    },
    {
      "cell_type": "code",
      "metadata": {
        "id": "1eQC31_fA2wD",
        "colab": {
          "base_uri": "https://localhost:8080/"
        },
        "outputId": "2a410542-5ea1-4086-c280-9d96d3b3ad77"
      },
      "source": [
        "train_file = \"CYP3A4_cur_delaney.csv\"\n",
        "response_col = \"VALUE_NUM_mean\"\n",
        "compound_id = \"compound_id\"\n",
        "smiles_col = \"rdkit_smiles\"\n",
        "\n",
        "params = {\n",
        "        \"system\": \"LC\",\n",
        "        \"lc_account\": 'None',\n",
        "        \"datastore\": \"False\",\n",
        "        \"save_results\": \"False\",\n",
        "        \"data_owner\": \"username\",\n",
        "        \"prediction_type\": \"regression\",\n",
        "        \"dataset_key\": train_file,\n",
        "        \"id_col\": compound_id,\n",
        "        \"smiles_col\": smiles_col,\n",
        "        \"response_cols\": response_col,\n",
        "        \"previously_split\": \"False\",\n",
        "        \"split_only\": \"True\",\n",
        "        \"featurizer\": \"ecfp\",\n",
        "        \"model_type\": \"RF\",\n",
        "        \"verbose\": \"True\",\n",
        "        \"transformers\": \"True\",\n",
        "        'max_epochs': '70',\n",
        "        \"rerun\": \"False\",\n",
        "        \"result_dir\": \"split\"\n",
        "    }\n",
        "\n",
        "ampl_param = parse.wrapper(params)\n",
        "pl = mp.ModelPipeline(ampl_param)\n",
        "pl.train_model()"
      ],
      "execution_count": 34,
      "outputs": [
        {
          "output_type": "stream",
          "text": [
            "number of features: 1024\n"
          ],
          "name": "stdout"
        },
        {
          "output_type": "stream",
          "text": [
            "2021-04-01 18:28:01,630 Splitting data by scaffold\n",
            "2021-04-01 18:28:13,906 Dataset split table saved to /CYP3A4_cur_delaney_train_valid_test_scaffold_214d2c78-8942-4a29-844f-755b7e6be275.csv\n"
          ],
          "name": "stderr"
        }
      ]
    },
    {
      "cell_type": "markdown",
      "metadata": {
        "id": "xSdgxZNU43TM"
      },
      "source": [
        "### Train an initial model"
      ]
    },
    {
      "cell_type": "code",
      "metadata": {
        "id": "IjhIVGpJ42eE"
      },
      "source": [
        "listing = glob.glob(os.path.join(\"/\", \"CYP3A4_cur_delaney_train_valid_test_scaffold_*\"))\n",
        "name = listing[0]\n",
        "split_uuid = name.split(\"_\")[-1].split(\".\")[0]\n",
        "response_col = \"VALUE_NUM_mean\"\n",
        "\n",
        "params = {\n",
        "        \"system\": \"LC\",\n",
        "        \"lc_account\": 'None',\n",
        "        \"datastore\": \"False\",\n",
        "        \"save_results\": \"False\",\n",
        "        \"data_owner\": \"username\",\n",
        "        \"prediction_type\": \"regression\",\n",
        "        \"dataset_key\": train_file,\n",
        "        \"id_col\": compound_id,\n",
        "        \"smiles_col\": smiles_col,\n",
        "        \"response_cols\": response_col,\n",
        "        \"split_uuid\": split_uuid,\n",
        "        \"previously_split\": \"True\",\n",
        "        \"featurizer\": \"ecfp\",\n",
        "        \"model_type\": \"RF\",\n",
        "        \"verbose\": \"True\",\n",
        "        \"transformers\": \"True\",\n",
        "        'max_epochs': '70',\n",
        "        \"rerun\": \"False\",\n",
        "        \"result_dir\": \"ampl_output\"\n",
        "    }"
      ],
      "execution_count": 35,
      "outputs": []
    },
    {
      "cell_type": "code",
      "metadata": {
        "id": "qjbLbmri5Rhl",
        "colab": {
          "base_uri": "https://localhost:8080/"
        },
        "outputId": "1fe04dcb-9775-499c-b7bb-5b191137c916"
      },
      "source": [
        "ampl_param = parse.wrapper(params)\n",
        "pl = mp.ModelPipeline(ampl_param)\n",
        "pl.train_model()"
      ],
      "execution_count": 36,
      "outputs": [
        {
          "output_type": "stream",
          "text": [
            "number of features: 1024\n"
          ],
          "name": "stdout"
        },
        {
          "output_type": "stream",
          "text": [
            "2021-04-01 18:30:49,582 Previous dataset split restored\n"
          ],
          "name": "stderr"
        },
        {
          "output_type": "stream",
          "text": [
            "n_cnt [18642.]\n",
            "y_means [5.19196307]\n",
            "y_stds [1.21382351]\n",
            "TIMING: dataset construction took 0.641 s\n",
            "Loading dataset from disk.\n",
            "TIMING: dataset construction took 0.085 s\n",
            "Loading dataset from disk.\n",
            "TIMING: dataset construction took 0.087 s\n",
            "Loading dataset from disk.\n"
          ],
          "name": "stdout"
        },
        {
          "output_type": "stream",
          "text": [
            "2021-04-01 18:31:25,872 Wrote model metadata to file ampl_output/CYP3A4_cur_delaney/RF_ecfp_scaffold_regression/5d66d447-92b0-489d-96ca-d20b0773ac7d/model_metadata.json\n",
            "2021-04-01 18:31:31,043 Wrote model metrics to file ampl_output/CYP3A4_cur_delaney/RF_ecfp_scaffold_regression/5d66d447-92b0-489d-96ca-d20b0773ac7d/model_metrics.json\n"
          ],
          "name": "stderr"
        },
        {
          "output_type": "stream",
          "text": [
            "Wrote model tarball to ampl_output/CYP3A4_cur_delaney_model_5d66d447-92b0-489d-96ca-d20b0773ac7d.tar.gz\n"
          ],
          "name": "stdout"
        }
      ]
    },
    {
      "cell_type": "code",
      "metadata": {
        "id": "ol3jooPm5Yd0",
        "colab": {
          "base_uri": "https://localhost:8080/"
        },
        "outputId": "15956477-c540-4d8e-e9a9-f2c44ca38763"
      },
      "source": [
        "pred_data = pl.model_wrapper.get_perf_data(subset=\"valid\", epoch_label=\"best\")\n",
        "pred_results = pred_data.get_prediction_results()\n",
        "print(f\"R2 score of validation set: {pred_results['r2_score']:.3f}\")"
      ],
      "execution_count": 37,
      "outputs": [
        {
          "output_type": "stream",
          "text": [
            "R2 score of validation set: 0.017\n"
          ],
          "name": "stdout"
        }
      ]
    },
    {
      "cell_type": "markdown",
      "metadata": {
        "id": "vJ2mT3kfi_ed"
      },
      "source": [
        "### Train an model with uncertainty prediction"
      ]
    },
    {
      "cell_type": "code",
      "metadata": {
        "id": "WKUZYCUDi_en"
      },
      "source": [
        "listing = glob.glob(os.path.join(\"/\", \"CYP3A4_cur_delaney_train_valid_test_scaffold_*\"))\n",
        "name = listing[0]\n",
        "split_uuid = name.split(\"_\")[-1].split(\".\")[0]\n",
        "response_col = \"VALUE_NUM_mean\"\n",
        "\n",
        "params = {\n",
        "        \"system\": \"LC\",\n",
        "        \"lc_account\": 'None',\n",
        "        \"datastore\": \"False\",\n",
        "        \"save_results\": \"False\",\n",
        "        \"data_owner\": \"username\",\n",
        "        \"prediction_type\": \"regression\",\n",
        "        \"dataset_key\": train_file,\n",
        "        \"id_col\": compound_id,\n",
        "        \"smiles_col\": smiles_col,\n",
        "        \"response_cols\": response_col,\n",
        "        \"split_uuid\": split_uuid,\n",
        "        \"previously_split\": \"True\",\n",
        "        \"featurizer\": \"ecfp\",\n",
        "        \"model_type\": \"RF\",\n",
        "        \"verbose\": \"True\",\n",
        "        \"transformers\": \"True\",\n",
        "        'max_epochs': '70',\n",
        "        \"rerun\": \"False\",\n",
        "        \"result_dir\": \"ampl_output\",\n",
        "        \"uncertainty\": \"True\"\n",
        "    }"
      ],
      "execution_count": 38,
      "outputs": []
    },
    {
      "cell_type": "code",
      "metadata": {
        "id": "zwSTjKBei_eo",
        "colab": {
          "base_uri": "https://localhost:8080/"
        },
        "outputId": "c0bd1784-fb13-4f4b-f5ae-8118211f978d"
      },
      "source": [
        "ampl_param = parse.wrapper(params)\n",
        "pl = mp.ModelPipeline(ampl_param)\n",
        "pl.train_model()"
      ],
      "execution_count": 39,
      "outputs": [
        {
          "output_type": "stream",
          "text": [
            "number of features: 1024\n"
          ],
          "name": "stdout"
        },
        {
          "output_type": "stream",
          "text": [
            "2021-04-01 18:33:17,295 Previous dataset split restored\n"
          ],
          "name": "stderr"
        },
        {
          "output_type": "stream",
          "text": [
            "n_cnt [18642.]\n",
            "y_means [5.19196307]\n",
            "y_stds [1.21382351]\n",
            "TIMING: dataset construction took 0.651 s\n",
            "Loading dataset from disk.\n",
            "TIMING: dataset construction took 0.088 s\n",
            "Loading dataset from disk.\n",
            "TIMING: dataset construction took 0.085 s\n",
            "Loading dataset from disk.\n"
          ],
          "name": "stdout"
        },
        {
          "output_type": "stream",
          "text": [
            "2021-04-01 18:33:52,793 Wrote model metadata to file ampl_output/CYP3A4_cur_delaney/RF_ecfp_scaffold_regression/b6affb9a-b4e9-4426-8758-237d6e5ba721/model_metadata.json\n",
            "2021-04-01 18:33:57,929 Wrote model metrics to file ampl_output/CYP3A4_cur_delaney/RF_ecfp_scaffold_regression/b6affb9a-b4e9-4426-8758-237d6e5ba721/model_metrics.json\n"
          ],
          "name": "stderr"
        },
        {
          "output_type": "stream",
          "text": [
            "Wrote model tarball to ampl_output/CYP3A4_cur_delaney_model_b6affb9a-b4e9-4426-8758-237d6e5ba721.tar.gz\n"
          ],
          "name": "stdout"
        }
      ]
    },
    {
      "cell_type": "code",
      "metadata": {
        "id": "wy8fLhm9i_eo",
        "colab": {
          "base_uri": "https://localhost:8080/"
        },
        "outputId": "0b9c24d8-ece1-4f5d-9dfc-a531ed3b1f76"
      },
      "source": [
        "pred_data = pl.model_wrapper.get_perf_data(subset=\"valid\", epoch_label=\"best\")\n",
        "pred_results = pred_data.get_prediction_results()\n",
        "print(f\"R2 score of validation set: {pred_results['r2_score']:.3f}\")"
      ],
      "execution_count": 40,
      "outputs": [
        {
          "output_type": "stream",
          "text": [
            "R2 score of validation set: 0.017\n"
          ],
          "name": "stdout"
        }
      ]
    },
    {
      "cell_type": "code",
      "metadata": {
        "id": "wnaag-HhjY-X",
        "colab": {
          "base_uri": "https://localhost:8080/"
        },
        "outputId": "525b58a9-a28e-46bf-efe5-441bc9568464"
      },
      "source": [
        "pred_df = pl.predict_on_dataframe(h1)\n",
        "pred_df = pred_df.merge(h1[[\"rdkit_smiles\", \"VALUE_NUM_mean\"]], on=\"rdkit_smiles\")\n",
        "pred_df = pred_df.assign(pred_error=pred_df.VALUE_NUM_mean-pred_df.pred)"
      ],
      "execution_count": 41,
      "outputs": [
        {
          "output_type": "stream",
          "text": [
            "2021-04-01 18:34:41,111 Featurizing data...\n",
            "2021-04-01 18:35:51,958 Done\n"
          ],
          "name": "stderr"
        },
        {
          "output_type": "stream",
          "text": [
            "number of features: 1024\n",
            "TIMING: dataset construction took 1.014 s\n",
            "Loading dataset from disk.\n"
          ],
          "name": "stdout"
        }
      ]
    },
    {
      "cell_type": "code",
      "metadata": {
        "id": "h4dHK5omm0YJ",
        "colab": {
          "base_uri": "https://localhost:8080/",
          "height": 546
        },
        "outputId": "15f359a1-ee33-4688-9fce-a3259d4f44f3"
      },
      "source": [
        "fig, ax = plt.subplots(1,1,figsize=(8,8))\n",
        "sns.scatterplot(data=pred_df, x=\"std\", y=\"pred_error\", ax=ax)"
      ],
      "execution_count": 42,
      "outputs": [
        {
          "output_type": "execute_result",
          "data": {
            "text/plain": [
              "<matplotlib.axes._subplots.AxesSubplot at 0x7fd6e3954f50>"
            ]
          },
          "metadata": {
            "tags": []
          },
          "execution_count": 42
        },
        {
          "output_type": "display_data",
          "data": {
            "image/png": "[encoded data removed]",
            "text/plain": [
              "<Figure size 576x576 with 1 Axes>"
            ]
          },
          "metadata": {
            "tags": []
          }
        }
      ]
    },
    {
      "cell_type": "markdown",
      "metadata": {
        "id": "pKP_mFuB5giz"
      },
      "source": [
        "### Grid search\n",
        "#### Tunable parameters for Random Forest models\n",
        "- rf_estimators: number of estimators to use in random forest models\n",
        "- rf_max_depth: the maximum depth of a decision tree in the random forest\n",
        "- rf_max_features: max number of features to split random forest nodes"
      ]
    },
    {
      "cell_type": "code",
      "metadata": {
        "id": "i6FBeUGh5mGJ",
        "colab": {
          "base_uri": "https://localhost:8080/"
        },
        "outputId": "1c554a30-3fac-4052-dd79-77e972a00c4c"
      },
      "source": [
        "estimators = [16,32,64,128]\n",
        "depth=[16,32,64,128]\n",
        "features=[16,32,64,128]\n",
        "\n",
        "rfe_list = []\n",
        "rfd_list = []\n",
        "rff_list = []\n",
        "valid_r2_list = []\n",
        "for rf_estimator in estimators:\n",
        "    for rf_depth in depth:\n",
        "        for rf_feature in features:\n",
        "            params[\"rf_estimators\"] = rf_estimator\n",
        "            params[\"rf_max_depth\"] = rf_depth\n",
        "            params[\"rf_max_features\"] = rf_feature\n",
        "            rfe_list.append(rf_estimator)\n",
        "            rfd_list.append(rf_depth)\n",
        "            rff_list.append(rf_feature)\n",
        "            tp = parse.wrapper(params)\n",
        "            pl = mp.ModelPipeline(tp)\n",
        "            pl.train_model()\n",
        "            pred_data = pl.model_wrapper.get_perf_data(subset=\"valid\", epoch_label=\"best\")\n",
        "            pred_results = pred_data.get_prediction_results()\n",
        "            valid_r2 = pred_results['r2_score']\n",
        "            valid_r2_list.append(valid_r2)\n",
        "            print(f\"rf_estimators: {rf_estimator}, rf_max_depth: {rf_depth}, rf_max_features: {rf_feature}, valid_r2: {valid_r2}\")"
      ],
      "execution_count": 44,
      "outputs": [
        {
          "output_type": "stream",
          "text": [
            "number of features: 1024\n"
          ],
          "name": "stdout"
        },
        {
          "output_type": "stream",
          "text": [
            "2021-04-01 19:23:24,603 Previous dataset split restored\n"
          ],
          "name": "stderr"
        },
        {
          "output_type": "stream",
          "text": [
            "n_cnt [18642.]\n",
            "y_means [5.19196307]\n",
            "y_stds [1.21382351]\n",
            "TIMING: dataset construction took 0.672 s\n",
            "Loading dataset from disk.\n",
            "TIMING: dataset construction took 0.090 s\n",
            "Loading dataset from disk.\n",
            "TIMING: dataset construction took 0.088 s\n",
            "Loading dataset from disk.\n"
          ],
          "name": "stdout"
        },
        {
          "output_type": "stream",
          "text": [
            "2021-04-01 19:23:29,989 Wrote model metadata to file ampl_output/CYP3A4_cur_delaney/RF_ecfp_scaffold_regression/ecbaca03-0b25-4ab4-8500-5e62784db823/model_metadata.json\n",
            "2021-04-01 19:23:30,018 Wrote model metrics to file ampl_output/CYP3A4_cur_delaney/RF_ecfp_scaffold_regression/ecbaca03-0b25-4ab4-8500-5e62784db823/model_metrics.json\n"
          ],
          "name": "stderr"
        },
        {
          "output_type": "stream",
          "text": [
            "Wrote model tarball to ampl_output/CYP3A4_cur_delaney_model_ecbaca03-0b25-4ab4-8500-5e62784db823.tar.gz\n",
            "rf_estimators: 16, rf_max_depth: 16, rf_max_features: 16, valid_r2: 0.011040170470989596\n",
            "number of features: 1024\n"
          ],
          "name": "stdout"
        },
        {
          "output_type": "stream",
          "text": [
            "2021-04-01 19:24:45,568 Previous dataset split restored\n"
          ],
          "name": "stderr"
        },
        {
          "output_type": "stream",
          "text": [
            "n_cnt [18642.]\n",
            "y_means [5.19196307]\n",
            "y_stds [1.21382351]\n",
            "TIMING: dataset construction took 0.670 s\n",
            "Loading dataset from disk.\n",
            "TIMING: dataset construction took 0.090 s\n",
            "Loading dataset from disk.\n",
            "TIMING: dataset construction took 0.088 s\n",
            "Loading dataset from disk.\n"
          ],
          "name": "stdout"
        },
        {
          "output_type": "stream",
          "text": [
            "2021-04-01 19:24:51,145 Wrote model metadata to file ampl_output/CYP3A4_cur_delaney/RF_ecfp_scaffold_regression/ad887d1a-7a3d-40f3-b0fe-8154af3bef07/model_metadata.json\n",
            "2021-04-01 19:24:51,175 Wrote model metrics to file ampl_output/CYP3A4_cur_delaney/RF_ecfp_scaffold_regression/ad887d1a-7a3d-40f3-b0fe-8154af3bef07/model_metrics.json\n"
          ],
          "name": "stderr"
        },
        {
          "output_type": "stream",
          "text": [
            "Wrote model tarball to ampl_output/CYP3A4_cur_delaney_model_ad887d1a-7a3d-40f3-b0fe-8154af3bef07.tar.gz\n",
            "rf_estimators: 16, rf_max_depth: 16, rf_max_features: 32, valid_r2: 0.018579425354828483\n",
            "number of features: 1024\n"
          ],
          "name": "stdout"
        },
        {
          "output_type": "stream",
          "text": [
            "2021-04-01 19:26:06,890 Previous dataset split restored\n"
          ],
          "name": "stderr"
        },
        {
          "output_type": "stream",
          "text": [
            "n_cnt [18642.]\n",
            "y_means [5.19196307]\n",
            "y_stds [1.21382351]\n",
            "TIMING: dataset construction took 0.681 s\n",
            "Loading dataset from disk.\n",
            "TIMING: dataset construction took 0.089 s\n",
            "Loading dataset from disk.\n",
            "TIMING: dataset construction took 0.089 s\n",
            "Loading dataset from disk.\n"
          ],
          "name": "stdout"
        },
        {
          "output_type": "stream",
          "text": [
            "2021-04-01 19:26:12,791 Wrote model metadata to file ampl_output/CYP3A4_cur_delaney/RF_ecfp_scaffold_regression/9095087e-1781-4602-b63b-1e7f0ff2150d/model_metadata.json\n",
            "2021-04-01 19:26:12,821 Wrote model metrics to file ampl_output/CYP3A4_cur_delaney/RF_ecfp_scaffold_regression/9095087e-1781-4602-b63b-1e7f0ff2150d/model_metrics.json\n"
          ],
          "name": "stderr"
        },
        {
          "output_type": "stream",
          "text": [
            "Wrote model tarball to ampl_output/CYP3A4_cur_delaney_model_9095087e-1781-4602-b63b-1e7f0ff2150d.tar.gz\n",
            "rf_estimators: 16, rf_max_depth: 16, rf_max_features: 64, valid_r2: 0.014545385746824624\n",
            "number of features: 1024\n"
          ],
          "name": "stdout"
        },
        {
          "output_type": "stream",
          "text": [
            "2021-04-01 19:27:28,487 Previous dataset split restored\n"
          ],
          "name": "stderr"
        },
        {
          "output_type": "stream",
          "text": [
            "n_cnt [18642.]\n",
            "y_means [5.19196307]\n",
            "y_stds [1.21382351]\n",
            "TIMING: dataset construction took 0.676 s\n",
            "Loading dataset from disk.\n",
            "TIMING: dataset construction took 0.090 s\n",
            "Loading dataset from disk.\n",
            "TIMING: dataset construction took 0.089 s\n",
            "Loading dataset from disk.\n"
          ],
          "name": "stdout"
        },
        {
          "output_type": "stream",
          "text": [
            "2021-04-01 19:27:35,174 Wrote model metadata to file ampl_output/CYP3A4_cur_delaney/RF_ecfp_scaffold_regression/4b466f93-7724-465f-a96f-81a498a0f4fd/model_metadata.json\n",
            "2021-04-01 19:27:35,202 Wrote model metrics to file ampl_output/CYP3A4_cur_delaney/RF_ecfp_scaffold_regression/4b466f93-7724-465f-a96f-81a498a0f4fd/model_metrics.json\n"
          ],
          "name": "stderr"
        },
        {
          "output_type": "stream",
          "text": [
            "Wrote model tarball to ampl_output/CYP3A4_cur_delaney_model_4b466f93-7724-465f-a96f-81a498a0f4fd.tar.gz\n",
            "rf_estimators: 16, rf_max_depth: 16, rf_max_features: 128, valid_r2: 0.011518881629171362\n",
            "number of features: 1024\n"
          ],
          "name": "stdout"
        },
        {
          "output_type": "stream",
          "text": [
            "2021-04-01 19:28:50,804 Previous dataset split restored\n"
          ],
          "name": "stderr"
        },
        {
          "output_type": "stream",
          "text": [
            "n_cnt [18642.]\n",
            "y_means [5.19196307]\n",
            "y_stds [1.21382351]\n",
            "TIMING: dataset construction took 0.688 s\n",
            "Loading dataset from disk.\n",
            "TIMING: dataset construction took 0.089 s\n",
            "Loading dataset from disk.\n",
            "TIMING: dataset construction took 0.088 s\n",
            "Loading dataset from disk.\n"
          ],
          "name": "stdout"
        },
        {
          "output_type": "stream",
          "text": [
            "2021-04-01 19:28:56,367 Wrote model metadata to file ampl_output/CYP3A4_cur_delaney/RF_ecfp_scaffold_regression/337e2965-d389-4c77-b399-324eb8064e7f/model_metadata.json\n",
            "2021-04-01 19:28:56,457 Wrote model metrics to file ampl_output/CYP3A4_cur_delaney/RF_ecfp_scaffold_regression/337e2965-d389-4c77-b399-324eb8064e7f/model_metrics.json\n"
          ],
          "name": "stderr"
        },
        {
          "output_type": "stream",
          "text": [
            "Wrote model tarball to ampl_output/CYP3A4_cur_delaney_model_337e2965-d389-4c77-b399-324eb8064e7f.tar.gz\n",
            "rf_estimators: 16, rf_max_depth: 32, rf_max_features: 16, valid_r2: 0.012787020850723918\n",
            "number of features: 1024\n"
          ],
          "name": "stdout"
        },
        {
          "output_type": "stream",
          "text": [
            "2021-04-01 19:30:11,860 Previous dataset split restored\n"
          ],
          "name": "stderr"
        },
        {
          "output_type": "stream",
          "text": [
            "n_cnt [18642.]\n",
            "y_means [5.19196307]\n",
            "y_stds [1.21382351]\n",
            "TIMING: dataset construction took 0.682 s\n",
            "Loading dataset from disk.\n",
            "TIMING: dataset construction took 0.088 s\n",
            "Loading dataset from disk.\n",
            "TIMING: dataset construction took 0.087 s\n",
            "Loading dataset from disk.\n"
          ],
          "name": "stdout"
        },
        {
          "output_type": "stream",
          "text": [
            "2021-04-01 19:30:17,702 Wrote model metadata to file ampl_output/CYP3A4_cur_delaney/RF_ecfp_scaffold_regression/69d406d8-8a7f-4e87-ab64-b48991a10fd5/model_metadata.json\n",
            "2021-04-01 19:30:17,783 Wrote model metrics to file ampl_output/CYP3A4_cur_delaney/RF_ecfp_scaffold_regression/69d406d8-8a7f-4e87-ab64-b48991a10fd5/model_metrics.json\n"
          ],
          "name": "stderr"
        },
        {
          "output_type": "stream",
          "text": [
            "Wrote model tarball to ampl_output/CYP3A4_cur_delaney_model_69d406d8-8a7f-4e87-ab64-b48991a10fd5.tar.gz\n",
            "rf_estimators: 16, rf_max_depth: 32, rf_max_features: 32, valid_r2: 0.017654771311625073\n",
            "number of features: 1024\n"
          ],
          "name": "stdout"
        },
        {
          "output_type": "stream",
          "text": [
            "2021-04-01 19:31:33,696 Previous dataset split restored\n"
          ],
          "name": "stderr"
        },
        {
          "output_type": "stream",
          "text": [
            "n_cnt [18642.]\n",
            "y_means [5.19196307]\n",
            "y_stds [1.21382351]\n",
            "TIMING: dataset construction took 0.667 s\n",
            "Loading dataset from disk.\n",
            "TIMING: dataset construction took 0.087 s\n",
            "Loading dataset from disk.\n",
            "TIMING: dataset construction took 0.093 s\n",
            "Loading dataset from disk.\n"
          ],
          "name": "stdout"
        },
        {
          "output_type": "stream",
          "text": [
            "2021-04-01 19:31:40,050 Wrote model metadata to file ampl_output/CYP3A4_cur_delaney/RF_ecfp_scaffold_regression/ceaf3421-1857-4eb9-818f-21f874cf0a1e/model_metadata.json\n",
            "2021-04-01 19:31:40,139 Wrote model metrics to file ampl_output/CYP3A4_cur_delaney/RF_ecfp_scaffold_regression/ceaf3421-1857-4eb9-818f-21f874cf0a1e/model_metrics.json\n"
          ],
          "name": "stderr"
        },
        {
          "output_type": "stream",
          "text": [
            "Wrote model tarball to ampl_output/CYP3A4_cur_delaney_model_ceaf3421-1857-4eb9-818f-21f874cf0a1e.tar.gz\n",
            "rf_estimators: 16, rf_max_depth: 32, rf_max_features: 64, valid_r2: 0.017145309292570743\n",
            "number of features: 1024\n"
          ],
          "name": "stdout"
        },
        {
          "output_type": "stream",
          "text": [
            "2021-04-01 19:32:56,378 Previous dataset split restored\n"
          ],
          "name": "stderr"
        },
        {
          "output_type": "stream",
          "text": [
            "n_cnt [18642.]\n",
            "y_means [5.19196307]\n",
            "y_stds [1.21382351]\n",
            "TIMING: dataset construction took 0.679 s\n",
            "Loading dataset from disk.\n",
            "TIMING: dataset construction took 0.088 s\n",
            "Loading dataset from disk.\n",
            "TIMING: dataset construction took 0.088 s\n",
            "Loading dataset from disk.\n"
          ],
          "name": "stdout"
        },
        {
          "output_type": "stream",
          "text": [
            "2021-04-01 19:33:03,920 Wrote model metadata to file ampl_output/CYP3A4_cur_delaney/RF_ecfp_scaffold_regression/bf3d3669-440d-4ba8-91af-25de45b44a86/model_metadata.json\n",
            "2021-04-01 19:33:04,005 Wrote model metrics to file ampl_output/CYP3A4_cur_delaney/RF_ecfp_scaffold_regression/bf3d3669-440d-4ba8-91af-25de45b44a86/model_metrics.json\n"
          ],
          "name": "stderr"
        },
        {
          "output_type": "stream",
          "text": [
            "Wrote model tarball to ampl_output/CYP3A4_cur_delaney_model_bf3d3669-440d-4ba8-91af-25de45b44a86.tar.gz\n",
            "rf_estimators: 16, rf_max_depth: 32, rf_max_features: 128, valid_r2: 0.014526029035432098\n",
            "number of features: 1024\n"
          ],
          "name": "stdout"
        },
        {
          "output_type": "stream",
          "text": [
            "2021-04-01 19:34:19,645 Previous dataset split restored\n"
          ],
          "name": "stderr"
        },
        {
          "output_type": "stream",
          "text": [
            "n_cnt [18642.]\n",
            "y_means [5.19196307]\n",
            "y_stds [1.21382351]\n",
            "TIMING: dataset construction took 0.673 s\n",
            "Loading dataset from disk.\n",
            "TIMING: dataset construction took 0.091 s\n",
            "Loading dataset from disk.\n",
            "TIMING: dataset construction took 0.088 s\n",
            "Loading dataset from disk.\n"
          ],
          "name": "stdout"
        },
        {
          "output_type": "stream",
          "text": [
            "2021-04-01 19:34:25,484 Wrote model metadata to file ampl_output/CYP3A4_cur_delaney/RF_ecfp_scaffold_regression/804ea4f6-5d8c-4ff0-b22a-0bb2f5146915/model_metadata.json\n",
            "2021-04-01 19:34:25,637 Wrote model metrics to file ampl_output/CYP3A4_cur_delaney/RF_ecfp_scaffold_regression/804ea4f6-5d8c-4ff0-b22a-0bb2f5146915/model_metrics.json\n"
          ],
          "name": "stderr"
        },
        {
          "output_type": "stream",
          "text": [
            "Wrote model tarball to ampl_output/CYP3A4_cur_delaney_model_804ea4f6-5d8c-4ff0-b22a-0bb2f5146915.tar.gz\n",
            "rf_estimators: 16, rf_max_depth: 64, rf_max_features: 16, valid_r2: 0.01280530026306348\n",
            "number of features: 1024\n"
          ],
          "name": "stdout"
        },
        {
          "output_type": "stream",
          "text": [
            "2021-04-01 19:35:41,258 Previous dataset split restored\n"
          ],
          "name": "stderr"
        },
        {
          "output_type": "stream",
          "text": [
            "n_cnt [18642.]\n",
            "y_means [5.19196307]\n",
            "y_stds [1.21382351]\n",
            "TIMING: dataset construction took 0.704 s\n",
            "Loading dataset from disk.\n",
            "TIMING: dataset construction took 0.100 s\n",
            "Loading dataset from disk.\n",
            "TIMING: dataset construction took 0.101 s\n",
            "Loading dataset from disk.\n"
          ],
          "name": "stdout"
        },
        {
          "output_type": "stream",
          "text": [
            "2021-04-01 19:35:47,588 Wrote model metadata to file ampl_output/CYP3A4_cur_delaney/RF_ecfp_scaffold_regression/ff57c1b6-d76a-42bf-9ea9-9ed7569b8145/model_metadata.json\n",
            "2021-04-01 19:35:47,741 Wrote model metrics to file ampl_output/CYP3A4_cur_delaney/RF_ecfp_scaffold_regression/ff57c1b6-d76a-42bf-9ea9-9ed7569b8145/model_metrics.json\n"
          ],
          "name": "stderr"
        },
        {
          "output_type": "stream",
          "text": [
            "Wrote model tarball to ampl_output/CYP3A4_cur_delaney_model_ff57c1b6-d76a-42bf-9ea9-9ed7569b8145.tar.gz\n",
            "rf_estimators: 16, rf_max_depth: 64, rf_max_features: 32, valid_r2: 0.014704570703955033\n",
            "number of features: 1024\n"
          ],
          "name": "stdout"
        },
        {
          "output_type": "stream",
          "text": [
            "2021-04-01 19:37:03,447 Previous dataset split restored\n"
          ],
          "name": "stderr"
        },
        {
          "output_type": "stream",
          "text": [
            "n_cnt [18642.]\n",
            "y_means [5.19196307]\n",
            "y_stds [1.21382351]\n",
            "TIMING: dataset construction took 0.661 s\n",
            "Loading dataset from disk.\n",
            "TIMING: dataset construction took 0.088 s\n",
            "Loading dataset from disk.\n",
            "TIMING: dataset construction took 0.087 s\n",
            "Loading dataset from disk.\n"
          ],
          "name": "stdout"
        },
        {
          "output_type": "stream",
          "text": [
            "2021-04-01 19:37:10,124 Wrote model metadata to file ampl_output/CYP3A4_cur_delaney/RF_ecfp_scaffold_regression/88104f69-803e-48a0-b95f-6db324e649d1/model_metadata.json\n",
            "2021-04-01 19:37:10,271 Wrote model metrics to file ampl_output/CYP3A4_cur_delaney/RF_ecfp_scaffold_regression/88104f69-803e-48a0-b95f-6db324e649d1/model_metrics.json\n"
          ],
          "name": "stderr"
        },
        {
          "output_type": "stream",
          "text": [
            "Wrote model tarball to ampl_output/CYP3A4_cur_delaney_model_88104f69-803e-48a0-b95f-6db324e649d1.tar.gz\n",
            "rf_estimators: 16, rf_max_depth: 64, rf_max_features: 64, valid_r2: 0.01677630545047537\n",
            "number of features: 1024\n"
          ],
          "name": "stdout"
        },
        {
          "output_type": "stream",
          "text": [
            "2021-04-01 19:38:26,041 Previous dataset split restored\n"
          ],
          "name": "stderr"
        },
        {
          "output_type": "stream",
          "text": [
            "n_cnt [18642.]\n",
            "y_means [5.19196307]\n",
            "y_stds [1.21382351]\n",
            "TIMING: dataset construction took 0.665 s\n",
            "Loading dataset from disk.\n",
            "TIMING: dataset construction took 0.088 s\n",
            "Loading dataset from disk.\n",
            "TIMING: dataset construction took 0.087 s\n",
            "Loading dataset from disk.\n"
          ],
          "name": "stdout"
        },
        {
          "output_type": "stream",
          "text": [
            "2021-04-01 19:38:33,985 Wrote model metadata to file ampl_output/CYP3A4_cur_delaney/RF_ecfp_scaffold_regression/0273cec3-29f1-4069-bb3d-14078f648140/model_metadata.json\n",
            "2021-04-01 19:38:34,129 Wrote model metrics to file ampl_output/CYP3A4_cur_delaney/RF_ecfp_scaffold_regression/0273cec3-29f1-4069-bb3d-14078f648140/model_metrics.json\n"
          ],
          "name": "stderr"
        },
        {
          "output_type": "stream",
          "text": [
            "Wrote model tarball to ampl_output/CYP3A4_cur_delaney_model_0273cec3-29f1-4069-bb3d-14078f648140.tar.gz\n",
            "rf_estimators: 16, rf_max_depth: 64, rf_max_features: 128, valid_r2: 0.016282368273639714\n",
            "number of features: 1024\n"
          ],
          "name": "stdout"
        },
        {
          "output_type": "stream",
          "text": [
            "2021-04-01 19:39:49,813 Previous dataset split restored\n"
          ],
          "name": "stderr"
        },
        {
          "output_type": "stream",
          "text": [
            "n_cnt [18642.]\n",
            "y_means [5.19196307]\n",
            "y_stds [1.21382351]\n",
            "TIMING: dataset construction took 0.664 s\n",
            "Loading dataset from disk.\n",
            "TIMING: dataset construction took 0.088 s\n",
            "Loading dataset from disk.\n",
            "TIMING: dataset construction took 0.087 s\n",
            "Loading dataset from disk.\n"
          ],
          "name": "stdout"
        },
        {
          "output_type": "stream",
          "text": [
            "2021-04-01 19:39:55,634 Wrote model metadata to file ampl_output/CYP3A4_cur_delaney/RF_ecfp_scaffold_regression/22195f19-5d44-4055-8e97-8f1cc8d43b16/model_metadata.json\n",
            "2021-04-01 19:39:55,803 Wrote model metrics to file ampl_output/CYP3A4_cur_delaney/RF_ecfp_scaffold_regression/22195f19-5d44-4055-8e97-8f1cc8d43b16/model_metrics.json\n"
          ],
          "name": "stderr"
        },
        {
          "output_type": "stream",
          "text": [
            "Wrote model tarball to ampl_output/CYP3A4_cur_delaney_model_22195f19-5d44-4055-8e97-8f1cc8d43b16.tar.gz\n",
            "rf_estimators: 16, rf_max_depth: 128, rf_max_features: 16, valid_r2: 0.014811783365850206\n",
            "number of features: 1024\n"
          ],
          "name": "stdout"
        },
        {
          "output_type": "stream",
          "text": [
            "2021-04-01 19:41:11,813 Previous dataset split restored\n"
          ],
          "name": "stderr"
        },
        {
          "output_type": "stream",
          "text": [
            "n_cnt [18642.]\n",
            "y_means [5.19196307]\n",
            "y_stds [1.21382351]\n",
            "TIMING: dataset construction took 0.708 s\n",
            "Loading dataset from disk.\n",
            "TIMING: dataset construction took 0.096 s\n",
            "Loading dataset from disk.\n",
            "TIMING: dataset construction took 0.094 s\n",
            "Loading dataset from disk.\n"
          ],
          "name": "stdout"
        },
        {
          "output_type": "stream",
          "text": [
            "2021-04-01 19:41:18,085 Wrote model metadata to file ampl_output/CYP3A4_cur_delaney/RF_ecfp_scaffold_regression/546d7af8-5ca5-4b5c-9dc0-331a4dbe5217/model_metadata.json\n",
            "2021-04-01 19:41:18,249 Wrote model metrics to file ampl_output/CYP3A4_cur_delaney/RF_ecfp_scaffold_regression/546d7af8-5ca5-4b5c-9dc0-331a4dbe5217/model_metrics.json\n"
          ],
          "name": "stderr"
        },
        {
          "output_type": "stream",
          "text": [
            "Wrote model tarball to ampl_output/CYP3A4_cur_delaney_model_546d7af8-5ca5-4b5c-9dc0-331a4dbe5217.tar.gz\n",
            "rf_estimators: 16, rf_max_depth: 128, rf_max_features: 32, valid_r2: 0.014587208281410802\n",
            "number of features: 1024\n"
          ],
          "name": "stdout"
        },
        {
          "output_type": "stream",
          "text": [
            "2021-04-01 19:42:33,913 Previous dataset split restored\n"
          ],
          "name": "stderr"
        },
        {
          "output_type": "stream",
          "text": [
            "n_cnt [18642.]\n",
            "y_means [5.19196307]\n",
            "y_stds [1.21382351]\n",
            "TIMING: dataset construction took 0.671 s\n",
            "Loading dataset from disk.\n",
            "TIMING: dataset construction took 0.087 s\n",
            "Loading dataset from disk.\n",
            "TIMING: dataset construction took 0.088 s\n",
            "Loading dataset from disk.\n"
          ],
          "name": "stdout"
        },
        {
          "output_type": "stream",
          "text": [
            "2021-04-01 19:42:40,629 Wrote model metadata to file ampl_output/CYP3A4_cur_delaney/RF_ecfp_scaffold_regression/4266a559-3b10-4c06-8bea-6d308653cf1f/model_metadata.json\n",
            "2021-04-01 19:42:40,791 Wrote model metrics to file ampl_output/CYP3A4_cur_delaney/RF_ecfp_scaffold_regression/4266a559-3b10-4c06-8bea-6d308653cf1f/model_metrics.json\n"
          ],
          "name": "stderr"
        },
        {
          "output_type": "stream",
          "text": [
            "Wrote model tarball to ampl_output/CYP3A4_cur_delaney_model_4266a559-3b10-4c06-8bea-6d308653cf1f.tar.gz\n",
            "rf_estimators: 16, rf_max_depth: 128, rf_max_features: 64, valid_r2: 0.014798091933570179\n",
            "number of features: 1024\n"
          ],
          "name": "stdout"
        },
        {
          "output_type": "stream",
          "text": [
            "2021-04-01 19:43:56,454 Previous dataset split restored\n"
          ],
          "name": "stderr"
        },
        {
          "output_type": "stream",
          "text": [
            "n_cnt [18642.]\n",
            "y_means [5.19196307]\n",
            "y_stds [1.21382351]\n",
            "TIMING: dataset construction took 0.661 s\n",
            "Loading dataset from disk.\n",
            "TIMING: dataset construction took 0.088 s\n",
            "Loading dataset from disk.\n",
            "TIMING: dataset construction took 0.086 s\n",
            "Loading dataset from disk.\n"
          ],
          "name": "stdout"
        },
        {
          "output_type": "stream",
          "text": [
            "2021-04-01 19:44:04,293 Wrote model metadata to file ampl_output/CYP3A4_cur_delaney/RF_ecfp_scaffold_regression/ee4fba46-74a8-4cca-8288-9b127f52c39b/model_metadata.json\n",
            "2021-04-01 19:44:04,449 Wrote model metrics to file ampl_output/CYP3A4_cur_delaney/RF_ecfp_scaffold_regression/ee4fba46-74a8-4cca-8288-9b127f52c39b/model_metrics.json\n"
          ],
          "name": "stderr"
        },
        {
          "output_type": "stream",
          "text": [
            "Wrote model tarball to ampl_output/CYP3A4_cur_delaney_model_ee4fba46-74a8-4cca-8288-9b127f52c39b.tar.gz\n",
            "rf_estimators: 16, rf_max_depth: 128, rf_max_features: 128, valid_r2: 0.014420228767223264\n",
            "number of features: 1024\n"
          ],
          "name": "stdout"
        },
        {
          "output_type": "stream",
          "text": [
            "2021-04-01 19:45:20,092 Previous dataset split restored\n"
          ],
          "name": "stderr"
        },
        {
          "output_type": "stream",
          "text": [
            "n_cnt [18642.]\n",
            "y_means [5.19196307]\n",
            "y_stds [1.21382351]\n",
            "TIMING: dataset construction took 0.666 s\n",
            "Loading dataset from disk.\n",
            "TIMING: dataset construction took 0.088 s\n",
            "Loading dataset from disk.\n",
            "TIMING: dataset construction took 0.087 s\n",
            "Loading dataset from disk.\n"
          ],
          "name": "stdout"
        },
        {
          "output_type": "stream",
          "text": [
            "2021-04-01 19:45:25,679 Wrote model metadata to file ampl_output/CYP3A4_cur_delaney/RF_ecfp_scaffold_regression/40e4a9ce-1e8d-49de-8ede-d184d33e38f4/model_metadata.json\n",
            "2021-04-01 19:45:25,729 Wrote model metrics to file ampl_output/CYP3A4_cur_delaney/RF_ecfp_scaffold_regression/40e4a9ce-1e8d-49de-8ede-d184d33e38f4/model_metrics.json\n"
          ],
          "name": "stderr"
        },
        {
          "output_type": "stream",
          "text": [
            "Wrote model tarball to ampl_output/CYP3A4_cur_delaney_model_40e4a9ce-1e8d-49de-8ede-d184d33e38f4.tar.gz\n",
            "rf_estimators: 32, rf_max_depth: 16, rf_max_features: 16, valid_r2: 0.010981571506274879\n",
            "number of features: 1024\n"
          ],
          "name": "stdout"
        },
        {
          "output_type": "stream",
          "text": [
            "2021-04-01 19:46:41,883 Previous dataset split restored\n"
          ],
          "name": "stderr"
        },
        {
          "output_type": "stream",
          "text": [
            "n_cnt [18642.]\n",
            "y_means [5.19196307]\n",
            "y_stds [1.21382351]\n",
            "TIMING: dataset construction took 0.675 s\n",
            "Loading dataset from disk.\n",
            "TIMING: dataset construction took 0.098 s\n",
            "Loading dataset from disk.\n",
            "TIMING: dataset construction took 0.099 s\n",
            "Loading dataset from disk.\n"
          ],
          "name": "stdout"
        },
        {
          "output_type": "stream",
          "text": [
            "2021-04-01 19:46:47,897 Wrote model metadata to file ampl_output/CYP3A4_cur_delaney/RF_ecfp_scaffold_regression/8e65c928-c9e9-492b-9db3-f9e6d71c2943/model_metadata.json\n",
            "2021-04-01 19:46:47,948 Wrote model metrics to file ampl_output/CYP3A4_cur_delaney/RF_ecfp_scaffold_regression/8e65c928-c9e9-492b-9db3-f9e6d71c2943/model_metrics.json\n"
          ],
          "name": "stderr"
        },
        {
          "output_type": "stream",
          "text": [
            "Wrote model tarball to ampl_output/CYP3A4_cur_delaney_model_8e65c928-c9e9-492b-9db3-f9e6d71c2943.tar.gz\n",
            "rf_estimators: 32, rf_max_depth: 16, rf_max_features: 32, valid_r2: 0.012627836072066523\n",
            "number of features: 1024\n"
          ],
          "name": "stdout"
        },
        {
          "output_type": "stream",
          "text": [
            "2021-04-01 19:48:03,548 Previous dataset split restored\n"
          ],
          "name": "stderr"
        },
        {
          "output_type": "stream",
          "text": [
            "n_cnt [18642.]\n",
            "y_means [5.19196307]\n",
            "y_stds [1.21382351]\n",
            "TIMING: dataset construction took 0.664 s\n",
            "Loading dataset from disk.\n",
            "TIMING: dataset construction took 0.087 s\n",
            "Loading dataset from disk.\n",
            "TIMING: dataset construction took 0.087 s\n",
            "Loading dataset from disk.\n"
          ],
          "name": "stdout"
        },
        {
          "output_type": "stream",
          "text": [
            "2021-04-01 19:48:09,913 Wrote model metadata to file ampl_output/CYP3A4_cur_delaney/RF_ecfp_scaffold_regression/74558c3d-8078-4f9b-a853-3541a9332ee9/model_metadata.json\n",
            "2021-04-01 19:48:09,966 Wrote model metrics to file ampl_output/CYP3A4_cur_delaney/RF_ecfp_scaffold_regression/74558c3d-8078-4f9b-a853-3541a9332ee9/model_metrics.json\n"
          ],
          "name": "stderr"
        },
        {
          "output_type": "stream",
          "text": [
            "Wrote model tarball to ampl_output/CYP3A4_cur_delaney_model_74558c3d-8078-4f9b-a853-3541a9332ee9.tar.gz\n",
            "rf_estimators: 32, rf_max_depth: 16, rf_max_features: 64, valid_r2: 0.014436386418714142\n",
            "number of features: 1024\n"
          ],
          "name": "stdout"
        },
        {
          "output_type": "stream",
          "text": [
            "2021-04-01 19:49:25,610 Previous dataset split restored\n"
          ],
          "name": "stderr"
        },
        {
          "output_type": "stream",
          "text": [
            "n_cnt [18642.]\n",
            "y_means [5.19196307]\n",
            "y_stds [1.21382351]\n",
            "TIMING: dataset construction took 0.665 s\n",
            "Loading dataset from disk.\n",
            "TIMING: dataset construction took 0.088 s\n",
            "Loading dataset from disk.\n",
            "TIMING: dataset construction took 0.086 s\n",
            "Loading dataset from disk.\n"
          ],
          "name": "stdout"
        },
        {
          "output_type": "stream",
          "text": [
            "2021-04-01 19:49:33,210 Wrote model metadata to file ampl_output/CYP3A4_cur_delaney/RF_ecfp_scaffold_regression/f429335d-a948-49e6-9b6a-9c7ac47f6c4c/model_metadata.json\n",
            "2021-04-01 19:49:33,261 Wrote model metrics to file ampl_output/CYP3A4_cur_delaney/RF_ecfp_scaffold_regression/f429335d-a948-49e6-9b6a-9c7ac47f6c4c/model_metrics.json\n"
          ],
          "name": "stderr"
        },
        {
          "output_type": "stream",
          "text": [
            "Wrote model tarball to ampl_output/CYP3A4_cur_delaney_model_f429335d-a948-49e6-9b6a-9c7ac47f6c4c.tar.gz\n",
            "rf_estimators: 32, rf_max_depth: 16, rf_max_features: 128, valid_r2: 0.013080161228513187\n",
            "number of features: 1024\n"
          ],
          "name": "stdout"
        },
        {
          "output_type": "stream",
          "text": [
            "2021-04-01 19:50:49,144 Previous dataset split restored\n"
          ],
          "name": "stderr"
        },
        {
          "output_type": "stream",
          "text": [
            "n_cnt [18642.]\n",
            "y_means [5.19196307]\n",
            "y_stds [1.21382351]\n",
            "TIMING: dataset construction took 0.663 s\n",
            "Loading dataset from disk.\n",
            "TIMING: dataset construction took 0.087 s\n",
            "Loading dataset from disk.\n",
            "TIMING: dataset construction took 0.086 s\n",
            "Loading dataset from disk.\n"
          ],
          "name": "stdout"
        },
        {
          "output_type": "stream",
          "text": [
            "2021-04-01 19:50:55,257 Wrote model metadata to file ampl_output/CYP3A4_cur_delaney/RF_ecfp_scaffold_regression/09b81892-5f7c-4428-9599-89e285d62d99/model_metadata.json\n",
            "2021-04-01 19:50:55,465 Wrote model metrics to file ampl_output/CYP3A4_cur_delaney/RF_ecfp_scaffold_regression/09b81892-5f7c-4428-9599-89e285d62d99/model_metrics.json\n"
          ],
          "name": "stderr"
        },
        {
          "output_type": "stream",
          "text": [
            "Wrote model tarball to ampl_output/CYP3A4_cur_delaney_model_09b81892-5f7c-4428-9599-89e285d62d99.tar.gz\n",
            "rf_estimators: 32, rf_max_depth: 32, rf_max_features: 16, valid_r2: 0.015268768703438962\n",
            "number of features: 1024\n"
          ],
          "name": "stdout"
        },
        {
          "output_type": "stream",
          "text": [
            "2021-04-01 19:52:11,455 Previous dataset split restored\n"
          ],
          "name": "stderr"
        },
        {
          "output_type": "stream",
          "text": [
            "n_cnt [18642.]\n",
            "y_means [5.19196307]\n",
            "y_stds [1.21382351]\n",
            "TIMING: dataset construction took 0.660 s\n",
            "Loading dataset from disk.\n",
            "TIMING: dataset construction took 0.088 s\n",
            "Loading dataset from disk.\n",
            "TIMING: dataset construction took 0.089 s\n",
            "Loading dataset from disk.\n"
          ],
          "name": "stdout"
        },
        {
          "output_type": "stream",
          "text": [
            "2021-04-01 19:52:18,027 Wrote model metadata to file ampl_output/CYP3A4_cur_delaney/RF_ecfp_scaffold_regression/1f595b8e-af4d-4b97-9203-4bcfc0fe1aee/model_metadata.json\n",
            "2021-04-01 19:52:18,195 Wrote model metrics to file ampl_output/CYP3A4_cur_delaney/RF_ecfp_scaffold_regression/1f595b8e-af4d-4b97-9203-4bcfc0fe1aee/model_metrics.json\n"
          ],
          "name": "stderr"
        },
        {
          "output_type": "stream",
          "text": [
            "Wrote model tarball to ampl_output/CYP3A4_cur_delaney_model_1f595b8e-af4d-4b97-9203-4bcfc0fe1aee.tar.gz\n",
            "rf_estimators: 32, rf_max_depth: 32, rf_max_features: 32, valid_r2: 0.015598244102338787\n",
            "number of features: 1024\n"
          ],
          "name": "stdout"
        },
        {
          "output_type": "stream",
          "text": [
            "2021-04-01 19:53:33,950 Previous dataset split restored\n"
          ],
          "name": "stderr"
        },
        {
          "output_type": "stream",
          "text": [
            "n_cnt [18642.]\n",
            "y_means [5.19196307]\n",
            "y_stds [1.21382351]\n",
            "TIMING: dataset construction took 0.665 s\n",
            "Loading dataset from disk.\n",
            "TIMING: dataset construction took 0.087 s\n",
            "Loading dataset from disk.\n",
            "TIMING: dataset construction took 0.086 s\n",
            "Loading dataset from disk.\n"
          ],
          "name": "stdout"
        },
        {
          "output_type": "stream",
          "text": [
            "2021-04-01 19:53:41,276 Wrote model metadata to file ampl_output/CYP3A4_cur_delaney/RF_ecfp_scaffold_regression/6eb97360-fc32-4f47-881b-6198d4d2c38a/model_metadata.json\n",
            "2021-04-01 19:53:41,443 Wrote model metrics to file ampl_output/CYP3A4_cur_delaney/RF_ecfp_scaffold_regression/6eb97360-fc32-4f47-881b-6198d4d2c38a/model_metrics.json\n"
          ],
          "name": "stderr"
        },
        {
          "output_type": "stream",
          "text": [
            "Wrote model tarball to ampl_output/CYP3A4_cur_delaney_model_6eb97360-fc32-4f47-881b-6198d4d2c38a.tar.gz\n",
            "rf_estimators: 32, rf_max_depth: 32, rf_max_features: 64, valid_r2: 0.013461260911228567\n",
            "number of features: 1024\n"
          ],
          "name": "stdout"
        },
        {
          "output_type": "stream",
          "text": [
            "2021-04-01 19:54:56,946 Previous dataset split restored\n"
          ],
          "name": "stderr"
        },
        {
          "output_type": "stream",
          "text": [
            "n_cnt [18642.]\n",
            "y_means [5.19196307]\n",
            "y_stds [1.21382351]\n",
            "TIMING: dataset construction took 0.668 s\n",
            "Loading dataset from disk.\n",
            "TIMING: dataset construction took 0.088 s\n",
            "Loading dataset from disk.\n",
            "TIMING: dataset construction took 0.087 s\n",
            "Loading dataset from disk.\n"
          ],
          "name": "stdout"
        },
        {
          "output_type": "stream",
          "text": [
            "2021-04-01 19:55:06,131 Wrote model metadata to file ampl_output/CYP3A4_cur_delaney/RF_ecfp_scaffold_regression/8c8ee946-f4ef-4888-855c-21aee92c3f09/model_metadata.json\n",
            "2021-04-01 19:55:06,293 Wrote model metrics to file ampl_output/CYP3A4_cur_delaney/RF_ecfp_scaffold_regression/8c8ee946-f4ef-4888-855c-21aee92c3f09/model_metrics.json\n"
          ],
          "name": "stderr"
        },
        {
          "output_type": "stream",
          "text": [
            "Wrote model tarball to ampl_output/CYP3A4_cur_delaney_model_8c8ee946-f4ef-4888-855c-21aee92c3f09.tar.gz\n",
            "rf_estimators: 32, rf_max_depth: 32, rf_max_features: 128, valid_r2: 0.014754021303085119\n",
            "number of features: 1024\n"
          ],
          "name": "stdout"
        },
        {
          "output_type": "stream",
          "text": [
            "2021-04-01 19:56:21,960 Previous dataset split restored\n"
          ],
          "name": "stderr"
        },
        {
          "output_type": "stream",
          "text": [
            "n_cnt [18642.]\n",
            "y_means [5.19196307]\n",
            "y_stds [1.21382351]\n",
            "TIMING: dataset construction took 0.672 s\n",
            "Loading dataset from disk.\n",
            "TIMING: dataset construction took 0.088 s\n",
            "Loading dataset from disk.\n",
            "TIMING: dataset construction took 0.089 s\n",
            "Loading dataset from disk.\n"
          ],
          "name": "stdout"
        },
        {
          "output_type": "stream",
          "text": [
            "2021-04-01 19:56:28,298 Wrote model metadata to file ampl_output/CYP3A4_cur_delaney/RF_ecfp_scaffold_regression/86302b01-5be8-4bd6-8b84-b5e879ce1044/model_metadata.json\n",
            "2021-04-01 19:56:28,606 Wrote model metrics to file ampl_output/CYP3A4_cur_delaney/RF_ecfp_scaffold_regression/86302b01-5be8-4bd6-8b84-b5e879ce1044/model_metrics.json\n"
          ],
          "name": "stderr"
        },
        {
          "output_type": "stream",
          "text": [
            "Wrote model tarball to ampl_output/CYP3A4_cur_delaney_model_86302b01-5be8-4bd6-8b84-b5e879ce1044.tar.gz\n",
            "rf_estimators: 32, rf_max_depth: 64, rf_max_features: 16, valid_r2: 0.016153102813743603\n",
            "number of features: 1024\n"
          ],
          "name": "stdout"
        },
        {
          "output_type": "stream",
          "text": [
            "2021-04-01 19:57:44,617 Previous dataset split restored\n"
          ],
          "name": "stderr"
        },
        {
          "output_type": "stream",
          "text": [
            "n_cnt [18642.]\n",
            "y_means [5.19196307]\n",
            "y_stds [1.21382351]\n",
            "TIMING: dataset construction took 0.703 s\n",
            "Loading dataset from disk.\n",
            "TIMING: dataset construction took 0.094 s\n",
            "Loading dataset from disk.\n",
            "TIMING: dataset construction took 0.095 s\n",
            "Loading dataset from disk.\n"
          ],
          "name": "stdout"
        },
        {
          "output_type": "stream",
          "text": [
            "2021-04-01 19:57:51,817 Wrote model metadata to file ampl_output/CYP3A4_cur_delaney/RF_ecfp_scaffold_regression/7fa395b4-388e-4a35-8292-944a4b8c92ad/model_metadata.json\n",
            "2021-04-01 19:57:52,111 Wrote model metrics to file ampl_output/CYP3A4_cur_delaney/RF_ecfp_scaffold_regression/7fa395b4-388e-4a35-8292-944a4b8c92ad/model_metrics.json\n"
          ],
          "name": "stderr"
        },
        {
          "output_type": "stream",
          "text": [
            "Wrote model tarball to ampl_output/CYP3A4_cur_delaney_model_7fa395b4-388e-4a35-8292-944a4b8c92ad.tar.gz\n",
            "rf_estimators: 32, rf_max_depth: 64, rf_max_features: 32, valid_r2: 0.015590195986840971\n",
            "number of features: 1024\n"
          ],
          "name": "stdout"
        },
        {
          "output_type": "stream",
          "text": [
            "2021-04-01 19:59:07,993 Previous dataset split restored\n"
          ],
          "name": "stderr"
        },
        {
          "output_type": "stream",
          "text": [
            "n_cnt [18642.]\n",
            "y_means [5.19196307]\n",
            "y_stds [1.21382351]\n",
            "TIMING: dataset construction took 0.667 s\n",
            "Loading dataset from disk.\n",
            "TIMING: dataset construction took 0.088 s\n",
            "Loading dataset from disk.\n",
            "TIMING: dataset construction took 0.088 s\n",
            "Loading dataset from disk.\n"
          ],
          "name": "stdout"
        },
        {
          "output_type": "stream",
          "text": [
            "2021-04-01 19:59:15,904 Wrote model metadata to file ampl_output/CYP3A4_cur_delaney/RF_ecfp_scaffold_regression/41aa88a3-96cc-47ef-854b-fc72d8d8b8be/model_metadata.json\n",
            "2021-04-01 19:59:16,194 Wrote model metrics to file ampl_output/CYP3A4_cur_delaney/RF_ecfp_scaffold_regression/41aa88a3-96cc-47ef-854b-fc72d8d8b8be/model_metrics.json\n"
          ],
          "name": "stderr"
        },
        {
          "output_type": "stream",
          "text": [
            "Wrote model tarball to ampl_output/CYP3A4_cur_delaney_model_41aa88a3-96cc-47ef-854b-fc72d8d8b8be.tar.gz\n",
            "rf_estimators: 32, rf_max_depth: 64, rf_max_features: 64, valid_r2: 0.015138485394188161\n",
            "number of features: 1024\n"
          ],
          "name": "stdout"
        },
        {
          "output_type": "stream",
          "text": [
            "2021-04-01 20:00:32,079 Previous dataset split restored\n"
          ],
          "name": "stderr"
        },
        {
          "output_type": "stream",
          "text": [
            "n_cnt [18642.]\n",
            "y_means [5.19196307]\n",
            "y_stds [1.21382351]\n",
            "TIMING: dataset construction took 0.658 s\n",
            "Loading dataset from disk.\n",
            "TIMING: dataset construction took 0.087 s\n",
            "Loading dataset from disk.\n",
            "TIMING: dataset construction took 0.086 s\n",
            "Loading dataset from disk.\n"
          ],
          "name": "stdout"
        },
        {
          "output_type": "stream",
          "text": [
            "2021-04-01 20:00:42,070 Wrote model metadata to file ampl_output/CYP3A4_cur_delaney/RF_ecfp_scaffold_regression/23ababf5-606e-4ed4-b57a-b0590bc871b9/model_metadata.json\n",
            "2021-04-01 20:00:42,350 Wrote model metrics to file ampl_output/CYP3A4_cur_delaney/RF_ecfp_scaffold_regression/23ababf5-606e-4ed4-b57a-b0590bc871b9/model_metrics.json\n"
          ],
          "name": "stderr"
        },
        {
          "output_type": "stream",
          "text": [
            "Wrote model tarball to ampl_output/CYP3A4_cur_delaney_model_23ababf5-606e-4ed4-b57a-b0590bc871b9.tar.gz\n",
            "rf_estimators: 32, rf_max_depth: 64, rf_max_features: 128, valid_r2: 0.016786521312736946\n",
            "number of features: 1024\n"
          ],
          "name": "stdout"
        },
        {
          "output_type": "stream",
          "text": [
            "2021-04-01 20:01:58,320 Previous dataset split restored\n"
          ],
          "name": "stderr"
        },
        {
          "output_type": "stream",
          "text": [
            "n_cnt [18642.]\n",
            "y_means [5.19196307]\n",
            "y_stds [1.21382351]\n",
            "TIMING: dataset construction took 0.666 s\n",
            "Loading dataset from disk.\n",
            "TIMING: dataset construction took 0.087 s\n",
            "Loading dataset from disk.\n",
            "TIMING: dataset construction took 0.089 s\n",
            "Loading dataset from disk.\n"
          ],
          "name": "stdout"
        },
        {
          "output_type": "stream",
          "text": [
            "2021-04-01 20:02:04,810 Wrote model metadata to file ampl_output/CYP3A4_cur_delaney/RF_ecfp_scaffold_regression/8984baf3-3838-42a1-823a-fc239786182b/model_metadata.json\n",
            "2021-04-01 20:02:05,146 Wrote model metrics to file ampl_output/CYP3A4_cur_delaney/RF_ecfp_scaffold_regression/8984baf3-3838-42a1-823a-fc239786182b/model_metrics.json\n"
          ],
          "name": "stderr"
        },
        {
          "output_type": "stream",
          "text": [
            "Wrote model tarball to ampl_output/CYP3A4_cur_delaney_model_8984baf3-3838-42a1-823a-fc239786182b.tar.gz\n",
            "rf_estimators: 32, rf_max_depth: 128, rf_max_features: 16, valid_r2: 0.014880724418234625\n",
            "number of features: 1024\n"
          ],
          "name": "stdout"
        },
        {
          "output_type": "stream",
          "text": [
            "2021-04-01 20:03:21,015 Previous dataset split restored\n"
          ],
          "name": "stderr"
        },
        {
          "output_type": "stream",
          "text": [
            "n_cnt [18642.]\n",
            "y_means [5.19196307]\n",
            "y_stds [1.21382351]\n",
            "TIMING: dataset construction took 0.666 s\n",
            "Loading dataset from disk.\n",
            "TIMING: dataset construction took 0.088 s\n",
            "Loading dataset from disk.\n",
            "TIMING: dataset construction took 0.089 s\n",
            "Loading dataset from disk.\n"
          ],
          "name": "stdout"
        },
        {
          "output_type": "stream",
          "text": [
            "2021-04-01 20:03:28,094 Wrote model metadata to file ampl_output/CYP3A4_cur_delaney/RF_ecfp_scaffold_regression/db625d29-d597-4689-b7c9-b77dcd99128a/model_metadata.json\n",
            "2021-04-01 20:03:28,423 Wrote model metrics to file ampl_output/CYP3A4_cur_delaney/RF_ecfp_scaffold_regression/db625d29-d597-4689-b7c9-b77dcd99128a/model_metrics.json\n"
          ],
          "name": "stderr"
        },
        {
          "output_type": "stream",
          "text": [
            "Wrote model tarball to ampl_output/CYP3A4_cur_delaney_model_db625d29-d597-4689-b7c9-b77dcd99128a.tar.gz\n",
            "rf_estimators: 32, rf_max_depth: 128, rf_max_features: 32, valid_r2: 0.017069747807298197\n",
            "number of features: 1024\n"
          ],
          "name": "stdout"
        },
        {
          "output_type": "stream",
          "text": [
            "2021-04-01 20:04:44,137 Previous dataset split restored\n"
          ],
          "name": "stderr"
        },
        {
          "output_type": "stream",
          "text": [
            "n_cnt [18642.]\n",
            "y_means [5.19196307]\n",
            "y_stds [1.21382351]\n",
            "TIMING: dataset construction took 0.664 s\n",
            "Loading dataset from disk.\n",
            "TIMING: dataset construction took 0.089 s\n",
            "Loading dataset from disk.\n",
            "TIMING: dataset construction took 0.087 s\n",
            "Loading dataset from disk.\n"
          ],
          "name": "stdout"
        },
        {
          "output_type": "stream",
          "text": [
            "2021-04-01 20:04:52,290 Wrote model metadata to file ampl_output/CYP3A4_cur_delaney/RF_ecfp_scaffold_regression/5e1bdbef-47a5-4321-882c-15b1d38dcede/model_metadata.json\n",
            "2021-04-01 20:04:52,612 Wrote model metrics to file ampl_output/CYP3A4_cur_delaney/RF_ecfp_scaffold_regression/5e1bdbef-47a5-4321-882c-15b1d38dcede/model_metrics.json\n"
          ],
          "name": "stderr"
        },
        {
          "output_type": "stream",
          "text": [
            "Wrote model tarball to ampl_output/CYP3A4_cur_delaney_model_5e1bdbef-47a5-4321-882c-15b1d38dcede.tar.gz\n",
            "rf_estimators: 32, rf_max_depth: 128, rf_max_features: 64, valid_r2: 0.018618292888265775\n",
            "number of features: 1024\n"
          ],
          "name": "stdout"
        },
        {
          "output_type": "stream",
          "text": [
            "2021-04-01 20:06:08,413 Previous dataset split restored\n"
          ],
          "name": "stderr"
        },
        {
          "output_type": "stream",
          "text": [
            "n_cnt [18642.]\n",
            "y_means [5.19196307]\n",
            "y_stds [1.21382351]\n",
            "TIMING: dataset construction took 0.659 s\n",
            "Loading dataset from disk.\n",
            "TIMING: dataset construction took 0.087 s\n",
            "Loading dataset from disk.\n",
            "TIMING: dataset construction took 0.087 s\n",
            "Loading dataset from disk.\n"
          ],
          "name": "stdout"
        },
        {
          "output_type": "stream",
          "text": [
            "2021-04-01 20:06:18,753 Wrote model metadata to file ampl_output/CYP3A4_cur_delaney/RF_ecfp_scaffold_regression/0ed06c60-be7c-4f45-8a55-36ee7f40b800/model_metadata.json\n",
            "2021-04-01 20:06:19,066 Wrote model metrics to file ampl_output/CYP3A4_cur_delaney/RF_ecfp_scaffold_regression/0ed06c60-be7c-4f45-8a55-36ee7f40b800/model_metrics.json\n"
          ],
          "name": "stderr"
        },
        {
          "output_type": "stream",
          "text": [
            "Wrote model tarball to ampl_output/CYP3A4_cur_delaney_model_0ed06c60-be7c-4f45-8a55-36ee7f40b800.tar.gz\n",
            "rf_estimators: 32, rf_max_depth: 128, rf_max_features: 128, valid_r2: 0.016906930343153492\n",
            "number of features: 1024\n"
          ],
          "name": "stdout"
        },
        {
          "output_type": "stream",
          "text": [
            "2021-04-01 20:07:34,710 Previous dataset split restored\n"
          ],
          "name": "stderr"
        },
        {
          "output_type": "stream",
          "text": [
            "n_cnt [18642.]\n",
            "y_means [5.19196307]\n",
            "y_stds [1.21382351]\n",
            "TIMING: dataset construction took 0.663 s\n",
            "Loading dataset from disk.\n",
            "TIMING: dataset construction took 0.091 s\n",
            "Loading dataset from disk.\n",
            "TIMING: dataset construction took 0.087 s\n",
            "Loading dataset from disk.\n"
          ],
          "name": "stdout"
        },
        {
          "output_type": "stream",
          "text": [
            "2021-04-01 20:07:40,780 Wrote model metadata to file ampl_output/CYP3A4_cur_delaney/RF_ecfp_scaffold_regression/9fe8e40e-843c-4d20-8235-5e003b91c2f4/model_metadata.json\n",
            "2021-04-01 20:07:40,878 Wrote model metrics to file ampl_output/CYP3A4_cur_delaney/RF_ecfp_scaffold_regression/9fe8e40e-843c-4d20-8235-5e003b91c2f4/model_metrics.json\n"
          ],
          "name": "stderr"
        },
        {
          "output_type": "stream",
          "text": [
            "Wrote model tarball to ampl_output/CYP3A4_cur_delaney_model_9fe8e40e-843c-4d20-8235-5e003b91c2f4.tar.gz\n",
            "rf_estimators: 64, rf_max_depth: 16, rf_max_features: 16, valid_r2: 0.010970459522259168\n",
            "number of features: 1024\n"
          ],
          "name": "stdout"
        },
        {
          "output_type": "stream",
          "text": [
            "2021-04-01 20:08:56,717 Previous dataset split restored\n"
          ],
          "name": "stderr"
        },
        {
          "output_type": "stream",
          "text": [
            "n_cnt [18642.]\n",
            "y_means [5.19196307]\n",
            "y_stds [1.21382351]\n",
            "TIMING: dataset construction took 0.666 s\n",
            "Loading dataset from disk.\n",
            "TIMING: dataset construction took 0.089 s\n",
            "Loading dataset from disk.\n",
            "TIMING: dataset construction took 0.088 s\n",
            "Loading dataset from disk.\n"
          ],
          "name": "stdout"
        },
        {
          "output_type": "stream",
          "text": [
            "2021-04-01 20:09:03,362 Wrote model metadata to file ampl_output/CYP3A4_cur_delaney/RF_ecfp_scaffold_regression/49588e62-71cd-4446-9296-fa907d56ea5f/model_metadata.json\n",
            "2021-04-01 20:09:03,464 Wrote model metrics to file ampl_output/CYP3A4_cur_delaney/RF_ecfp_scaffold_regression/49588e62-71cd-4446-9296-fa907d56ea5f/model_metrics.json\n"
          ],
          "name": "stderr"
        },
        {
          "output_type": "stream",
          "text": [
            "Wrote model tarball to ampl_output/CYP3A4_cur_delaney_model_49588e62-71cd-4446-9296-fa907d56ea5f.tar.gz\n",
            "rf_estimators: 64, rf_max_depth: 16, rf_max_features: 32, valid_r2: 0.012464262264879067\n",
            "number of features: 1024\n"
          ],
          "name": "stdout"
        },
        {
          "output_type": "stream",
          "text": [
            "2021-04-01 20:10:19,047 Previous dataset split restored\n"
          ],
          "name": "stderr"
        },
        {
          "output_type": "stream",
          "text": [
            "n_cnt [18642.]\n",
            "y_means [5.19196307]\n",
            "y_stds [1.21382351]\n",
            "TIMING: dataset construction took 0.661 s\n",
            "Loading dataset from disk.\n",
            "TIMING: dataset construction took 0.088 s\n",
            "Loading dataset from disk.\n",
            "TIMING: dataset construction took 0.087 s\n",
            "Loading dataset from disk.\n"
          ],
          "name": "stdout"
        },
        {
          "output_type": "stream",
          "text": [
            "2021-04-01 20:10:26,922 Wrote model metadata to file ampl_output/CYP3A4_cur_delaney/RF_ecfp_scaffold_regression/01b84e46-13a3-442d-bcf4-e06dbcc936a1/model_metadata.json\n",
            "2021-04-01 20:10:27,037 Wrote model metrics to file ampl_output/CYP3A4_cur_delaney/RF_ecfp_scaffold_regression/01b84e46-13a3-442d-bcf4-e06dbcc936a1/model_metrics.json\n"
          ],
          "name": "stderr"
        },
        {
          "output_type": "stream",
          "text": [
            "Wrote model tarball to ampl_output/CYP3A4_cur_delaney_model_01b84e46-13a3-442d-bcf4-e06dbcc936a1.tar.gz\n",
            "rf_estimators: 64, rf_max_depth: 16, rf_max_features: 64, valid_r2: 0.012733299754997707\n",
            "number of features: 1024\n"
          ],
          "name": "stdout"
        },
        {
          "output_type": "stream",
          "text": [
            "2021-04-01 20:11:42,643 Previous dataset split restored\n"
          ],
          "name": "stderr"
        },
        {
          "output_type": "stream",
          "text": [
            "n_cnt [18642.]\n",
            "y_means [5.19196307]\n",
            "y_stds [1.21382351]\n",
            "TIMING: dataset construction took 0.663 s\n",
            "Loading dataset from disk.\n",
            "TIMING: dataset construction took 0.090 s\n",
            "Loading dataset from disk.\n",
            "TIMING: dataset construction took 0.087 s\n",
            "Loading dataset from disk.\n"
          ],
          "name": "stdout"
        },
        {
          "output_type": "stream",
          "text": [
            "2021-04-01 20:11:52,884 Wrote model metadata to file ampl_output/CYP3A4_cur_delaney/RF_ecfp_scaffold_regression/d5559115-cb5d-4f34-9cf4-07d224bf3bb0/model_metadata.json\n",
            "2021-04-01 20:11:52,985 Wrote model metrics to file ampl_output/CYP3A4_cur_delaney/RF_ecfp_scaffold_regression/d5559115-cb5d-4f34-9cf4-07d224bf3bb0/model_metrics.json\n"
          ],
          "name": "stderr"
        },
        {
          "output_type": "stream",
          "text": [
            "Wrote model tarball to ampl_output/CYP3A4_cur_delaney_model_d5559115-cb5d-4f34-9cf4-07d224bf3bb0.tar.gz\n",
            "rf_estimators: 64, rf_max_depth: 16, rf_max_features: 128, valid_r2: 0.013053698283602033\n",
            "number of features: 1024\n"
          ],
          "name": "stdout"
        },
        {
          "output_type": "stream",
          "text": [
            "2021-04-01 20:13:08,557 Previous dataset split restored\n"
          ],
          "name": "stderr"
        },
        {
          "output_type": "stream",
          "text": [
            "n_cnt [18642.]\n",
            "y_means [5.19196307]\n",
            "y_stds [1.21382351]\n",
            "TIMING: dataset construction took 0.714 s\n",
            "Loading dataset from disk.\n",
            "TIMING: dataset construction took 0.092 s\n",
            "Loading dataset from disk.\n",
            "TIMING: dataset construction took 0.088 s\n",
            "Loading dataset from disk.\n"
          ],
          "name": "stdout"
        },
        {
          "output_type": "stream",
          "text": [
            "2021-04-01 20:13:15,658 Wrote model metadata to file ampl_output/CYP3A4_cur_delaney/RF_ecfp_scaffold_regression/b26e1653-eca4-423e-bd49-b04ceee313e3/model_metadata.json\n",
            "2021-04-01 20:13:15,996 Wrote model metrics to file ampl_output/CYP3A4_cur_delaney/RF_ecfp_scaffold_regression/b26e1653-eca4-423e-bd49-b04ceee313e3/model_metrics.json\n"
          ],
          "name": "stderr"
        },
        {
          "output_type": "stream",
          "text": [
            "Wrote model tarball to ampl_output/CYP3A4_cur_delaney_model_b26e1653-eca4-423e-bd49-b04ceee313e3.tar.gz\n",
            "rf_estimators: 64, rf_max_depth: 32, rf_max_features: 16, valid_r2: 0.013881646022800509\n",
            "number of features: 1024\n"
          ],
          "name": "stdout"
        },
        {
          "output_type": "stream",
          "text": [
            "2021-04-01 20:14:31,646 Previous dataset split restored\n"
          ],
          "name": "stderr"
        },
        {
          "output_type": "stream",
          "text": [
            "n_cnt [18642.]\n",
            "y_means [5.19196307]\n",
            "y_stds [1.21382351]\n",
            "TIMING: dataset construction took 0.656 s\n",
            "Loading dataset from disk.\n",
            "TIMING: dataset construction took 0.089 s\n",
            "Loading dataset from disk.\n",
            "TIMING: dataset construction took 0.088 s\n",
            "Loading dataset from disk.\n"
          ],
          "name": "stdout"
        },
        {
          "output_type": "stream",
          "text": [
            "2021-04-01 20:14:39,539 Wrote model metadata to file ampl_output/CYP3A4_cur_delaney/RF_ecfp_scaffold_regression/1aead0ed-078a-427a-be96-a0f812b067ab/model_metadata.json\n",
            "2021-04-01 20:14:39,881 Wrote model metrics to file ampl_output/CYP3A4_cur_delaney/RF_ecfp_scaffold_regression/1aead0ed-078a-427a-be96-a0f812b067ab/model_metrics.json\n"
          ],
          "name": "stderr"
        },
        {
          "output_type": "stream",
          "text": [
            "Wrote model tarball to ampl_output/CYP3A4_cur_delaney_model_1aead0ed-078a-427a-be96-a0f812b067ab.tar.gz\n",
            "rf_estimators: 64, rf_max_depth: 32, rf_max_features: 32, valid_r2: 0.015563224586194746\n",
            "number of features: 1024\n"
          ],
          "name": "stdout"
        },
        {
          "output_type": "stream",
          "text": [
            "2021-04-01 20:15:55,732 Previous dataset split restored\n"
          ],
          "name": "stderr"
        },
        {
          "output_type": "stream",
          "text": [
            "n_cnt [18642.]\n",
            "y_means [5.19196307]\n",
            "y_stds [1.21382351]\n",
            "TIMING: dataset construction took 0.669 s\n",
            "Loading dataset from disk.\n",
            "TIMING: dataset construction took 0.088 s\n",
            "Loading dataset from disk.\n",
            "TIMING: dataset construction took 0.089 s\n",
            "Loading dataset from disk.\n"
          ],
          "name": "stdout"
        },
        {
          "output_type": "stream",
          "text": [
            "2021-04-01 20:16:05,548 Wrote model metadata to file ampl_output/CYP3A4_cur_delaney/RF_ecfp_scaffold_regression/d615b8a7-f8ec-4429-8090-b87c3acee41e/model_metadata.json\n",
            "2021-04-01 20:16:05,875 Wrote model metrics to file ampl_output/CYP3A4_cur_delaney/RF_ecfp_scaffold_regression/d615b8a7-f8ec-4429-8090-b87c3acee41e/model_metrics.json\n"
          ],
          "name": "stderr"
        },
        {
          "output_type": "stream",
          "text": [
            "Wrote model tarball to ampl_output/CYP3A4_cur_delaney_model_d615b8a7-f8ec-4429-8090-b87c3acee41e.tar.gz\n",
            "rf_estimators: 64, rf_max_depth: 32, rf_max_features: 64, valid_r2: 0.015588623274395919\n",
            "number of features: 1024\n"
          ],
          "name": "stdout"
        },
        {
          "output_type": "stream",
          "text": [
            "2021-04-01 20:17:21,681 Previous dataset split restored\n"
          ],
          "name": "stderr"
        },
        {
          "output_type": "stream",
          "text": [
            "n_cnt [18642.]\n",
            "y_means [5.19196307]\n",
            "y_stds [1.21382351]\n",
            "TIMING: dataset construction took 0.672 s\n",
            "Loading dataset from disk.\n",
            "TIMING: dataset construction took 0.089 s\n",
            "Loading dataset from disk.\n",
            "TIMING: dataset construction took 0.091 s\n",
            "Loading dataset from disk.\n"
          ],
          "name": "stdout"
        },
        {
          "output_type": "stream",
          "text": [
            "2021-04-01 20:17:35,003 Wrote model metadata to file ampl_output/CYP3A4_cur_delaney/RF_ecfp_scaffold_regression/16914b67-44ea-418d-b20f-89af7eeff764/model_metadata.json\n",
            "2021-04-01 20:17:35,334 Wrote model metrics to file ampl_output/CYP3A4_cur_delaney/RF_ecfp_scaffold_regression/16914b67-44ea-418d-b20f-89af7eeff764/model_metrics.json\n"
          ],
          "name": "stderr"
        },
        {
          "output_type": "stream",
          "text": [
            "Wrote model tarball to ampl_output/CYP3A4_cur_delaney_model_16914b67-44ea-418d-b20f-89af7eeff764.tar.gz\n",
            "rf_estimators: 64, rf_max_depth: 32, rf_max_features: 128, valid_r2: 0.014336558739243999\n",
            "number of features: 1024\n"
          ],
          "name": "stdout"
        },
        {
          "output_type": "stream",
          "text": [
            "2021-04-01 20:18:51,262 Previous dataset split restored\n"
          ],
          "name": "stderr"
        },
        {
          "output_type": "stream",
          "text": [
            "n_cnt [18642.]\n",
            "y_means [5.19196307]\n",
            "y_stds [1.21382351]\n",
            "TIMING: dataset construction took 0.691 s\n",
            "Loading dataset from disk.\n",
            "TIMING: dataset construction took 0.090 s\n",
            "Loading dataset from disk.\n",
            "TIMING: dataset construction took 0.088 s\n",
            "Loading dataset from disk.\n"
          ],
          "name": "stdout"
        },
        {
          "output_type": "stream",
          "text": [
            "2021-04-01 20:18:59,179 Wrote model metadata to file ampl_output/CYP3A4_cur_delaney/RF_ecfp_scaffold_regression/791640c4-9e25-4461-b4f0-50ddcebbbc16/model_metadata.json\n",
            "2021-04-01 20:18:59,782 Wrote model metrics to file ampl_output/CYP3A4_cur_delaney/RF_ecfp_scaffold_regression/791640c4-9e25-4461-b4f0-50ddcebbbc16/model_metrics.json\n"
          ],
          "name": "stderr"
        },
        {
          "output_type": "stream",
          "text": [
            "Wrote model tarball to ampl_output/CYP3A4_cur_delaney_model_791640c4-9e25-4461-b4f0-50ddcebbbc16.tar.gz\n",
            "rf_estimators: 64, rf_max_depth: 64, rf_max_features: 16, valid_r2: 0.015773676243834522\n",
            "number of features: 1024\n"
          ],
          "name": "stdout"
        },
        {
          "output_type": "stream",
          "text": [
            "2021-04-01 20:20:15,494 Previous dataset split restored\n"
          ],
          "name": "stderr"
        },
        {
          "output_type": "stream",
          "text": [
            "n_cnt [18642.]\n",
            "y_means [5.19196307]\n",
            "y_stds [1.21382351]\n",
            "TIMING: dataset construction took 0.662 s\n",
            "Loading dataset from disk.\n",
            "TIMING: dataset construction took 0.088 s\n",
            "Loading dataset from disk.\n",
            "TIMING: dataset construction took 0.090 s\n",
            "Loading dataset from disk.\n"
          ],
          "name": "stdout"
        },
        {
          "output_type": "stream",
          "text": [
            "2021-04-01 20:20:24,433 Wrote model metadata to file ampl_output/CYP3A4_cur_delaney/RF_ecfp_scaffold_regression/e2986ef8-db95-4c2f-b73f-7484e8dcedb0/model_metadata.json\n",
            "2021-04-01 20:20:25,022 Wrote model metrics to file ampl_output/CYP3A4_cur_delaney/RF_ecfp_scaffold_regression/e2986ef8-db95-4c2f-b73f-7484e8dcedb0/model_metrics.json\n"
          ],
          "name": "stderr"
        },
        {
          "output_type": "stream",
          "text": [
            "Wrote model tarball to ampl_output/CYP3A4_cur_delaney_model_e2986ef8-db95-4c2f-b73f-7484e8dcedb0.tar.gz\n",
            "rf_estimators: 64, rf_max_depth: 64, rf_max_features: 32, valid_r2: 0.018866505239212183\n",
            "number of features: 1024\n"
          ],
          "name": "stdout"
        },
        {
          "output_type": "stream",
          "text": [
            "2021-04-01 20:21:40,765 Previous dataset split restored\n"
          ],
          "name": "stderr"
        },
        {
          "output_type": "stream",
          "text": [
            "n_cnt [18642.]\n",
            "y_means [5.19196307]\n",
            "y_stds [1.21382351]\n",
            "TIMING: dataset construction took 0.662 s\n",
            "Loading dataset from disk.\n",
            "TIMING: dataset construction took 0.088 s\n",
            "Loading dataset from disk.\n",
            "TIMING: dataset construction took 0.088 s\n",
            "Loading dataset from disk.\n"
          ],
          "name": "stdout"
        },
        {
          "output_type": "stream",
          "text": [
            "2021-04-01 20:21:51,857 Wrote model metadata to file ampl_output/CYP3A4_cur_delaney/RF_ecfp_scaffold_regression/52f27a78-8b22-4cbb-a76f-19ccc53c31be/model_metadata.json\n",
            "2021-04-01 20:21:52,428 Wrote model metrics to file ampl_output/CYP3A4_cur_delaney/RF_ecfp_scaffold_regression/52f27a78-8b22-4cbb-a76f-19ccc53c31be/model_metrics.json\n"
          ],
          "name": "stderr"
        },
        {
          "output_type": "stream",
          "text": [
            "Wrote model tarball to ampl_output/CYP3A4_cur_delaney_model_52f27a78-8b22-4cbb-a76f-19ccc53c31be.tar.gz\n",
            "rf_estimators: 64, rf_max_depth: 64, rf_max_features: 64, valid_r2: 0.017589622804561444\n",
            "number of features: 1024\n"
          ],
          "name": "stdout"
        },
        {
          "output_type": "stream",
          "text": [
            "2021-04-01 20:23:08,124 Previous dataset split restored\n"
          ],
          "name": "stderr"
        },
        {
          "output_type": "stream",
          "text": [
            "n_cnt [18642.]\n",
            "y_means [5.19196307]\n",
            "y_stds [1.21382351]\n",
            "TIMING: dataset construction took 0.659 s\n",
            "Loading dataset from disk.\n",
            "TIMING: dataset construction took 0.087 s\n",
            "Loading dataset from disk.\n",
            "TIMING: dataset construction took 0.087 s\n",
            "Loading dataset from disk.\n"
          ],
          "name": "stdout"
        },
        {
          "output_type": "stream",
          "text": [
            "2021-04-01 20:23:23,245 Wrote model metadata to file ampl_output/CYP3A4_cur_delaney/RF_ecfp_scaffold_regression/fc31fdd1-764d-4915-85a3-b893c1f39ffb/model_metadata.json\n",
            "2021-04-01 20:23:23,802 Wrote model metrics to file ampl_output/CYP3A4_cur_delaney/RF_ecfp_scaffold_regression/fc31fdd1-764d-4915-85a3-b893c1f39ffb/model_metrics.json\n"
          ],
          "name": "stderr"
        },
        {
          "output_type": "stream",
          "text": [
            "Wrote model tarball to ampl_output/CYP3A4_cur_delaney_model_fc31fdd1-764d-4915-85a3-b893c1f39ffb.tar.gz\n",
            "rf_estimators: 64, rf_max_depth: 64, rf_max_features: 128, valid_r2: 0.017893012781953543\n",
            "number of features: 1024\n"
          ],
          "name": "stdout"
        },
        {
          "output_type": "stream",
          "text": [
            "2021-04-01 20:24:39,425 Previous dataset split restored\n"
          ],
          "name": "stderr"
        },
        {
          "output_type": "stream",
          "text": [
            "n_cnt [18642.]\n",
            "y_means [5.19196307]\n",
            "y_stds [1.21382351]\n",
            "TIMING: dataset construction took 0.673 s\n",
            "Loading dataset from disk.\n",
            "TIMING: dataset construction took 0.089 s\n",
            "Loading dataset from disk.\n",
            "TIMING: dataset construction took 0.089 s\n",
            "Loading dataset from disk.\n"
          ],
          "name": "stdout"
        },
        {
          "output_type": "stream",
          "text": [
            "2021-04-01 20:24:47,673 Wrote model metadata to file ampl_output/CYP3A4_cur_delaney/RF_ecfp_scaffold_regression/49df26ea-1d17-4dd4-af2d-d607a4436a75/model_metadata.json\n",
            "2021-04-01 20:24:48,331 Wrote model metrics to file ampl_output/CYP3A4_cur_delaney/RF_ecfp_scaffold_regression/49df26ea-1d17-4dd4-af2d-d607a4436a75/model_metrics.json\n"
          ],
          "name": "stderr"
        },
        {
          "output_type": "stream",
          "text": [
            "Wrote model tarball to ampl_output/CYP3A4_cur_delaney_model_49df26ea-1d17-4dd4-af2d-d607a4436a75.tar.gz\n",
            "rf_estimators: 64, rf_max_depth: 128, rf_max_features: 16, valid_r2: 0.0166613426690011\n",
            "number of features: 1024\n"
          ],
          "name": "stdout"
        },
        {
          "output_type": "stream",
          "text": [
            "2021-04-01 20:26:04,163 Previous dataset split restored\n"
          ],
          "name": "stderr"
        },
        {
          "output_type": "stream",
          "text": [
            "n_cnt [18642.]\n",
            "y_means [5.19196307]\n",
            "y_stds [1.21382351]\n",
            "TIMING: dataset construction took 0.687 s\n",
            "Loading dataset from disk.\n",
            "TIMING: dataset construction took 0.093 s\n",
            "Loading dataset from disk.\n",
            "TIMING: dataset construction took 0.091 s\n",
            "Loading dataset from disk.\n"
          ],
          "name": "stdout"
        },
        {
          "output_type": "stream",
          "text": [
            "2021-04-01 20:26:13,462 Wrote model metadata to file ampl_output/CYP3A4_cur_delaney/RF_ecfp_scaffold_regression/d7ef4c7e-0cf0-4df5-86ff-117805cd9144/model_metadata.json\n",
            "2021-04-01 20:26:14,105 Wrote model metrics to file ampl_output/CYP3A4_cur_delaney/RF_ecfp_scaffold_regression/d7ef4c7e-0cf0-4df5-86ff-117805cd9144/model_metrics.json\n"
          ],
          "name": "stderr"
        },
        {
          "output_type": "stream",
          "text": [
            "Wrote model tarball to ampl_output/CYP3A4_cur_delaney_model_d7ef4c7e-0cf0-4df5-86ff-117805cd9144.tar.gz\n",
            "rf_estimators: 64, rf_max_depth: 128, rf_max_features: 32, valid_r2: 0.015576369546285052\n",
            "number of features: 1024\n"
          ],
          "name": "stdout"
        },
        {
          "output_type": "stream",
          "text": [
            "2021-04-01 20:27:30,819 Previous dataset split restored\n"
          ],
          "name": "stderr"
        },
        {
          "output_type": "stream",
          "text": [
            "n_cnt [18642.]\n",
            "y_means [5.19196307]\n",
            "y_stds [1.21382351]\n",
            "TIMING: dataset construction took 0.668 s\n",
            "Loading dataset from disk.\n",
            "TIMING: dataset construction took 0.089 s\n",
            "Loading dataset from disk.\n",
            "TIMING: dataset construction took 0.086 s\n",
            "Loading dataset from disk.\n"
          ],
          "name": "stdout"
        },
        {
          "output_type": "stream",
          "text": [
            "2021-04-01 20:27:42,164 Wrote model metadata to file ampl_output/CYP3A4_cur_delaney/RF_ecfp_scaffold_regression/17333344-0deb-4bed-b1f8-e5e34366f2d8/model_metadata.json\n",
            "2021-04-01 20:27:42,794 Wrote model metrics to file ampl_output/CYP3A4_cur_delaney/RF_ecfp_scaffold_regression/17333344-0deb-4bed-b1f8-e5e34366f2d8/model_metrics.json\n"
          ],
          "name": "stderr"
        },
        {
          "output_type": "stream",
          "text": [
            "Wrote model tarball to ampl_output/CYP3A4_cur_delaney_model_17333344-0deb-4bed-b1f8-e5e34366f2d8.tar.gz\n",
            "rf_estimators: 64, rf_max_depth: 128, rf_max_features: 64, valid_r2: 0.019616836810184446\n",
            "number of features: 1024\n"
          ],
          "name": "stdout"
        },
        {
          "output_type": "stream",
          "text": [
            "2021-04-01 20:28:58,729 Previous dataset split restored\n"
          ],
          "name": "stderr"
        },
        {
          "output_type": "stream",
          "text": [
            "n_cnt [18642.]\n",
            "y_means [5.19196307]\n",
            "y_stds [1.21382351]\n",
            "TIMING: dataset construction took 0.659 s\n",
            "Loading dataset from disk.\n",
            "TIMING: dataset construction took 0.087 s\n",
            "Loading dataset from disk.\n",
            "TIMING: dataset construction took 0.086 s\n",
            "Loading dataset from disk.\n"
          ],
          "name": "stdout"
        },
        {
          "output_type": "stream",
          "text": [
            "2021-04-01 20:29:14,597 Wrote model metadata to file ampl_output/CYP3A4_cur_delaney/RF_ecfp_scaffold_regression/01fb821f-fb4a-4ed9-886e-bf2771c800b9/model_metadata.json\n",
            "2021-04-01 20:29:15,239 Wrote model metrics to file ampl_output/CYP3A4_cur_delaney/RF_ecfp_scaffold_regression/01fb821f-fb4a-4ed9-886e-bf2771c800b9/model_metrics.json\n"
          ],
          "name": "stderr"
        },
        {
          "output_type": "stream",
          "text": [
            "Wrote model tarball to ampl_output/CYP3A4_cur_delaney_model_01fb821f-fb4a-4ed9-886e-bf2771c800b9.tar.gz\n",
            "rf_estimators: 64, rf_max_depth: 128, rf_max_features: 128, valid_r2: 0.02024416223246872\n",
            "number of features: 1024\n"
          ],
          "name": "stdout"
        },
        {
          "output_type": "stream",
          "text": [
            "2021-04-01 20:30:31,573 Previous dataset split restored\n"
          ],
          "name": "stderr"
        },
        {
          "output_type": "stream",
          "text": [
            "n_cnt [18642.]\n",
            "y_means [5.19196307]\n",
            "y_stds [1.21382351]\n",
            "TIMING: dataset construction took 0.667 s\n",
            "Loading dataset from disk.\n",
            "TIMING: dataset construction took 0.089 s\n",
            "Loading dataset from disk.\n",
            "TIMING: dataset construction took 0.089 s\n",
            "Loading dataset from disk.\n"
          ],
          "name": "stdout"
        },
        {
          "output_type": "stream",
          "text": [
            "2021-04-01 20:30:38,666 Wrote model metadata to file ampl_output/CYP3A4_cur_delaney/RF_ecfp_scaffold_regression/0b3c6533-c1da-483a-a88d-8d1cbdde36b2/model_metadata.json\n",
            "2021-04-01 20:30:38,850 Wrote model metrics to file ampl_output/CYP3A4_cur_delaney/RF_ecfp_scaffold_regression/0b3c6533-c1da-483a-a88d-8d1cbdde36b2/model_metrics.json\n"
          ],
          "name": "stderr"
        },
        {
          "output_type": "stream",
          "text": [
            "Wrote model tarball to ampl_output/CYP3A4_cur_delaney_model_0b3c6533-c1da-483a-a88d-8d1cbdde36b2.tar.gz\n",
            "rf_estimators: 128, rf_max_depth: 16, rf_max_features: 16, valid_r2: 0.012119236764219554\n",
            "number of features: 1024\n"
          ],
          "name": "stdout"
        },
        {
          "output_type": "stream",
          "text": [
            "2021-04-01 20:31:54,703 Previous dataset split restored\n"
          ],
          "name": "stderr"
        },
        {
          "output_type": "stream",
          "text": [
            "n_cnt [18642.]\n",
            "y_means [5.19196307]\n",
            "y_stds [1.21382351]\n",
            "TIMING: dataset construction took 0.667 s\n",
            "Loading dataset from disk.\n",
            "TIMING: dataset construction took 0.089 s\n",
            "Loading dataset from disk.\n",
            "TIMING: dataset construction took 0.087 s\n",
            "Loading dataset from disk.\n"
          ],
          "name": "stdout"
        },
        {
          "output_type": "stream",
          "text": [
            "2021-04-01 20:32:02,993 Wrote model metadata to file ampl_output/CYP3A4_cur_delaney/RF_ecfp_scaffold_regression/8b32f5ae-4ae3-4977-8ee8-2fe23b4a3547/model_metadata.json\n",
            "2021-04-01 20:32:03,187 Wrote model metrics to file ampl_output/CYP3A4_cur_delaney/RF_ecfp_scaffold_regression/8b32f5ae-4ae3-4977-8ee8-2fe23b4a3547/model_metrics.json\n"
          ],
          "name": "stderr"
        },
        {
          "output_type": "stream",
          "text": [
            "Wrote model tarball to ampl_output/CYP3A4_cur_delaney_model_8b32f5ae-4ae3-4977-8ee8-2fe23b4a3547.tar.gz\n",
            "rf_estimators: 128, rf_max_depth: 16, rf_max_features: 32, valid_r2: 0.012087150657553614\n",
            "number of features: 1024\n"
          ],
          "name": "stdout"
        },
        {
          "output_type": "stream",
          "text": [
            "2021-04-01 20:33:18,967 Previous dataset split restored\n"
          ],
          "name": "stderr"
        },
        {
          "output_type": "stream",
          "text": [
            "n_cnt [18642.]\n",
            "y_means [5.19196307]\n",
            "y_stds [1.21382351]\n",
            "TIMING: dataset construction took 0.668 s\n",
            "Loading dataset from disk.\n",
            "TIMING: dataset construction took 0.089 s\n",
            "Loading dataset from disk.\n",
            "TIMING: dataset construction took 0.088 s\n",
            "Loading dataset from disk.\n"
          ],
          "name": "stdout"
        },
        {
          "output_type": "stream",
          "text": [
            "2021-04-01 20:33:29,490 Wrote model metadata to file ampl_output/CYP3A4_cur_delaney/RF_ecfp_scaffold_regression/71059897-4a71-488c-b01f-362feb813ef0/model_metadata.json\n",
            "2021-04-01 20:33:29,685 Wrote model metrics to file ampl_output/CYP3A4_cur_delaney/RF_ecfp_scaffold_regression/71059897-4a71-488c-b01f-362feb813ef0/model_metrics.json\n"
          ],
          "name": "stderr"
        },
        {
          "output_type": "stream",
          "text": [
            "Wrote model tarball to ampl_output/CYP3A4_cur_delaney_model_71059897-4a71-488c-b01f-362feb813ef0.tar.gz\n",
            "rf_estimators: 128, rf_max_depth: 16, rf_max_features: 64, valid_r2: 0.01338588125694018\n",
            "number of features: 1024\n"
          ],
          "name": "stdout"
        },
        {
          "output_type": "stream",
          "text": [
            "2021-04-01 20:34:45,721 Previous dataset split restored\n"
          ],
          "name": "stderr"
        },
        {
          "output_type": "stream",
          "text": [
            "n_cnt [18642.]\n",
            "y_means [5.19196307]\n",
            "y_stds [1.21382351]\n",
            "TIMING: dataset construction took 0.673 s\n",
            "Loading dataset from disk.\n",
            "TIMING: dataset construction took 0.089 s\n",
            "Loading dataset from disk.\n",
            "TIMING: dataset construction took 0.088 s\n",
            "Loading dataset from disk.\n"
          ],
          "name": "stdout"
        },
        {
          "output_type": "stream",
          "text": [
            "2021-04-01 20:35:01,089 Wrote model metadata to file ampl_output/CYP3A4_cur_delaney/RF_ecfp_scaffold_regression/62781463-8bd5-4da8-a9e2-ce9c5ba9df94/model_metadata.json\n",
            "2021-04-01 20:35:01,281 Wrote model metrics to file ampl_output/CYP3A4_cur_delaney/RF_ecfp_scaffold_regression/62781463-8bd5-4da8-a9e2-ce9c5ba9df94/model_metrics.json\n"
          ],
          "name": "stderr"
        },
        {
          "output_type": "stream",
          "text": [
            "Wrote model tarball to ampl_output/CYP3A4_cur_delaney_model_62781463-8bd5-4da8-a9e2-ce9c5ba9df94.tar.gz\n",
            "rf_estimators: 128, rf_max_depth: 16, rf_max_features: 128, valid_r2: 0.013624030857372404\n",
            "number of features: 1024\n"
          ],
          "name": "stdout"
        },
        {
          "output_type": "stream",
          "text": [
            "2021-04-01 20:36:17,049 Previous dataset split restored\n"
          ],
          "name": "stderr"
        },
        {
          "output_type": "stream",
          "text": [
            "n_cnt [18642.]\n",
            "y_means [5.19196307]\n",
            "y_stds [1.21382351]\n",
            "TIMING: dataset construction took 0.671 s\n",
            "Loading dataset from disk.\n",
            "TIMING: dataset construction took 0.090 s\n",
            "Loading dataset from disk.\n",
            "TIMING: dataset construction took 0.089 s\n",
            "Loading dataset from disk.\n"
          ],
          "name": "stdout"
        },
        {
          "output_type": "stream",
          "text": [
            "2021-04-01 20:36:26,258 Wrote model metadata to file ampl_output/CYP3A4_cur_delaney/RF_ecfp_scaffold_regression/632dc874-3d24-440d-9216-b41710d116d7/model_metadata.json\n",
            "2021-04-01 20:36:26,937 Wrote model metrics to file ampl_output/CYP3A4_cur_delaney/RF_ecfp_scaffold_regression/632dc874-3d24-440d-9216-b41710d116d7/model_metrics.json\n"
          ],
          "name": "stderr"
        },
        {
          "output_type": "stream",
          "text": [
            "Wrote model tarball to ampl_output/CYP3A4_cur_delaney_model_632dc874-3d24-440d-9216-b41710d116d7.tar.gz\n",
            "rf_estimators: 128, rf_max_depth: 32, rf_max_features: 16, valid_r2: 0.015428185154172103\n",
            "number of features: 1024\n"
          ],
          "name": "stdout"
        },
        {
          "output_type": "stream",
          "text": [
            "2021-04-01 20:37:42,524 Previous dataset split restored\n"
          ],
          "name": "stderr"
        },
        {
          "output_type": "stream",
          "text": [
            "n_cnt [18642.]\n",
            "y_means [5.19196307]\n",
            "y_stds [1.21382351]\n",
            "TIMING: dataset construction took 0.675 s\n",
            "Loading dataset from disk.\n",
            "TIMING: dataset construction took 0.090 s\n",
            "Loading dataset from disk.\n",
            "TIMING: dataset construction took 0.088 s\n",
            "Loading dataset from disk.\n"
          ],
          "name": "stdout"
        },
        {
          "output_type": "stream",
          "text": [
            "2021-04-01 20:37:53,444 Wrote model metadata to file ampl_output/CYP3A4_cur_delaney/RF_ecfp_scaffold_regression/56a4e17d-bfcc-4a4f-b16c-efcd1b1870b3/model_metadata.json\n",
            "2021-04-01 20:37:54,113 Wrote model metrics to file ampl_output/CYP3A4_cur_delaney/RF_ecfp_scaffold_regression/56a4e17d-bfcc-4a4f-b16c-efcd1b1870b3/model_metrics.json\n"
          ],
          "name": "stderr"
        },
        {
          "output_type": "stream",
          "text": [
            "Wrote model tarball to ampl_output/CYP3A4_cur_delaney_model_56a4e17d-bfcc-4a4f-b16c-efcd1b1870b3.tar.gz\n",
            "rf_estimators: 128, rf_max_depth: 32, rf_max_features: 32, valid_r2: 0.01718596850931453\n",
            "number of features: 1024\n"
          ],
          "name": "stdout"
        },
        {
          "output_type": "stream",
          "text": [
            "2021-04-01 20:39:10,066 Previous dataset split restored\n"
          ],
          "name": "stderr"
        },
        {
          "output_type": "stream",
          "text": [
            "n_cnt [18642.]\n",
            "y_means [5.19196307]\n",
            "y_stds [1.21382351]\n",
            "TIMING: dataset construction took 0.658 s\n",
            "Loading dataset from disk.\n",
            "TIMING: dataset construction took 0.088 s\n",
            "Loading dataset from disk.\n",
            "TIMING: dataset construction took 0.086 s\n",
            "Loading dataset from disk.\n"
          ],
          "name": "stdout"
        },
        {
          "output_type": "stream",
          "text": [
            "2021-04-01 20:39:24,253 Wrote model metadata to file ampl_output/CYP3A4_cur_delaney/RF_ecfp_scaffold_regression/2d1adcda-a4b3-4be0-a77b-b4fb37a2f665/model_metadata.json\n",
            "2021-04-01 20:39:24,904 Wrote model metrics to file ampl_output/CYP3A4_cur_delaney/RF_ecfp_scaffold_regression/2d1adcda-a4b3-4be0-a77b-b4fb37a2f665/model_metrics.json\n"
          ],
          "name": "stderr"
        },
        {
          "output_type": "stream",
          "text": [
            "Wrote model tarball to ampl_output/CYP3A4_cur_delaney_model_2d1adcda-a4b3-4be0-a77b-b4fb37a2f665.tar.gz\n",
            "rf_estimators: 128, rf_max_depth: 32, rf_max_features: 64, valid_r2: 0.013964996385142037\n",
            "number of features: 1024\n"
          ],
          "name": "stdout"
        },
        {
          "output_type": "stream",
          "text": [
            "2021-04-01 20:40:41,071 Previous dataset split restored\n"
          ],
          "name": "stderr"
        },
        {
          "output_type": "stream",
          "text": [
            "n_cnt [18642.]\n",
            "y_means [5.19196307]\n",
            "y_stds [1.21382351]\n",
            "TIMING: dataset construction took 0.664 s\n",
            "Loading dataset from disk.\n",
            "TIMING: dataset construction took 0.088 s\n",
            "Loading dataset from disk.\n",
            "TIMING: dataset construction took 0.087 s\n",
            "Loading dataset from disk.\n"
          ],
          "name": "stdout"
        },
        {
          "output_type": "stream",
          "text": [
            "2021-04-01 20:41:02,264 Wrote model metadata to file ampl_output/CYP3A4_cur_delaney/RF_ecfp_scaffold_regression/81bf6192-e710-4da2-84c9-4d384946bc2f/model_metadata.json\n",
            "2021-04-01 20:41:02,902 Wrote model metrics to file ampl_output/CYP3A4_cur_delaney/RF_ecfp_scaffold_regression/81bf6192-e710-4da2-84c9-4d384946bc2f/model_metrics.json\n"
          ],
          "name": "stderr"
        },
        {
          "output_type": "stream",
          "text": [
            "Wrote model tarball to ampl_output/CYP3A4_cur_delaney_model_81bf6192-e710-4da2-84c9-4d384946bc2f.tar.gz\n",
            "rf_estimators: 128, rf_max_depth: 32, rf_max_features: 128, valid_r2: 0.015770940819119006\n",
            "number of features: 1024\n"
          ],
          "name": "stdout"
        },
        {
          "output_type": "stream",
          "text": [
            "2021-04-01 20:42:18,551 Previous dataset split restored\n"
          ],
          "name": "stderr"
        },
        {
          "output_type": "stream",
          "text": [
            "n_cnt [18642.]\n",
            "y_means [5.19196307]\n",
            "y_stds [1.21382351]\n",
            "TIMING: dataset construction took 0.743 s\n",
            "Loading dataset from disk.\n",
            "TIMING: dataset construction took 0.099 s\n",
            "Loading dataset from disk.\n",
            "TIMING: dataset construction took 0.097 s\n",
            "Loading dataset from disk.\n"
          ],
          "name": "stdout"
        },
        {
          "output_type": "stream",
          "text": [
            "2021-04-01 20:42:29,409 Wrote model metadata to file ampl_output/CYP3A4_cur_delaney/RF_ecfp_scaffold_regression/6a8ff036-5bcf-4210-bb59-f0e7675945e5/model_metadata.json\n",
            "2021-04-01 20:42:30,606 Wrote model metrics to file ampl_output/CYP3A4_cur_delaney/RF_ecfp_scaffold_regression/6a8ff036-5bcf-4210-bb59-f0e7675945e5/model_metrics.json\n"
          ],
          "name": "stderr"
        },
        {
          "output_type": "stream",
          "text": [
            "Wrote model tarball to ampl_output/CYP3A4_cur_delaney_model_6a8ff036-5bcf-4210-bb59-f0e7675945e5.tar.gz\n",
            "rf_estimators: 128, rf_max_depth: 64, rf_max_features: 16, valid_r2: 0.018025199136959658\n",
            "number of features: 1024\n"
          ],
          "name": "stdout"
        },
        {
          "output_type": "stream",
          "text": [
            "2021-04-01 20:43:46,415 Previous dataset split restored\n"
          ],
          "name": "stderr"
        },
        {
          "output_type": "stream",
          "text": [
            "n_cnt [18642.]\n",
            "y_means [5.19196307]\n",
            "y_stds [1.21382351]\n",
            "TIMING: dataset construction took 0.662 s\n",
            "Loading dataset from disk.\n",
            "TIMING: dataset construction took 0.088 s\n",
            "Loading dataset from disk.\n",
            "TIMING: dataset construction took 0.088 s\n",
            "Loading dataset from disk.\n"
          ],
          "name": "stdout"
        },
        {
          "output_type": "stream",
          "text": [
            "2021-04-01 20:43:59,593 Wrote model metadata to file ampl_output/CYP3A4_cur_delaney/RF_ecfp_scaffold_regression/c0448d89-703e-4984-b70e-bbb1797e959b/model_metadata.json\n",
            "2021-04-01 20:44:00,781 Wrote model metrics to file ampl_output/CYP3A4_cur_delaney/RF_ecfp_scaffold_regression/c0448d89-703e-4984-b70e-bbb1797e959b/model_metrics.json\n"
          ],
          "name": "stderr"
        },
        {
          "output_type": "stream",
          "text": [
            "Wrote model tarball to ampl_output/CYP3A4_cur_delaney_model_c0448d89-703e-4984-b70e-bbb1797e959b.tar.gz\n",
            "rf_estimators: 128, rf_max_depth: 64, rf_max_features: 32, valid_r2: 0.017547450519657448\n",
            "number of features: 1024\n"
          ],
          "name": "stdout"
        },
        {
          "output_type": "stream",
          "text": [
            "2021-04-01 20:45:16,631 Previous dataset split restored\n"
          ],
          "name": "stderr"
        },
        {
          "output_type": "stream",
          "text": [
            "n_cnt [18642.]\n",
            "y_means [5.19196307]\n",
            "y_stds [1.21382351]\n",
            "TIMING: dataset construction took 0.663 s\n",
            "Loading dataset from disk.\n",
            "TIMING: dataset construction took 0.088 s\n",
            "Loading dataset from disk.\n",
            "TIMING: dataset construction took 0.092 s\n",
            "Loading dataset from disk.\n"
          ],
          "name": "stdout"
        },
        {
          "output_type": "stream",
          "text": [
            "2021-04-01 20:45:33,496 Wrote model metadata to file ampl_output/CYP3A4_cur_delaney/RF_ecfp_scaffold_regression/f23e0ce7-4e96-47fc-a4b7-48129e3916e9/model_metadata.json\n",
            "2021-04-01 20:45:34,632 Wrote model metrics to file ampl_output/CYP3A4_cur_delaney/RF_ecfp_scaffold_regression/f23e0ce7-4e96-47fc-a4b7-48129e3916e9/model_metrics.json\n"
          ],
          "name": "stderr"
        },
        {
          "output_type": "stream",
          "text": [
            "Wrote model tarball to ampl_output/CYP3A4_cur_delaney_model_f23e0ce7-4e96-47fc-a4b7-48129e3916e9.tar.gz\n",
            "rf_estimators: 128, rf_max_depth: 64, rf_max_features: 64, valid_r2: 0.015912386615991814\n",
            "number of features: 1024\n"
          ],
          "name": "stdout"
        },
        {
          "output_type": "stream",
          "text": [
            "2021-04-01 20:46:50,617 Previous dataset split restored\n"
          ],
          "name": "stderr"
        },
        {
          "output_type": "stream",
          "text": [
            "n_cnt [18642.]\n",
            "y_means [5.19196307]\n",
            "y_stds [1.21382351]\n",
            "TIMING: dataset construction took 0.737 s\n",
            "Loading dataset from disk.\n",
            "TIMING: dataset construction took 0.096 s\n",
            "Loading dataset from disk.\n",
            "TIMING: dataset construction took 0.099 s\n",
            "Loading dataset from disk.\n"
          ],
          "name": "stdout"
        },
        {
          "output_type": "stream",
          "text": [
            "2021-04-01 20:47:16,341 Wrote model metadata to file ampl_output/CYP3A4_cur_delaney/RF_ecfp_scaffold_regression/b1996e2f-6f31-4f48-99da-f0a07ec87600/model_metadata.json\n",
            "2021-04-01 20:47:17,592 Wrote model metrics to file ampl_output/CYP3A4_cur_delaney/RF_ecfp_scaffold_regression/b1996e2f-6f31-4f48-99da-f0a07ec87600/model_metrics.json\n"
          ],
          "name": "stderr"
        },
        {
          "output_type": "stream",
          "text": [
            "Wrote model tarball to ampl_output/CYP3A4_cur_delaney_model_b1996e2f-6f31-4f48-99da-f0a07ec87600.tar.gz\n",
            "rf_estimators: 128, rf_max_depth: 64, rf_max_features: 128, valid_r2: 0.016641675454417637\n",
            "number of features: 1024\n"
          ],
          "name": "stdout"
        },
        {
          "output_type": "stream",
          "text": [
            "2021-04-01 20:48:33,186 Previous dataset split restored\n"
          ],
          "name": "stderr"
        },
        {
          "output_type": "stream",
          "text": [
            "n_cnt [18642.]\n",
            "y_means [5.19196307]\n",
            "y_stds [1.21382351]\n",
            "TIMING: dataset construction took 0.686 s\n",
            "Loading dataset from disk.\n",
            "TIMING: dataset construction took 0.090 s\n",
            "Loading dataset from disk.\n",
            "TIMING: dataset construction took 0.087 s\n",
            "Loading dataset from disk.\n"
          ],
          "name": "stdout"
        },
        {
          "output_type": "stream",
          "text": [
            "2021-04-01 20:48:44,392 Wrote model metadata to file ampl_output/CYP3A4_cur_delaney/RF_ecfp_scaffold_regression/565044c0-0fa6-49b8-9863-39bac415f9e9/model_metadata.json\n",
            "2021-04-01 20:48:45,706 Wrote model metrics to file ampl_output/CYP3A4_cur_delaney/RF_ecfp_scaffold_regression/565044c0-0fa6-49b8-9863-39bac415f9e9/model_metrics.json\n"
          ],
          "name": "stderr"
        },
        {
          "output_type": "stream",
          "text": [
            "Wrote model tarball to ampl_output/CYP3A4_cur_delaney_model_565044c0-0fa6-49b8-9863-39bac415f9e9.tar.gz\n",
            "rf_estimators: 128, rf_max_depth: 128, rf_max_features: 16, valid_r2: 0.01612403858331346\n",
            "number of features: 1024\n"
          ],
          "name": "stdout"
        },
        {
          "output_type": "stream",
          "text": [
            "2021-04-01 20:50:01,718 Previous dataset split restored\n"
          ],
          "name": "stderr"
        },
        {
          "output_type": "stream",
          "text": [
            "n_cnt [18642.]\n",
            "y_means [5.19196307]\n",
            "y_stds [1.21382351]\n",
            "TIMING: dataset construction took 0.676 s\n",
            "Loading dataset from disk.\n",
            "TIMING: dataset construction took 0.096 s\n",
            "Loading dataset from disk.\n",
            "TIMING: dataset construction took 0.102 s\n",
            "Loading dataset from disk.\n"
          ],
          "name": "stdout"
        },
        {
          "output_type": "stream",
          "text": [
            "2021-04-01 20:50:15,147 Wrote model metadata to file ampl_output/CYP3A4_cur_delaney/RF_ecfp_scaffold_regression/6d2dc218-e1f2-4d4f-a167-957988dfb603/model_metadata.json\n",
            "2021-04-01 20:50:16,430 Wrote model metrics to file ampl_output/CYP3A4_cur_delaney/RF_ecfp_scaffold_regression/6d2dc218-e1f2-4d4f-a167-957988dfb603/model_metrics.json\n"
          ],
          "name": "stderr"
        },
        {
          "output_type": "stream",
          "text": [
            "Wrote model tarball to ampl_output/CYP3A4_cur_delaney_model_6d2dc218-e1f2-4d4f-a167-957988dfb603.tar.gz\n",
            "rf_estimators: 128, rf_max_depth: 128, rf_max_features: 32, valid_r2: 0.01848291599142937\n",
            "number of features: 1024\n"
          ],
          "name": "stdout"
        },
        {
          "output_type": "stream",
          "text": [
            "2021-04-01 20:51:32,590 Previous dataset split restored\n"
          ],
          "name": "stderr"
        },
        {
          "output_type": "stream",
          "text": [
            "n_cnt [18642.]\n",
            "y_means [5.19196307]\n",
            "y_stds [1.21382351]\n",
            "TIMING: dataset construction took 0.655 s\n",
            "Loading dataset from disk.\n",
            "TIMING: dataset construction took 0.090 s\n",
            "Loading dataset from disk.\n",
            "TIMING: dataset construction took 0.089 s\n",
            "Loading dataset from disk.\n"
          ],
          "name": "stdout"
        },
        {
          "output_type": "stream",
          "text": [
            "2021-04-01 20:51:50,390 Wrote model metadata to file ampl_output/CYP3A4_cur_delaney/RF_ecfp_scaffold_regression/89858162-c8ad-4786-94ba-adb0101311c8/model_metadata.json\n",
            "2021-04-01 20:51:51,642 Wrote model metrics to file ampl_output/CYP3A4_cur_delaney/RF_ecfp_scaffold_regression/89858162-c8ad-4786-94ba-adb0101311c8/model_metrics.json\n"
          ],
          "name": "stderr"
        },
        {
          "output_type": "stream",
          "text": [
            "Wrote model tarball to ampl_output/CYP3A4_cur_delaney_model_89858162-c8ad-4786-94ba-adb0101311c8.tar.gz\n",
            "rf_estimators: 128, rf_max_depth: 128, rf_max_features: 64, valid_r2: 0.017313331899425077\n",
            "number of features: 1024\n"
          ],
          "name": "stdout"
        },
        {
          "output_type": "stream",
          "text": [
            "2021-04-01 20:53:07,791 Previous dataset split restored\n"
          ],
          "name": "stderr"
        },
        {
          "output_type": "stream",
          "text": [
            "n_cnt [18642.]\n",
            "y_means [5.19196307]\n",
            "y_stds [1.21382351]\n",
            "TIMING: dataset construction took 0.657 s\n",
            "Loading dataset from disk.\n",
            "TIMING: dataset construction took 0.086 s\n",
            "Loading dataset from disk.\n",
            "TIMING: dataset construction took 0.086 s\n",
            "Loading dataset from disk.\n"
          ],
          "name": "stdout"
        },
        {
          "output_type": "stream",
          "text": [
            "2021-04-01 20:53:33,276 Wrote model metadata to file ampl_output/CYP3A4_cur_delaney/RF_ecfp_scaffold_regression/917ffbb7-7e99-4760-a679-662695e59283/model_metadata.json\n",
            "2021-04-01 20:53:34,513 Wrote model metrics to file ampl_output/CYP3A4_cur_delaney/RF_ecfp_scaffold_regression/917ffbb7-7e99-4760-a679-662695e59283/model_metrics.json\n"
          ],
          "name": "stderr"
        },
        {
          "output_type": "stream",
          "text": [
            "Wrote model tarball to ampl_output/CYP3A4_cur_delaney_model_917ffbb7-7e99-4760-a679-662695e59283.tar.gz\n",
            "rf_estimators: 128, rf_max_depth: 128, rf_max_features: 128, valid_r2: 0.016461374892368985\n"
          ],
          "name": "stdout"
        }
      ]
    },
    {
      "cell_type": "code",
      "metadata": {
        "id": "XSDa2HTH6wbD",
        "colab": {
          "base_uri": "https://localhost:8080/",
          "height": 419
        },
        "outputId": "fb3f9c4e-921a-4d68-b253-7e916eecdfee"
      },
      "source": [
        "perf_df = pd.DataFrame({\"rf_estimators\": rfe_list, \"rf_max_depth\": rfd_list, \"rf_max_features\": rff_list, \"valid_r2_score\": valid_r2_list})\n",
        "perf_df.sort_values(by=\"valid_r2_score\", ascending=False)"
      ],
      "execution_count": 45,
      "outputs": [
        {
          "output_type": "execute_result",
          "data": {
            "text/html": [
              "<div>\n",
              "<style scoped>\n",
              "    .dataframe tbody tr th:only-of-type {\n",
              "        vertical-align: middle;\n",
              "    }\n",
              "\n",
              "    .dataframe tbody tr th {\n",
              "        vertical-align: top;\n",
              "    }\n",
              "\n",
              "    .dataframe thead th {\n",
              "        text-align: right;\n",
              "    }\n",
              "</style>\n",
              "<table border=\"1\" class=\"dataframe\">\n",
              "  <thead>\n",
              "    <tr style=\"text-align: right;\">\n",
              "      <th></th>\n",
              "      <th>rf_estimators</th>\n",
              "      <th>rf_max_depth</th>\n",
              "      <th>rf_max_features</th>\n",
              "      <th>valid_r2_score</th>\n",
              "    </tr>\n",
              "  </thead>\n",
              "  <tbody>\n",
              "    <tr>\n",
              "      <th>47</th>\n",
              "      <td>64</td>\n",
              "      <td>128</td>\n",
              "      <td>128</td>\n",
              "      <td>0.020244</td>\n",
              "    </tr>\n",
              "    <tr>\n",
              "      <th>46</th>\n",
              "      <td>64</td>\n",
              "      <td>128</td>\n",
              "      <td>64</td>\n",
              "      <td>0.019617</td>\n",
              "    </tr>\n",
              "    <tr>\n",
              "      <th>41</th>\n",
              "      <td>64</td>\n",
              "      <td>64</td>\n",
              "      <td>32</td>\n",
              "      <td>0.018867</td>\n",
              "    </tr>\n",
              "    <tr>\n",
              "      <th>30</th>\n",
              "      <td>32</td>\n",
              "      <td>128</td>\n",
              "      <td>64</td>\n",
              "      <td>0.018618</td>\n",
              "    </tr>\n",
              "    <tr>\n",
              "      <th>1</th>\n",
              "      <td>16</td>\n",
              "      <td>16</td>\n",
              "      <td>32</td>\n",
              "      <td>0.018579</td>\n",
              "    </tr>\n",
              "    <tr>\n",
              "      <th>...</th>\n",
              "      <td>...</td>\n",
              "      <td>...</td>\n",
              "      <td>...</td>\n",
              "      <td>...</td>\n",
              "    </tr>\n",
              "    <tr>\n",
              "      <th>49</th>\n",
              "      <td>128</td>\n",
              "      <td>16</td>\n",
              "      <td>32</td>\n",
              "      <td>0.012087</td>\n",
              "    </tr>\n",
              "    <tr>\n",
              "      <th>3</th>\n",
              "      <td>16</td>\n",
              "      <td>16</td>\n",
              "      <td>128</td>\n",
              "      <td>0.011519</td>\n",
              "    </tr>\n",
              "    <tr>\n",
              "      <th>0</th>\n",
              "      <td>16</td>\n",
              "      <td>16</td>\n",
              "      <td>16</td>\n",
              "      <td>0.011040</td>\n",
              "    </tr>\n",
              "    <tr>\n",
              "      <th>16</th>\n",
              "      <td>32</td>\n",
              "      <td>16</td>\n",
              "      <td>16</td>\n",
              "      <td>0.010982</td>\n",
              "    </tr>\n",
              "    <tr>\n",
              "      <th>32</th>\n",
              "      <td>64</td>\n",
              "      <td>16</td>\n",
              "      <td>16</td>\n",
              "      <td>0.010970</td>\n",
              "    </tr>\n",
              "  </tbody>\n",
              "</table>\n",
              "<p>64 rows × 4 columns</p>\n",
              "</div>"
            ],
            "text/plain": [
              "    rf_estimators  rf_max_depth  rf_max_features  valid_r2_score\n",
              "47             64           128              128        0.020244\n",
              "46             64           128               64        0.019617\n",
              "41             64            64               32        0.018867\n",
              "30             32           128               64        0.018618\n",
              "1              16            16               32        0.018579\n",
              "..            ...           ...              ...             ...\n",
              "49            128            16               32        0.012087\n",
              "3              16            16              128        0.011519\n",
              "0              16            16               16        0.011040\n",
              "16             32            16               16        0.010982\n",
              "32             64            16               16        0.010970\n",
              "\n",
              "[64 rows x 4 columns]"
            ]
          },
          "metadata": {
            "tags": []
          },
          "execution_count": 45
        }
      ]
    },
    {
      "cell_type": "code",
      "metadata": {
        "id": "9bVXltSu6z0f",
        "colab": {
          "base_uri": "https://localhost:8080/",
          "height": 434
        },
        "outputId": "3a4bcf86-5a93-4b92-b7cc-5965b838da93"
      },
      "source": [
        "fig, ax = plt.subplots(1,3,figsize=(21,7))\n",
        "sns.boxplot(data=perf_df, x=\"rf_estimators\", y=\"valid_r2_score\", ax=ax[0])\n",
        "sns.boxplot(data=perf_df, x=\"rf_max_depth\", y=\"valid_r2_score\", ax=ax[1])\n",
        "sns.boxplot(data=perf_df, x=\"rf_max_features\", y=\"valid_r2_score\", ax=ax[2])\n",
        "fig.tight_layout()"
      ],
      "execution_count": 46,
      "outputs": [
        {
          "output_type": "display_data",
          "data": {
            "image/png": "[encoded data removed]",
            "text/plain": [
              "<Figure size 1512x504 with 3 Axes>"
            ]
          },
          "metadata": {
            "tags": []
          }
        }
      ]
    },
    {
      "cell_type": "markdown",
      "metadata": {
        "id": "qpAq__JA61wy"
      },
      "source": [
        "### Random search"
      ]
    },
    {
      "cell_type": "code",
      "metadata": {
        "id": "LMNkU4rs648c",
        "colab": {
          "base_uri": "https://localhost:8080/"
        },
        "outputId": "2dc1d38b-1071-4180-dc58-57216337c7a4"
      },
      "source": [
        "rfe_list = []\n",
        "rfd_list = []\n",
        "rff_list = []\n",
        "valid_r2_list = []\n",
        "\n",
        "num_trials = 50\n",
        "\n",
        "for i in range(num_trials):\n",
        "    params[\"rf_estimators\"] = np.random.randint(8,256)\n",
        "    params[\"rf_max_depth\"] = np.random.randint(8,256)\n",
        "    params[\"rf_max_features\"] = np.random.randint(8,256)\n",
        "    rfe_list.append(params[\"rf_estimators\"])\n",
        "    rfd_list.append(params[\"rf_max_depth\"])\n",
        "    rff_list.append(params[\"rf_max_features\"])\n",
        "    tp = parse.wrapper(params)\n",
        "    pl = mp.ModelPipeline(tp)\n",
        "    pl.train_model()\n",
        "    pred_data = pl.model_wrapper.get_perf_data(subset=\"valid\", epoch_label=\"best\")\n",
        "    pred_results = pred_data.get_prediction_results()\n",
        "    valid_r2 = pred_results['r2_score']\n",
        "    valid_r2_list.append(valid_r2)\n",
        "    print(f\"rf_estimators: {rf_estimator}, rf_max_depth: {rf_depth}, rf_max_features: {rf_feature}, valid_r2: {valid_r2}\")"
      ],
      "execution_count": 49,
      "outputs": [
        {
          "output_type": "stream",
          "text": [
            "number of features: 1024\n"
          ],
          "name": "stdout"
        },
        {
          "output_type": "stream",
          "text": [
            "2021-04-01 20:59:08,423 Previous dataset split restored\n"
          ],
          "name": "stderr"
        },
        {
          "output_type": "stream",
          "text": [
            "n_cnt [18642.]\n",
            "y_means [5.19196307]\n",
            "y_stds [1.21382351]\n",
            "TIMING: dataset construction took 0.668 s\n",
            "Loading dataset from disk.\n",
            "TIMING: dataset construction took 0.087 s\n",
            "Loading dataset from disk.\n",
            "TIMING: dataset construction took 0.087 s\n",
            "Loading dataset from disk.\n"
          ],
          "name": "stdout"
        },
        {
          "output_type": "stream",
          "text": [
            "2021-04-01 20:59:36,858 Wrote model metadata to file ampl_output/CYP3A4_cur_delaney/RF_ecfp_scaffold_regression/4e14e3fb-d01d-41eb-add3-74b71a697328/model_metadata.json\n",
            "2021-04-01 20:59:37,924 Wrote model metrics to file ampl_output/CYP3A4_cur_delaney/RF_ecfp_scaffold_regression/4e14e3fb-d01d-41eb-add3-74b71a697328/model_metrics.json\n"
          ],
          "name": "stderr"
        },
        {
          "output_type": "stream",
          "text": [
            "Wrote model tarball to ampl_output/CYP3A4_cur_delaney_model_4e14e3fb-d01d-41eb-add3-74b71a697328.tar.gz\n",
            "rf_estimators: 128, rf_max_depth: 128, rf_max_features: 128, valid_r2: 0.017170913091746676\n",
            "number of features: 1024\n"
          ],
          "name": "stdout"
        },
        {
          "output_type": "stream",
          "text": [
            "2021-04-01 21:00:54,231 Previous dataset split restored\n"
          ],
          "name": "stderr"
        },
        {
          "output_type": "stream",
          "text": [
            "n_cnt [18642.]\n",
            "y_means [5.19196307]\n",
            "y_stds [1.21382351]\n",
            "TIMING: dataset construction took 0.679 s\n",
            "Loading dataset from disk.\n",
            "TIMING: dataset construction took 0.090 s\n",
            "Loading dataset from disk.\n",
            "TIMING: dataset construction took 0.090 s\n",
            "Loading dataset from disk.\n"
          ],
          "name": "stdout"
        },
        {
          "output_type": "stream",
          "text": [
            "2021-04-01 21:01:10,732 Wrote model metadata to file ampl_output/CYP3A4_cur_delaney/RF_ecfp_scaffold_regression/ed48c12e-ab20-407d-bc85-fe63fb418ce0/model_metadata.json\n",
            "2021-04-01 21:01:11,448 Wrote model metrics to file ampl_output/CYP3A4_cur_delaney/RF_ecfp_scaffold_regression/ed48c12e-ab20-407d-bc85-fe63fb418ce0/model_metrics.json\n"
          ],
          "name": "stderr"
        },
        {
          "output_type": "stream",
          "text": [
            "Wrote model tarball to ampl_output/CYP3A4_cur_delaney_model_ed48c12e-ab20-407d-bc85-fe63fb418ce0.tar.gz\n",
            "rf_estimators: 128, rf_max_depth: 128, rf_max_features: 128, valid_r2: 0.017540606071390186\n",
            "number of features: 1024\n"
          ],
          "name": "stdout"
        },
        {
          "output_type": "stream",
          "text": [
            "2021-04-01 21:02:27,025 Previous dataset split restored\n"
          ],
          "name": "stderr"
        },
        {
          "output_type": "stream",
          "text": [
            "n_cnt [18642.]\n",
            "y_means [5.19196307]\n",
            "y_stds [1.21382351]\n",
            "TIMING: dataset construction took 0.660 s\n",
            "Loading dataset from disk.\n",
            "TIMING: dataset construction took 0.087 s\n",
            "Loading dataset from disk.\n",
            "TIMING: dataset construction took 0.087 s\n",
            "Loading dataset from disk.\n"
          ],
          "name": "stdout"
        },
        {
          "output_type": "stream",
          "text": [
            "2021-04-01 21:03:04,411 Wrote model metadata to file ampl_output/CYP3A4_cur_delaney/RF_ecfp_scaffold_regression/192ac092-9d5e-4c59-bfc7-8a97dd58c35b/model_metadata.json\n",
            "2021-04-01 21:03:06,260 Wrote model metrics to file ampl_output/CYP3A4_cur_delaney/RF_ecfp_scaffold_regression/192ac092-9d5e-4c59-bfc7-8a97dd58c35b/model_metrics.json\n"
          ],
          "name": "stderr"
        },
        {
          "output_type": "stream",
          "text": [
            "Wrote model tarball to ampl_output/CYP3A4_cur_delaney_model_192ac092-9d5e-4c59-bfc7-8a97dd58c35b.tar.gz\n",
            "rf_estimators: 128, rf_max_depth: 128, rf_max_features: 128, valid_r2: 0.015945719744887565\n",
            "number of features: 1024\n"
          ],
          "name": "stdout"
        },
        {
          "output_type": "stream",
          "text": [
            "2021-04-01 21:04:22,580 Previous dataset split restored\n"
          ],
          "name": "stderr"
        },
        {
          "output_type": "stream",
          "text": [
            "n_cnt [18642.]\n",
            "y_means [5.19196307]\n",
            "y_stds [1.21382351]\n",
            "TIMING: dataset construction took 0.706 s\n",
            "Loading dataset from disk.\n",
            "TIMING: dataset construction took 0.096 s\n",
            "Loading dataset from disk.\n",
            "TIMING: dataset construction took 0.094 s\n",
            "Loading dataset from disk.\n"
          ],
          "name": "stdout"
        },
        {
          "output_type": "stream",
          "text": [
            "2021-04-01 21:04:49,104 Wrote model metadata to file ampl_output/CYP3A4_cur_delaney/RF_ecfp_scaffold_regression/caa41b0c-49de-4119-b065-b8c7452d0041/model_metadata.json\n",
            "2021-04-01 21:04:49,836 Wrote model metrics to file ampl_output/CYP3A4_cur_delaney/RF_ecfp_scaffold_regression/caa41b0c-49de-4119-b065-b8c7452d0041/model_metrics.json\n"
          ],
          "name": "stderr"
        },
        {
          "output_type": "stream",
          "text": [
            "Wrote model tarball to ampl_output/CYP3A4_cur_delaney_model_caa41b0c-49de-4119-b065-b8c7452d0041.tar.gz\n",
            "rf_estimators: 128, rf_max_depth: 128, rf_max_features: 128, valid_r2: 0.01720113314142191\n",
            "number of features: 1024\n"
          ],
          "name": "stdout"
        },
        {
          "output_type": "stream",
          "text": [
            "2021-04-01 21:06:05,990 Previous dataset split restored\n"
          ],
          "name": "stderr"
        },
        {
          "output_type": "stream",
          "text": [
            "n_cnt [18642.]\n",
            "y_means [5.19196307]\n",
            "y_stds [1.21382351]\n",
            "TIMING: dataset construction took 0.677 s\n",
            "Loading dataset from disk.\n",
            "TIMING: dataset construction took 0.088 s\n",
            "Loading dataset from disk.\n",
            "TIMING: dataset construction took 0.088 s\n",
            "Loading dataset from disk.\n"
          ],
          "name": "stdout"
        },
        {
          "output_type": "stream",
          "text": [
            "2021-04-01 21:06:41,980 Wrote model metadata to file ampl_output/CYP3A4_cur_delaney/RF_ecfp_scaffold_regression/3f0ff6ad-e47b-4fb6-be8f-9dc400e8fd78/model_metadata.json\n",
            "2021-04-01 21:06:42,788 Wrote model metrics to file ampl_output/CYP3A4_cur_delaney/RF_ecfp_scaffold_regression/3f0ff6ad-e47b-4fb6-be8f-9dc400e8fd78/model_metrics.json\n"
          ],
          "name": "stderr"
        },
        {
          "output_type": "stream",
          "text": [
            "Wrote model tarball to ampl_output/CYP3A4_cur_delaney_model_3f0ff6ad-e47b-4fb6-be8f-9dc400e8fd78.tar.gz\n",
            "rf_estimators: 128, rf_max_depth: 128, rf_max_features: 128, valid_r2: 0.0164886568901621\n",
            "number of features: 1024\n"
          ],
          "name": "stdout"
        },
        {
          "output_type": "stream",
          "text": [
            "2021-04-01 21:07:58,644 Previous dataset split restored\n"
          ],
          "name": "stderr"
        },
        {
          "output_type": "stream",
          "text": [
            "n_cnt [18642.]\n",
            "y_means [5.19196307]\n",
            "y_stds [1.21382351]\n",
            "TIMING: dataset construction took 0.673 s\n",
            "Loading dataset from disk.\n",
            "TIMING: dataset construction took 0.087 s\n",
            "Loading dataset from disk.\n",
            "TIMING: dataset construction took 0.086 s\n",
            "Loading dataset from disk.\n"
          ],
          "name": "stdout"
        },
        {
          "output_type": "stream",
          "text": [
            "2021-04-01 21:08:19,223 Wrote model metadata to file ampl_output/CYP3A4_cur_delaney/RF_ecfp_scaffold_regression/2b430052-70cf-4932-a16e-9196ea034184/model_metadata.json\n",
            "2021-04-01 21:08:20,454 Wrote model metrics to file ampl_output/CYP3A4_cur_delaney/RF_ecfp_scaffold_regression/2b430052-70cf-4932-a16e-9196ea034184/model_metrics.json\n"
          ],
          "name": "stderr"
        },
        {
          "output_type": "stream",
          "text": [
            "Wrote model tarball to ampl_output/CYP3A4_cur_delaney_model_2b430052-70cf-4932-a16e-9196ea034184.tar.gz\n",
            "rf_estimators: 128, rf_max_depth: 128, rf_max_features: 128, valid_r2: 0.016659544835595286\n",
            "number of features: 1024\n"
          ],
          "name": "stdout"
        },
        {
          "output_type": "stream",
          "text": [
            "2021-04-01 21:09:36,018 Previous dataset split restored\n"
          ],
          "name": "stderr"
        },
        {
          "output_type": "stream",
          "text": [
            "n_cnt [18642.]\n",
            "y_means [5.19196307]\n",
            "y_stds [1.21382351]\n",
            "TIMING: dataset construction took 0.661 s\n",
            "Loading dataset from disk.\n",
            "TIMING: dataset construction took 0.087 s\n",
            "Loading dataset from disk.\n",
            "TIMING: dataset construction took 0.087 s\n",
            "Loading dataset from disk.\n"
          ],
          "name": "stdout"
        },
        {
          "output_type": "stream",
          "text": [
            "2021-04-01 21:09:46,259 Wrote model metadata to file ampl_output/CYP3A4_cur_delaney/RF_ecfp_scaffold_regression/6a9b2732-ee23-45ae-b0b8-9f96ff5930b5/model_metadata.json\n",
            "2021-04-01 21:09:46,304 Wrote model metrics to file ampl_output/CYP3A4_cur_delaney/RF_ecfp_scaffold_regression/6a9b2732-ee23-45ae-b0b8-9f96ff5930b5/model_metrics.json\n"
          ],
          "name": "stderr"
        },
        {
          "output_type": "stream",
          "text": [
            "Wrote model tarball to ampl_output/CYP3A4_cur_delaney_model_6a9b2732-ee23-45ae-b0b8-9f96ff5930b5.tar.gz\n",
            "rf_estimators: 128, rf_max_depth: 128, rf_max_features: 128, valid_r2: 0.010193783530930811\n",
            "number of features: 1024\n"
          ],
          "name": "stdout"
        },
        {
          "output_type": "stream",
          "text": [
            "2021-04-01 21:11:02,284 Previous dataset split restored\n"
          ],
          "name": "stderr"
        },
        {
          "output_type": "stream",
          "text": [
            "n_cnt [18642.]\n",
            "y_means [5.19196307]\n",
            "y_stds [1.21382351]\n",
            "TIMING: dataset construction took 0.662 s\n",
            "Loading dataset from disk.\n",
            "TIMING: dataset construction took 0.089 s\n",
            "Loading dataset from disk.\n",
            "TIMING: dataset construction took 0.090 s\n",
            "Loading dataset from disk.\n"
          ],
          "name": "stdout"
        },
        {
          "output_type": "stream",
          "text": [
            "2021-04-01 21:11:27,354 Wrote model metadata to file ampl_output/CYP3A4_cur_delaney/RF_ecfp_scaffold_regression/be94f6a6-edd4-4486-8214-924433dc44cc/model_metadata.json\n",
            "2021-04-01 21:11:29,584 Wrote model metrics to file ampl_output/CYP3A4_cur_delaney/RF_ecfp_scaffold_regression/be94f6a6-edd4-4486-8214-924433dc44cc/model_metrics.json\n"
          ],
          "name": "stderr"
        },
        {
          "output_type": "stream",
          "text": [
            "Wrote model tarball to ampl_output/CYP3A4_cur_delaney_model_be94f6a6-edd4-4486-8214-924433dc44cc.tar.gz\n",
            "rf_estimators: 128, rf_max_depth: 128, rf_max_features: 128, valid_r2: 0.0165717139309155\n",
            "number of features: 1024\n"
          ],
          "name": "stdout"
        },
        {
          "output_type": "stream",
          "text": [
            "2021-04-01 21:12:45,278 Previous dataset split restored\n"
          ],
          "name": "stderr"
        },
        {
          "output_type": "stream",
          "text": [
            "n_cnt [18642.]\n",
            "y_means [5.19196307]\n",
            "y_stds [1.21382351]\n",
            "TIMING: dataset construction took 0.662 s\n",
            "Loading dataset from disk.\n",
            "TIMING: dataset construction took 0.090 s\n",
            "Loading dataset from disk.\n",
            "TIMING: dataset construction took 0.089 s\n",
            "Loading dataset from disk.\n"
          ],
          "name": "stdout"
        },
        {
          "output_type": "stream",
          "text": [
            "2021-04-01 21:13:39,306 Wrote model metadata to file ampl_output/CYP3A4_cur_delaney/RF_ecfp_scaffold_regression/d96edd15-7300-43bb-a67c-31bd1611fd0d/model_metadata.json\n",
            "2021-04-01 21:13:41,138 Wrote model metrics to file ampl_output/CYP3A4_cur_delaney/RF_ecfp_scaffold_regression/d96edd15-7300-43bb-a67c-31bd1611fd0d/model_metrics.json\n"
          ],
          "name": "stderr"
        },
        {
          "output_type": "stream",
          "text": [
            "Wrote model tarball to ampl_output/CYP3A4_cur_delaney_model_d96edd15-7300-43bb-a67c-31bd1611fd0d.tar.gz\n",
            "rf_estimators: 128, rf_max_depth: 128, rf_max_features: 128, valid_r2: 0.017222005722753786\n",
            "number of features: 1024\n"
          ],
          "name": "stdout"
        },
        {
          "output_type": "stream",
          "text": [
            "2021-04-01 21:14:57,138 Previous dataset split restored\n"
          ],
          "name": "stderr"
        },
        {
          "output_type": "stream",
          "text": [
            "n_cnt [18642.]\n",
            "y_means [5.19196307]\n",
            "y_stds [1.21382351]\n",
            "TIMING: dataset construction took 0.661 s\n",
            "Loading dataset from disk.\n",
            "TIMING: dataset construction took 0.087 s\n",
            "Loading dataset from disk.\n",
            "TIMING: dataset construction took 0.087 s\n",
            "Loading dataset from disk.\n"
          ],
          "name": "stdout"
        },
        {
          "output_type": "stream",
          "text": [
            "2021-04-01 21:15:10,447 Wrote model metadata to file ampl_output/CYP3A4_cur_delaney/RF_ecfp_scaffold_regression/675428c0-78f8-4be8-b927-2e637ca2f2bc/model_metadata.json\n",
            "2021-04-01 21:15:11,329 Wrote model metrics to file ampl_output/CYP3A4_cur_delaney/RF_ecfp_scaffold_regression/675428c0-78f8-4be8-b927-2e637ca2f2bc/model_metrics.json\n"
          ],
          "name": "stderr"
        },
        {
          "output_type": "stream",
          "text": [
            "Wrote model tarball to ampl_output/CYP3A4_cur_delaney_model_675428c0-78f8-4be8-b927-2e637ca2f2bc.tar.gz\n",
            "rf_estimators: 128, rf_max_depth: 128, rf_max_features: 128, valid_r2: 0.015732696897510112\n",
            "number of features: 1024\n"
          ],
          "name": "stdout"
        },
        {
          "output_type": "stream",
          "text": [
            "2021-04-01 21:16:27,487 Previous dataset split restored\n"
          ],
          "name": "stderr"
        },
        {
          "output_type": "stream",
          "text": [
            "n_cnt [18642.]\n",
            "y_means [5.19196307]\n",
            "y_stds [1.21382351]\n",
            "TIMING: dataset construction took 0.652 s\n",
            "Loading dataset from disk.\n",
            "TIMING: dataset construction took 0.086 s\n",
            "Loading dataset from disk.\n",
            "TIMING: dataset construction took 0.087 s\n",
            "Loading dataset from disk.\n"
          ],
          "name": "stdout"
        },
        {
          "output_type": "stream",
          "text": [
            "2021-04-01 21:16:55,541 Wrote model metadata to file ampl_output/CYP3A4_cur_delaney/RF_ecfp_scaffold_regression/c6455a6a-9b68-4226-bddc-ba2a405dac59/model_metadata.json\n",
            "2021-04-01 21:16:57,214 Wrote model metrics to file ampl_output/CYP3A4_cur_delaney/RF_ecfp_scaffold_regression/c6455a6a-9b68-4226-bddc-ba2a405dac59/model_metrics.json\n"
          ],
          "name": "stderr"
        },
        {
          "output_type": "stream",
          "text": [
            "Wrote model tarball to ampl_output/CYP3A4_cur_delaney_model_c6455a6a-9b68-4226-bddc-ba2a405dac59.tar.gz\n",
            "rf_estimators: 128, rf_max_depth: 128, rf_max_features: 128, valid_r2: 0.017457490639124607\n",
            "number of features: 1024\n"
          ],
          "name": "stdout"
        },
        {
          "output_type": "stream",
          "text": [
            "2021-04-01 21:18:12,987 Previous dataset split restored\n"
          ],
          "name": "stderr"
        },
        {
          "output_type": "stream",
          "text": [
            "n_cnt [18642.]\n",
            "y_means [5.19196307]\n",
            "y_stds [1.21382351]\n",
            "TIMING: dataset construction took 0.667 s\n",
            "Loading dataset from disk.\n",
            "TIMING: dataset construction took 0.087 s\n",
            "Loading dataset from disk.\n",
            "TIMING: dataset construction took 0.087 s\n",
            "Loading dataset from disk.\n"
          ],
          "name": "stdout"
        },
        {
          "output_type": "stream",
          "text": [
            "2021-04-01 21:18:25,391 Wrote model metadata to file ampl_output/CYP3A4_cur_delaney/RF_ecfp_scaffold_regression/66a4626f-359c-4b8f-87bb-348cb5b9c636/model_metadata.json\n",
            "2021-04-01 21:18:25,678 Wrote model metrics to file ampl_output/CYP3A4_cur_delaney/RF_ecfp_scaffold_regression/66a4626f-359c-4b8f-87bb-348cb5b9c636/model_metrics.json\n"
          ],
          "name": "stderr"
        },
        {
          "output_type": "stream",
          "text": [
            "Wrote model tarball to ampl_output/CYP3A4_cur_delaney_model_66a4626f-359c-4b8f-87bb-348cb5b9c636.tar.gz\n",
            "rf_estimators: 128, rf_max_depth: 128, rf_max_features: 128, valid_r2: 0.01873191645167449\n",
            "number of features: 1024\n"
          ],
          "name": "stdout"
        },
        {
          "output_type": "stream",
          "text": [
            "2021-04-01 21:19:41,451 Previous dataset split restored\n"
          ],
          "name": "stderr"
        },
        {
          "output_type": "stream",
          "text": [
            "n_cnt [18642.]\n",
            "y_means [5.19196307]\n",
            "y_stds [1.21382351]\n",
            "TIMING: dataset construction took 0.653 s\n",
            "Loading dataset from disk.\n",
            "TIMING: dataset construction took 0.087 s\n",
            "Loading dataset from disk.\n",
            "TIMING: dataset construction took 0.088 s\n",
            "Loading dataset from disk.\n"
          ],
          "name": "stdout"
        },
        {
          "output_type": "stream",
          "text": [
            "2021-04-01 21:20:29,265 Wrote model metadata to file ampl_output/CYP3A4_cur_delaney/RF_ecfp_scaffold_regression/8c53bf36-87e8-4383-8fea-8b727ae3fd00/model_metadata.json\n",
            "2021-04-01 21:20:30,977 Wrote model metrics to file ampl_output/CYP3A4_cur_delaney/RF_ecfp_scaffold_regression/8c53bf36-87e8-4383-8fea-8b727ae3fd00/model_metrics.json\n"
          ],
          "name": "stderr"
        },
        {
          "output_type": "stream",
          "text": [
            "Wrote model tarball to ampl_output/CYP3A4_cur_delaney_model_8c53bf36-87e8-4383-8fea-8b727ae3fd00.tar.gz\n",
            "rf_estimators: 128, rf_max_depth: 128, rf_max_features: 128, valid_r2: 0.016846341020572808\n",
            "number of features: 1024\n"
          ],
          "name": "stdout"
        },
        {
          "output_type": "stream",
          "text": [
            "2021-04-01 21:21:46,438 Previous dataset split restored\n"
          ],
          "name": "stderr"
        },
        {
          "output_type": "stream",
          "text": [
            "n_cnt [18642.]\n",
            "y_means [5.19196307]\n",
            "y_stds [1.21382351]\n",
            "TIMING: dataset construction took 0.659 s\n",
            "Loading dataset from disk.\n",
            "TIMING: dataset construction took 0.087 s\n",
            "Loading dataset from disk.\n",
            "TIMING: dataset construction took 0.086 s\n",
            "Loading dataset from disk.\n"
          ],
          "name": "stdout"
        },
        {
          "output_type": "stream",
          "text": [
            "2021-04-01 21:22:01,254 Wrote model metadata to file ampl_output/CYP3A4_cur_delaney/RF_ecfp_scaffold_regression/f0d66246-bc07-4698-921f-eaae3a4ab9fd/model_metadata.json\n",
            "2021-04-01 21:22:03,807 Wrote model metrics to file ampl_output/CYP3A4_cur_delaney/RF_ecfp_scaffold_regression/f0d66246-bc07-4698-921f-eaae3a4ab9fd/model_metrics.json\n"
          ],
          "name": "stderr"
        },
        {
          "output_type": "stream",
          "text": [
            "Wrote model tarball to ampl_output/CYP3A4_cur_delaney_model_f0d66246-bc07-4698-921f-eaae3a4ab9fd.tar.gz\n",
            "rf_estimators: 128, rf_max_depth: 128, rf_max_features: 128, valid_r2: 0.017291450639489447\n",
            "number of features: 1024\n"
          ],
          "name": "stdout"
        },
        {
          "output_type": "stream",
          "text": [
            "2021-04-01 21:23:19,314 Previous dataset split restored\n"
          ],
          "name": "stderr"
        },
        {
          "output_type": "stream",
          "text": [
            "n_cnt [18642.]\n",
            "y_means [5.19196307]\n",
            "y_stds [1.21382351]\n",
            "TIMING: dataset construction took 0.658 s\n",
            "Loading dataset from disk.\n",
            "TIMING: dataset construction took 0.089 s\n",
            "Loading dataset from disk.\n",
            "TIMING: dataset construction took 0.087 s\n",
            "Loading dataset from disk.\n"
          ],
          "name": "stdout"
        },
        {
          "output_type": "stream",
          "text": [
            "2021-04-01 21:24:13,482 Wrote model metadata to file ampl_output/CYP3A4_cur_delaney/RF_ecfp_scaffold_regression/36c85018-d1cc-4b39-91ef-99ff20128275/model_metadata.json\n",
            "2021-04-01 21:24:15,560 Wrote model metrics to file ampl_output/CYP3A4_cur_delaney/RF_ecfp_scaffold_regression/36c85018-d1cc-4b39-91ef-99ff20128275/model_metrics.json\n"
          ],
          "name": "stderr"
        },
        {
          "output_type": "stream",
          "text": [
            "Wrote model tarball to ampl_output/CYP3A4_cur_delaney_model_36c85018-d1cc-4b39-91ef-99ff20128275.tar.gz\n",
            "rf_estimators: 128, rf_max_depth: 128, rf_max_features: 128, valid_r2: 0.017025215287365558\n",
            "number of features: 1024\n"
          ],
          "name": "stdout"
        },
        {
          "output_type": "stream",
          "text": [
            "2021-04-01 21:25:30,920 Previous dataset split restored\n"
          ],
          "name": "stderr"
        },
        {
          "output_type": "stream",
          "text": [
            "n_cnt [18642.]\n",
            "y_means [5.19196307]\n",
            "y_stds [1.21382351]\n",
            "TIMING: dataset construction took 0.665 s\n",
            "Loading dataset from disk.\n",
            "TIMING: dataset construction took 0.086 s\n",
            "Loading dataset from disk.\n",
            "TIMING: dataset construction took 0.087 s\n",
            "Loading dataset from disk.\n"
          ],
          "name": "stdout"
        },
        {
          "output_type": "stream",
          "text": [
            "2021-04-01 21:26:12,712 Wrote model metadata to file ampl_output/CYP3A4_cur_delaney/RF_ecfp_scaffold_regression/f87e7361-c8f0-4cfb-9f1a-b3cffbdc982b/model_metadata.json\n",
            "2021-04-01 21:26:14,246 Wrote model metrics to file ampl_output/CYP3A4_cur_delaney/RF_ecfp_scaffold_regression/f87e7361-c8f0-4cfb-9f1a-b3cffbdc982b/model_metrics.json\n"
          ],
          "name": "stderr"
        },
        {
          "output_type": "stream",
          "text": [
            "Wrote model tarball to ampl_output/CYP3A4_cur_delaney_model_f87e7361-c8f0-4cfb-9f1a-b3cffbdc982b.tar.gz\n",
            "rf_estimators: 128, rf_max_depth: 128, rf_max_features: 128, valid_r2: 0.017663850942516768\n",
            "number of features: 1024\n"
          ],
          "name": "stdout"
        },
        {
          "output_type": "stream",
          "text": [
            "2021-04-01 21:27:29,738 Previous dataset split restored\n"
          ],
          "name": "stderr"
        },
        {
          "output_type": "stream",
          "text": [
            "n_cnt [18642.]\n",
            "y_means [5.19196307]\n",
            "y_stds [1.21382351]\n",
            "TIMING: dataset construction took 0.675 s\n",
            "Loading dataset from disk.\n",
            "TIMING: dataset construction took 0.088 s\n",
            "Loading dataset from disk.\n",
            "TIMING: dataset construction took 0.087 s\n",
            "Loading dataset from disk.\n"
          ],
          "name": "stdout"
        },
        {
          "output_type": "stream",
          "text": [
            "2021-04-01 21:28:04,609 Wrote model metadata to file ampl_output/CYP3A4_cur_delaney/RF_ecfp_scaffold_regression/f322d4a8-62a0-46d9-8ee9-235fde47d587/model_metadata.json\n",
            "2021-04-01 21:28:05,099 Wrote model metrics to file ampl_output/CYP3A4_cur_delaney/RF_ecfp_scaffold_regression/f322d4a8-62a0-46d9-8ee9-235fde47d587/model_metrics.json\n"
          ],
          "name": "stderr"
        },
        {
          "output_type": "stream",
          "text": [
            "Wrote model tarball to ampl_output/CYP3A4_cur_delaney_model_f322d4a8-62a0-46d9-8ee9-235fde47d587.tar.gz\n",
            "rf_estimators: 128, rf_max_depth: 128, rf_max_features: 128, valid_r2: 0.01417242698051624\n",
            "number of features: 1024\n"
          ],
          "name": "stdout"
        },
        {
          "output_type": "stream",
          "text": [
            "2021-04-01 21:29:20,546 Previous dataset split restored\n"
          ],
          "name": "stderr"
        },
        {
          "output_type": "stream",
          "text": [
            "n_cnt [18642.]\n",
            "y_means [5.19196307]\n",
            "y_stds [1.21382351]\n",
            "TIMING: dataset construction took 0.674 s\n",
            "Loading dataset from disk.\n",
            "TIMING: dataset construction took 0.090 s\n",
            "Loading dataset from disk.\n",
            "TIMING: dataset construction took 0.089 s\n",
            "Loading dataset from disk.\n"
          ],
          "name": "stdout"
        },
        {
          "output_type": "stream",
          "text": [
            "2021-04-01 21:29:33,345 Wrote model metadata to file ampl_output/CYP3A4_cur_delaney/RF_ecfp_scaffold_regression/7834500d-b34a-431b-834d-4f845c12c51c/model_metadata.json\n",
            "2021-04-01 21:29:34,371 Wrote model metrics to file ampl_output/CYP3A4_cur_delaney/RF_ecfp_scaffold_regression/7834500d-b34a-431b-834d-4f845c12c51c/model_metrics.json\n"
          ],
          "name": "stderr"
        },
        {
          "output_type": "stream",
          "text": [
            "Wrote model tarball to ampl_output/CYP3A4_cur_delaney_model_7834500d-b34a-431b-834d-4f845c12c51c.tar.gz\n",
            "rf_estimators: 128, rf_max_depth: 128, rf_max_features: 128, valid_r2: 0.01579939013791931\n",
            "number of features: 1024\n"
          ],
          "name": "stdout"
        },
        {
          "output_type": "stream",
          "text": [
            "2021-04-01 21:30:49,913 Previous dataset split restored\n"
          ],
          "name": "stderr"
        },
        {
          "output_type": "stream",
          "text": [
            "n_cnt [18642.]\n",
            "y_means [5.19196307]\n",
            "y_stds [1.21382351]\n",
            "TIMING: dataset construction took 0.673 s\n",
            "Loading dataset from disk.\n",
            "TIMING: dataset construction took 0.088 s\n",
            "Loading dataset from disk.\n",
            "TIMING: dataset construction took 0.088 s\n",
            "Loading dataset from disk.\n"
          ],
          "name": "stdout"
        },
        {
          "output_type": "stream",
          "text": [
            "2021-04-01 21:31:08,404 Wrote model metadata to file ampl_output/CYP3A4_cur_delaney/RF_ecfp_scaffold_regression/c616f96a-16a4-46dc-8a76-cdbdcbf4809b/model_metadata.json\n",
            "2021-04-01 21:31:09,407 Wrote model metrics to file ampl_output/CYP3A4_cur_delaney/RF_ecfp_scaffold_regression/c616f96a-16a4-46dc-8a76-cdbdcbf4809b/model_metrics.json\n"
          ],
          "name": "stderr"
        },
        {
          "output_type": "stream",
          "text": [
            "Wrote model tarball to ampl_output/CYP3A4_cur_delaney_model_c616f96a-16a4-46dc-8a76-cdbdcbf4809b.tar.gz\n",
            "rf_estimators: 128, rf_max_depth: 128, rf_max_features: 128, valid_r2: 0.01738540199614358\n",
            "number of features: 1024\n"
          ],
          "name": "stdout"
        },
        {
          "output_type": "stream",
          "text": [
            "2021-04-01 21:32:24,995 Previous dataset split restored\n"
          ],
          "name": "stderr"
        },
        {
          "output_type": "stream",
          "text": [
            "n_cnt [18642.]\n",
            "y_means [5.19196307]\n",
            "y_stds [1.21382351]\n",
            "TIMING: dataset construction took 0.688 s\n",
            "Loading dataset from disk.\n",
            "TIMING: dataset construction took 0.091 s\n",
            "Loading dataset from disk.\n",
            "TIMING: dataset construction took 0.093 s\n",
            "Loading dataset from disk.\n"
          ],
          "name": "stdout"
        },
        {
          "output_type": "stream",
          "text": [
            "2021-04-01 21:32:41,869 Wrote model metadata to file ampl_output/CYP3A4_cur_delaney/RF_ecfp_scaffold_regression/bd5acfdc-ee94-4c03-a516-7f2ceea4a18c/model_metadata.json\n",
            "2021-04-01 21:32:42,486 Wrote model metrics to file ampl_output/CYP3A4_cur_delaney/RF_ecfp_scaffold_regression/bd5acfdc-ee94-4c03-a516-7f2ceea4a18c/model_metrics.json\n"
          ],
          "name": "stderr"
        },
        {
          "output_type": "stream",
          "text": [
            "Wrote model tarball to ampl_output/CYP3A4_cur_delaney_model_bd5acfdc-ee94-4c03-a516-7f2ceea4a18c.tar.gz\n",
            "rf_estimators: 128, rf_max_depth: 128, rf_max_features: 128, valid_r2: 0.016159390644223892\n",
            "number of features: 1024\n"
          ],
          "name": "stdout"
        },
        {
          "output_type": "stream",
          "text": [
            "2021-04-01 21:33:57,877 Previous dataset split restored\n"
          ],
          "name": "stderr"
        },
        {
          "output_type": "stream",
          "text": [
            "n_cnt [18642.]\n",
            "y_means [5.19196307]\n",
            "y_stds [1.21382351]\n",
            "TIMING: dataset construction took 0.661 s\n",
            "Loading dataset from disk.\n",
            "TIMING: dataset construction took 0.088 s\n",
            "Loading dataset from disk.\n",
            "TIMING: dataset construction took 0.087 s\n",
            "Loading dataset from disk.\n"
          ],
          "name": "stdout"
        },
        {
          "output_type": "stream",
          "text": [
            "2021-04-01 21:34:14,734 Wrote model metadata to file ampl_output/CYP3A4_cur_delaney/RF_ecfp_scaffold_regression/214011c2-9ab5-4440-9b79-03818ac24eec/model_metadata.json\n",
            "2021-04-01 21:34:15,561 Wrote model metrics to file ampl_output/CYP3A4_cur_delaney/RF_ecfp_scaffold_regression/214011c2-9ab5-4440-9b79-03818ac24eec/model_metrics.json\n"
          ],
          "name": "stderr"
        },
        {
          "output_type": "stream",
          "text": [
            "Wrote model tarball to ampl_output/CYP3A4_cur_delaney_model_214011c2-9ab5-4440-9b79-03818ac24eec.tar.gz\n",
            "rf_estimators: 128, rf_max_depth: 128, rf_max_features: 128, valid_r2: 0.01765468280042848\n",
            "number of features: 1024\n"
          ],
          "name": "stdout"
        },
        {
          "output_type": "stream",
          "text": [
            "2021-04-01 21:35:31,125 Previous dataset split restored\n"
          ],
          "name": "stderr"
        },
        {
          "output_type": "stream",
          "text": [
            "n_cnt [18642.]\n",
            "y_means [5.19196307]\n",
            "y_stds [1.21382351]\n",
            "TIMING: dataset construction took 0.661 s\n",
            "Loading dataset from disk.\n",
            "TIMING: dataset construction took 0.086 s\n",
            "Loading dataset from disk.\n",
            "TIMING: dataset construction took 0.087 s\n",
            "Loading dataset from disk.\n"
          ],
          "name": "stdout"
        },
        {
          "output_type": "stream",
          "text": [
            "2021-04-01 21:35:38,788 Wrote model metadata to file ampl_output/CYP3A4_cur_delaney/RF_ecfp_scaffold_regression/cf1430c6-578e-44ba-8abf-3bc8ebf87aef/model_metadata.json\n",
            "2021-04-01 21:35:39,525 Wrote model metrics to file ampl_output/CYP3A4_cur_delaney/RF_ecfp_scaffold_regression/cf1430c6-578e-44ba-8abf-3bc8ebf87aef/model_metrics.json\n"
          ],
          "name": "stderr"
        },
        {
          "output_type": "stream",
          "text": [
            "Wrote model tarball to ampl_output/CYP3A4_cur_delaney_model_cf1430c6-578e-44ba-8abf-3bc8ebf87aef.tar.gz\n",
            "rf_estimators: 128, rf_max_depth: 128, rf_max_features: 128, valid_r2: 0.015360812097494958\n",
            "number of features: 1024\n"
          ],
          "name": "stdout"
        },
        {
          "output_type": "stream",
          "text": [
            "2021-04-01 21:36:55,337 Previous dataset split restored\n"
          ],
          "name": "stderr"
        },
        {
          "output_type": "stream",
          "text": [
            "n_cnt [18642.]\n",
            "y_means [5.19196307]\n",
            "y_stds [1.21382351]\n",
            "TIMING: dataset construction took 0.679 s\n",
            "Loading dataset from disk.\n",
            "TIMING: dataset construction took 0.087 s\n",
            "Loading dataset from disk.\n",
            "TIMING: dataset construction took 0.089 s\n",
            "Loading dataset from disk.\n"
          ],
          "name": "stdout"
        },
        {
          "output_type": "stream",
          "text": [
            "2021-04-01 21:37:27,603 Wrote model metadata to file ampl_output/CYP3A4_cur_delaney/RF_ecfp_scaffold_regression/67a7a6f2-d29a-499f-a291-74d158320590/model_metadata.json\n",
            "2021-04-01 21:37:29,958 Wrote model metrics to file ampl_output/CYP3A4_cur_delaney/RF_ecfp_scaffold_regression/67a7a6f2-d29a-499f-a291-74d158320590/model_metrics.json\n"
          ],
          "name": "stderr"
        },
        {
          "output_type": "stream",
          "text": [
            "Wrote model tarball to ampl_output/CYP3A4_cur_delaney_model_67a7a6f2-d29a-499f-a291-74d158320590.tar.gz\n",
            "rf_estimators: 128, rf_max_depth: 128, rf_max_features: 128, valid_r2: 0.01700897437287119\n",
            "number of features: 1024\n"
          ],
          "name": "stdout"
        },
        {
          "output_type": "stream",
          "text": [
            "2021-04-01 21:38:45,423 Previous dataset split restored\n"
          ],
          "name": "stderr"
        },
        {
          "output_type": "stream",
          "text": [
            "n_cnt [18642.]\n",
            "y_means [5.19196307]\n",
            "y_stds [1.21382351]\n",
            "TIMING: dataset construction took 0.667 s\n",
            "Loading dataset from disk.\n",
            "TIMING: dataset construction took 0.087 s\n",
            "Loading dataset from disk.\n",
            "TIMING: dataset construction took 0.088 s\n",
            "Loading dataset from disk.\n"
          ],
          "name": "stdout"
        },
        {
          "output_type": "stream",
          "text": [
            "2021-04-01 21:38:53,755 Wrote model metadata to file ampl_output/CYP3A4_cur_delaney/RF_ecfp_scaffold_regression/073a5e27-ff3c-4882-8ca5-ae108ec5ae96/model_metadata.json\n",
            "2021-04-01 21:38:53,920 Wrote model metrics to file ampl_output/CYP3A4_cur_delaney/RF_ecfp_scaffold_regression/073a5e27-ff3c-4882-8ca5-ae108ec5ae96/model_metrics.json\n"
          ],
          "name": "stderr"
        },
        {
          "output_type": "stream",
          "text": [
            "Wrote model tarball to ampl_output/CYP3A4_cur_delaney_model_073a5e27-ff3c-4882-8ca5-ae108ec5ae96.tar.gz\n",
            "rf_estimators: 128, rf_max_depth: 128, rf_max_features: 128, valid_r2: 0.018600583410159244\n",
            "number of features: 1024\n"
          ],
          "name": "stdout"
        },
        {
          "output_type": "stream",
          "text": [
            "2021-04-01 21:40:09,721 Previous dataset split restored\n"
          ],
          "name": "stderr"
        },
        {
          "output_type": "stream",
          "text": [
            "n_cnt [18642.]\n",
            "y_means [5.19196307]\n",
            "y_stds [1.21382351]\n",
            "TIMING: dataset construction took 0.662 s\n",
            "Loading dataset from disk.\n",
            "TIMING: dataset construction took 0.089 s\n",
            "Loading dataset from disk.\n",
            "TIMING: dataset construction took 0.088 s\n",
            "Loading dataset from disk.\n"
          ],
          "name": "stdout"
        },
        {
          "output_type": "stream",
          "text": [
            "2021-04-01 21:40:57,650 Wrote model metadata to file ampl_output/CYP3A4_cur_delaney/RF_ecfp_scaffold_regression/9b7f852e-9f61-42e1-9eaf-d116da8393f2/model_metadata.json\n",
            "2021-04-01 21:40:59,013 Wrote model metrics to file ampl_output/CYP3A4_cur_delaney/RF_ecfp_scaffold_regression/9b7f852e-9f61-42e1-9eaf-d116da8393f2/model_metrics.json\n"
          ],
          "name": "stderr"
        },
        {
          "output_type": "stream",
          "text": [
            "Wrote model tarball to ampl_output/CYP3A4_cur_delaney_model_9b7f852e-9f61-42e1-9eaf-d116da8393f2.tar.gz\n",
            "rf_estimators: 128, rf_max_depth: 128, rf_max_features: 128, valid_r2: 0.016557937763571506\n",
            "number of features: 1024\n"
          ],
          "name": "stdout"
        },
        {
          "output_type": "stream",
          "text": [
            "2021-04-01 21:42:14,864 Previous dataset split restored\n"
          ],
          "name": "stderr"
        },
        {
          "output_type": "stream",
          "text": [
            "n_cnt [18642.]\n",
            "y_means [5.19196307]\n",
            "y_stds [1.21382351]\n",
            "TIMING: dataset construction took 0.668 s\n",
            "Loading dataset from disk.\n",
            "TIMING: dataset construction took 0.086 s\n",
            "Loading dataset from disk.\n",
            "TIMING: dataset construction took 0.087 s\n",
            "Loading dataset from disk.\n"
          ],
          "name": "stdout"
        },
        {
          "output_type": "stream",
          "text": [
            "2021-04-01 21:42:46,162 Wrote model metadata to file ampl_output/CYP3A4_cur_delaney/RF_ecfp_scaffold_regression/800571ae-adb4-4880-975f-a1d897177cea/model_metadata.json\n",
            "2021-04-01 21:42:48,134 Wrote model metrics to file ampl_output/CYP3A4_cur_delaney/RF_ecfp_scaffold_regression/800571ae-adb4-4880-975f-a1d897177cea/model_metrics.json\n"
          ],
          "name": "stderr"
        },
        {
          "output_type": "stream",
          "text": [
            "Wrote model tarball to ampl_output/CYP3A4_cur_delaney_model_800571ae-adb4-4880-975f-a1d897177cea.tar.gz\n",
            "rf_estimators: 128, rf_max_depth: 128, rf_max_features: 128, valid_r2: 0.016859669364341023\n",
            "number of features: 1024\n"
          ],
          "name": "stdout"
        },
        {
          "output_type": "stream",
          "text": [
            "2021-04-01 21:44:03,910 Previous dataset split restored\n"
          ],
          "name": "stderr"
        },
        {
          "output_type": "stream",
          "text": [
            "n_cnt [18642.]\n",
            "y_means [5.19196307]\n",
            "y_stds [1.21382351]\n",
            "TIMING: dataset construction took 0.662 s\n",
            "Loading dataset from disk.\n",
            "TIMING: dataset construction took 0.087 s\n",
            "Loading dataset from disk.\n",
            "TIMING: dataset construction took 0.087 s\n",
            "Loading dataset from disk.\n"
          ],
          "name": "stdout"
        },
        {
          "output_type": "stream",
          "text": [
            "2021-04-01 21:44:44,179 Wrote model metadata to file ampl_output/CYP3A4_cur_delaney/RF_ecfp_scaffold_regression/dc818d2b-1223-443b-8681-d94753a3d194/model_metadata.json\n",
            "2021-04-01 21:44:45,352 Wrote model metrics to file ampl_output/CYP3A4_cur_delaney/RF_ecfp_scaffold_regression/dc818d2b-1223-443b-8681-d94753a3d194/model_metrics.json\n"
          ],
          "name": "stderr"
        },
        {
          "output_type": "stream",
          "text": [
            "Wrote model tarball to ampl_output/CYP3A4_cur_delaney_model_dc818d2b-1223-443b-8681-d94753a3d194.tar.gz\n",
            "rf_estimators: 128, rf_max_depth: 128, rf_max_features: 128, valid_r2: 0.017968192526624294\n",
            "number of features: 1024\n"
          ],
          "name": "stdout"
        },
        {
          "output_type": "stream",
          "text": [
            "2021-04-01 21:46:00,884 Previous dataset split restored\n"
          ],
          "name": "stderr"
        },
        {
          "output_type": "stream",
          "text": [
            "n_cnt [18642.]\n",
            "y_means [5.19196307]\n",
            "y_stds [1.21382351]\n",
            "TIMING: dataset construction took 0.668 s\n",
            "Loading dataset from disk.\n",
            "TIMING: dataset construction took 0.088 s\n",
            "Loading dataset from disk.\n",
            "TIMING: dataset construction took 0.089 s\n",
            "Loading dataset from disk.\n"
          ],
          "name": "stdout"
        },
        {
          "output_type": "stream",
          "text": [
            "2021-04-01 21:46:53,796 Wrote model metadata to file ampl_output/CYP3A4_cur_delaney/RF_ecfp_scaffold_regression/dec14196-d794-4945-8497-63cc079ed74d/model_metadata.json\n",
            "2021-04-01 21:46:55,718 Wrote model metrics to file ampl_output/CYP3A4_cur_delaney/RF_ecfp_scaffold_regression/dec14196-d794-4945-8497-63cc079ed74d/model_metrics.json\n"
          ],
          "name": "stderr"
        },
        {
          "output_type": "stream",
          "text": [
            "Wrote model tarball to ampl_output/CYP3A4_cur_delaney_model_dec14196-d794-4945-8497-63cc079ed74d.tar.gz\n",
            "rf_estimators: 128, rf_max_depth: 128, rf_max_features: 128, valid_r2: 0.01896125723318487\n",
            "number of features: 1024\n"
          ],
          "name": "stdout"
        },
        {
          "output_type": "stream",
          "text": [
            "2021-04-01 21:48:11,273 Previous dataset split restored\n"
          ],
          "name": "stderr"
        },
        {
          "output_type": "stream",
          "text": [
            "n_cnt [18642.]\n",
            "y_means [5.19196307]\n",
            "y_stds [1.21382351]\n",
            "TIMING: dataset construction took 0.667 s\n",
            "Loading dataset from disk.\n",
            "TIMING: dataset construction took 0.088 s\n",
            "Loading dataset from disk.\n",
            "TIMING: dataset construction took 0.089 s\n",
            "Loading dataset from disk.\n"
          ],
          "name": "stdout"
        },
        {
          "output_type": "stream",
          "text": [
            "2021-04-01 21:48:28,701 Wrote model metadata to file ampl_output/CYP3A4_cur_delaney/RF_ecfp_scaffold_regression/cef75c03-7c46-4e9e-a749-4e48b2aaa192/model_metadata.json\n",
            "2021-04-01 21:48:30,246 Wrote model metrics to file ampl_output/CYP3A4_cur_delaney/RF_ecfp_scaffold_regression/cef75c03-7c46-4e9e-a749-4e48b2aaa192/model_metrics.json\n"
          ],
          "name": "stderr"
        },
        {
          "output_type": "stream",
          "text": [
            "Wrote model tarball to ampl_output/CYP3A4_cur_delaney_model_cef75c03-7c46-4e9e-a749-4e48b2aaa192.tar.gz\n",
            "rf_estimators: 128, rf_max_depth: 128, rf_max_features: 128, valid_r2: 0.017575990589876356\n",
            "number of features: 1024\n"
          ],
          "name": "stdout"
        },
        {
          "output_type": "stream",
          "text": [
            "2021-04-01 21:49:45,810 Previous dataset split restored\n"
          ],
          "name": "stderr"
        },
        {
          "output_type": "stream",
          "text": [
            "n_cnt [18642.]\n",
            "y_means [5.19196307]\n",
            "y_stds [1.21382351]\n",
            "TIMING: dataset construction took 0.660 s\n",
            "Loading dataset from disk.\n",
            "TIMING: dataset construction took 0.086 s\n",
            "Loading dataset from disk.\n",
            "TIMING: dataset construction took 0.087 s\n",
            "Loading dataset from disk.\n"
          ],
          "name": "stdout"
        },
        {
          "output_type": "stream",
          "text": [
            "2021-04-01 21:50:10,938 Wrote model metadata to file ampl_output/CYP3A4_cur_delaney/RF_ecfp_scaffold_regression/9f1d20c0-5647-4e9c-850b-7c91fb50897f/model_metadata.json\n",
            "2021-04-01 21:50:13,227 Wrote model metrics to file ampl_output/CYP3A4_cur_delaney/RF_ecfp_scaffold_regression/9f1d20c0-5647-4e9c-850b-7c91fb50897f/model_metrics.json\n"
          ],
          "name": "stderr"
        },
        {
          "output_type": "stream",
          "text": [
            "Wrote model tarball to ampl_output/CYP3A4_cur_delaney_model_9f1d20c0-5647-4e9c-850b-7c91fb50897f.tar.gz\n",
            "rf_estimators: 128, rf_max_depth: 128, rf_max_features: 128, valid_r2: 0.016865097111285365\n",
            "number of features: 1024\n"
          ],
          "name": "stdout"
        },
        {
          "output_type": "stream",
          "text": [
            "2021-04-01 21:51:29,001 Previous dataset split restored\n"
          ],
          "name": "stderr"
        },
        {
          "output_type": "stream",
          "text": [
            "n_cnt [18642.]\n",
            "y_means [5.19196307]\n",
            "y_stds [1.21382351]\n",
            "TIMING: dataset construction took 0.670 s\n",
            "Loading dataset from disk.\n",
            "TIMING: dataset construction took 0.089 s\n",
            "Loading dataset from disk.\n",
            "TIMING: dataset construction took 0.091 s\n",
            "Loading dataset from disk.\n"
          ],
          "name": "stdout"
        },
        {
          "output_type": "stream",
          "text": [
            "2021-04-01 21:51:41,098 Wrote model metadata to file ampl_output/CYP3A4_cur_delaney/RF_ecfp_scaffold_regression/25fb37a4-dabe-42fe-8b41-bb6506db8f7c/model_metadata.json\n",
            "2021-04-01 21:51:42,396 Wrote model metrics to file ampl_output/CYP3A4_cur_delaney/RF_ecfp_scaffold_regression/25fb37a4-dabe-42fe-8b41-bb6506db8f7c/model_metrics.json\n"
          ],
          "name": "stderr"
        },
        {
          "output_type": "stream",
          "text": [
            "Wrote model tarball to ampl_output/CYP3A4_cur_delaney_model_25fb37a4-dabe-42fe-8b41-bb6506db8f7c.tar.gz\n",
            "rf_estimators: 128, rf_max_depth: 128, rf_max_features: 128, valid_r2: 0.017144527408341603\n",
            "number of features: 1024\n"
          ],
          "name": "stdout"
        },
        {
          "output_type": "stream",
          "text": [
            "2021-04-01 21:52:58,287 Previous dataset split restored\n"
          ],
          "name": "stderr"
        },
        {
          "output_type": "stream",
          "text": [
            "n_cnt [18642.]\n",
            "y_means [5.19196307]\n",
            "y_stds [1.21382351]\n",
            "TIMING: dataset construction took 0.666 s\n",
            "Loading dataset from disk.\n",
            "TIMING: dataset construction took 0.091 s\n",
            "Loading dataset from disk.\n",
            "TIMING: dataset construction took 0.088 s\n",
            "Loading dataset from disk.\n"
          ],
          "name": "stdout"
        },
        {
          "output_type": "stream",
          "text": [
            "2021-04-01 21:53:05,928 Wrote model metadata to file ampl_output/CYP3A4_cur_delaney/RF_ecfp_scaffold_regression/12cf60cf-865a-462b-aaf1-3fc1215af064/model_metadata.json\n",
            "2021-04-01 21:53:06,435 Wrote model metrics to file ampl_output/CYP3A4_cur_delaney/RF_ecfp_scaffold_regression/12cf60cf-865a-462b-aaf1-3fc1215af064/model_metrics.json\n"
          ],
          "name": "stderr"
        },
        {
          "output_type": "stream",
          "text": [
            "Wrote model tarball to ampl_output/CYP3A4_cur_delaney_model_12cf60cf-865a-462b-aaf1-3fc1215af064.tar.gz\n",
            "rf_estimators: 128, rf_max_depth: 128, rf_max_features: 128, valid_r2: 0.018357189861050727\n",
            "number of features: 1024\n"
          ],
          "name": "stdout"
        },
        {
          "output_type": "stream",
          "text": [
            "2021-04-01 21:54:21,867 Previous dataset split restored\n"
          ],
          "name": "stderr"
        },
        {
          "output_type": "stream",
          "text": [
            "n_cnt [18642.]\n",
            "y_means [5.19196307]\n",
            "y_stds [1.21382351]\n",
            "TIMING: dataset construction took 0.667 s\n",
            "Loading dataset from disk.\n",
            "TIMING: dataset construction took 0.088 s\n",
            "Loading dataset from disk.\n",
            "TIMING: dataset construction took 0.087 s\n",
            "Loading dataset from disk.\n"
          ],
          "name": "stdout"
        },
        {
          "output_type": "stream",
          "text": [
            "2021-04-01 21:54:47,675 Wrote model metadata to file ampl_output/CYP3A4_cur_delaney/RF_ecfp_scaffold_regression/82e9f7c1-cfc2-4cf9-8cfa-029e059bd10d/model_metadata.json\n",
            "2021-04-01 21:54:48,675 Wrote model metrics to file ampl_output/CYP3A4_cur_delaney/RF_ecfp_scaffold_regression/82e9f7c1-cfc2-4cf9-8cfa-029e059bd10d/model_metrics.json\n"
          ],
          "name": "stderr"
        },
        {
          "output_type": "stream",
          "text": [
            "Wrote model tarball to ampl_output/CYP3A4_cur_delaney_model_82e9f7c1-cfc2-4cf9-8cfa-029e059bd10d.tar.gz\n",
            "rf_estimators: 128, rf_max_depth: 128, rf_max_features: 128, valid_r2: 0.017545147823447738\n",
            "number of features: 1024\n"
          ],
          "name": "stdout"
        },
        {
          "output_type": "stream",
          "text": [
            "2021-04-01 21:56:04,438 Previous dataset split restored\n"
          ],
          "name": "stderr"
        },
        {
          "output_type": "stream",
          "text": [
            "n_cnt [18642.]\n",
            "y_means [5.19196307]\n",
            "y_stds [1.21382351]\n",
            "TIMING: dataset construction took 0.659 s\n",
            "Loading dataset from disk.\n",
            "TIMING: dataset construction took 0.090 s\n",
            "Loading dataset from disk.\n",
            "TIMING: dataset construction took 0.089 s\n",
            "Loading dataset from disk.\n"
          ],
          "name": "stdout"
        },
        {
          "output_type": "stream",
          "text": [
            "2021-04-01 21:56:42,490 Wrote model metadata to file ampl_output/CYP3A4_cur_delaney/RF_ecfp_scaffold_regression/f31b6164-c4af-4245-87b6-b367a2899a7d/model_metadata.json\n",
            "2021-04-01 21:56:43,912 Wrote model metrics to file ampl_output/CYP3A4_cur_delaney/RF_ecfp_scaffold_regression/f31b6164-c4af-4245-87b6-b367a2899a7d/model_metrics.json\n"
          ],
          "name": "stderr"
        },
        {
          "output_type": "stream",
          "text": [
            "Wrote model tarball to ampl_output/CYP3A4_cur_delaney_model_f31b6164-c4af-4245-87b6-b367a2899a7d.tar.gz\n",
            "rf_estimators: 128, rf_max_depth: 128, rf_max_features: 128, valid_r2: 0.018164512454204473\n",
            "number of features: 1024\n"
          ],
          "name": "stdout"
        },
        {
          "output_type": "stream",
          "text": [
            "2021-04-01 21:57:59,683 Previous dataset split restored\n"
          ],
          "name": "stderr"
        },
        {
          "output_type": "stream",
          "text": [
            "n_cnt [18642.]\n",
            "y_means [5.19196307]\n",
            "y_stds [1.21382351]\n",
            "TIMING: dataset construction took 0.659 s\n",
            "Loading dataset from disk.\n",
            "TIMING: dataset construction took 0.086 s\n",
            "Loading dataset from disk.\n",
            "TIMING: dataset construction took 0.087 s\n",
            "Loading dataset from disk.\n"
          ],
          "name": "stdout"
        },
        {
          "output_type": "stream",
          "text": [
            "2021-04-01 21:58:21,440 Wrote model metadata to file ampl_output/CYP3A4_cur_delaney/RF_ecfp_scaffold_regression/b602bfb9-4190-4001-9549-f1770822b72b/model_metadata.json\n",
            "2021-04-01 21:58:23,590 Wrote model metrics to file ampl_output/CYP3A4_cur_delaney/RF_ecfp_scaffold_regression/b602bfb9-4190-4001-9549-f1770822b72b/model_metrics.json\n"
          ],
          "name": "stderr"
        },
        {
          "output_type": "stream",
          "text": [
            "Wrote model tarball to ampl_output/CYP3A4_cur_delaney_model_b602bfb9-4190-4001-9549-f1770822b72b.tar.gz\n",
            "rf_estimators: 128, rf_max_depth: 128, rf_max_features: 128, valid_r2: 0.01691586241324594\n",
            "number of features: 1024\n"
          ],
          "name": "stdout"
        },
        {
          "output_type": "stream",
          "text": [
            "2021-04-01 21:59:39,139 Previous dataset split restored\n"
          ],
          "name": "stderr"
        },
        {
          "output_type": "stream",
          "text": [
            "n_cnt [18642.]\n",
            "y_means [5.19196307]\n",
            "y_stds [1.21382351]\n",
            "TIMING: dataset construction took 0.671 s\n",
            "Loading dataset from disk.\n",
            "TIMING: dataset construction took 0.088 s\n",
            "Loading dataset from disk.\n",
            "TIMING: dataset construction took 0.088 s\n",
            "Loading dataset from disk.\n"
          ],
          "name": "stdout"
        },
        {
          "output_type": "stream",
          "text": [
            "2021-04-01 22:00:05,382 Wrote model metadata to file ampl_output/CYP3A4_cur_delaney/RF_ecfp_scaffold_regression/6aafa49b-dcc9-41e1-b9db-c1c2f656b8c4/model_metadata.json\n",
            "2021-04-01 22:00:07,867 Wrote model metrics to file ampl_output/CYP3A4_cur_delaney/RF_ecfp_scaffold_regression/6aafa49b-dcc9-41e1-b9db-c1c2f656b8c4/model_metrics.json\n"
          ],
          "name": "stderr"
        },
        {
          "output_type": "stream",
          "text": [
            "Wrote model tarball to ampl_output/CYP3A4_cur_delaney_model_6aafa49b-dcc9-41e1-b9db-c1c2f656b8c4.tar.gz\n",
            "rf_estimators: 128, rf_max_depth: 128, rf_max_features: 128, valid_r2: 0.016792872334578268\n",
            "number of features: 1024\n"
          ],
          "name": "stdout"
        },
        {
          "output_type": "stream",
          "text": [
            "2021-04-01 22:01:23,788 Previous dataset split restored\n"
          ],
          "name": "stderr"
        },
        {
          "output_type": "stream",
          "text": [
            "n_cnt [18642.]\n",
            "y_means [5.19196307]\n",
            "y_stds [1.21382351]\n",
            "TIMING: dataset construction took 0.670 s\n",
            "Loading dataset from disk.\n",
            "TIMING: dataset construction took 0.089 s\n",
            "Loading dataset from disk.\n",
            "TIMING: dataset construction took 0.090 s\n",
            "Loading dataset from disk.\n"
          ],
          "name": "stdout"
        },
        {
          "output_type": "stream",
          "text": [
            "2021-04-01 22:01:44,494 Wrote model metadata to file ampl_output/CYP3A4_cur_delaney/RF_ecfp_scaffold_regression/89113ba1-fa92-479a-b2c1-c9ace950b5ed/model_metadata.json\n",
            "2021-04-01 22:01:46,450 Wrote model metrics to file ampl_output/CYP3A4_cur_delaney/RF_ecfp_scaffold_regression/89113ba1-fa92-479a-b2c1-c9ace950b5ed/model_metrics.json\n"
          ],
          "name": "stderr"
        },
        {
          "output_type": "stream",
          "text": [
            "Wrote model tarball to ampl_output/CYP3A4_cur_delaney_model_89113ba1-fa92-479a-b2c1-c9ace950b5ed.tar.gz\n",
            "rf_estimators: 128, rf_max_depth: 128, rf_max_features: 128, valid_r2: 0.017259777027142098\n",
            "number of features: 1024\n"
          ],
          "name": "stdout"
        },
        {
          "output_type": "stream",
          "text": [
            "2021-04-01 22:03:02,298 Previous dataset split restored\n"
          ],
          "name": "stderr"
        },
        {
          "output_type": "stream",
          "text": [
            "n_cnt [18642.]\n",
            "y_means [5.19196307]\n",
            "y_stds [1.21382351]\n",
            "TIMING: dataset construction took 0.658 s\n",
            "Loading dataset from disk.\n",
            "TIMING: dataset construction took 0.086 s\n",
            "Loading dataset from disk.\n",
            "TIMING: dataset construction took 0.087 s\n",
            "Loading dataset from disk.\n"
          ],
          "name": "stdout"
        },
        {
          "output_type": "stream",
          "text": [
            "2021-04-01 22:03:14,142 Wrote model metadata to file ampl_output/CYP3A4_cur_delaney/RF_ecfp_scaffold_regression/49c8dca1-161f-40c2-b456-186c09890680/model_metadata.json\n",
            "2021-04-01 22:03:15,040 Wrote model metrics to file ampl_output/CYP3A4_cur_delaney/RF_ecfp_scaffold_regression/49c8dca1-161f-40c2-b456-186c09890680/model_metrics.json\n"
          ],
          "name": "stderr"
        },
        {
          "output_type": "stream",
          "text": [
            "Wrote model tarball to ampl_output/CYP3A4_cur_delaney_model_49c8dca1-161f-40c2-b456-186c09890680.tar.gz\n",
            "rf_estimators: 128, rf_max_depth: 128, rf_max_features: 128, valid_r2: 0.016086175312020723\n",
            "number of features: 1024\n"
          ],
          "name": "stdout"
        },
        {
          "output_type": "stream",
          "text": [
            "2021-04-01 22:04:30,604 Previous dataset split restored\n"
          ],
          "name": "stderr"
        },
        {
          "output_type": "stream",
          "text": [
            "n_cnt [18642.]\n",
            "y_means [5.19196307]\n",
            "y_stds [1.21382351]\n",
            "TIMING: dataset construction took 0.655 s\n",
            "Loading dataset from disk.\n",
            "TIMING: dataset construction took 0.090 s\n",
            "Loading dataset from disk.\n",
            "TIMING: dataset construction took 0.088 s\n",
            "Loading dataset from disk.\n"
          ],
          "name": "stdout"
        },
        {
          "output_type": "stream",
          "text": [
            "2021-04-01 22:04:45,323 Wrote model metadata to file ampl_output/CYP3A4_cur_delaney/RF_ecfp_scaffold_regression/d66d1d94-11b7-49e1-bedd-3894b93bdc9a/model_metadata.json\n",
            "2021-04-01 22:04:46,536 Wrote model metrics to file ampl_output/CYP3A4_cur_delaney/RF_ecfp_scaffold_regression/d66d1d94-11b7-49e1-bedd-3894b93bdc9a/model_metrics.json\n"
          ],
          "name": "stderr"
        },
        {
          "output_type": "stream",
          "text": [
            "Wrote model tarball to ampl_output/CYP3A4_cur_delaney_model_d66d1d94-11b7-49e1-bedd-3894b93bdc9a.tar.gz\n",
            "rf_estimators: 128, rf_max_depth: 128, rf_max_features: 128, valid_r2: 0.018198414868559554\n",
            "number of features: 1024\n"
          ],
          "name": "stdout"
        },
        {
          "output_type": "stream",
          "text": [
            "2021-04-01 22:06:02,167 Previous dataset split restored\n"
          ],
          "name": "stderr"
        },
        {
          "output_type": "stream",
          "text": [
            "n_cnt [18642.]\n",
            "y_means [5.19196307]\n",
            "y_stds [1.21382351]\n",
            "TIMING: dataset construction took 0.662 s\n",
            "Loading dataset from disk.\n",
            "TIMING: dataset construction took 0.086 s\n",
            "Loading dataset from disk.\n",
            "TIMING: dataset construction took 0.087 s\n",
            "Loading dataset from disk.\n"
          ],
          "name": "stdout"
        },
        {
          "output_type": "stream",
          "text": [
            "2021-04-01 22:06:09,457 Wrote model metadata to file ampl_output/CYP3A4_cur_delaney/RF_ecfp_scaffold_regression/8d3ad9f9-d191-4cf5-8788-fbd9fe4a833b/model_metadata.json\n",
            "2021-04-01 22:06:09,709 Wrote model metrics to file ampl_output/CYP3A4_cur_delaney/RF_ecfp_scaffold_regression/8d3ad9f9-d191-4cf5-8788-fbd9fe4a833b/model_metrics.json\n"
          ],
          "name": "stderr"
        },
        {
          "output_type": "stream",
          "text": [
            "Wrote model tarball to ampl_output/CYP3A4_cur_delaney_model_8d3ad9f9-d191-4cf5-8788-fbd9fe4a833b.tar.gz\n",
            "rf_estimators: 128, rf_max_depth: 128, rf_max_features: 128, valid_r2: 0.021973661650190657\n",
            "number of features: 1024\n"
          ],
          "name": "stdout"
        },
        {
          "output_type": "stream",
          "text": [
            "2021-04-01 22:07:25,224 Previous dataset split restored\n"
          ],
          "name": "stderr"
        },
        {
          "output_type": "stream",
          "text": [
            "n_cnt [18642.]\n",
            "y_means [5.19196307]\n",
            "y_stds [1.21382351]\n",
            "TIMING: dataset construction took 0.658 s\n",
            "Loading dataset from disk.\n",
            "TIMING: dataset construction took 0.088 s\n",
            "Loading dataset from disk.\n",
            "TIMING: dataset construction took 0.088 s\n",
            "Loading dataset from disk.\n"
          ],
          "name": "stdout"
        },
        {
          "output_type": "stream",
          "text": [
            "2021-04-01 22:07:45,150 Wrote model metadata to file ampl_output/CYP3A4_cur_delaney/RF_ecfp_scaffold_regression/0ea809fd-e8ef-4a82-ad38-2a6f54419351/model_metadata.json\n",
            "2021-04-01 22:07:46,607 Wrote model metrics to file ampl_output/CYP3A4_cur_delaney/RF_ecfp_scaffold_regression/0ea809fd-e8ef-4a82-ad38-2a6f54419351/model_metrics.json\n"
          ],
          "name": "stderr"
        },
        {
          "output_type": "stream",
          "text": [
            "Wrote model tarball to ampl_output/CYP3A4_cur_delaney_model_0ea809fd-e8ef-4a82-ad38-2a6f54419351.tar.gz\n",
            "rf_estimators: 128, rf_max_depth: 128, rf_max_features: 128, valid_r2: 0.01653971679235189\n",
            "number of features: 1024\n"
          ],
          "name": "stdout"
        },
        {
          "output_type": "stream",
          "text": [
            "2021-04-01 22:09:02,395 Previous dataset split restored\n"
          ],
          "name": "stderr"
        },
        {
          "output_type": "stream",
          "text": [
            "n_cnt [18642.]\n",
            "y_means [5.19196307]\n",
            "y_stds [1.21382351]\n",
            "TIMING: dataset construction took 0.657 s\n",
            "Loading dataset from disk.\n",
            "TIMING: dataset construction took 0.087 s\n",
            "Loading dataset from disk.\n",
            "TIMING: dataset construction took 0.088 s\n",
            "Loading dataset from disk.\n"
          ],
          "name": "stdout"
        },
        {
          "output_type": "stream",
          "text": [
            "2021-04-01 22:09:49,901 Wrote model metadata to file ampl_output/CYP3A4_cur_delaney/RF_ecfp_scaffold_regression/88980598-6296-4320-b134-9fb7e6caef76/model_metadata.json\n",
            "2021-04-01 22:09:52,243 Wrote model metrics to file ampl_output/CYP3A4_cur_delaney/RF_ecfp_scaffold_regression/88980598-6296-4320-b134-9fb7e6caef76/model_metrics.json\n"
          ],
          "name": "stderr"
        },
        {
          "output_type": "stream",
          "text": [
            "Wrote model tarball to ampl_output/CYP3A4_cur_delaney_model_88980598-6296-4320-b134-9fb7e6caef76.tar.gz\n",
            "rf_estimators: 128, rf_max_depth: 128, rf_max_features: 128, valid_r2: 0.017720314036372198\n",
            "number of features: 1024\n"
          ],
          "name": "stdout"
        },
        {
          "output_type": "stream",
          "text": [
            "2021-04-01 22:11:07,957 Previous dataset split restored\n"
          ],
          "name": "stderr"
        },
        {
          "output_type": "stream",
          "text": [
            "n_cnt [18642.]\n",
            "y_means [5.19196307]\n",
            "y_stds [1.21382351]\n",
            "TIMING: dataset construction took 0.661 s\n",
            "Loading dataset from disk.\n",
            "TIMING: dataset construction took 0.088 s\n",
            "Loading dataset from disk.\n",
            "TIMING: dataset construction took 0.088 s\n",
            "Loading dataset from disk.\n"
          ],
          "name": "stdout"
        },
        {
          "output_type": "stream",
          "text": [
            "2021-04-01 22:11:13,457 Wrote model metadata to file ampl_output/CYP3A4_cur_delaney/RF_ecfp_scaffold_regression/514363ca-f23b-499a-b185-f75c96427a6a/model_metadata.json\n",
            "2021-04-01 22:11:13,506 Wrote model metrics to file ampl_output/CYP3A4_cur_delaney/RF_ecfp_scaffold_regression/514363ca-f23b-499a-b185-f75c96427a6a/model_metrics.json\n"
          ],
          "name": "stderr"
        },
        {
          "output_type": "stream",
          "text": [
            "Wrote model tarball to ampl_output/CYP3A4_cur_delaney_model_514363ca-f23b-499a-b185-f75c96427a6a.tar.gz\n",
            "rf_estimators: 128, rf_max_depth: 128, rf_max_features: 128, valid_r2: 0.010566653211912858\n",
            "number of features: 1024\n"
          ],
          "name": "stdout"
        },
        {
          "output_type": "stream",
          "text": [
            "2021-04-01 22:12:29,103 Previous dataset split restored\n"
          ],
          "name": "stderr"
        },
        {
          "output_type": "stream",
          "text": [
            "n_cnt [18642.]\n",
            "y_means [5.19196307]\n",
            "y_stds [1.21382351]\n",
            "TIMING: dataset construction took 0.656 s\n",
            "Loading dataset from disk.\n",
            "TIMING: dataset construction took 0.087 s\n",
            "Loading dataset from disk.\n",
            "TIMING: dataset construction took 0.087 s\n",
            "Loading dataset from disk.\n"
          ],
          "name": "stdout"
        },
        {
          "output_type": "stream",
          "text": [
            "2021-04-01 22:12:47,620 Wrote model metadata to file ampl_output/CYP3A4_cur_delaney/RF_ecfp_scaffold_regression/be772d59-d8f1-49a3-b94f-8ce142d608f1/model_metadata.json\n",
            "2021-04-01 22:12:47,956 Wrote model metrics to file ampl_output/CYP3A4_cur_delaney/RF_ecfp_scaffold_regression/be772d59-d8f1-49a3-b94f-8ce142d608f1/model_metrics.json\n"
          ],
          "name": "stderr"
        },
        {
          "output_type": "stream",
          "text": [
            "Wrote model tarball to ampl_output/CYP3A4_cur_delaney_model_be772d59-d8f1-49a3-b94f-8ce142d608f1.tar.gz\n",
            "rf_estimators: 128, rf_max_depth: 128, rf_max_features: 128, valid_r2: 0.014560713986218055\n",
            "number of features: 1024\n"
          ],
          "name": "stdout"
        },
        {
          "output_type": "stream",
          "text": [
            "2021-04-01 22:14:03,824 Previous dataset split restored\n"
          ],
          "name": "stderr"
        },
        {
          "output_type": "stream",
          "text": [
            "n_cnt [18642.]\n",
            "y_means [5.19196307]\n",
            "y_stds [1.21382351]\n",
            "TIMING: dataset construction took 0.727 s\n",
            "Loading dataset from disk.\n",
            "TIMING: dataset construction took 0.088 s\n",
            "Loading dataset from disk.\n",
            "TIMING: dataset construction took 0.087 s\n",
            "Loading dataset from disk.\n"
          ],
          "name": "stdout"
        },
        {
          "output_type": "stream",
          "text": [
            "2021-04-01 22:14:28,239 Wrote model metadata to file ampl_output/CYP3A4_cur_delaney/RF_ecfp_scaffold_regression/915bcd17-6bcd-4619-81df-63f71a5ac3b2/model_metadata.json\n",
            "2021-04-01 22:14:29,152 Wrote model metrics to file ampl_output/CYP3A4_cur_delaney/RF_ecfp_scaffold_regression/915bcd17-6bcd-4619-81df-63f71a5ac3b2/model_metrics.json\n"
          ],
          "name": "stderr"
        },
        {
          "output_type": "stream",
          "text": [
            "Wrote model tarball to ampl_output/CYP3A4_cur_delaney_model_915bcd17-6bcd-4619-81df-63f71a5ac3b2.tar.gz\n",
            "rf_estimators: 128, rf_max_depth: 128, rf_max_features: 128, valid_r2: 0.017618790033208875\n",
            "number of features: 1024\n"
          ],
          "name": "stdout"
        },
        {
          "output_type": "stream",
          "text": [
            "2021-04-01 22:15:44,590 Previous dataset split restored\n"
          ],
          "name": "stderr"
        },
        {
          "output_type": "stream",
          "text": [
            "n_cnt [18642.]\n",
            "y_means [5.19196307]\n",
            "y_stds [1.21382351]\n",
            "TIMING: dataset construction took 0.659 s\n",
            "Loading dataset from disk.\n",
            "TIMING: dataset construction took 0.088 s\n",
            "Loading dataset from disk.\n",
            "TIMING: dataset construction took 0.089 s\n",
            "Loading dataset from disk.\n"
          ],
          "name": "stdout"
        },
        {
          "output_type": "stream",
          "text": [
            "2021-04-01 22:16:01,773 Wrote model metadata to file ampl_output/CYP3A4_cur_delaney/RF_ecfp_scaffold_regression/43621a6f-8459-40e8-89a2-6572c202f809/model_metadata.json\n",
            "2021-04-01 22:16:01,963 Wrote model metrics to file ampl_output/CYP3A4_cur_delaney/RF_ecfp_scaffold_regression/43621a6f-8459-40e8-89a2-6572c202f809/model_metrics.json\n"
          ],
          "name": "stderr"
        },
        {
          "output_type": "stream",
          "text": [
            "Wrote model tarball to ampl_output/CYP3A4_cur_delaney_model_43621a6f-8459-40e8-89a2-6572c202f809.tar.gz\n",
            "rf_estimators: 128, rf_max_depth: 128, rf_max_features: 128, valid_r2: 0.014146908631295196\n",
            "number of features: 1024\n"
          ],
          "name": "stdout"
        },
        {
          "output_type": "stream",
          "text": [
            "2021-04-01 22:17:17,313 Previous dataset split restored\n"
          ],
          "name": "stderr"
        },
        {
          "output_type": "stream",
          "text": [
            "n_cnt [18642.]\n",
            "y_means [5.19196307]\n",
            "y_stds [1.21382351]\n",
            "TIMING: dataset construction took 0.655 s\n",
            "Loading dataset from disk.\n",
            "TIMING: dataset construction took 0.088 s\n",
            "Loading dataset from disk.\n",
            "TIMING: dataset construction took 0.087 s\n",
            "Loading dataset from disk.\n"
          ],
          "name": "stdout"
        },
        {
          "output_type": "stream",
          "text": [
            "2021-04-01 22:17:56,490 Wrote model metadata to file ampl_output/CYP3A4_cur_delaney/RF_ecfp_scaffold_regression/cd23bbd0-6f22-4092-b9b7-7fd9b540ff2c/model_metadata.json\n",
            "2021-04-01 22:17:57,874 Wrote model metrics to file ampl_output/CYP3A4_cur_delaney/RF_ecfp_scaffold_regression/cd23bbd0-6f22-4092-b9b7-7fd9b540ff2c/model_metrics.json\n"
          ],
          "name": "stderr"
        },
        {
          "output_type": "stream",
          "text": [
            "Wrote model tarball to ampl_output/CYP3A4_cur_delaney_model_cd23bbd0-6f22-4092-b9b7-7fd9b540ff2c.tar.gz\n",
            "rf_estimators: 128, rf_max_depth: 128, rf_max_features: 128, valid_r2: 0.017903814813814645\n",
            "number of features: 1024\n"
          ],
          "name": "stdout"
        },
        {
          "output_type": "stream",
          "text": [
            "2021-04-01 22:19:13,509 Previous dataset split restored\n"
          ],
          "name": "stderr"
        },
        {
          "output_type": "stream",
          "text": [
            "n_cnt [18642.]\n",
            "y_means [5.19196307]\n",
            "y_stds [1.21382351]\n",
            "TIMING: dataset construction took 0.656 s\n",
            "Loading dataset from disk.\n",
            "TIMING: dataset construction took 0.087 s\n",
            "Loading dataset from disk.\n",
            "TIMING: dataset construction took 0.088 s\n",
            "Loading dataset from disk.\n"
          ],
          "name": "stdout"
        },
        {
          "output_type": "stream",
          "text": [
            "2021-04-01 22:19:21,974 Wrote model metadata to file ampl_output/CYP3A4_cur_delaney/RF_ecfp_scaffold_regression/005320c9-a354-4bb0-a473-090ac9a8b6a9/model_metadata.json\n",
            "2021-04-01 22:19:22,260 Wrote model metrics to file ampl_output/CYP3A4_cur_delaney/RF_ecfp_scaffold_regression/005320c9-a354-4bb0-a473-090ac9a8b6a9/model_metrics.json\n"
          ],
          "name": "stderr"
        },
        {
          "output_type": "stream",
          "text": [
            "Wrote model tarball to ampl_output/CYP3A4_cur_delaney_model_005320c9-a354-4bb0-a473-090ac9a8b6a9.tar.gz\n",
            "rf_estimators: 128, rf_max_depth: 128, rf_max_features: 128, valid_r2: 0.019139945796135427\n",
            "number of features: 1024\n"
          ],
          "name": "stdout"
        },
        {
          "output_type": "stream",
          "text": [
            "2021-04-01 22:20:37,709 Previous dataset split restored\n"
          ],
          "name": "stderr"
        },
        {
          "output_type": "stream",
          "text": [
            "n_cnt [18642.]\n",
            "y_means [5.19196307]\n",
            "y_stds [1.21382351]\n",
            "TIMING: dataset construction took 0.657 s\n",
            "Loading dataset from disk.\n",
            "TIMING: dataset construction took 0.088 s\n",
            "Loading dataset from disk.\n",
            "TIMING: dataset construction took 0.089 s\n",
            "Loading dataset from disk.\n"
          ],
          "name": "stdout"
        },
        {
          "output_type": "stream",
          "text": [
            "2021-04-01 22:21:10,597 Wrote model metadata to file ampl_output/CYP3A4_cur_delaney/RF_ecfp_scaffold_regression/596cc9f0-2448-43bd-bf04-b3ef9e84d80c/model_metadata.json\n",
            "2021-04-01 22:21:11,570 Wrote model metrics to file ampl_output/CYP3A4_cur_delaney/RF_ecfp_scaffold_regression/596cc9f0-2448-43bd-bf04-b3ef9e84d80c/model_metrics.json\n"
          ],
          "name": "stderr"
        },
        {
          "output_type": "stream",
          "text": [
            "Wrote model tarball to ampl_output/CYP3A4_cur_delaney_model_596cc9f0-2448-43bd-bf04-b3ef9e84d80c.tar.gz\n",
            "rf_estimators: 128, rf_max_depth: 128, rf_max_features: 128, valid_r2: 0.016201285636549212\n",
            "number of features: 1024\n"
          ],
          "name": "stdout"
        },
        {
          "output_type": "stream",
          "text": [
            "2021-04-01 22:22:27,120 Previous dataset split restored\n"
          ],
          "name": "stderr"
        },
        {
          "output_type": "stream",
          "text": [
            "n_cnt [18642.]\n",
            "y_means [5.19196307]\n",
            "y_stds [1.21382351]\n",
            "TIMING: dataset construction took 0.663 s\n",
            "Loading dataset from disk.\n",
            "TIMING: dataset construction took 0.089 s\n",
            "Loading dataset from disk.\n",
            "TIMING: dataset construction took 0.087 s\n",
            "Loading dataset from disk.\n"
          ],
          "name": "stdout"
        },
        {
          "output_type": "stream",
          "text": [
            "2021-04-01 22:22:37,010 Wrote model metadata to file ampl_output/CYP3A4_cur_delaney/RF_ecfp_scaffold_regression/ff2a4aba-3b41-4c56-b246-99c0d0f1676d/model_metadata.json\n",
            "2021-04-01 22:22:37,681 Wrote model metrics to file ampl_output/CYP3A4_cur_delaney/RF_ecfp_scaffold_regression/ff2a4aba-3b41-4c56-b246-99c0d0f1676d/model_metrics.json\n"
          ],
          "name": "stderr"
        },
        {
          "output_type": "stream",
          "text": [
            "Wrote model tarball to ampl_output/CYP3A4_cur_delaney_model_ff2a4aba-3b41-4c56-b246-99c0d0f1676d.tar.gz\n",
            "rf_estimators: 128, rf_max_depth: 128, rf_max_features: 128, valid_r2: 0.013679121613869971\n"
          ],
          "name": "stdout"
        }
      ]
    },
    {
      "cell_type": "code",
      "metadata": {
        "id": "EP7Oub5L67o_",
        "colab": {
          "base_uri": "https://localhost:8080/",
          "height": 1000
        },
        "outputId": "b55f9ef2-34b5-4470-f380-2312f07bce2d"
      },
      "source": [
        "perf_df = pd.DataFrame({\"rf_estimators\": rfe_list, \"rf_max_depth\": rfd_list, \"rf_max_features\": rff_list, \"valid_r2_score\": valid_r2_list})\n",
        "perf_df.sort_values(by=\"valid_r2_score\", ascending=False)"
      ],
      "execution_count": 50,
      "outputs": [
        {
          "output_type": "execute_result",
          "data": {
            "text/html": [
              "<div>\n",
              "<style scoped>\n",
              "    .dataframe tbody tr th:only-of-type {\n",
              "        vertical-align: middle;\n",
              "    }\n",
              "\n",
              "    .dataframe tbody tr th {\n",
              "        vertical-align: top;\n",
              "    }\n",
              "\n",
              "    .dataframe thead th {\n",
              "        text-align: right;\n",
              "    }\n",
              "</style>\n",
              "<table border=\"1\" class=\"dataframe\">\n",
              "  <thead>\n",
              "    <tr style=\"text-align: right;\">\n",
              "      <th></th>\n",
              "      <th>rf_estimators</th>\n",
              "      <th>rf_max_depth</th>\n",
              "      <th>rf_max_features</th>\n",
              "      <th>valid_r2_score</th>\n",
              "    </tr>\n",
              "  </thead>\n",
              "  <tbody>\n",
              "    <tr>\n",
              "      <th>39</th>\n",
              "      <td>25</td>\n",
              "      <td>157</td>\n",
              "      <td>68</td>\n",
              "      <td>0.021974</td>\n",
              "    </tr>\n",
              "    <tr>\n",
              "      <th>47</th>\n",
              "      <td>32</td>\n",
              "      <td>67</td>\n",
              "      <td>95</td>\n",
              "      <td>0.019140</td>\n",
              "    </tr>\n",
              "    <tr>\n",
              "      <th>27</th>\n",
              "      <td>196</td>\n",
              "      <td>238</td>\n",
              "      <td>249</td>\n",
              "      <td>0.018961</td>\n",
              "    </tr>\n",
              "    <tr>\n",
              "      <th>11</th>\n",
              "      <td>29</td>\n",
              "      <td>156</td>\n",
              "      <td>241</td>\n",
              "      <td>0.018732</td>\n",
              "    </tr>\n",
              "    <tr>\n",
              "      <th>23</th>\n",
              "      <td>33</td>\n",
              "      <td>32</td>\n",
              "      <td>120</td>\n",
              "      <td>0.018601</td>\n",
              "    </tr>\n",
              "    <tr>\n",
              "      <th>31</th>\n",
              "      <td>50</td>\n",
              "      <td>225</td>\n",
              "      <td>25</td>\n",
              "      <td>0.018357</td>\n",
              "    </tr>\n",
              "    <tr>\n",
              "      <th>38</th>\n",
              "      <td>123</td>\n",
              "      <td>196</td>\n",
              "      <td>56</td>\n",
              "      <td>0.018198</td>\n",
              "    </tr>\n",
              "    <tr>\n",
              "      <th>33</th>\n",
              "      <td>154</td>\n",
              "      <td>98</td>\n",
              "      <td>214</td>\n",
              "      <td>0.018165</td>\n",
              "    </tr>\n",
              "    <tr>\n",
              "      <th>26</th>\n",
              "      <td>164</td>\n",
              "      <td>48</td>\n",
              "      <td>246</td>\n",
              "      <td>0.017968</td>\n",
              "    </tr>\n",
              "    <tr>\n",
              "      <th>46</th>\n",
              "      <td>160</td>\n",
              "      <td>69</td>\n",
              "      <td>222</td>\n",
              "      <td>0.017904</td>\n",
              "    </tr>\n",
              "    <tr>\n",
              "      <th>41</th>\n",
              "      <td>243</td>\n",
              "      <td>113</td>\n",
              "      <td>167</td>\n",
              "      <td>0.017720</td>\n",
              "    </tr>\n",
              "    <tr>\n",
              "      <th>15</th>\n",
              "      <td>161</td>\n",
              "      <td>187</td>\n",
              "      <td>222</td>\n",
              "      <td>0.017664</td>\n",
              "    </tr>\n",
              "    <tr>\n",
              "      <th>20</th>\n",
              "      <td>86</td>\n",
              "      <td>116</td>\n",
              "      <td>117</td>\n",
              "      <td>0.017655</td>\n",
              "    </tr>\n",
              "    <tr>\n",
              "      <th>44</th>\n",
              "      <td>97</td>\n",
              "      <td>111</td>\n",
              "      <td>195</td>\n",
              "      <td>0.017619</td>\n",
              "    </tr>\n",
              "    <tr>\n",
              "      <th>28</th>\n",
              "      <td>180</td>\n",
              "      <td>58</td>\n",
              "      <td>49</td>\n",
              "      <td>0.017576</td>\n",
              "    </tr>\n",
              "    <tr>\n",
              "      <th>32</th>\n",
              "      <td>106</td>\n",
              "      <td>244</td>\n",
              "      <td>188</td>\n",
              "      <td>0.017545</td>\n",
              "    </tr>\n",
              "    <tr>\n",
              "      <th>1</th>\n",
              "      <td>74</td>\n",
              "      <td>252</td>\n",
              "      <td>104</td>\n",
              "      <td>0.017541</td>\n",
              "    </tr>\n",
              "    <tr>\n",
              "      <th>10</th>\n",
              "      <td>199</td>\n",
              "      <td>60</td>\n",
              "      <td>107</td>\n",
              "      <td>0.017457</td>\n",
              "    </tr>\n",
              "    <tr>\n",
              "      <th>18</th>\n",
              "      <td>111</td>\n",
              "      <td>72</td>\n",
              "      <td>106</td>\n",
              "      <td>0.017385</td>\n",
              "    </tr>\n",
              "    <tr>\n",
              "      <th>13</th>\n",
              "      <td>246</td>\n",
              "      <td>128</td>\n",
              "      <td>9</td>\n",
              "      <td>0.017291</td>\n",
              "    </tr>\n",
              "    <tr>\n",
              "      <th>36</th>\n",
              "      <td>197</td>\n",
              "      <td>184</td>\n",
              "      <td>56</td>\n",
              "      <td>0.017260</td>\n",
              "    </tr>\n",
              "    <tr>\n",
              "      <th>8</th>\n",
              "      <td>196</td>\n",
              "      <td>136</td>\n",
              "      <td>251</td>\n",
              "      <td>0.017222</td>\n",
              "    </tr>\n",
              "    <tr>\n",
              "      <th>3</th>\n",
              "      <td>76</td>\n",
              "      <td>177</td>\n",
              "      <td>203</td>\n",
              "      <td>0.017201</td>\n",
              "    </tr>\n",
              "    <tr>\n",
              "      <th>0</th>\n",
              "      <td>112</td>\n",
              "      <td>126</td>\n",
              "      <td>146</td>\n",
              "      <td>0.017171</td>\n",
              "    </tr>\n",
              "    <tr>\n",
              "      <th>30</th>\n",
              "      <td>121</td>\n",
              "      <td>119</td>\n",
              "      <td>31</td>\n",
              "      <td>0.017145</td>\n",
              "    </tr>\n",
              "    <tr>\n",
              "      <th>14</th>\n",
              "      <td>228</td>\n",
              "      <td>87</td>\n",
              "      <td>213</td>\n",
              "      <td>0.017025</td>\n",
              "    </tr>\n",
              "    <tr>\n",
              "      <th>22</th>\n",
              "      <td>243</td>\n",
              "      <td>111</td>\n",
              "      <td>91</td>\n",
              "      <td>0.017009</td>\n",
              "    </tr>\n",
              "    <tr>\n",
              "      <th>34</th>\n",
              "      <td>217</td>\n",
              "      <td>246</td>\n",
              "      <td>52</td>\n",
              "      <td>0.016916</td>\n",
              "    </tr>\n",
              "    <tr>\n",
              "      <th>29</th>\n",
              "      <td>232</td>\n",
              "      <td>156</td>\n",
              "      <td>63</td>\n",
              "      <td>0.016865</td>\n",
              "    </tr>\n",
              "    <tr>\n",
              "      <th>25</th>\n",
              "      <td>205</td>\n",
              "      <td>151</td>\n",
              "      <td>110</td>\n",
              "      <td>0.016860</td>\n",
              "    </tr>\n",
              "    <tr>\n",
              "      <th>12</th>\n",
              "      <td>183</td>\n",
              "      <td>222</td>\n",
              "      <td>231</td>\n",
              "      <td>0.016846</td>\n",
              "    </tr>\n",
              "    <tr>\n",
              "      <th>35</th>\n",
              "      <td>254</td>\n",
              "      <td>149</td>\n",
              "      <td>59</td>\n",
              "      <td>0.016793</td>\n",
              "    </tr>\n",
              "    <tr>\n",
              "      <th>5</th>\n",
              "      <td>126</td>\n",
              "      <td>146</td>\n",
              "      <td>105</td>\n",
              "      <td>0.016660</td>\n",
              "    </tr>\n",
              "    <tr>\n",
              "      <th>7</th>\n",
              "      <td>225</td>\n",
              "      <td>115</td>\n",
              "      <td>66</td>\n",
              "      <td>0.016572</td>\n",
              "    </tr>\n",
              "    <tr>\n",
              "      <th>24</th>\n",
              "      <td>254</td>\n",
              "      <td>35</td>\n",
              "      <td>215</td>\n",
              "      <td>0.016558</td>\n",
              "    </tr>\n",
              "    <tr>\n",
              "      <th>40</th>\n",
              "      <td>150</td>\n",
              "      <td>156</td>\n",
              "      <td>77</td>\n",
              "      <td>0.016540</td>\n",
              "    </tr>\n",
              "    <tr>\n",
              "      <th>4</th>\n",
              "      <td>161</td>\n",
              "      <td>33</td>\n",
              "      <td>220</td>\n",
              "      <td>0.016489</td>\n",
              "    </tr>\n",
              "    <tr>\n",
              "      <th>48</th>\n",
              "      <td>154</td>\n",
              "      <td>41</td>\n",
              "      <td>216</td>\n",
              "      <td>0.016201</td>\n",
              "    </tr>\n",
              "    <tr>\n",
              "      <th>19</th>\n",
              "      <td>65</td>\n",
              "      <td>133</td>\n",
              "      <td>169</td>\n",
              "      <td>0.016159</td>\n",
              "    </tr>\n",
              "    <tr>\n",
              "      <th>37</th>\n",
              "      <td>90</td>\n",
              "      <td>252</td>\n",
              "      <td>50</td>\n",
              "      <td>0.016086</td>\n",
              "    </tr>\n",
              "    <tr>\n",
              "      <th>2</th>\n",
              "      <td>197</td>\n",
              "      <td>92</td>\n",
              "      <td>114</td>\n",
              "      <td>0.015946</td>\n",
              "    </tr>\n",
              "    <tr>\n",
              "      <th>17</th>\n",
              "      <td>157</td>\n",
              "      <td>39</td>\n",
              "      <td>36</td>\n",
              "      <td>0.015799</td>\n",
              "    </tr>\n",
              "    <tr>\n",
              "      <th>9</th>\n",
              "      <td>217</td>\n",
              "      <td>27</td>\n",
              "      <td>36</td>\n",
              "      <td>0.015733</td>\n",
              "    </tr>\n",
              "    <tr>\n",
              "      <th>21</th>\n",
              "      <td>69</td>\n",
              "      <td>123</td>\n",
              "      <td>8</td>\n",
              "      <td>0.015361</td>\n",
              "    </tr>\n",
              "    <tr>\n",
              "      <th>43</th>\n",
              "      <td>176</td>\n",
              "      <td>18</td>\n",
              "      <td>148</td>\n",
              "      <td>0.014561</td>\n",
              "    </tr>\n",
              "    <tr>\n",
              "      <th>16</th>\n",
              "      <td>218</td>\n",
              "      <td>20</td>\n",
              "      <td>250</td>\n",
              "      <td>0.014172</td>\n",
              "    </tr>\n",
              "    <tr>\n",
              "      <th>45</th>\n",
              "      <td>100</td>\n",
              "      <td>18</td>\n",
              "      <td>244</td>\n",
              "      <td>0.014147</td>\n",
              "    </tr>\n",
              "    <tr>\n",
              "      <th>49</th>\n",
              "      <td>128</td>\n",
              "      <td>32</td>\n",
              "      <td>29</td>\n",
              "      <td>0.013679</td>\n",
              "    </tr>\n",
              "    <tr>\n",
              "      <th>42</th>\n",
              "      <td>12</td>\n",
              "      <td>25</td>\n",
              "      <td>60</td>\n",
              "      <td>0.010567</td>\n",
              "    </tr>\n",
              "    <tr>\n",
              "      <th>6</th>\n",
              "      <td>182</td>\n",
              "      <td>8</td>\n",
              "      <td>101</td>\n",
              "      <td>0.010194</td>\n",
              "    </tr>\n",
              "  </tbody>\n",
              "</table>\n",
              "</div>"
            ],
            "text/plain": [
              "    rf_estimators  rf_max_depth  rf_max_features  valid_r2_score\n",
              "39             25           157               68        0.021974\n",
              "47             32            67               95        0.019140\n",
              "27            196           238              249        0.018961\n",
              "11             29           156              241        0.018732\n",
              "23             33            32              120        0.018601\n",
              "31             50           225               25        0.018357\n",
              "38            123           196               56        0.018198\n",
              "33            154            98              214        0.018165\n",
              "26            164            48              246        0.017968\n",
              "46            160            69              222        0.017904\n",
              "41            243           113              167        0.017720\n",
              "15            161           187              222        0.017664\n",
              "20             86           116              117        0.017655\n",
              "44             97           111              195        0.017619\n",
              "28            180            58               49        0.017576\n",
              "32            106           244              188        0.017545\n",
              "1              74           252              104        0.017541\n",
              "10            199            60              107        0.017457\n",
              "18            111            72              106        0.017385\n",
              "13            246           128                9        0.017291\n",
              "36            197           184               56        0.017260\n",
              "8             196           136              251        0.017222\n",
              "3              76           177              203        0.017201\n",
              "0             112           126              146        0.017171\n",
              "30            121           119               31        0.017145\n",
              "14            228            87              213        0.017025\n",
              "22            243           111               91        0.017009\n",
              "34            217           246               52        0.016916\n",
              "29            232           156               63        0.016865\n",
              "25            205           151              110        0.016860\n",
              "12            183           222              231        0.016846\n",
              "35            254           149               59        0.016793\n",
              "5             126           146              105        0.016660\n",
              "7             225           115               66        0.016572\n",
              "24            254            35              215        0.016558\n",
              "40            150           156               77        0.016540\n",
              "4             161            33              220        0.016489\n",
              "48            154            41              216        0.016201\n",
              "19             65           133              169        0.016159\n",
              "37             90           252               50        0.016086\n",
              "2             197            92              114        0.015946\n",
              "17            157            39               36        0.015799\n",
              "9             217            27               36        0.015733\n",
              "21             69           123                8        0.015361\n",
              "43            176            18              148        0.014561\n",
              "16            218            20              250        0.014172\n",
              "45            100            18              244        0.014147\n",
              "49            128            32               29        0.013679\n",
              "42             12            25               60        0.010567\n",
              "6             182             8              101        0.010194"
            ]
          },
          "metadata": {
            "tags": []
          },
          "execution_count": 50
        }
      ]
    },
    {
      "cell_type": "code",
      "metadata": {
        "id": "hL40_7KF6-BT",
        "colab": {
          "base_uri": "https://localhost:8080/",
          "height": 434
        },
        "outputId": "7195681e-83a2-46c3-d6ad-3354e92ffedc"
      },
      "source": [
        "fig, ax = plt.subplots(1,3,figsize=(21,7))\n",
        "sns.scatterplot(data=perf_df, x=\"rf_estimators\", y=\"valid_r2_score\", ax=ax[0])\n",
        "sns.scatterplot(data=perf_df, x=\"rf_max_depth\", y=\"valid_r2_score\", ax=ax[1])\n",
        "sns.scatterplot(data=perf_df, x=\"rf_max_features\", y=\"valid_r2_score\", ax=ax[2])\n",
        "fig.tight_layout()"
      ],
      "execution_count": 51,
      "outputs": [
        {
          "output_type": "display_data",
          "data": {
            "image/png": "[encoded data removed]",
            "text/plain": [
              "<Figure size 1512x504 with 3 Axes>"
            ]
          },
          "metadata": {
            "tags": []
          }
        }
      ]
    },
    {
      "cell_type": "markdown",
      "metadata": {
        "id": "Za2roo8B7AfH"
      },
      "source": [
        "### Bayesian search"
      ]
    },
    {
      "cell_type": "code",
      "metadata": {
        "id": "iIHILV2R7Fz4"
      },
      "source": [
        "#define loss function\n",
        "def lossfn(p):\n",
        "    params[\"rf_estimators\"] = int(p[\"rf_estimator\"])\n",
        "    params[\"rf_max_depth\"] = int(p[\"rf_depth\"])\n",
        "    params[\"rf_max_features\"] = int(p[\"rf_feature\"])\n",
        "    \n",
        "    tparam = parse.wrapper(params)\n",
        "    pl = mp.ModelPipeline(tparam)\n",
        "    pl.train_model()\n",
        "    perf_data = pl.model_wrapper.get_perf_data(subset=\"valid\", epoch_label=\"best\")\n",
        "    pred_results = perf_data.get_prediction_results()\n",
        "    r2 = pred_results['r2_score']\n",
        "    return {'loss': 1-r2, \n",
        "            'status': STATUS_OK, \n",
        "            'model': tparam.model_tarball_path, \n",
        "            'rf_estimator': params[\"rf_estimators\"],\n",
        "            'rf_depth': params[\"rf_max_depth\"],\n",
        "            'rf_feature': params[\"rf_max_features\"]}\n",
        "\n",
        "space = {\n",
        "    \"rf_estimator\": hp.uniform(\"rf_estimator\", 8, 256),\n",
        "    \"rf_depth\": hp.uniform(\"rf_depth\", 8, 256),\n",
        "    \"rf_feature\": hp.uniform(\"rf_feature\", 8, 256)\n",
        "}"
      ],
      "execution_count": 52,
      "outputs": []
    },
    {
      "cell_type": "code",
      "metadata": {
        "id": "ndFs9n6f7G-Y",
        "colab": {
          "base_uri": "https://localhost:8080/"
        },
        "outputId": "d1ccbaa8-9da4-47c3-fefa-e80a5f096eaa"
      },
      "source": [
        "trials = Trials()\n",
        "best = fmin(lossfn, space, algo=tpe.suggest, max_evals=20, trials=trials)"
      ],
      "execution_count": 53,
      "outputs": [
        {
          "output_type": "stream",
          "text": [
            "number of features: 1024\n",
            "  0%|          | 0/20 [01:11<?, ?it/s, best loss: ?]"
          ],
          "name": "stdout"
        },
        {
          "output_type": "stream",
          "text": [
            "2021-04-01 22:25:24,282 Previous dataset split restored\n"
          ],
          "name": "stderr"
        },
        {
          "output_type": "stream",
          "text": [
            "n_cnt\n",
            "[18642.]\n",
            "y_means\n",
            "[5.19196307]\n",
            "y_stds\n",
            "[1.21382351]\n",
            "TIMING: dataset construction took 0.661 s\n",
            "Loading dataset from disk.\n",
            "TIMING: dataset construction took 0.089 s\n",
            "Loading dataset from disk.\n",
            "TIMING: dataset construction took 0.091 s\n",
            "Loading dataset from disk.\n",
            "  0%|          | 0/20 [01:17<?, ?it/s, best loss: ?]"
          ],
          "name": "stdout"
        },
        {
          "output_type": "stream",
          "text": [
            "2021-04-01 22:25:47,627 Wrote model metadata to file ampl_output/CYP3A4_cur_delaney/RF_ecfp_scaffold_regression/be0f71e6-a1a7-4e9c-b1be-438336c557fd/model_metadata.json\n"
          ],
          "name": "stderr"
        },
        {
          "output_type": "stream",
          "text": [
            "Wrote model tarball to ampl_output/CYP3A4_cur_delaney_model_be0f71e6-a1a7-4e9c-b1be-438336c557fd.tar.gz\n",
            "  0%|          | 0/20 [01:39<?, ?it/s, best loss: ?]"
          ],
          "name": "stdout"
        },
        {
          "output_type": "stream",
          "text": [
            "2021-04-01 22:25:48,276 Wrote model metrics to file ampl_output/CYP3A4_cur_delaney/RF_ecfp_scaffold_regression/be0f71e6-a1a7-4e9c-b1be-438336c557fd/model_metrics.json\n"
          ],
          "name": "stderr"
        },
        {
          "output_type": "stream",
          "text": [
            "number of features: 1024\n",
            "  5%|▌         | 1/20 [02:50<31:36, 99.84s/it, best loss: 0.9830315736597234]"
          ],
          "name": "stdout"
        },
        {
          "output_type": "stream",
          "text": [
            "2021-04-01 22:27:04,049 Previous dataset split restored\n"
          ],
          "name": "stderr"
        },
        {
          "output_type": "stream",
          "text": [
            "n_cnt\n",
            "[18642.]\n",
            "y_means\n",
            "[5.19196307]\n",
            "y_stds\n",
            "[1.21382351]\n",
            "TIMING: dataset construction took 0.676 s\n",
            "Loading dataset from disk.\n",
            "TIMING: dataset construction took 0.091 s\n",
            "Loading dataset from disk.\n",
            "TIMING: dataset construction took 0.089 s\n",
            "Loading dataset from disk.\n",
            "  5%|▌         | 1/20 [02:57<31:36, 99.84s/it, best loss: 0.9830315736597234]"
          ],
          "name": "stdout"
        },
        {
          "output_type": "stream",
          "text": [
            "2021-04-01 22:27:47,118 Wrote model metadata to file ampl_output/CYP3A4_cur_delaney/RF_ecfp_scaffold_regression/d21398fd-4ec1-46e8-b0b3-41b65beb7a1b/model_metadata.json\n"
          ],
          "name": "stderr"
        },
        {
          "output_type": "stream",
          "text": [
            "Wrote model tarball to ampl_output/CYP3A4_cur_delaney_model_d21398fd-4ec1-46e8-b0b3-41b65beb7a1b.tar.gz\n",
            "  5%|▌         | 1/20 [03:40<31:36, 99.84s/it, best loss: 0.9830315736597234]"
          ],
          "name": "stdout"
        },
        {
          "output_type": "stream",
          "text": [
            "2021-04-01 22:27:48,709 Wrote model metrics to file ampl_output/CYP3A4_cur_delaney/RF_ecfp_scaffold_regression/d21398fd-4ec1-46e8-b0b3-41b65beb7a1b/model_metrics.json\n"
          ],
          "name": "stderr"
        },
        {
          "output_type": "stream",
          "text": [
            "number of features: 1024\n",
            " 10%|█         | 2/20 [04:51<31:48, 106.02s/it, best loss: 0.9830315736597234]"
          ],
          "name": "stdout"
        },
        {
          "output_type": "stream",
          "text": [
            "2021-04-01 22:29:04,428 Previous dataset split restored\n"
          ],
          "name": "stderr"
        },
        {
          "output_type": "stream",
          "text": [
            "n_cnt\n",
            "[18642.]\n",
            "y_means\n",
            "[5.19196307]\n",
            "y_stds\n",
            "[1.21382351]\n",
            "TIMING: dataset construction took 0.660 s\n",
            "Loading dataset from disk.\n",
            "TIMING: dataset construction took 0.089 s\n",
            "Loading dataset from disk.\n",
            "TIMING: dataset construction took 0.089 s\n",
            "Loading dataset from disk.\n",
            " 10%|█         | 2/20 [04:57<31:48, 106.02s/it, best loss: 0.9830315736597234]"
          ],
          "name": "stdout"
        },
        {
          "output_type": "stream",
          "text": [
            "2021-04-01 22:29:44,174 Wrote model metadata to file ampl_output/CYP3A4_cur_delaney/RF_ecfp_scaffold_regression/b4950c8a-9ee6-4879-8461-e7272a945396/model_metadata.json\n"
          ],
          "name": "stderr"
        },
        {
          "output_type": "stream",
          "text": [
            "Wrote model tarball to ampl_output/CYP3A4_cur_delaney_model_b4950c8a-9ee6-4879-8461-e7272a945396.tar.gz\n",
            " 10%|█         | 2/20 [05:38<31:48, 106.02s/it, best loss: 0.9830315736597234]"
          ],
          "name": "stdout"
        },
        {
          "output_type": "stream",
          "text": [
            "2021-04-01 22:29:46,458 Wrote model metrics to file ampl_output/CYP3A4_cur_delaney/RF_ecfp_scaffold_regression/b4950c8a-9ee6-4879-8461-e7272a945396/model_metrics.json\n"
          ],
          "name": "stderr"
        },
        {
          "output_type": "stream",
          "text": [
            "number of features: 1024\n",
            " 15%|█▌        | 3/20 [06:49<31:02, 109.55s/it, best loss: 0.9830315736597234]"
          ],
          "name": "stdout"
        },
        {
          "output_type": "stream",
          "text": [
            "2021-04-01 22:31:02,325 Previous dataset split restored\n"
          ],
          "name": "stderr"
        },
        {
          "output_type": "stream",
          "text": [
            "n_cnt\n",
            "[18642.]\n",
            "y_means\n",
            "[5.19196307]\n",
            "y_stds\n",
            "[1.21382351]\n",
            "TIMING: dataset construction took 0.664 s\n",
            "Loading dataset from disk.\n",
            "TIMING: dataset construction took 0.092 s\n",
            "Loading dataset from disk.\n",
            "TIMING: dataset construction took 0.093 s\n",
            "Loading dataset from disk.\n",
            " 15%|█▌        | 3/20 [06:55<31:02, 109.55s/it, best loss: 0.9830315736597234]"
          ],
          "name": "stdout"
        },
        {
          "output_type": "stream",
          "text": [
            "2021-04-01 22:31:09,524 Wrote model metadata to file ampl_output/CYP3A4_cur_delaney/RF_ecfp_scaffold_regression/e5738617-dd2a-4ca6-860d-526ee7af0f10/model_metadata.json\n"
          ],
          "name": "stderr"
        },
        {
          "output_type": "stream",
          "text": [
            "Wrote model tarball to ampl_output/CYP3A4_cur_delaney_model_e5738617-dd2a-4ca6-860d-526ee7af0f10.tar.gz\n",
            " 15%|█▌        | 3/20 [07:01<31:02, 109.55s/it, best loss: 0.9830315736597234]"
          ],
          "name": "stdout"
        },
        {
          "output_type": "stream",
          "text": [
            "2021-04-01 22:31:09,580 Wrote model metrics to file ampl_output/CYP3A4_cur_delaney/RF_ecfp_scaffold_regression/e5738617-dd2a-4ca6-860d-526ee7af0f10/model_metrics.json\n"
          ],
          "name": "stderr"
        },
        {
          "output_type": "stream",
          "text": [
            "number of features: 1024\n",
            " 20%|██        | 4/20 [08:12<27:05, 101.60s/it, best loss: 0.9830315736597234]"
          ],
          "name": "stdout"
        },
        {
          "output_type": "stream",
          "text": [
            "2021-04-01 22:32:25,125 Previous dataset split restored\n"
          ],
          "name": "stderr"
        },
        {
          "output_type": "stream",
          "text": [
            "n_cnt\n",
            "[18642.]\n",
            "y_means\n",
            "[5.19196307]\n",
            "y_stds\n",
            "[1.21382351]\n",
            "TIMING: dataset construction took 0.663 s\n",
            "Loading dataset from disk.\n",
            "TIMING: dataset construction took 0.088 s\n",
            "Loading dataset from disk.\n",
            "TIMING: dataset construction took 0.093 s\n",
            "Loading dataset from disk.\n",
            " 20%|██        | 4/20 [08:18<27:05, 101.60s/it, best loss: 0.9830315736597234]"
          ],
          "name": "stdout"
        },
        {
          "output_type": "stream",
          "text": [
            "2021-04-01 22:32:54,894 Wrote model metadata to file ampl_output/CYP3A4_cur_delaney/RF_ecfp_scaffold_regression/af8010a0-2467-4ff7-b9f0-98a8d40267e7/model_metadata.json\n"
          ],
          "name": "stderr"
        },
        {
          "output_type": "stream",
          "text": [
            "Wrote model tarball to ampl_output/CYP3A4_cur_delaney_model_af8010a0-2467-4ff7-b9f0-98a8d40267e7.tar.gz\n",
            " 20%|██        | 4/20 [08:47<27:05, 101.60s/it, best loss: 0.9830315736597234]"
          ],
          "name": "stdout"
        },
        {
          "output_type": "stream",
          "text": [
            "2021-04-01 22:32:55,977 Wrote model metrics to file ampl_output/CYP3A4_cur_delaney/RF_ecfp_scaffold_regression/af8010a0-2467-4ff7-b9f0-98a8d40267e7/model_metrics.json\n"
          ],
          "name": "stderr"
        },
        {
          "output_type": "stream",
          "text": [
            "number of features: 1024\n",
            " 25%|██▌       | 5/20 [09:59<25:45, 103.04s/it, best loss: 0.9830315736597234]"
          ],
          "name": "stdout"
        },
        {
          "output_type": "stream",
          "text": [
            "2021-04-01 22:34:12,063 Previous dataset split restored\n"
          ],
          "name": "stderr"
        },
        {
          "output_type": "stream",
          "text": [
            "n_cnt\n",
            "[18642.]\n",
            "y_means\n",
            "[5.19196307]\n",
            "y_stds\n",
            "[1.21382351]\n",
            "TIMING: dataset construction took 0.656 s\n",
            "Loading dataset from disk.\n",
            "TIMING: dataset construction took 0.086 s\n",
            "Loading dataset from disk.\n",
            "TIMING: dataset construction took 0.089 s\n",
            "Loading dataset from disk.\n",
            " 25%|██▌       | 5/20 [10:05<25:45, 103.04s/it, best loss: 0.9830315736597234]"
          ],
          "name": "stdout"
        },
        {
          "output_type": "stream",
          "text": [
            "2021-04-01 22:34:49,234 Wrote model metadata to file ampl_output/CYP3A4_cur_delaney/RF_ecfp_scaffold_regression/c0fbd212-e242-433f-b0ac-f46c26a519fe/model_metadata.json\n"
          ],
          "name": "stderr"
        },
        {
          "output_type": "stream",
          "text": [
            "Wrote model tarball to ampl_output/CYP3A4_cur_delaney_model_c0fbd212-e242-433f-b0ac-f46c26a519fe.tar.gz\n",
            " 25%|██▌       | 5/20 [10:42<25:45, 103.04s/it, best loss: 0.9830315736597234]"
          ],
          "name": "stdout"
        },
        {
          "output_type": "stream",
          "text": [
            "2021-04-01 22:34:50,615 Wrote model metrics to file ampl_output/CYP3A4_cur_delaney/RF_ecfp_scaffold_regression/c0fbd212-e242-433f-b0ac-f46c26a519fe/model_metrics.json\n"
          ],
          "name": "stderr"
        },
        {
          "output_type": "stream",
          "text": [
            "number of features: 1024\n",
            " 30%|███       | 6/20 [11:53<24:51, 106.52s/it, best loss: 0.9814497066360043]"
          ],
          "name": "stdout"
        },
        {
          "output_type": "stream",
          "text": [
            "2021-04-01 22:36:06,744 Previous dataset split restored\n"
          ],
          "name": "stderr"
        },
        {
          "output_type": "stream",
          "text": [
            "n_cnt\n",
            "[18642.]\n",
            "y_means\n",
            "[5.19196307]\n",
            "y_stds\n",
            "[1.21382351]\n",
            "TIMING: dataset construction took 0.647 s\n",
            "Loading dataset from disk.\n",
            "TIMING: dataset construction took 0.087 s\n",
            "Loading dataset from disk.\n",
            "TIMING: dataset construction took 0.086 s\n",
            "Loading dataset from disk.\n",
            " 30%|███       | 6/20 [11:59<24:51, 106.52s/it, best loss: 0.9814497066360043]"
          ],
          "name": "stdout"
        },
        {
          "output_type": "stream",
          "text": [
            "2021-04-01 22:36:15,594 Wrote model metadata to file ampl_output/CYP3A4_cur_delaney/RF_ecfp_scaffold_regression/60a2211f-78b5-413d-875e-544c0c2e8c32/model_metadata.json\n"
          ],
          "name": "stderr"
        },
        {
          "output_type": "stream",
          "text": [
            "Wrote model tarball to ampl_output/CYP3A4_cur_delaney_model_60a2211f-78b5-413d-875e-544c0c2e8c32.tar.gz\n",
            " 30%|███       | 6/20 [12:07<24:51, 106.52s/it, best loss: 0.9814497066360043]"
          ],
          "name": "stdout"
        },
        {
          "output_type": "stream",
          "text": [
            "2021-04-01 22:36:16,050 Wrote model metrics to file ampl_output/CYP3A4_cur_delaney/RF_ecfp_scaffold_regression/60a2211f-78b5-413d-875e-544c0c2e8c32/model_metrics.json\n"
          ],
          "name": "stderr"
        },
        {
          "output_type": "stream",
          "text": [
            "number of features: 1024\n",
            " 35%|███▌      | 7/20 [13:18<21:42, 100.19s/it, best loss: 0.9814497066360043]"
          ],
          "name": "stdout"
        },
        {
          "output_type": "stream",
          "text": [
            "2021-04-01 22:37:31,810 Previous dataset split restored\n"
          ],
          "name": "stderr"
        },
        {
          "output_type": "stream",
          "text": [
            "n_cnt\n",
            "[18642.]\n",
            "y_means\n",
            "[5.19196307]\n",
            "y_stds\n",
            "[1.21382351]\n",
            "TIMING: dataset construction took 0.650 s\n",
            "Loading dataset from disk.\n",
            "TIMING: dataset construction took 0.085 s\n",
            "Loading dataset from disk.\n",
            "TIMING: dataset construction took 0.085 s\n",
            "Loading dataset from disk.\n",
            " 35%|███▌      | 7/20 [13:24<21:42, 100.19s/it, best loss: 0.9814497066360043]"
          ],
          "name": "stdout"
        },
        {
          "output_type": "stream",
          "text": [
            "2021-04-01 22:38:05,145 Wrote model metadata to file ampl_output/CYP3A4_cur_delaney/RF_ecfp_scaffold_regression/5f1e7734-c44e-4431-a5d5-cb3f0b140d5b/model_metadata.json\n"
          ],
          "name": "stderr"
        },
        {
          "output_type": "stream",
          "text": [
            "Wrote model tarball to ampl_output/CYP3A4_cur_delaney_model_5f1e7734-c44e-4431-a5d5-cb3f0b140d5b.tar.gz\n",
            " 35%|███▌      | 7/20 [13:58<21:42, 100.19s/it, best loss: 0.9814497066360043]"
          ],
          "name": "stdout"
        },
        {
          "output_type": "stream",
          "text": [
            "2021-04-01 22:38:06,501 Wrote model metrics to file ampl_output/CYP3A4_cur_delaney/RF_ecfp_scaffold_regression/5f1e7734-c44e-4431-a5d5-cb3f0b140d5b/model_metrics.json\n"
          ],
          "name": "stderr"
        },
        {
          "output_type": "stream",
          "text": [
            "number of features: 1024\n",
            " 40%|████      | 8/20 [15:09<20:39, 103.27s/it, best loss: 0.9814497066360043]"
          ],
          "name": "stdout"
        },
        {
          "output_type": "stream",
          "text": [
            "2021-04-01 22:39:22,023 Previous dataset split restored\n"
          ],
          "name": "stderr"
        },
        {
          "output_type": "stream",
          "text": [
            "n_cnt\n",
            "[18642.]\n",
            "y_means\n",
            "[5.19196307]\n",
            "y_stds\n",
            "[1.21382351]\n",
            "TIMING: dataset construction took 0.650 s\n",
            "Loading dataset from disk.\n",
            "TIMING: dataset construction took 0.088 s\n",
            "Loading dataset from disk.\n",
            "TIMING: dataset construction took 0.088 s\n",
            "Loading dataset from disk.\n",
            " 40%|████      | 8/20 [15:14<20:39, 103.27s/it, best loss: 0.9814497066360043]"
          ],
          "name": "stdout"
        },
        {
          "output_type": "stream",
          "text": [
            "2021-04-01 22:40:00,464 Wrote model metadata to file ampl_output/CYP3A4_cur_delaney/RF_ecfp_scaffold_regression/08bc9e30-56f6-4c39-8b82-a5c5534fba14/model_metadata.json\n"
          ],
          "name": "stderr"
        },
        {
          "output_type": "stream",
          "text": [
            "Wrote model tarball to ampl_output/CYP3A4_cur_delaney_model_08bc9e30-56f6-4c39-8b82-a5c5534fba14.tar.gz\n",
            " 40%|████      | 8/20 [15:54<20:39, 103.27s/it, best loss: 0.9814497066360043]"
          ],
          "name": "stdout"
        },
        {
          "output_type": "stream",
          "text": [
            "2021-04-01 22:40:02,848 Wrote model metrics to file ampl_output/CYP3A4_cur_delaney/RF_ecfp_scaffold_regression/08bc9e30-56f6-4c39-8b82-a5c5534fba14/model_metrics.json\n"
          ],
          "name": "stderr"
        },
        {
          "output_type": "stream",
          "text": [
            "number of features: 1024\n",
            " 45%|████▌     | 9/20 [17:05<19:39, 107.22s/it, best loss: 0.9814497066360043]"
          ],
          "name": "stdout"
        },
        {
          "output_type": "stream",
          "text": [
            "2021-04-01 22:41:18,842 Previous dataset split restored\n"
          ],
          "name": "stderr"
        },
        {
          "output_type": "stream",
          "text": [
            "n_cnt\n",
            "[18642.]\n",
            "y_means\n",
            "[5.19196307]\n",
            "y_stds\n",
            "[1.21382351]\n",
            "TIMING: dataset construction took 0.655 s\n",
            "Loading dataset from disk.\n",
            "TIMING: dataset construction took 0.086 s\n",
            "Loading dataset from disk.\n",
            "TIMING: dataset construction took 0.086 s\n",
            "Loading dataset from disk.\n",
            " 45%|████▌     | 9/20 [17:11<19:39, 107.22s/it, best loss: 0.9814497066360043]"
          ],
          "name": "stdout"
        },
        {
          "output_type": "stream",
          "text": [
            "2021-04-01 22:41:24,535 Wrote model metadata to file ampl_output/CYP3A4_cur_delaney/RF_ecfp_scaffold_regression/8f3424af-94af-4e37-8861-8903ae506ab7/model_metadata.json\n"
          ],
          "name": "stderr"
        },
        {
          "output_type": "stream",
          "text": [
            "Wrote model tarball to ampl_output/CYP3A4_cur_delaney_model_8f3424af-94af-4e37-8861-8903ae506ab7.tar.gz\n",
            " 45%|████▌     | 9/20 [17:16<19:39, 107.22s/it, best loss: 0.9814497066360043]"
          ],
          "name": "stdout"
        },
        {
          "output_type": "stream",
          "text": [
            "2021-04-01 22:41:24,651 Wrote model metrics to file ampl_output/CYP3A4_cur_delaney/RF_ecfp_scaffold_regression/8f3424af-94af-4e37-8861-8903ae506ab7/model_metrics.json\n"
          ],
          "name": "stderr"
        },
        {
          "output_type": "stream",
          "text": [
            "number of features: 1024\n",
            " 50%|█████     | 10/20 [18:27<16:35, 99.57s/it, best loss: 0.9814497066360043]"
          ],
          "name": "stdout"
        },
        {
          "output_type": "stream",
          "text": [
            "2021-04-01 22:42:40,168 Previous dataset split restored\n"
          ],
          "name": "stderr"
        },
        {
          "output_type": "stream",
          "text": [
            "n_cnt\n",
            "[18642.]\n",
            "y_means\n",
            "[5.19196307]\n",
            "y_stds\n",
            "[1.21382351]\n",
            "TIMING: dataset construction took 0.658 s\n",
            "Loading dataset from disk.\n",
            "TIMING: dataset construction took 0.086 s\n",
            "Loading dataset from disk.\n",
            "TIMING: dataset construction took 0.086 s\n",
            "Loading dataset from disk.\n",
            " 50%|█████     | 10/20 [18:33<16:35, 99.57s/it, best loss: 0.9814497066360043]"
          ],
          "name": "stdout"
        },
        {
          "output_type": "stream",
          "text": [
            "2021-04-01 22:42:54,593 Wrote model metadata to file ampl_output/CYP3A4_cur_delaney/RF_ecfp_scaffold_regression/2edfc039-abc2-4a07-924d-cd0e20f8ac04/model_metadata.json\n"
          ],
          "name": "stderr"
        },
        {
          "output_type": "stream",
          "text": [
            "Wrote model tarball to ampl_output/CYP3A4_cur_delaney_model_2edfc039-abc2-4a07-924d-cd0e20f8ac04.tar.gz\n",
            " 50%|█████     | 10/20 [18:47<16:35, 99.57s/it, best loss: 0.9814497066360043]"
          ],
          "name": "stdout"
        },
        {
          "output_type": "stream",
          "text": [
            "2021-04-01 22:42:55,992 Wrote model metrics to file ampl_output/CYP3A4_cur_delaney/RF_ecfp_scaffold_regression/2edfc039-abc2-4a07-924d-cd0e20f8ac04/model_metrics.json\n"
          ],
          "name": "stderr"
        },
        {
          "output_type": "stream",
          "text": [
            "number of features: 1024\n",
            " 55%|█████▌    | 11/20 [19:58<14:33, 97.11s/it, best loss: 0.9814497066360043]"
          ],
          "name": "stdout"
        },
        {
          "output_type": "stream",
          "text": [
            "2021-04-01 22:44:11,801 Previous dataset split restored\n"
          ],
          "name": "stderr"
        },
        {
          "output_type": "stream",
          "text": [
            "n_cnt\n",
            "[18642.]\n",
            "y_means\n",
            "[5.19196307]\n",
            "y_stds\n",
            "[1.21382351]\n",
            "TIMING: dataset construction took 0.647 s\n",
            "Loading dataset from disk.\n",
            "TIMING: dataset construction took 0.089 s\n",
            "Loading dataset from disk.\n",
            "TIMING: dataset construction took 0.088 s\n",
            "Loading dataset from disk.\n",
            " 55%|█████▌    | 11/20 [20:04<14:33, 97.11s/it, best loss: 0.9814497066360043]"
          ],
          "name": "stdout"
        },
        {
          "output_type": "stream",
          "text": [
            "2021-04-01 22:44:24,363 Wrote model metadata to file ampl_output/CYP3A4_cur_delaney/RF_ecfp_scaffold_regression/0e7b85b4-f783-47d1-9e77-87d8e6ce72cc/model_metadata.json\n"
          ],
          "name": "stderr"
        },
        {
          "output_type": "stream",
          "text": [
            "Wrote model tarball to ampl_output/CYP3A4_cur_delaney_model_0e7b85b4-f783-47d1-9e77-87d8e6ce72cc.tar.gz\n",
            " 55%|█████▌    | 11/20 [20:17<14:33, 97.11s/it, best loss: 0.9814497066360043]"
          ],
          "name": "stdout"
        },
        {
          "output_type": "stream",
          "text": [
            "2021-04-01 22:44:25,536 Wrote model metrics to file ampl_output/CYP3A4_cur_delaney/RF_ecfp_scaffold_regression/0e7b85b4-f783-47d1-9e77-87d8e6ce72cc/model_metrics.json\n"
          ],
          "name": "stderr"
        },
        {
          "output_type": "stream",
          "text": [
            "number of features: 1024\n",
            " 60%|██████    | 12/20 [21:28<12:38, 94.84s/it, best loss: 0.9814497066360043]"
          ],
          "name": "stdout"
        },
        {
          "output_type": "stream",
          "text": [
            "2021-04-01 22:45:41,192 Previous dataset split restored\n"
          ],
          "name": "stderr"
        },
        {
          "output_type": "stream",
          "text": [
            "n_cnt\n",
            "[18642.]\n",
            "y_means\n",
            "[5.19196307]\n",
            "y_stds\n",
            "[1.21382351]\n",
            "TIMING: dataset construction took 0.678 s\n",
            "Loading dataset from disk.\n",
            "TIMING: dataset construction took 0.088 s\n",
            "Loading dataset from disk.\n",
            "TIMING: dataset construction took 0.090 s\n",
            "Loading dataset from disk.\n",
            " 60%|██████    | 12/20 [21:34<12:38, 94.84s/it, best loss: 0.9814497066360043]"
          ],
          "name": "stdout"
        },
        {
          "output_type": "stream",
          "text": [
            "2021-04-01 22:46:05,128 Wrote model metadata to file ampl_output/CYP3A4_cur_delaney/RF_ecfp_scaffold_regression/08c8d2dd-cd40-429b-8a5f-c71790c7ee67/model_metadata.json\n"
          ],
          "name": "stderr"
        },
        {
          "output_type": "stream",
          "text": [
            "Wrote model tarball to ampl_output/CYP3A4_cur_delaney_model_08c8d2dd-cd40-429b-8a5f-c71790c7ee67.tar.gz\n",
            " 60%|██████    | 12/20 [21:57<12:38, 94.84s/it, best loss: 0.9814497066360043]"
          ],
          "name": "stdout"
        },
        {
          "output_type": "stream",
          "text": [
            "2021-04-01 22:46:05,700 Wrote model metrics to file ampl_output/CYP3A4_cur_delaney/RF_ecfp_scaffold_regression/08c8d2dd-cd40-429b-8a5f-c71790c7ee67/model_metrics.json\n"
          ],
          "name": "stderr"
        },
        {
          "output_type": "stream",
          "text": [
            "number of features: 1024\n",
            " 65%|██████▌   | 13/20 [23:08<11:15, 96.43s/it, best loss: 0.9814497066360043]"
          ],
          "name": "stdout"
        },
        {
          "output_type": "stream",
          "text": [
            "2021-04-01 22:47:21,352 Previous dataset split restored\n"
          ],
          "name": "stderr"
        },
        {
          "output_type": "stream",
          "text": [
            "n_cnt\n",
            "[18642.]\n",
            "y_means\n",
            "[5.19196307]\n",
            "y_stds\n",
            "[1.21382351]\n",
            "TIMING: dataset construction took 0.651 s\n",
            "Loading dataset from disk.\n",
            "TIMING: dataset construction took 0.093 s\n",
            "Loading dataset from disk.\n",
            "TIMING: dataset construction took 0.087 s\n",
            "Loading dataset from disk.\n",
            " 65%|██████▌   | 13/20 [23:14<11:15, 96.43s/it, best loss: 0.9814497066360043]"
          ],
          "name": "stdout"
        },
        {
          "output_type": "stream",
          "text": [
            "2021-04-01 22:47:59,169 Wrote model metadata to file ampl_output/CYP3A4_cur_delaney/RF_ecfp_scaffold_regression/6b4f45f3-97a1-4e60-bca8-e629d555f70b/model_metadata.json\n"
          ],
          "name": "stderr"
        },
        {
          "output_type": "stream",
          "text": [
            "Wrote model tarball to ampl_output/CYP3A4_cur_delaney_model_6b4f45f3-97a1-4e60-bca8-e629d555f70b.tar.gz\n",
            " 65%|██████▌   | 13/20 [23:51<11:15, 96.43s/it, best loss: 0.9814497066360043]"
          ],
          "name": "stdout"
        },
        {
          "output_type": "stream",
          "text": [
            "2021-04-01 22:48:00,387 Wrote model metrics to file ampl_output/CYP3A4_cur_delaney/RF_ecfp_scaffold_regression/6b4f45f3-97a1-4e60-bca8-e629d555f70b/model_metrics.json\n"
          ],
          "name": "stderr"
        },
        {
          "output_type": "stream",
          "text": [
            "number of features: 1024\n",
            " 70%|███████   | 14/20 [25:03<10:11, 101.91s/it, best loss: 0.9814497066360043]"
          ],
          "name": "stdout"
        },
        {
          "output_type": "stream",
          "text": [
            "2021-04-01 22:49:16,200 Previous dataset split restored\n"
          ],
          "name": "stderr"
        },
        {
          "output_type": "stream",
          "text": [
            "n_cnt\n",
            "[18642.]\n",
            "y_means\n",
            "[5.19196307]\n",
            "y_stds\n",
            "[1.21382351]\n",
            "TIMING: dataset construction took 0.656 s\n",
            "Loading dataset from disk.\n",
            "TIMING: dataset construction took 0.089 s\n",
            "Loading dataset from disk.\n",
            "TIMING: dataset construction took 0.087 s\n",
            "Loading dataset from disk.\n",
            " 70%|███████   | 14/20 [25:09<10:11, 101.91s/it, best loss: 0.9814497066360043]"
          ],
          "name": "stdout"
        },
        {
          "output_type": "stream",
          "text": [
            "2021-04-01 22:49:27,755 Wrote model metadata to file ampl_output/CYP3A4_cur_delaney/RF_ecfp_scaffold_regression/6956f770-8135-49eb-90d6-e3342bc2eb7f/model_metadata.json\n"
          ],
          "name": "stderr"
        },
        {
          "output_type": "stream",
          "text": [
            "Wrote model tarball to ampl_output/CYP3A4_cur_delaney_model_6956f770-8135-49eb-90d6-e3342bc2eb7f.tar.gz\n",
            " 70%|███████   | 14/20 [25:20<10:11, 101.91s/it, best loss: 0.9814497066360043]"
          ],
          "name": "stdout"
        },
        {
          "output_type": "stream",
          "text": [
            "2021-04-01 22:49:28,796 Wrote model metrics to file ampl_output/CYP3A4_cur_delaney/RF_ecfp_scaffold_regression/6956f770-8135-49eb-90d6-e3342bc2eb7f/model_metrics.json\n"
          ],
          "name": "stderr"
        },
        {
          "output_type": "stream",
          "text": [
            "number of features: 1024\n",
            " 75%|███████▌  | 15/20 [26:31<08:09, 97.86s/it, best loss: 0.9814497066360043]"
          ],
          "name": "stdout"
        },
        {
          "output_type": "stream",
          "text": [
            "2021-04-01 22:50:44,415 Previous dataset split restored\n"
          ],
          "name": "stderr"
        },
        {
          "output_type": "stream",
          "text": [
            "n_cnt\n",
            "[18642.]\n",
            "y_means\n",
            "[5.19196307]\n",
            "y_stds\n",
            "[1.21382351]\n",
            "TIMING: dataset construction took 0.658 s\n",
            "Loading dataset from disk.\n",
            "TIMING: dataset construction took 0.088 s\n",
            "Loading dataset from disk.\n",
            "TIMING: dataset construction took 0.089 s\n",
            "Loading dataset from disk.\n",
            " 75%|███████▌  | 15/20 [26:37<08:09, 97.86s/it, best loss: 0.9814497066360043]"
          ],
          "name": "stdout"
        },
        {
          "output_type": "stream",
          "text": [
            "2021-04-01 22:51:17,133 Wrote model metadata to file ampl_output/CYP3A4_cur_delaney/RF_ecfp_scaffold_regression/6d8e9e3b-eb2f-4788-ac18-e07ddb991ece/model_metadata.json\n"
          ],
          "name": "stderr"
        },
        {
          "output_type": "stream",
          "text": [
            "Wrote model tarball to ampl_output/CYP3A4_cur_delaney_model_6d8e9e3b-eb2f-4788-ac18-e07ddb991ece.tar.gz\n",
            " 75%|███████▌  | 15/20 [27:10<08:09, 97.86s/it, best loss: 0.9814497066360043]"
          ],
          "name": "stdout"
        },
        {
          "output_type": "stream",
          "text": [
            "2021-04-01 22:51:19,084 Wrote model metrics to file ampl_output/CYP3A4_cur_delaney/RF_ecfp_scaffold_regression/6d8e9e3b-eb2f-4788-ac18-e07ddb991ece/model_metrics.json\n"
          ],
          "name": "stderr"
        },
        {
          "output_type": "stream",
          "text": [
            "number of features: 1024\n",
            " 80%|████████  | 16/20 [28:21<06:46, 101.60s/it, best loss: 0.9814497066360043]"
          ],
          "name": "stdout"
        },
        {
          "output_type": "stream",
          "text": [
            "2021-04-01 22:52:34,502 Previous dataset split restored\n"
          ],
          "name": "stderr"
        },
        {
          "output_type": "stream",
          "text": [
            "n_cnt\n",
            "[18642.]\n",
            "y_means\n",
            "[5.19196307]\n",
            "y_stds\n",
            "[1.21382351]\n",
            "TIMING: dataset construction took 0.657 s\n",
            "Loading dataset from disk.\n",
            "TIMING: dataset construction took 0.090 s\n",
            "Loading dataset from disk.\n",
            "TIMING: dataset construction took 0.087 s\n",
            "Loading dataset from disk.\n",
            " 80%|████████  | 16/20 [28:27<06:46, 101.60s/it, best loss: 0.9814497066360043]"
          ],
          "name": "stdout"
        },
        {
          "output_type": "stream",
          "text": [
            "2021-04-01 22:52:52,652 Wrote model metadata to file ampl_output/CYP3A4_cur_delaney/RF_ecfp_scaffold_regression/00b92abc-7df2-45bd-ba1e-3eca5c90132b/model_metadata.json\n"
          ],
          "name": "stderr"
        },
        {
          "output_type": "stream",
          "text": [
            "Wrote model tarball to ampl_output/CYP3A4_cur_delaney_model_00b92abc-7df2-45bd-ba1e-3eca5c90132b.tar.gz\n",
            " 80%|████████  | 16/20 [28:46<06:46, 101.60s/it, best loss: 0.9814497066360043]"
          ],
          "name": "stdout"
        },
        {
          "output_type": "stream",
          "text": [
            "2021-04-01 22:52:54,840 Wrote model metrics to file ampl_output/CYP3A4_cur_delaney/RF_ecfp_scaffold_regression/00b92abc-7df2-45bd-ba1e-3eca5c90132b/model_metrics.json\n"
          ],
          "name": "stderr"
        },
        {
          "output_type": "stream",
          "text": [
            "number of features: 1024\n",
            " 85%|████████▌ | 17/20 [29:57<04:59, 99.84s/it, best loss: 0.9814497066360043]"
          ],
          "name": "stdout"
        },
        {
          "output_type": "stream",
          "text": [
            "2021-04-01 22:54:10,509 Previous dataset split restored\n"
          ],
          "name": "stderr"
        },
        {
          "output_type": "stream",
          "text": [
            "n_cnt\n",
            "[18642.]\n",
            "y_means\n",
            "[5.19196307]\n",
            "y_stds\n",
            "[1.21382351]\n",
            "TIMING: dataset construction took 0.653 s\n",
            "Loading dataset from disk.\n",
            "TIMING: dataset construction took 0.086 s\n",
            "Loading dataset from disk.\n",
            "TIMING: dataset construction took 0.092 s\n",
            "Loading dataset from disk.\n",
            " 85%|████████▌ | 17/20 [30:03<04:59, 99.84s/it, best loss: 0.9814497066360043]"
          ],
          "name": "stdout"
        },
        {
          "output_type": "stream",
          "text": [
            "2021-04-01 22:54:25,388 Wrote model metadata to file ampl_output/CYP3A4_cur_delaney/RF_ecfp_scaffold_regression/68247bbd-0ecd-4f19-af04-04a88d53040f/model_metadata.json\n"
          ],
          "name": "stderr"
        },
        {
          "output_type": "stream",
          "text": [
            "Wrote model tarball to ampl_output/CYP3A4_cur_delaney_model_68247bbd-0ecd-4f19-af04-04a88d53040f.tar.gz\n",
            " 85%|████████▌ | 17/20 [30:17<04:59, 99.84s/it, best loss: 0.9814497066360043]"
          ],
          "name": "stdout"
        },
        {
          "output_type": "stream",
          "text": [
            "2021-04-01 22:54:26,075 Wrote model metrics to file ampl_output/CYP3A4_cur_delaney/RF_ecfp_scaffold_regression/68247bbd-0ecd-4f19-af04-04a88d53040f/model_metrics.json\n"
          ],
          "name": "stderr"
        },
        {
          "output_type": "stream",
          "text": [
            "number of features: 1024\n",
            " 90%|█████████ | 18/20 [31:28<03:14, 97.25s/it, best loss: 0.9814497066360043]"
          ],
          "name": "stdout"
        },
        {
          "output_type": "stream",
          "text": [
            "2021-04-01 22:55:41,730 Previous dataset split restored\n"
          ],
          "name": "stderr"
        },
        {
          "output_type": "stream",
          "text": [
            "n_cnt\n",
            "[18642.]\n",
            "y_means\n",
            "[5.19196307]\n",
            "y_stds\n",
            "[1.21382351]\n",
            "TIMING: dataset construction took 0.649 s\n",
            "Loading dataset from disk.\n",
            "TIMING: dataset construction took 0.087 s\n",
            "Loading dataset from disk.\n",
            "TIMING: dataset construction took 0.086 s\n",
            "Loading dataset from disk.\n",
            " 90%|█████████ | 18/20 [31:34<03:14, 97.25s/it, best loss: 0.9814497066360043]"
          ],
          "name": "stdout"
        },
        {
          "output_type": "stream",
          "text": [
            "2021-04-01 22:56:00,792 Wrote model metadata to file ampl_output/CYP3A4_cur_delaney/RF_ecfp_scaffold_regression/646537e5-3544-4292-b8f5-6fe82257c311/model_metadata.json\n"
          ],
          "name": "stderr"
        },
        {
          "output_type": "stream",
          "text": [
            "Wrote model tarball to ampl_output/CYP3A4_cur_delaney_model_646537e5-3544-4292-b8f5-6fe82257c311.tar.gz\n",
            " 90%|█████████ | 18/20 [31:53<03:14, 97.25s/it, best loss: 0.9814497066360043]"
          ],
          "name": "stdout"
        },
        {
          "output_type": "stream",
          "text": [
            "2021-04-01 22:56:02,005 Wrote model metrics to file ampl_output/CYP3A4_cur_delaney/RF_ecfp_scaffold_regression/646537e5-3544-4292-b8f5-6fe82257c311/model_metrics.json\n"
          ],
          "name": "stderr"
        },
        {
          "output_type": "stream",
          "text": [
            "number of features: 1024\n",
            " 95%|█████████▌| 19/20 [33:04<01:36, 96.85s/it, best loss: 0.9814497066360043]"
          ],
          "name": "stdout"
        },
        {
          "output_type": "stream",
          "text": [
            "2021-04-01 22:57:17,253 Previous dataset split restored\n"
          ],
          "name": "stderr"
        },
        {
          "output_type": "stream",
          "text": [
            "n_cnt\n",
            "[18642.]\n",
            "y_means\n",
            "[5.19196307]\n",
            "y_stds\n",
            "[1.21382351]\n",
            "TIMING: dataset construction took 0.655 s\n",
            "Loading dataset from disk.\n",
            "TIMING: dataset construction took 0.084 s\n",
            "Loading dataset from disk.\n",
            "TIMING: dataset construction took 0.085 s\n",
            "Loading dataset from disk.\n",
            " 95%|█████████▌| 19/20 [33:10<01:36, 96.85s/it, best loss: 0.9814497066360043]"
          ],
          "name": "stdout"
        },
        {
          "output_type": "stream",
          "text": [
            "2021-04-01 22:57:27,100 Wrote model metadata to file ampl_output/CYP3A4_cur_delaney/RF_ecfp_scaffold_regression/65a788c8-ef4a-4816-a856-5e4fed4eeb4c/model_metadata.json\n"
          ],
          "name": "stderr"
        },
        {
          "output_type": "stream",
          "text": [
            "Wrote model tarball to ampl_output/CYP3A4_cur_delaney_model_65a788c8-ef4a-4816-a856-5e4fed4eeb4c.tar.gz\n",
            " 95%|█████████▌| 19/20 [33:19<01:36, 96.85s/it, best loss: 0.9814497066360043]"
          ],
          "name": "stdout"
        },
        {
          "output_type": "stream",
          "text": [
            "2021-04-01 22:57:27,878 Wrote model metrics to file ampl_output/CYP3A4_cur_delaney/RF_ecfp_scaffold_regression/65a788c8-ef4a-4816-a856-5e4fed4eeb4c/model_metrics.json\n"
          ],
          "name": "stderr"
        },
        {
          "output_type": "stream",
          "text": [
            "100%|██████████| 20/20 [33:19<00:00, 99.97s/it, best loss: 0.9814497066360043]\n"
          ],
          "name": "stdout"
        }
      ]
    },
    {
      "cell_type": "code",
      "metadata": {
        "id": "sC-LVt3VtPDc",
        "colab": {
          "base_uri": "https://localhost:8080/",
          "height": 635
        },
        "outputId": "6ab6f20a-5c9e-4be0-d04e-dc58f4c9eaf3"
      },
      "source": [
        "r2_list = [1-trials.trials[i][\"result\"][\"loss\"] for i in range(len(trials.trials))]\n",
        "fig, ax = plt.subplots(1,1,figsize=(10,10))\n",
        "sns.lineplot(x=list(range(1,len(trials.trials)+1)), y=r2_list, ax=ax)\n",
        "ax.set_ylim(0.2,0.6)"
      ],
      "execution_count": 54,
      "outputs": [
        {
          "output_type": "execute_result",
          "data": {
            "text/plain": [
              "(0.2, 0.6)"
            ]
          },
          "metadata": {
            "tags": []
          },
          "execution_count": 54
        },
        {
          "output_type": "display_data",
          "data": {
            "image/png": "[encoded data removed]",
            "text/plain": [
              "<Figure size 720x720 with 1 Axes>"
            ]
          },
          "metadata": {
            "tags": []
          }
        }
      ]
    },
    {
      "cell_type": "code",
      "metadata": {
        "id": "-2_z-vFLtUYb"
      },
      "source": [
        "rfe_list = [trials.trials[i][\"result\"][\"rf_estimator\"] for i in range(len(trials.trials))]\n",
        "rfd_list = [trials.trials[i][\"result\"][\"rf_depth\"] for i in range(len(trials.trials))]\n",
        "rff_list = [trials.trials[i][\"result\"][\"rf_feature\"] for i in range(len(trials.trials))]"
      ],
      "execution_count": 55,
      "outputs": []
    },
    {
      "cell_type": "code",
      "metadata": {
        "id": "sDMxDhM5tXHa",
        "colab": {
          "base_uri": "https://localhost:8080/",
          "height": 669
        },
        "outputId": "2cd306e9-74bb-411c-a93e-4c0eac0aa196"
      },
      "source": [
        "perf_df = pd.DataFrame({\"rf_estimators\": rfe_list, \"rf_max_depth\": rfd_list, \"rf_max_features\": rff_list, \"valid_r2_score\": r2_list})\n",
        "perf_df.sort_values(by=\"valid_r2_score\", ascending=False)"
      ],
      "execution_count": 56,
      "outputs": [
        {
          "output_type": "execute_result",
          "data": {
            "text/html": [
              "<div>\n",
              "<style scoped>\n",
              "    .dataframe tbody tr th:only-of-type {\n",
              "        vertical-align: middle;\n",
              "    }\n",
              "\n",
              "    .dataframe tbody tr th {\n",
              "        vertical-align: top;\n",
              "    }\n",
              "\n",
              "    .dataframe thead th {\n",
              "        text-align: right;\n",
              "    }\n",
              "</style>\n",
              "<table border=\"1\" class=\"dataframe\">\n",
              "  <thead>\n",
              "    <tr style=\"text-align: right;\">\n",
              "      <th></th>\n",
              "      <th>rf_estimators</th>\n",
              "      <th>rf_max_depth</th>\n",
              "      <th>rf_max_features</th>\n",
              "      <th>valid_r2_score</th>\n",
              "    </tr>\n",
              "  </thead>\n",
              "  <tbody>\n",
              "    <tr>\n",
              "      <th>5</th>\n",
              "      <td>147</td>\n",
              "      <td>232</td>\n",
              "      <td>220</td>\n",
              "      <td>0.018550</td>\n",
              "    </tr>\n",
              "    <tr>\n",
              "      <th>15</th>\n",
              "      <td>213</td>\n",
              "      <td>75</td>\n",
              "      <td>115</td>\n",
              "      <td>0.017457</td>\n",
              "    </tr>\n",
              "    <tr>\n",
              "      <th>11</th>\n",
              "      <td>118</td>\n",
              "      <td>93</td>\n",
              "      <td>38</td>\n",
              "      <td>0.017258</td>\n",
              "    </tr>\n",
              "    <tr>\n",
              "      <th>10</th>\n",
              "      <td>140</td>\n",
              "      <td>92</td>\n",
              "      <td>40</td>\n",
              "      <td>0.017161</td>\n",
              "    </tr>\n",
              "    <tr>\n",
              "      <th>16</th>\n",
              "      <td>220</td>\n",
              "      <td>97</td>\n",
              "      <td>32</td>\n",
              "      <td>0.017096</td>\n",
              "    </tr>\n",
              "    <tr>\n",
              "      <th>12</th>\n",
              "      <td>123</td>\n",
              "      <td>31</td>\n",
              "      <td>208</td>\n",
              "      <td>0.016971</td>\n",
              "    </tr>\n",
              "    <tr>\n",
              "      <th>0</th>\n",
              "      <td>114</td>\n",
              "      <td>37</td>\n",
              "      <td>200</td>\n",
              "      <td>0.016968</td>\n",
              "    </tr>\n",
              "    <tr>\n",
              "      <th>7</th>\n",
              "      <td>143</td>\n",
              "      <td>239</td>\n",
              "      <td>192</td>\n",
              "      <td>0.016953</td>\n",
              "    </tr>\n",
              "    <tr>\n",
              "      <th>18</th>\n",
              "      <td>120</td>\n",
              "      <td>94</td>\n",
              "      <td>97</td>\n",
              "      <td>0.016913</td>\n",
              "    </tr>\n",
              "    <tr>\n",
              "      <th>3</th>\n",
              "      <td>20</td>\n",
              "      <td>19</td>\n",
              "      <td>201</td>\n",
              "      <td>0.016819</td>\n",
              "    </tr>\n",
              "    <tr>\n",
              "      <th>6</th>\n",
              "      <td>47</td>\n",
              "      <td>85</td>\n",
              "      <td>58</td>\n",
              "      <td>0.016466</td>\n",
              "    </tr>\n",
              "    <tr>\n",
              "      <th>13</th>\n",
              "      <td>133</td>\n",
              "      <td>90</td>\n",
              "      <td>248</td>\n",
              "      <td>0.016443</td>\n",
              "    </tr>\n",
              "    <tr>\n",
              "      <th>1</th>\n",
              "      <td>169</td>\n",
              "      <td>247</td>\n",
              "      <td>225</td>\n",
              "      <td>0.016324</td>\n",
              "    </tr>\n",
              "    <tr>\n",
              "      <th>8</th>\n",
              "      <td>244</td>\n",
              "      <td>233</td>\n",
              "      <td>121</td>\n",
              "      <td>0.016224</td>\n",
              "    </tr>\n",
              "    <tr>\n",
              "      <th>14</th>\n",
              "      <td>104</td>\n",
              "      <td>94</td>\n",
              "      <td>36</td>\n",
              "      <td>0.016201</td>\n",
              "    </tr>\n",
              "    <tr>\n",
              "      <th>2</th>\n",
              "      <td>234</td>\n",
              "      <td>207</td>\n",
              "      <td>134</td>\n",
              "      <td>0.016152</td>\n",
              "    </tr>\n",
              "    <tr>\n",
              "      <th>4</th>\n",
              "      <td>122</td>\n",
              "      <td>74</td>\n",
              "      <td>202</td>\n",
              "      <td>0.015427</td>\n",
              "    </tr>\n",
              "    <tr>\n",
              "      <th>17</th>\n",
              "      <td>71</td>\n",
              "      <td>210</td>\n",
              "      <td>125</td>\n",
              "      <td>0.015319</td>\n",
              "    </tr>\n",
              "    <tr>\n",
              "      <th>19</th>\n",
              "      <td>77</td>\n",
              "      <td>229</td>\n",
              "      <td>37</td>\n",
              "      <td>0.014612</td>\n",
              "    </tr>\n",
              "    <tr>\n",
              "      <th>9</th>\n",
              "      <td>12</td>\n",
              "      <td>62</td>\n",
              "      <td>37</td>\n",
              "      <td>0.014466</td>\n",
              "    </tr>\n",
              "  </tbody>\n",
              "</table>\n",
              "</div>"
            ],
            "text/plain": [
              "    rf_estimators  rf_max_depth  rf_max_features  valid_r2_score\n",
              "5             147           232              220        0.018550\n",
              "15            213            75              115        0.017457\n",
              "11            118            93               38        0.017258\n",
              "10            140            92               40        0.017161\n",
              "16            220            97               32        0.017096\n",
              "12            123            31              208        0.016971\n",
              "0             114            37              200        0.016968\n",
              "7             143           239              192        0.016953\n",
              "18            120            94               97        0.016913\n",
              "3              20            19              201        0.016819\n",
              "6              47            85               58        0.016466\n",
              "13            133            90              248        0.016443\n",
              "1             169           247              225        0.016324\n",
              "8             244           233              121        0.016224\n",
              "14            104            94               36        0.016201\n",
              "2             234           207              134        0.016152\n",
              "4             122            74              202        0.015427\n",
              "17             71           210              125        0.015319\n",
              "19             77           229               37        0.014612\n",
              "9              12            62               37        0.014466"
            ]
          },
          "metadata": {
            "tags": []
          },
          "execution_count": 56
        }
      ]
    },
    {
      "cell_type": "markdown",
      "metadata": {
        "id": "XB0K5BimtYDS"
      },
      "source": [
        "#### Save Bayesian optimization trial object and continue later"
      ]
    },
    {
      "cell_type": "code",
      "metadata": {
        "id": "VzXDDEF_r8h8"
      },
      "source": [
        "# save the trial object\n",
        "trial_file = os.path.join(\"hp_trial.pkl\")\n",
        "with open(trial_file, \"wb\") as f:\n",
        "    pickle.dump(trials, f)"
      ],
      "execution_count": 57,
      "outputs": []
    },
    {
      "cell_type": "code",
      "metadata": {
        "id": "jSWVhsjfsINl"
      },
      "source": [
        "# load the trial object\n",
        "with open(trial_file, \"rb\") as f:\n",
        "    new_trials = pickle.load(f)"
      ],
      "execution_count": 58,
      "outputs": []
    },
    {
      "cell_type": "code",
      "metadata": {
        "id": "IXcOynF7sLMn",
        "colab": {
          "base_uri": "https://localhost:8080/"
        },
        "outputId": "9bb5741f-17fd-4038-fcf2-a41ca77a9e2b"
      },
      "source": [
        "# continue HPO\n",
        "best = fmin(lossfn, space, algo=tpe.suggest, max_evals=50, trials=new_trials)"
      ],
      "execution_count": null,
      "outputs": [
        {
          "output_type": "stream",
          "text": [
            "\r  0%|          | 0/30 [00:00<?, ?it/s, best loss: ?]"
          ],
          "name": "stdout"
        }
      ]
    },
    {
      "cell_type": "code",
      "metadata": {
        "id": "2l-of-gh7Jaq",
        "colab": {
          "base_uri": "https://localhost:8080/",
          "height": 635
        },
        "outputId": "e123e228-7d28-4074-a603-72c15cabae3b"
      },
      "source": [
        "r2_list = [1-new_trials.trials[i][\"result\"][\"loss\"] for i in range(len(new_trials.trials))]\n",
        "fig, ax = plt.subplots(1,1,figsize=(10,10))\n",
        "sns.lineplot(x=list(range(1,len(new_trials.trials)+1)), y=r2_list, ax=ax)\n",
        "ax.set_ylim(0.2,0.6)"
      ],
      "execution_count": null,
      "outputs": [
        {
          "output_type": "execute_result",
          "data": {
            "text/plain": [
              "(0.2, 0.6)"
            ]
          },
          "metadata": {
            "tags": []
          },
          "execution_count": 39
        },
        {
          "output_type": "display_data",
          "data": {
            "image/png": "[encoded data removed]",
            "text/plain": [
              "<Figure size 720x720 with 1 Axes>"
            ]
          },
          "metadata": {
            "tags": []
          }
        }
      ]
    },
    {
      "cell_type": "code",
      "metadata": {
        "id": "lhvjj4tx7LQB"
      },
      "source": [
        "rfe_list = [new_trials.trials[i][\"result\"][\"rf_estimator\"] for i in range(len(new_trials.trials))]\n",
        "rfd_list = [new_trials.trials[i][\"result\"][\"rf_depth\"] for i in range(len(new_trials.trials))]\n",
        "rff_list = [new_trials.trials[i][\"result\"][\"rf_feature\"] for i in range(len(new_trials.trials))]"
      ],
      "execution_count": null,
      "outputs": []
    },
    {
      "cell_type": "code",
      "metadata": {
        "id": "1ELOR0Ij7OVJ",
        "colab": {
          "base_uri": "https://localhost:8080/",
          "height": 1000
        },
        "outputId": "5ea532a4-49d0-42a4-972f-5b3b721e0650"
      },
      "source": [
        "perf_df = pd.DataFrame({\"rf_estimators\": rfe_list, \"rf_max_depth\": rfd_list, \"rf_max_features\": rff_list, \"valid_r2_score\": r2_list})\n",
        "perf_df.sort_values(by=\"valid_r2_score\", ascending=False)"
      ],
      "execution_count": null,
      "outputs": [
        {
          "output_type": "execute_result",
          "data": {
            "text/html": [
              "<div>\n",
              "<style scoped>\n",
              "    .dataframe tbody tr th:only-of-type {\n",
              "        vertical-align: middle;\n",
              "    }\n",
              "\n",
              "    .dataframe tbody tr th {\n",
              "        vertical-align: top;\n",
              "    }\n",
              "\n",
              "    .dataframe thead th {\n",
              "        text-align: right;\n",
              "    }\n",
              "</style>\n",
              "<table border=\"1\" class=\"dataframe\">\n",
              "  <thead>\n",
              "    <tr style=\"text-align: right;\">\n",
              "      <th></th>\n",
              "      <th>rf_estimators</th>\n",
              "      <th>rf_max_depth</th>\n",
              "      <th>rf_max_features</th>\n",
              "      <th>valid_r2_score</th>\n",
              "    </tr>\n",
              "  </thead>\n",
              "  <tbody>\n",
              "    <tr>\n",
              "      <th>11</th>\n",
              "      <td>21</td>\n",
              "      <td>53</td>\n",
              "      <td>232</td>\n",
              "      <td>0.503078</td>\n",
              "    </tr>\n",
              "    <tr>\n",
              "      <th>37</th>\n",
              "      <td>21</td>\n",
              "      <td>68</td>\n",
              "      <td>73</td>\n",
              "      <td>0.486641</td>\n",
              "    </tr>\n",
              "    <tr>\n",
              "      <th>27</th>\n",
              "      <td>78</td>\n",
              "      <td>130</td>\n",
              "      <td>59</td>\n",
              "      <td>0.479570</td>\n",
              "    </tr>\n",
              "    <tr>\n",
              "      <th>15</th>\n",
              "      <td>75</td>\n",
              "      <td>178</td>\n",
              "      <td>153</td>\n",
              "      <td>0.471293</td>\n",
              "    </tr>\n",
              "    <tr>\n",
              "      <th>13</th>\n",
              "      <td>182</td>\n",
              "      <td>213</td>\n",
              "      <td>155</td>\n",
              "      <td>0.469997</td>\n",
              "    </tr>\n",
              "    <tr>\n",
              "      <th>34</th>\n",
              "      <td>47</td>\n",
              "      <td>27</td>\n",
              "      <td>127</td>\n",
              "      <td>0.468915</td>\n",
              "    </tr>\n",
              "    <tr>\n",
              "      <th>41</th>\n",
              "      <td>222</td>\n",
              "      <td>73</td>\n",
              "      <td>177</td>\n",
              "      <td>0.465952</td>\n",
              "    </tr>\n",
              "    <tr>\n",
              "      <th>23</th>\n",
              "      <td>75</td>\n",
              "      <td>138</td>\n",
              "      <td>244</td>\n",
              "      <td>0.465900</td>\n",
              "    </tr>\n",
              "    <tr>\n",
              "      <th>26</th>\n",
              "      <td>52</td>\n",
              "      <td>98</td>\n",
              "      <td>198</td>\n",
              "      <td>0.463136</td>\n",
              "    </tr>\n",
              "    <tr>\n",
              "      <th>35</th>\n",
              "      <td>25</td>\n",
              "      <td>40</td>\n",
              "      <td>236</td>\n",
              "      <td>0.463046</td>\n",
              "    </tr>\n",
              "    <tr>\n",
              "      <th>3</th>\n",
              "      <td>199</td>\n",
              "      <td>168</td>\n",
              "      <td>111</td>\n",
              "      <td>0.460868</td>\n",
              "    </tr>\n",
              "    <tr>\n",
              "      <th>46</th>\n",
              "      <td>136</td>\n",
              "      <td>52</td>\n",
              "      <td>74</td>\n",
              "      <td>0.458684</td>\n",
              "    </tr>\n",
              "    <tr>\n",
              "      <th>4</th>\n",
              "      <td>213</td>\n",
              "      <td>171</td>\n",
              "      <td>146</td>\n",
              "      <td>0.458244</td>\n",
              "    </tr>\n",
              "    <tr>\n",
              "      <th>48</th>\n",
              "      <td>164</td>\n",
              "      <td>82</td>\n",
              "      <td>144</td>\n",
              "      <td>0.458155</td>\n",
              "    </tr>\n",
              "    <tr>\n",
              "      <th>36</th>\n",
              "      <td>95</td>\n",
              "      <td>149</td>\n",
              "      <td>98</td>\n",
              "      <td>0.457613</td>\n",
              "    </tr>\n",
              "    <tr>\n",
              "      <th>19</th>\n",
              "      <td>145</td>\n",
              "      <td>130</td>\n",
              "      <td>251</td>\n",
              "      <td>0.457437</td>\n",
              "    </tr>\n",
              "    <tr>\n",
              "      <th>0</th>\n",
              "      <td>188</td>\n",
              "      <td>240</td>\n",
              "      <td>166</td>\n",
              "      <td>0.457153</td>\n",
              "    </tr>\n",
              "    <tr>\n",
              "      <th>2</th>\n",
              "      <td>194</td>\n",
              "      <td>58</td>\n",
              "      <td>217</td>\n",
              "      <td>0.457107</td>\n",
              "    </tr>\n",
              "    <tr>\n",
              "      <th>18</th>\n",
              "      <td>231</td>\n",
              "      <td>169</td>\n",
              "      <td>33</td>\n",
              "      <td>0.456006</td>\n",
              "    </tr>\n",
              "    <tr>\n",
              "      <th>43</th>\n",
              "      <td>66</td>\n",
              "      <td>67</td>\n",
              "      <td>123</td>\n",
              "      <td>0.455657</td>\n",
              "    </tr>\n",
              "    <tr>\n",
              "      <th>31</th>\n",
              "      <td>118</td>\n",
              "      <td>73</td>\n",
              "      <td>61</td>\n",
              "      <td>0.453447</td>\n",
              "    </tr>\n",
              "    <tr>\n",
              "      <th>8</th>\n",
              "      <td>154</td>\n",
              "      <td>174</td>\n",
              "      <td>254</td>\n",
              "      <td>0.453084</td>\n",
              "    </tr>\n",
              "    <tr>\n",
              "      <th>24</th>\n",
              "      <td>117</td>\n",
              "      <td>209</td>\n",
              "      <td>88</td>\n",
              "      <td>0.452961</td>\n",
              "    </tr>\n",
              "    <tr>\n",
              "      <th>12</th>\n",
              "      <td>135</td>\n",
              "      <td>188</td>\n",
              "      <td>121</td>\n",
              "      <td>0.452686</td>\n",
              "    </tr>\n",
              "    <tr>\n",
              "      <th>28</th>\n",
              "      <td>96</td>\n",
              "      <td>33</td>\n",
              "      <td>68</td>\n",
              "      <td>0.452534</td>\n",
              "    </tr>\n",
              "    <tr>\n",
              "      <th>40</th>\n",
              "      <td>254</td>\n",
              "      <td>87</td>\n",
              "      <td>51</td>\n",
              "      <td>0.451251</td>\n",
              "    </tr>\n",
              "    <tr>\n",
              "      <th>1</th>\n",
              "      <td>85</td>\n",
              "      <td>63</td>\n",
              "      <td>84</td>\n",
              "      <td>0.445769</td>\n",
              "    </tr>\n",
              "    <tr>\n",
              "      <th>45</th>\n",
              "      <td>48</td>\n",
              "      <td>118</td>\n",
              "      <td>159</td>\n",
              "      <td>0.444790</td>\n",
              "    </tr>\n",
              "    <tr>\n",
              "      <th>32</th>\n",
              "      <td>82</td>\n",
              "      <td>94</td>\n",
              "      <td>107</td>\n",
              "      <td>0.441358</td>\n",
              "    </tr>\n",
              "    <tr>\n",
              "      <th>29</th>\n",
              "      <td>162</td>\n",
              "      <td>79</td>\n",
              "      <td>61</td>\n",
              "      <td>0.440522</td>\n",
              "    </tr>\n",
              "    <tr>\n",
              "      <th>16</th>\n",
              "      <td>195</td>\n",
              "      <td>54</td>\n",
              "      <td>39</td>\n",
              "      <td>0.438847</td>\n",
              "    </tr>\n",
              "    <tr>\n",
              "      <th>17</th>\n",
              "      <td>54</td>\n",
              "      <td>182</td>\n",
              "      <td>175</td>\n",
              "      <td>0.438776</td>\n",
              "    </tr>\n",
              "    <tr>\n",
              "      <th>21</th>\n",
              "      <td>107</td>\n",
              "      <td>10</td>\n",
              "      <td>189</td>\n",
              "      <td>0.433999</td>\n",
              "    </tr>\n",
              "    <tr>\n",
              "      <th>10</th>\n",
              "      <td>63</td>\n",
              "      <td>46</td>\n",
              "      <td>15</td>\n",
              "      <td>0.433279</td>\n",
              "    </tr>\n",
              "    <tr>\n",
              "      <th>20</th>\n",
              "      <td>9</td>\n",
              "      <td>112</td>\n",
              "      <td>86</td>\n",
              "      <td>0.432095</td>\n",
              "    </tr>\n",
              "    <tr>\n",
              "      <th>9</th>\n",
              "      <td>97</td>\n",
              "      <td>154</td>\n",
              "      <td>30</td>\n",
              "      <td>0.424299</td>\n",
              "    </tr>\n",
              "    <tr>\n",
              "      <th>47</th>\n",
              "      <td>237</td>\n",
              "      <td>36</td>\n",
              "      <td>24</td>\n",
              "      <td>0.421759</td>\n",
              "    </tr>\n",
              "    <tr>\n",
              "      <th>25</th>\n",
              "      <td>32</td>\n",
              "      <td>24</td>\n",
              "      <td>137</td>\n",
              "      <td>0.414704</td>\n",
              "    </tr>\n",
              "    <tr>\n",
              "      <th>22</th>\n",
              "      <td>22</td>\n",
              "      <td>105</td>\n",
              "      <td>226</td>\n",
              "      <td>0.413760</td>\n",
              "    </tr>\n",
              "    <tr>\n",
              "      <th>14</th>\n",
              "      <td>37</td>\n",
              "      <td>245</td>\n",
              "      <td>41</td>\n",
              "      <td>0.413560</td>\n",
              "    </tr>\n",
              "    <tr>\n",
              "      <th>7</th>\n",
              "      <td>40</td>\n",
              "      <td>233</td>\n",
              "      <td>166</td>\n",
              "      <td>0.412893</td>\n",
              "    </tr>\n",
              "    <tr>\n",
              "      <th>49</th>\n",
              "      <td>16</td>\n",
              "      <td>157</td>\n",
              "      <td>94</td>\n",
              "      <td>0.412296</td>\n",
              "    </tr>\n",
              "    <tr>\n",
              "      <th>42</th>\n",
              "      <td>33</td>\n",
              "      <td>47</td>\n",
              "      <td>137</td>\n",
              "      <td>0.410986</td>\n",
              "    </tr>\n",
              "    <tr>\n",
              "      <th>5</th>\n",
              "      <td>253</td>\n",
              "      <td>9</td>\n",
              "      <td>198</td>\n",
              "      <td>0.408888</td>\n",
              "    </tr>\n",
              "    <tr>\n",
              "      <th>39</th>\n",
              "      <td>176</td>\n",
              "      <td>13</td>\n",
              "      <td>75</td>\n",
              "      <td>0.408231</td>\n",
              "    </tr>\n",
              "    <tr>\n",
              "      <th>6</th>\n",
              "      <td>12</td>\n",
              "      <td>83</td>\n",
              "      <td>224</td>\n",
              "      <td>0.406540</td>\n",
              "    </tr>\n",
              "    <tr>\n",
              "      <th>38</th>\n",
              "      <td>18</td>\n",
              "      <td>61</td>\n",
              "      <td>212</td>\n",
              "      <td>0.405387</td>\n",
              "    </tr>\n",
              "    <tr>\n",
              "      <th>30</th>\n",
              "      <td>9</td>\n",
              "      <td>133</td>\n",
              "      <td>106</td>\n",
              "      <td>0.386669</td>\n",
              "    </tr>\n",
              "    <tr>\n",
              "      <th>33</th>\n",
              "      <td>67</td>\n",
              "      <td>118</td>\n",
              "      <td>10</td>\n",
              "      <td>0.375568</td>\n",
              "    </tr>\n",
              "    <tr>\n",
              "      <th>44</th>\n",
              "      <td>123</td>\n",
              "      <td>16</td>\n",
              "      <td>17</td>\n",
              "      <td>0.367235</td>\n",
              "    </tr>\n",
              "  </tbody>\n",
              "</table>\n",
              "</div>"
            ],
            "text/plain": [
              "    rf_estimators  rf_max_depth  rf_max_features  valid_r2_score\n",
              "11             21            53              232        0.503078\n",
              "37             21            68               73        0.486641\n",
              "27             78           130               59        0.479570\n",
              "15             75           178              153        0.471293\n",
              "13            182           213              155        0.469997\n",
              "34             47            27              127        0.468915\n",
              "41            222            73              177        0.465952\n",
              "23             75           138              244        0.465900\n",
              "26             52            98              198        0.463136\n",
              "35             25            40              236        0.463046\n",
              "3             199           168              111        0.460868\n",
              "46            136            52               74        0.458684\n",
              "4             213           171              146        0.458244\n",
              "48            164            82              144        0.458155\n",
              "36             95           149               98        0.457613\n",
              "19            145           130              251        0.457437\n",
              "0             188           240              166        0.457153\n",
              "2             194            58              217        0.457107\n",
              "18            231           169               33        0.456006\n",
              "43             66            67              123        0.455657\n",
              "31            118            73               61        0.453447\n",
              "8             154           174              254        0.453084\n",
              "24            117           209               88        0.452961\n",
              "12            135           188              121        0.452686\n",
              "28             96            33               68        0.452534\n",
              "40            254            87               51        0.451251\n",
              "1              85            63               84        0.445769\n",
              "45             48           118              159        0.444790\n",
              "32             82            94              107        0.441358\n",
              "29            162            79               61        0.440522\n",
              "16            195            54               39        0.438847\n",
              "17             54           182              175        0.438776\n",
              "21            107            10              189        0.433999\n",
              "10             63            46               15        0.433279\n",
              "20              9           112               86        0.432095\n",
              "9              97           154               30        0.424299\n",
              "47            237            36               24        0.421759\n",
              "25             32            24              137        0.414704\n",
              "22             22           105              226        0.413760\n",
              "14             37           245               41        0.413560\n",
              "7              40           233              166        0.412893\n",
              "49             16           157               94        0.412296\n",
              "42             33            47              137        0.410986\n",
              "5             253             9              198        0.408888\n",
              "39            176            13               75        0.408231\n",
              "6              12            83              224        0.406540\n",
              "38             18            61              212        0.405387\n",
              "30              9           133              106        0.386669\n",
              "33             67           118               10        0.375568\n",
              "44            123            16               17        0.367235"
            ]
          },
          "metadata": {
            "tags": []
          },
          "execution_count": 41
        }
      ]
    }
  ]
}